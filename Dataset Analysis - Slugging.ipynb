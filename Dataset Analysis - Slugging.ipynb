{
 "cells": [
  {
   "cell_type": "markdown",
   "metadata": {},
   "source": [
    "### Analysis of the severe slugging data (3W dataset)"
   ]
  },
  {
   "cell_type": "code",
   "execution_count": 1,
   "metadata": {},
   "outputs": [],
   "source": [
    "import os\n",
    "import pandas as pd\n",
    "import matplotlib.pyplot as plt\n",
    "from gtda.pipeline import Pipeline\n",
    "from gtda.time_series import Resampler\n",
    "from gtda.diagrams import PersistenceEntropy, Scaler, HeatKernel, BettiCurve\n",
    "import numpy as np\n",
    "from gtda.time_series import SingleTakensEmbedding, takens_embedding_optimal_parameters, TakensEmbedding\n",
    "from sklearn.decomposition import PCA\n",
    "from gtda.plotting import plot_point_cloud\n",
    "from gtda.homology import VietorisRipsPersistence\n",
    "from gtda.metaestimators import CollectionTransformer\n",
    "import plotly.express as px\n",
    "import statistics as stats"
   ]
  },
  {
   "cell_type": "markdown",
   "metadata": {},
   "source": [
    "This notebook explores the severe slugging events part of the 3W dataset [R.E.V. Vargas et al. J. Pet. Sci. Eng.,\n",
    "*181*, 106223 (2019)], partially simulated and and partially from offshore data. \\\n",
    "First we read the dataset and, from the multi-variate timeseries, we select only the wellhead pressure (P-TPT). Then we downsample the time series to 3000 points, in order to keep the computational effort for TDA to a manageable level. "
   ]
  },
  {
   "cell_type": "code",
   "execution_count": 2,
   "metadata": {},
   "outputs": [],
   "source": [
    "def find_shortest_file(path, label):\n",
    "    tmp = []\n",
    "    os.chdir(path)\n",
    "    for file in os.listdir():\n",
    "        data_df = pd.read_csv(file)\n",
    "        tmp.append(len(data_df[label]))\n",
    "    return min(tmp)"
   ]
  },
  {
   "cell_type": "code",
   "execution_count": 3,
   "metadata": {},
   "outputs": [],
   "source": [
    "def read_files(path, label, limit):\n",
    "    data = []\n",
    "    os.chdir(path)\n",
    "    i = 0\n",
    "    for file in os.listdir():\n",
    "        data_df = pd.read_csv(file)\n",
    "        # fill NaN with an interpolated value\n",
    "        data_df = data_df.interpolate()\n",
    "        period = int(len(data_df)/limit)\n",
    "        periodicSampler = Resampler(period=period)\n",
    "        print(i,file)\n",
    "        # resample the files to that all of them are the same length (in entries)\n",
    "        # NOTE: timestamps are omitted and timesteps are going to be different for each resampled time series!\n",
    "        index_sampled, signal_sampled = periodicSampler.fit_transform_resample(data_df.index, data_df[label])\n",
    "        data.append(signal_sampled)\n",
    "        i += 1\n",
    "    data_T = list(map(list, zip(*data)))\n",
    "    data = np.array(data_T)\n",
    "    df = pd.DataFrame.from_records(data_T)\n",
    "    return data.T, df"
   ]
  },
  {
   "cell_type": "code",
   "execution_count": 5,
   "metadata": {},
   "outputs": [
    {
     "data": {
      "text/plain": [
       "12999"
      ]
     },
     "execution_count": 5,
     "metadata": {},
     "output_type": "execute_result"
    }
   ],
   "source": [
    "find_shortest_file(\"/Users/simo/repos/RareEventsDataset/3w_dataset-master/data/data/3/ALL/\", \"P-TPT\")"
   ]
  },
  {
   "cell_type": "code",
   "execution_count": 6,
   "metadata": {
    "scrolled": true
   },
   "outputs": [
    {
     "name": "stdout",
     "output_type": "stream",
     "text": [
      "0 SIMULATED_00035.csv\n",
      "1 SIMULATED_00021.csv\n",
      "2 SIMULATED_00009.csv\n",
      "3 WELL-00014_20170921200114.csv\n",
      "4 WELL-00014_20170925160218.csv\n",
      "5 WELL-00014_20170926170228.csv\n",
      "6 SIMULATED_00008.csv\n",
      "7 SIMULATED_00020.csv\n",
      "8 SIMULATED_00034.csv\n",
      "9 SIMULATED_00022.csv\n",
      "10 WELL-00014_20170920010042.csv\n",
      "11 SIMULATED_00036.csv\n",
      "12 WELL-00014_20170920060228.csv\n",
      "13 WELL-00014_20170921050404.csv\n",
      "14 SIMULATED_00037.csv\n",
      "15 SIMULATED_00023.csv\n",
      "16 WELL-00014_20170921100155.csv\n",
      "17 SIMULATED_00027.csv\n",
      "18 WELL-00001_20170320130025.csv\n",
      "19 WELL-00014_20170920110053.csv\n",
      "20 SIMULATED_00033.csv\n",
      "21 WELL-00014_20170922060124.csv\n",
      "22 SIMULATED_00032.csv\n",
      "23 SIMULATED_00026.csv\n",
      "24 SIMULATED_00018.csv\n",
      "25 SIMULATED_00030.csv\n",
      "26 SIMULATED_00024.csv\n",
      "27 WELL-00014_20170926020340.csv\n",
      "28 WELL-00014_20171028130000.csv\n",
      "29 SIMULATED_00025.csv\n",
      "30 SIMULATED_00031.csv\n",
      "31 SIMULATED_00019.csv\n",
      "32 SIMULATED_00056.csv\n",
      "33 SIMULATED_00042.csv\n",
      "34 WELL-00014_20170925210042.csv\n",
      "35 WELL-00014_20171028080000.csv\n",
      "36 SIMULATED_00043.csv\n",
      "37 SIMULATED_00057.csv\n",
      "38 SIMULATED_00041.csv\n",
      "39 SIMULATED_00055.csv\n",
      "40 SIMULATED_00069.csv\n",
      "41 WELL-00014_20170921000053.csv\n",
      "42 SIMULATED_00068.csv\n",
      "43 SIMULATED_00054.csv\n",
      "44 SIMULATED_00040.csv\n",
      "45 WELL-00014_20170919210016.csv\n",
      "46 SIMULATED_00044.csv\n",
      "47 SIMULATED_00050.csv\n",
      "48 WELL-00014_20170925060042.csv\n",
      "49 SIMULATED_00051.csv\n",
      "50 SIMULATED_00045.csv\n",
      "51 SIMULATED_00053.csv\n",
      "52 SIMULATED_00047.csv\n",
      "53 WELL-00014_20171028180038.csv\n",
      "54 SIMULATED_00046.csv\n",
      "55 SIMULATED_00052.csv\n",
      "56 SIMULATED_00063.csv\n",
      "57 WELL-00014_20170920190207.csv\n",
      "58 WELL-00014_20170925010031.csv\n",
      "59 WELL-00014_20170918020114.csv\n",
      "60 SIMULATED_00062.csv\n",
      "61 SIMULATED_00060.csv\n",
      "62 SIMULATED_00074.csv\n",
      "63 SIMULATED_00048.csv\n",
      "64 WELL-00014_20170917200000.csv\n",
      "65 WELL-00014_20170926070042.csv\n",
      "66 WELL-00014_20170922010042.csv\n",
      "67 WELL-00014_20170922110042.csv\n",
      "68 WELL-00014_20170918120103.csv\n",
      "69 SIMULATED_00049.csv\n",
      "70 WELL-00014_20170921150042.csv\n",
      "71 SIMULATED_00061.csv\n",
      "72 SIMULATED_00059.csv\n",
      "73 SIMULATED_00065.csv\n",
      "74 SIMULATED_00071.csv\n",
      "75 WELL-00014_20170926120103.csv\n",
      "76 SIMULATED_00070.csv\n",
      "77 SIMULATED_00064.csv\n",
      "78 SIMULATED_00058.csv\n",
      "79 SIMULATED_00072.csv\n",
      "80 SIMULATED_00066.csv\n",
      "81 WELL-00014_20170918070135.csv\n",
      "82 SIMULATED_00067.csv\n",
      "83 SIMULATED_00073.csv\n",
      "84 SIMULATED_00014.csv\n",
      "85 SIMULATED_00028.csv\n",
      "86 WELL-00014_20170922160249.csv\n",
      "87 SIMULATED_00029.csv\n",
      "88 SIMULATED_00001.csv\n",
      "89 SIMULATED_00015.csv\n",
      "90 SIMULATED_00003.csv\n",
      "91 SIMULATED_00017.csv\n",
      "92 WELL-00014_20170925110124.csv\n",
      "93 WELL-00014_20170917150000.csv\n",
      "94 SIMULATED_00016.csv\n",
      "95 SIMULATED_00002.csv\n",
      "96 SIMULATED_00006.csv\n",
      "97 SIMULATED_00012.csv\n",
      "98 SIMULATED_00013.csv\n",
      "99 SIMULATED_00007.csv\n",
      "100 SIMULATED_00039.csv\n",
      "101 SIMULATED_00011.csv\n",
      "102 SIMULATED_00005.csv\n",
      "103 SIMULATED_00004.csv\n",
      "104 SIMULATED_00010.csv\n",
      "105 SIMULATED_00038.csv\n"
     ]
    }
   ],
   "source": [
    "slugging_signals, slugging_df = read_files(\"/Users/simo/repos/RareEventsDataset/3w_dataset-master/data/data/3/ALL/\", \"P-TPT\",3000)"
   ]
  },
  {
   "cell_type": "code",
   "execution_count": 7,
   "metadata": {},
   "outputs": [],
   "source": [
    "PatoBar = 1/100000\n",
    "slugging_df = slugging_df.apply(lambda x: x*PatoBar) \n",
    "slugging_signals = slugging_signals * PatoBar"
   ]
  },
  {
   "cell_type": "markdown",
   "metadata": {},
   "source": [
    "We have a total of 105 severe slugging events: 33 real events and 75 simulated one (with OLGA)"
   ]
  },
  {
   "cell_type": "code",
   "execution_count": 8,
   "metadata": {},
   "outputs": [
    {
     "data": {
      "text/html": [
       "<div>\n",
       "<style scoped>\n",
       "    .dataframe tbody tr th:only-of-type {\n",
       "        vertical-align: middle;\n",
       "    }\n",
       "\n",
       "    .dataframe tbody tr th {\n",
       "        vertical-align: top;\n",
       "    }\n",
       "\n",
       "    .dataframe thead th {\n",
       "        text-align: right;\n",
       "    }\n",
       "</style>\n",
       "<table border=\"1\" class=\"dataframe\">\n",
       "  <thead>\n",
       "    <tr style=\"text-align: right;\">\n",
       "      <th></th>\n",
       "      <th>0</th>\n",
       "      <th>1</th>\n",
       "      <th>2</th>\n",
       "      <th>3</th>\n",
       "      <th>4</th>\n",
       "      <th>5</th>\n",
       "      <th>6</th>\n",
       "      <th>7</th>\n",
       "      <th>8</th>\n",
       "      <th>9</th>\n",
       "      <th>...</th>\n",
       "      <th>96</th>\n",
       "      <th>97</th>\n",
       "      <th>98</th>\n",
       "      <th>99</th>\n",
       "      <th>100</th>\n",
       "      <th>101</th>\n",
       "      <th>102</th>\n",
       "      <th>103</th>\n",
       "      <th>104</th>\n",
       "      <th>105</th>\n",
       "    </tr>\n",
       "  </thead>\n",
       "  <tbody>\n",
       "    <tr>\n",
       "      <th>0</th>\n",
       "      <td>96.17383</td>\n",
       "      <td>108.2988</td>\n",
       "      <td>174.7420</td>\n",
       "      <td>159.2380</td>\n",
       "      <td>163.6436</td>\n",
       "      <td>145.4572</td>\n",
       "      <td>177.5400</td>\n",
       "      <td>105.3062</td>\n",
       "      <td>167.5515</td>\n",
       "      <td>88.11328</td>\n",
       "      <td>...</td>\n",
       "      <td>180.6620</td>\n",
       "      <td>185.6920</td>\n",
       "      <td>126.3246</td>\n",
       "      <td>177.2877</td>\n",
       "      <td>113.0322</td>\n",
       "      <td>199.9919</td>\n",
       "      <td>168.0768</td>\n",
       "      <td>178.6139</td>\n",
       "      <td>201.1752</td>\n",
       "      <td>153.7390</td>\n",
       "    </tr>\n",
       "    <tr>\n",
       "      <th>1</th>\n",
       "      <td>96.76311</td>\n",
       "      <td>108.3681</td>\n",
       "      <td>174.5841</td>\n",
       "      <td>159.1861</td>\n",
       "      <td>163.6372</td>\n",
       "      <td>145.4879</td>\n",
       "      <td>177.7650</td>\n",
       "      <td>105.3761</td>\n",
       "      <td>167.6486</td>\n",
       "      <td>86.81970</td>\n",
       "      <td>...</td>\n",
       "      <td>180.8188</td>\n",
       "      <td>185.7704</td>\n",
       "      <td>125.9113</td>\n",
       "      <td>177.3547</td>\n",
       "      <td>112.5648</td>\n",
       "      <td>199.9090</td>\n",
       "      <td>168.0295</td>\n",
       "      <td>178.4102</td>\n",
       "      <td>201.3706</td>\n",
       "      <td>153.7529</td>\n",
       "    </tr>\n",
       "    <tr>\n",
       "      <th>2</th>\n",
       "      <td>97.34932</td>\n",
       "      <td>108.4361</td>\n",
       "      <td>174.4556</td>\n",
       "      <td>159.1272</td>\n",
       "      <td>163.6238</td>\n",
       "      <td>145.5183</td>\n",
       "      <td>177.9906</td>\n",
       "      <td>105.4452</td>\n",
       "      <td>167.7342</td>\n",
       "      <td>85.65844</td>\n",
       "      <td>...</td>\n",
       "      <td>180.9651</td>\n",
       "      <td>185.8555</td>\n",
       "      <td>125.5987</td>\n",
       "      <td>177.4126</td>\n",
       "      <td>111.3727</td>\n",
       "      <td>199.8285</td>\n",
       "      <td>167.9745</td>\n",
       "      <td>178.2195</td>\n",
       "      <td>201.5635</td>\n",
       "      <td>153.7604</td>\n",
       "    </tr>\n",
       "    <tr>\n",
       "      <th>3</th>\n",
       "      <td>97.93384</td>\n",
       "      <td>108.5042</td>\n",
       "      <td>174.3357</td>\n",
       "      <td>159.0721</td>\n",
       "      <td>163.6229</td>\n",
       "      <td>145.5528</td>\n",
       "      <td>178.2196</td>\n",
       "      <td>105.5107</td>\n",
       "      <td>167.8100</td>\n",
       "      <td>84.64813</td>\n",
       "      <td>...</td>\n",
       "      <td>181.1152</td>\n",
       "      <td>185.9351</td>\n",
       "      <td>125.3948</td>\n",
       "      <td>177.4723</td>\n",
       "      <td>108.4301</td>\n",
       "      <td>199.7467</td>\n",
       "      <td>167.9240</td>\n",
       "      <td>178.0705</td>\n",
       "      <td>201.7437</td>\n",
       "      <td>153.7613</td>\n",
       "    </tr>\n",
       "    <tr>\n",
       "      <th>4</th>\n",
       "      <td>98.51336</td>\n",
       "      <td>108.5681</td>\n",
       "      <td>174.2306</td>\n",
       "      <td>158.9737</td>\n",
       "      <td>163.6395</td>\n",
       "      <td>145.5905</td>\n",
       "      <td>178.4324</td>\n",
       "      <td>105.5737</td>\n",
       "      <td>167.8849</td>\n",
       "      <td>83.80443</td>\n",
       "      <td>...</td>\n",
       "      <td>181.2598</td>\n",
       "      <td>185.9948</td>\n",
       "      <td>125.2949</td>\n",
       "      <td>177.5293</td>\n",
       "      <td>105.1093</td>\n",
       "      <td>199.6501</td>\n",
       "      <td>167.8513</td>\n",
       "      <td>177.9159</td>\n",
       "      <td>201.9234</td>\n",
       "      <td>153.7554</td>\n",
       "    </tr>\n",
       "    <tr>\n",
       "      <th>...</th>\n",
       "      <td>...</td>\n",
       "      <td>...</td>\n",
       "      <td>...</td>\n",
       "      <td>...</td>\n",
       "      <td>...</td>\n",
       "      <td>...</td>\n",
       "      <td>...</td>\n",
       "      <td>...</td>\n",
       "      <td>...</td>\n",
       "      <td>...</td>\n",
       "      <td>...</td>\n",
       "      <td>...</td>\n",
       "      <td>...</td>\n",
       "      <td>...</td>\n",
       "      <td>...</td>\n",
       "      <td>...</td>\n",
       "      <td>...</td>\n",
       "      <td>...</td>\n",
       "      <td>...</td>\n",
       "      <td>...</td>\n",
       "      <td>...</td>\n",
       "    </tr>\n",
       "    <tr>\n",
       "      <th>3039</th>\n",
       "      <td>94.53171</td>\n",
       "      <td>102.3036</td>\n",
       "      <td>182.5136</td>\n",
       "      <td>148.4925</td>\n",
       "      <td>143.0031</td>\n",
       "      <td>139.0851</td>\n",
       "      <td>183.3203</td>\n",
       "      <td>107.2557</td>\n",
       "      <td>163.5842</td>\n",
       "      <td>100.70980</td>\n",
       "      <td>...</td>\n",
       "      <td>180.4913</td>\n",
       "      <td>198.2009</td>\n",
       "      <td>192.6270</td>\n",
       "      <td>174.9625</td>\n",
       "      <td>118.9467</td>\n",
       "      <td>201.1888</td>\n",
       "      <td>180.3041</td>\n",
       "      <td>184.2655</td>\n",
       "      <td>203.7540</td>\n",
       "      <td>152.3167</td>\n",
       "    </tr>\n",
       "    <tr>\n",
       "      <th>3040</th>\n",
       "      <td>95.12980</td>\n",
       "      <td>102.2921</td>\n",
       "      <td>182.7436</td>\n",
       "      <td>148.2848</td>\n",
       "      <td>143.0901</td>\n",
       "      <td>139.0980</td>\n",
       "      <td>183.1843</td>\n",
       "      <td>107.2109</td>\n",
       "      <td>164.0312</td>\n",
       "      <td>100.93280</td>\n",
       "      <td>...</td>\n",
       "      <td>180.5391</td>\n",
       "      <td>198.0693</td>\n",
       "      <td>192.1176</td>\n",
       "      <td>175.2638</td>\n",
       "      <td>119.1532</td>\n",
       "      <td>201.3474</td>\n",
       "      <td>180.3362</td>\n",
       "      <td>184.3042</td>\n",
       "      <td>203.9058</td>\n",
       "      <td>152.4458</td>\n",
       "    </tr>\n",
       "    <tr>\n",
       "      <th>3041</th>\n",
       "      <td>95.72232</td>\n",
       "      <td>102.2805</td>\n",
       "      <td>182.9678</td>\n",
       "      <td>148.1548</td>\n",
       "      <td>143.1250</td>\n",
       "      <td>139.1262</td>\n",
       "      <td>182.9915</td>\n",
       "      <td>107.1630</td>\n",
       "      <td>164.3872</td>\n",
       "      <td>101.14470</td>\n",
       "      <td>...</td>\n",
       "      <td>180.5942</td>\n",
       "      <td>197.9429</td>\n",
       "      <td>191.5884</td>\n",
       "      <td>175.5548</td>\n",
       "      <td>119.3467</td>\n",
       "      <td>201.4928</td>\n",
       "      <td>180.3737</td>\n",
       "      <td>184.3433</td>\n",
       "      <td>204.0186</td>\n",
       "      <td>152.5718</td>\n",
       "    </tr>\n",
       "    <tr>\n",
       "      <th>3042</th>\n",
       "      <td>96.31479</td>\n",
       "      <td>102.2690</td>\n",
       "      <td>183.1760</td>\n",
       "      <td>147.8562</td>\n",
       "      <td>143.2103</td>\n",
       "      <td>139.1439</td>\n",
       "      <td>182.8281</td>\n",
       "      <td>107.1125</td>\n",
       "      <td>164.6092</td>\n",
       "      <td>101.34700</td>\n",
       "      <td>...</td>\n",
       "      <td>180.6801</td>\n",
       "      <td>197.8125</td>\n",
       "      <td>191.0758</td>\n",
       "      <td>175.8483</td>\n",
       "      <td>119.5316</td>\n",
       "      <td>201.6354</td>\n",
       "      <td>180.4196</td>\n",
       "      <td>184.3867</td>\n",
       "      <td>204.1487</td>\n",
       "      <td>152.6944</td>\n",
       "    </tr>\n",
       "    <tr>\n",
       "      <th>3043</th>\n",
       "      <td>96.90836</td>\n",
       "      <td>102.2576</td>\n",
       "      <td>183.3807</td>\n",
       "      <td>147.5953</td>\n",
       "      <td>143.2905</td>\n",
       "      <td>139.1743</td>\n",
       "      <td>182.6505</td>\n",
       "      <td>107.0587</td>\n",
       "      <td>164.9642</td>\n",
       "      <td>101.54000</td>\n",
       "      <td>...</td>\n",
       "      <td>180.7428</td>\n",
       "      <td>197.6823</td>\n",
       "      <td>190.5902</td>\n",
       "      <td>176.1458</td>\n",
       "      <td>119.7079</td>\n",
       "      <td>201.7746</td>\n",
       "      <td>180.4779</td>\n",
       "      <td>184.4392</td>\n",
       "      <td>204.2937</td>\n",
       "      <td>152.8132</td>\n",
       "    </tr>\n",
       "  </tbody>\n",
       "</table>\n",
       "<p>3044 rows × 106 columns</p>\n",
       "</div>"
      ],
      "text/plain": [
       "           0         1         2         3         4         5         6    \\\n",
       "0     96.17383  108.2988  174.7420  159.2380  163.6436  145.4572  177.5400   \n",
       "1     96.76311  108.3681  174.5841  159.1861  163.6372  145.4879  177.7650   \n",
       "2     97.34932  108.4361  174.4556  159.1272  163.6238  145.5183  177.9906   \n",
       "3     97.93384  108.5042  174.3357  159.0721  163.6229  145.5528  178.2196   \n",
       "4     98.51336  108.5681  174.2306  158.9737  163.6395  145.5905  178.4324   \n",
       "...        ...       ...       ...       ...       ...       ...       ...   \n",
       "3039  94.53171  102.3036  182.5136  148.4925  143.0031  139.0851  183.3203   \n",
       "3040  95.12980  102.2921  182.7436  148.2848  143.0901  139.0980  183.1843   \n",
       "3041  95.72232  102.2805  182.9678  148.1548  143.1250  139.1262  182.9915   \n",
       "3042  96.31479  102.2690  183.1760  147.8562  143.2103  139.1439  182.8281   \n",
       "3043  96.90836  102.2576  183.3807  147.5953  143.2905  139.1743  182.6505   \n",
       "\n",
       "           7         8          9    ...       96        97        98   \\\n",
       "0     105.3062  167.5515   88.11328  ...  180.6620  185.6920  126.3246   \n",
       "1     105.3761  167.6486   86.81970  ...  180.8188  185.7704  125.9113   \n",
       "2     105.4452  167.7342   85.65844  ...  180.9651  185.8555  125.5987   \n",
       "3     105.5107  167.8100   84.64813  ...  181.1152  185.9351  125.3948   \n",
       "4     105.5737  167.8849   83.80443  ...  181.2598  185.9948  125.2949   \n",
       "...        ...       ...        ...  ...       ...       ...       ...   \n",
       "3039  107.2557  163.5842  100.70980  ...  180.4913  198.2009  192.6270   \n",
       "3040  107.2109  164.0312  100.93280  ...  180.5391  198.0693  192.1176   \n",
       "3041  107.1630  164.3872  101.14470  ...  180.5942  197.9429  191.5884   \n",
       "3042  107.1125  164.6092  101.34700  ...  180.6801  197.8125  191.0758   \n",
       "3043  107.0587  164.9642  101.54000  ...  180.7428  197.6823  190.5902   \n",
       "\n",
       "           99        100       101       102       103       104       105  \n",
       "0     177.2877  113.0322  199.9919  168.0768  178.6139  201.1752  153.7390  \n",
       "1     177.3547  112.5648  199.9090  168.0295  178.4102  201.3706  153.7529  \n",
       "2     177.4126  111.3727  199.8285  167.9745  178.2195  201.5635  153.7604  \n",
       "3     177.4723  108.4301  199.7467  167.9240  178.0705  201.7437  153.7613  \n",
       "4     177.5293  105.1093  199.6501  167.8513  177.9159  201.9234  153.7554  \n",
       "...        ...       ...       ...       ...       ...       ...       ...  \n",
       "3039  174.9625  118.9467  201.1888  180.3041  184.2655  203.7540  152.3167  \n",
       "3040  175.2638  119.1532  201.3474  180.3362  184.3042  203.9058  152.4458  \n",
       "3041  175.5548  119.3467  201.4928  180.3737  184.3433  204.0186  152.5718  \n",
       "3042  175.8483  119.5316  201.6354  180.4196  184.3867  204.1487  152.6944  \n",
       "3043  176.1458  119.7079  201.7746  180.4779  184.4392  204.2937  152.8132  \n",
       "\n",
       "[3044 rows x 106 columns]"
      ]
     },
     "execution_count": 8,
     "metadata": {},
     "output_type": "execute_result"
    }
   ],
   "source": [
    "slugging_df"
   ]
  },
  {
   "cell_type": "markdown",
   "metadata": {},
   "source": [
    "Let's show how one of these time series looks in detail "
   ]
  },
  {
   "cell_type": "code",
   "execution_count": 11,
   "metadata": {},
   "outputs": [
    {
     "name": "stdout",
     "output_type": "stream",
     "text": [
      "freq units: 3.285151E-05 Hz\n"
     ]
    },
    {
     "data": {
      "text/plain": [
       "<AxesSubplot:xlabel='BHP (Bar)', ylabel='count'>"
      ]
     },
     "execution_count": 11,
     "metadata": {},
     "output_type": "execute_result"
    },
    {
     "data": {
      "image/png": "[encoded data removed]",
      "text/plain": [
       "<Figure size 1224x216 with 3 Axes>"
      ]
     },
     "metadata": {
      "needs_background": "light"
     },
     "output_type": "display_data"
    }
   ],
   "source": [
    "from random import gauss\n",
    "from random import seed\n",
    "from pandas.plotting import autocorrelation_plot\n",
    "from statsmodels.graphics.gofplots import qqplot\n",
    "\n",
    "fig_ss_analysis, data = plt.subplots(1, 3, figsize=(17, 3))\n",
    "freq_units = 0.1/len(slugging_df[21])\n",
    "print('freq units: %(units)4E Hz' %{\"units\":(freq_units)})\n",
    "\n",
    "fig_ss_analysis.suptitle('slugging BHP stats')\n",
    "data[0].set_xlabel('time')\n",
    "data[0].set_ylabel('BHP (Bar)')\n",
    "data[1].set_xlabel('freq (%(units).2E Hz)' %{\"units\":(freq_units)})\n",
    "data[1].set_ylabel('power spectrum')\n",
    "data[2].set_xlabel('BHP (Bar)')\n",
    "data[2].set_ylabel('count')\n",
    "\n",
    "data[1].set_xlim(2,1000)\n",
    "data[1].set_yscale('log')\n",
    "data[1].set_xscale('log')\n",
    "\n",
    "#ss_BHP = slugging_df[35]\n",
    "ss_BHP = slugging_df[23]\n",
    "\n",
    "fft_ss = np.fft.rfft(ss_BHP)\n",
    "fft_ss_abs = np.abs(fft_ss)\n",
    "power_spectrum_ss = np.square(fft_ss_abs)\n",
    "\n",
    "\n",
    "data[0].plot(ss_BHP)\n",
    "data[1].plot(power_spectrum_ss)\n",
    "ss_BHP.hist()"
   ]
  },
  {
   "cell_type": "code",
   "execution_count": 21,
   "metadata": {},
   "outputs": [],
   "source": [
    "# write file for making figures  \n",
    "file = open(\"slugging_3W.dat\", \"w\")\n",
    "for i in ss_BHP:\n",
    "    tmp = str(i) + \"\\n\"\n",
    "    file.writelines(tmp)\n",
    "file.close()"
   ]
  },
  {
   "cell_type": "markdown",
   "metadata": {},
   "source": [
    "We then perform Takens embedding [F. Takens, Lecture Notes in Mathematics *898* (1981)] to produce a point cloud form the time series."
   ]
  },
  {
   "cell_type": "code",
   "execution_count": 73,
   "metadata": {},
   "outputs": [
    {
     "name": "stdout",
     "output_type": "stream",
     "text": [
      "length of signal to analyze 1014\n",
      "Optimal embedding time delay based on mutual information: 50\n",
      "Optimal embedding dimension based on false nearest neighbors: 11\n"
     ]
    },
    {
     "data": {
      "application/vnd.plotly.v1+json": {
       "config": {
        "plotlyServerURL": "https://plot.ly"
       },
       "data": [
        {
         "marker": {
          "color": [
           0,
           1,
           2,
           3,
           4,
           5,
           6,
           7,
           8,
           9,
           10,
           11,
           12,
           13,
           14,
           15,
           16,
           17,
           18,
           19,
           20,
           21,
           22,
           23,
           24,
           25,
           26,
           27,
           28,
           29,
           30,
           31,
           32,
           33,
           34,
           35,
           36,
           37,
           38,
           39,
           40,
           41,
           42,
           43,
           44,
           45,
           46,
           47,
           48,
           49,
           50,
           51,
           52,
           53,
           54,
           55,
           56,
           57,
           58,
           59,
           60,
           61,
           62,
           63,
           64,
           65,
           66,
           67,
           68,
           69,
           70,
           71,
           72,
           73,
           74,
           75,
           76,
           77,
           78,
           79,
           80,
           81,
           82,
           83,
           84,
           85,
           86,
           87,
           88,
           89,
           90,
           91,
           92,
           93,
           94,
           95,
           96,
           97,
           98,
           99,
           100,
           101,
           102,
           103,
           104,
           105,
           106,
           107,
           108,
           109,
           110,
           111,
           112,
           113,
           114,
           115,
           116,
           117,
           118,
           119,
           120,
           121,
           122,
           123,
           124,
           125,
           126,
           127,
           128,
           129,
           130,
           131,
           132,
           133,
           134,
           135,
           136,
           137,
           138,
           139,
           140,
           141,
           142,
           143,
           144,
           145,
           146,
           147,
           148,
           149,
           150,
           151,
           152,
           153,
           154,
           155,
           156,
           157,
           158,
           159,
           160,
           161,
           162,
           163,
           164,
           165,
           166,
           167,
           168,
           169,
           170,
           171,
           172,
           173,
           174,
           175,
           176,
           177,
           178,
           179,
           180,
           181,
           182,
           183,
           184,
           185,
           186,
           187,
           188,
           189,
           190,
           191,
           192,
           193,
           194,
           195,
           196,
           197
          ],
          "colorscale": [
           [
            0,
            "#440154"
           ],
           [
            0.1111111111111111,
            "#482878"
           ],
           [
            0.2222222222222222,
            "#3e4989"
           ],
           [
            0.3333333333333333,
            "#31688e"
           ],
           [
            0.4444444444444444,
            "#26828e"
           ],
           [
            0.5555555555555556,
            "#1f9e89"
           ],
           [
            0.6666666666666666,
            "#35b779"
           ],
           [
            0.7777777777777778,
            "#6ece58"
           ],
           [
            0.8888888888888888,
            "#b5de2b"
           ],
           [
            1,
            "#fde725"
           ]
          ],
          "opacity": 0.8,
          "size": 4
         },
         "mode": "markers",
         "type": "scatter3d",
         "x": [
          61.248937677070174,
          64.20345292538178,
          64.82620292140622,
          63.2097442238896,
          59.52652276114961,
          53.90895188284778,
          46.59054033678135,
          37.79122244557943,
          27.830515671855174,
          17.017161616720966,
          5.72473989383491,
          -5.719800687381162,
          -16.923778160445497,
          -27.601329088147082,
          -37.32680238958422,
          -45.566835789240464,
          -52.38227236567055,
          -57.6298019335016,
          -61.46495569813068,
          -63.39135549771027,
          -63.50306407394959,
          -61.63130719641013,
          -57.79704748344658,
          -52.19331367532278,
          -44.99081342184192,
          -36.46059982416392,
          -26.8429972484361,
          -16.450371174791773,
          -5.559175227040245,
          5.473824223705166,
          16.37488093097469,
          26.728249511388633,
          36.61022660858958,
          45.78622519386512,
          53.76356716921555,
          59.796093524485926,
          63.599794133592404,
          65.1602482712024,
          64.38228498054536,
          61.52207085170802,
          56.71952138469589,
          50.141408796910184,
          42.00795153816789,
          32.57356076537997,
          22.15734740382544,
          11.076778697703435,
          -0.31047887246864264,
          -11.67380430010467,
          -22.632044533502608,
          -32.90328574114842,
          -41.931377475339985,
          -49.62097120766089,
          -55.72047514513332,
          -60.325732472016014,
          -63.094439429536756,
          -63.98543940486202,
          -62.937878026890445,
          -59.93403393667384,
          -55.09639959337743,
          -48.599098079574155,
          -40.669034285207836,
          -31.54064249241504,
          -21.505765784787393,
          -10.823374215972366,
          0.1723596541532117,
          11.185886684884098,
          21.842397345794712,
          32.01437644024326,
          41.76058770063222,
          50.502040168938265,
          57.606348970064914,
          62.38896610794867,
          64.95148857671343,
          65.15607482599601,
          63.185270538590274,
          59.25660840921019,
          53.484501631959326,
          46.06871916898964,
          37.234489596154795,
          27.28660140136122,
          16.49523118147402,
          5.248919149957355,
          -6.17675661003566,
          -17.355310732853912,
          -28.022672147995205,
          -37.738156049379214,
          -46.19747656244587,
          -53.20043941258578,
          -58.59707175083563,
          -62.27124755197253,
          -64.00879378018963,
          -63.832155038121314,
          -61.71119113564642,
          -57.70563064610948,
          -51.97743416560296,
          -44.70966183525022,
          -36.14142505420848,
          -26.51927868159558,
          -16.131540231260313,
          -5.244696899883109,
          5.784137609697896,
          16.682662093484893,
          27.083813084689595,
          37.20098066548959,
          46.58381922687636,
          54.658965720261754,
          60.55724398498963,
          64.16869914796894,
          65.45351155692026,
          64.44907468072054,
          61.431016684546584,
          56.52200749630954,
          49.89089803918004,
          41.72908663596575,
          32.309050398425185,
          21.91058616148454,
          10.86440371510186,
          -0.5045959642058131,
          -11.855326477378341,
          -22.80310816116645,
          -33.06474899032017,
          -42.206525924293445,
          -50.063320036693376,
          -56.3178974975372,
          -60.89122439923343,
          -63.559474249479976,
          -64.2957766725848,
          -63.07974254448526,
          -59.96488391288474,
          -55.05041657037355,
          -48.50464481158463,
          -40.55970754756869,
          -31.42609591414602,
          -21.40553121879775,
          -10.725754052403936,
          0.2595479473465752,
          11.27397555494431,
          21.93001176131143,
          32.25792194817722,
          42.14189188641706,
          51.03183463448002,
          58.08333505804329,
          62.80408356636241,
          65.20383559521996,
          65.26774377488498,
          63.20264204834509,
          59.204314743732375,
          53.40309198676414,
          45.97496339782459,
          37.15367584517606,
          27.230826699122943,
          16.46485553378355,
          5.248536304062453,
          -6.16893082765844,
          -17.337588885904076,
          -28.006247583783935,
          -37.759011809293895,
          -46.36691711563504,
          -53.503465828731755,
          -58.96854242953984,
          -62.59204581463971,
          -64.27354479332497,
          -63.99680596746863,
          -61.80464413861765,
          -57.75201892306872,
          -51.99986030114017,
          -44.72893403011778,
          -36.166058005364185,
          -26.561075191105235,
          -16.192910884442554,
          -5.313346502040445,
          5.7066819441590235,
          16.60525388282949,
          27.076143638861044,
          37.312168871120626,
          46.822870359863465,
          54.934525399862764,
          60.82048506328719,
          64.37406346872959,
          65.57403944909369,
          64.51705221404568,
          61.4622934324657,
          56.54430957475137,
          49.918268941834754,
          41.77242857098229,
          32.384971191976355,
          22.013943439547223,
          10.99716141240211,
          -0.35789168903823154,
          -11.70415935347514,
          -22.655058807558277,
          -32.93355640185544,
          -42.18002984998818,
          -50.15161228430306,
          -56.5174431798604,
          -61.09436361744983,
          -63.753921132446706,
          -64.44700542861425
         ],
         "y": [
          22.99660320555946,
          12.013035913922474,
          0.7800793472780552,
          -10.530521468977685,
          -21.389331437082287,
          -31.52712866309133,
          -40.53347027400659,
          -48.15698265249264,
          -54.11354837841578,
          -58.23875960453896,
          -60.38054125717131,
          -60.492131207460446,
          -58.57069046443372,
          -54.6821033874848,
          -48.96981379080993,
          -41.67543494090825,
          -32.95928752498038,
          -23.156159734250313,
          -12.449168285003598,
          -1.3277977862926633,
          10.024926803494491,
          21.06104314095831,
          31.575393111755854,
          41.127606912981705,
          49.515720101188116,
          56.424271501452594,
          61.70162196763137,
          65.14973437092166,
          66.71635198392627,
          66.32170432941652,
          64.0116077465685,
          59.845070452130074,
          53.925712865792114,
          46.46462730318729,
          37.68020287303519,
          27.834269434983906,
          17.179773038139686,
          6.033838986950216,
          -5.232250649779907,
          -16.295664050965854,
          -26.741766264742584,
          -36.271947116978765,
          -44.532098585282384,
          -51.28250645377801,
          -56.2833856369103,
          -59.39156853112594,
          -60.48983626001507,
          -59.57119845649237,
          -56.637523452970406,
          -51.818322313958554,
          -45.28978412363793,
          -37.21876188237464,
          -27.914270474750044,
          -17.572954125159654,
          -6.6417026129763785,
          4.630701030953556,
          15.796176919785857,
          26.559346214847707,
          36.54846286774403,
          45.49449280216531,
          53.102051114096085,
          59.17526715054175,
          63.51236249531822,
          66.01290604319453,
          66.58181401974745,
          65.22536622196068,
          61.97982293448955,
          56.92457748885417,
          50.20635527936278,
          42.04942038103947,
          32.66558412396192,
          22.385894756512343,
          11.424743246854742,
          0.2285775865078409,
          -10.958774116782783,
          -21.686668111251116,
          -31.674654820235265,
          -40.537724758618964,
          -48.04443180532127,
          -53.89412511707141,
          -57.95311626808629,
          -60.04288091198078,
          -60.13650760826486,
          -58.20495984998008,
          -54.32738582593322,
          -48.634326949076176,
          -41.30636060209642,
          -32.56866962238381,
          -22.691408370974685,
          -12.010754096913324,
          -0.8851665467011058,
          10.352046326300025,
          21.308601572309634,
          31.682087725986868,
          41.136922638826434,
          49.411900491121,
          56.24204745721476,
          61.457984378133126,
          64.86513131999696,
          66.41828058207153,
          66.0195291822677,
          63.72643553625632,
          59.57964812153441,
          53.680266976576895,
          46.22372492731487,
          37.40729724754666,
          27.544528931646752,
          16.873599286313976,
          5.7779098408578,
          -5.444358664009787,
          -16.39964059298874,
          -26.773193090144055,
          -36.19380587146725,
          -44.39526005930217,
          -51.07426407404673,
          -56.046527660613364,
          -59.13293582331019,
          -60.233014860206204,
          -59.331202185742576,
          -56.423769304736894,
          -51.63838777295595,
          -45.11533730604071,
          -37.041951060018405,
          -27.709965750663805,
          -17.37666611615766,
          -6.456133169865937,
          4.763473686571835,
          15.862277625091167,
          26.55511586684583,
          36.462517801441194,
          45.355499919418385,
          52.9053925561138,
          58.95797397202606,
          63.27448651860177,
          65.78450283127165,
          66.36828147993167,
          65.04004406280332,
          61.82656971959197,
          56.80067925011869,
          50.119192148478874,
          41.95542193312318,
          32.58381520622599,
          22.288602358297283,
          11.370439484352644,
          0.19290741968084818,
          -10.923577763047035,
          -21.601521223539777,
          -31.533376355793283,
          -40.352222492938544,
          -47.83484639680125,
          -53.667454254105095,
          -57.73758978205101,
          -59.84180146783095,
          -59.96699570784958,
          -58.0679493727781,
          -54.23371278327873,
          -48.58070315072105,
          -41.26480274211482,
          -32.54339624573111,
          -22.66416226499946,
          -12.015398793630693,
          -0.9046947346096622,
          10.268830754312013,
          21.19618238065601,
          31.512688955429958,
          40.94373277014516,
          49.18997781851553,
          56.01516710972205,
          61.238366493696354,
          64.66309195449249,
          66.24585543259887,
          65.88116635445844,
          63.63152328951825,
          59.52935926495511,
          53.678768388100124,
          46.254526909730664,
          37.456961270017366,
          27.60474605602699,
          16.952716378339485,
          5.890782290099557,
          -5.3059110163355205,
          -16.215577636780402,
          -26.570131967265752,
          -35.96035301996563,
          -44.162312684222286,
          -50.84031773365439,
          -55.8336541260568,
          -58.94599667623891,
          -60.08338025173854,
          -59.22942405419023,
          -56.37325186438925,
          -51.64863976524892,
          -45.16487833690481,
          -37.12914339646419,
          -27.809044057513848,
          -17.50826178225713,
          -6.603085050428552,
          4.583611222424961
         ],
         "z": [
          -21.19285060686434,
          -22.689223254233617,
          -21.15387830962115,
          -16.724398151880585,
          -10.250944180755413,
          -2.385363942537879,
          5.670815724038815,
          12.972911493115056,
          18.525501209476257,
          21.631319475032182,
          21.948125285846608,
          19.405431163425796,
          14.409696326332483,
          7.519713272784553,
          -0.28686504718767586,
          -7.7754813807558545,
          -14.29319533032116,
          -19.11061807714502,
          -21.85221489129357,
          -21.870457377480914,
          -19.19438688486469,
          -14.1362223080811,
          -7.145894341649858,
          0.6641762136660442,
          8.540869673034658,
          15.40201434301215,
          20.5558039974927,
          23.36078245788098,
          23.50304559110295,
          21.003164897798136,
          16.10314221200161,
          9.509693711442365,
          1.616550485204045,
          -6.7018278393324735,
          -14.303871022690815,
          -19.845691139992216,
          -22.59440368047308,
          -22.33472693244833,
          -19.044225402001878,
          -13.347045079939623,
          -6.0079661464885,
          2.080200625475585,
          9.817024679542902,
          16.271840413934967,
          20.585161590987777,
          22.257151912018504,
          21.079138017416263,
          17.21067159887603,
          11.170312022544618,
          3.6615402553324743,
          -4.132452681928992,
          -11.39676779804989,
          -17.213557800328,
          -21.093050523022043,
          -22.380122248238848,
          -20.882938744010097,
          -16.83290021792926,
          -10.589282497753683,
          -3.0781660753490074,
          4.878847862714993,
          12.286393725219494,
          18.332197923739162,
          22.312253246522694,
          23.762934360918727,
          22.535900616379895,
          18.76291789897798,
          12.93972097467602,
          5.57280175297711,
          -2.8101408971492785,
          -11.015590352002665,
          -17.73123579620352,
          -21.79446281877068,
          -22.91119292163021,
          -20.953513296010023,
          -16.245127092729938,
          -9.607252873815796,
          -1.7385552647476026,
          6.243265894301149,
          13.428250687401576,
          18.843090771254033,
          21.842485138773394,
          22.079707612672983,
          19.49007497695468,
          14.478502253615478,
          7.582971767046763,
          -0.21499585540401456,
          -7.941423534856658,
          -14.672148851721984,
          -19.62805405529538,
          -22.22597936678352,
          -22.02502808032307,
          -19.118583805930967,
          -13.82965407007693,
          -6.820721734644838,
          1.007213967161581,
          8.78436881729189,
          15.566100835258435,
          20.631114674744094,
          23.35969377639799,
          23.4610935970699,
          20.930218431200363,
          16.051800537307717,
          9.42844263109676,
          1.3314019071857701,
          -7.1667704173627795,
          -14.84689051566296,
          -20.251375466737947,
          -22.795913209598986,
          -22.28962753437267,
          -18.786506434332097,
          -13.012398849469944,
          -5.623862924656155,
          2.392425795976521,
          10.082842716067853,
          16.45243099396674,
          20.714841897414082,
          22.354288807873065,
          21.159983801300047,
          17.314500403388674,
          11.289450216472094,
          3.816114129843444,
          -4.086387297155634,
          -11.528429861491508,
          -17.502748359978785,
          -21.36085505545338,
          -22.54518107378148,
          -20.9180500951868,
          -16.730632196324834,
          -10.44226377361358,
          -2.944449130056058,
          4.980960879718018,
          12.330109641837414,
          18.341676317190597,
          22.28345355780038,
          23.72760831342671,
          22.51451489456495,
          18.766610761288526,
          12.990144701748626,
          5.507630492355962,
          -2.9784611908115184,
          -11.30507485669232,
          -17.968749305937155,
          -21.955860642791578,
          -22.942397933824264,
          -20.849807137044106,
          -16.10367797896437,
          -9.429983827439175,
          -1.6015363698655716,
          6.349893284059247,
          13.49352494320156,
          18.88203509754266,
          21.891518262541297,
          22.147206779701282,
          19.59720740944673,
          14.631538032614337,
          7.774792647746267,
          -0.027621899047719698,
          -7.895684213371781,
          -14.76309086312417,
          -19.790039092303378,
          -22.358773680396048,
          -22.108177303773537,
          -19.150262245752423,
          -13.809993885502339,
          -6.829465324186549,
          0.9919860068716052,
          8.72650960156878,
          15.499649377870101,
          20.563322477588834,
          23.306763923809807,
          23.446911656631826,
          20.962853013805404,
          16.14415707062081,
          9.50701217063829,
          1.3402514561546033,
          -7.249489552740228,
          -14.953606297408674,
          -20.344598434649576,
          -22.84570551367437,
          -22.28571192727977,
          -18.75249112330564,
          -12.984908293176701,
          -5.60811453581548,
          2.3698973399939955,
          10.051932166822674,
          16.4131994850823,
          20.700244557148277,
          22.3851951983656,
          21.244469826279705,
          17.46339324373718,
          11.490329714846787,
          4.056934907596748,
          -3.92030888008209,
          -11.469159067672718,
          -17.553697280927906,
          -21.437773316961497,
          -22.629233470377695,
          -20.991435039309003
         ]
        }
       ],
       "layout": {
        "scene": {
         "xaxis": {
          "exponentformat": "e",
          "showexponent": "all",
          "title": {
           "text": "0th"
          },
          "type": "linear"
         },
         "yaxis": {
          "exponentformat": "e",
          "showexponent": "all",
          "title": {
           "text": "1st"
          },
          "type": "linear"
         },
         "zaxis": {
          "exponentformat": "e",
          "showexponent": "all",
          "title": {
           "text": "2nd"
          },
          "type": "linear"
         }
        },
        "template": {
         "data": {
          "bar": [
           {
            "error_x": {
             "color": "#2a3f5f"
            },
            "error_y": {
             "color": "#2a3f5f"
            },
            "marker": {
             "line": {
              "color": "#E5ECF6",
              "width": 0.5
             },
             "pattern": {
              "fillmode": "overlay",
              "size": 10,
              "solidity": 0.2
             }
            },
            "type": "bar"
           }
          ],
          "barpolar": [
           {
            "marker": {
             "line": {
              "color": "#E5ECF6",
              "width": 0.5
             },
             "pattern": {
              "fillmode": "overlay",
              "size": 10,
              "solidity": 0.2
             }
            },
            "type": "barpolar"
           }
          ],
          "carpet": [
           {
            "aaxis": {
             "endlinecolor": "#2a3f5f",
             "gridcolor": "white",
             "linecolor": "white",
             "minorgridcolor": "white",
             "startlinecolor": "#2a3f5f"
            },
            "baxis": {
             "endlinecolor": "#2a3f5f",
             "gridcolor": "white",
             "linecolor": "white",
             "minorgridcolor": "white",
             "startlinecolor": "#2a3f5f"
            },
            "type": "carpet"
           }
          ],
          "choropleth": [
           {
            "colorbar": {
             "outlinewidth": 0,
             "ticks": ""
            },
            "type": "choropleth"
           }
          ],
          "contour": [
           {
            "colorbar": {
             "outlinewidth": 0,
             "ticks": ""
            },
            "colorscale": [
             [
              0,
              "#0d0887"
             ],
             [
              0.1111111111111111,
              "#46039f"
             ],
             [
              0.2222222222222222,
              "#7201a8"
             ],
             [
              0.3333333333333333,
              "#9c179e"
             ],
             [
              0.4444444444444444,
              "#bd3786"
             ],
             [
              0.5555555555555556,
              "#d8576b"
             ],
             [
              0.6666666666666666,
              "#ed7953"
             ],
             [
              0.7777777777777778,
              "#fb9f3a"
             ],
             [
              0.8888888888888888,
              "#fdca26"
             ],
             [
              1,
              "#f0f921"
             ]
            ],
            "type": "contour"
           }
          ],
          "contourcarpet": [
           {
            "colorbar": {
             "outlinewidth": 0,
             "ticks": ""
            },
            "type": "contourcarpet"
           }
          ],
          "heatmap": [
           {
            "colorbar": {
             "outlinewidth": 0,
             "ticks": ""
            },
            "colorscale": [
             [
              0,
              "#0d0887"
             ],
             [
              0.1111111111111111,
              "#46039f"
             ],
             [
              0.2222222222222222,
              "#7201a8"
             ],
             [
              0.3333333333333333,
              "#9c179e"
             ],
             [
              0.4444444444444444,
              "#bd3786"
             ],
             [
              0.5555555555555556,
              "#d8576b"
             ],
             [
              0.6666666666666666,
              "#ed7953"
             ],
             [
              0.7777777777777778,
              "#fb9f3a"
             ],
             [
              0.8888888888888888,
              "#fdca26"
             ],
             [
              1,
              "#f0f921"
             ]
            ],
            "type": "heatmap"
           }
          ],
          "heatmapgl": [
           {
            "colorbar": {
             "outlinewidth": 0,
             "ticks": ""
            },
            "colorscale": [
             [
              0,
              "#0d0887"
             ],
             [
              0.1111111111111111,
              "#46039f"
             ],
             [
              0.2222222222222222,
              "#7201a8"
             ],
             [
              0.3333333333333333,
              "#9c179e"
             ],
             [
              0.4444444444444444,
              "#bd3786"
             ],
             [
              0.5555555555555556,
              "#d8576b"
             ],
             [
              0.6666666666666666,
              "#ed7953"
             ],
             [
              0.7777777777777778,
              "#fb9f3a"
             ],
             [
              0.8888888888888888,
              "#fdca26"
             ],
             [
              1,
              "#f0f921"
             ]
            ],
            "type": "heatmapgl"
           }
          ],
          "histogram": [
           {
            "marker": {
             "pattern": {
              "fillmode": "overlay",
              "size": 10,
              "solidity": 0.2
             }
            },
            "type": "histogram"
           }
          ],
          "histogram2d": [
           {
            "colorbar": {
             "outlinewidth": 0,
             "ticks": ""
            },
            "colorscale": [
             [
              0,
              "#0d0887"
             ],
             [
              0.1111111111111111,
              "#46039f"
             ],
             [
              0.2222222222222222,
              "#7201a8"
             ],
             [
              0.3333333333333333,
              "#9c179e"
             ],
             [
              0.4444444444444444,
              "#bd3786"
             ],
             [
              0.5555555555555556,
              "#d8576b"
             ],
             [
              0.6666666666666666,
              "#ed7953"
             ],
             [
              0.7777777777777778,
              "#fb9f3a"
             ],
             [
              0.8888888888888888,
              "#fdca26"
             ],
             [
              1,
              "#f0f921"
             ]
            ],
            "type": "histogram2d"
           }
          ],
          "histogram2dcontour": [
           {
            "colorbar": {
             "outlinewidth": 0,
             "ticks": ""
            },
            "colorscale": [
             [
              0,
              "#0d0887"
             ],
             [
              0.1111111111111111,
              "#46039f"
             ],
             [
              0.2222222222222222,
              "#7201a8"
             ],
             [
              0.3333333333333333,
              "#9c179e"
             ],
             [
              0.4444444444444444,
              "#bd3786"
             ],
             [
              0.5555555555555556,
              "#d8576b"
             ],
             [
              0.6666666666666666,
              "#ed7953"
             ],
             [
              0.7777777777777778,
              "#fb9f3a"
             ],
             [
              0.8888888888888888,
              "#fdca26"
             ],
             [
              1,
              "#f0f921"
             ]
            ],
            "type": "histogram2dcontour"
           }
          ],
          "mesh3d": [
           {
            "colorbar": {
             "outlinewidth": 0,
             "ticks": ""
            },
            "type": "mesh3d"
           }
          ],
          "parcoords": [
           {
            "line": {
             "colorbar": {
              "outlinewidth": 0,
              "ticks": ""
             }
            },
            "type": "parcoords"
           }
          ],
          "pie": [
           {
            "automargin": true,
            "type": "pie"
           }
          ],
          "scatter": [
           {
            "marker": {
             "colorbar": {
              "outlinewidth": 0,
              "ticks": ""
             }
            },
            "type": "scatter"
           }
          ],
          "scatter3d": [
           {
            "line": {
             "colorbar": {
              "outlinewidth": 0,
              "ticks": ""
             }
            },
            "marker": {
             "colorbar": {
              "outlinewidth": 0,
              "ticks": ""
             }
            },
            "type": "scatter3d"
           }
          ],
          "scattercarpet": [
           {
            "marker": {
             "colorbar": {
              "outlinewidth": 0,
              "ticks": ""
             }
            },
            "type": "scattercarpet"
           }
          ],
          "scattergeo": [
           {
            "marker": {
             "colorbar": {
              "outlinewidth": 0,
              "ticks": ""
             }
            },
            "type": "scattergeo"
           }
          ],
          "scattergl": [
           {
            "marker": {
             "colorbar": {
              "outlinewidth": 0,
              "ticks": ""
             }
            },
            "type": "scattergl"
           }
          ],
          "scattermapbox": [
           {
            "marker": {
             "colorbar": {
              "outlinewidth": 0,
              "ticks": ""
             }
            },
            "type": "scattermapbox"
           }
          ],
          "scatterpolar": [
           {
            "marker": {
             "colorbar": {
              "outlinewidth": 0,
              "ticks": ""
             }
            },
            "type": "scatterpolar"
           }
          ],
          "scatterpolargl": [
           {
            "marker": {
             "colorbar": {
              "outlinewidth": 0,
              "ticks": ""
             }
            },
            "type": "scatterpolargl"
           }
          ],
          "scatterternary": [
           {
            "marker": {
             "colorbar": {
              "outlinewidth": 0,
              "ticks": ""
             }
            },
            "type": "scatterternary"
           }
          ],
          "surface": [
           {
            "colorbar": {
             "outlinewidth": 0,
             "ticks": ""
            },
            "colorscale": [
             [
              0,
              "#0d0887"
             ],
             [
              0.1111111111111111,
              "#46039f"
             ],
             [
              0.2222222222222222,
              "#7201a8"
             ],
             [
              0.3333333333333333,
              "#9c179e"
             ],
             [
              0.4444444444444444,
              "#bd3786"
             ],
             [
              0.5555555555555556,
              "#d8576b"
             ],
             [
              0.6666666666666666,
              "#ed7953"
             ],
             [
              0.7777777777777778,
              "#fb9f3a"
             ],
             [
              0.8888888888888888,
              "#fdca26"
             ],
             [
              1,
              "#f0f921"
             ]
            ],
            "type": "surface"
           }
          ],
          "table": [
           {
            "cells": {
             "fill": {
              "color": "#EBF0F8"
             },
             "line": {
              "color": "white"
             }
            },
            "header": {
             "fill": {
              "color": "#C8D4E3"
             },
             "line": {
              "color": "white"
             }
            },
            "type": "table"
           }
          ]
         },
         "layout": {
          "annotationdefaults": {
           "arrowcolor": "#2a3f5f",
           "arrowhead": 0,
           "arrowwidth": 1
          },
          "autotypenumbers": "strict",
          "coloraxis": {
           "colorbar": {
            "outlinewidth": 0,
            "ticks": ""
           }
          },
          "colorscale": {
           "diverging": [
            [
             0,
             "#8e0152"
            ],
            [
             0.1,
             "#c51b7d"
            ],
            [
             0.2,
             "#de77ae"
            ],
            [
             0.3,
             "#f1b6da"
            ],
            [
             0.4,
             "#fde0ef"
            ],
            [
             0.5,
             "#f7f7f7"
            ],
            [
             0.6,
             "#e6f5d0"
            ],
            [
             0.7,
             "#b8e186"
            ],
            [
             0.8,
             "#7fbc41"
            ],
            [
             0.9,
             "#4d9221"
            ],
            [
             1,
             "#276419"
            ]
           ],
           "sequential": [
            [
             0,
             "#0d0887"
            ],
            [
             0.1111111111111111,
             "#46039f"
            ],
            [
             0.2222222222222222,
             "#7201a8"
            ],
            [
             0.3333333333333333,
             "#9c179e"
            ],
            [
             0.4444444444444444,
             "#bd3786"
            ],
            [
             0.5555555555555556,
             "#d8576b"
            ],
            [
             0.6666666666666666,
             "#ed7953"
            ],
            [
             0.7777777777777778,
             "#fb9f3a"
            ],
            [
             0.8888888888888888,
             "#fdca26"
            ],
            [
             1,
             "#f0f921"
            ]
           ],
           "sequentialminus": [
            [
             0,
             "#0d0887"
            ],
            [
             0.1111111111111111,
             "#46039f"
            ],
            [
             0.2222222222222222,
             "#7201a8"
            ],
            [
             0.3333333333333333,
             "#9c179e"
            ],
            [
             0.4444444444444444,
             "#bd3786"
            ],
            [
             0.5555555555555556,
             "#d8576b"
            ],
            [
             0.6666666666666666,
             "#ed7953"
            ],
            [
             0.7777777777777778,
             "#fb9f3a"
            ],
            [
             0.8888888888888888,
             "#fdca26"
            ],
            [
             1,
             "#f0f921"
            ]
           ]
          },
          "colorway": [
           "#636efa",
           "#EF553B",
           "#00cc96",
           "#ab63fa",
           "#FFA15A",
           "#19d3f3",
           "#FF6692",
           "#B6E880",
           "#FF97FF",
           "#FECB52"
          ],
          "font": {
           "color": "#2a3f5f"
          },
          "geo": {
           "bgcolor": "white",
           "lakecolor": "white",
           "landcolor": "#E5ECF6",
           "showlakes": true,
           "showland": true,
           "subunitcolor": "white"
          },
          "hoverlabel": {
           "align": "left"
          },
          "hovermode": "closest",
          "mapbox": {
           "style": "light"
          },
          "paper_bgcolor": "white",
          "plot_bgcolor": "#E5ECF6",
          "polar": {
           "angularaxis": {
            "gridcolor": "white",
            "linecolor": "white",
            "ticks": ""
           },
           "bgcolor": "#E5ECF6",
           "radialaxis": {
            "gridcolor": "white",
            "linecolor": "white",
            "ticks": ""
           }
          },
          "scene": {
           "xaxis": {
            "backgroundcolor": "#E5ECF6",
            "gridcolor": "white",
            "gridwidth": 2,
            "linecolor": "white",
            "showbackground": true,
            "ticks": "",
            "zerolinecolor": "white"
           },
           "yaxis": {
            "backgroundcolor": "#E5ECF6",
            "gridcolor": "white",
            "gridwidth": 2,
            "linecolor": "white",
            "showbackground": true,
            "ticks": "",
            "zerolinecolor": "white"
           },
           "zaxis": {
            "backgroundcolor": "#E5ECF6",
            "gridcolor": "white",
            "gridwidth": 2,
            "linecolor": "white",
            "showbackground": true,
            "ticks": "",
            "zerolinecolor": "white"
           }
          },
          "shapedefaults": {
           "line": {
            "color": "#2a3f5f"
           }
          },
          "ternary": {
           "aaxis": {
            "gridcolor": "white",
            "linecolor": "white",
            "ticks": ""
           },
           "baxis": {
            "gridcolor": "white",
            "linecolor": "white",
            "ticks": ""
           },
           "bgcolor": "#E5ECF6",
           "caxis": {
            "gridcolor": "white",
            "linecolor": "white",
            "ticks": ""
           }
          },
          "title": {
           "x": 0.05
          },
          "xaxis": {
           "automargin": true,
           "gridcolor": "white",
           "linecolor": "white",
           "ticks": "",
           "title": {
            "standoff": 15
           },
           "zerolinecolor": "white",
           "zerolinewidth": 2
          },
          "yaxis": {
           "automargin": true,
           "gridcolor": "white",
           "linecolor": "white",
           "ticks": "",
           "title": {
            "standoff": 15
           },
           "zerolinecolor": "white",
           "zerolinewidth": 2
          }
         }
        },
        "xaxis": {
         "dtick": 10,
         "range": [
          -15,
          15
         ],
         "tick0": 0,
         "tickmode": "linear"
        },
        "yaxis": {
         "dtick": 500,
         "range": [
          -15,
          15
         ],
         "tick0": -500,
         "tickmode": "linear"
        }
       }
      },
      "text/html": [
       "<div>                            <div id=\"5d5134e2-a975-4520-9643-b0a9a343e8c0\" class=\"plotly-graph-div\" style=\"height:525px; width:100%;\"></div>            <script type=\"text/javascript\">                require([\"plotly\"], function(Plotly) {                    window.PLOTLYENV=window.PLOTLYENV || {};                                    if (document.getElementById(\"5d5134e2-a975-4520-9643-b0a9a343e8c0\")) {                    Plotly.newPlot(                        \"5d5134e2-a975-4520-9643-b0a9a343e8c0\",                        [{\"marker\":{\"color\":[0,1,2,3,4,5,6,7,8,9,10,11,12,13,14,15,16,17,18,19,20,21,22,23,24,25,26,27,28,29,30,31,32,33,34,35,36,37,38,39,40,41,42,43,44,45,46,47,48,49,50,51,52,53,54,55,56,57,58,59,60,61,62,63,64,65,66,67,68,69,70,71,72,73,74,75,76,77,78,79,80,81,82,83,84,85,86,87,88,89,90,91,92,93,94,95,96,97,98,99,100,101,102,103,104,105,106,107,108,109,110,111,112,113,114,115,116,117,118,119,120,121,122,123,124,125,126,127,128,129,130,131,132,133,134,135,136,137,138,139,140,141,142,143,144,145,146,147,148,149,150,151,152,153,154,155,156,157,158,159,160,161,162,163,164,165,166,167,168,169,170,171,172,173,174,175,176,177,178,179,180,181,182,183,184,185,186,187,188,189,190,191,192,193,194,195,196,197],\"colorscale\":[[0.0,\"#440154\"],[0.1111111111111111,\"#482878\"],[0.2222222222222222,\"#3e4989\"],[0.3333333333333333,\"#31688e\"],[0.4444444444444444,\"#26828e\"],[0.5555555555555556,\"#1f9e89\"],[0.6666666666666666,\"#35b779\"],[0.7777777777777778,\"#6ece58\"],[0.8888888888888888,\"#b5de2b\"],[1.0,\"#fde725\"]],\"opacity\":0.8,\"size\":4},\"mode\":\"markers\",\"type\":\"scatter3d\",\"x\":[61.248937677070174,64.20345292538178,64.82620292140622,63.2097442238896,59.52652276114961,53.90895188284778,46.59054033678135,37.79122244557943,27.830515671855174,17.017161616720966,5.72473989383491,-5.719800687381162,-16.923778160445497,-27.601329088147082,-37.32680238958422,-45.566835789240464,-52.38227236567055,-57.6298019335016,-61.46495569813068,-63.39135549771027,-63.50306407394959,-61.63130719641013,-57.79704748344658,-52.19331367532278,-44.99081342184192,-36.46059982416392,-26.8429972484361,-16.450371174791773,-5.559175227040245,5.473824223705166,16.37488093097469,26.728249511388633,36.61022660858958,45.78622519386512,53.76356716921555,59.796093524485926,63.599794133592404,65.1602482712024,64.38228498054536,61.52207085170802,56.71952138469589,50.141408796910184,42.00795153816789,32.57356076537997,22.15734740382544,11.076778697703435,-0.31047887246864264,-11.67380430010467,-22.632044533502608,-32.90328574114842,-41.931377475339985,-49.62097120766089,-55.72047514513332,-60.325732472016014,-63.094439429536756,-63.98543940486202,-62.937878026890445,-59.93403393667384,-55.09639959337743,-48.599098079574155,-40.669034285207836,-31.54064249241504,-21.505765784787393,-10.823374215972366,0.1723596541532117,11.185886684884098,21.842397345794712,32.01437644024326,41.76058770063222,50.502040168938265,57.606348970064914,62.38896610794867,64.95148857671343,65.15607482599601,63.185270538590274,59.25660840921019,53.484501631959326,46.06871916898964,37.234489596154795,27.28660140136122,16.49523118147402,5.248919149957355,-6.17675661003566,-17.355310732853912,-28.022672147995205,-37.738156049379214,-46.19747656244587,-53.20043941258578,-58.59707175083563,-62.27124755197253,-64.00879378018963,-63.832155038121314,-61.71119113564642,-57.70563064610948,-51.97743416560296,-44.70966183525022,-36.14142505420848,-26.51927868159558,-16.131540231260313,-5.244696899883109,5.784137609697896,16.682662093484893,27.083813084689595,37.20098066548959,46.58381922687636,54.658965720261754,60.55724398498963,64.16869914796894,65.45351155692026,64.44907468072054,61.431016684546584,56.52200749630954,49.89089803918004,41.72908663596575,32.309050398425185,21.91058616148454,10.86440371510186,-0.5045959642058131,-11.855326477378341,-22.80310816116645,-33.06474899032017,-42.206525924293445,-50.063320036693376,-56.3178974975372,-60.89122439923343,-63.559474249479976,-64.2957766725848,-63.07974254448526,-59.96488391288474,-55.05041657037355,-48.50464481158463,-40.55970754756869,-31.42609591414602,-21.40553121879775,-10.725754052403936,0.2595479473465752,11.27397555494431,21.93001176131143,32.25792194817722,42.14189188641706,51.03183463448002,58.08333505804329,62.80408356636241,65.20383559521996,65.26774377488498,63.20264204834509,59.204314743732375,53.40309198676414,45.97496339782459,37.15367584517606,27.230826699122943,16.46485553378355,5.248536304062453,-6.16893082765844,-17.337588885904076,-28.006247583783935,-37.759011809293895,-46.36691711563504,-53.503465828731755,-58.96854242953984,-62.59204581463971,-64.27354479332497,-63.99680596746863,-61.80464413861765,-57.75201892306872,-51.99986030114017,-44.72893403011778,-36.166058005364185,-26.561075191105235,-16.192910884442554,-5.313346502040445,5.7066819441590235,16.60525388282949,27.076143638861044,37.312168871120626,46.822870359863465,54.934525399862764,60.82048506328719,64.37406346872959,65.57403944909369,64.51705221404568,61.4622934324657,56.54430957475137,49.918268941834754,41.77242857098229,32.384971191976355,22.013943439547223,10.99716141240211,-0.35789168903823154,-11.70415935347514,-22.655058807558277,-32.93355640185544,-42.18002984998818,-50.15161228430306,-56.5174431798604,-61.09436361744983,-63.753921132446706,-64.44700542861425],\"y\":[22.99660320555946,12.013035913922474,0.7800793472780552,-10.530521468977685,-21.389331437082287,-31.52712866309133,-40.53347027400659,-48.15698265249264,-54.11354837841578,-58.23875960453896,-60.38054125717131,-60.492131207460446,-58.57069046443372,-54.6821033874848,-48.96981379080993,-41.67543494090825,-32.95928752498038,-23.156159734250313,-12.449168285003598,-1.3277977862926633,10.024926803494491,21.06104314095831,31.575393111755854,41.127606912981705,49.515720101188116,56.424271501452594,61.70162196763137,65.14973437092166,66.71635198392627,66.32170432941652,64.0116077465685,59.845070452130074,53.925712865792114,46.46462730318729,37.68020287303519,27.834269434983906,17.179773038139686,6.033838986950216,-5.232250649779907,-16.295664050965854,-26.741766264742584,-36.271947116978765,-44.532098585282384,-51.28250645377801,-56.2833856369103,-59.39156853112594,-60.48983626001507,-59.57119845649237,-56.637523452970406,-51.818322313958554,-45.28978412363793,-37.21876188237464,-27.914270474750044,-17.572954125159654,-6.6417026129763785,4.630701030953556,15.796176919785857,26.559346214847707,36.54846286774403,45.49449280216531,53.102051114096085,59.17526715054175,63.51236249531822,66.01290604319453,66.58181401974745,65.22536622196068,61.97982293448955,56.92457748885417,50.20635527936278,42.04942038103947,32.66558412396192,22.385894756512343,11.424743246854742,0.2285775865078409,-10.958774116782783,-21.686668111251116,-31.674654820235265,-40.537724758618964,-48.04443180532127,-53.89412511707141,-57.95311626808629,-60.04288091198078,-60.13650760826486,-58.20495984998008,-54.32738582593322,-48.634326949076176,-41.30636060209642,-32.56866962238381,-22.691408370974685,-12.010754096913324,-0.8851665467011058,10.352046326300025,21.308601572309634,31.682087725986868,41.136922638826434,49.411900491121,56.24204745721476,61.457984378133126,64.86513131999696,66.41828058207153,66.0195291822677,63.72643553625632,59.57964812153441,53.680266976576895,46.22372492731487,37.40729724754666,27.544528931646752,16.873599286313976,5.7779098408578,-5.444358664009787,-16.39964059298874,-26.773193090144055,-36.19380587146725,-44.39526005930217,-51.07426407404673,-56.046527660613364,-59.13293582331019,-60.233014860206204,-59.331202185742576,-56.423769304736894,-51.63838777295595,-45.11533730604071,-37.041951060018405,-27.709965750663805,-17.37666611615766,-6.456133169865937,4.763473686571835,15.862277625091167,26.55511586684583,36.462517801441194,45.355499919418385,52.9053925561138,58.95797397202606,63.27448651860177,65.78450283127165,66.36828147993167,65.04004406280332,61.82656971959197,56.80067925011869,50.119192148478874,41.95542193312318,32.58381520622599,22.288602358297283,11.370439484352644,0.19290741968084818,-10.923577763047035,-21.601521223539777,-31.533376355793283,-40.352222492938544,-47.83484639680125,-53.667454254105095,-57.73758978205101,-59.84180146783095,-59.96699570784958,-58.0679493727781,-54.23371278327873,-48.58070315072105,-41.26480274211482,-32.54339624573111,-22.66416226499946,-12.015398793630693,-0.9046947346096622,10.268830754312013,21.19618238065601,31.512688955429958,40.94373277014516,49.18997781851553,56.01516710972205,61.238366493696354,64.66309195449249,66.24585543259887,65.88116635445844,63.63152328951825,59.52935926495511,53.678768388100124,46.254526909730664,37.456961270017366,27.60474605602699,16.952716378339485,5.890782290099557,-5.3059110163355205,-16.215577636780402,-26.570131967265752,-35.96035301996563,-44.162312684222286,-50.84031773365439,-55.8336541260568,-58.94599667623891,-60.08338025173854,-59.22942405419023,-56.37325186438925,-51.64863976524892,-45.16487833690481,-37.12914339646419,-27.809044057513848,-17.50826178225713,-6.603085050428552,4.583611222424961],\"z\":[-21.19285060686434,-22.689223254233617,-21.15387830962115,-16.724398151880585,-10.250944180755413,-2.385363942537879,5.670815724038815,12.972911493115056,18.525501209476257,21.631319475032182,21.948125285846608,19.405431163425796,14.409696326332483,7.519713272784553,-0.28686504718767586,-7.7754813807558545,-14.29319533032116,-19.11061807714502,-21.85221489129357,-21.870457377480914,-19.19438688486469,-14.1362223080811,-7.145894341649858,0.6641762136660442,8.540869673034658,15.40201434301215,20.5558039974927,23.36078245788098,23.50304559110295,21.003164897798136,16.10314221200161,9.509693711442365,1.616550485204045,-6.7018278393324735,-14.303871022690815,-19.845691139992216,-22.59440368047308,-22.33472693244833,-19.044225402001878,-13.347045079939623,-6.0079661464885,2.080200625475585,9.817024679542902,16.271840413934967,20.585161590987777,22.257151912018504,21.079138017416263,17.21067159887603,11.170312022544618,3.6615402553324743,-4.132452681928992,-11.39676779804989,-17.213557800328,-21.093050523022043,-22.380122248238848,-20.882938744010097,-16.83290021792926,-10.589282497753683,-3.0781660753490074,4.878847862714993,12.286393725219494,18.332197923739162,22.312253246522694,23.762934360918727,22.535900616379895,18.76291789897798,12.93972097467602,5.57280175297711,-2.8101408971492785,-11.015590352002665,-17.73123579620352,-21.79446281877068,-22.91119292163021,-20.953513296010023,-16.245127092729938,-9.607252873815796,-1.7385552647476026,6.243265894301149,13.428250687401576,18.843090771254033,21.842485138773394,22.079707612672983,19.49007497695468,14.478502253615478,7.582971767046763,-0.21499585540401456,-7.941423534856658,-14.672148851721984,-19.62805405529538,-22.22597936678352,-22.02502808032307,-19.118583805930967,-13.82965407007693,-6.820721734644838,1.007213967161581,8.78436881729189,15.566100835258435,20.631114674744094,23.35969377639799,23.4610935970699,20.930218431200363,16.051800537307717,9.42844263109676,1.3314019071857701,-7.1667704173627795,-14.84689051566296,-20.251375466737947,-22.795913209598986,-22.28962753437267,-18.786506434332097,-13.012398849469944,-5.623862924656155,2.392425795976521,10.082842716067853,16.45243099396674,20.714841897414082,22.354288807873065,21.159983801300047,17.314500403388674,11.289450216472094,3.816114129843444,-4.086387297155634,-11.528429861491508,-17.502748359978785,-21.36085505545338,-22.54518107378148,-20.9180500951868,-16.730632196324834,-10.44226377361358,-2.944449130056058,4.980960879718018,12.330109641837414,18.341676317190597,22.28345355780038,23.72760831342671,22.51451489456495,18.766610761288526,12.990144701748626,5.507630492355962,-2.9784611908115184,-11.30507485669232,-17.968749305937155,-21.955860642791578,-22.942397933824264,-20.849807137044106,-16.10367797896437,-9.429983827439175,-1.6015363698655716,6.349893284059247,13.49352494320156,18.88203509754266,21.891518262541297,22.147206779701282,19.59720740944673,14.631538032614337,7.774792647746267,-0.027621899047719698,-7.895684213371781,-14.76309086312417,-19.790039092303378,-22.358773680396048,-22.108177303773537,-19.150262245752423,-13.809993885502339,-6.829465324186549,0.9919860068716052,8.72650960156878,15.499649377870101,20.563322477588834,23.306763923809807,23.446911656631826,20.962853013805404,16.14415707062081,9.50701217063829,1.3402514561546033,-7.249489552740228,-14.953606297408674,-20.344598434649576,-22.84570551367437,-22.28571192727977,-18.75249112330564,-12.984908293176701,-5.60811453581548,2.3698973399939955,10.051932166822674,16.4131994850823,20.700244557148277,22.3851951983656,21.244469826279705,17.46339324373718,11.490329714846787,4.056934907596748,-3.92030888008209,-11.469159067672718,-17.553697280927906,-21.437773316961497,-22.629233470377695,-20.991435039309003]}],                        {\"scene\":{\"xaxis\":{\"exponentformat\":\"e\",\"showexponent\":\"all\",\"title\":{\"text\":\"0th\"},\"type\":\"linear\"},\"yaxis\":{\"exponentformat\":\"e\",\"showexponent\":\"all\",\"title\":{\"text\":\"1st\"},\"type\":\"linear\"},\"zaxis\":{\"exponentformat\":\"e\",\"showexponent\":\"all\",\"title\":{\"text\":\"2nd\"},\"type\":\"linear\"}},\"template\":{\"data\":{\"bar\":[{\"error_x\":{\"color\":\"#2a3f5f\"},\"error_y\":{\"color\":\"#2a3f5f\"},\"marker\":{\"line\":{\"color\":\"#E5ECF6\",\"width\":0.5},\"pattern\":{\"fillmode\":\"overlay\",\"size\":10,\"solidity\":0.2}},\"type\":\"bar\"}],\"barpolar\":[{\"marker\":{\"line\":{\"color\":\"#E5ECF6\",\"width\":0.5},\"pattern\":{\"fillmode\":\"overlay\",\"size\":10,\"solidity\":0.2}},\"type\":\"barpolar\"}],\"carpet\":[{\"aaxis\":{\"endlinecolor\":\"#2a3f5f\",\"gridcolor\":\"white\",\"linecolor\":\"white\",\"minorgridcolor\":\"white\",\"startlinecolor\":\"#2a3f5f\"},\"baxis\":{\"endlinecolor\":\"#2a3f5f\",\"gridcolor\":\"white\",\"linecolor\":\"white\",\"minorgridcolor\":\"white\",\"startlinecolor\":\"#2a3f5f\"},\"type\":\"carpet\"}],\"choropleth\":[{\"colorbar\":{\"outlinewidth\":0,\"ticks\":\"\"},\"type\":\"choropleth\"}],\"contour\":[{\"colorbar\":{\"outlinewidth\":0,\"ticks\":\"\"},\"colorscale\":[[0.0,\"#0d0887\"],[0.1111111111111111,\"#46039f\"],[0.2222222222222222,\"#7201a8\"],[0.3333333333333333,\"#9c179e\"],[0.4444444444444444,\"#bd3786\"],[0.5555555555555556,\"#d8576b\"],[0.6666666666666666,\"#ed7953\"],[0.7777777777777778,\"#fb9f3a\"],[0.8888888888888888,\"#fdca26\"],[1.0,\"#f0f921\"]],\"type\":\"contour\"}],\"contourcarpet\":[{\"colorbar\":{\"outlinewidth\":0,\"ticks\":\"\"},\"type\":\"contourcarpet\"}],\"heatmap\":[{\"colorbar\":{\"outlinewidth\":0,\"ticks\":\"\"},\"colorscale\":[[0.0,\"#0d0887\"],[0.1111111111111111,\"#46039f\"],[0.2222222222222222,\"#7201a8\"],[0.3333333333333333,\"#9c179e\"],[0.4444444444444444,\"#bd3786\"],[0.5555555555555556,\"#d8576b\"],[0.6666666666666666,\"#ed7953\"],[0.7777777777777778,\"#fb9f3a\"],[0.8888888888888888,\"#fdca26\"],[1.0,\"#f0f921\"]],\"type\":\"heatmap\"}],\"heatmapgl\":[{\"colorbar\":{\"outlinewidth\":0,\"ticks\":\"\"},\"colorscale\":[[0.0,\"#0d0887\"],[0.1111111111111111,\"#46039f\"],[0.2222222222222222,\"#7201a8\"],[0.3333333333333333,\"#9c179e\"],[0.4444444444444444,\"#bd3786\"],[0.5555555555555556,\"#d8576b\"],[0.6666666666666666,\"#ed7953\"],[0.7777777777777778,\"#fb9f3a\"],[0.8888888888888888,\"#fdca26\"],[1.0,\"#f0f921\"]],\"type\":\"heatmapgl\"}],\"histogram\":[{\"marker\":{\"pattern\":{\"fillmode\":\"overlay\",\"size\":10,\"solidity\":0.2}},\"type\":\"histogram\"}],\"histogram2d\":[{\"colorbar\":{\"outlinewidth\":0,\"ticks\":\"\"},\"colorscale\":[[0.0,\"#0d0887\"],[0.1111111111111111,\"#46039f\"],[0.2222222222222222,\"#7201a8\"],[0.3333333333333333,\"#9c179e\"],[0.4444444444444444,\"#bd3786\"],[0.5555555555555556,\"#d8576b\"],[0.6666666666666666,\"#ed7953\"],[0.7777777777777778,\"#fb9f3a\"],[0.8888888888888888,\"#fdca26\"],[1.0,\"#f0f921\"]],\"type\":\"histogram2d\"}],\"histogram2dcontour\":[{\"colorbar\":{\"outlinewidth\":0,\"ticks\":\"\"},\"colorscale\":[[0.0,\"#0d0887\"],[0.1111111111111111,\"#46039f\"],[0.2222222222222222,\"#7201a8\"],[0.3333333333333333,\"#9c179e\"],[0.4444444444444444,\"#bd3786\"],[0.5555555555555556,\"#d8576b\"],[0.6666666666666666,\"#ed7953\"],[0.7777777777777778,\"#fb9f3a\"],[0.8888888888888888,\"#fdca26\"],[1.0,\"#f0f921\"]],\"type\":\"histogram2dcontour\"}],\"mesh3d\":[{\"colorbar\":{\"outlinewidth\":0,\"ticks\":\"\"},\"type\":\"mesh3d\"}],\"parcoords\":[{\"line\":{\"colorbar\":{\"outlinewidth\":0,\"ticks\":\"\"}},\"type\":\"parcoords\"}],\"pie\":[{\"automargin\":true,\"type\":\"pie\"}],\"scatter\":[{\"marker\":{\"colorbar\":{\"outlinewidth\":0,\"ticks\":\"\"}},\"type\":\"scatter\"}],\"scatter3d\":[{\"line\":{\"colorbar\":{\"outlinewidth\":0,\"ticks\":\"\"}},\"marker\":{\"colorbar\":{\"outlinewidth\":0,\"ticks\":\"\"}},\"type\":\"scatter3d\"}],\"scattercarpet\":[{\"marker\":{\"colorbar\":{\"outlinewidth\":0,\"ticks\":\"\"}},\"type\":\"scattercarpet\"}],\"scattergeo\":[{\"marker\":{\"colorbar\":{\"outlinewidth\":0,\"ticks\":\"\"}},\"type\":\"scattergeo\"}],\"scattergl\":[{\"marker\":{\"colorbar\":{\"outlinewidth\":0,\"ticks\":\"\"}},\"type\":\"scattergl\"}],\"scattermapbox\":[{\"marker\":{\"colorbar\":{\"outlinewidth\":0,\"ticks\":\"\"}},\"type\":\"scattermapbox\"}],\"scatterpolar\":[{\"marker\":{\"colorbar\":{\"outlinewidth\":0,\"ticks\":\"\"}},\"type\":\"scatterpolar\"}],\"scatterpolargl\":[{\"marker\":{\"colorbar\":{\"outlinewidth\":0,\"ticks\":\"\"}},\"type\":\"scatterpolargl\"}],\"scatterternary\":[{\"marker\":{\"colorbar\":{\"outlinewidth\":0,\"ticks\":\"\"}},\"type\":\"scatterternary\"}],\"surface\":[{\"colorbar\":{\"outlinewidth\":0,\"ticks\":\"\"},\"colorscale\":[[0.0,\"#0d0887\"],[0.1111111111111111,\"#46039f\"],[0.2222222222222222,\"#7201a8\"],[0.3333333333333333,\"#9c179e\"],[0.4444444444444444,\"#bd3786\"],[0.5555555555555556,\"#d8576b\"],[0.6666666666666666,\"#ed7953\"],[0.7777777777777778,\"#fb9f3a\"],[0.8888888888888888,\"#fdca26\"],[1.0,\"#f0f921\"]],\"type\":\"surface\"}],\"table\":[{\"cells\":{\"fill\":{\"color\":\"#EBF0F8\"},\"line\":{\"color\":\"white\"}},\"header\":{\"fill\":{\"color\":\"#C8D4E3\"},\"line\":{\"color\":\"white\"}},\"type\":\"table\"}]},\"layout\":{\"annotationdefaults\":{\"arrowcolor\":\"#2a3f5f\",\"arrowhead\":0,\"arrowwidth\":1},\"autotypenumbers\":\"strict\",\"coloraxis\":{\"colorbar\":{\"outlinewidth\":0,\"ticks\":\"\"}},\"colorscale\":{\"diverging\":[[0,\"#8e0152\"],[0.1,\"#c51b7d\"],[0.2,\"#de77ae\"],[0.3,\"#f1b6da\"],[0.4,\"#fde0ef\"],[0.5,\"#f7f7f7\"],[0.6,\"#e6f5d0\"],[0.7,\"#b8e186\"],[0.8,\"#7fbc41\"],[0.9,\"#4d9221\"],[1,\"#276419\"]],\"sequential\":[[0.0,\"#0d0887\"],[0.1111111111111111,\"#46039f\"],[0.2222222222222222,\"#7201a8\"],[0.3333333333333333,\"#9c179e\"],[0.4444444444444444,\"#bd3786\"],[0.5555555555555556,\"#d8576b\"],[0.6666666666666666,\"#ed7953\"],[0.7777777777777778,\"#fb9f3a\"],[0.8888888888888888,\"#fdca26\"],[1.0,\"#f0f921\"]],\"sequentialminus\":[[0.0,\"#0d0887\"],[0.1111111111111111,\"#46039f\"],[0.2222222222222222,\"#7201a8\"],[0.3333333333333333,\"#9c179e\"],[0.4444444444444444,\"#bd3786\"],[0.5555555555555556,\"#d8576b\"],[0.6666666666666666,\"#ed7953\"],[0.7777777777777778,\"#fb9f3a\"],[0.8888888888888888,\"#fdca26\"],[1.0,\"#f0f921\"]]},\"colorway\":[\"#636efa\",\"#EF553B\",\"#00cc96\",\"#ab63fa\",\"#FFA15A\",\"#19d3f3\",\"#FF6692\",\"#B6E880\",\"#FF97FF\",\"#FECB52\"],\"font\":{\"color\":\"#2a3f5f\"},\"geo\":{\"bgcolor\":\"white\",\"lakecolor\":\"white\",\"landcolor\":\"#E5ECF6\",\"showlakes\":true,\"showland\":true,\"subunitcolor\":\"white\"},\"hoverlabel\":{\"align\":\"left\"},\"hovermode\":\"closest\",\"mapbox\":{\"style\":\"light\"},\"paper_bgcolor\":\"white\",\"plot_bgcolor\":\"#E5ECF6\",\"polar\":{\"angularaxis\":{\"gridcolor\":\"white\",\"linecolor\":\"white\",\"ticks\":\"\"},\"bgcolor\":\"#E5ECF6\",\"radialaxis\":{\"gridcolor\":\"white\",\"linecolor\":\"white\",\"ticks\":\"\"}},\"scene\":{\"xaxis\":{\"backgroundcolor\":\"#E5ECF6\",\"gridcolor\":\"white\",\"gridwidth\":2,\"linecolor\":\"white\",\"showbackground\":true,\"ticks\":\"\",\"zerolinecolor\":\"white\"},\"yaxis\":{\"backgroundcolor\":\"#E5ECF6\",\"gridcolor\":\"white\",\"gridwidth\":2,\"linecolor\":\"white\",\"showbackground\":true,\"ticks\":\"\",\"zerolinecolor\":\"white\"},\"zaxis\":{\"backgroundcolor\":\"#E5ECF6\",\"gridcolor\":\"white\",\"gridwidth\":2,\"linecolor\":\"white\",\"showbackground\":true,\"ticks\":\"\",\"zerolinecolor\":\"white\"}},\"shapedefaults\":{\"line\":{\"color\":\"#2a3f5f\"}},\"ternary\":{\"aaxis\":{\"gridcolor\":\"white\",\"linecolor\":\"white\",\"ticks\":\"\"},\"baxis\":{\"gridcolor\":\"white\",\"linecolor\":\"white\",\"ticks\":\"\"},\"bgcolor\":\"#E5ECF6\",\"caxis\":{\"gridcolor\":\"white\",\"linecolor\":\"white\",\"ticks\":\"\"}},\"title\":{\"x\":0.05},\"xaxis\":{\"automargin\":true,\"gridcolor\":\"white\",\"linecolor\":\"white\",\"ticks\":\"\",\"title\":{\"standoff\":15},\"zerolinecolor\":\"white\",\"zerolinewidth\":2},\"yaxis\":{\"automargin\":true,\"gridcolor\":\"white\",\"linecolor\":\"white\",\"ticks\":\"\",\"title\":{\"standoff\":15},\"zerolinecolor\":\"white\",\"zerolinewidth\":2}}},\"xaxis\":{\"dtick\":10,\"range\":[-15,15],\"tick0\":0,\"tickmode\":\"linear\"},\"yaxis\":{\"dtick\":500,\"range\":[-15,15],\"tick0\":-500,\"tickmode\":\"linear\"}},                        {\"responsive\": true}                    ).then(function(){\n",
       "                            \n",
       "var gd = document.getElementById('5d5134e2-a975-4520-9643-b0a9a343e8c0');\n",
       "var x = new MutationObserver(function (mutations, observer) {{\n",
       "        var display = window.getComputedStyle(gd).display;\n",
       "        if (!display || display === 'none') {{\n",
       "            console.log([gd, 'removed!']);\n",
       "            Plotly.purge(gd);\n",
       "            observer.disconnect();\n",
       "        }}\n",
       "}});\n",
       "\n",
       "// Listen for the removal of the full notebook cells\n",
       "var notebookContainer = gd.closest('#notebook-container');\n",
       "if (notebookContainer) {{\n",
       "    x.observe(notebookContainer, {childList: true});\n",
       "}}\n",
       "\n",
       "// Listen for the clearing of the current output cell\n",
       "var outputEl = gd.closest('.output');\n",
       "if (outputEl) {{\n",
       "    x.observe(outputEl, {childList: true});\n",
       "}}\n",
       "\n",
       "                        })                };                });            </script>        </div>"
      ]
     },
     "metadata": {},
     "output_type": "display_data"
    }
   ],
   "source": [
    "max_time_delay = 55\n",
    "max_embedding_dimension = 12\n",
    "stride = 3\n",
    "\n",
    "signal = ss_BHP\n",
    "\n",
    "optimal_time_delay, optimal_embedding_dimension = takens_embedding_optimal_parameters(\n",
    "    signal, max_time_delay, max_embedding_dimension, stride=stride\n",
    "    )\n",
    "print('length of signal to analyze', int(len(signal)/stride))\n",
    "print(f\"Optimal embedding time delay based on mutual information: {optimal_time_delay}\")\n",
    "print(f\"Optimal embedding dimension based on false nearest neighbors: {optimal_embedding_dimension}\")\n",
    "embedding_dimension = optimal_time_delay\n",
    "embedding_time_delay = optimal_time_delay\n",
    "\n",
    "embedder = SingleTakensEmbedding(\n",
    "    parameters_type=\"fixed\", n_jobs=6, time_delay=embedding_time_delay, dimension=embedding_dimension, stride=stride\n",
    ")\n",
    "\n",
    "y_embedded = embedder.fit_transform(signal)\n",
    "\n",
    "pca = PCA(n_components=3)\n",
    "y_embedded_pca = pca.fit_transform(y_embedded)\n",
    "\n",
    "style = {\n",
    "            \"x_range\": [-15, 15],\n",
    "            \"y_range\": [-15, 15],\n",
    "            \"z_range\": [-5, 5],\n",
    "            \"marker\": dict(size=12),\n",
    "            \"xaxis\": dict(tickmode=\"linear\", tick0=0, dtick=10),\n",
    "            \"yaxis\": dict(tickmode=\"linear\", tick0=-500, dtick=500),\n",
    "        }\n",
    "\n",
    "layout = {\n",
    "        \"xaxis\": style[\"xaxis\"],\n",
    "        \"yaxis\": style[\"yaxis\"],\n",
    "        \"xaxis_range\": style[\"x_range\"],\n",
    "        \"yaxis_range\": style[\"y_range\"]\n",
    "    }\n",
    "\n",
    "plotly_params_layout = {\"layout\": layout}\n",
    "\n",
    "norm =  plot_point_cloud(y_embedded_pca, plotly_params=plotly_params_layout)\n",
    "norm\n"
   ]
  },
  {
   "cell_type": "code",
   "execution_count": 23,
   "metadata": {},
   "outputs": [
    {
     "data": {
      "application/vnd.plotly.v1+json": {
       "config": {
        "plotlyServerURL": "https://plot.ly"
       },
       "data": [
        {
         "hoverinfo": "none",
         "line": {
          "color": "black",
          "dash": "dash",
          "width": 1
         },
         "mode": "lines",
         "showlegend": false,
         "type": "scatter",
         "x": [
          -1.284342041015625,
          65.50144409179687
         ],
         "y": [
          -1.284342041015625,
          65.50144409179687
         ]
        },
        {
         "hoverinfo": "text",
         "hovertext": [
          "(0.0, 0.8188642263412476)",
          "(0.0, 0.8300170302391052)",
          "(0.0, 0.8322417140007019)",
          "(0.0, 0.8322480916976929)",
          "(0.0, 0.8337040543556213)",
          "(0.0, 0.835758626461029)",
          "(0.0, 0.8357656598091125)",
          "(0.0, 0.8380374908447266)",
          "(0.0, 0.8398895859718323)",
          "(0.0, 0.8401166200637817)",
          "(0.0, 0.8402671813964844)",
          "(0.0, 0.8465490341186523)",
          "(0.0, 0.8470317125320435)",
          "(0.0, 0.851016640663147)",
          "(0.0, 0.8575956225395203)",
          "(0.0, 0.8597157001495361)",
          "(0.0, 0.8617839217185974)",
          "(0.0, 0.8630889058113098)",
          "(0.0, 0.8658539652824402)",
          "(0.0, 0.8684023022651672)",
          "(0.0, 0.8860281705856323)",
          "(0.0, 0.8913645148277283)",
          "(0.0, 0.8959699869155884)",
          "(0.0, 0.8976389169692993)",
          "(0.0, 0.8983753323554993)",
          "(0.0, 0.8996908664703369)",
          "(0.0, 0.9023928046226501)",
          "(0.0, 0.9055432677268982)",
          "(0.0, 0.9059378504753113)",
          "(0.0, 0.9061211943626404)",
          "(0.0, 0.9084277153015137)",
          "(0.0, 0.9109823703765869)",
          "(0.0, 0.9133061766624451)",
          "(0.0, 0.9155585765838623)",
          "(0.0, 0.9229409098625183)",
          "(0.0, 0.9233303070068359)",
          "(0.0, 0.924129843711853)",
          "(0.0, 0.9257171154022217)",
          "(0.0, 0.9262315034866333)",
          "(0.0, 0.9267885684967041)",
          "(0.0, 0.9285608530044556)",
          "(0.0, 0.92903733253479)",
          "(0.0, 0.9294540882110596)",
          "(0.0, 0.9301619529724121)",
          "(0.0, 0.9315107464790344)",
          "(0.0, 0.9326265454292297)",
          "(0.0, 0.9336671829223633)",
          "(0.0, 0.9344194531440735)",
          "(0.0, 0.9348176121711731)",
          "(0.0, 0.9348617792129517)",
          "(0.0, 0.9349888563156128)",
          "(0.0, 0.9351781010627747)",
          "(0.0, 0.936026930809021)",
          "(0.0, 0.9361213445663452)",
          "(0.0, 0.9383813142776489)",
          "(0.0, 0.9394097328186035)",
          "(0.0, 0.9402973651885986)",
          "(0.0, 0.9414510130882263)",
          "(0.0, 0.9418816566467285)",
          "(0.0, 0.9428128600120544)",
          "(0.0, 0.9436289668083191)",
          "(0.0, 0.9437912702560425)",
          "(0.0, 0.9439795613288879)",
          "(0.0, 0.9441751837730408)",
          "(0.0, 0.945684552192688)",
          "(0.0, 0.9471468925476074)",
          "(0.0, 0.9488655924797058)",
          "(0.0, 0.9489138126373291)",
          "(0.0, 0.9496097564697266)",
          "(0.0, 0.9504273533821106)",
          "(0.0, 0.9509979486465454)",
          "(0.0, 0.9510748386383057)",
          "(0.0, 0.9524329304695129)",
          "(0.0, 0.9525379538536072)",
          "(0.0, 0.9527254700660706)",
          "(0.0, 0.9530614614486694)",
          "(0.0, 0.953292965888977)",
          "(0.0, 0.9542336463928223)",
          "(0.0, 0.954923689365387)",
          "(0.0, 0.9570432305335999)",
          "(0.0, 0.9580901265144348)",
          "(0.0, 0.9586730003356934)",
          "(0.0, 0.9589764475822449)",
          "(0.0, 0.9594947099685669)",
          "(0.0, 0.9600819945335388)",
          "(0.0, 0.9602028727531433)",
          "(0.0, 0.9613648056983948)",
          "(0.0, 0.961531400680542)",
          "(0.0, 0.9616358280181885)",
          "(0.0, 0.9622048139572144)",
          "(0.0, 0.9622130393981934)",
          "(0.0, 0.9637523293495178)",
          "(0.0, 0.9637845754623413)",
          "(0.0, 0.9638968706130981)",
          "(0.0, 0.9640777707099915)",
          "(0.0, 0.9650154113769531)",
          "(0.0, 0.9652705788612366)",
          "(0.0, 0.9684491753578186)",
          "(0.0, 0.9701085686683655)",
          "(0.0, 0.9702467322349548)",
          "(0.0, 0.9706854820251465)",
          "(0.0, 0.9713395833969116)",
          "(0.0, 0.9713650345802307)",
          "(0.0, 0.971415638923645)",
          "(0.0, 0.9724059700965881)",
          "(0.0, 0.9727420210838318)",
          "(0.0, 0.9727625846862793)",
          "(0.0, 0.9746713042259216)",
          "(0.0, 0.9746999740600586)",
          "(0.0, 0.9750497937202454)",
          "(0.0, 0.9752637147903442)",
          "(0.0, 0.9754283428192139)",
          "(0.0, 0.9774461984634399)",
          "(0.0, 0.9774482250213623)",
          "(0.0, 0.9780011773109436)",
          "(0.0, 0.9803428649902344)",
          "(0.0, 0.9810807704925537)",
          "(0.0, 0.9811422824859619)",
          "(0.0, 0.982554018497467)",
          "(0.0, 0.9832298159599304)",
          "(0.0, 0.983316957950592)",
          "(0.0, 0.983583927154541)",
          "(0.0, 0.9839150309562683)",
          "(0.0, 0.9845914840698242)",
          "(0.0, 0.9845952391624451)",
          "(0.0, 0.9847242832183838)",
          "(0.0, 0.9848461151123047)",
          "(0.0, 0.9849092364311218)",
          "(0.0, 0.9850656390190125)",
          "(0.0, 0.9853514432907104)",
          "(0.0, 0.9858472943305969)",
          "(0.0, 0.9862183928489685)",
          "(0.0, 0.9864004254341125)",
          "(0.0, 0.9870274662971497)",
          "(0.0, 0.9871587157249451)",
          "(0.0, 0.9872058629989624)",
          "(0.0, 0.9880277514457703)",
          "(0.0, 0.988160252571106)",
          "(0.0, 0.9882125854492188)",
          "(0.0, 0.9886008501052856)",
          "(0.0, 0.9887977242469788)",
          "(0.0, 0.9889034628868103)",
          "(0.0, 0.9889956116676331)",
          "(0.0, 0.9904430508613586)",
          "(0.0, 0.9906718134880066)",
          "(0.0, 0.9912415742874146)",
          "(0.0, 0.9919952154159546)",
          "(0.0, 0.9926031231880188)",
          "(0.0, 0.9926935434341431)",
          "(0.0, 0.9931474328041077)",
          "(0.0, 0.9946328997612)",
          "(0.0, 0.9949169158935547)",
          "(0.0, 0.9952911138534546)",
          "(0.0, 0.9953732490539551)",
          "(0.0, 0.9978293776512146)",
          "(0.0, 0.9984106421470642)",
          "(0.0, 0.9984936118125916)",
          "(0.0, 0.9989981651306152)",
          "(0.0, 1.0007368326187134)",
          "(0.0, 1.001068115234375)",
          "(0.0, 1.0013424158096313)",
          "(0.0, 1.0016483068466187)",
          "(0.0, 1.0024141073226929)",
          "(0.0, 1.0028858184814453)",
          "(0.0, 1.003078579902649)",
          "(0.0, 1.0031760931015015)",
          "(0.0, 1.0034586191177368)",
          "(0.0, 1.0036628246307373)",
          "(0.0, 1.0038163661956787)",
          "(0.0, 1.004434585571289)",
          "(0.0, 1.0047661066055298)",
          "(0.0, 1.0048707723617554)",
          "(0.0, 1.0051683187484741)",
          "(0.0, 1.005971908569336)",
          "(0.0, 1.0064555406570435)",
          "(0.0, 1.00669527053833)",
          "(0.0, 1.0092002153396606)",
          "(0.0, 1.0094481706619263)",
          "(0.0, 1.009600281715393)",
          "(0.0, 1.010358214378357)",
          "(0.0, 1.0105793476104736)",
          "(0.0, 1.0107535123825073)",
          "(0.0, 1.0109068155288696)",
          "(0.0, 1.011393427848816)",
          "(0.0, 1.0120315551757812)",
          "(0.0, 1.0123419761657715)",
          "(0.0, 1.0123978853225708)",
          "(0.0, 1.0131713151931763)",
          "(0.0, 1.0133424997329712)",
          "(0.0, 1.0136761665344238)",
          "(0.0, 1.0137876272201538)",
          "(0.0, 1.0140761137008667)",
          "(0.0, 1.0142128467559814)",
          "(0.0, 1.014644980430603)",
          "(0.0, 1.0146886110305786)",
          "(0.0, 1.0147407054901123)",
          "(0.0, 1.0148588418960571)",
          "(0.0, 1.0150235891342163)",
          "(0.0, 1.0152146816253662)",
          "(0.0, 1.0157995223999023)",
          "(0.0, 1.0159085988998413)",
          "(0.0, 1.0169166326522827)",
          "(0.0, 1.0179311037063599)",
          "(0.0, 1.0181938409805298)",
          "(0.0, 1.0182784795761108)",
          "(0.0, 1.0182945728302002)",
          "(0.0, 1.0185626745224)",
          "(0.0, 1.0186139345169067)",
          "(0.0, 1.0193175077438354)",
          "(0.0, 1.01938796043396)",
          "(0.0, 1.0198405981063843)",
          "(0.0, 1.019929051399231)",
          "(0.0, 1.0210336446762085)",
          "(0.0, 1.0211089849472046)",
          "(0.0, 1.0222930908203125)",
          "(0.0, 1.0223524570465088)",
          "(0.0, 1.0223956108093262)",
          "(0.0, 1.0254933834075928)",
          "(0.0, 1.0255613327026367)",
          "(0.0, 1.0256112813949585)",
          "(0.0, 1.0257277488708496)",
          "(0.0, 1.0259610414505005)",
          "(0.0, 1.0260570049285889)",
          "(0.0, 1.0260944366455078)",
          "(0.0, 1.0262807607650757)",
          "(0.0, 1.0264339447021484)",
          "(0.0, 1.02659273147583)",
          "(0.0, 1.0266131162643433)",
          "(0.0, 1.026706576347351)",
          "(0.0, 1.027129054069519)",
          "(0.0, 1.0271328687667847)",
          "(0.0, 1.027657389640808)",
          "(0.0, 1.0279195308685303)",
          "(0.0, 1.0282524824142456)",
          "(0.0, 1.028437614440918)",
          "(0.0, 1.0284404754638672)",
          "(0.0, 1.0287212133407593)",
          "(0.0, 1.0292402505874634)",
          "(0.0, 1.0312809944152832)",
          "(0.0, 1.0313286781311035)",
          "(0.0, 1.0316667556762695)",
          "(0.0, 1.0321177244186401)",
          "(0.0, 1.0328993797302246)",
          "(0.0, 1.0330185890197754)",
          "(0.0, 1.0331997871398926)",
          "(0.0, 1.0333411693572998)",
          "(0.0, 1.0334928035736084)",
          "(0.0, 1.0337597131729126)",
          "(0.0, 1.034423589706421)",
          "(0.0, 1.03451669216156)",
          "(0.0, 1.0346163511276245)",
          "(0.0, 1.034741997718811)",
          "(0.0, 1.0347710847854614)",
          "(0.0, 1.0349127054214478)",
          "(0.0, 1.0350219011306763)",
          "(0.0, 1.0352809429168701)",
          "(0.0, 1.0361688137054443)",
          "(0.0, 1.0365582704544067)",
          "(0.0, 1.0367940664291382)",
          "(0.0, 1.0376157760620117)",
          "(0.0, 1.0377223491668701)",
          "(0.0, 1.0377558469772339)",
          "(0.0, 1.0379797220230103)",
          "(0.0, 1.0384942293167114)",
          "(0.0, 1.0385055541992188)",
          "(0.0, 1.0388262271881104)",
          "(0.0, 1.0393718481063843)",
          "(0.0, 1.0394915342330933)",
          "(0.0, 1.0414055585861206)",
          "(0.0, 1.0415185689926147)",
          "(0.0, 1.041985273361206)",
          "(0.0, 1.0420747995376587)",
          "(0.0, 1.0420939922332764)",
          "(0.0, 1.0423120260238647)",
          "(0.0, 1.042474627494812)",
          "(0.0, 1.042770504951477)",
          "(0.0, 1.0432268381118774)",
          "(0.0, 1.043688178062439)",
          "(0.0, 1.0441032648086548)",
          "(0.0, 1.0445834398269653)",
          "(0.0, 1.0448048114776611)",
          "(0.0, 1.045088768005371)",
          "(0.0, 1.045460820198059)",
          "(0.0, 1.0455180406570435)",
          "(0.0, 1.045600414276123)",
          "(0.0, 1.0464085340499878)",
          "(0.0, 1.046505331993103)",
          "(0.0, 1.0475502014160156)",
          "(0.0, 1.047615885734558)",
          "(0.0, 1.047975778579712)",
          "(0.0, 1.0481027364730835)",
          "(0.0, 1.0484060049057007)",
          "(0.0, 1.0485813617706299)",
          "(0.0, 1.0489511489868164)",
          "(0.0, 1.0492855310440063)",
          "(0.0, 1.0492933988571167)",
          "(0.0, 1.0493032932281494)",
          "(0.0, 1.0493688583374023)",
          "(0.0, 1.0495731830596924)",
          "(0.0, 1.0496426820755005)",
          "(0.0, 1.0500922203063965)",
          "(0.0, 1.050614595413208)",
          "(0.0, 1.0508288145065308)",
          "(0.0, 1.0509026050567627)",
          "(0.0, 1.0513170957565308)",
          "(0.0, 1.0514763593673706)",
          "(0.0, 1.051767110824585)",
          "(0.0, 1.0536136627197266)",
          "(0.0, 1.0537683963775635)",
          "(0.0, 1.0539127588272095)",
          "(0.0, 1.0549794435501099)",
          "(0.0, 1.055983543395996)",
          "(0.0, 1.0561665296554565)",
          "(0.0, 1.0566587448120117)",
          "(0.0, 1.0573198795318604)",
          "(0.0, 1.0579086542129517)",
          "(0.0, 1.0587366819381714)",
          "(0.0, 1.0590810775756836)",
          "(0.0, 1.0593808889389038)",
          "(0.0, 1.062018871307373)",
          "(0.0, 1.0628350973129272)",
          "(0.0, 1.063631296157837)",
          "(0.0, 1.0643423795700073)",
          "(0.0, 1.0645099878311157)",
          "(0.0, 1.0645899772644043)",
          "(0.0, 1.0647169351577759)",
          "(0.0, 1.0647823810577393)",
          "(0.0, 1.06494140625)",
          "(0.0, 1.0653432607650757)",
          "(0.0, 1.0656219720840454)",
          "(0.0, 1.0658289194107056)",
          "(0.0, 1.0667048692703247)",
          "(0.0, 1.0668522119522095)",
          "(0.0, 1.0670300722122192)",
          "(0.0, 1.0671415328979492)",
          "(0.0, 1.0671827793121338)",
          "(0.0, 1.0687923431396484)",
          "(0.0, 1.070351243019104)",
          "(0.0, 1.070743203163147)",
          "(0.0, 1.0709830522537231)",
          "(0.0, 1.0713880062103271)",
          "(0.0, 1.0714035034179688)",
          "(0.0, 1.0717710256576538)",
          "(0.0, 1.0723460912704468)",
          "(0.0, 1.0735725164413452)",
          "(0.0, 1.0749175548553467)",
          "(0.0, 1.0750536918640137)",
          "(0.0, 1.0763192176818848)",
          "(0.0, 1.0764710903167725)",
          "(0.0, 1.0767207145690918)",
          "(0.0, 1.0771538019180298)",
          "(0.0, 1.0773818492889404)",
          "(0.0, 1.0781124830245972)",
          "(0.0, 1.0782980918884277)",
          "(0.0, 1.078969955444336)",
          "(0.0, 1.0792053937911987)",
          "(0.0, 1.0795633792877197)",
          "(0.0, 1.0802617073059082)",
          "(0.0, 1.0807713270187378)",
          "(0.0, 1.0811278820037842)",
          "(0.0, 1.0825668573379517)",
          "(0.0, 1.0827891826629639)",
          "(0.0, 1.0836211442947388)",
          "(0.0, 1.0838820934295654)",
          "(0.0, 1.0860050916671753)",
          "(0.0, 1.0862793922424316)",
          "(0.0, 1.0863323211669922)",
          "(0.0, 1.0871500968933105)",
          "(0.0, 1.0878733396530151)",
          "(0.0, 1.088356852531433)",
          "(0.0, 1.090064287185669)",
          "(0.0, 1.0907636880874634)",
          "(0.0, 1.0915913581848145)",
          "(0.0, 1.0936534404754639)",
          "(0.0, 1.0945826768875122)",
          "(0.0, 1.0949839353561401)",
          "(0.0, 1.0956649780273438)",
          "(0.0, 1.0979138612747192)",
          "(0.0, 1.0980733633041382)",
          "(0.0, 1.0982987880706787)",
          "(0.0, 1.098575472831726)",
          "(0.0, 1.0997012853622437)",
          "(0.0, 1.0997624397277832)",
          "(0.0, 1.1001132726669312)",
          "(0.0, 1.1006072759628296)",
          "(0.0, 1.1006594896316528)",
          "(0.0, 1.1011676788330078)",
          "(0.0, 1.1021113395690918)",
          "(0.0, 1.1026825904846191)",
          "(0.0, 1.1027580499649048)",
          "(0.0, 1.1029343605041504)",
          "(0.0, 1.103744626045227)",
          "(0.0, 1.1039267778396606)",
          "(0.0, 1.1039823293685913)",
          "(0.0, 1.1041526794433594)",
          "(0.0, 1.1042722463607788)",
          "(0.0, 1.1042835712432861)",
          "(0.0, 1.104771614074707)",
          "(0.0, 1.1050854921340942)",
          "(0.0, 1.105217695236206)",
          "(0.0, 1.1063809394836426)",
          "(0.0, 1.1066545248031616)",
          "(0.0, 1.1069086790084839)",
          "(0.0, 1.1075321435928345)",
          "(0.0, 1.107840657234192)",
          "(0.0, 1.1079906225204468)",
          "(0.0, 1.1093910932540894)",
          "(0.0, 1.1097503900527954)",
          "(0.0, 1.1097854375839233)",
          "(0.0, 1.1101027727127075)",
          "(0.0, 1.1110742092132568)",
          "(0.0, 1.1116116046905518)",
          "(0.0, 1.1116154193878174)",
          "(0.0, 1.11192786693573)",
          "(0.0, 1.1132913827896118)",
          "(0.0, 1.113572120666504)",
          "(0.0, 1.1154929399490356)",
          "(0.0, 1.1155142784118652)",
          "(0.0, 1.115796446800232)",
          "(0.0, 1.1162930727005005)",
          "(0.0, 1.116712212562561)",
          "(0.0, 1.116719365119934)",
          "(0.0, 1.117091178894043)",
          "(0.0, 1.1170932054519653)",
          "(0.0, 1.1171633005142212)",
          "(0.0, 1.1173650026321411)",
          "(0.0, 1.117454171180725)",
          "(0.0, 1.1174616813659668)",
          "(0.0, 1.1175159215927124)",
          "(0.0, 1.1185802221298218)",
          "(0.0, 1.1201921701431274)",
          "(0.0, 1.1211460828781128)",
          "(0.0, 1.122908592224121)",
          "(0.0, 1.1249966621398926)",
          "(0.0, 1.125057578086853)",
          "(0.0, 1.1259098052978516)",
          "(0.0, 1.1260128021240234)",
          "(0.0, 1.131868839263916)",
          "(0.0, 1.1330273151397705)",
          "(0.0, 1.1334187984466553)",
          "(0.0, 1.1342566013336182)",
          "(0.0, 1.135417103767395)",
          "(0.0, 1.1356008052825928)",
          "(0.0, 1.1381536722183228)",
          "(0.0, 1.138425588607788)",
          "(0.0, 1.1387646198272705)",
          "(0.0, 1.139293909072876)",
          "(0.0, 1.1399116516113281)",
          "(0.0, 1.140180230140686)",
          "(0.0, 1.1411645412445068)",
          "(0.0, 1.1413222551345825)",
          "(0.0, 1.1414357423782349)",
          "(0.0, 1.1418426036834717)",
          "(0.0, 1.1431409120559692)",
          "(0.0, 1.1433709859848022)",
          "(0.0, 1.1450836658477783)",
          "(0.0, 1.1471407413482666)",
          "(0.0, 1.1479336023330688)",
          "(0.0, 1.148840308189392)",
          "(0.0, 1.149298071861267)",
          "(0.0, 1.1512830257415771)",
          "(0.0, 1.1524112224578857)",
          "(0.0, 1.1527228355407715)",
          "(0.0, 1.1535964012145996)",
          "(0.0, 1.1613539457321167)",
          "(0.0, 1.161573886871338)",
          "(0.0, 1.1628096103668213)",
          "(0.0, 1.1646780967712402)",
          "(0.0, 1.1651068925857544)",
          "(0.0, 1.1661615371704102)",
          "(0.0, 1.1668148040771484)",
          "(0.0, 1.1670104265213013)",
          "(0.0, 1.167443037033081)",
          "(0.0, 1.1675643920898438)",
          "(0.0, 1.167729377746582)",
          "(0.0, 1.1698508262634277)",
          "(0.0, 1.1700483560562134)",
          "(0.0, 1.170371413230896)",
          "(0.0, 1.1711246967315674)",
          "(0.0, 1.1713714599609375)",
          "(0.0, 1.1716680526733398)",
          "(0.0, 1.173315167427063)",
          "(0.0, 1.1733986139297485)",
          "(0.0, 1.174445629119873)",
          "(0.0, 1.1745080947875977)",
          "(0.0, 1.1768430471420288)",
          "(0.0, 1.1785435676574707)",
          "(0.0, 1.1789826154708862)",
          "(0.0, 1.179510474205017)",
          "(0.0, 1.1800696849822998)",
          "(0.0, 1.180547833442688)",
          "(0.0, 1.1832431554794312)",
          "(0.0, 1.1834787130355835)",
          "(0.0, 1.183663249015808)",
          "(0.0, 1.1837584972381592)",
          "(0.0, 1.1840312480926514)",
          "(0.0, 1.1851112842559814)",
          "(0.0, 1.1853313446044922)",
          "(0.0, 1.1855852603912354)",
          "(0.0, 1.1861919164657593)",
          "(0.0, 1.1864862442016602)",
          "(0.0, 1.186929702758789)",
          "(0.0, 1.1873559951782227)",
          "(0.0, 1.1889373064041138)",
          "(0.0, 1.1895564794540405)",
          "(0.0, 1.1981494426727295)",
          "(0.0, 1.2048875093460083)",
          "(0.0, 1.2107967138290405)",
          "(0.0, 1.213421106338501)",
          "(0.0, 1.2188870906829834)",
          "(0.0, 1.2221686840057373)",
          "(0.0, 1.2235337495803833)",
          "(0.0, 1.2240378856658936)",
          "(0.0, 1.2312648296356201)",
          "(0.0, 1.2314417362213135)",
          "(0.0, 1.2398240566253662)",
          "(0.0, 1.2413955926895142)",
          "(0.0, 1.2579855918884277)",
          "(0.0, 1.2614705562591553)",
          "(0.0, 1.281456470489502)"
         ],
         "mode": "markers",
         "name": "H0",
         "type": "scatter",
         "x": [
          0,
          0,
          0,
          0,
          0,
          0,
          0,
          0,
          0,
          0,
          0,
          0,
          0,
          0,
          0,
          0,
          0,
          0,
          0,
          0,
          0,
          0,
          0,
          0,
          0,
          0,
          0,
          0,
          0,
          0,
          0,
          0,
          0,
          0,
          0,
          0,
          0,
          0,
          0,
          0,
          0,
          0,
          0,
          0,
          0,
          0,
          0,
          0,
          0,
          0,
          0,
          0,
          0,
          0,
          0,
          0,
          0,
          0,
          0,
          0,
          0,
          0,
          0,
          0,
          0,
          0,
          0,
          0,
          0,
          0,
          0,
          0,
          0,
          0,
          0,
          0,
          0,
          0,
          0,
          0,
          0,
          0,
          0,
          0,
          0,
          0,
          0,
          0,
          0,
          0,
          0,
          0,
          0,
          0,
          0,
          0,
          0,
          0,
          0,
          0,
          0,
          0,
          0,
          0,
          0,
          0,
          0,
          0,
          0,
          0,
          0,
          0,
          0,
          0,
          0,
          0,
          0,
          0,
          0,
          0,
          0,
          0,
          0,
          0,
          0,
          0,
          0,
          0,
          0,
          0,
          0,
          0,
          0,
          0,
          0,
          0,
          0,
          0,
          0,
          0,
          0,
          0,
          0,
          0,
          0,
          0,
          0,
          0,
          0,
          0,
          0,
          0,
          0,
          0,
          0,
          0,
          0,
          0,
          0,
          0,
          0,
          0,
          0,
          0,
          0,
          0,
          0,
          0,
          0,
          0,
          0,
          0,
          0,
          0,
          0,
          0,
          0,
          0,
          0,
          0,
          0,
          0,
          0,
          0,
          0,
          0,
          0,
          0,
          0,
          0,
          0,
          0,
          0,
          0,
          0,
          0,
          0,
          0,
          0,
          0,
          0,
          0,
          0,
          0,
          0,
          0,
          0,
          0,
          0,
          0,
          0,
          0,
          0,
          0,
          0,
          0,
          0,
          0,
          0,
          0,
          0,
          0,
          0,
          0,
          0,
          0,
          0,
          0,
          0,
          0,
          0,
          0,
          0,
          0,
          0,
          0,
          0,
          0,
          0,
          0,
          0,
          0,
          0,
          0,
          0,
          0,
          0,
          0,
          0,
          0,
          0,
          0,
          0,
          0,
          0,
          0,
          0,
          0,
          0,
          0,
          0,
          0,
          0,
          0,
          0,
          0,
          0,
          0,
          0,
          0,
          0,
          0,
          0,
          0,
          0,
          0,
          0,
          0,
          0,
          0,
          0,
          0,
          0,
          0,
          0,
          0,
          0,
          0,
          0,
          0,
          0,
          0,
          0,
          0,
          0,
          0,
          0,
          0,
          0,
          0,
          0,
          0,
          0,
          0,
          0,
          0,
          0,
          0,
          0,
          0,
          0,
          0,
          0,
          0,
          0,
          0,
          0,
          0,
          0,
          0,
          0,
          0,
          0,
          0,
          0,
          0,
          0,
          0,
          0,
          0,
          0,
          0,
          0,
          0,
          0,
          0,
          0,
          0,
          0,
          0,
          0,
          0,
          0,
          0,
          0,
          0,
          0,
          0,
          0,
          0,
          0,
          0,
          0,
          0,
          0,
          0,
          0,
          0,
          0,
          0,
          0,
          0,
          0,
          0,
          0,
          0,
          0,
          0,
          0,
          0,
          0,
          0,
          0,
          0,
          0,
          0,
          0,
          0,
          0,
          0,
          0,
          0,
          0,
          0,
          0,
          0,
          0,
          0,
          0,
          0,
          0,
          0,
          0,
          0,
          0,
          0,
          0,
          0,
          0,
          0,
          0,
          0,
          0,
          0,
          0,
          0,
          0,
          0,
          0,
          0,
          0,
          0,
          0,
          0,
          0,
          0,
          0,
          0,
          0,
          0,
          0,
          0,
          0,
          0,
          0,
          0,
          0,
          0,
          0,
          0,
          0,
          0,
          0,
          0,
          0,
          0,
          0,
          0,
          0,
          0,
          0,
          0,
          0,
          0,
          0,
          0,
          0,
          0,
          0,
          0,
          0,
          0,
          0,
          0,
          0,
          0,
          0,
          0,
          0,
          0,
          0,
          0,
          0,
          0,
          0,
          0,
          0,
          0,
          0,
          0,
          0,
          0,
          0,
          0,
          0,
          0,
          0,
          0,
          0,
          0,
          0,
          0,
          0,
          0,
          0,
          0,
          0,
          0,
          0,
          0,
          0,
          0,
          0,
          0,
          0,
          0,
          0,
          0,
          0,
          0,
          0,
          0,
          0,
          0,
          0,
          0,
          0,
          0,
          0,
          0,
          0,
          0,
          0,
          0,
          0,
          0,
          0,
          0,
          0,
          0
         ],
         "y": [
          0.8188642263412476,
          0.8300170302391052,
          0.8322417140007019,
          0.8322480916976929,
          0.8337040543556213,
          0.835758626461029,
          0.8357656598091125,
          0.8380374908447266,
          0.8398895859718323,
          0.8401166200637817,
          0.8402671813964844,
          0.8465490341186523,
          0.8470317125320435,
          0.851016640663147,
          0.8575956225395203,
          0.8597157001495361,
          0.8617839217185974,
          0.8630889058113098,
          0.8658539652824402,
          0.8684023022651672,
          0.8860281705856323,
          0.8913645148277283,
          0.8959699869155884,
          0.8976389169692993,
          0.8983753323554993,
          0.8996908664703369,
          0.9023928046226501,
          0.9055432677268982,
          0.9059378504753113,
          0.9061211943626404,
          0.9084277153015137,
          0.9109823703765869,
          0.9133061766624451,
          0.9155585765838623,
          0.9229409098625183,
          0.9233303070068359,
          0.924129843711853,
          0.9257171154022217,
          0.9262315034866333,
          0.9267885684967041,
          0.9285608530044556,
          0.92903733253479,
          0.9294540882110596,
          0.9301619529724121,
          0.9315107464790344,
          0.9326265454292297,
          0.9336671829223633,
          0.9344194531440735,
          0.9348176121711731,
          0.9348617792129517,
          0.9349888563156128,
          0.9351781010627747,
          0.936026930809021,
          0.9361213445663452,
          0.9383813142776489,
          0.9394097328186035,
          0.9402973651885986,
          0.9414510130882263,
          0.9418816566467285,
          0.9428128600120544,
          0.9436289668083191,
          0.9437912702560425,
          0.9439795613288879,
          0.9441751837730408,
          0.945684552192688,
          0.9471468925476074,
          0.9488655924797058,
          0.9489138126373291,
          0.9496097564697266,
          0.9504273533821106,
          0.9509979486465454,
          0.9510748386383057,
          0.9524329304695129,
          0.9525379538536072,
          0.9527254700660706,
          0.9530614614486694,
          0.953292965888977,
          0.9542336463928223,
          0.954923689365387,
          0.9570432305335999,
          0.9580901265144348,
          0.9586730003356934,
          0.9589764475822449,
          0.9594947099685669,
          0.9600819945335388,
          0.9602028727531433,
          0.9613648056983948,
          0.961531400680542,
          0.9616358280181885,
          0.9622048139572144,
          0.9622130393981934,
          0.9637523293495178,
          0.9637845754623413,
          0.9638968706130981,
          0.9640777707099915,
          0.9650154113769531,
          0.9652705788612366,
          0.9684491753578186,
          0.9701085686683655,
          0.9702467322349548,
          0.9706854820251465,
          0.9713395833969116,
          0.9713650345802307,
          0.971415638923645,
          0.9724059700965881,
          0.9727420210838318,
          0.9727625846862793,
          0.9746713042259216,
          0.9746999740600586,
          0.9750497937202454,
          0.9752637147903442,
          0.9754283428192139,
          0.9774461984634399,
          0.9774482250213623,
          0.9780011773109436,
          0.9803428649902344,
          0.9810807704925537,
          0.9811422824859619,
          0.982554018497467,
          0.9832298159599304,
          0.983316957950592,
          0.983583927154541,
          0.9839150309562683,
          0.9845914840698242,
          0.9845952391624451,
          0.9847242832183838,
          0.9848461151123047,
          0.9849092364311218,
          0.9850656390190125,
          0.9853514432907104,
          0.9858472943305969,
          0.9862183928489685,
          0.9864004254341125,
          0.9870274662971497,
          0.9871587157249451,
          0.9872058629989624,
          0.9880277514457703,
          0.988160252571106,
          0.9882125854492188,
          0.9886008501052856,
          0.9887977242469788,
          0.9889034628868103,
          0.9889956116676331,
          0.9904430508613586,
          0.9906718134880066,
          0.9912415742874146,
          0.9919952154159546,
          0.9926031231880188,
          0.9926935434341431,
          0.9931474328041077,
          0.9946328997612,
          0.9949169158935547,
          0.9952911138534546,
          0.9953732490539551,
          0.9978293776512146,
          0.9984106421470642,
          0.9984936118125916,
          0.9989981651306152,
          1.0007368326187134,
          1.001068115234375,
          1.0013424158096313,
          1.0016483068466187,
          1.0024141073226929,
          1.0028858184814453,
          1.003078579902649,
          1.0031760931015015,
          1.0034586191177368,
          1.0036628246307373,
          1.0038163661956787,
          1.004434585571289,
          1.0047661066055298,
          1.0048707723617554,
          1.0051683187484741,
          1.005971908569336,
          1.0064555406570435,
          1.00669527053833,
          1.0092002153396606,
          1.0094481706619263,
          1.009600281715393,
          1.010358214378357,
          1.0105793476104736,
          1.0107535123825073,
          1.0109068155288696,
          1.011393427848816,
          1.0120315551757812,
          1.0123419761657715,
          1.0123978853225708,
          1.0131713151931763,
          1.0133424997329712,
          1.0136761665344238,
          1.0137876272201538,
          1.0140761137008667,
          1.0142128467559814,
          1.014644980430603,
          1.0146886110305786,
          1.0147407054901123,
          1.0148588418960571,
          1.0150235891342163,
          1.0152146816253662,
          1.0157995223999023,
          1.0159085988998413,
          1.0169166326522827,
          1.0179311037063599,
          1.0181938409805298,
          1.0182784795761108,
          1.0182945728302002,
          1.0185626745224,
          1.0186139345169067,
          1.0193175077438354,
          1.01938796043396,
          1.0198405981063843,
          1.019929051399231,
          1.0210336446762085,
          1.0211089849472046,
          1.0222930908203125,
          1.0223524570465088,
          1.0223956108093262,
          1.0254933834075928,
          1.0255613327026367,
          1.0256112813949585,
          1.0257277488708496,
          1.0259610414505005,
          1.0260570049285889,
          1.0260944366455078,
          1.0262807607650757,
          1.0264339447021484,
          1.02659273147583,
          1.0266131162643433,
          1.026706576347351,
          1.027129054069519,
          1.0271328687667847,
          1.027657389640808,
          1.0279195308685303,
          1.0282524824142456,
          1.028437614440918,
          1.0284404754638672,
          1.0287212133407593,
          1.0292402505874634,
          1.0312809944152832,
          1.0313286781311035,
          1.0316667556762695,
          1.0321177244186401,
          1.0328993797302246,
          1.0330185890197754,
          1.0331997871398926,
          1.0333411693572998,
          1.0334928035736084,
          1.0337597131729126,
          1.034423589706421,
          1.03451669216156,
          1.0346163511276245,
          1.034741997718811,
          1.0347710847854614,
          1.0349127054214478,
          1.0350219011306763,
          1.0352809429168701,
          1.0361688137054443,
          1.0365582704544067,
          1.0367940664291382,
          1.0376157760620117,
          1.0377223491668701,
          1.0377558469772339,
          1.0379797220230103,
          1.0384942293167114,
          1.0385055541992188,
          1.0388262271881104,
          1.0393718481063843,
          1.0394915342330933,
          1.0414055585861206,
          1.0415185689926147,
          1.041985273361206,
          1.0420747995376587,
          1.0420939922332764,
          1.0423120260238647,
          1.042474627494812,
          1.042770504951477,
          1.0432268381118774,
          1.043688178062439,
          1.0441032648086548,
          1.0445834398269653,
          1.0448048114776611,
          1.045088768005371,
          1.045460820198059,
          1.0455180406570435,
          1.045600414276123,
          1.0464085340499878,
          1.046505331993103,
          1.0475502014160156,
          1.047615885734558,
          1.047975778579712,
          1.0481027364730835,
          1.0484060049057007,
          1.0485813617706299,
          1.0489511489868164,
          1.0492855310440063,
          1.0492933988571167,
          1.0493032932281494,
          1.0493688583374023,
          1.0495731830596924,
          1.0496426820755005,
          1.0500922203063965,
          1.050614595413208,
          1.0508288145065308,
          1.0509026050567627,
          1.0513170957565308,
          1.0514763593673706,
          1.051767110824585,
          1.0536136627197266,
          1.0537683963775635,
          1.0539127588272095,
          1.0549794435501099,
          1.055983543395996,
          1.0561665296554565,
          1.0566587448120117,
          1.0573198795318604,
          1.0579086542129517,
          1.0587366819381714,
          1.0590810775756836,
          1.0593808889389038,
          1.062018871307373,
          1.0628350973129272,
          1.063631296157837,
          1.0643423795700073,
          1.0645099878311157,
          1.0645899772644043,
          1.0647169351577759,
          1.0647823810577393,
          1.06494140625,
          1.0653432607650757,
          1.0656219720840454,
          1.0658289194107056,
          1.0667048692703247,
          1.0668522119522095,
          1.0670300722122192,
          1.0671415328979492,
          1.0671827793121338,
          1.0687923431396484,
          1.070351243019104,
          1.070743203163147,
          1.0709830522537231,
          1.0713880062103271,
          1.0714035034179688,
          1.0717710256576538,
          1.0723460912704468,
          1.0735725164413452,
          1.0749175548553467,
          1.0750536918640137,
          1.0763192176818848,
          1.0764710903167725,
          1.0767207145690918,
          1.0771538019180298,
          1.0773818492889404,
          1.0781124830245972,
          1.0782980918884277,
          1.078969955444336,
          1.0792053937911987,
          1.0795633792877197,
          1.0802617073059082,
          1.0807713270187378,
          1.0811278820037842,
          1.0825668573379517,
          1.0827891826629639,
          1.0836211442947388,
          1.0838820934295654,
          1.0860050916671753,
          1.0862793922424316,
          1.0863323211669922,
          1.0871500968933105,
          1.0878733396530151,
          1.088356852531433,
          1.090064287185669,
          1.0907636880874634,
          1.0915913581848145,
          1.0936534404754639,
          1.0945826768875122,
          1.0949839353561401,
          1.0956649780273438,
          1.0979138612747192,
          1.0980733633041382,
          1.0982987880706787,
          1.098575472831726,
          1.0997012853622437,
          1.0997624397277832,
          1.1001132726669312,
          1.1006072759628296,
          1.1006594896316528,
          1.1011676788330078,
          1.1021113395690918,
          1.1026825904846191,
          1.1027580499649048,
          1.1029343605041504,
          1.103744626045227,
          1.1039267778396606,
          1.1039823293685913,
          1.1041526794433594,
          1.1042722463607788,
          1.1042835712432861,
          1.104771614074707,
          1.1050854921340942,
          1.105217695236206,
          1.1063809394836426,
          1.1066545248031616,
          1.1069086790084839,
          1.1075321435928345,
          1.107840657234192,
          1.1079906225204468,
          1.1093910932540894,
          1.1097503900527954,
          1.1097854375839233,
          1.1101027727127075,
          1.1110742092132568,
          1.1116116046905518,
          1.1116154193878174,
          1.11192786693573,
          1.1132913827896118,
          1.113572120666504,
          1.1154929399490356,
          1.1155142784118652,
          1.115796446800232,
          1.1162930727005005,
          1.116712212562561,
          1.116719365119934,
          1.117091178894043,
          1.1170932054519653,
          1.1171633005142212,
          1.1173650026321411,
          1.117454171180725,
          1.1174616813659668,
          1.1175159215927124,
          1.1185802221298218,
          1.1201921701431274,
          1.1211460828781128,
          1.122908592224121,
          1.1249966621398926,
          1.125057578086853,
          1.1259098052978516,
          1.1260128021240234,
          1.131868839263916,
          1.1330273151397705,
          1.1334187984466553,
          1.1342566013336182,
          1.135417103767395,
          1.1356008052825928,
          1.1381536722183228,
          1.138425588607788,
          1.1387646198272705,
          1.139293909072876,
          1.1399116516113281,
          1.140180230140686,
          1.1411645412445068,
          1.1413222551345825,
          1.1414357423782349,
          1.1418426036834717,
          1.1431409120559692,
          1.1433709859848022,
          1.1450836658477783,
          1.1471407413482666,
          1.1479336023330688,
          1.148840308189392,
          1.149298071861267,
          1.1512830257415771,
          1.1524112224578857,
          1.1527228355407715,
          1.1535964012145996,
          1.1613539457321167,
          1.161573886871338,
          1.1628096103668213,
          1.1646780967712402,
          1.1651068925857544,
          1.1661615371704102,
          1.1668148040771484,
          1.1670104265213013,
          1.167443037033081,
          1.1675643920898438,
          1.167729377746582,
          1.1698508262634277,
          1.1700483560562134,
          1.170371413230896,
          1.1711246967315674,
          1.1713714599609375,
          1.1716680526733398,
          1.173315167427063,
          1.1733986139297485,
          1.174445629119873,
          1.1745080947875977,
          1.1768430471420288,
          1.1785435676574707,
          1.1789826154708862,
          1.179510474205017,
          1.1800696849822998,
          1.180547833442688,
          1.1832431554794312,
          1.1834787130355835,
          1.183663249015808,
          1.1837584972381592,
          1.1840312480926514,
          1.1851112842559814,
          1.1853313446044922,
          1.1855852603912354,
          1.1861919164657593,
          1.1864862442016602,
          1.186929702758789,
          1.1873559951782227,
          1.1889373064041138,
          1.1895564794540405,
          1.1981494426727295,
          1.2048875093460083,
          1.2107967138290405,
          1.213421106338501,
          1.2188870906829834,
          1.2221686840057373,
          1.2235337495803833,
          1.2240378856658936,
          1.2312648296356201,
          1.2314417362213135,
          1.2398240566253662,
          1.2413955926895142,
          1.2579855918884277,
          1.2614705562591553,
          1.281456470489502
         ]
        },
        {
         "hoverinfo": "text",
         "hovertext": [
          "(1.2864303588867188, 64.21710205078125)",
          "(1.277006983757019, 1.3078042268753052)",
          "(1.2466624975204468, 1.2546565532684326)",
          "(1.2435463666915894, 1.299830675125122)",
          "(1.2419404983520508, 1.2571547031402588)",
          "(1.2002546787261963, 1.202880859375)",
          "(1.1967507600784302, 1.2780225276947021)",
          "(1.1927534341812134, 1.277303695678711)",
          "(1.186639428138733, 1.277476191520691)",
          "(1.1681654453277588, 1.204772710800171)",
          "(1.167751431465149, 1.2037973403930664)",
          "(1.1652823686599731, 1.2308673858642578)",
          "(1.1652042865753174, 1.2088152170181274)",
          "(1.1643853187561035, 1.2086288928985596)",
          "(1.1449942588806152, 1.1996867656707764)",
          "(1.1420984268188477, 1.163806676864624)",
          "(1.1365978717803955, 1.1777009963989258)",
          "(1.1360933780670166, 1.1997240781784058)",
          "(1.1339378356933594, 1.257494568824768)",
          "(1.132431983947754, 1.200211524963379)",
          "(1.1273610591888428, 1.154504418373108)",
          "(1.120161533355713, 1.2582875490188599)",
          "(1.1178028583526611, 1.258171558380127)",
          "(1.1157150268554688, 1.1734495162963867)",
          "(1.1087754964828491, 1.154976725578308)",
          "(1.107686161994934, 1.1294727325439453)",
          "(1.0995689630508423, 1.1364045143127441)",
          "(1.0924893617630005, 1.1331419944763184)",
          "(1.0853031873703003, 1.1417385339736938)",
          "(1.0831753015518188, 1.1993688344955444)",
          "(1.0782138109207153, 1.1699233055114746)",
          "(1.0631804466247559, 1.1692298650741577)",
          "(1.060106635093689, 1.0856282711029053)",
          "(1.0593509674072266, 1.090020775794983)",
          "(1.0589938163757324, 1.0955126285552979)",
          "(1.050945520401001, 1.138179063796997)",
          "(1.0409443378448486, 1.1492846012115479)",
          "(1.0403289794921875, 1.1582837104797363)",
          "(1.029638648033142, 1.1406378746032715)",
          "(1.0142652988433838, 1.0286020040512085)",
          "(1.0035300254821777, 1.0290228128433228)",
          "(1.0004862546920776, 1.1474132537841797)"
         ],
         "mode": "markers",
         "name": "H1",
         "type": "scatter",
         "x": [
          1.2864303588867188,
          1.277006983757019,
          1.2466624975204468,
          1.2435463666915894,
          1.2419404983520508,
          1.2002546787261963,
          1.1967507600784302,
          1.1927534341812134,
          1.186639428138733,
          1.1681654453277588,
          1.167751431465149,
          1.1652823686599731,
          1.1652042865753174,
          1.1643853187561035,
          1.1449942588806152,
          1.1420984268188477,
          1.1365978717803955,
          1.1360933780670166,
          1.1339378356933594,
          1.132431983947754,
          1.1273610591888428,
          1.120161533355713,
          1.1178028583526611,
          1.1157150268554688,
          1.1087754964828491,
          1.107686161994934,
          1.0995689630508423,
          1.0924893617630005,
          1.0853031873703003,
          1.0831753015518188,
          1.0782138109207153,
          1.0631804466247559,
          1.060106635093689,
          1.0593509674072266,
          1.0589938163757324,
          1.050945520401001,
          1.0409443378448486,
          1.0403289794921875,
          1.029638648033142,
          1.0142652988433838,
          1.0035300254821777,
          1.0004862546920776
         ],
         "y": [
          64.21710205078125,
          1.3078042268753052,
          1.2546565532684326,
          1.299830675125122,
          1.2571547031402588,
          1.202880859375,
          1.2780225276947021,
          1.277303695678711,
          1.277476191520691,
          1.204772710800171,
          1.2037973403930664,
          1.2308673858642578,
          1.2088152170181274,
          1.2086288928985596,
          1.1996867656707764,
          1.163806676864624,
          1.1777009963989258,
          1.1997240781784058,
          1.257494568824768,
          1.200211524963379,
          1.154504418373108,
          1.2582875490188599,
          1.258171558380127,
          1.1734495162963867,
          1.154976725578308,
          1.1294727325439453,
          1.1364045143127441,
          1.1331419944763184,
          1.1417385339736938,
          1.1993688344955444,
          1.1699233055114746,
          1.1692298650741577,
          1.0856282711029053,
          1.090020775794983,
          1.0955126285552979,
          1.138179063796997,
          1.1492846012115479,
          1.1582837104797363,
          1.1406378746032715,
          1.0286020040512085,
          1.0290228128433228,
          1.1474132537841797
         ]
        }
       ],
       "layout": {
        "height": 500,
        "plot_bgcolor": "white",
        "template": {
         "data": {
          "bar": [
           {
            "error_x": {
             "color": "#2a3f5f"
            },
            "error_y": {
             "color": "#2a3f5f"
            },
            "marker": {
             "line": {
              "color": "#E5ECF6",
              "width": 0.5
             },
             "pattern": {
              "fillmode": "overlay",
              "size": 10,
              "solidity": 0.2
             }
            },
            "type": "bar"
           }
          ],
          "barpolar": [
           {
            "marker": {
             "line": {
              "color": "#E5ECF6",
              "width": 0.5
             },
             "pattern": {
              "fillmode": "overlay",
              "size": 10,
              "solidity": 0.2
             }
            },
            "type": "barpolar"
           }
          ],
          "carpet": [
           {
            "aaxis": {
             "endlinecolor": "#2a3f5f",
             "gridcolor": "white",
             "linecolor": "white",
             "minorgridcolor": "white",
             "startlinecolor": "#2a3f5f"
            },
            "baxis": {
             "endlinecolor": "#2a3f5f",
             "gridcolor": "white",
             "linecolor": "white",
             "minorgridcolor": "white",
             "startlinecolor": "#2a3f5f"
            },
            "type": "carpet"
           }
          ],
          "choropleth": [
           {
            "colorbar": {
             "outlinewidth": 0,
             "ticks": ""
            },
            "type": "choropleth"
           }
          ],
          "contour": [
           {
            "colorbar": {
             "outlinewidth": 0,
             "ticks": ""
            },
            "colorscale": [
             [
              0,
              "#0d0887"
             ],
             [
              0.1111111111111111,
              "#46039f"
             ],
             [
              0.2222222222222222,
              "#7201a8"
             ],
             [
              0.3333333333333333,
              "#9c179e"
             ],
             [
              0.4444444444444444,
              "#bd3786"
             ],
             [
              0.5555555555555556,
              "#d8576b"
             ],
             [
              0.6666666666666666,
              "#ed7953"
             ],
             [
              0.7777777777777778,
              "#fb9f3a"
             ],
             [
              0.8888888888888888,
              "#fdca26"
             ],
             [
              1,
              "#f0f921"
             ]
            ],
            "type": "contour"
           }
          ],
          "contourcarpet": [
           {
            "colorbar": {
             "outlinewidth": 0,
             "ticks": ""
            },
            "type": "contourcarpet"
           }
          ],
          "heatmap": [
           {
            "colorbar": {
             "outlinewidth": 0,
             "ticks": ""
            },
            "colorscale": [
             [
              0,
              "#0d0887"
             ],
             [
              0.1111111111111111,
              "#46039f"
             ],
             [
              0.2222222222222222,
              "#7201a8"
             ],
             [
              0.3333333333333333,
              "#9c179e"
             ],
             [
              0.4444444444444444,
              "#bd3786"
             ],
             [
              0.5555555555555556,
              "#d8576b"
             ],
             [
              0.6666666666666666,
              "#ed7953"
             ],
             [
              0.7777777777777778,
              "#fb9f3a"
             ],
             [
              0.8888888888888888,
              "#fdca26"
             ],
             [
              1,
              "#f0f921"
             ]
            ],
            "type": "heatmap"
           }
          ],
          "heatmapgl": [
           {
            "colorbar": {
             "outlinewidth": 0,
             "ticks": ""
            },
            "colorscale": [
             [
              0,
              "#0d0887"
             ],
             [
              0.1111111111111111,
              "#46039f"
             ],
             [
              0.2222222222222222,
              "#7201a8"
             ],
             [
              0.3333333333333333,
              "#9c179e"
             ],
             [
              0.4444444444444444,
              "#bd3786"
             ],
             [
              0.5555555555555556,
              "#d8576b"
             ],
             [
              0.6666666666666666,
              "#ed7953"
             ],
             [
              0.7777777777777778,
              "#fb9f3a"
             ],
             [
              0.8888888888888888,
              "#fdca26"
             ],
             [
              1,
              "#f0f921"
             ]
            ],
            "type": "heatmapgl"
           }
          ],
          "histogram": [
           {
            "marker": {
             "pattern": {
              "fillmode": "overlay",
              "size": 10,
              "solidity": 0.2
             }
            },
            "type": "histogram"
           }
          ],
          "histogram2d": [
           {
            "colorbar": {
             "outlinewidth": 0,
             "ticks": ""
            },
            "colorscale": [
             [
              0,
              "#0d0887"
             ],
             [
              0.1111111111111111,
              "#46039f"
             ],
             [
              0.2222222222222222,
              "#7201a8"
             ],
             [
              0.3333333333333333,
              "#9c179e"
             ],
             [
              0.4444444444444444,
              "#bd3786"
             ],
             [
              0.5555555555555556,
              "#d8576b"
             ],
             [
              0.6666666666666666,
              "#ed7953"
             ],
             [
              0.7777777777777778,
              "#fb9f3a"
             ],
             [
              0.8888888888888888,
              "#fdca26"
             ],
             [
              1,
              "#f0f921"
             ]
            ],
            "type": "histogram2d"
           }
          ],
          "histogram2dcontour": [
           {
            "colorbar": {
             "outlinewidth": 0,
             "ticks": ""
            },
            "colorscale": [
             [
              0,
              "#0d0887"
             ],
             [
              0.1111111111111111,
              "#46039f"
             ],
             [
              0.2222222222222222,
              "#7201a8"
             ],
             [
              0.3333333333333333,
              "#9c179e"
             ],
             [
              0.4444444444444444,
              "#bd3786"
             ],
             [
              0.5555555555555556,
              "#d8576b"
             ],
             [
              0.6666666666666666,
              "#ed7953"
             ],
             [
              0.7777777777777778,
              "#fb9f3a"
             ],
             [
              0.8888888888888888,
              "#fdca26"
             ],
             [
              1,
              "#f0f921"
             ]
            ],
            "type": "histogram2dcontour"
           }
          ],
          "mesh3d": [
           {
            "colorbar": {
             "outlinewidth": 0,
             "ticks": ""
            },
            "type": "mesh3d"
           }
          ],
          "parcoords": [
           {
            "line": {
             "colorbar": {
              "outlinewidth": 0,
              "ticks": ""
             }
            },
            "type": "parcoords"
           }
          ],
          "pie": [
           {
            "automargin": true,
            "type": "pie"
           }
          ],
          "scatter": [
           {
            "marker": {
             "colorbar": {
              "outlinewidth": 0,
              "ticks": ""
             }
            },
            "type": "scatter"
           }
          ],
          "scatter3d": [
           {
            "line": {
             "colorbar": {
              "outlinewidth": 0,
              "ticks": ""
             }
            },
            "marker": {
             "colorbar": {
              "outlinewidth": 0,
              "ticks": ""
             }
            },
            "type": "scatter3d"
           }
          ],
          "scattercarpet": [
           {
            "marker": {
             "colorbar": {
              "outlinewidth": 0,
              "ticks": ""
             }
            },
            "type": "scattercarpet"
           }
          ],
          "scattergeo": [
           {
            "marker": {
             "colorbar": {
              "outlinewidth": 0,
              "ticks": ""
             }
            },
            "type": "scattergeo"
           }
          ],
          "scattergl": [
           {
            "marker": {
             "colorbar": {
              "outlinewidth": 0,
              "ticks": ""
             }
            },
            "type": "scattergl"
           }
          ],
          "scattermapbox": [
           {
            "marker": {
             "colorbar": {
              "outlinewidth": 0,
              "ticks": ""
             }
            },
            "type": "scattermapbox"
           }
          ],
          "scatterpolar": [
           {
            "marker": {
             "colorbar": {
              "outlinewidth": 0,
              "ticks": ""
             }
            },
            "type": "scatterpolar"
           }
          ],
          "scatterpolargl": [
           {
            "marker": {
             "colorbar": {
              "outlinewidth": 0,
              "ticks": ""
             }
            },
            "type": "scatterpolargl"
           }
          ],
          "scatterternary": [
           {
            "marker": {
             "colorbar": {
              "outlinewidth": 0,
              "ticks": ""
             }
            },
            "type": "scatterternary"
           }
          ],
          "surface": [
           {
            "colorbar": {
             "outlinewidth": 0,
             "ticks": ""
            },
            "colorscale": [
             [
              0,
              "#0d0887"
             ],
             [
              0.1111111111111111,
              "#46039f"
             ],
             [
              0.2222222222222222,
              "#7201a8"
             ],
             [
              0.3333333333333333,
              "#9c179e"
             ],
             [
              0.4444444444444444,
              "#bd3786"
             ],
             [
              0.5555555555555556,
              "#d8576b"
             ],
             [
              0.6666666666666666,
              "#ed7953"
             ],
             [
              0.7777777777777778,
              "#fb9f3a"
             ],
             [
              0.8888888888888888,
              "#fdca26"
             ],
             [
              1,
              "#f0f921"
             ]
            ],
            "type": "surface"
           }
          ],
          "table": [
           {
            "cells": {
             "fill": {
              "color": "#EBF0F8"
             },
             "line": {
              "color": "white"
             }
            },
            "header": {
             "fill": {
              "color": "#C8D4E3"
             },
             "line": {
              "color": "white"
             }
            },
            "type": "table"
           }
          ]
         },
         "layout": {
          "annotationdefaults": {
           "arrowcolor": "#2a3f5f",
           "arrowhead": 0,
           "arrowwidth": 1
          },
          "autotypenumbers": "strict",
          "coloraxis": {
           "colorbar": {
            "outlinewidth": 0,
            "ticks": ""
           }
          },
          "colorscale": {
           "diverging": [
            [
             0,
             "#8e0152"
            ],
            [
             0.1,
             "#c51b7d"
            ],
            [
             0.2,
             "#de77ae"
            ],
            [
             0.3,
             "#f1b6da"
            ],
            [
             0.4,
             "#fde0ef"
            ],
            [
             0.5,
             "#f7f7f7"
            ],
            [
             0.6,
             "#e6f5d0"
            ],
            [
             0.7,
             "#b8e186"
            ],
            [
             0.8,
             "#7fbc41"
            ],
            [
             0.9,
             "#4d9221"
            ],
            [
             1,
             "#276419"
            ]
           ],
           "sequential": [
            [
             0,
             "#0d0887"
            ],
            [
             0.1111111111111111,
             "#46039f"
            ],
            [
             0.2222222222222222,
             "#7201a8"
            ],
            [
             0.3333333333333333,
             "#9c179e"
            ],
            [
             0.4444444444444444,
             "#bd3786"
            ],
            [
             0.5555555555555556,
             "#d8576b"
            ],
            [
             0.6666666666666666,
             "#ed7953"
            ],
            [
             0.7777777777777778,
             "#fb9f3a"
            ],
            [
             0.8888888888888888,
             "#fdca26"
            ],
            [
             1,
             "#f0f921"
            ]
           ],
           "sequentialminus": [
            [
             0,
             "#0d0887"
            ],
            [
             0.1111111111111111,
             "#46039f"
            ],
            [
             0.2222222222222222,
             "#7201a8"
            ],
            [
             0.3333333333333333,
             "#9c179e"
            ],
            [
             0.4444444444444444,
             "#bd3786"
            ],
            [
             0.5555555555555556,
             "#d8576b"
            ],
            [
             0.6666666666666666,
             "#ed7953"
            ],
            [
             0.7777777777777778,
             "#fb9f3a"
            ],
            [
             0.8888888888888888,
             "#fdca26"
            ],
            [
             1,
             "#f0f921"
            ]
           ]
          },
          "colorway": [
           "#636efa",
           "#EF553B",
           "#00cc96",
           "#ab63fa",
           "#FFA15A",
           "#19d3f3",
           "#FF6692",
           "#B6E880",
           "#FF97FF",
           "#FECB52"
          ],
          "font": {
           "color": "#2a3f5f"
          },
          "geo": {
           "bgcolor": "white",
           "lakecolor": "white",
           "landcolor": "#E5ECF6",
           "showlakes": true,
           "showland": true,
           "subunitcolor": "white"
          },
          "hoverlabel": {
           "align": "left"
          },
          "hovermode": "closest",
          "mapbox": {
           "style": "light"
          },
          "paper_bgcolor": "white",
          "plot_bgcolor": "#E5ECF6",
          "polar": {
           "angularaxis": {
            "gridcolor": "white",
            "linecolor": "white",
            "ticks": ""
           },
           "bgcolor": "#E5ECF6",
           "radialaxis": {
            "gridcolor": "white",
            "linecolor": "white",
            "ticks": ""
           }
          },
          "scene": {
           "xaxis": {
            "backgroundcolor": "#E5ECF6",
            "gridcolor": "white",
            "gridwidth": 2,
            "linecolor": "white",
            "showbackground": true,
            "ticks": "",
            "zerolinecolor": "white"
           },
           "yaxis": {
            "backgroundcolor": "#E5ECF6",
            "gridcolor": "white",
            "gridwidth": 2,
            "linecolor": "white",
            "showbackground": true,
            "ticks": "",
            "zerolinecolor": "white"
           },
           "zaxis": {
            "backgroundcolor": "#E5ECF6",
            "gridcolor": "white",
            "gridwidth": 2,
            "linecolor": "white",
            "showbackground": true,
            "ticks": "",
            "zerolinecolor": "white"
           }
          },
          "shapedefaults": {
           "line": {
            "color": "#2a3f5f"
           }
          },
          "ternary": {
           "aaxis": {
            "gridcolor": "white",
            "linecolor": "white",
            "ticks": ""
           },
           "baxis": {
            "gridcolor": "white",
            "linecolor": "white",
            "ticks": ""
           },
           "bgcolor": "#E5ECF6",
           "caxis": {
            "gridcolor": "white",
            "linecolor": "white",
            "ticks": ""
           }
          },
          "title": {
           "x": 0.05
          },
          "xaxis": {
           "automargin": true,
           "gridcolor": "white",
           "linecolor": "white",
           "ticks": "",
           "title": {
            "standoff": 15
           },
           "zerolinecolor": "white",
           "zerolinewidth": 2
          },
          "yaxis": {
           "automargin": true,
           "gridcolor": "white",
           "linecolor": "white",
           "ticks": "",
           "title": {
            "standoff": 15
           },
           "zerolinecolor": "white",
           "zerolinewidth": 2
          }
         }
        },
        "width": 500,
        "xaxis": {
         "autorange": false,
         "exponentformat": "e",
         "linecolor": "black",
         "linewidth": 1,
         "mirror": false,
         "range": [
          -1.284342041015625,
          65.50144409179687
         ],
         "showexponent": "all",
         "showline": true,
         "side": "bottom",
         "ticks": "outside",
         "title": {
          "text": "Birth"
         },
         "type": "linear",
         "zeroline": true
        },
        "yaxis": {
         "autorange": false,
         "exponentformat": "e",
         "linecolor": "black",
         "linewidth": 1,
         "mirror": false,
         "range": [
          -1.284342041015625,
          65.50144409179687
         ],
         "scaleanchor": "x",
         "scaleratio": 1,
         "showexponent": "all",
         "showline": true,
         "side": "left",
         "ticks": "outside",
         "title": {
          "text": "Death"
         },
         "type": "linear",
         "zeroline": true
        }
       }
      },
      "text/html": [
       "<div>                            <div id=\"d5af2134-99a0-496f-a025-94d59df58933\" class=\"plotly-graph-div\" style=\"height:500px; width:500px;\"></div>            <script type=\"text/javascript\">                require([\"plotly\"], function(Plotly) {                    window.PLOTLYENV=window.PLOTLYENV || {};                                    if (document.getElementById(\"d5af2134-99a0-496f-a025-94d59df58933\")) {                    Plotly.newPlot(                        \"d5af2134-99a0-496f-a025-94d59df58933\",                        [{\"hoverinfo\":\"none\",\"line\":{\"color\":\"black\",\"dash\":\"dash\",\"width\":1},\"mode\":\"lines\",\"showlegend\":false,\"type\":\"scatter\",\"x\":[-1.284342041015625,65.50144409179687],\"y\":[-1.284342041015625,65.50144409179687]},{\"hoverinfo\":\"text\",\"hovertext\":[\"(0.0, 0.8188642263412476)\",\"(0.0, 0.8300170302391052)\",\"(0.0, 0.8322417140007019)\",\"(0.0, 0.8322480916976929)\",\"(0.0, 0.8337040543556213)\",\"(0.0, 0.835758626461029)\",\"(0.0, 0.8357656598091125)\",\"(0.0, 0.8380374908447266)\",\"(0.0, 0.8398895859718323)\",\"(0.0, 0.8401166200637817)\",\"(0.0, 0.8402671813964844)\",\"(0.0, 0.8465490341186523)\",\"(0.0, 0.8470317125320435)\",\"(0.0, 0.851016640663147)\",\"(0.0, 0.8575956225395203)\",\"(0.0, 0.8597157001495361)\",\"(0.0, 0.8617839217185974)\",\"(0.0, 0.8630889058113098)\",\"(0.0, 0.8658539652824402)\",\"(0.0, 0.8684023022651672)\",\"(0.0, 0.8860281705856323)\",\"(0.0, 0.8913645148277283)\",\"(0.0, 0.8959699869155884)\",\"(0.0, 0.8976389169692993)\",\"(0.0, 0.8983753323554993)\",\"(0.0, 0.8996908664703369)\",\"(0.0, 0.9023928046226501)\",\"(0.0, 0.9055432677268982)\",\"(0.0, 0.9059378504753113)\",\"(0.0, 0.9061211943626404)\",\"(0.0, 0.9084277153015137)\",\"(0.0, 0.9109823703765869)\",\"(0.0, 0.9133061766624451)\",\"(0.0, 0.9155585765838623)\",\"(0.0, 0.9229409098625183)\",\"(0.0, 0.9233303070068359)\",\"(0.0, 0.924129843711853)\",\"(0.0, 0.9257171154022217)\",\"(0.0, 0.9262315034866333)\",\"(0.0, 0.9267885684967041)\",\"(0.0, 0.9285608530044556)\",\"(0.0, 0.92903733253479)\",\"(0.0, 0.9294540882110596)\",\"(0.0, 0.9301619529724121)\",\"(0.0, 0.9315107464790344)\",\"(0.0, 0.9326265454292297)\",\"(0.0, 0.9336671829223633)\",\"(0.0, 0.9344194531440735)\",\"(0.0, 0.9348176121711731)\",\"(0.0, 0.9348617792129517)\",\"(0.0, 0.9349888563156128)\",\"(0.0, 0.9351781010627747)\",\"(0.0, 0.936026930809021)\",\"(0.0, 0.9361213445663452)\",\"(0.0, 0.9383813142776489)\",\"(0.0, 0.9394097328186035)\",\"(0.0, 0.9402973651885986)\",\"(0.0, 0.9414510130882263)\",\"(0.0, 0.9418816566467285)\",\"(0.0, 0.9428128600120544)\",\"(0.0, 0.9436289668083191)\",\"(0.0, 0.9437912702560425)\",\"(0.0, 0.9439795613288879)\",\"(0.0, 0.9441751837730408)\",\"(0.0, 0.945684552192688)\",\"(0.0, 0.9471468925476074)\",\"(0.0, 0.9488655924797058)\",\"(0.0, 0.9489138126373291)\",\"(0.0, 0.9496097564697266)\",\"(0.0, 0.9504273533821106)\",\"(0.0, 0.9509979486465454)\",\"(0.0, 0.9510748386383057)\",\"(0.0, 0.9524329304695129)\",\"(0.0, 0.9525379538536072)\",\"(0.0, 0.9527254700660706)\",\"(0.0, 0.9530614614486694)\",\"(0.0, 0.953292965888977)\",\"(0.0, 0.9542336463928223)\",\"(0.0, 0.954923689365387)\",\"(0.0, 0.9570432305335999)\",\"(0.0, 0.9580901265144348)\",\"(0.0, 0.9586730003356934)\",\"(0.0, 0.9589764475822449)\",\"(0.0, 0.9594947099685669)\",\"(0.0, 0.9600819945335388)\",\"(0.0, 0.9602028727531433)\",\"(0.0, 0.9613648056983948)\",\"(0.0, 0.961531400680542)\",\"(0.0, 0.9616358280181885)\",\"(0.0, 0.9622048139572144)\",\"(0.0, 0.9622130393981934)\",\"(0.0, 0.9637523293495178)\",\"(0.0, 0.9637845754623413)\",\"(0.0, 0.9638968706130981)\",\"(0.0, 0.9640777707099915)\",\"(0.0, 0.9650154113769531)\",\"(0.0, 0.9652705788612366)\",\"(0.0, 0.9684491753578186)\",\"(0.0, 0.9701085686683655)\",\"(0.0, 0.9702467322349548)\",\"(0.0, 0.9706854820251465)\",\"(0.0, 0.9713395833969116)\",\"(0.0, 0.9713650345802307)\",\"(0.0, 0.971415638923645)\",\"(0.0, 0.9724059700965881)\",\"(0.0, 0.9727420210838318)\",\"(0.0, 0.9727625846862793)\",\"(0.0, 0.9746713042259216)\",\"(0.0, 0.9746999740600586)\",\"(0.0, 0.9750497937202454)\",\"(0.0, 0.9752637147903442)\",\"(0.0, 0.9754283428192139)\",\"(0.0, 0.9774461984634399)\",\"(0.0, 0.9774482250213623)\",\"(0.0, 0.9780011773109436)\",\"(0.0, 0.9803428649902344)\",\"(0.0, 0.9810807704925537)\",\"(0.0, 0.9811422824859619)\",\"(0.0, 0.982554018497467)\",\"(0.0, 0.9832298159599304)\",\"(0.0, 0.983316957950592)\",\"(0.0, 0.983583927154541)\",\"(0.0, 0.9839150309562683)\",\"(0.0, 0.9845914840698242)\",\"(0.0, 0.9845952391624451)\",\"(0.0, 0.9847242832183838)\",\"(0.0, 0.9848461151123047)\",\"(0.0, 0.9849092364311218)\",\"(0.0, 0.9850656390190125)\",\"(0.0, 0.9853514432907104)\",\"(0.0, 0.9858472943305969)\",\"(0.0, 0.9862183928489685)\",\"(0.0, 0.9864004254341125)\",\"(0.0, 0.9870274662971497)\",\"(0.0, 0.9871587157249451)\",\"(0.0, 0.9872058629989624)\",\"(0.0, 0.9880277514457703)\",\"(0.0, 0.988160252571106)\",\"(0.0, 0.9882125854492188)\",\"(0.0, 0.9886008501052856)\",\"(0.0, 0.9887977242469788)\",\"(0.0, 0.9889034628868103)\",\"(0.0, 0.9889956116676331)\",\"(0.0, 0.9904430508613586)\",\"(0.0, 0.9906718134880066)\",\"(0.0, 0.9912415742874146)\",\"(0.0, 0.9919952154159546)\",\"(0.0, 0.9926031231880188)\",\"(0.0, 0.9926935434341431)\",\"(0.0, 0.9931474328041077)\",\"(0.0, 0.9946328997612)\",\"(0.0, 0.9949169158935547)\",\"(0.0, 0.9952911138534546)\",\"(0.0, 0.9953732490539551)\",\"(0.0, 0.9978293776512146)\",\"(0.0, 0.9984106421470642)\",\"(0.0, 0.9984936118125916)\",\"(0.0, 0.9989981651306152)\",\"(0.0, 1.0007368326187134)\",\"(0.0, 1.001068115234375)\",\"(0.0, 1.0013424158096313)\",\"(0.0, 1.0016483068466187)\",\"(0.0, 1.0024141073226929)\",\"(0.0, 1.0028858184814453)\",\"(0.0, 1.003078579902649)\",\"(0.0, 1.0031760931015015)\",\"(0.0, 1.0034586191177368)\",\"(0.0, 1.0036628246307373)\",\"(0.0, 1.0038163661956787)\",\"(0.0, 1.004434585571289)\",\"(0.0, 1.0047661066055298)\",\"(0.0, 1.0048707723617554)\",\"(0.0, 1.0051683187484741)\",\"(0.0, 1.005971908569336)\",\"(0.0, 1.0064555406570435)\",\"(0.0, 1.00669527053833)\",\"(0.0, 1.0092002153396606)\",\"(0.0, 1.0094481706619263)\",\"(0.0, 1.009600281715393)\",\"(0.0, 1.010358214378357)\",\"(0.0, 1.0105793476104736)\",\"(0.0, 1.0107535123825073)\",\"(0.0, 1.0109068155288696)\",\"(0.0, 1.011393427848816)\",\"(0.0, 1.0120315551757812)\",\"(0.0, 1.0123419761657715)\",\"(0.0, 1.0123978853225708)\",\"(0.0, 1.0131713151931763)\",\"(0.0, 1.0133424997329712)\",\"(0.0, 1.0136761665344238)\",\"(0.0, 1.0137876272201538)\",\"(0.0, 1.0140761137008667)\",\"(0.0, 1.0142128467559814)\",\"(0.0, 1.014644980430603)\",\"(0.0, 1.0146886110305786)\",\"(0.0, 1.0147407054901123)\",\"(0.0, 1.0148588418960571)\",\"(0.0, 1.0150235891342163)\",\"(0.0, 1.0152146816253662)\",\"(0.0, 1.0157995223999023)\",\"(0.0, 1.0159085988998413)\",\"(0.0, 1.0169166326522827)\",\"(0.0, 1.0179311037063599)\",\"(0.0, 1.0181938409805298)\",\"(0.0, 1.0182784795761108)\",\"(0.0, 1.0182945728302002)\",\"(0.0, 1.0185626745224)\",\"(0.0, 1.0186139345169067)\",\"(0.0, 1.0193175077438354)\",\"(0.0, 1.01938796043396)\",\"(0.0, 1.0198405981063843)\",\"(0.0, 1.019929051399231)\",\"(0.0, 1.0210336446762085)\",\"(0.0, 1.0211089849472046)\",\"(0.0, 1.0222930908203125)\",\"(0.0, 1.0223524570465088)\",\"(0.0, 1.0223956108093262)\",\"(0.0, 1.0254933834075928)\",\"(0.0, 1.0255613327026367)\",\"(0.0, 1.0256112813949585)\",\"(0.0, 1.0257277488708496)\",\"(0.0, 1.0259610414505005)\",\"(0.0, 1.0260570049285889)\",\"(0.0, 1.0260944366455078)\",\"(0.0, 1.0262807607650757)\",\"(0.0, 1.0264339447021484)\",\"(0.0, 1.02659273147583)\",\"(0.0, 1.0266131162643433)\",\"(0.0, 1.026706576347351)\",\"(0.0, 1.027129054069519)\",\"(0.0, 1.0271328687667847)\",\"(0.0, 1.027657389640808)\",\"(0.0, 1.0279195308685303)\",\"(0.0, 1.0282524824142456)\",\"(0.0, 1.028437614440918)\",\"(0.0, 1.0284404754638672)\",\"(0.0, 1.0287212133407593)\",\"(0.0, 1.0292402505874634)\",\"(0.0, 1.0312809944152832)\",\"(0.0, 1.0313286781311035)\",\"(0.0, 1.0316667556762695)\",\"(0.0, 1.0321177244186401)\",\"(0.0, 1.0328993797302246)\",\"(0.0, 1.0330185890197754)\",\"(0.0, 1.0331997871398926)\",\"(0.0, 1.0333411693572998)\",\"(0.0, 1.0334928035736084)\",\"(0.0, 1.0337597131729126)\",\"(0.0, 1.034423589706421)\",\"(0.0, 1.03451669216156)\",\"(0.0, 1.0346163511276245)\",\"(0.0, 1.034741997718811)\",\"(0.0, 1.0347710847854614)\",\"(0.0, 1.0349127054214478)\",\"(0.0, 1.0350219011306763)\",\"(0.0, 1.0352809429168701)\",\"(0.0, 1.0361688137054443)\",\"(0.0, 1.0365582704544067)\",\"(0.0, 1.0367940664291382)\",\"(0.0, 1.0376157760620117)\",\"(0.0, 1.0377223491668701)\",\"(0.0, 1.0377558469772339)\",\"(0.0, 1.0379797220230103)\",\"(0.0, 1.0384942293167114)\",\"(0.0, 1.0385055541992188)\",\"(0.0, 1.0388262271881104)\",\"(0.0, 1.0393718481063843)\",\"(0.0, 1.0394915342330933)\",\"(0.0, 1.0414055585861206)\",\"(0.0, 1.0415185689926147)\",\"(0.0, 1.041985273361206)\",\"(0.0, 1.0420747995376587)\",\"(0.0, 1.0420939922332764)\",\"(0.0, 1.0423120260238647)\",\"(0.0, 1.042474627494812)\",\"(0.0, 1.042770504951477)\",\"(0.0, 1.0432268381118774)\",\"(0.0, 1.043688178062439)\",\"(0.0, 1.0441032648086548)\",\"(0.0, 1.0445834398269653)\",\"(0.0, 1.0448048114776611)\",\"(0.0, 1.045088768005371)\",\"(0.0, 1.045460820198059)\",\"(0.0, 1.0455180406570435)\",\"(0.0, 1.045600414276123)\",\"(0.0, 1.0464085340499878)\",\"(0.0, 1.046505331993103)\",\"(0.0, 1.0475502014160156)\",\"(0.0, 1.047615885734558)\",\"(0.0, 1.047975778579712)\",\"(0.0, 1.0481027364730835)\",\"(0.0, 1.0484060049057007)\",\"(0.0, 1.0485813617706299)\",\"(0.0, 1.0489511489868164)\",\"(0.0, 1.0492855310440063)\",\"(0.0, 1.0492933988571167)\",\"(0.0, 1.0493032932281494)\",\"(0.0, 1.0493688583374023)\",\"(0.0, 1.0495731830596924)\",\"(0.0, 1.0496426820755005)\",\"(0.0, 1.0500922203063965)\",\"(0.0, 1.050614595413208)\",\"(0.0, 1.0508288145065308)\",\"(0.0, 1.0509026050567627)\",\"(0.0, 1.0513170957565308)\",\"(0.0, 1.0514763593673706)\",\"(0.0, 1.051767110824585)\",\"(0.0, 1.0536136627197266)\",\"(0.0, 1.0537683963775635)\",\"(0.0, 1.0539127588272095)\",\"(0.0, 1.0549794435501099)\",\"(0.0, 1.055983543395996)\",\"(0.0, 1.0561665296554565)\",\"(0.0, 1.0566587448120117)\",\"(0.0, 1.0573198795318604)\",\"(0.0, 1.0579086542129517)\",\"(0.0, 1.0587366819381714)\",\"(0.0, 1.0590810775756836)\",\"(0.0, 1.0593808889389038)\",\"(0.0, 1.062018871307373)\",\"(0.0, 1.0628350973129272)\",\"(0.0, 1.063631296157837)\",\"(0.0, 1.0643423795700073)\",\"(0.0, 1.0645099878311157)\",\"(0.0, 1.0645899772644043)\",\"(0.0, 1.0647169351577759)\",\"(0.0, 1.0647823810577393)\",\"(0.0, 1.06494140625)\",\"(0.0, 1.0653432607650757)\",\"(0.0, 1.0656219720840454)\",\"(0.0, 1.0658289194107056)\",\"(0.0, 1.0667048692703247)\",\"(0.0, 1.0668522119522095)\",\"(0.0, 1.0670300722122192)\",\"(0.0, 1.0671415328979492)\",\"(0.0, 1.0671827793121338)\",\"(0.0, 1.0687923431396484)\",\"(0.0, 1.070351243019104)\",\"(0.0, 1.070743203163147)\",\"(0.0, 1.0709830522537231)\",\"(0.0, 1.0713880062103271)\",\"(0.0, 1.0714035034179688)\",\"(0.0, 1.0717710256576538)\",\"(0.0, 1.0723460912704468)\",\"(0.0, 1.0735725164413452)\",\"(0.0, 1.0749175548553467)\",\"(0.0, 1.0750536918640137)\",\"(0.0, 1.0763192176818848)\",\"(0.0, 1.0764710903167725)\",\"(0.0, 1.0767207145690918)\",\"(0.0, 1.0771538019180298)\",\"(0.0, 1.0773818492889404)\",\"(0.0, 1.0781124830245972)\",\"(0.0, 1.0782980918884277)\",\"(0.0, 1.078969955444336)\",\"(0.0, 1.0792053937911987)\",\"(0.0, 1.0795633792877197)\",\"(0.0, 1.0802617073059082)\",\"(0.0, 1.0807713270187378)\",\"(0.0, 1.0811278820037842)\",\"(0.0, 1.0825668573379517)\",\"(0.0, 1.0827891826629639)\",\"(0.0, 1.0836211442947388)\",\"(0.0, 1.0838820934295654)\",\"(0.0, 1.0860050916671753)\",\"(0.0, 1.0862793922424316)\",\"(0.0, 1.0863323211669922)\",\"(0.0, 1.0871500968933105)\",\"(0.0, 1.0878733396530151)\",\"(0.0, 1.088356852531433)\",\"(0.0, 1.090064287185669)\",\"(0.0, 1.0907636880874634)\",\"(0.0, 1.0915913581848145)\",\"(0.0, 1.0936534404754639)\",\"(0.0, 1.0945826768875122)\",\"(0.0, 1.0949839353561401)\",\"(0.0, 1.0956649780273438)\",\"(0.0, 1.0979138612747192)\",\"(0.0, 1.0980733633041382)\",\"(0.0, 1.0982987880706787)\",\"(0.0, 1.098575472831726)\",\"(0.0, 1.0997012853622437)\",\"(0.0, 1.0997624397277832)\",\"(0.0, 1.1001132726669312)\",\"(0.0, 1.1006072759628296)\",\"(0.0, 1.1006594896316528)\",\"(0.0, 1.1011676788330078)\",\"(0.0, 1.1021113395690918)\",\"(0.0, 1.1026825904846191)\",\"(0.0, 1.1027580499649048)\",\"(0.0, 1.1029343605041504)\",\"(0.0, 1.103744626045227)\",\"(0.0, 1.1039267778396606)\",\"(0.0, 1.1039823293685913)\",\"(0.0, 1.1041526794433594)\",\"(0.0, 1.1042722463607788)\",\"(0.0, 1.1042835712432861)\",\"(0.0, 1.104771614074707)\",\"(0.0, 1.1050854921340942)\",\"(0.0, 1.105217695236206)\",\"(0.0, 1.1063809394836426)\",\"(0.0, 1.1066545248031616)\",\"(0.0, 1.1069086790084839)\",\"(0.0, 1.1075321435928345)\",\"(0.0, 1.107840657234192)\",\"(0.0, 1.1079906225204468)\",\"(0.0, 1.1093910932540894)\",\"(0.0, 1.1097503900527954)\",\"(0.0, 1.1097854375839233)\",\"(0.0, 1.1101027727127075)\",\"(0.0, 1.1110742092132568)\",\"(0.0, 1.1116116046905518)\",\"(0.0, 1.1116154193878174)\",\"(0.0, 1.11192786693573)\",\"(0.0, 1.1132913827896118)\",\"(0.0, 1.113572120666504)\",\"(0.0, 1.1154929399490356)\",\"(0.0, 1.1155142784118652)\",\"(0.0, 1.115796446800232)\",\"(0.0, 1.1162930727005005)\",\"(0.0, 1.116712212562561)\",\"(0.0, 1.116719365119934)\",\"(0.0, 1.117091178894043)\",\"(0.0, 1.1170932054519653)\",\"(0.0, 1.1171633005142212)\",\"(0.0, 1.1173650026321411)\",\"(0.0, 1.117454171180725)\",\"(0.0, 1.1174616813659668)\",\"(0.0, 1.1175159215927124)\",\"(0.0, 1.1185802221298218)\",\"(0.0, 1.1201921701431274)\",\"(0.0, 1.1211460828781128)\",\"(0.0, 1.122908592224121)\",\"(0.0, 1.1249966621398926)\",\"(0.0, 1.125057578086853)\",\"(0.0, 1.1259098052978516)\",\"(0.0, 1.1260128021240234)\",\"(0.0, 1.131868839263916)\",\"(0.0, 1.1330273151397705)\",\"(0.0, 1.1334187984466553)\",\"(0.0, 1.1342566013336182)\",\"(0.0, 1.135417103767395)\",\"(0.0, 1.1356008052825928)\",\"(0.0, 1.1381536722183228)\",\"(0.0, 1.138425588607788)\",\"(0.0, 1.1387646198272705)\",\"(0.0, 1.139293909072876)\",\"(0.0, 1.1399116516113281)\",\"(0.0, 1.140180230140686)\",\"(0.0, 1.1411645412445068)\",\"(0.0, 1.1413222551345825)\",\"(0.0, 1.1414357423782349)\",\"(0.0, 1.1418426036834717)\",\"(0.0, 1.1431409120559692)\",\"(0.0, 1.1433709859848022)\",\"(0.0, 1.1450836658477783)\",\"(0.0, 1.1471407413482666)\",\"(0.0, 1.1479336023330688)\",\"(0.0, 1.148840308189392)\",\"(0.0, 1.149298071861267)\",\"(0.0, 1.1512830257415771)\",\"(0.0, 1.1524112224578857)\",\"(0.0, 1.1527228355407715)\",\"(0.0, 1.1535964012145996)\",\"(0.0, 1.1613539457321167)\",\"(0.0, 1.161573886871338)\",\"(0.0, 1.1628096103668213)\",\"(0.0, 1.1646780967712402)\",\"(0.0, 1.1651068925857544)\",\"(0.0, 1.1661615371704102)\",\"(0.0, 1.1668148040771484)\",\"(0.0, 1.1670104265213013)\",\"(0.0, 1.167443037033081)\",\"(0.0, 1.1675643920898438)\",\"(0.0, 1.167729377746582)\",\"(0.0, 1.1698508262634277)\",\"(0.0, 1.1700483560562134)\",\"(0.0, 1.170371413230896)\",\"(0.0, 1.1711246967315674)\",\"(0.0, 1.1713714599609375)\",\"(0.0, 1.1716680526733398)\",\"(0.0, 1.173315167427063)\",\"(0.0, 1.1733986139297485)\",\"(0.0, 1.174445629119873)\",\"(0.0, 1.1745080947875977)\",\"(0.0, 1.1768430471420288)\",\"(0.0, 1.1785435676574707)\",\"(0.0, 1.1789826154708862)\",\"(0.0, 1.179510474205017)\",\"(0.0, 1.1800696849822998)\",\"(0.0, 1.180547833442688)\",\"(0.0, 1.1832431554794312)\",\"(0.0, 1.1834787130355835)\",\"(0.0, 1.183663249015808)\",\"(0.0, 1.1837584972381592)\",\"(0.0, 1.1840312480926514)\",\"(0.0, 1.1851112842559814)\",\"(0.0, 1.1853313446044922)\",\"(0.0, 1.1855852603912354)\",\"(0.0, 1.1861919164657593)\",\"(0.0, 1.1864862442016602)\",\"(0.0, 1.186929702758789)\",\"(0.0, 1.1873559951782227)\",\"(0.0, 1.1889373064041138)\",\"(0.0, 1.1895564794540405)\",\"(0.0, 1.1981494426727295)\",\"(0.0, 1.2048875093460083)\",\"(0.0, 1.2107967138290405)\",\"(0.0, 1.213421106338501)\",\"(0.0, 1.2188870906829834)\",\"(0.0, 1.2221686840057373)\",\"(0.0, 1.2235337495803833)\",\"(0.0, 1.2240378856658936)\",\"(0.0, 1.2312648296356201)\",\"(0.0, 1.2314417362213135)\",\"(0.0, 1.2398240566253662)\",\"(0.0, 1.2413955926895142)\",\"(0.0, 1.2579855918884277)\",\"(0.0, 1.2614705562591553)\",\"(0.0, 1.281456470489502)\"],\"mode\":\"markers\",\"name\":\"H0\",\"type\":\"scatter\",\"x\":[0.0,0.0,0.0,0.0,0.0,0.0,0.0,0.0,0.0,0.0,0.0,0.0,0.0,0.0,0.0,0.0,0.0,0.0,0.0,0.0,0.0,0.0,0.0,0.0,0.0,0.0,0.0,0.0,0.0,0.0,0.0,0.0,0.0,0.0,0.0,0.0,0.0,0.0,0.0,0.0,0.0,0.0,0.0,0.0,0.0,0.0,0.0,0.0,0.0,0.0,0.0,0.0,0.0,0.0,0.0,0.0,0.0,0.0,0.0,0.0,0.0,0.0,0.0,0.0,0.0,0.0,0.0,0.0,0.0,0.0,0.0,0.0,0.0,0.0,0.0,0.0,0.0,0.0,0.0,0.0,0.0,0.0,0.0,0.0,0.0,0.0,0.0,0.0,0.0,0.0,0.0,0.0,0.0,0.0,0.0,0.0,0.0,0.0,0.0,0.0,0.0,0.0,0.0,0.0,0.0,0.0,0.0,0.0,0.0,0.0,0.0,0.0,0.0,0.0,0.0,0.0,0.0,0.0,0.0,0.0,0.0,0.0,0.0,0.0,0.0,0.0,0.0,0.0,0.0,0.0,0.0,0.0,0.0,0.0,0.0,0.0,0.0,0.0,0.0,0.0,0.0,0.0,0.0,0.0,0.0,0.0,0.0,0.0,0.0,0.0,0.0,0.0,0.0,0.0,0.0,0.0,0.0,0.0,0.0,0.0,0.0,0.0,0.0,0.0,0.0,0.0,0.0,0.0,0.0,0.0,0.0,0.0,0.0,0.0,0.0,0.0,0.0,0.0,0.0,0.0,0.0,0.0,0.0,0.0,0.0,0.0,0.0,0.0,0.0,0.0,0.0,0.0,0.0,0.0,0.0,0.0,0.0,0.0,0.0,0.0,0.0,0.0,0.0,0.0,0.0,0.0,0.0,0.0,0.0,0.0,0.0,0.0,0.0,0.0,0.0,0.0,0.0,0.0,0.0,0.0,0.0,0.0,0.0,0.0,0.0,0.0,0.0,0.0,0.0,0.0,0.0,0.0,0.0,0.0,0.0,0.0,0.0,0.0,0.0,0.0,0.0,0.0,0.0,0.0,0.0,0.0,0.0,0.0,0.0,0.0,0.0,0.0,0.0,0.0,0.0,0.0,0.0,0.0,0.0,0.0,0.0,0.0,0.0,0.0,0.0,0.0,0.0,0.0,0.0,0.0,0.0,0.0,0.0,0.0,0.0,0.0,0.0,0.0,0.0,0.0,0.0,0.0,0.0,0.0,0.0,0.0,0.0,0.0,0.0,0.0,0.0,0.0,0.0,0.0,0.0,0.0,0.0,0.0,0.0,0.0,0.0,0.0,0.0,0.0,0.0,0.0,0.0,0.0,0.0,0.0,0.0,0.0,0.0,0.0,0.0,0.0,0.0,0.0,0.0,0.0,0.0,0.0,0.0,0.0,0.0,0.0,0.0,0.0,0.0,0.0,0.0,0.0,0.0,0.0,0.0,0.0,0.0,0.0,0.0,0.0,0.0,0.0,0.0,0.0,0.0,0.0,0.0,0.0,0.0,0.0,0.0,0.0,0.0,0.0,0.0,0.0,0.0,0.0,0.0,0.0,0.0,0.0,0.0,0.0,0.0,0.0,0.0,0.0,0.0,0.0,0.0,0.0,0.0,0.0,0.0,0.0,0.0,0.0,0.0,0.0,0.0,0.0,0.0,0.0,0.0,0.0,0.0,0.0,0.0,0.0,0.0,0.0,0.0,0.0,0.0,0.0,0.0,0.0,0.0,0.0,0.0,0.0,0.0,0.0,0.0,0.0,0.0,0.0,0.0,0.0,0.0,0.0,0.0,0.0,0.0,0.0,0.0,0.0,0.0,0.0,0.0,0.0,0.0,0.0,0.0,0.0,0.0,0.0,0.0,0.0,0.0,0.0,0.0,0.0,0.0,0.0,0.0,0.0,0.0,0.0,0.0,0.0,0.0,0.0,0.0,0.0,0.0,0.0,0.0,0.0,0.0,0.0,0.0,0.0,0.0,0.0,0.0,0.0,0.0,0.0,0.0,0.0,0.0,0.0,0.0,0.0,0.0,0.0,0.0,0.0,0.0,0.0,0.0,0.0,0.0,0.0,0.0,0.0,0.0,0.0,0.0,0.0,0.0,0.0,0.0,0.0,0.0,0.0,0.0,0.0,0.0,0.0,0.0,0.0,0.0,0.0,0.0,0.0,0.0,0.0,0.0,0.0,0.0,0.0,0.0,0.0,0.0,0.0,0.0,0.0,0.0,0.0,0.0,0.0,0.0,0.0,0.0,0.0,0.0,0.0],\"y\":[0.8188642263412476,0.8300170302391052,0.8322417140007019,0.8322480916976929,0.8337040543556213,0.835758626461029,0.8357656598091125,0.8380374908447266,0.8398895859718323,0.8401166200637817,0.8402671813964844,0.8465490341186523,0.8470317125320435,0.851016640663147,0.8575956225395203,0.8597157001495361,0.8617839217185974,0.8630889058113098,0.8658539652824402,0.8684023022651672,0.8860281705856323,0.8913645148277283,0.8959699869155884,0.8976389169692993,0.8983753323554993,0.8996908664703369,0.9023928046226501,0.9055432677268982,0.9059378504753113,0.9061211943626404,0.9084277153015137,0.9109823703765869,0.9133061766624451,0.9155585765838623,0.9229409098625183,0.9233303070068359,0.924129843711853,0.9257171154022217,0.9262315034866333,0.9267885684967041,0.9285608530044556,0.92903733253479,0.9294540882110596,0.9301619529724121,0.9315107464790344,0.9326265454292297,0.9336671829223633,0.9344194531440735,0.9348176121711731,0.9348617792129517,0.9349888563156128,0.9351781010627747,0.936026930809021,0.9361213445663452,0.9383813142776489,0.9394097328186035,0.9402973651885986,0.9414510130882263,0.9418816566467285,0.9428128600120544,0.9436289668083191,0.9437912702560425,0.9439795613288879,0.9441751837730408,0.945684552192688,0.9471468925476074,0.9488655924797058,0.9489138126373291,0.9496097564697266,0.9504273533821106,0.9509979486465454,0.9510748386383057,0.9524329304695129,0.9525379538536072,0.9527254700660706,0.9530614614486694,0.953292965888977,0.9542336463928223,0.954923689365387,0.9570432305335999,0.9580901265144348,0.9586730003356934,0.9589764475822449,0.9594947099685669,0.9600819945335388,0.9602028727531433,0.9613648056983948,0.961531400680542,0.9616358280181885,0.9622048139572144,0.9622130393981934,0.9637523293495178,0.9637845754623413,0.9638968706130981,0.9640777707099915,0.9650154113769531,0.9652705788612366,0.9684491753578186,0.9701085686683655,0.9702467322349548,0.9706854820251465,0.9713395833969116,0.9713650345802307,0.971415638923645,0.9724059700965881,0.9727420210838318,0.9727625846862793,0.9746713042259216,0.9746999740600586,0.9750497937202454,0.9752637147903442,0.9754283428192139,0.9774461984634399,0.9774482250213623,0.9780011773109436,0.9803428649902344,0.9810807704925537,0.9811422824859619,0.982554018497467,0.9832298159599304,0.983316957950592,0.983583927154541,0.9839150309562683,0.9845914840698242,0.9845952391624451,0.9847242832183838,0.9848461151123047,0.9849092364311218,0.9850656390190125,0.9853514432907104,0.9858472943305969,0.9862183928489685,0.9864004254341125,0.9870274662971497,0.9871587157249451,0.9872058629989624,0.9880277514457703,0.988160252571106,0.9882125854492188,0.9886008501052856,0.9887977242469788,0.9889034628868103,0.9889956116676331,0.9904430508613586,0.9906718134880066,0.9912415742874146,0.9919952154159546,0.9926031231880188,0.9926935434341431,0.9931474328041077,0.9946328997612,0.9949169158935547,0.9952911138534546,0.9953732490539551,0.9978293776512146,0.9984106421470642,0.9984936118125916,0.9989981651306152,1.0007368326187134,1.001068115234375,1.0013424158096313,1.0016483068466187,1.0024141073226929,1.0028858184814453,1.003078579902649,1.0031760931015015,1.0034586191177368,1.0036628246307373,1.0038163661956787,1.004434585571289,1.0047661066055298,1.0048707723617554,1.0051683187484741,1.005971908569336,1.0064555406570435,1.00669527053833,1.0092002153396606,1.0094481706619263,1.009600281715393,1.010358214378357,1.0105793476104736,1.0107535123825073,1.0109068155288696,1.011393427848816,1.0120315551757812,1.0123419761657715,1.0123978853225708,1.0131713151931763,1.0133424997329712,1.0136761665344238,1.0137876272201538,1.0140761137008667,1.0142128467559814,1.014644980430603,1.0146886110305786,1.0147407054901123,1.0148588418960571,1.0150235891342163,1.0152146816253662,1.0157995223999023,1.0159085988998413,1.0169166326522827,1.0179311037063599,1.0181938409805298,1.0182784795761108,1.0182945728302002,1.0185626745224,1.0186139345169067,1.0193175077438354,1.01938796043396,1.0198405981063843,1.019929051399231,1.0210336446762085,1.0211089849472046,1.0222930908203125,1.0223524570465088,1.0223956108093262,1.0254933834075928,1.0255613327026367,1.0256112813949585,1.0257277488708496,1.0259610414505005,1.0260570049285889,1.0260944366455078,1.0262807607650757,1.0264339447021484,1.02659273147583,1.0266131162643433,1.026706576347351,1.027129054069519,1.0271328687667847,1.027657389640808,1.0279195308685303,1.0282524824142456,1.028437614440918,1.0284404754638672,1.0287212133407593,1.0292402505874634,1.0312809944152832,1.0313286781311035,1.0316667556762695,1.0321177244186401,1.0328993797302246,1.0330185890197754,1.0331997871398926,1.0333411693572998,1.0334928035736084,1.0337597131729126,1.034423589706421,1.03451669216156,1.0346163511276245,1.034741997718811,1.0347710847854614,1.0349127054214478,1.0350219011306763,1.0352809429168701,1.0361688137054443,1.0365582704544067,1.0367940664291382,1.0376157760620117,1.0377223491668701,1.0377558469772339,1.0379797220230103,1.0384942293167114,1.0385055541992188,1.0388262271881104,1.0393718481063843,1.0394915342330933,1.0414055585861206,1.0415185689926147,1.041985273361206,1.0420747995376587,1.0420939922332764,1.0423120260238647,1.042474627494812,1.042770504951477,1.0432268381118774,1.043688178062439,1.0441032648086548,1.0445834398269653,1.0448048114776611,1.045088768005371,1.045460820198059,1.0455180406570435,1.045600414276123,1.0464085340499878,1.046505331993103,1.0475502014160156,1.047615885734558,1.047975778579712,1.0481027364730835,1.0484060049057007,1.0485813617706299,1.0489511489868164,1.0492855310440063,1.0492933988571167,1.0493032932281494,1.0493688583374023,1.0495731830596924,1.0496426820755005,1.0500922203063965,1.050614595413208,1.0508288145065308,1.0509026050567627,1.0513170957565308,1.0514763593673706,1.051767110824585,1.0536136627197266,1.0537683963775635,1.0539127588272095,1.0549794435501099,1.055983543395996,1.0561665296554565,1.0566587448120117,1.0573198795318604,1.0579086542129517,1.0587366819381714,1.0590810775756836,1.0593808889389038,1.062018871307373,1.0628350973129272,1.063631296157837,1.0643423795700073,1.0645099878311157,1.0645899772644043,1.0647169351577759,1.0647823810577393,1.06494140625,1.0653432607650757,1.0656219720840454,1.0658289194107056,1.0667048692703247,1.0668522119522095,1.0670300722122192,1.0671415328979492,1.0671827793121338,1.0687923431396484,1.070351243019104,1.070743203163147,1.0709830522537231,1.0713880062103271,1.0714035034179688,1.0717710256576538,1.0723460912704468,1.0735725164413452,1.0749175548553467,1.0750536918640137,1.0763192176818848,1.0764710903167725,1.0767207145690918,1.0771538019180298,1.0773818492889404,1.0781124830245972,1.0782980918884277,1.078969955444336,1.0792053937911987,1.0795633792877197,1.0802617073059082,1.0807713270187378,1.0811278820037842,1.0825668573379517,1.0827891826629639,1.0836211442947388,1.0838820934295654,1.0860050916671753,1.0862793922424316,1.0863323211669922,1.0871500968933105,1.0878733396530151,1.088356852531433,1.090064287185669,1.0907636880874634,1.0915913581848145,1.0936534404754639,1.0945826768875122,1.0949839353561401,1.0956649780273438,1.0979138612747192,1.0980733633041382,1.0982987880706787,1.098575472831726,1.0997012853622437,1.0997624397277832,1.1001132726669312,1.1006072759628296,1.1006594896316528,1.1011676788330078,1.1021113395690918,1.1026825904846191,1.1027580499649048,1.1029343605041504,1.103744626045227,1.1039267778396606,1.1039823293685913,1.1041526794433594,1.1042722463607788,1.1042835712432861,1.104771614074707,1.1050854921340942,1.105217695236206,1.1063809394836426,1.1066545248031616,1.1069086790084839,1.1075321435928345,1.107840657234192,1.1079906225204468,1.1093910932540894,1.1097503900527954,1.1097854375839233,1.1101027727127075,1.1110742092132568,1.1116116046905518,1.1116154193878174,1.11192786693573,1.1132913827896118,1.113572120666504,1.1154929399490356,1.1155142784118652,1.115796446800232,1.1162930727005005,1.116712212562561,1.116719365119934,1.117091178894043,1.1170932054519653,1.1171633005142212,1.1173650026321411,1.117454171180725,1.1174616813659668,1.1175159215927124,1.1185802221298218,1.1201921701431274,1.1211460828781128,1.122908592224121,1.1249966621398926,1.125057578086853,1.1259098052978516,1.1260128021240234,1.131868839263916,1.1330273151397705,1.1334187984466553,1.1342566013336182,1.135417103767395,1.1356008052825928,1.1381536722183228,1.138425588607788,1.1387646198272705,1.139293909072876,1.1399116516113281,1.140180230140686,1.1411645412445068,1.1413222551345825,1.1414357423782349,1.1418426036834717,1.1431409120559692,1.1433709859848022,1.1450836658477783,1.1471407413482666,1.1479336023330688,1.148840308189392,1.149298071861267,1.1512830257415771,1.1524112224578857,1.1527228355407715,1.1535964012145996,1.1613539457321167,1.161573886871338,1.1628096103668213,1.1646780967712402,1.1651068925857544,1.1661615371704102,1.1668148040771484,1.1670104265213013,1.167443037033081,1.1675643920898438,1.167729377746582,1.1698508262634277,1.1700483560562134,1.170371413230896,1.1711246967315674,1.1713714599609375,1.1716680526733398,1.173315167427063,1.1733986139297485,1.174445629119873,1.1745080947875977,1.1768430471420288,1.1785435676574707,1.1789826154708862,1.179510474205017,1.1800696849822998,1.180547833442688,1.1832431554794312,1.1834787130355835,1.183663249015808,1.1837584972381592,1.1840312480926514,1.1851112842559814,1.1853313446044922,1.1855852603912354,1.1861919164657593,1.1864862442016602,1.186929702758789,1.1873559951782227,1.1889373064041138,1.1895564794540405,1.1981494426727295,1.2048875093460083,1.2107967138290405,1.213421106338501,1.2188870906829834,1.2221686840057373,1.2235337495803833,1.2240378856658936,1.2312648296356201,1.2314417362213135,1.2398240566253662,1.2413955926895142,1.2579855918884277,1.2614705562591553,1.281456470489502]},{\"hoverinfo\":\"text\",\"hovertext\":[\"(1.2864303588867188, 64.21710205078125)\",\"(1.277006983757019, 1.3078042268753052)\",\"(1.2466624975204468, 1.2546565532684326)\",\"(1.2435463666915894, 1.299830675125122)\",\"(1.2419404983520508, 1.2571547031402588)\",\"(1.2002546787261963, 1.202880859375)\",\"(1.1967507600784302, 1.2780225276947021)\",\"(1.1927534341812134, 1.277303695678711)\",\"(1.186639428138733, 1.277476191520691)\",\"(1.1681654453277588, 1.204772710800171)\",\"(1.167751431465149, 1.2037973403930664)\",\"(1.1652823686599731, 1.2308673858642578)\",\"(1.1652042865753174, 1.2088152170181274)\",\"(1.1643853187561035, 1.2086288928985596)\",\"(1.1449942588806152, 1.1996867656707764)\",\"(1.1420984268188477, 1.163806676864624)\",\"(1.1365978717803955, 1.1777009963989258)\",\"(1.1360933780670166, 1.1997240781784058)\",\"(1.1339378356933594, 1.257494568824768)\",\"(1.132431983947754, 1.200211524963379)\",\"(1.1273610591888428, 1.154504418373108)\",\"(1.120161533355713, 1.2582875490188599)\",\"(1.1178028583526611, 1.258171558380127)\",\"(1.1157150268554688, 1.1734495162963867)\",\"(1.1087754964828491, 1.154976725578308)\",\"(1.107686161994934, 1.1294727325439453)\",\"(1.0995689630508423, 1.1364045143127441)\",\"(1.0924893617630005, 1.1331419944763184)\",\"(1.0853031873703003, 1.1417385339736938)\",\"(1.0831753015518188, 1.1993688344955444)\",\"(1.0782138109207153, 1.1699233055114746)\",\"(1.0631804466247559, 1.1692298650741577)\",\"(1.060106635093689, 1.0856282711029053)\",\"(1.0593509674072266, 1.090020775794983)\",\"(1.0589938163757324, 1.0955126285552979)\",\"(1.050945520401001, 1.138179063796997)\",\"(1.0409443378448486, 1.1492846012115479)\",\"(1.0403289794921875, 1.1582837104797363)\",\"(1.029638648033142, 1.1406378746032715)\",\"(1.0142652988433838, 1.0286020040512085)\",\"(1.0035300254821777, 1.0290228128433228)\",\"(1.0004862546920776, 1.1474132537841797)\"],\"mode\":\"markers\",\"name\":\"H1\",\"type\":\"scatter\",\"x\":[1.2864303588867188,1.277006983757019,1.2466624975204468,1.2435463666915894,1.2419404983520508,1.2002546787261963,1.1967507600784302,1.1927534341812134,1.186639428138733,1.1681654453277588,1.167751431465149,1.1652823686599731,1.1652042865753174,1.1643853187561035,1.1449942588806152,1.1420984268188477,1.1365978717803955,1.1360933780670166,1.1339378356933594,1.132431983947754,1.1273610591888428,1.120161533355713,1.1178028583526611,1.1157150268554688,1.1087754964828491,1.107686161994934,1.0995689630508423,1.0924893617630005,1.0853031873703003,1.0831753015518188,1.0782138109207153,1.0631804466247559,1.060106635093689,1.0593509674072266,1.0589938163757324,1.050945520401001,1.0409443378448486,1.0403289794921875,1.029638648033142,1.0142652988433838,1.0035300254821777,1.0004862546920776],\"y\":[64.21710205078125,1.3078042268753052,1.2546565532684326,1.299830675125122,1.2571547031402588,1.202880859375,1.2780225276947021,1.277303695678711,1.277476191520691,1.204772710800171,1.2037973403930664,1.2308673858642578,1.2088152170181274,1.2086288928985596,1.1996867656707764,1.163806676864624,1.1777009963989258,1.1997240781784058,1.257494568824768,1.200211524963379,1.154504418373108,1.2582875490188599,1.258171558380127,1.1734495162963867,1.154976725578308,1.1294727325439453,1.1364045143127441,1.1331419944763184,1.1417385339736938,1.1993688344955444,1.1699233055114746,1.1692298650741577,1.0856282711029053,1.090020775794983,1.0955126285552979,1.138179063796997,1.1492846012115479,1.1582837104797363,1.1406378746032715,1.0286020040512085,1.0290228128433228,1.1474132537841797]}],                        {\"height\":500,\"plot_bgcolor\":\"white\",\"template\":{\"data\":{\"bar\":[{\"error_x\":{\"color\":\"#2a3f5f\"},\"error_y\":{\"color\":\"#2a3f5f\"},\"marker\":{\"line\":{\"color\":\"#E5ECF6\",\"width\":0.5},\"pattern\":{\"fillmode\":\"overlay\",\"size\":10,\"solidity\":0.2}},\"type\":\"bar\"}],\"barpolar\":[{\"marker\":{\"line\":{\"color\":\"#E5ECF6\",\"width\":0.5},\"pattern\":{\"fillmode\":\"overlay\",\"size\":10,\"solidity\":0.2}},\"type\":\"barpolar\"}],\"carpet\":[{\"aaxis\":{\"endlinecolor\":\"#2a3f5f\",\"gridcolor\":\"white\",\"linecolor\":\"white\",\"minorgridcolor\":\"white\",\"startlinecolor\":\"#2a3f5f\"},\"baxis\":{\"endlinecolor\":\"#2a3f5f\",\"gridcolor\":\"white\",\"linecolor\":\"white\",\"minorgridcolor\":\"white\",\"startlinecolor\":\"#2a3f5f\"},\"type\":\"carpet\"}],\"choropleth\":[{\"colorbar\":{\"outlinewidth\":0,\"ticks\":\"\"},\"type\":\"choropleth\"}],\"contour\":[{\"colorbar\":{\"outlinewidth\":0,\"ticks\":\"\"},\"colorscale\":[[0.0,\"#0d0887\"],[0.1111111111111111,\"#46039f\"],[0.2222222222222222,\"#7201a8\"],[0.3333333333333333,\"#9c179e\"],[0.4444444444444444,\"#bd3786\"],[0.5555555555555556,\"#d8576b\"],[0.6666666666666666,\"#ed7953\"],[0.7777777777777778,\"#fb9f3a\"],[0.8888888888888888,\"#fdca26\"],[1.0,\"#f0f921\"]],\"type\":\"contour\"}],\"contourcarpet\":[{\"colorbar\":{\"outlinewidth\":0,\"ticks\":\"\"},\"type\":\"contourcarpet\"}],\"heatmap\":[{\"colorbar\":{\"outlinewidth\":0,\"ticks\":\"\"},\"colorscale\":[[0.0,\"#0d0887\"],[0.1111111111111111,\"#46039f\"],[0.2222222222222222,\"#7201a8\"],[0.3333333333333333,\"#9c179e\"],[0.4444444444444444,\"#bd3786\"],[0.5555555555555556,\"#d8576b\"],[0.6666666666666666,\"#ed7953\"],[0.7777777777777778,\"#fb9f3a\"],[0.8888888888888888,\"#fdca26\"],[1.0,\"#f0f921\"]],\"type\":\"heatmap\"}],\"heatmapgl\":[{\"colorbar\":{\"outlinewidth\":0,\"ticks\":\"\"},\"colorscale\":[[0.0,\"#0d0887\"],[0.1111111111111111,\"#46039f\"],[0.2222222222222222,\"#7201a8\"],[0.3333333333333333,\"#9c179e\"],[0.4444444444444444,\"#bd3786\"],[0.5555555555555556,\"#d8576b\"],[0.6666666666666666,\"#ed7953\"],[0.7777777777777778,\"#fb9f3a\"],[0.8888888888888888,\"#fdca26\"],[1.0,\"#f0f921\"]],\"type\":\"heatmapgl\"}],\"histogram\":[{\"marker\":{\"pattern\":{\"fillmode\":\"overlay\",\"size\":10,\"solidity\":0.2}},\"type\":\"histogram\"}],\"histogram2d\":[{\"colorbar\":{\"outlinewidth\":0,\"ticks\":\"\"},\"colorscale\":[[0.0,\"#0d0887\"],[0.1111111111111111,\"#46039f\"],[0.2222222222222222,\"#7201a8\"],[0.3333333333333333,\"#9c179e\"],[0.4444444444444444,\"#bd3786\"],[0.5555555555555556,\"#d8576b\"],[0.6666666666666666,\"#ed7953\"],[0.7777777777777778,\"#fb9f3a\"],[0.8888888888888888,\"#fdca26\"],[1.0,\"#f0f921\"]],\"type\":\"histogram2d\"}],\"histogram2dcontour\":[{\"colorbar\":{\"outlinewidth\":0,\"ticks\":\"\"},\"colorscale\":[[0.0,\"#0d0887\"],[0.1111111111111111,\"#46039f\"],[0.2222222222222222,\"#7201a8\"],[0.3333333333333333,\"#9c179e\"],[0.4444444444444444,\"#bd3786\"],[0.5555555555555556,\"#d8576b\"],[0.6666666666666666,\"#ed7953\"],[0.7777777777777778,\"#fb9f3a\"],[0.8888888888888888,\"#fdca26\"],[1.0,\"#f0f921\"]],\"type\":\"histogram2dcontour\"}],\"mesh3d\":[{\"colorbar\":{\"outlinewidth\":0,\"ticks\":\"\"},\"type\":\"mesh3d\"}],\"parcoords\":[{\"line\":{\"colorbar\":{\"outlinewidth\":0,\"ticks\":\"\"}},\"type\":\"parcoords\"}],\"pie\":[{\"automargin\":true,\"type\":\"pie\"}],\"scatter\":[{\"marker\":{\"colorbar\":{\"outlinewidth\":0,\"ticks\":\"\"}},\"type\":\"scatter\"}],\"scatter3d\":[{\"line\":{\"colorbar\":{\"outlinewidth\":0,\"ticks\":\"\"}},\"marker\":{\"colorbar\":{\"outlinewidth\":0,\"ticks\":\"\"}},\"type\":\"scatter3d\"}],\"scattercarpet\":[{\"marker\":{\"colorbar\":{\"outlinewidth\":0,\"ticks\":\"\"}},\"type\":\"scattercarpet\"}],\"scattergeo\":[{\"marker\":{\"colorbar\":{\"outlinewidth\":0,\"ticks\":\"\"}},\"type\":\"scattergeo\"}],\"scattergl\":[{\"marker\":{\"colorbar\":{\"outlinewidth\":0,\"ticks\":\"\"}},\"type\":\"scattergl\"}],\"scattermapbox\":[{\"marker\":{\"colorbar\":{\"outlinewidth\":0,\"ticks\":\"\"}},\"type\":\"scattermapbox\"}],\"scatterpolar\":[{\"marker\":{\"colorbar\":{\"outlinewidth\":0,\"ticks\":\"\"}},\"type\":\"scatterpolar\"}],\"scatterpolargl\":[{\"marker\":{\"colorbar\":{\"outlinewidth\":0,\"ticks\":\"\"}},\"type\":\"scatterpolargl\"}],\"scatterternary\":[{\"marker\":{\"colorbar\":{\"outlinewidth\":0,\"ticks\":\"\"}},\"type\":\"scatterternary\"}],\"surface\":[{\"colorbar\":{\"outlinewidth\":0,\"ticks\":\"\"},\"colorscale\":[[0.0,\"#0d0887\"],[0.1111111111111111,\"#46039f\"],[0.2222222222222222,\"#7201a8\"],[0.3333333333333333,\"#9c179e\"],[0.4444444444444444,\"#bd3786\"],[0.5555555555555556,\"#d8576b\"],[0.6666666666666666,\"#ed7953\"],[0.7777777777777778,\"#fb9f3a\"],[0.8888888888888888,\"#fdca26\"],[1.0,\"#f0f921\"]],\"type\":\"surface\"}],\"table\":[{\"cells\":{\"fill\":{\"color\":\"#EBF0F8\"},\"line\":{\"color\":\"white\"}},\"header\":{\"fill\":{\"color\":\"#C8D4E3\"},\"line\":{\"color\":\"white\"}},\"type\":\"table\"}]},\"layout\":{\"annotationdefaults\":{\"arrowcolor\":\"#2a3f5f\",\"arrowhead\":0,\"arrowwidth\":1},\"autotypenumbers\":\"strict\",\"coloraxis\":{\"colorbar\":{\"outlinewidth\":0,\"ticks\":\"\"}},\"colorscale\":{\"diverging\":[[0,\"#8e0152\"],[0.1,\"#c51b7d\"],[0.2,\"#de77ae\"],[0.3,\"#f1b6da\"],[0.4,\"#fde0ef\"],[0.5,\"#f7f7f7\"],[0.6,\"#e6f5d0\"],[0.7,\"#b8e186\"],[0.8,\"#7fbc41\"],[0.9,\"#4d9221\"],[1,\"#276419\"]],\"sequential\":[[0.0,\"#0d0887\"],[0.1111111111111111,\"#46039f\"],[0.2222222222222222,\"#7201a8\"],[0.3333333333333333,\"#9c179e\"],[0.4444444444444444,\"#bd3786\"],[0.5555555555555556,\"#d8576b\"],[0.6666666666666666,\"#ed7953\"],[0.7777777777777778,\"#fb9f3a\"],[0.8888888888888888,\"#fdca26\"],[1.0,\"#f0f921\"]],\"sequentialminus\":[[0.0,\"#0d0887\"],[0.1111111111111111,\"#46039f\"],[0.2222222222222222,\"#7201a8\"],[0.3333333333333333,\"#9c179e\"],[0.4444444444444444,\"#bd3786\"],[0.5555555555555556,\"#d8576b\"],[0.6666666666666666,\"#ed7953\"],[0.7777777777777778,\"#fb9f3a\"],[0.8888888888888888,\"#fdca26\"],[1.0,\"#f0f921\"]]},\"colorway\":[\"#636efa\",\"#EF553B\",\"#00cc96\",\"#ab63fa\",\"#FFA15A\",\"#19d3f3\",\"#FF6692\",\"#B6E880\",\"#FF97FF\",\"#FECB52\"],\"font\":{\"color\":\"#2a3f5f\"},\"geo\":{\"bgcolor\":\"white\",\"lakecolor\":\"white\",\"landcolor\":\"#E5ECF6\",\"showlakes\":true,\"showland\":true,\"subunitcolor\":\"white\"},\"hoverlabel\":{\"align\":\"left\"},\"hovermode\":\"closest\",\"mapbox\":{\"style\":\"light\"},\"paper_bgcolor\":\"white\",\"plot_bgcolor\":\"#E5ECF6\",\"polar\":{\"angularaxis\":{\"gridcolor\":\"white\",\"linecolor\":\"white\",\"ticks\":\"\"},\"bgcolor\":\"#E5ECF6\",\"radialaxis\":{\"gridcolor\":\"white\",\"linecolor\":\"white\",\"ticks\":\"\"}},\"scene\":{\"xaxis\":{\"backgroundcolor\":\"#E5ECF6\",\"gridcolor\":\"white\",\"gridwidth\":2,\"linecolor\":\"white\",\"showbackground\":true,\"ticks\":\"\",\"zerolinecolor\":\"white\"},\"yaxis\":{\"backgroundcolor\":\"#E5ECF6\",\"gridcolor\":\"white\",\"gridwidth\":2,\"linecolor\":\"white\",\"showbackground\":true,\"ticks\":\"\",\"zerolinecolor\":\"white\"},\"zaxis\":{\"backgroundcolor\":\"#E5ECF6\",\"gridcolor\":\"white\",\"gridwidth\":2,\"linecolor\":\"white\",\"showbackground\":true,\"ticks\":\"\",\"zerolinecolor\":\"white\"}},\"shapedefaults\":{\"line\":{\"color\":\"#2a3f5f\"}},\"ternary\":{\"aaxis\":{\"gridcolor\":\"white\",\"linecolor\":\"white\",\"ticks\":\"\"},\"baxis\":{\"gridcolor\":\"white\",\"linecolor\":\"white\",\"ticks\":\"\"},\"bgcolor\":\"#E5ECF6\",\"caxis\":{\"gridcolor\":\"white\",\"linecolor\":\"white\",\"ticks\":\"\"}},\"title\":{\"x\":0.05},\"xaxis\":{\"automargin\":true,\"gridcolor\":\"white\",\"linecolor\":\"white\",\"ticks\":\"\",\"title\":{\"standoff\":15},\"zerolinecolor\":\"white\",\"zerolinewidth\":2},\"yaxis\":{\"automargin\":true,\"gridcolor\":\"white\",\"linecolor\":\"white\",\"ticks\":\"\",\"title\":{\"standoff\":15},\"zerolinecolor\":\"white\",\"zerolinewidth\":2}}},\"width\":500,\"xaxis\":{\"autorange\":false,\"exponentformat\":\"e\",\"linecolor\":\"black\",\"linewidth\":1,\"mirror\":false,\"range\":[-1.284342041015625,65.50144409179687],\"showexponent\":\"all\",\"showline\":true,\"side\":\"bottom\",\"ticks\":\"outside\",\"title\":{\"text\":\"Birth\"},\"type\":\"linear\",\"zeroline\":true},\"yaxis\":{\"autorange\":false,\"exponentformat\":\"e\",\"linecolor\":\"black\",\"linewidth\":1,\"mirror\":false,\"range\":[-1.284342041015625,65.50144409179687],\"scaleanchor\":\"x\",\"scaleratio\":1,\"showexponent\":\"all\",\"showline\":true,\"side\":\"left\",\"ticks\":\"outside\",\"title\":{\"text\":\"Death\"},\"type\":\"linear\",\"zeroline\":true}},                        {\"responsive\": true}                    ).then(function(){\n",
       "                            \n",
       "var gd = document.getElementById('d5af2134-99a0-496f-a025-94d59df58933');\n",
       "var x = new MutationObserver(function (mutations, observer) {{\n",
       "        var display = window.getComputedStyle(gd).display;\n",
       "        if (!display || display === 'none') {{\n",
       "            console.log([gd, 'removed!']);\n",
       "            Plotly.purge(gd);\n",
       "            observer.disconnect();\n",
       "        }}\n",
       "}});\n",
       "\n",
       "// Listen for the removal of the full notebook cells\n",
       "var notebookContainer = gd.closest('#notebook-container');\n",
       "if (notebookContainer) {{\n",
       "    x.observe(notebookContainer, {childList: true});\n",
       "}}\n",
       "\n",
       "// Listen for the clearing of the current output cell\n",
       "var outputEl = gd.closest('.output');\n",
       "if (outputEl) {{\n",
       "    x.observe(outputEl, {childList: true});\n",
       "}}\n",
       "\n",
       "                        })                };                });            </script>        </div>"
      ]
     },
     "metadata": {},
     "output_type": "display_data"
    }
   ],
   "source": [
    "homology_dimensions = (0,1)\n",
    "VRP = VietorisRipsPersistence(homology_dimensions=homology_dimensions)\n",
    "PerDiagram = VRP.fit_transform_plot(y_embedded[None,:,:])"
   ]
  },
  {
   "cell_type": "code",
   "execution_count": 14,
   "metadata": {},
   "outputs": [
    {
     "data": {
      "text/plain": [
       "array([[9.49495183, 3.7509068 ]])"
      ]
     },
     "execution_count": 14,
     "metadata": {},
     "output_type": "execute_result"
    }
   ],
   "source": [
    "PE_BHP = PersistenceEntropy()\n",
    "features = PE_BHP.fit_transform(PerDiagram)\n",
    "features "
   ]
  },
  {
   "cell_type": "code",
   "execution_count": 15,
   "metadata": {},
   "outputs": [
    {
     "data": {
      "text/plain": [
       "array([[1.38538352, 1.04888266]])"
      ]
     },
     "execution_count": 15,
     "metadata": {},
     "output_type": "execute_result"
    }
   ],
   "source": [
    "PE_BHP = PersistenceEntropy(normalize=True)\n",
    "features = PE_BHP.fit_transform(PerDiagram)\n",
    "features "
   ]
  },
  {
   "cell_type": "code",
   "execution_count": 16,
   "metadata": {},
   "outputs": [
    {
     "name": "stdout",
     "output_type": "stream",
     "text": [
      "Maximum Persistence for BHP:\n",
      "Max Pers in homology dimension H_0 [0.19586743414402008]\n",
      "Max Pers in homology dimension H_1 [7.094122588634491]\n"
     ]
    }
   ],
   "source": [
    "pers_H0 = []\n",
    "pers_H1 = []\n",
    "max_pers_H0 = []\n",
    "max_pers_H1 = []\n",
    "\n",
    "for PersDiag in PerDiagram: \n",
    "    for point in PersDiag:\n",
    "        birth = point[0]\n",
    "        death = point[1]\n",
    "        dimension = point[2]\n",
    "        persistence = abs(death - birth)\n",
    "        pers_H0.extend([persistence] if dimension == 0 else [])\n",
    "        pers_H1.extend([persistence] if dimension == 1 else [])\n",
    "    max_pers_H0.append(np.amax(pers_H0))\n",
    "    max_pers_H1.append(np.amax(pers_H1))\n",
    "\n",
    "print('Maximum Persistence for BHP:')\n",
    "print(\"Max Pers in homology dimension H_0\", max_pers_H0 )\n",
    "print(\"Max Pers in homology dimension H_1\", max_pers_H1 )"
   ]
  },
  {
   "cell_type": "code",
   "execution_count": 17,
   "metadata": {},
   "outputs": [
    {
     "data": {
      "application/vnd.plotly.v1+json": {
       "config": {
        "plotlyServerURL": "https://plot.ly"
       },
       "data": [
        {
         "mode": "lines",
         "name": "H0",
         "showlegend": true,
         "type": "scatter",
         "x": [
          0,
          0.0019784589307476775,
          0.003956917861495355,
          0.0059353767922430325,
          0.00791383572299071,
          0.009892294653738387,
          0.011870753584486065,
          0.013849212515233742,
          0.01582767144598142,
          0.017806130376729096,
          0.019784589307476775,
          0.021763048238224454,
          0.02374150716897213,
          0.025719966099719806,
          0.027698425030467485,
          0.029676883961215164,
          0.03165534289196284,
          0.033633801822710516,
          0.03561226075345819,
          0.037590719684205874,
          0.03956917861495355,
          0.041547637545701226,
          0.04352609647644891,
          0.045504555407196584,
          0.04748301433794426,
          0.049461473268691936,
          0.05143993219943961,
          0.053418391130187294,
          0.05539685006093497,
          0.057375308991682646,
          0.05935376792243033,
          0.061332226853178004,
          0.06331068578392568,
          0.06528914471467336,
          0.06726760364542103,
          0.06924606257616871,
          0.07122452150691638,
          0.07320298043766407,
          0.07518143936841175,
          0.07715989829915942,
          0.0791383572299071,
          0.08111681616065478,
          0.08309527509140245,
          0.08507373402215013,
          0.08705219295289782,
          0.08903065188364549,
          0.09100911081439317,
          0.09298756974514084,
          0.09496602867588852,
          0.0969444876066362,
          0.09892294653738387,
          0.10090140546813155,
          0.10287986439887922,
          0.10485832332962691,
          0.10683678226037459,
          0.10881524119112226,
          0.11079370012186994,
          0.11277215905261762,
          0.11475061798336529,
          0.11672907691411297,
          0.11870753584486066,
          0.12068599477560833,
          0.12266445370635601,
          0.12464291263710368,
          0.12662137156785136,
          0.12859983049859905,
          0.1305782894293467,
          0.1325567483600944,
          0.13453520729084206,
          0.13651366622158975,
          0.13849212515233741,
          0.1404705840830851,
          0.14244904301383277,
          0.14442750194458046,
          0.14640596087532814,
          0.1483844198060758,
          0.1503628787368235,
          0.15234133766757116,
          0.15431979659831885,
          0.1562982555290665,
          0.1582767144598142,
          0.1602551733905619,
          0.16223363232130955,
          0.16421209125205724,
          0.1661905501828049,
          0.1681690091135526,
          0.17014746804430025,
          0.17212592697504794,
          0.17410438590579563,
          0.1760828448365433,
          0.17806130376729098,
          0.18003976269803865,
          0.18201822162878634,
          0.183996680559534,
          0.1859751394902817,
          0.18795359842102935,
          0.18993205735177704,
          0.19191051628252473,
          0.1938889752132724,
          0.19586743414402008
         ],
         "y": [
          724,
          724,
          724,
          724,
          724,
          724,
          724,
          724,
          724,
          724,
          724,
          724,
          724,
          724,
          724,
          724,
          724,
          724,
          724,
          724,
          724,
          724,
          724,
          724,
          724,
          724,
          724,
          724,
          724,
          724,
          724,
          724,
          724,
          724,
          724,
          724,
          724,
          724,
          724,
          724,
          724,
          724,
          724,
          724,
          724,
          724,
          724,
          724,
          724,
          724,
          724,
          724,
          724,
          724,
          724,
          724,
          724,
          724,
          724,
          724,
          724,
          724,
          724,
          724,
          724,
          722,
          720,
          717,
          709,
          702,
          686,
          672,
          653,
          633,
          609,
          580,
          543,
          504,
          463,
          426,
          383,
          340,
          295,
          259,
          222,
          193,
          157,
          134,
          116,
          100,
          76,
          48,
          32,
          25,
          16,
          9,
          6,
          5,
          4,
          0
         ]
        },
        {
         "mode": "lines",
         "name": "H1",
         "showlegend": true,
         "type": "scatter",
         "x": [
          0.25970107316970825,
          0.3313588770953092,
          0.4030166810209101,
          0.474674484946511,
          0.5463322888721119,
          0.6179900927977129,
          0.6896478967233137,
          0.7613057006489147,
          0.8329635045745156,
          0.9046213085001166,
          0.9762791124257175,
          1.0479369163513184,
          1.1195947202769192,
          1.1912525242025203,
          1.262910328128121,
          1.3345681320537222,
          1.406225935979323,
          1.4778837399049238,
          1.549541543830525,
          1.6211993477561257,
          1.6928571516817268,
          1.7645149556073276,
          1.8361727595329285,
          1.9078305634585295,
          1.9794883673841304,
          2.051146171309731,
          2.1228039752353323,
          2.194461779160933,
          2.266119583086534,
          2.3377773870121348,
          2.409435190937736,
          2.481092994863337,
          2.5527507987889377,
          2.6244086027145386,
          2.6960664066401394,
          2.7677242105657407,
          2.8393820144913415,
          2.9110398184169424,
          2.982697622342543,
          3.054355426268144,
          3.1260132301937453,
          3.197671034119346,
          3.269328838044947,
          3.340986641970548,
          3.4126444458961487,
          3.4843022498217495,
          3.555960053747351,
          3.6276178576729516,
          3.6992756615985525,
          3.7709334655241533,
          3.842591269449754,
          3.9142490733753554,
          3.9859068773009563,
          4.057564681226557,
          4.129222485152158,
          4.200880289077759,
          4.27253809300336,
          4.3441958969289605,
          4.415853700854561,
          4.487511504780163,
          4.559169308705764,
          4.630827112631365,
          4.7024849165569655,
          4.774142720482566,
          4.845800524408167,
          4.917458328333768,
          4.989116132259369,
          5.06077393618497,
          5.132431740110571,
          5.204089544036171,
          5.275747347961773,
          5.347405151887374,
          5.419062955812975,
          5.490720759738576,
          5.5623785636641765,
          5.634036367589777,
          5.705694171515378,
          5.777351975440979,
          5.84900977936658,
          5.920667583292181,
          5.992325387217782,
          6.063983191143383,
          6.135640995068984,
          6.207298798994585,
          6.278956602920186,
          6.350614406845787,
          6.422272210771387,
          6.493930014696988,
          6.565587818622589,
          6.63724562254819,
          6.708903426473791,
          6.7805612303993925,
          6.852219034324993,
          6.923876838250594,
          6.995534642176195,
          7.067192446101796,
          7.138850250027397,
          7.2105080539529975,
          7.282165857878598,
          7.353823661804199
         ],
         "y": [
          1,
          5,
          21,
          32,
          7,
          3,
          3,
          1,
          1,
          2,
          1,
          1,
          1,
          1,
          1,
          1,
          1,
          2,
          1,
          1,
          1,
          1,
          1,
          1,
          1,
          1,
          1,
          1,
          1,
          1,
          1,
          1,
          1,
          1,
          1,
          1,
          1,
          1,
          1,
          1,
          1,
          1,
          1,
          1,
          1,
          1,
          1,
          1,
          1,
          1,
          1,
          1,
          1,
          1,
          1,
          1,
          1,
          1,
          1,
          1,
          1,
          1,
          1,
          1,
          1,
          1,
          1,
          1,
          1,
          1,
          1,
          1,
          1,
          1,
          1,
          1,
          1,
          1,
          1,
          1,
          1,
          1,
          1,
          1,
          1,
          1,
          1,
          1,
          1,
          1,
          1,
          1,
          1,
          1,
          1,
          1,
          1,
          1,
          1,
          0
         ]
        }
       ],
       "layout": {
        "plot_bgcolor": "white",
        "template": {
         "data": {
          "bar": [
           {
            "error_x": {
             "color": "#2a3f5f"
            },
            "error_y": {
             "color": "#2a3f5f"
            },
            "marker": {
             "line": {
              "color": "#E5ECF6",
              "width": 0.5
             },
             "pattern": {
              "fillmode": "overlay",
              "size": 10,
              "solidity": 0.2
             }
            },
            "type": "bar"
           }
          ],
          "barpolar": [
           {
            "marker": {
             "line": {
              "color": "#E5ECF6",
              "width": 0.5
             },
             "pattern": {
              "fillmode": "overlay",
              "size": 10,
              "solidity": 0.2
             }
            },
            "type": "barpolar"
           }
          ],
          "carpet": [
           {
            "aaxis": {
             "endlinecolor": "#2a3f5f",
             "gridcolor": "white",
             "linecolor": "white",
             "minorgridcolor": "white",
             "startlinecolor": "#2a3f5f"
            },
            "baxis": {
             "endlinecolor": "#2a3f5f",
             "gridcolor": "white",
             "linecolor": "white",
             "minorgridcolor": "white",
             "startlinecolor": "#2a3f5f"
            },
            "type": "carpet"
           }
          ],
          "choropleth": [
           {
            "colorbar": {
             "outlinewidth": 0,
             "ticks": ""
            },
            "type": "choropleth"
           }
          ],
          "contour": [
           {
            "colorbar": {
             "outlinewidth": 0,
             "ticks": ""
            },
            "colorscale": [
             [
              0,
              "#0d0887"
             ],
             [
              0.1111111111111111,
              "#46039f"
             ],
             [
              0.2222222222222222,
              "#7201a8"
             ],
             [
              0.3333333333333333,
              "#9c179e"
             ],
             [
              0.4444444444444444,
              "#bd3786"
             ],
             [
              0.5555555555555556,
              "#d8576b"
             ],
             [
              0.6666666666666666,
              "#ed7953"
             ],
             [
              0.7777777777777778,
              "#fb9f3a"
             ],
             [
              0.8888888888888888,
              "#fdca26"
             ],
             [
              1,
              "#f0f921"
             ]
            ],
            "type": "contour"
           }
          ],
          "contourcarpet": [
           {
            "colorbar": {
             "outlinewidth": 0,
             "ticks": ""
            },
            "type": "contourcarpet"
           }
          ],
          "heatmap": [
           {
            "colorbar": {
             "outlinewidth": 0,
             "ticks": ""
            },
            "colorscale": [
             [
              0,
              "#0d0887"
             ],
             [
              0.1111111111111111,
              "#46039f"
             ],
             [
              0.2222222222222222,
              "#7201a8"
             ],
             [
              0.3333333333333333,
              "#9c179e"
             ],
             [
              0.4444444444444444,
              "#bd3786"
             ],
             [
              0.5555555555555556,
              "#d8576b"
             ],
             [
              0.6666666666666666,
              "#ed7953"
             ],
             [
              0.7777777777777778,
              "#fb9f3a"
             ],
             [
              0.8888888888888888,
              "#fdca26"
             ],
             [
              1,
              "#f0f921"
             ]
            ],
            "type": "heatmap"
           }
          ],
          "heatmapgl": [
           {
            "colorbar": {
             "outlinewidth": 0,
             "ticks": ""
            },
            "colorscale": [
             [
              0,
              "#0d0887"
             ],
             [
              0.1111111111111111,
              "#46039f"
             ],
             [
              0.2222222222222222,
              "#7201a8"
             ],
             [
              0.3333333333333333,
              "#9c179e"
             ],
             [
              0.4444444444444444,
              "#bd3786"
             ],
             [
              0.5555555555555556,
              "#d8576b"
             ],
             [
              0.6666666666666666,
              "#ed7953"
             ],
             [
              0.7777777777777778,
              "#fb9f3a"
             ],
             [
              0.8888888888888888,
              "#fdca26"
             ],
             [
              1,
              "#f0f921"
             ]
            ],
            "type": "heatmapgl"
           }
          ],
          "histogram": [
           {
            "marker": {
             "pattern": {
              "fillmode": "overlay",
              "size": 10,
              "solidity": 0.2
             }
            },
            "type": "histogram"
           }
          ],
          "histogram2d": [
           {
            "colorbar": {
             "outlinewidth": 0,
             "ticks": ""
            },
            "colorscale": [
             [
              0,
              "#0d0887"
             ],
             [
              0.1111111111111111,
              "#46039f"
             ],
             [
              0.2222222222222222,
              "#7201a8"
             ],
             [
              0.3333333333333333,
              "#9c179e"
             ],
             [
              0.4444444444444444,
              "#bd3786"
             ],
             [
              0.5555555555555556,
              "#d8576b"
             ],
             [
              0.6666666666666666,
              "#ed7953"
             ],
             [
              0.7777777777777778,
              "#fb9f3a"
             ],
             [
              0.8888888888888888,
              "#fdca26"
             ],
             [
              1,
              "#f0f921"
             ]
            ],
            "type": "histogram2d"
           }
          ],
          "histogram2dcontour": [
           {
            "colorbar": {
             "outlinewidth": 0,
             "ticks": ""
            },
            "colorscale": [
             [
              0,
              "#0d0887"
             ],
             [
              0.1111111111111111,
              "#46039f"
             ],
             [
              0.2222222222222222,
              "#7201a8"
             ],
             [
              0.3333333333333333,
              "#9c179e"
             ],
             [
              0.4444444444444444,
              "#bd3786"
             ],
             [
              0.5555555555555556,
              "#d8576b"
             ],
             [
              0.6666666666666666,
              "#ed7953"
             ],
             [
              0.7777777777777778,
              "#fb9f3a"
             ],
             [
              0.8888888888888888,
              "#fdca26"
             ],
             [
              1,
              "#f0f921"
             ]
            ],
            "type": "histogram2dcontour"
           }
          ],
          "mesh3d": [
           {
            "colorbar": {
             "outlinewidth": 0,
             "ticks": ""
            },
            "type": "mesh3d"
           }
          ],
          "parcoords": [
           {
            "line": {
             "colorbar": {
              "outlinewidth": 0,
              "ticks": ""
             }
            },
            "type": "parcoords"
           }
          ],
          "pie": [
           {
            "automargin": true,
            "type": "pie"
           }
          ],
          "scatter": [
           {
            "marker": {
             "colorbar": {
              "outlinewidth": 0,
              "ticks": ""
             }
            },
            "type": "scatter"
           }
          ],
          "scatter3d": [
           {
            "line": {
             "colorbar": {
              "outlinewidth": 0,
              "ticks": ""
             }
            },
            "marker": {
             "colorbar": {
              "outlinewidth": 0,
              "ticks": ""
             }
            },
            "type": "scatter3d"
           }
          ],
          "scattercarpet": [
           {
            "marker": {
             "colorbar": {
              "outlinewidth": 0,
              "ticks": ""
             }
            },
            "type": "scattercarpet"
           }
          ],
          "scattergeo": [
           {
            "marker": {
             "colorbar": {
              "outlinewidth": 0,
              "ticks": ""
             }
            },
            "type": "scattergeo"
           }
          ],
          "scattergl": [
           {
            "marker": {
             "colorbar": {
              "outlinewidth": 0,
              "ticks": ""
             }
            },
            "type": "scattergl"
           }
          ],
          "scattermapbox": [
           {
            "marker": {
             "colorbar": {
              "outlinewidth": 0,
              "ticks": ""
             }
            },
            "type": "scattermapbox"
           }
          ],
          "scatterpolar": [
           {
            "marker": {
             "colorbar": {
              "outlinewidth": 0,
              "ticks": ""
             }
            },
            "type": "scatterpolar"
           }
          ],
          "scatterpolargl": [
           {
            "marker": {
             "colorbar": {
              "outlinewidth": 0,
              "ticks": ""
             }
            },
            "type": "scatterpolargl"
           }
          ],
          "scatterternary": [
           {
            "marker": {
             "colorbar": {
              "outlinewidth": 0,
              "ticks": ""
             }
            },
            "type": "scatterternary"
           }
          ],
          "surface": [
           {
            "colorbar": {
             "outlinewidth": 0,
             "ticks": ""
            },
            "colorscale": [
             [
              0,
              "#0d0887"
             ],
             [
              0.1111111111111111,
              "#46039f"
             ],
             [
              0.2222222222222222,
              "#7201a8"
             ],
             [
              0.3333333333333333,
              "#9c179e"
             ],
             [
              0.4444444444444444,
              "#bd3786"
             ],
             [
              0.5555555555555556,
              "#d8576b"
             ],
             [
              0.6666666666666666,
              "#ed7953"
             ],
             [
              0.7777777777777778,
              "#fb9f3a"
             ],
             [
              0.8888888888888888,
              "#fdca26"
             ],
             [
              1,
              "#f0f921"
             ]
            ],
            "type": "surface"
           }
          ],
          "table": [
           {
            "cells": {
             "fill": {
              "color": "#EBF0F8"
             },
             "line": {
              "color": "white"
             }
            },
            "header": {
             "fill": {
              "color": "#C8D4E3"
             },
             "line": {
              "color": "white"
             }
            },
            "type": "table"
           }
          ]
         },
         "layout": {
          "annotationdefaults": {
           "arrowcolor": "#2a3f5f",
           "arrowhead": 0,
           "arrowwidth": 1
          },
          "autotypenumbers": "strict",
          "coloraxis": {
           "colorbar": {
            "outlinewidth": 0,
            "ticks": ""
           }
          },
          "colorscale": {
           "diverging": [
            [
             0,
             "#8e0152"
            ],
            [
             0.1,
             "#c51b7d"
            ],
            [
             0.2,
             "#de77ae"
            ],
            [
             0.3,
             "#f1b6da"
            ],
            [
             0.4,
             "#fde0ef"
            ],
            [
             0.5,
             "#f7f7f7"
            ],
            [
             0.6,
             "#e6f5d0"
            ],
            [
             0.7,
             "#b8e186"
            ],
            [
             0.8,
             "#7fbc41"
            ],
            [
             0.9,
             "#4d9221"
            ],
            [
             1,
             "#276419"
            ]
           ],
           "sequential": [
            [
             0,
             "#0d0887"
            ],
            [
             0.1111111111111111,
             "#46039f"
            ],
            [
             0.2222222222222222,
             "#7201a8"
            ],
            [
             0.3333333333333333,
             "#9c179e"
            ],
            [
             0.4444444444444444,
             "#bd3786"
            ],
            [
             0.5555555555555556,
             "#d8576b"
            ],
            [
             0.6666666666666666,
             "#ed7953"
            ],
            [
             0.7777777777777778,
             "#fb9f3a"
            ],
            [
             0.8888888888888888,
             "#fdca26"
            ],
            [
             1,
             "#f0f921"
            ]
           ],
           "sequentialminus": [
            [
             0,
             "#0d0887"
            ],
            [
             0.1111111111111111,
             "#46039f"
            ],
            [
             0.2222222222222222,
             "#7201a8"
            ],
            [
             0.3333333333333333,
             "#9c179e"
            ],
            [
             0.4444444444444444,
             "#bd3786"
            ],
            [
             0.5555555555555556,
             "#d8576b"
            ],
            [
             0.6666666666666666,
             "#ed7953"
            ],
            [
             0.7777777777777778,
             "#fb9f3a"
            ],
            [
             0.8888888888888888,
             "#fdca26"
            ],
            [
             1,
             "#f0f921"
            ]
           ]
          },
          "colorway": [
           "#636efa",
           "#EF553B",
           "#00cc96",
           "#ab63fa",
           "#FFA15A",
           "#19d3f3",
           "#FF6692",
           "#B6E880",
           "#FF97FF",
           "#FECB52"
          ],
          "font": {
           "color": "#2a3f5f"
          },
          "geo": {
           "bgcolor": "white",
           "lakecolor": "white",
           "landcolor": "#E5ECF6",
           "showlakes": true,
           "showland": true,
           "subunitcolor": "white"
          },
          "hoverlabel": {
           "align": "left"
          },
          "hovermode": "closest",
          "mapbox": {
           "style": "light"
          },
          "paper_bgcolor": "white",
          "plot_bgcolor": "#E5ECF6",
          "polar": {
           "angularaxis": {
            "gridcolor": "white",
            "linecolor": "white",
            "ticks": ""
           },
           "bgcolor": "#E5ECF6",
           "radialaxis": {
            "gridcolor": "white",
            "linecolor": "white",
            "ticks": ""
           }
          },
          "scene": {
           "xaxis": {
            "backgroundcolor": "#E5ECF6",
            "gridcolor": "white",
            "gridwidth": 2,
            "linecolor": "white",
            "showbackground": true,
            "ticks": "",
            "zerolinecolor": "white"
           },
           "yaxis": {
            "backgroundcolor": "#E5ECF6",
            "gridcolor": "white",
            "gridwidth": 2,
            "linecolor": "white",
            "showbackground": true,
            "ticks": "",
            "zerolinecolor": "white"
           },
           "zaxis": {
            "backgroundcolor": "#E5ECF6",
            "gridcolor": "white",
            "gridwidth": 2,
            "linecolor": "white",
            "showbackground": true,
            "ticks": "",
            "zerolinecolor": "white"
           }
          },
          "shapedefaults": {
           "line": {
            "color": "#2a3f5f"
           }
          },
          "ternary": {
           "aaxis": {
            "gridcolor": "white",
            "linecolor": "white",
            "ticks": ""
           },
           "baxis": {
            "gridcolor": "white",
            "linecolor": "white",
            "ticks": ""
           },
           "bgcolor": "#E5ECF6",
           "caxis": {
            "gridcolor": "white",
            "linecolor": "white",
            "ticks": ""
           }
          },
          "title": {
           "x": 0.05
          },
          "xaxis": {
           "automargin": true,
           "gridcolor": "white",
           "linecolor": "white",
           "ticks": "",
           "title": {
            "standoff": 15
           },
           "zerolinecolor": "white",
           "zerolinewidth": 2
          },
          "yaxis": {
           "automargin": true,
           "gridcolor": "white",
           "linecolor": "white",
           "ticks": "",
           "title": {
            "standoff": 15
           },
           "zerolinecolor": "white",
           "zerolinewidth": 2
          }
         }
        },
        "title": {
         "text": "Betti curves from diagram 0"
        },
        "xaxis": {
         "anchor": "y",
         "exponentformat": "e",
         "linecolor": "black",
         "linewidth": 1,
         "mirror": false,
         "showexponent": "all",
         "showline": true,
         "side": "bottom",
         "ticks": "outside",
         "title": {
          "text": "Filtration parameter"
         },
         "type": "linear",
         "zeroline": true
        },
        "yaxis": {
         "anchor": "x",
         "exponentformat": "e",
         "linecolor": "black",
         "linewidth": 1,
         "mirror": false,
         "showexponent": "all",
         "showline": true,
         "side": "left",
         "ticks": "outside",
         "title": {
          "text": "Betti number"
         },
         "type": "linear",
         "zeroline": true
        }
       }
      },
      "text/html": [
       "<div>                            <div id=\"a039ae2d-f72e-4e43-92b7-0a18ecf44911\" class=\"plotly-graph-div\" style=\"height:525px; width:100%;\"></div>            <script type=\"text/javascript\">                require([\"plotly\"], function(Plotly) {                    window.PLOTLYENV=window.PLOTLYENV || {};                                    if (document.getElementById(\"a039ae2d-f72e-4e43-92b7-0a18ecf44911\")) {                    Plotly.newPlot(                        \"a039ae2d-f72e-4e43-92b7-0a18ecf44911\",                        [{\"mode\":\"lines\",\"name\":\"H0\",\"showlegend\":true,\"type\":\"scatter\",\"x\":[0.0,0.0019784589307476775,0.003956917861495355,0.0059353767922430325,0.00791383572299071,0.009892294653738387,0.011870753584486065,0.013849212515233742,0.01582767144598142,0.017806130376729096,0.019784589307476775,0.021763048238224454,0.02374150716897213,0.025719966099719806,0.027698425030467485,0.029676883961215164,0.03165534289196284,0.033633801822710516,0.03561226075345819,0.037590719684205874,0.03956917861495355,0.041547637545701226,0.04352609647644891,0.045504555407196584,0.04748301433794426,0.049461473268691936,0.05143993219943961,0.053418391130187294,0.05539685006093497,0.057375308991682646,0.05935376792243033,0.061332226853178004,0.06331068578392568,0.06528914471467336,0.06726760364542103,0.06924606257616871,0.07122452150691638,0.07320298043766407,0.07518143936841175,0.07715989829915942,0.0791383572299071,0.08111681616065478,0.08309527509140245,0.08507373402215013,0.08705219295289782,0.08903065188364549,0.09100911081439317,0.09298756974514084,0.09496602867588852,0.0969444876066362,0.09892294653738387,0.10090140546813155,0.10287986439887922,0.10485832332962691,0.10683678226037459,0.10881524119112226,0.11079370012186994,0.11277215905261762,0.11475061798336529,0.11672907691411297,0.11870753584486066,0.12068599477560833,0.12266445370635601,0.12464291263710368,0.12662137156785136,0.12859983049859905,0.1305782894293467,0.1325567483600944,0.13453520729084206,0.13651366622158975,0.13849212515233741,0.1404705840830851,0.14244904301383277,0.14442750194458046,0.14640596087532814,0.1483844198060758,0.1503628787368235,0.15234133766757116,0.15431979659831885,0.1562982555290665,0.1582767144598142,0.1602551733905619,0.16223363232130955,0.16421209125205724,0.1661905501828049,0.1681690091135526,0.17014746804430025,0.17212592697504794,0.17410438590579563,0.1760828448365433,0.17806130376729098,0.18003976269803865,0.18201822162878634,0.183996680559534,0.1859751394902817,0.18795359842102935,0.18993205735177704,0.19191051628252473,0.1938889752132724,0.19586743414402008],\"y\":[724,724,724,724,724,724,724,724,724,724,724,724,724,724,724,724,724,724,724,724,724,724,724,724,724,724,724,724,724,724,724,724,724,724,724,724,724,724,724,724,724,724,724,724,724,724,724,724,724,724,724,724,724,724,724,724,724,724,724,724,724,724,724,724,724,722,720,717,709,702,686,672,653,633,609,580,543,504,463,426,383,340,295,259,222,193,157,134,116,100,76,48,32,25,16,9,6,5,4,0]},{\"mode\":\"lines\",\"name\":\"H1\",\"showlegend\":true,\"type\":\"scatter\",\"x\":[0.25970107316970825,0.3313588770953092,0.4030166810209101,0.474674484946511,0.5463322888721119,0.6179900927977129,0.6896478967233137,0.7613057006489147,0.8329635045745156,0.9046213085001166,0.9762791124257175,1.0479369163513184,1.1195947202769192,1.1912525242025203,1.262910328128121,1.3345681320537222,1.406225935979323,1.4778837399049238,1.549541543830525,1.6211993477561257,1.6928571516817268,1.7645149556073276,1.8361727595329285,1.9078305634585295,1.9794883673841304,2.051146171309731,2.1228039752353323,2.194461779160933,2.266119583086534,2.3377773870121348,2.409435190937736,2.481092994863337,2.5527507987889377,2.6244086027145386,2.6960664066401394,2.7677242105657407,2.8393820144913415,2.9110398184169424,2.982697622342543,3.054355426268144,3.1260132301937453,3.197671034119346,3.269328838044947,3.340986641970548,3.4126444458961487,3.4843022498217495,3.555960053747351,3.6276178576729516,3.6992756615985525,3.7709334655241533,3.842591269449754,3.9142490733753554,3.9859068773009563,4.057564681226557,4.129222485152158,4.200880289077759,4.27253809300336,4.3441958969289605,4.415853700854561,4.487511504780163,4.559169308705764,4.630827112631365,4.7024849165569655,4.774142720482566,4.845800524408167,4.917458328333768,4.989116132259369,5.06077393618497,5.132431740110571,5.204089544036171,5.275747347961773,5.347405151887374,5.419062955812975,5.490720759738576,5.5623785636641765,5.634036367589777,5.705694171515378,5.777351975440979,5.84900977936658,5.920667583292181,5.992325387217782,6.063983191143383,6.135640995068984,6.207298798994585,6.278956602920186,6.350614406845787,6.422272210771387,6.493930014696988,6.565587818622589,6.63724562254819,6.708903426473791,6.7805612303993925,6.852219034324993,6.923876838250594,6.995534642176195,7.067192446101796,7.138850250027397,7.2105080539529975,7.282165857878598,7.353823661804199],\"y\":[1,5,21,32,7,3,3,1,1,2,1,1,1,1,1,1,1,2,1,1,1,1,1,1,1,1,1,1,1,1,1,1,1,1,1,1,1,1,1,1,1,1,1,1,1,1,1,1,1,1,1,1,1,1,1,1,1,1,1,1,1,1,1,1,1,1,1,1,1,1,1,1,1,1,1,1,1,1,1,1,1,1,1,1,1,1,1,1,1,1,1,1,1,1,1,1,1,1,1,0]}],                        {\"plot_bgcolor\":\"white\",\"template\":{\"data\":{\"bar\":[{\"error_x\":{\"color\":\"#2a3f5f\"},\"error_y\":{\"color\":\"#2a3f5f\"},\"marker\":{\"line\":{\"color\":\"#E5ECF6\",\"width\":0.5},\"pattern\":{\"fillmode\":\"overlay\",\"size\":10,\"solidity\":0.2}},\"type\":\"bar\"}],\"barpolar\":[{\"marker\":{\"line\":{\"color\":\"#E5ECF6\",\"width\":0.5},\"pattern\":{\"fillmode\":\"overlay\",\"size\":10,\"solidity\":0.2}},\"type\":\"barpolar\"}],\"carpet\":[{\"aaxis\":{\"endlinecolor\":\"#2a3f5f\",\"gridcolor\":\"white\",\"linecolor\":\"white\",\"minorgridcolor\":\"white\",\"startlinecolor\":\"#2a3f5f\"},\"baxis\":{\"endlinecolor\":\"#2a3f5f\",\"gridcolor\":\"white\",\"linecolor\":\"white\",\"minorgridcolor\":\"white\",\"startlinecolor\":\"#2a3f5f\"},\"type\":\"carpet\"}],\"choropleth\":[{\"colorbar\":{\"outlinewidth\":0,\"ticks\":\"\"},\"type\":\"choropleth\"}],\"contour\":[{\"colorbar\":{\"outlinewidth\":0,\"ticks\":\"\"},\"colorscale\":[[0.0,\"#0d0887\"],[0.1111111111111111,\"#46039f\"],[0.2222222222222222,\"#7201a8\"],[0.3333333333333333,\"#9c179e\"],[0.4444444444444444,\"#bd3786\"],[0.5555555555555556,\"#d8576b\"],[0.6666666666666666,\"#ed7953\"],[0.7777777777777778,\"#fb9f3a\"],[0.8888888888888888,\"#fdca26\"],[1.0,\"#f0f921\"]],\"type\":\"contour\"}],\"contourcarpet\":[{\"colorbar\":{\"outlinewidth\":0,\"ticks\":\"\"},\"type\":\"contourcarpet\"}],\"heatmap\":[{\"colorbar\":{\"outlinewidth\":0,\"ticks\":\"\"},\"colorscale\":[[0.0,\"#0d0887\"],[0.1111111111111111,\"#46039f\"],[0.2222222222222222,\"#7201a8\"],[0.3333333333333333,\"#9c179e\"],[0.4444444444444444,\"#bd3786\"],[0.5555555555555556,\"#d8576b\"],[0.6666666666666666,\"#ed7953\"],[0.7777777777777778,\"#fb9f3a\"],[0.8888888888888888,\"#fdca26\"],[1.0,\"#f0f921\"]],\"type\":\"heatmap\"}],\"heatmapgl\":[{\"colorbar\":{\"outlinewidth\":0,\"ticks\":\"\"},\"colorscale\":[[0.0,\"#0d0887\"],[0.1111111111111111,\"#46039f\"],[0.2222222222222222,\"#7201a8\"],[0.3333333333333333,\"#9c179e\"],[0.4444444444444444,\"#bd3786\"],[0.5555555555555556,\"#d8576b\"],[0.6666666666666666,\"#ed7953\"],[0.7777777777777778,\"#fb9f3a\"],[0.8888888888888888,\"#fdca26\"],[1.0,\"#f0f921\"]],\"type\":\"heatmapgl\"}],\"histogram\":[{\"marker\":{\"pattern\":{\"fillmode\":\"overlay\",\"size\":10,\"solidity\":0.2}},\"type\":\"histogram\"}],\"histogram2d\":[{\"colorbar\":{\"outlinewidth\":0,\"ticks\":\"\"},\"colorscale\":[[0.0,\"#0d0887\"],[0.1111111111111111,\"#46039f\"],[0.2222222222222222,\"#7201a8\"],[0.3333333333333333,\"#9c179e\"],[0.4444444444444444,\"#bd3786\"],[0.5555555555555556,\"#d8576b\"],[0.6666666666666666,\"#ed7953\"],[0.7777777777777778,\"#fb9f3a\"],[0.8888888888888888,\"#fdca26\"],[1.0,\"#f0f921\"]],\"type\":\"histogram2d\"}],\"histogram2dcontour\":[{\"colorbar\":{\"outlinewidth\":0,\"ticks\":\"\"},\"colorscale\":[[0.0,\"#0d0887\"],[0.1111111111111111,\"#46039f\"],[0.2222222222222222,\"#7201a8\"],[0.3333333333333333,\"#9c179e\"],[0.4444444444444444,\"#bd3786\"],[0.5555555555555556,\"#d8576b\"],[0.6666666666666666,\"#ed7953\"],[0.7777777777777778,\"#fb9f3a\"],[0.8888888888888888,\"#fdca26\"],[1.0,\"#f0f921\"]],\"type\":\"histogram2dcontour\"}],\"mesh3d\":[{\"colorbar\":{\"outlinewidth\":0,\"ticks\":\"\"},\"type\":\"mesh3d\"}],\"parcoords\":[{\"line\":{\"colorbar\":{\"outlinewidth\":0,\"ticks\":\"\"}},\"type\":\"parcoords\"}],\"pie\":[{\"automargin\":true,\"type\":\"pie\"}],\"scatter\":[{\"marker\":{\"colorbar\":{\"outlinewidth\":0,\"ticks\":\"\"}},\"type\":\"scatter\"}],\"scatter3d\":[{\"line\":{\"colorbar\":{\"outlinewidth\":0,\"ticks\":\"\"}},\"marker\":{\"colorbar\":{\"outlinewidth\":0,\"ticks\":\"\"}},\"type\":\"scatter3d\"}],\"scattercarpet\":[{\"marker\":{\"colorbar\":{\"outlinewidth\":0,\"ticks\":\"\"}},\"type\":\"scattercarpet\"}],\"scattergeo\":[{\"marker\":{\"colorbar\":{\"outlinewidth\":0,\"ticks\":\"\"}},\"type\":\"scattergeo\"}],\"scattergl\":[{\"marker\":{\"colorbar\":{\"outlinewidth\":0,\"ticks\":\"\"}},\"type\":\"scattergl\"}],\"scattermapbox\":[{\"marker\":{\"colorbar\":{\"outlinewidth\":0,\"ticks\":\"\"}},\"type\":\"scattermapbox\"}],\"scatterpolar\":[{\"marker\":{\"colorbar\":{\"outlinewidth\":0,\"ticks\":\"\"}},\"type\":\"scatterpolar\"}],\"scatterpolargl\":[{\"marker\":{\"colorbar\":{\"outlinewidth\":0,\"ticks\":\"\"}},\"type\":\"scatterpolargl\"}],\"scatterternary\":[{\"marker\":{\"colorbar\":{\"outlinewidth\":0,\"ticks\":\"\"}},\"type\":\"scatterternary\"}],\"surface\":[{\"colorbar\":{\"outlinewidth\":0,\"ticks\":\"\"},\"colorscale\":[[0.0,\"#0d0887\"],[0.1111111111111111,\"#46039f\"],[0.2222222222222222,\"#7201a8\"],[0.3333333333333333,\"#9c179e\"],[0.4444444444444444,\"#bd3786\"],[0.5555555555555556,\"#d8576b\"],[0.6666666666666666,\"#ed7953\"],[0.7777777777777778,\"#fb9f3a\"],[0.8888888888888888,\"#fdca26\"],[1.0,\"#f0f921\"]],\"type\":\"surface\"}],\"table\":[{\"cells\":{\"fill\":{\"color\":\"#EBF0F8\"},\"line\":{\"color\":\"white\"}},\"header\":{\"fill\":{\"color\":\"#C8D4E3\"},\"line\":{\"color\":\"white\"}},\"type\":\"table\"}]},\"layout\":{\"annotationdefaults\":{\"arrowcolor\":\"#2a3f5f\",\"arrowhead\":0,\"arrowwidth\":1},\"autotypenumbers\":\"strict\",\"coloraxis\":{\"colorbar\":{\"outlinewidth\":0,\"ticks\":\"\"}},\"colorscale\":{\"diverging\":[[0,\"#8e0152\"],[0.1,\"#c51b7d\"],[0.2,\"#de77ae\"],[0.3,\"#f1b6da\"],[0.4,\"#fde0ef\"],[0.5,\"#f7f7f7\"],[0.6,\"#e6f5d0\"],[0.7,\"#b8e186\"],[0.8,\"#7fbc41\"],[0.9,\"#4d9221\"],[1,\"#276419\"]],\"sequential\":[[0.0,\"#0d0887\"],[0.1111111111111111,\"#46039f\"],[0.2222222222222222,\"#7201a8\"],[0.3333333333333333,\"#9c179e\"],[0.4444444444444444,\"#bd3786\"],[0.5555555555555556,\"#d8576b\"],[0.6666666666666666,\"#ed7953\"],[0.7777777777777778,\"#fb9f3a\"],[0.8888888888888888,\"#fdca26\"],[1.0,\"#f0f921\"]],\"sequentialminus\":[[0.0,\"#0d0887\"],[0.1111111111111111,\"#46039f\"],[0.2222222222222222,\"#7201a8\"],[0.3333333333333333,\"#9c179e\"],[0.4444444444444444,\"#bd3786\"],[0.5555555555555556,\"#d8576b\"],[0.6666666666666666,\"#ed7953\"],[0.7777777777777778,\"#fb9f3a\"],[0.8888888888888888,\"#fdca26\"],[1.0,\"#f0f921\"]]},\"colorway\":[\"#636efa\",\"#EF553B\",\"#00cc96\",\"#ab63fa\",\"#FFA15A\",\"#19d3f3\",\"#FF6692\",\"#B6E880\",\"#FF97FF\",\"#FECB52\"],\"font\":{\"color\":\"#2a3f5f\"},\"geo\":{\"bgcolor\":\"white\",\"lakecolor\":\"white\",\"landcolor\":\"#E5ECF6\",\"showlakes\":true,\"showland\":true,\"subunitcolor\":\"white\"},\"hoverlabel\":{\"align\":\"left\"},\"hovermode\":\"closest\",\"mapbox\":{\"style\":\"light\"},\"paper_bgcolor\":\"white\",\"plot_bgcolor\":\"#E5ECF6\",\"polar\":{\"angularaxis\":{\"gridcolor\":\"white\",\"linecolor\":\"white\",\"ticks\":\"\"},\"bgcolor\":\"#E5ECF6\",\"radialaxis\":{\"gridcolor\":\"white\",\"linecolor\":\"white\",\"ticks\":\"\"}},\"scene\":{\"xaxis\":{\"backgroundcolor\":\"#E5ECF6\",\"gridcolor\":\"white\",\"gridwidth\":2,\"linecolor\":\"white\",\"showbackground\":true,\"ticks\":\"\",\"zerolinecolor\":\"white\"},\"yaxis\":{\"backgroundcolor\":\"#E5ECF6\",\"gridcolor\":\"white\",\"gridwidth\":2,\"linecolor\":\"white\",\"showbackground\":true,\"ticks\":\"\",\"zerolinecolor\":\"white\"},\"zaxis\":{\"backgroundcolor\":\"#E5ECF6\",\"gridcolor\":\"white\",\"gridwidth\":2,\"linecolor\":\"white\",\"showbackground\":true,\"ticks\":\"\",\"zerolinecolor\":\"white\"}},\"shapedefaults\":{\"line\":{\"color\":\"#2a3f5f\"}},\"ternary\":{\"aaxis\":{\"gridcolor\":\"white\",\"linecolor\":\"white\",\"ticks\":\"\"},\"baxis\":{\"gridcolor\":\"white\",\"linecolor\":\"white\",\"ticks\":\"\"},\"bgcolor\":\"#E5ECF6\",\"caxis\":{\"gridcolor\":\"white\",\"linecolor\":\"white\",\"ticks\":\"\"}},\"title\":{\"x\":0.05},\"xaxis\":{\"automargin\":true,\"gridcolor\":\"white\",\"linecolor\":\"white\",\"ticks\":\"\",\"title\":{\"standoff\":15},\"zerolinecolor\":\"white\",\"zerolinewidth\":2},\"yaxis\":{\"automargin\":true,\"gridcolor\":\"white\",\"linecolor\":\"white\",\"ticks\":\"\",\"title\":{\"standoff\":15},\"zerolinecolor\":\"white\",\"zerolinewidth\":2}}},\"title\":{\"text\":\"Betti curves from diagram 0\"},\"xaxis\":{\"anchor\":\"y\",\"exponentformat\":\"e\",\"linecolor\":\"black\",\"linewidth\":1,\"mirror\":false,\"showexponent\":\"all\",\"showline\":true,\"side\":\"bottom\",\"ticks\":\"outside\",\"title\":{\"text\":\"Filtration parameter\"},\"type\":\"linear\",\"zeroline\":true},\"yaxis\":{\"anchor\":\"x\",\"exponentformat\":\"e\",\"linecolor\":\"black\",\"linewidth\":1,\"mirror\":false,\"showexponent\":\"all\",\"showline\":true,\"side\":\"left\",\"ticks\":\"outside\",\"title\":{\"text\":\"Betti number\"},\"type\":\"linear\",\"zeroline\":true}},                        {\"responsive\": true}                    ).then(function(){\n",
       "                            \n",
       "var gd = document.getElementById('a039ae2d-f72e-4e43-92b7-0a18ecf44911');\n",
       "var x = new MutationObserver(function (mutations, observer) {{\n",
       "        var display = window.getComputedStyle(gd).display;\n",
       "        if (!display || display === 'none') {{\n",
       "            console.log([gd, 'removed!']);\n",
       "            Plotly.purge(gd);\n",
       "            observer.disconnect();\n",
       "        }}\n",
       "}});\n",
       "\n",
       "// Listen for the removal of the full notebook cells\n",
       "var notebookContainer = gd.closest('#notebook-container');\n",
       "if (notebookContainer) {{\n",
       "    x.observe(notebookContainer, {childList: true});\n",
       "}}\n",
       "\n",
       "// Listen for the clearing of the current output cell\n",
       "var outputEl = gd.closest('.output');\n",
       "if (outputEl) {{\n",
       "    x.observe(outputEl, {childList: true});\n",
       "}}\n",
       "\n",
       "                        })                };                });            </script>        </div>"
      ]
     },
     "metadata": {},
     "output_type": "display_data"
    },
    {
     "name": "stdout",
     "output_type": "stream",
     "text": [
      "mean of Betti_H0 for slug flow 588\n",
      "mean of Betti_H1 for slug flow 1\n"
     ]
    }
   ],
   "source": [
    "Betti = BettiCurve()\n",
    "Betti_BHP = Betti.fit_transform_plot(PerDiagram)\n",
    "\n",
    "print(\"mean of Betti_H0 for slug flow\", stats.mean(Betti_BHP[0,0]))\n",
    "print(\"mean of Betti_H1 for slug flow\", stats.mean(Betti_BHP[0,1]))"
   ]
  },
  {
   "cell_type": "code",
   "execution_count": null,
   "metadata": {},
   "outputs": [],
   "source": [
    "# write file for making figures  \n",
    "file1 = open(\"slugW3_Pers_H0.dat\", \"w\")\n",
    "file2 = open(\"slugW3_Pers_H1.dat\", \"w\")\n",
    "for i in PerDiagram[0,:]:\n",
    "    if i[2] == 0:\n",
    "        tmp = str(i[0]) + str(' ') + str(i[1]) + \"\\n\"\n",
    "        file1.writelines(tmp)\n",
    "    elif i[2] == 1:\n",
    "        tmp = str(i[0]) + str(' ') + str(i[1]) + \"\\n\"\n",
    "        file2.writelines(tmp)\n",
    "file1.close()\n",
    "file2.close()"
   ]
  },
  {
   "cell_type": "code",
   "execution_count": null,
   "metadata": {},
   "outputs": [],
   "source": [
    "def batch_analyzer(input_df, stride, max_embedding_dimension, max_time_delay):\n",
    "    max_time_delay = int(max_time_delay)\n",
    "    max_embedding_dimension = int(max_embedding_dimension)\n",
    "    homology_dimensions = (0, 1)\n",
    "    VRP = VietorisRipsPersistence(homology_dimensions=homology_dimensions)\n",
    "    pca = PCA(n_components=3)\n",
    "    PE_signal = PersistenceEntropy()\n",
    "    PE_norm = PersistenceEntropy(normalize=True)\n",
    "\n",
    "    entropies = []\n",
    "    norm_entropies = []\n",
    "    diagrams = []\n",
    "    point_clouds_pca = []\n",
    "    i = 0\n",
    "    \n",
    "    print('max time delay:',max_time_delay, 'max dim:',max_embedding_dimension)\n",
    "    \n",
    "    for timeserie in input_df:\n",
    "        \n",
    "        i += 1\n",
    "        optimal_time_delay, optimal_embedding_dimension = takens_embedding_optimal_parameters(\n",
    "            input_df[timeserie], max_time_delay, max_embedding_dimension, stride=stride\n",
    "            )\n",
    "        if optimal_embedding_dimension < 3:\n",
    "            optimal_embedding_dimension = 3\n",
    "            \n",
    "        print('analyzing nr.',i, 'progress:',int(100*i/len(input_df.columns)),'%', 'dim',optimal_embedding_dimension,'delay', optimal_time_delay)\n",
    "    return"
   ]
  },
  {
   "cell_type": "code",
   "execution_count": null,
   "metadata": {
    "scrolled": true
   },
   "outputs": [],
   "source": [
    "batch_analyzer(slugging_df, 3, 20, 130)"
   ]
  },
  {
   "cell_type": "code",
   "execution_count": null,
   "metadata": {},
   "outputs": [],
   "source": [
    "TE = TakensEmbedding(time_delay=125, dimension=7, stride=3)\n",
    "homology_dimensions = (0, 1)\n",
    "VRP = VietorisRipsPersistence(homology_dimensions=homology_dimensions)\n",
    "PE = PersistenceEntropy()\n",
    "PE_norm = PersistenceEntropy(normalize=True)\n",
    "Betti = BettiCurve()\n",
    "\n",
    "slugging_point_cloud  = TE.fit_transform(slugging_signals)\n",
    "slugging_diagrams = VRP.fit_transform(slugging_point_cloud)\n",
    "slugging_entropy = PE.fit_transform(slugging_diagrams)\n",
    "slugging_entropynorm = PE_norm.fit_transform(slugging_diagrams)\n",
    "slugging_Betti = Betti.fit_transform(slugging_diagrams)"
   ]
  },
  {
   "cell_type": "code",
   "execution_count": null,
   "metadata": {},
   "outputs": [],
   "source": [
    "tmp_entropies = slugging_entropy\n",
    "Entropy_H0 = []\n",
    "Entropy_H1 = []\n",
    "tmp_normalized = slugging_entropynorm\n",
    "Entropy_H0_norm = []\n",
    "Entropy_H1_norm = []\n",
    "\n",
    "for item in tmp_entropies:\n",
    "    Entropy_H0.append(item[0])\n",
    "    Entropy_H1.append(item[1])\n",
    "\n",
    "for item in tmp_normalized:\n",
    "    Entropy_H0_norm.append(item[0])\n",
    "    Entropy_H1_norm.append(item[1])\n",
    "    \n",
    "Entropy_H1_series = pd.Series(Entropy_H1)\n",
    "Entropy_H1_norm_series = pd.Series(Entropy_H1_norm)\n",
    "\n",
    "entropies, ts = plt.subplots(2,figsize=(10,8),sharex = True)\n",
    "\n",
    "entropies.suptitle('Slugging flow dataset persistent entropies')\n",
    "ts[1].set_xlabel(\"# timeseries\")\n",
    "ts[0].set_ylabel('Entropy')\n",
    "ts[1].set_ylabel('normalized  Entropy')\n",
    "\n",
    "degrees = 70\n",
    "plt.xticks(rotation=degrees)\n",
    "\n",
    "ts[0].plot(Entropy_H1,'r-')\n",
    "ts[0].plot(Entropy_H1_series.rolling(20).mean(), 'g-')\n",
    "ts[0].plot(Entropy_H0,'b-')\n",
    "\n",
    "ts[1].plot(Entropy_H1_norm,'r-')\n",
    "ts[1].plot(Entropy_H1_norm_series.rolling(20).mean(), 'g-')\n",
    "ts[1].plot(Entropy_H0_norm,'b-')"
   ]
  },
  {
   "cell_type": "code",
   "execution_count": null,
   "metadata": {},
   "outputs": [],
   "source": [
    "stats_entropy, data = plt.subplots(1, 2,figsize=(10,4))\n",
    "stats_entropy.suptitle('Normal operations dataset persistent entropies')\n",
    "\n",
    "data[0].set_xlabel('Entropy H$_0$')\n",
    "data[0].set_ylabel('count')\n",
    "data[1].set_xlabel(\"Entropy H$_1$\")\n",
    "data[1].set_ylabel('count')\n",
    "\n",
    "#data[0].set_xlim(8,10)\n",
    "#data[1].set_xlim(0,8)\n",
    "data[0].hist(Entropy_H0, bins=25)\n",
    "data[1].hist(Entropy_H1, bins=25)\n",
    "\n",
    "plt.tight_layout()"
   ]
  },
  {
   "cell_type": "code",
   "execution_count": null,
   "metadata": {},
   "outputs": [],
   "source": [
    "stats_entropy, data = plt.subplots(1, 2,figsize=(10,4))\n",
    "stats_entropy.suptitle('Normal operations dataset normalized persistent entropies')\n",
    "\n",
    "data[0].set_xlabel('Normalized Entropy H$_0$')\n",
    "data[0].set_ylabel('count')\n",
    "data[1].set_xlabel(\"Normalized Entropy H$_1$\")\n",
    "data[1].set_ylabel('count')\n",
    "\n",
    "data[0].hist(Entropy_H0_norm, bins=20)\n",
    "data[1].hist(Entropy_H1_norm, bins=20)\n",
    "\n",
    "plt.tight_layout()"
   ]
  },
  {
   "cell_type": "code",
   "execution_count": null,
   "metadata": {},
   "outputs": [],
   "source": [
    "slugging_entropy.shape"
   ]
  },
  {
   "cell_type": "code",
   "execution_count": null,
   "metadata": {},
   "outputs": [],
   "source": [
    "import statistics as stats\n",
    "meanBettiH0 = []\n",
    "medianBettiH0 = []\n",
    "modeBettiH0 = []\n",
    "\n",
    "for i in range(len(slugging_Betti[:,0,0])):\n",
    "    meanBettiH0.append(stats.mean(slugging_Betti[i,0,:]))\n",
    "    medianBettiH0.append(stats.median(slugging_Betti[i,0,:]))\n",
    "    modeBettiH0.append(stats.mode(slugging_Betti[i,0,:]))\n",
    "    \n",
    "    \n",
    "figBetti = px.line()\n",
    "figBetti.add_scatter(y=(meanBettiH0), name=\"Mean of Betti curve H_0\")\n",
    "figBetti.add_scatter(y=(medianBettiH0), name=\"Median of Betti curve H_0\")\n",
    "figBetti.add_scatter(y=(modeBettiH0),name=\"Mode of Betti curve H_0\")\n",
    "figBetti.show()"
   ]
  },
  {
   "cell_type": "code",
   "execution_count": null,
   "metadata": {},
   "outputs": [],
   "source": [
    "meanBettiH1 = []\n",
    "medianBettiH1 = []\n",
    "modeBettiH1 = []\n",
    "\n",
    "for i in range(len(slugging_Betti[:,1,0])):\n",
    "    meanBettiH1.append(stats.mean(slugging_Betti[i,1,:]))\n",
    "    medianBettiH1.append(stats.median(slugging_Betti[i,1,:]))\n",
    "    modeBettiH1.append(stats.mode(slugging_Betti[i,1,:]))\n",
    "    \n",
    "    \n",
    "figBetti = px.line()\n",
    "figBetti.add_scatter(y=(meanBettiH1), name=\"Mean of Betti curve H_1\")\n",
    "figBetti.add_scatter(y=(medianBettiH1), name=\"Median of Betti curve H_1\")\n",
    "figBetti.add_scatter(y=(modeBettiH1),name=\"Mode of Betti curve H_1\")\n",
    "figBetti.show()"
   ]
  },
  {
   "cell_type": "code",
   "execution_count": null,
   "metadata": {},
   "outputs": [],
   "source": [
    "stats_entropy, data = plt.subplots(1, 2,figsize=(10,4))\n",
    "stats_entropy.suptitle('Normal operations dataset - Means of Betti curves')\n",
    "\n",
    "data[0].set_xlabel('Mean of Betti Curve for H$_0$')\n",
    "data[0].set_ylabel('count')\n",
    "data[1].set_xlabel(\"Mean of Betti Curve for H$_1$\")\n",
    "data[1].set_ylabel('count')\n",
    "\n",
    "data[0].hist(meanBettiH0, bins=20)\n",
    "data[1].hist(meanBettiH1)\n",
    "\n",
    "plt.tight_layout()"
   ]
  },
  {
   "cell_type": "code",
   "execution_count": null,
   "metadata": {},
   "outputs": [],
   "source": [
    "pers_H1 = []\n",
    "pers_H0 = []\n",
    "max_pers_H0 = []\n",
    "max_pers_H1 = []\n",
    "\n",
    "for PersDiag in slugging_diagrams: \n",
    "    for point in PersDiag:\n",
    "        birth = point[0]\n",
    "        death = point[1]\n",
    "        dimension = point[2]\n",
    "        persistence = abs(death - birth)\n",
    "        pers_H0.extend([persistence] if dimension == 0 else [])\n",
    "        pers_H1.extend([persistence] if dimension == 1 else [])\n",
    "    max_pers_H0.append(np.amax(pers_H0))\n",
    "    max_pers_H1.append(np.amax(pers_H1))\n",
    "    pers_H0 = []\n",
    "    pers_H1 = []\n",
    "           \n",
    "fig = px.line(title='Maximum Persistence for slugging BHP')\n",
    "fig.add_scatter(y=max_pers_H1, name=\"Max Pers in homology dimension H_1\")\n",
    "fig.add_scatter(y=max_pers_H0, name=\"Max Pers in homology dimension H_0\")\n",
    "\n",
    "fig.show() "
   ]
  },
  {
   "cell_type": "code",
   "execution_count": null,
   "metadata": {},
   "outputs": [],
   "source": [
    "stats_entropy, data = plt.subplots(1, 2,figsize=(10,4))\n",
    "stats_entropy.suptitle('Normal operations dataset - Max Persistence')\n",
    "\n",
    "data[0].set_xlabel('Mean of Betti Curve for H$_0$')\n",
    "data[0].set_ylabel('count')\n",
    "data[1].set_xlabel(\"Mean of Betti Curve for H$_1$\")\n",
    "data[1].set_ylabel('count')\n",
    "\n",
    "data[0].hist(max_pers_H0, bins = 25)\n",
    "data[1].hist(max_pers_H1, bins = 25)\n",
    "\n",
    "plt.tight_layout()"
   ]
  },
  {
   "cell_type": "code",
   "execution_count": null,
   "metadata": {},
   "outputs": [],
   "source": [
    "VRP.plot(Xt=slugging_diagrams, sample=38)"
   ]
  },
  {
   "cell_type": "code",
   "execution_count": null,
   "metadata": {},
   "outputs": [],
   "source": [
    "pca = PCA(n_components=3)\n",
    "pca_slugging = pca.fit_transform(slugging_point_cloud[27])\n",
    "plot_point_cloud(pca_slugging)"
   ]
  },
  {
   "cell_type": "code",
   "execution_count": null,
   "metadata": {},
   "outputs": [],
   "source": [
    "PE(Xt=slugging_diagrams, sample=38)"
   ]
  },
  {
   "cell_type": "code",
   "execution_count": null,
   "metadata": {},
   "outputs": [],
   "source": []
  }
 ],
 "metadata": {
  "kernelspec": {
   "display_name": "tda",
   "language": "python",
   "name": "tda"
  },
  "language_info": {
   "codemirror_mode": {
    "name": "ipython",
    "version": 3
   },
   "file_extension": ".py",
   "mimetype": "text/x-python",
   "name": "python",
   "nbconvert_exporter": "python",
   "pygments_lexer": "ipython3",
   "version": "3.8.2"
  }
 },
 "nbformat": 4,
 "nbformat_minor": 4
}
