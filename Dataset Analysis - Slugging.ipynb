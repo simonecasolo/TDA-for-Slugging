{
 "cells": [
  {
   "cell_type": "code",
   "execution_count": 21,
   "metadata": {},
   "outputs": [],
   "source": [
    "import os\n",
    "import pandas as pd\n",
    "import matplotlib.pyplot as plt\n",
    "from gtda.pipeline import Pipeline\n",
    "from gtda.time_series import Resampler\n",
    "from gtda.diagrams import PersistenceEntropy, Scaler, HeatKernel, BettiCurve\n",
    "import numpy as np\n",
    "from gtda.time_series import SingleTakensEmbedding, takens_embedding_optimal_parameters, TakensEmbedding\n",
    "from sklearn.decomposition import PCA\n",
    "from gtda.plotting import plot_point_cloud\n",
    "from gtda.homology import VietorisRipsPersistence\n",
    "from gtda.metaestimators import CollectionTransformer\n",
    "import plotly.express as px\n"
   ]
  },
  {
   "cell_type": "code",
   "execution_count": 2,
   "metadata": {},
   "outputs": [],
   "source": [
    "def find_shortest_file(path, label):\n",
    "    tmp = []\n",
    "    os.chdir(path)\n",
    "    for file in os.listdir():\n",
    "        data_df = pd.read_csv(file)\n",
    "        tmp.append(len(data_df[label]))\n",
    "    return min(tmp)"
   ]
  },
  {
   "cell_type": "code",
   "execution_count": 3,
   "metadata": {},
   "outputs": [],
   "source": [
    "def read_files(path, label, limit):\n",
    "    data = []\n",
    "    os.chdir(path)\n",
    "    i = 0\n",
    "    for file in os.listdir():\n",
    "        data_df = pd.read_csv(file)\n",
    "        # fill NaN with an interpolated value\n",
    "        data_df = data_df.interpolate()\n",
    "        period = int(len(data_df)/limit)\n",
    "        periodicSampler = Resampler(period=period)\n",
    "        print(i,file)\n",
    "        # resample the files to that all of them are the same length (in entries)\n",
    "        # NOTE: timestamps are omitted and timesteps are going to be different for each resampled time series!\n",
    "        index_sampled, signal_sampled = periodicSampler.fit_transform_resample(data_df.index, data_df[label])\n",
    "        data.append(signal_sampled)\n",
    "        i += 1\n",
    "    data_T = list(map(list, zip(*data)))\n",
    "    data = np.array(data_T)\n",
    "    df = pd.DataFrame.from_records(data_T)\n",
    "    return data.T, df"
   ]
  },
  {
   "cell_type": "code",
   "execution_count": 4,
   "metadata": {},
   "outputs": [
    {
     "data": {
      "text/plain": [
       "12999"
      ]
     },
     "execution_count": 4,
     "metadata": {},
     "output_type": "execute_result"
    }
   ],
   "source": [
    "find_shortest_file(\"/Users/simo/repos/RareEventsDataset/3w_dataset-master/data/data/3/ALL/\", \"P-TPT\")"
   ]
  },
  {
   "cell_type": "code",
   "execution_count": 5,
   "metadata": {},
   "outputs": [
    {
     "name": "stdout",
     "output_type": "stream",
     "text": [
      "0 SIMULATED_00035.csv\n",
      "1 SIMULATED_00021.csv\n",
      "2 SIMULATED_00009.csv\n",
      "3 WELL-00014_20170921200114.csv\n",
      "4 WELL-00014_20170925160218.csv\n",
      "5 WELL-00014_20170926170228.csv\n",
      "6 SIMULATED_00008.csv\n",
      "7 SIMULATED_00020.csv\n",
      "8 SIMULATED_00034.csv\n",
      "9 SIMULATED_00022.csv\n",
      "10 WELL-00014_20170920010042.csv\n",
      "11 SIMULATED_00036.csv\n",
      "12 WELL-00014_20170920060228.csv\n",
      "13 WELL-00014_20170921050404.csv\n",
      "14 SIMULATED_00037.csv\n",
      "15 SIMULATED_00023.csv\n",
      "16 WELL-00014_20170921100155.csv\n",
      "17 SIMULATED_00027.csv\n",
      "18 WELL-00001_20170320130025.csv\n",
      "19 WELL-00014_20170920110053.csv\n",
      "20 SIMULATED_00033.csv\n",
      "21 WELL-00014_20170922060124.csv\n",
      "22 SIMULATED_00032.csv\n",
      "23 SIMULATED_00026.csv\n",
      "24 SIMULATED_00018.csv\n",
      "25 SIMULATED_00030.csv\n",
      "26 SIMULATED_00024.csv\n",
      "27 WELL-00014_20170926020340.csv\n",
      "28 WELL-00014_20171028130000.csv\n",
      "29 SIMULATED_00025.csv\n",
      "30 SIMULATED_00031.csv\n",
      "31 SIMULATED_00019.csv\n",
      "32 SIMULATED_00056.csv\n",
      "33 SIMULATED_00042.csv\n",
      "34 WELL-00014_20170925210042.csv\n",
      "35 WELL-00014_20171028080000.csv\n",
      "36 SIMULATED_00043.csv\n",
      "37 SIMULATED_00057.csv\n",
      "38 SIMULATED_00041.csv\n",
      "39 SIMULATED_00055.csv\n",
      "40 SIMULATED_00069.csv\n",
      "41 WELL-00014_20170921000053.csv\n",
      "42 SIMULATED_00068.csv\n",
      "43 SIMULATED_00054.csv\n",
      "44 SIMULATED_00040.csv\n",
      "45 WELL-00014_20170919210016.csv\n",
      "46 SIMULATED_00044.csv\n",
      "47 SIMULATED_00050.csv\n",
      "48 WELL-00014_20170925060042.csv\n",
      "49 SIMULATED_00051.csv\n",
      "50 SIMULATED_00045.csv\n",
      "51 SIMULATED_00053.csv\n",
      "52 SIMULATED_00047.csv\n",
      "53 WELL-00014_20171028180038.csv\n",
      "54 SIMULATED_00046.csv\n",
      "55 SIMULATED_00052.csv\n",
      "56 SIMULATED_00063.csv\n",
      "57 WELL-00014_20170920190207.csv\n",
      "58 WELL-00014_20170925010031.csv\n",
      "59 WELL-00014_20170918020114.csv\n",
      "60 SIMULATED_00062.csv\n",
      "61 SIMULATED_00060.csv\n",
      "62 SIMULATED_00074.csv\n",
      "63 SIMULATED_00048.csv\n",
      "64 WELL-00014_20170917200000.csv\n",
      "65 WELL-00014_20170926070042.csv\n",
      "66 WELL-00014_20170922010042.csv\n",
      "67 WELL-00014_20170922110042.csv\n",
      "68 WELL-00014_20170918120103.csv\n",
      "69 SIMULATED_00049.csv\n",
      "70 WELL-00014_20170921150042.csv\n",
      "71 SIMULATED_00061.csv\n",
      "72 SIMULATED_00059.csv\n",
      "73 SIMULATED_00065.csv\n",
      "74 SIMULATED_00071.csv\n",
      "75 WELL-00014_20170926120103.csv\n",
      "76 SIMULATED_00070.csv\n",
      "77 SIMULATED_00064.csv\n",
      "78 SIMULATED_00058.csv\n",
      "79 SIMULATED_00072.csv\n",
      "80 SIMULATED_00066.csv\n",
      "81 WELL-00014_20170918070135.csv\n",
      "82 SIMULATED_00067.csv\n",
      "83 SIMULATED_00073.csv\n",
      "84 SIMULATED_00014.csv\n",
      "85 SIMULATED_00028.csv\n",
      "86 WELL-00014_20170922160249.csv\n",
      "87 SIMULATED_00029.csv\n",
      "88 SIMULATED_00001.csv\n",
      "89 SIMULATED_00015.csv\n",
      "90 SIMULATED_00003.csv\n",
      "91 SIMULATED_00017.csv\n",
      "92 WELL-00014_20170925110124.csv\n",
      "93 WELL-00014_20170917150000.csv\n",
      "94 SIMULATED_00016.csv\n",
      "95 SIMULATED_00002.csv\n",
      "96 SIMULATED_00006.csv\n",
      "97 SIMULATED_00012.csv\n",
      "98 SIMULATED_00013.csv\n",
      "99 SIMULATED_00007.csv\n",
      "100 SIMULATED_00039.csv\n",
      "101 SIMULATED_00011.csv\n",
      "102 SIMULATED_00005.csv\n",
      "103 SIMULATED_00004.csv\n",
      "104 SIMULATED_00010.csv\n",
      "105 SIMULATED_00038.csv\n"
     ]
    }
   ],
   "source": [
    "slugging_signals, slugging_df = read_files(\"/Users/simo/repos/RareEventsDataset/3w_dataset-master/data/data/3/ALL/\", \"P-TPT\",3000)"
   ]
  },
  {
   "cell_type": "code",
   "execution_count": 6,
   "metadata": {},
   "outputs": [],
   "source": [
    "PatoBar = 1/100000\n",
    "slugging_df = slugging_df.apply(lambda x: x*PatoBar) \n",
    "slugging_signals = slugging_signals * PatoBar"
   ]
  },
  {
   "cell_type": "code",
   "execution_count": 7,
   "metadata": {},
   "outputs": [
    {
     "data": {
      "text/html": [
       "<div>\n",
       "<style scoped>\n",
       "    .dataframe tbody tr th:only-of-type {\n",
       "        vertical-align: middle;\n",
       "    }\n",
       "\n",
       "    .dataframe tbody tr th {\n",
       "        vertical-align: top;\n",
       "    }\n",
       "\n",
       "    .dataframe thead th {\n",
       "        text-align: right;\n",
       "    }\n",
       "</style>\n",
       "<table border=\"1\" class=\"dataframe\">\n",
       "  <thead>\n",
       "    <tr style=\"text-align: right;\">\n",
       "      <th></th>\n",
       "      <th>0</th>\n",
       "      <th>1</th>\n",
       "      <th>2</th>\n",
       "      <th>3</th>\n",
       "      <th>4</th>\n",
       "      <th>5</th>\n",
       "      <th>6</th>\n",
       "      <th>7</th>\n",
       "      <th>8</th>\n",
       "      <th>9</th>\n",
       "      <th>...</th>\n",
       "      <th>96</th>\n",
       "      <th>97</th>\n",
       "      <th>98</th>\n",
       "      <th>99</th>\n",
       "      <th>100</th>\n",
       "      <th>101</th>\n",
       "      <th>102</th>\n",
       "      <th>103</th>\n",
       "      <th>104</th>\n",
       "      <th>105</th>\n",
       "    </tr>\n",
       "  </thead>\n",
       "  <tbody>\n",
       "    <tr>\n",
       "      <th>0</th>\n",
       "      <td>96.17383</td>\n",
       "      <td>108.2988</td>\n",
       "      <td>174.7420</td>\n",
       "      <td>159.2380</td>\n",
       "      <td>163.6436</td>\n",
       "      <td>145.4572</td>\n",
       "      <td>177.5400</td>\n",
       "      <td>105.3062</td>\n",
       "      <td>167.5515</td>\n",
       "      <td>88.11328</td>\n",
       "      <td>...</td>\n",
       "      <td>180.6620</td>\n",
       "      <td>185.6920</td>\n",
       "      <td>126.3246</td>\n",
       "      <td>177.2877</td>\n",
       "      <td>113.0322</td>\n",
       "      <td>199.9919</td>\n",
       "      <td>168.0768</td>\n",
       "      <td>178.6139</td>\n",
       "      <td>201.1752</td>\n",
       "      <td>153.7390</td>\n",
       "    </tr>\n",
       "    <tr>\n",
       "      <th>1</th>\n",
       "      <td>96.76311</td>\n",
       "      <td>108.3681</td>\n",
       "      <td>174.5841</td>\n",
       "      <td>159.1861</td>\n",
       "      <td>163.6372</td>\n",
       "      <td>145.4879</td>\n",
       "      <td>177.7650</td>\n",
       "      <td>105.3761</td>\n",
       "      <td>167.6486</td>\n",
       "      <td>86.81970</td>\n",
       "      <td>...</td>\n",
       "      <td>180.8188</td>\n",
       "      <td>185.7704</td>\n",
       "      <td>125.9113</td>\n",
       "      <td>177.3547</td>\n",
       "      <td>112.5648</td>\n",
       "      <td>199.9090</td>\n",
       "      <td>168.0295</td>\n",
       "      <td>178.4102</td>\n",
       "      <td>201.3706</td>\n",
       "      <td>153.7529</td>\n",
       "    </tr>\n",
       "    <tr>\n",
       "      <th>2</th>\n",
       "      <td>97.34932</td>\n",
       "      <td>108.4361</td>\n",
       "      <td>174.4556</td>\n",
       "      <td>159.1272</td>\n",
       "      <td>163.6238</td>\n",
       "      <td>145.5183</td>\n",
       "      <td>177.9906</td>\n",
       "      <td>105.4452</td>\n",
       "      <td>167.7342</td>\n",
       "      <td>85.65844</td>\n",
       "      <td>...</td>\n",
       "      <td>180.9651</td>\n",
       "      <td>185.8555</td>\n",
       "      <td>125.5987</td>\n",
       "      <td>177.4126</td>\n",
       "      <td>111.3727</td>\n",
       "      <td>199.8285</td>\n",
       "      <td>167.9745</td>\n",
       "      <td>178.2195</td>\n",
       "      <td>201.5635</td>\n",
       "      <td>153.7604</td>\n",
       "    </tr>\n",
       "    <tr>\n",
       "      <th>3</th>\n",
       "      <td>97.93384</td>\n",
       "      <td>108.5042</td>\n",
       "      <td>174.3357</td>\n",
       "      <td>159.0721</td>\n",
       "      <td>163.6229</td>\n",
       "      <td>145.5528</td>\n",
       "      <td>178.2196</td>\n",
       "      <td>105.5107</td>\n",
       "      <td>167.8100</td>\n",
       "      <td>84.64813</td>\n",
       "      <td>...</td>\n",
       "      <td>181.1152</td>\n",
       "      <td>185.9351</td>\n",
       "      <td>125.3948</td>\n",
       "      <td>177.4723</td>\n",
       "      <td>108.4301</td>\n",
       "      <td>199.7467</td>\n",
       "      <td>167.9240</td>\n",
       "      <td>178.0705</td>\n",
       "      <td>201.7437</td>\n",
       "      <td>153.7613</td>\n",
       "    </tr>\n",
       "    <tr>\n",
       "      <th>4</th>\n",
       "      <td>98.51336</td>\n",
       "      <td>108.5681</td>\n",
       "      <td>174.2306</td>\n",
       "      <td>158.9737</td>\n",
       "      <td>163.6395</td>\n",
       "      <td>145.5905</td>\n",
       "      <td>178.4324</td>\n",
       "      <td>105.5737</td>\n",
       "      <td>167.8849</td>\n",
       "      <td>83.80443</td>\n",
       "      <td>...</td>\n",
       "      <td>181.2598</td>\n",
       "      <td>185.9948</td>\n",
       "      <td>125.2949</td>\n",
       "      <td>177.5293</td>\n",
       "      <td>105.1093</td>\n",
       "      <td>199.6501</td>\n",
       "      <td>167.8513</td>\n",
       "      <td>177.9159</td>\n",
       "      <td>201.9234</td>\n",
       "      <td>153.7554</td>\n",
       "    </tr>\n",
       "    <tr>\n",
       "      <th>...</th>\n",
       "      <td>...</td>\n",
       "      <td>...</td>\n",
       "      <td>...</td>\n",
       "      <td>...</td>\n",
       "      <td>...</td>\n",
       "      <td>...</td>\n",
       "      <td>...</td>\n",
       "      <td>...</td>\n",
       "      <td>...</td>\n",
       "      <td>...</td>\n",
       "      <td>...</td>\n",
       "      <td>...</td>\n",
       "      <td>...</td>\n",
       "      <td>...</td>\n",
       "      <td>...</td>\n",
       "      <td>...</td>\n",
       "      <td>...</td>\n",
       "      <td>...</td>\n",
       "      <td>...</td>\n",
       "      <td>...</td>\n",
       "      <td>...</td>\n",
       "    </tr>\n",
       "    <tr>\n",
       "      <th>3039</th>\n",
       "      <td>94.53171</td>\n",
       "      <td>102.3036</td>\n",
       "      <td>182.5136</td>\n",
       "      <td>148.4925</td>\n",
       "      <td>143.0031</td>\n",
       "      <td>139.0851</td>\n",
       "      <td>183.3203</td>\n",
       "      <td>107.2557</td>\n",
       "      <td>163.5842</td>\n",
       "      <td>100.70980</td>\n",
       "      <td>...</td>\n",
       "      <td>180.4913</td>\n",
       "      <td>198.2009</td>\n",
       "      <td>192.6270</td>\n",
       "      <td>174.9625</td>\n",
       "      <td>118.9467</td>\n",
       "      <td>201.1888</td>\n",
       "      <td>180.3041</td>\n",
       "      <td>184.2655</td>\n",
       "      <td>203.7540</td>\n",
       "      <td>152.3167</td>\n",
       "    </tr>\n",
       "    <tr>\n",
       "      <th>3040</th>\n",
       "      <td>95.12980</td>\n",
       "      <td>102.2921</td>\n",
       "      <td>182.7436</td>\n",
       "      <td>148.2848</td>\n",
       "      <td>143.0901</td>\n",
       "      <td>139.0980</td>\n",
       "      <td>183.1843</td>\n",
       "      <td>107.2109</td>\n",
       "      <td>164.0312</td>\n",
       "      <td>100.93280</td>\n",
       "      <td>...</td>\n",
       "      <td>180.5391</td>\n",
       "      <td>198.0693</td>\n",
       "      <td>192.1176</td>\n",
       "      <td>175.2638</td>\n",
       "      <td>119.1532</td>\n",
       "      <td>201.3474</td>\n",
       "      <td>180.3362</td>\n",
       "      <td>184.3042</td>\n",
       "      <td>203.9058</td>\n",
       "      <td>152.4458</td>\n",
       "    </tr>\n",
       "    <tr>\n",
       "      <th>3041</th>\n",
       "      <td>95.72232</td>\n",
       "      <td>102.2805</td>\n",
       "      <td>182.9678</td>\n",
       "      <td>148.1548</td>\n",
       "      <td>143.1250</td>\n",
       "      <td>139.1262</td>\n",
       "      <td>182.9915</td>\n",
       "      <td>107.1630</td>\n",
       "      <td>164.3872</td>\n",
       "      <td>101.14470</td>\n",
       "      <td>...</td>\n",
       "      <td>180.5942</td>\n",
       "      <td>197.9429</td>\n",
       "      <td>191.5884</td>\n",
       "      <td>175.5548</td>\n",
       "      <td>119.3467</td>\n",
       "      <td>201.4928</td>\n",
       "      <td>180.3737</td>\n",
       "      <td>184.3433</td>\n",
       "      <td>204.0186</td>\n",
       "      <td>152.5718</td>\n",
       "    </tr>\n",
       "    <tr>\n",
       "      <th>3042</th>\n",
       "      <td>96.31479</td>\n",
       "      <td>102.2690</td>\n",
       "      <td>183.1760</td>\n",
       "      <td>147.8562</td>\n",
       "      <td>143.2103</td>\n",
       "      <td>139.1439</td>\n",
       "      <td>182.8281</td>\n",
       "      <td>107.1125</td>\n",
       "      <td>164.6092</td>\n",
       "      <td>101.34700</td>\n",
       "      <td>...</td>\n",
       "      <td>180.6801</td>\n",
       "      <td>197.8125</td>\n",
       "      <td>191.0758</td>\n",
       "      <td>175.8483</td>\n",
       "      <td>119.5316</td>\n",
       "      <td>201.6354</td>\n",
       "      <td>180.4196</td>\n",
       "      <td>184.3867</td>\n",
       "      <td>204.1487</td>\n",
       "      <td>152.6944</td>\n",
       "    </tr>\n",
       "    <tr>\n",
       "      <th>3043</th>\n",
       "      <td>96.90836</td>\n",
       "      <td>102.2576</td>\n",
       "      <td>183.3807</td>\n",
       "      <td>147.5953</td>\n",
       "      <td>143.2905</td>\n",
       "      <td>139.1743</td>\n",
       "      <td>182.6505</td>\n",
       "      <td>107.0587</td>\n",
       "      <td>164.9642</td>\n",
       "      <td>101.54000</td>\n",
       "      <td>...</td>\n",
       "      <td>180.7428</td>\n",
       "      <td>197.6823</td>\n",
       "      <td>190.5902</td>\n",
       "      <td>176.1458</td>\n",
       "      <td>119.7079</td>\n",
       "      <td>201.7746</td>\n",
       "      <td>180.4779</td>\n",
       "      <td>184.4392</td>\n",
       "      <td>204.2937</td>\n",
       "      <td>152.8132</td>\n",
       "    </tr>\n",
       "  </tbody>\n",
       "</table>\n",
       "<p>3044 rows × 106 columns</p>\n",
       "</div>"
      ],
      "text/plain": [
       "           0         1         2         3         4         5         6    \\\n",
       "0     96.17383  108.2988  174.7420  159.2380  163.6436  145.4572  177.5400   \n",
       "1     96.76311  108.3681  174.5841  159.1861  163.6372  145.4879  177.7650   \n",
       "2     97.34932  108.4361  174.4556  159.1272  163.6238  145.5183  177.9906   \n",
       "3     97.93384  108.5042  174.3357  159.0721  163.6229  145.5528  178.2196   \n",
       "4     98.51336  108.5681  174.2306  158.9737  163.6395  145.5905  178.4324   \n",
       "...        ...       ...       ...       ...       ...       ...       ...   \n",
       "3039  94.53171  102.3036  182.5136  148.4925  143.0031  139.0851  183.3203   \n",
       "3040  95.12980  102.2921  182.7436  148.2848  143.0901  139.0980  183.1843   \n",
       "3041  95.72232  102.2805  182.9678  148.1548  143.1250  139.1262  182.9915   \n",
       "3042  96.31479  102.2690  183.1760  147.8562  143.2103  139.1439  182.8281   \n",
       "3043  96.90836  102.2576  183.3807  147.5953  143.2905  139.1743  182.6505   \n",
       "\n",
       "           7         8          9    ...       96        97        98   \\\n",
       "0     105.3062  167.5515   88.11328  ...  180.6620  185.6920  126.3246   \n",
       "1     105.3761  167.6486   86.81970  ...  180.8188  185.7704  125.9113   \n",
       "2     105.4452  167.7342   85.65844  ...  180.9651  185.8555  125.5987   \n",
       "3     105.5107  167.8100   84.64813  ...  181.1152  185.9351  125.3948   \n",
       "4     105.5737  167.8849   83.80443  ...  181.2598  185.9948  125.2949   \n",
       "...        ...       ...        ...  ...       ...       ...       ...   \n",
       "3039  107.2557  163.5842  100.70980  ...  180.4913  198.2009  192.6270   \n",
       "3040  107.2109  164.0312  100.93280  ...  180.5391  198.0693  192.1176   \n",
       "3041  107.1630  164.3872  101.14470  ...  180.5942  197.9429  191.5884   \n",
       "3042  107.1125  164.6092  101.34700  ...  180.6801  197.8125  191.0758   \n",
       "3043  107.0587  164.9642  101.54000  ...  180.7428  197.6823  190.5902   \n",
       "\n",
       "           99        100       101       102       103       104       105  \n",
       "0     177.2877  113.0322  199.9919  168.0768  178.6139  201.1752  153.7390  \n",
       "1     177.3547  112.5648  199.9090  168.0295  178.4102  201.3706  153.7529  \n",
       "2     177.4126  111.3727  199.8285  167.9745  178.2195  201.5635  153.7604  \n",
       "3     177.4723  108.4301  199.7467  167.9240  178.0705  201.7437  153.7613  \n",
       "4     177.5293  105.1093  199.6501  167.8513  177.9159  201.9234  153.7554  \n",
       "...        ...       ...       ...       ...       ...       ...       ...  \n",
       "3039  174.9625  118.9467  201.1888  180.3041  184.2655  203.7540  152.3167  \n",
       "3040  175.2638  119.1532  201.3474  180.3362  184.3042  203.9058  152.4458  \n",
       "3041  175.5548  119.3467  201.4928  180.3737  184.3433  204.0186  152.5718  \n",
       "3042  175.8483  119.5316  201.6354  180.4196  184.3867  204.1487  152.6944  \n",
       "3043  176.1458  119.7079  201.7746  180.4779  184.4392  204.2937  152.8132  \n",
       "\n",
       "[3044 rows x 106 columns]"
      ]
     },
     "execution_count": 7,
     "metadata": {},
     "output_type": "execute_result"
    }
   ],
   "source": [
    "slugging_df"
   ]
  },
  {
   "cell_type": "code",
   "execution_count": 14,
   "metadata": {},
   "outputs": [
    {
     "name": "stdout",
     "output_type": "stream",
     "text": [
      "freq units: 3.285151E-05 Hz\n"
     ]
    },
    {
     "data": {
      "text/plain": [
       "<AxesSubplot:xlabel='BHP (Bar)', ylabel='count'>"
      ]
     },
     "execution_count": 14,
     "metadata": {},
     "output_type": "execute_result"
    },
    {
     "data": {
      "image/png": "[encoded data removed]",
      "text/plain": [
       "<Figure size 1224x216 with 3 Axes>"
      ]
     },
     "metadata": {
      "needs_background": "light"
     },
     "output_type": "display_data"
    }
   ],
   "source": [
    "from random import gauss\n",
    "from random import seed\n",
    "from pandas.plotting import autocorrelation_plot\n",
    "from statsmodels.graphics.gofplots import qqplot\n",
    "\n",
    "fig_ss_analysis, data = plt.subplots(1, 3, figsize=(17, 3))\n",
    "freq_units = 0.1/len(slugging_df[21])\n",
    "print('freq units: %(units)4E Hz' %{\"units\":(freq_units)})\n",
    "\n",
    "fig_ss_analysis.suptitle('slugging BHP stats')\n",
    "data[0].set_xlabel('time')\n",
    "data[0].set_ylabel('BHP (Bar)')\n",
    "data[1].set_xlabel('freq (%(units).2E Hz)' %{\"units\":(freq_units)})\n",
    "data[1].set_ylabel('power spectrum')\n",
    "data[2].set_xlabel('BHP (Bar)')\n",
    "data[2].set_ylabel('count')\n",
    "\n",
    "data[1].set_xlim(2,1000)\n",
    "data[1].set_yscale('log')\n",
    "data[1].set_xscale('log')\n",
    "\n",
    "ss_BHP = slugging_df[18]\n",
    "\n",
    "fft_ss = np.fft.rfft(ss_BHP)\n",
    "fft_ss_abs = np.abs(fft_ss)\n",
    "power_spectrum_ss = np.square(fft_ss_abs)\n",
    "\n",
    "\n",
    "data[0].plot(ss_BHP)\n",
    "data[1].plot(power_spectrum_ss)\n",
    "ss_BHP.hist()"
   ]
  },
  {
   "cell_type": "code",
   "execution_count": 15,
   "metadata": {},
   "outputs": [],
   "source": [
    "def batch_analyzer(input_df, stride, max_embedding_dimension, max_time_delay):\n",
    "    max_time_delay = int(max_time_delay)\n",
    "    max_embedding_dimension = int(max_embedding_dimension)\n",
    "    homology_dimensions = (0, 1)\n",
    "    VRP = VietorisRipsPersistence(homology_dimensions=homology_dimensions)\n",
    "    pca = PCA(n_components=3)\n",
    "    PE_signal = PersistenceEntropy()\n",
    "    PE_norm = PersistenceEntropy(normalize=True)\n",
    "\n",
    "    entropies = []\n",
    "    norm_entropies = []\n",
    "    diagrams = []\n",
    "    point_clouds_pca = []\n",
    "    i = 0\n",
    "    \n",
    "    print('max time delay:',max_time_delay, 'max dim:',max_embedding_dimension)\n",
    "    \n",
    "    for timeserie in input_df:\n",
    "        \n",
    "        i += 1\n",
    "        optimal_time_delay, optimal_embedding_dimension = takens_embedding_optimal_parameters(\n",
    "            input_df[timeserie], max_time_delay, max_embedding_dimension, stride=stride\n",
    "            )\n",
    "        if optimal_embedding_dimension < 3:\n",
    "            optimal_embedding_dimension = 3\n",
    "            \n",
    "        print('analyzing nr.',i, 'progress:',int(100*i/len(input_df.columns)),'%', 'dim',optimal_embedding_dimension,'delay', optimal_time_delay)\n",
    "    return"
   ]
  },
  {
   "cell_type": "code",
   "execution_count": 17,
   "metadata": {},
   "outputs": [
    {
     "name": "stdout",
     "output_type": "stream",
     "text": [
      "max time delay: 130 max dim: 20\n",
      "analyzing nr. 1 progress: 0 % dim 7 delay 111\n",
      "analyzing nr. 2 progress: 1 % dim 6 delay 130\n",
      "analyzing nr. 3 progress: 2 % dim 6 delay 129\n",
      "analyzing nr. 4 progress: 3 % dim 7 delay 124\n",
      "analyzing nr. 5 progress: 4 % dim 7 delay 126\n",
      "analyzing nr. 6 progress: 5 % dim 7 delay 129\n",
      "analyzing nr. 7 progress: 6 % dim 6 delay 127\n",
      "analyzing nr. 8 progress: 7 % dim 7 delay 124\n",
      "analyzing nr. 9 progress: 8 % dim 7 delay 123\n",
      "analyzing nr. 10 progress: 9 % dim 6 delay 130\n",
      "analyzing nr. 11 progress: 10 % dim 7 delay 130\n",
      "analyzing nr. 12 progress: 11 % dim 8 delay 109\n",
      "analyzing nr. 13 progress: 12 % dim 7 delay 129\n",
      "analyzing nr. 14 progress: 13 % dim 7 delay 125\n",
      "analyzing nr. 15 progress: 14 % dim 6 delay 128\n",
      "analyzing nr. 16 progress: 15 % dim 6 delay 130\n",
      "analyzing nr. 17 progress: 16 % dim 7 delay 122\n",
      "analyzing nr. 18 progress: 16 % dim 9 delay 87\n",
      "analyzing nr. 19 progress: 17 % dim 7 delay 128\n",
      "analyzing nr. 20 progress: 18 % dim 7 delay 127\n",
      "analyzing nr. 21 progress: 19 % dim 7 delay 112\n",
      "analyzing nr. 22 progress: 20 % dim 7 delay 128\n",
      "analyzing nr. 23 progress: 21 % dim 13 delay 63\n",
      "analyzing nr. 24 progress: 22 % dim 8 delay 96\n",
      "analyzing nr. 25 progress: 23 % dim 7 delay 130\n",
      "analyzing nr. 26 progress: 24 % dim 6 delay 130\n",
      "analyzing nr. 27 progress: 25 % dim 6 delay 128\n",
      "analyzing nr. 28 progress: 26 % dim 7 delay 129\n",
      "analyzing nr. 29 progress: 27 % dim 7 delay 127\n",
      "analyzing nr. 30 progress: 28 % dim 8 delay 79\n",
      "analyzing nr. 31 progress: 29 % dim 9 delay 85\n",
      "analyzing nr. 32 progress: 30 % dim 6 delay 129\n",
      "analyzing nr. 33 progress: 31 % dim 10 delay 74\n",
      "analyzing nr. 34 progress: 32 % dim 6 delay 130\n",
      "analyzing nr. 35 progress: 33 % dim 7 delay 130\n",
      "analyzing nr. 36 progress: 33 % dim 7 delay 126\n",
      "analyzing nr. 37 progress: 34 % dim 7 delay 126\n",
      "analyzing nr. 38 progress: 35 % dim 8 delay 106\n",
      "analyzing nr. 39 progress: 36 % dim 11 delay 70\n",
      "analyzing nr. 40 progress: 37 % dim 6 delay 130\n",
      "analyzing nr. 41 progress: 38 % dim 7 delay 130\n",
      "analyzing nr. 42 progress: 39 % dim 7 delay 130\n",
      "analyzing nr. 43 progress: 40 % dim 15 delay 53\n",
      "analyzing nr. 44 progress: 41 % dim 8 delay 111\n",
      "analyzing nr. 45 progress: 42 % dim 9 delay 90\n",
      "analyzing nr. 46 progress: 43 % dim 7 delay 129\n",
      "analyzing nr. 47 progress: 44 % dim 7 delay 125\n",
      "analyzing nr. 48 progress: 45 % dim 7 delay 128\n",
      "analyzing nr. 49 progress: 46 % dim 7 delay 129\n",
      "analyzing nr. 50 progress: 47 % dim 7 delay 130\n",
      "analyzing nr. 51 progress: 48 % dim 6 delay 130\n",
      "analyzing nr. 52 progress: 49 % dim 7 delay 124\n",
      "analyzing nr. 53 progress: 50 % dim 7 delay 124\n",
      "analyzing nr. 54 progress: 50 % dim 7 delay 130\n",
      "analyzing nr. 55 progress: 51 % dim 7 delay 130\n",
      "analyzing nr. 56 progress: 52 % dim 8 delay 105\n",
      "analyzing nr. 57 progress: 53 % dim 7 delay 116\n",
      "analyzing nr. 58 progress: 54 % dim 7 delay 128\n",
      "analyzing nr. 59 progress: 55 % dim 7 delay 114\n",
      "analyzing nr. 60 progress: 56 % dim 7 delay 127\n",
      "analyzing nr. 61 progress: 57 % dim 8 delay 107\n",
      "analyzing nr. 62 progress: 58 % dim 14 delay 59\n",
      "analyzing nr. 63 progress: 59 % dim 9 delay 88\n",
      "analyzing nr. 64 progress: 60 % dim 7 delay 119\n",
      "analyzing nr. 65 progress: 61 % dim 7 delay 125\n",
      "analyzing nr. 66 progress: 62 % dim 7 delay 127\n",
      "analyzing nr. 67 progress: 63 % dim 7 delay 130\n",
      "analyzing nr. 68 progress: 64 % dim 6 delay 129\n",
      "analyzing nr. 69 progress: 65 % dim 7 delay 129\n",
      "analyzing nr. 70 progress: 66 % dim 8 delay 105\n",
      "analyzing nr. 71 progress: 66 % dim 7 delay 129\n",
      "analyzing nr. 72 progress: 67 % dim 6 delay 130\n",
      "analyzing nr. 73 progress: 68 % dim 7 delay 125\n",
      "analyzing nr. 74 progress: 69 % dim 13 delay 48\n",
      "analyzing nr. 75 progress: 70 % dim 13 delay 14\n",
      "analyzing nr. 76 progress: 71 % dim 5 delay 127\n",
      "analyzing nr. 77 progress: 72 % dim 3 delay 12\n",
      "analyzing nr. 78 progress: 73 % dim 8 delay 106\n",
      "analyzing nr. 79 progress: 74 % dim 15 delay 52\n",
      "analyzing nr. 80 progress: 75 % dim 7 delay 130\n",
      "analyzing nr. 81 progress: 76 % dim 8 delay 110\n",
      "analyzing nr. 82 progress: 77 % dim 7 delay 130\n",
      "analyzing nr. 83 progress: 78 % dim 13 delay 63\n",
      "analyzing nr. 84 progress: 79 % dim 7 delay 114\n",
      "analyzing nr. 85 progress: 80 % dim 7 delay 122\n",
      "analyzing nr. 86 progress: 81 % dim 7 delay 125\n",
      "analyzing nr. 87 progress: 82 % dim 6 delay 130\n",
      "analyzing nr. 88 progress: 83 % dim 14 delay 58\n",
      "analyzing nr. 89 progress: 83 % dim 7 delay 110\n",
      "analyzing nr. 90 progress: 84 % dim 6 delay 130\n",
      "analyzing nr. 91 progress: 85 % dim 6 delay 129\n",
      "analyzing nr. 92 progress: 86 % dim 6 delay 130\n",
      "analyzing nr. 93 progress: 87 % dim 7 delay 130\n",
      "analyzing nr. 94 progress: 88 % dim 7 delay 113\n",
      "analyzing nr. 95 progress: 89 % dim 6 delay 128\n",
      "analyzing nr. 96 progress: 90 % dim 7 delay 120\n",
      "analyzing nr. 97 progress: 91 % dim 9 delay 87\n",
      "analyzing nr. 98 progress: 92 % dim 6 delay 123\n",
      "analyzing nr. 99 progress: 93 % dim 7 delay 111\n",
      "analyzing nr. 100 progress: 94 % dim 7 delay 126\n",
      "analyzing nr. 101 progress: 95 % dim 6 delay 128\n",
      "analyzing nr. 102 progress: 96 % dim 7 delay 128\n",
      "analyzing nr. 103 progress: 97 % dim 6 delay 130\n",
      "analyzing nr. 104 progress: 98 % dim 8 delay 100\n",
      "analyzing nr. 105 progress: 99 % dim 8 delay 102\n",
      "analyzing nr. 106 progress: 100 % dim 18 delay 24\n"
     ]
    }
   ],
   "source": [
    "batch_analyzer(slugging_df, 3, 20, 130)"
   ]
  },
  {
   "cell_type": "code",
   "execution_count": 18,
   "metadata": {},
   "outputs": [],
   "source": [
    "TE = TakensEmbedding(time_delay=125, dimension=7, stride=3)\n",
    "homology_dimensions = (0, 1)\n",
    "VRP = VietorisRipsPersistence(homology_dimensions=homology_dimensions)\n",
    "PE = PersistenceEntropy()\n",
    "PE_norm = PersistenceEntropy(normalize=True)\n",
    "Betti = BettiCurve()\n",
    "\n",
    "slugging_point_cloud  = TE.fit_transform(slugging_signals)\n",
    "slugging_diagrams = VRP.fit_transform(slugging_point_cloud)\n",
    "slugging_entropy = PE.fit_transform(slugging_diagrams)\n",
    "slugging_entropynorm = PE_norm.fit_transform(slugging_diagrams)\n",
    "slugging_Betti = Betti.fit_transform(slugging_diagrams)"
   ]
  },
  {
   "cell_type": "code",
   "execution_count": 37,
   "metadata": {},
   "outputs": [
    {
     "data": {
      "text/plain": [
       "[<matplotlib.lines.Line2D at 0x138ab17f0>]"
      ]
     },
     "execution_count": 37,
     "metadata": {},
     "output_type": "execute_result"
    },
    {
     "data": {
      "image/png": "[encoded data removed]",
      "text/plain": [
       "<Figure size 720x576 with 2 Axes>"
      ]
     },
     "metadata": {
      "needs_background": "light"
     },
     "output_type": "display_data"
    }
   ],
   "source": [
    "tmp_entropies = slugging_entropy\n",
    "Entropy_H0 = []\n",
    "Entropy_H1 = []\n",
    "tmp_normalized = slugging_entropynorm\n",
    "Entropy_H0_norm = []\n",
    "Entropy_H1_norm = []\n",
    "\n",
    "for item in tmp_entropies:\n",
    "    Entropy_H0.append(item[0])\n",
    "    Entropy_H1.append(item[1])\n",
    "\n",
    "for item in tmp_normalized:\n",
    "    Entropy_H0_norm.append(item[0])\n",
    "    Entropy_H1_norm.append(item[1])\n",
    "    \n",
    "Entropy_H1_series = pd.Series(Entropy_H1)\n",
    "Entropy_H1_norm_series = pd.Series(Entropy_H1_norm)\n",
    "\n",
    "entropies, ts = plt.subplots(2,figsize=(10,8),sharex = True)\n",
    "\n",
    "entropies.suptitle('Slugging flow dataset persistent entropies')\n",
    "ts[1].set_xlabel(\"# timeseries\")\n",
    "ts[0].set_ylabel('Entropy')\n",
    "ts[1].set_ylabel('normalized  Entropy')\n",
    "\n",
    "degrees = 70\n",
    "plt.xticks(rotation=degrees)\n",
    "\n",
    "ts[0].plot(Entropy_H1,'r-')\n",
    "ts[0].plot(Entropy_H1_series.rolling(20).mean(), 'g-')\n",
    "ts[0].plot(Entropy_H0,'b-')\n",
    "\n",
    "ts[1].plot(Entropy_H1_norm,'r-')\n",
    "ts[1].plot(Entropy_H1_norm_series.rolling(20).mean(), 'g-')\n",
    "ts[1].plot(Entropy_H0_norm,'b-')"
   ]
  },
  {
   "cell_type": "code",
   "execution_count": 55,
   "metadata": {},
   "outputs": [
    {
     "data": {
      "image/png": "[encoded data removed]",
      "text/plain": [
       "<Figure size 720x288 with 2 Axes>"
      ]
     },
     "metadata": {
      "needs_background": "light"
     },
     "output_type": "display_data"
    }
   ],
   "source": [
    "stats_entropy, data = plt.subplots(1, 2,figsize=(10,4))\n",
    "stats_entropy.suptitle('Normal operations dataset persistent entropies')\n",
    "\n",
    "data[0].set_xlabel('Entropy H$_0$')\n",
    "data[0].set_ylabel('count')\n",
    "data[1].set_xlabel(\"Entropy H$_1$\")\n",
    "data[1].set_ylabel('count')\n",
    "\n",
    "#data[0].set_xlim(8,10)\n",
    "#data[1].set_xlim(0,8)\n",
    "data[0].hist(Entropy_H0, bins=25)\n",
    "data[1].hist(Entropy_H1, bins=25)\n",
    "\n",
    "plt.tight_layout()"
   ]
  },
  {
   "cell_type": "code",
   "execution_count": 56,
   "metadata": {},
   "outputs": [
    {
     "data": {
      "image/png": "[encoded data removed]",
      "text/plain": [
       "<Figure size 720x288 with 2 Axes>"
      ]
     },
     "metadata": {
      "needs_background": "light"
     },
     "output_type": "display_data"
    }
   ],
   "source": [
    "stats_entropy, data = plt.subplots(1, 2,figsize=(10,4))\n",
    "stats_entropy.suptitle('Normal operations dataset normalized persistent entropies')\n",
    "\n",
    "data[0].set_xlabel('Normalized Entropy H$_0$')\n",
    "data[0].set_ylabel('count')\n",
    "data[1].set_xlabel(\"Normalized Entropy H$_1$\")\n",
    "data[1].set_ylabel('count')\n",
    "\n",
    "data[0].hist(Entropy_H0_norm, bins=20)\n",
    "data[1].hist(Entropy_H1_norm, bins=20)\n",
    "\n",
    "plt.tight_layout()"
   ]
  },
  {
   "cell_type": "code",
   "execution_count": 34,
   "metadata": {},
   "outputs": [
    {
     "data": {
      "text/plain": [
       "(106, 2)"
      ]
     },
     "execution_count": 34,
     "metadata": {},
     "output_type": "execute_result"
    }
   ],
   "source": [
    "slugging_entropy.shape"
   ]
  },
  {
   "cell_type": "code",
   "execution_count": 28,
   "metadata": {},
   "outputs": [
    {
     "data": {
      "application/vnd.plotly.v1+json": {
       "config": {
        "plotlyServerURL": "https://plot.ly"
       },
       "data": [
        {
         "name": "Mean of Betti curve H_0",
         "type": "scatter",
         "y": [
          46,
          98,
          174,
          24,
          33,
          14,
          172,
          77,
          97,
          110,
          23,
          61,
          25,
          19,
          104,
          151,
          25,
          47,
          9,
          31,
          186,
          25,
          7,
          86,
          115,
          82,
          75,
          24,
          7,
          123,
          45,
          50,
          24,
          52,
          26,
          7,
          27,
          12,
          36,
          25,
          16,
          19,
          8,
          21,
          25,
          18,
          17,
          14,
          29,
          11,
          29,
          19,
          14,
          7,
          43,
          10,
          11,
          14,
          27,
          17,
          9,
          7,
          11,
          23,
          10,
          25,
          23,
          24,
          35,
          33,
          25,
          19,
          19,
          12,
          7,
          22,
          9,
          7,
          12,
          36,
          8,
          20,
          15,
          22,
          111,
          163,
          31,
          22,
          62,
          51,
          94,
          125,
          31,
          7,
          70,
          121,
          169,
          133,
          120,
          120,
          48,
          148,
          103,
          114,
          101,
          7
         ]
        },
        {
         "name": "Median of Betti curve H_0",
         "type": "scatter",
         "y": [
          0,
          0,
          1,
          0,
          8,
          0,
          1.5,
          0,
          0,
          0,
          0,
          0,
          0,
          0,
          26.5,
          0,
          0,
          0,
          0,
          0,
          43,
          0,
          0,
          3,
          0,
          0,
          0,
          0,
          0,
          0,
          0,
          0,
          0,
          0,
          0,
          0,
          0,
          0,
          0,
          0,
          0,
          0,
          0,
          0,
          0,
          0,
          0,
          0,
          0,
          0,
          0,
          0,
          0,
          0,
          0,
          0,
          0,
          0,
          0,
          0,
          0,
          0,
          0,
          0,
          0,
          0,
          0,
          0,
          0,
          0,
          0,
          0,
          0,
          0,
          0,
          0,
          0,
          0,
          0,
          0,
          0,
          0,
          0,
          0,
          0,
          45.5,
          5,
          0,
          0,
          0,
          0,
          0,
          3,
          0,
          0,
          0,
          0,
          13.5,
          0,
          1.5,
          0,
          6,
          0,
          0,
          0,
          0
         ]
        },
        {
         "name": "Mode of Betti curve H_0",
         "type": "scatter",
         "y": [
          0,
          0,
          0,
          0,
          2,
          0,
          0,
          0,
          0,
          0,
          0,
          0,
          0,
          0,
          1,
          0,
          0,
          0,
          0,
          0,
          0,
          0,
          0,
          0,
          0,
          0,
          0,
          0,
          0,
          0,
          0,
          0,
          0,
          0,
          0,
          0,
          0,
          0,
          0,
          0,
          0,
          0,
          0,
          0,
          0,
          0,
          0,
          0,
          0,
          0,
          0,
          0,
          0,
          0,
          0,
          0,
          0,
          0,
          0,
          0,
          0,
          0,
          0,
          0,
          0,
          0,
          0,
          0,
          0,
          0,
          0,
          0,
          0,
          0,
          0,
          0,
          0,
          0,
          0,
          0,
          0,
          0,
          0,
          0,
          0,
          0,
          5,
          0,
          0,
          0,
          0,
          0,
          0,
          0,
          0,
          0,
          0,
          0,
          0,
          0,
          0,
          0,
          0,
          0,
          0,
          0
         ]
        }
       ],
       "layout": {
        "legend": {
         "tracegroupgap": 0
        },
        "margin": {
         "t": 60
        },
        "template": {
         "data": {
          "bar": [
           {
            "error_x": {
             "color": "#2a3f5f"
            },
            "error_y": {
             "color": "#2a3f5f"
            },
            "marker": {
             "line": {
              "color": "#E5ECF6",
              "width": 0.5
             },
             "pattern": {
              "fillmode": "overlay",
              "size": 10,
              "solidity": 0.2
             }
            },
            "type": "bar"
           }
          ],
          "barpolar": [
           {
            "marker": {
             "line": {
              "color": "#E5ECF6",
              "width": 0.5
             },
             "pattern": {
              "fillmode": "overlay",
              "size": 10,
              "solidity": 0.2
             }
            },
            "type": "barpolar"
           }
          ],
          "carpet": [
           {
            "aaxis": {
             "endlinecolor": "#2a3f5f",
             "gridcolor": "white",
             "linecolor": "white",
             "minorgridcolor": "white",
             "startlinecolor": "#2a3f5f"
            },
            "baxis": {
             "endlinecolor": "#2a3f5f",
             "gridcolor": "white",
             "linecolor": "white",
             "minorgridcolor": "white",
             "startlinecolor": "#2a3f5f"
            },
            "type": "carpet"
           }
          ],
          "choropleth": [
           {
            "colorbar": {
             "outlinewidth": 0,
             "ticks": ""
            },
            "type": "choropleth"
           }
          ],
          "contour": [
           {
            "colorbar": {
             "outlinewidth": 0,
             "ticks": ""
            },
            "colorscale": [
             [
              0,
              "#0d0887"
             ],
             [
              0.1111111111111111,
              "#46039f"
             ],
             [
              0.2222222222222222,
              "#7201a8"
             ],
             [
              0.3333333333333333,
              "#9c179e"
             ],
             [
              0.4444444444444444,
              "#bd3786"
             ],
             [
              0.5555555555555556,
              "#d8576b"
             ],
             [
              0.6666666666666666,
              "#ed7953"
             ],
             [
              0.7777777777777778,
              "#fb9f3a"
             ],
             [
              0.8888888888888888,
              "#fdca26"
             ],
             [
              1,
              "#f0f921"
             ]
            ],
            "type": "contour"
           }
          ],
          "contourcarpet": [
           {
            "colorbar": {
             "outlinewidth": 0,
             "ticks": ""
            },
            "type": "contourcarpet"
           }
          ],
          "heatmap": [
           {
            "colorbar": {
             "outlinewidth": 0,
             "ticks": ""
            },
            "colorscale": [
             [
              0,
              "#0d0887"
             ],
             [
              0.1111111111111111,
              "#46039f"
             ],
             [
              0.2222222222222222,
              "#7201a8"
             ],
             [
              0.3333333333333333,
              "#9c179e"
             ],
             [
              0.4444444444444444,
              "#bd3786"
             ],
             [
              0.5555555555555556,
              "#d8576b"
             ],
             [
              0.6666666666666666,
              "#ed7953"
             ],
             [
              0.7777777777777778,
              "#fb9f3a"
             ],
             [
              0.8888888888888888,
              "#fdca26"
             ],
             [
              1,
              "#f0f921"
             ]
            ],
            "type": "heatmap"
           }
          ],
          "heatmapgl": [
           {
            "colorbar": {
             "outlinewidth": 0,
             "ticks": ""
            },
            "colorscale": [
             [
              0,
              "#0d0887"
             ],
             [
              0.1111111111111111,
              "#46039f"
             ],
             [
              0.2222222222222222,
              "#7201a8"
             ],
             [
              0.3333333333333333,
              "#9c179e"
             ],
             [
              0.4444444444444444,
              "#bd3786"
             ],
             [
              0.5555555555555556,
              "#d8576b"
             ],
             [
              0.6666666666666666,
              "#ed7953"
             ],
             [
              0.7777777777777778,
              "#fb9f3a"
             ],
             [
              0.8888888888888888,
              "#fdca26"
             ],
             [
              1,
              "#f0f921"
             ]
            ],
            "type": "heatmapgl"
           }
          ],
          "histogram": [
           {
            "marker": {
             "pattern": {
              "fillmode": "overlay",
              "size": 10,
              "solidity": 0.2
             }
            },
            "type": "histogram"
           }
          ],
          "histogram2d": [
           {
            "colorbar": {
             "outlinewidth": 0,
             "ticks": ""
            },
            "colorscale": [
             [
              0,
              "#0d0887"
             ],
             [
              0.1111111111111111,
              "#46039f"
             ],
             [
              0.2222222222222222,
              "#7201a8"
             ],
             [
              0.3333333333333333,
              "#9c179e"
             ],
             [
              0.4444444444444444,
              "#bd3786"
             ],
             [
              0.5555555555555556,
              "#d8576b"
             ],
             [
              0.6666666666666666,
              "#ed7953"
             ],
             [
              0.7777777777777778,
              "#fb9f3a"
             ],
             [
              0.8888888888888888,
              "#fdca26"
             ],
             [
              1,
              "#f0f921"
             ]
            ],
            "type": "histogram2d"
           }
          ],
          "histogram2dcontour": [
           {
            "colorbar": {
             "outlinewidth": 0,
             "ticks": ""
            },
            "colorscale": [
             [
              0,
              "#0d0887"
             ],
             [
              0.1111111111111111,
              "#46039f"
             ],
             [
              0.2222222222222222,
              "#7201a8"
             ],
             [
              0.3333333333333333,
              "#9c179e"
             ],
             [
              0.4444444444444444,
              "#bd3786"
             ],
             [
              0.5555555555555556,
              "#d8576b"
             ],
             [
              0.6666666666666666,
              "#ed7953"
             ],
             [
              0.7777777777777778,
              "#fb9f3a"
             ],
             [
              0.8888888888888888,
              "#fdca26"
             ],
             [
              1,
              "#f0f921"
             ]
            ],
            "type": "histogram2dcontour"
           }
          ],
          "mesh3d": [
           {
            "colorbar": {
             "outlinewidth": 0,
             "ticks": ""
            },
            "type": "mesh3d"
           }
          ],
          "parcoords": [
           {
            "line": {
             "colorbar": {
              "outlinewidth": 0,
              "ticks": ""
             }
            },
            "type": "parcoords"
           }
          ],
          "pie": [
           {
            "automargin": true,
            "type": "pie"
           }
          ],
          "scatter": [
           {
            "marker": {
             "colorbar": {
              "outlinewidth": 0,
              "ticks": ""
             }
            },
            "type": "scatter"
           }
          ],
          "scatter3d": [
           {
            "line": {
             "colorbar": {
              "outlinewidth": 0,
              "ticks": ""
             }
            },
            "marker": {
             "colorbar": {
              "outlinewidth": 0,
              "ticks": ""
             }
            },
            "type": "scatter3d"
           }
          ],
          "scattercarpet": [
           {
            "marker": {
             "colorbar": {
              "outlinewidth": 0,
              "ticks": ""
             }
            },
            "type": "scattercarpet"
           }
          ],
          "scattergeo": [
           {
            "marker": {
             "colorbar": {
              "outlinewidth": 0,
              "ticks": ""
             }
            },
            "type": "scattergeo"
           }
          ],
          "scattergl": [
           {
            "marker": {
             "colorbar": {
              "outlinewidth": 0,
              "ticks": ""
             }
            },
            "type": "scattergl"
           }
          ],
          "scattermapbox": [
           {
            "marker": {
             "colorbar": {
              "outlinewidth": 0,
              "ticks": ""
             }
            },
            "type": "scattermapbox"
           }
          ],
          "scatterpolar": [
           {
            "marker": {
             "colorbar": {
              "outlinewidth": 0,
              "ticks": ""
             }
            },
            "type": "scatterpolar"
           }
          ],
          "scatterpolargl": [
           {
            "marker": {
             "colorbar": {
              "outlinewidth": 0,
              "ticks": ""
             }
            },
            "type": "scatterpolargl"
           }
          ],
          "scatterternary": [
           {
            "marker": {
             "colorbar": {
              "outlinewidth": 0,
              "ticks": ""
             }
            },
            "type": "scatterternary"
           }
          ],
          "surface": [
           {
            "colorbar": {
             "outlinewidth": 0,
             "ticks": ""
            },
            "colorscale": [
             [
              0,
              "#0d0887"
             ],
             [
              0.1111111111111111,
              "#46039f"
             ],
             [
              0.2222222222222222,
              "#7201a8"
             ],
             [
              0.3333333333333333,
              "#9c179e"
             ],
             [
              0.4444444444444444,
              "#bd3786"
             ],
             [
              0.5555555555555556,
              "#d8576b"
             ],
             [
              0.6666666666666666,
              "#ed7953"
             ],
             [
              0.7777777777777778,
              "#fb9f3a"
             ],
             [
              0.8888888888888888,
              "#fdca26"
             ],
             [
              1,
              "#f0f921"
             ]
            ],
            "type": "surface"
           }
          ],
          "table": [
           {
            "cells": {
             "fill": {
              "color": "#EBF0F8"
             },
             "line": {
              "color": "white"
             }
            },
            "header": {
             "fill": {
              "color": "#C8D4E3"
             },
             "line": {
              "color": "white"
             }
            },
            "type": "table"
           }
          ]
         },
         "layout": {
          "annotationdefaults": {
           "arrowcolor": "#2a3f5f",
           "arrowhead": 0,
           "arrowwidth": 1
          },
          "autotypenumbers": "strict",
          "coloraxis": {
           "colorbar": {
            "outlinewidth": 0,
            "ticks": ""
           }
          },
          "colorscale": {
           "diverging": [
            [
             0,
             "#8e0152"
            ],
            [
             0.1,
             "#c51b7d"
            ],
            [
             0.2,
             "#de77ae"
            ],
            [
             0.3,
             "#f1b6da"
            ],
            [
             0.4,
             "#fde0ef"
            ],
            [
             0.5,
             "#f7f7f7"
            ],
            [
             0.6,
             "#e6f5d0"
            ],
            [
             0.7,
             "#b8e186"
            ],
            [
             0.8,
             "#7fbc41"
            ],
            [
             0.9,
             "#4d9221"
            ],
            [
             1,
             "#276419"
            ]
           ],
           "sequential": [
            [
             0,
             "#0d0887"
            ],
            [
             0.1111111111111111,
             "#46039f"
            ],
            [
             0.2222222222222222,
             "#7201a8"
            ],
            [
             0.3333333333333333,
             "#9c179e"
            ],
            [
             0.4444444444444444,
             "#bd3786"
            ],
            [
             0.5555555555555556,
             "#d8576b"
            ],
            [
             0.6666666666666666,
             "#ed7953"
            ],
            [
             0.7777777777777778,
             "#fb9f3a"
            ],
            [
             0.8888888888888888,
             "#fdca26"
            ],
            [
             1,
             "#f0f921"
            ]
           ],
           "sequentialminus": [
            [
             0,
             "#0d0887"
            ],
            [
             0.1111111111111111,
             "#46039f"
            ],
            [
             0.2222222222222222,
             "#7201a8"
            ],
            [
             0.3333333333333333,
             "#9c179e"
            ],
            [
             0.4444444444444444,
             "#bd3786"
            ],
            [
             0.5555555555555556,
             "#d8576b"
            ],
            [
             0.6666666666666666,
             "#ed7953"
            ],
            [
             0.7777777777777778,
             "#fb9f3a"
            ],
            [
             0.8888888888888888,
             "#fdca26"
            ],
            [
             1,
             "#f0f921"
            ]
           ]
          },
          "colorway": [
           "#636efa",
           "#EF553B",
           "#00cc96",
           "#ab63fa",
           "#FFA15A",
           "#19d3f3",
           "#FF6692",
           "#B6E880",
           "#FF97FF",
           "#FECB52"
          ],
          "font": {
           "color": "#2a3f5f"
          },
          "geo": {
           "bgcolor": "white",
           "lakecolor": "white",
           "landcolor": "#E5ECF6",
           "showlakes": true,
           "showland": true,
           "subunitcolor": "white"
          },
          "hoverlabel": {
           "align": "left"
          },
          "hovermode": "closest",
          "mapbox": {
           "style": "light"
          },
          "paper_bgcolor": "white",
          "plot_bgcolor": "#E5ECF6",
          "polar": {
           "angularaxis": {
            "gridcolor": "white",
            "linecolor": "white",
            "ticks": ""
           },
           "bgcolor": "#E5ECF6",
           "radialaxis": {
            "gridcolor": "white",
            "linecolor": "white",
            "ticks": ""
           }
          },
          "scene": {
           "xaxis": {
            "backgroundcolor": "#E5ECF6",
            "gridcolor": "white",
            "gridwidth": 2,
            "linecolor": "white",
            "showbackground": true,
            "ticks": "",
            "zerolinecolor": "white"
           },
           "yaxis": {
            "backgroundcolor": "#E5ECF6",
            "gridcolor": "white",
            "gridwidth": 2,
            "linecolor": "white",
            "showbackground": true,
            "ticks": "",
            "zerolinecolor": "white"
           },
           "zaxis": {
            "backgroundcolor": "#E5ECF6",
            "gridcolor": "white",
            "gridwidth": 2,
            "linecolor": "white",
            "showbackground": true,
            "ticks": "",
            "zerolinecolor": "white"
           }
          },
          "shapedefaults": {
           "line": {
            "color": "#2a3f5f"
           }
          },
          "ternary": {
           "aaxis": {
            "gridcolor": "white",
            "linecolor": "white",
            "ticks": ""
           },
           "baxis": {
            "gridcolor": "white",
            "linecolor": "white",
            "ticks": ""
           },
           "bgcolor": "#E5ECF6",
           "caxis": {
            "gridcolor": "white",
            "linecolor": "white",
            "ticks": ""
           }
          },
          "title": {
           "x": 0.05
          },
          "xaxis": {
           "automargin": true,
           "gridcolor": "white",
           "linecolor": "white",
           "ticks": "",
           "title": {
            "standoff": 15
           },
           "zerolinecolor": "white",
           "zerolinewidth": 2
          },
          "yaxis": {
           "automargin": true,
           "gridcolor": "white",
           "linecolor": "white",
           "ticks": "",
           "title": {
            "standoff": 15
           },
           "zerolinecolor": "white",
           "zerolinewidth": 2
          }
         }
        },
        "xaxis": {
         "anchor": "y",
         "domain": [
          0,
          1
         ]
        },
        "yaxis": {
         "anchor": "x",
         "domain": [
          0,
          1
         ]
        }
       }
      },
      "text/html": [
       "<div>                            <div id=\"a431602f-0b27-490c-9f34-3eb09de6abbc\" class=\"plotly-graph-div\" style=\"height:525px; width:100%;\"></div>            <script type=\"text/javascript\">                require([\"plotly\"], function(Plotly) {                    window.PLOTLYENV=window.PLOTLYENV || {};                                    if (document.getElementById(\"a431602f-0b27-490c-9f34-3eb09de6abbc\")) {                    Plotly.newPlot(                        \"a431602f-0b27-490c-9f34-3eb09de6abbc\",                        [{\"name\":\"Mean of Betti curve H_0\",\"type\":\"scatter\",\"y\":[46,98,174,24,33,14,172,77,97,110,23,61,25,19,104,151,25,47,9,31,186,25,7,86,115,82,75,24,7,123,45,50,24,52,26,7,27,12,36,25,16,19,8,21,25,18,17,14,29,11,29,19,14,7,43,10,11,14,27,17,9,7,11,23,10,25,23,24,35,33,25,19,19,12,7,22,9,7,12,36,8,20,15,22,111,163,31,22,62,51,94,125,31,7,70,121,169,133,120,120,48,148,103,114,101,7]},{\"name\":\"Median of Betti curve H_0\",\"type\":\"scatter\",\"y\":[0.0,0.0,1.0,0.0,8.0,0.0,1.5,0.0,0.0,0.0,0.0,0.0,0.0,0.0,26.5,0.0,0.0,0.0,0.0,0.0,43.0,0.0,0.0,3.0,0.0,0.0,0.0,0.0,0.0,0.0,0.0,0.0,0.0,0.0,0.0,0.0,0.0,0.0,0.0,0.0,0.0,0.0,0.0,0.0,0.0,0.0,0.0,0.0,0.0,0.0,0.0,0.0,0.0,0.0,0.0,0.0,0.0,0.0,0.0,0.0,0.0,0.0,0.0,0.0,0.0,0.0,0.0,0.0,0.0,0.0,0.0,0.0,0.0,0.0,0.0,0.0,0.0,0.0,0.0,0.0,0.0,0.0,0.0,0.0,0.0,45.5,5.0,0.0,0.0,0.0,0.0,0.0,3.0,0.0,0.0,0.0,0.0,13.5,0.0,1.5,0.0,6.0,0.0,0.0,0.0,0.0]},{\"name\":\"Mode of Betti curve H_0\",\"type\":\"scatter\",\"y\":[0,0,0,0,2,0,0,0,0,0,0,0,0,0,1,0,0,0,0,0,0,0,0,0,0,0,0,0,0,0,0,0,0,0,0,0,0,0,0,0,0,0,0,0,0,0,0,0,0,0,0,0,0,0,0,0,0,0,0,0,0,0,0,0,0,0,0,0,0,0,0,0,0,0,0,0,0,0,0,0,0,0,0,0,0,0,5,0,0,0,0,0,0,0,0,0,0,0,0,0,0,0,0,0,0,0]}],                        {\"legend\":{\"tracegroupgap\":0},\"margin\":{\"t\":60},\"template\":{\"data\":{\"bar\":[{\"error_x\":{\"color\":\"#2a3f5f\"},\"error_y\":{\"color\":\"#2a3f5f\"},\"marker\":{\"line\":{\"color\":\"#E5ECF6\",\"width\":0.5},\"pattern\":{\"fillmode\":\"overlay\",\"size\":10,\"solidity\":0.2}},\"type\":\"bar\"}],\"barpolar\":[{\"marker\":{\"line\":{\"color\":\"#E5ECF6\",\"width\":0.5},\"pattern\":{\"fillmode\":\"overlay\",\"size\":10,\"solidity\":0.2}},\"type\":\"barpolar\"}],\"carpet\":[{\"aaxis\":{\"endlinecolor\":\"#2a3f5f\",\"gridcolor\":\"white\",\"linecolor\":\"white\",\"minorgridcolor\":\"white\",\"startlinecolor\":\"#2a3f5f\"},\"baxis\":{\"endlinecolor\":\"#2a3f5f\",\"gridcolor\":\"white\",\"linecolor\":\"white\",\"minorgridcolor\":\"white\",\"startlinecolor\":\"#2a3f5f\"},\"type\":\"carpet\"}],\"choropleth\":[{\"colorbar\":{\"outlinewidth\":0,\"ticks\":\"\"},\"type\":\"choropleth\"}],\"contour\":[{\"colorbar\":{\"outlinewidth\":0,\"ticks\":\"\"},\"colorscale\":[[0.0,\"#0d0887\"],[0.1111111111111111,\"#46039f\"],[0.2222222222222222,\"#7201a8\"],[0.3333333333333333,\"#9c179e\"],[0.4444444444444444,\"#bd3786\"],[0.5555555555555556,\"#d8576b\"],[0.6666666666666666,\"#ed7953\"],[0.7777777777777778,\"#fb9f3a\"],[0.8888888888888888,\"#fdca26\"],[1.0,\"#f0f921\"]],\"type\":\"contour\"}],\"contourcarpet\":[{\"colorbar\":{\"outlinewidth\":0,\"ticks\":\"\"},\"type\":\"contourcarpet\"}],\"heatmap\":[{\"colorbar\":{\"outlinewidth\":0,\"ticks\":\"\"},\"colorscale\":[[0.0,\"#0d0887\"],[0.1111111111111111,\"#46039f\"],[0.2222222222222222,\"#7201a8\"],[0.3333333333333333,\"#9c179e\"],[0.4444444444444444,\"#bd3786\"],[0.5555555555555556,\"#d8576b\"],[0.6666666666666666,\"#ed7953\"],[0.7777777777777778,\"#fb9f3a\"],[0.8888888888888888,\"#fdca26\"],[1.0,\"#f0f921\"]],\"type\":\"heatmap\"}],\"heatmapgl\":[{\"colorbar\":{\"outlinewidth\":0,\"ticks\":\"\"},\"colorscale\":[[0.0,\"#0d0887\"],[0.1111111111111111,\"#46039f\"],[0.2222222222222222,\"#7201a8\"],[0.3333333333333333,\"#9c179e\"],[0.4444444444444444,\"#bd3786\"],[0.5555555555555556,\"#d8576b\"],[0.6666666666666666,\"#ed7953\"],[0.7777777777777778,\"#fb9f3a\"],[0.8888888888888888,\"#fdca26\"],[1.0,\"#f0f921\"]],\"type\":\"heatmapgl\"}],\"histogram\":[{\"marker\":{\"pattern\":{\"fillmode\":\"overlay\",\"size\":10,\"solidity\":0.2}},\"type\":\"histogram\"}],\"histogram2d\":[{\"colorbar\":{\"outlinewidth\":0,\"ticks\":\"\"},\"colorscale\":[[0.0,\"#0d0887\"],[0.1111111111111111,\"#46039f\"],[0.2222222222222222,\"#7201a8\"],[0.3333333333333333,\"#9c179e\"],[0.4444444444444444,\"#bd3786\"],[0.5555555555555556,\"#d8576b\"],[0.6666666666666666,\"#ed7953\"],[0.7777777777777778,\"#fb9f3a\"],[0.8888888888888888,\"#fdca26\"],[1.0,\"#f0f921\"]],\"type\":\"histogram2d\"}],\"histogram2dcontour\":[{\"colorbar\":{\"outlinewidth\":0,\"ticks\":\"\"},\"colorscale\":[[0.0,\"#0d0887\"],[0.1111111111111111,\"#46039f\"],[0.2222222222222222,\"#7201a8\"],[0.3333333333333333,\"#9c179e\"],[0.4444444444444444,\"#bd3786\"],[0.5555555555555556,\"#d8576b\"],[0.6666666666666666,\"#ed7953\"],[0.7777777777777778,\"#fb9f3a\"],[0.8888888888888888,\"#fdca26\"],[1.0,\"#f0f921\"]],\"type\":\"histogram2dcontour\"}],\"mesh3d\":[{\"colorbar\":{\"outlinewidth\":0,\"ticks\":\"\"},\"type\":\"mesh3d\"}],\"parcoords\":[{\"line\":{\"colorbar\":{\"outlinewidth\":0,\"ticks\":\"\"}},\"type\":\"parcoords\"}],\"pie\":[{\"automargin\":true,\"type\":\"pie\"}],\"scatter\":[{\"marker\":{\"colorbar\":{\"outlinewidth\":0,\"ticks\":\"\"}},\"type\":\"scatter\"}],\"scatter3d\":[{\"line\":{\"colorbar\":{\"outlinewidth\":0,\"ticks\":\"\"}},\"marker\":{\"colorbar\":{\"outlinewidth\":0,\"ticks\":\"\"}},\"type\":\"scatter3d\"}],\"scattercarpet\":[{\"marker\":{\"colorbar\":{\"outlinewidth\":0,\"ticks\":\"\"}},\"type\":\"scattercarpet\"}],\"scattergeo\":[{\"marker\":{\"colorbar\":{\"outlinewidth\":0,\"ticks\":\"\"}},\"type\":\"scattergeo\"}],\"scattergl\":[{\"marker\":{\"colorbar\":{\"outlinewidth\":0,\"ticks\":\"\"}},\"type\":\"scattergl\"}],\"scattermapbox\":[{\"marker\":{\"colorbar\":{\"outlinewidth\":0,\"ticks\":\"\"}},\"type\":\"scattermapbox\"}],\"scatterpolar\":[{\"marker\":{\"colorbar\":{\"outlinewidth\":0,\"ticks\":\"\"}},\"type\":\"scatterpolar\"}],\"scatterpolargl\":[{\"marker\":{\"colorbar\":{\"outlinewidth\":0,\"ticks\":\"\"}},\"type\":\"scatterpolargl\"}],\"scatterternary\":[{\"marker\":{\"colorbar\":{\"outlinewidth\":0,\"ticks\":\"\"}},\"type\":\"scatterternary\"}],\"surface\":[{\"colorbar\":{\"outlinewidth\":0,\"ticks\":\"\"},\"colorscale\":[[0.0,\"#0d0887\"],[0.1111111111111111,\"#46039f\"],[0.2222222222222222,\"#7201a8\"],[0.3333333333333333,\"#9c179e\"],[0.4444444444444444,\"#bd3786\"],[0.5555555555555556,\"#d8576b\"],[0.6666666666666666,\"#ed7953\"],[0.7777777777777778,\"#fb9f3a\"],[0.8888888888888888,\"#fdca26\"],[1.0,\"#f0f921\"]],\"type\":\"surface\"}],\"table\":[{\"cells\":{\"fill\":{\"color\":\"#EBF0F8\"},\"line\":{\"color\":\"white\"}},\"header\":{\"fill\":{\"color\":\"#C8D4E3\"},\"line\":{\"color\":\"white\"}},\"type\":\"table\"}]},\"layout\":{\"annotationdefaults\":{\"arrowcolor\":\"#2a3f5f\",\"arrowhead\":0,\"arrowwidth\":1},\"autotypenumbers\":\"strict\",\"coloraxis\":{\"colorbar\":{\"outlinewidth\":0,\"ticks\":\"\"}},\"colorscale\":{\"diverging\":[[0,\"#8e0152\"],[0.1,\"#c51b7d\"],[0.2,\"#de77ae\"],[0.3,\"#f1b6da\"],[0.4,\"#fde0ef\"],[0.5,\"#f7f7f7\"],[0.6,\"#e6f5d0\"],[0.7,\"#b8e186\"],[0.8,\"#7fbc41\"],[0.9,\"#4d9221\"],[1,\"#276419\"]],\"sequential\":[[0.0,\"#0d0887\"],[0.1111111111111111,\"#46039f\"],[0.2222222222222222,\"#7201a8\"],[0.3333333333333333,\"#9c179e\"],[0.4444444444444444,\"#bd3786\"],[0.5555555555555556,\"#d8576b\"],[0.6666666666666666,\"#ed7953\"],[0.7777777777777778,\"#fb9f3a\"],[0.8888888888888888,\"#fdca26\"],[1.0,\"#f0f921\"]],\"sequentialminus\":[[0.0,\"#0d0887\"],[0.1111111111111111,\"#46039f\"],[0.2222222222222222,\"#7201a8\"],[0.3333333333333333,\"#9c179e\"],[0.4444444444444444,\"#bd3786\"],[0.5555555555555556,\"#d8576b\"],[0.6666666666666666,\"#ed7953\"],[0.7777777777777778,\"#fb9f3a\"],[0.8888888888888888,\"#fdca26\"],[1.0,\"#f0f921\"]]},\"colorway\":[\"#636efa\",\"#EF553B\",\"#00cc96\",\"#ab63fa\",\"#FFA15A\",\"#19d3f3\",\"#FF6692\",\"#B6E880\",\"#FF97FF\",\"#FECB52\"],\"font\":{\"color\":\"#2a3f5f\"},\"geo\":{\"bgcolor\":\"white\",\"lakecolor\":\"white\",\"landcolor\":\"#E5ECF6\",\"showlakes\":true,\"showland\":true,\"subunitcolor\":\"white\"},\"hoverlabel\":{\"align\":\"left\"},\"hovermode\":\"closest\",\"mapbox\":{\"style\":\"light\"},\"paper_bgcolor\":\"white\",\"plot_bgcolor\":\"#E5ECF6\",\"polar\":{\"angularaxis\":{\"gridcolor\":\"white\",\"linecolor\":\"white\",\"ticks\":\"\"},\"bgcolor\":\"#E5ECF6\",\"radialaxis\":{\"gridcolor\":\"white\",\"linecolor\":\"white\",\"ticks\":\"\"}},\"scene\":{\"xaxis\":{\"backgroundcolor\":\"#E5ECF6\",\"gridcolor\":\"white\",\"gridwidth\":2,\"linecolor\":\"white\",\"showbackground\":true,\"ticks\":\"\",\"zerolinecolor\":\"white\"},\"yaxis\":{\"backgroundcolor\":\"#E5ECF6\",\"gridcolor\":\"white\",\"gridwidth\":2,\"linecolor\":\"white\",\"showbackground\":true,\"ticks\":\"\",\"zerolinecolor\":\"white\"},\"zaxis\":{\"backgroundcolor\":\"#E5ECF6\",\"gridcolor\":\"white\",\"gridwidth\":2,\"linecolor\":\"white\",\"showbackground\":true,\"ticks\":\"\",\"zerolinecolor\":\"white\"}},\"shapedefaults\":{\"line\":{\"color\":\"#2a3f5f\"}},\"ternary\":{\"aaxis\":{\"gridcolor\":\"white\",\"linecolor\":\"white\",\"ticks\":\"\"},\"baxis\":{\"gridcolor\":\"white\",\"linecolor\":\"white\",\"ticks\":\"\"},\"bgcolor\":\"#E5ECF6\",\"caxis\":{\"gridcolor\":\"white\",\"linecolor\":\"white\",\"ticks\":\"\"}},\"title\":{\"x\":0.05},\"xaxis\":{\"automargin\":true,\"gridcolor\":\"white\",\"linecolor\":\"white\",\"ticks\":\"\",\"title\":{\"standoff\":15},\"zerolinecolor\":\"white\",\"zerolinewidth\":2},\"yaxis\":{\"automargin\":true,\"gridcolor\":\"white\",\"linecolor\":\"white\",\"ticks\":\"\",\"title\":{\"standoff\":15},\"zerolinecolor\":\"white\",\"zerolinewidth\":2}}},\"xaxis\":{\"anchor\":\"y\",\"domain\":[0.0,1.0]},\"yaxis\":{\"anchor\":\"x\",\"domain\":[0.0,1.0]}},                        {\"responsive\": true}                    ).then(function(){\n",
       "                            \n",
       "var gd = document.getElementById('a431602f-0b27-490c-9f34-3eb09de6abbc');\n",
       "var x = new MutationObserver(function (mutations, observer) {{\n",
       "        var display = window.getComputedStyle(gd).display;\n",
       "        if (!display || display === 'none') {{\n",
       "            console.log([gd, 'removed!']);\n",
       "            Plotly.purge(gd);\n",
       "            observer.disconnect();\n",
       "        }}\n",
       "}});\n",
       "\n",
       "// Listen for the removal of the full notebook cells\n",
       "var notebookContainer = gd.closest('#notebook-container');\n",
       "if (notebookContainer) {{\n",
       "    x.observe(notebookContainer, {childList: true});\n",
       "}}\n",
       "\n",
       "// Listen for the clearing of the current output cell\n",
       "var outputEl = gd.closest('.output');\n",
       "if (outputEl) {{\n",
       "    x.observe(outputEl, {childList: true});\n",
       "}}\n",
       "\n",
       "                        })                };                });            </script>        </div>"
      ]
     },
     "metadata": {},
     "output_type": "display_data"
    }
   ],
   "source": [
    "import statistics as stats\n",
    "meanBettiH0 = []\n",
    "medianBettiH0 = []\n",
    "modeBettiH0 = []\n",
    "\n",
    "for i in range(len(slugging_Betti[:,0,0])):\n",
    "    meanBettiH0.append(stats.mean(slugging_Betti[i,0,:]))\n",
    "    medianBettiH0.append(stats.median(slugging_Betti[i,0,:]))\n",
    "    modeBettiH0.append(stats.mode(slugging_Betti[i,0,:]))\n",
    "    \n",
    "    \n",
    "figBetti = px.line()\n",
    "figBetti.add_scatter(y=(meanBettiH0), name=\"Mean of Betti curve H_0\")\n",
    "figBetti.add_scatter(y=(medianBettiH0), name=\"Median of Betti curve H_0\")\n",
    "figBetti.add_scatter(y=(modeBettiH0),name=\"Mode of Betti curve H_0\")\n",
    "figBetti.show()"
   ]
  },
  {
   "cell_type": "code",
   "execution_count": 27,
   "metadata": {},
   "outputs": [
    {
     "data": {
      "application/vnd.plotly.v1+json": {
       "config": {
        "plotlyServerURL": "https://plot.ly"
       },
       "data": [
        {
         "name": "Mean of Betti curve H_1",
         "type": "scatter",
         "y": [
          1,
          3,
          6,
          0,
          0,
          0,
          7,
          2,
          3,
          4,
          0,
          1,
          0,
          0,
          2,
          5,
          0,
          1,
          0,
          0,
          7,
          1,
          0,
          2,
          4,
          3,
          3,
          1,
          0,
          3,
          0,
          1,
          0,
          1,
          1,
          0,
          0,
          0,
          0,
          0,
          0,
          0,
          0,
          0,
          0,
          0,
          0,
          0,
          0,
          0,
          0,
          0,
          0,
          0,
          1,
          0,
          0,
          0,
          0,
          0,
          0,
          0,
          0,
          0,
          0,
          0,
          1,
          1,
          0,
          0,
          1,
          0,
          0,
          0,
          0,
          0,
          0,
          0,
          0,
          0,
          0,
          0,
          0,
          0,
          4,
          5,
          0,
          0,
          2,
          1,
          3,
          4,
          0,
          0,
          2,
          5,
          8,
          4,
          2,
          3,
          0,
          5,
          3,
          2,
          2,
          0
         ]
        },
        {
         "name": "Median of Betti curve H_1",
         "type": "scatter",
         "y": [
          1,
          0,
          1,
          0.5,
          0,
          0,
          0,
          0,
          0,
          0,
          0,
          1,
          1,
          0,
          1,
          0,
          0,
          1,
          0,
          0,
          0,
          1,
          0,
          0,
          0,
          0,
          0,
          1,
          0,
          0,
          1,
          0,
          0,
          0,
          1,
          0,
          0,
          0,
          0,
          1,
          0.5,
          0,
          0,
          0,
          0,
          0,
          0,
          0,
          0,
          0,
          0,
          0,
          0,
          0,
          0,
          0,
          0,
          0,
          0,
          0,
          0,
          0,
          0,
          0,
          0,
          0,
          1,
          1,
          0,
          0,
          1,
          1,
          0,
          0,
          0,
          0,
          0,
          0,
          0,
          1,
          0,
          0,
          0,
          1,
          1,
          0,
          0,
          1,
          0,
          0,
          0,
          0,
          0,
          0,
          0,
          0,
          0,
          3,
          1,
          2,
          1,
          0,
          0,
          0,
          0,
          0
         ]
        },
        {
         "name": "Mode of Betti curve H_1",
         "type": "scatter",
         "y": [
          1,
          0,
          0,
          0,
          0,
          0,
          0,
          0,
          0,
          0,
          0,
          1,
          0,
          0,
          0,
          0,
          0,
          1,
          0,
          0,
          0,
          1,
          0,
          0,
          0,
          0,
          0,
          1,
          0,
          0,
          1,
          0,
          0,
          0,
          0,
          0,
          0,
          0,
          0,
          1,
          0,
          0,
          0,
          0,
          0,
          0,
          0,
          0,
          0,
          0,
          0,
          0,
          0,
          0,
          0,
          0,
          0,
          0,
          0,
          0,
          0,
          0,
          0,
          0,
          0,
          0,
          1,
          1,
          0,
          0,
          0,
          1,
          0,
          0,
          0,
          0,
          0,
          0,
          0,
          1,
          0,
          0,
          0,
          1,
          0,
          0,
          0,
          1,
          0,
          0,
          0,
          0,
          0,
          0,
          0,
          0,
          0,
          0,
          0,
          0,
          0,
          0,
          0,
          0,
          0,
          0
         ]
        }
       ],
       "layout": {
        "legend": {
         "tracegroupgap": 0
        },
        "margin": {
         "t": 60
        },
        "template": {
         "data": {
          "bar": [
           {
            "error_x": {
             "color": "#2a3f5f"
            },
            "error_y": {
             "color": "#2a3f5f"
            },
            "marker": {
             "line": {
              "color": "#E5ECF6",
              "width": 0.5
             },
             "pattern": {
              "fillmode": "overlay",
              "size": 10,
              "solidity": 0.2
             }
            },
            "type": "bar"
           }
          ],
          "barpolar": [
           {
            "marker": {
             "line": {
              "color": "#E5ECF6",
              "width": 0.5
             },
             "pattern": {
              "fillmode": "overlay",
              "size": 10,
              "solidity": 0.2
             }
            },
            "type": "barpolar"
           }
          ],
          "carpet": [
           {
            "aaxis": {
             "endlinecolor": "#2a3f5f",
             "gridcolor": "white",
             "linecolor": "white",
             "minorgridcolor": "white",
             "startlinecolor": "#2a3f5f"
            },
            "baxis": {
             "endlinecolor": "#2a3f5f",
             "gridcolor": "white",
             "linecolor": "white",
             "minorgridcolor": "white",
             "startlinecolor": "#2a3f5f"
            },
            "type": "carpet"
           }
          ],
          "choropleth": [
           {
            "colorbar": {
             "outlinewidth": 0,
             "ticks": ""
            },
            "type": "choropleth"
           }
          ],
          "contour": [
           {
            "colorbar": {
             "outlinewidth": 0,
             "ticks": ""
            },
            "colorscale": [
             [
              0,
              "#0d0887"
             ],
             [
              0.1111111111111111,
              "#46039f"
             ],
             [
              0.2222222222222222,
              "#7201a8"
             ],
             [
              0.3333333333333333,
              "#9c179e"
             ],
             [
              0.4444444444444444,
              "#bd3786"
             ],
             [
              0.5555555555555556,
              "#d8576b"
             ],
             [
              0.6666666666666666,
              "#ed7953"
             ],
             [
              0.7777777777777778,
              "#fb9f3a"
             ],
             [
              0.8888888888888888,
              "#fdca26"
             ],
             [
              1,
              "#f0f921"
             ]
            ],
            "type": "contour"
           }
          ],
          "contourcarpet": [
           {
            "colorbar": {
             "outlinewidth": 0,
             "ticks": ""
            },
            "type": "contourcarpet"
           }
          ],
          "heatmap": [
           {
            "colorbar": {
             "outlinewidth": 0,
             "ticks": ""
            },
            "colorscale": [
             [
              0,
              "#0d0887"
             ],
             [
              0.1111111111111111,
              "#46039f"
             ],
             [
              0.2222222222222222,
              "#7201a8"
             ],
             [
              0.3333333333333333,
              "#9c179e"
             ],
             [
              0.4444444444444444,
              "#bd3786"
             ],
             [
              0.5555555555555556,
              "#d8576b"
             ],
             [
              0.6666666666666666,
              "#ed7953"
             ],
             [
              0.7777777777777778,
              "#fb9f3a"
             ],
             [
              0.8888888888888888,
              "#fdca26"
             ],
             [
              1,
              "#f0f921"
             ]
            ],
            "type": "heatmap"
           }
          ],
          "heatmapgl": [
           {
            "colorbar": {
             "outlinewidth": 0,
             "ticks": ""
            },
            "colorscale": [
             [
              0,
              "#0d0887"
             ],
             [
              0.1111111111111111,
              "#46039f"
             ],
             [
              0.2222222222222222,
              "#7201a8"
             ],
             [
              0.3333333333333333,
              "#9c179e"
             ],
             [
              0.4444444444444444,
              "#bd3786"
             ],
             [
              0.5555555555555556,
              "#d8576b"
             ],
             [
              0.6666666666666666,
              "#ed7953"
             ],
             [
              0.7777777777777778,
              "#fb9f3a"
             ],
             [
              0.8888888888888888,
              "#fdca26"
             ],
             [
              1,
              "#f0f921"
             ]
            ],
            "type": "heatmapgl"
           }
          ],
          "histogram": [
           {
            "marker": {
             "pattern": {
              "fillmode": "overlay",
              "size": 10,
              "solidity": 0.2
             }
            },
            "type": "histogram"
           }
          ],
          "histogram2d": [
           {
            "colorbar": {
             "outlinewidth": 0,
             "ticks": ""
            },
            "colorscale": [
             [
              0,
              "#0d0887"
             ],
             [
              0.1111111111111111,
              "#46039f"
             ],
             [
              0.2222222222222222,
              "#7201a8"
             ],
             [
              0.3333333333333333,
              "#9c179e"
             ],
             [
              0.4444444444444444,
              "#bd3786"
             ],
             [
              0.5555555555555556,
              "#d8576b"
             ],
             [
              0.6666666666666666,
              "#ed7953"
             ],
             [
              0.7777777777777778,
              "#fb9f3a"
             ],
             [
              0.8888888888888888,
              "#fdca26"
             ],
             [
              1,
              "#f0f921"
             ]
            ],
            "type": "histogram2d"
           }
          ],
          "histogram2dcontour": [
           {
            "colorbar": {
             "outlinewidth": 0,
             "ticks": ""
            },
            "colorscale": [
             [
              0,
              "#0d0887"
             ],
             [
              0.1111111111111111,
              "#46039f"
             ],
             [
              0.2222222222222222,
              "#7201a8"
             ],
             [
              0.3333333333333333,
              "#9c179e"
             ],
             [
              0.4444444444444444,
              "#bd3786"
             ],
             [
              0.5555555555555556,
              "#d8576b"
             ],
             [
              0.6666666666666666,
              "#ed7953"
             ],
             [
              0.7777777777777778,
              "#fb9f3a"
             ],
             [
              0.8888888888888888,
              "#fdca26"
             ],
             [
              1,
              "#f0f921"
             ]
            ],
            "type": "histogram2dcontour"
           }
          ],
          "mesh3d": [
           {
            "colorbar": {
             "outlinewidth": 0,
             "ticks": ""
            },
            "type": "mesh3d"
           }
          ],
          "parcoords": [
           {
            "line": {
             "colorbar": {
              "outlinewidth": 0,
              "ticks": ""
             }
            },
            "type": "parcoords"
           }
          ],
          "pie": [
           {
            "automargin": true,
            "type": "pie"
           }
          ],
          "scatter": [
           {
            "marker": {
             "colorbar": {
              "outlinewidth": 0,
              "ticks": ""
             }
            },
            "type": "scatter"
           }
          ],
          "scatter3d": [
           {
            "line": {
             "colorbar": {
              "outlinewidth": 0,
              "ticks": ""
             }
            },
            "marker": {
             "colorbar": {
              "outlinewidth": 0,
              "ticks": ""
             }
            },
            "type": "scatter3d"
           }
          ],
          "scattercarpet": [
           {
            "marker": {
             "colorbar": {
              "outlinewidth": 0,
              "ticks": ""
             }
            },
            "type": "scattercarpet"
           }
          ],
          "scattergeo": [
           {
            "marker": {
             "colorbar": {
              "outlinewidth": 0,
              "ticks": ""
             }
            },
            "type": "scattergeo"
           }
          ],
          "scattergl": [
           {
            "marker": {
             "colorbar": {
              "outlinewidth": 0,
              "ticks": ""
             }
            },
            "type": "scattergl"
           }
          ],
          "scattermapbox": [
           {
            "marker": {
             "colorbar": {
              "outlinewidth": 0,
              "ticks": ""
             }
            },
            "type": "scattermapbox"
           }
          ],
          "scatterpolar": [
           {
            "marker": {
             "colorbar": {
              "outlinewidth": 0,
              "ticks": ""
             }
            },
            "type": "scatterpolar"
           }
          ],
          "scatterpolargl": [
           {
            "marker": {
             "colorbar": {
              "outlinewidth": 0,
              "ticks": ""
             }
            },
            "type": "scatterpolargl"
           }
          ],
          "scatterternary": [
           {
            "marker": {
             "colorbar": {
              "outlinewidth": 0,
              "ticks": ""
             }
            },
            "type": "scatterternary"
           }
          ],
          "surface": [
           {
            "colorbar": {
             "outlinewidth": 0,
             "ticks": ""
            },
            "colorscale": [
             [
              0,
              "#0d0887"
             ],
             [
              0.1111111111111111,
              "#46039f"
             ],
             [
              0.2222222222222222,
              "#7201a8"
             ],
             [
              0.3333333333333333,
              "#9c179e"
             ],
             [
              0.4444444444444444,
              "#bd3786"
             ],
             [
              0.5555555555555556,
              "#d8576b"
             ],
             [
              0.6666666666666666,
              "#ed7953"
             ],
             [
              0.7777777777777778,
              "#fb9f3a"
             ],
             [
              0.8888888888888888,
              "#fdca26"
             ],
             [
              1,
              "#f0f921"
             ]
            ],
            "type": "surface"
           }
          ],
          "table": [
           {
            "cells": {
             "fill": {
              "color": "#EBF0F8"
             },
             "line": {
              "color": "white"
             }
            },
            "header": {
             "fill": {
              "color": "#C8D4E3"
             },
             "line": {
              "color": "white"
             }
            },
            "type": "table"
           }
          ]
         },
         "layout": {
          "annotationdefaults": {
           "arrowcolor": "#2a3f5f",
           "arrowhead": 0,
           "arrowwidth": 1
          },
          "autotypenumbers": "strict",
          "coloraxis": {
           "colorbar": {
            "outlinewidth": 0,
            "ticks": ""
           }
          },
          "colorscale": {
           "diverging": [
            [
             0,
             "#8e0152"
            ],
            [
             0.1,
             "#c51b7d"
            ],
            [
             0.2,
             "#de77ae"
            ],
            [
             0.3,
             "#f1b6da"
            ],
            [
             0.4,
             "#fde0ef"
            ],
            [
             0.5,
             "#f7f7f7"
            ],
            [
             0.6,
             "#e6f5d0"
            ],
            [
             0.7,
             "#b8e186"
            ],
            [
             0.8,
             "#7fbc41"
            ],
            [
             0.9,
             "#4d9221"
            ],
            [
             1,
             "#276419"
            ]
           ],
           "sequential": [
            [
             0,
             "#0d0887"
            ],
            [
             0.1111111111111111,
             "#46039f"
            ],
            [
             0.2222222222222222,
             "#7201a8"
            ],
            [
             0.3333333333333333,
             "#9c179e"
            ],
            [
             0.4444444444444444,
             "#bd3786"
            ],
            [
             0.5555555555555556,
             "#d8576b"
            ],
            [
             0.6666666666666666,
             "#ed7953"
            ],
            [
             0.7777777777777778,
             "#fb9f3a"
            ],
            [
             0.8888888888888888,
             "#fdca26"
            ],
            [
             1,
             "#f0f921"
            ]
           ],
           "sequentialminus": [
            [
             0,
             "#0d0887"
            ],
            [
             0.1111111111111111,
             "#46039f"
            ],
            [
             0.2222222222222222,
             "#7201a8"
            ],
            [
             0.3333333333333333,
             "#9c179e"
            ],
            [
             0.4444444444444444,
             "#bd3786"
            ],
            [
             0.5555555555555556,
             "#d8576b"
            ],
            [
             0.6666666666666666,
             "#ed7953"
            ],
            [
             0.7777777777777778,
             "#fb9f3a"
            ],
            [
             0.8888888888888888,
             "#fdca26"
            ],
            [
             1,
             "#f0f921"
            ]
           ]
          },
          "colorway": [
           "#636efa",
           "#EF553B",
           "#00cc96",
           "#ab63fa",
           "#FFA15A",
           "#19d3f3",
           "#FF6692",
           "#B6E880",
           "#FF97FF",
           "#FECB52"
          ],
          "font": {
           "color": "#2a3f5f"
          },
          "geo": {
           "bgcolor": "white",
           "lakecolor": "white",
           "landcolor": "#E5ECF6",
           "showlakes": true,
           "showland": true,
           "subunitcolor": "white"
          },
          "hoverlabel": {
           "align": "left"
          },
          "hovermode": "closest",
          "mapbox": {
           "style": "light"
          },
          "paper_bgcolor": "white",
          "plot_bgcolor": "#E5ECF6",
          "polar": {
           "angularaxis": {
            "gridcolor": "white",
            "linecolor": "white",
            "ticks": ""
           },
           "bgcolor": "#E5ECF6",
           "radialaxis": {
            "gridcolor": "white",
            "linecolor": "white",
            "ticks": ""
           }
          },
          "scene": {
           "xaxis": {
            "backgroundcolor": "#E5ECF6",
            "gridcolor": "white",
            "gridwidth": 2,
            "linecolor": "white",
            "showbackground": true,
            "ticks": "",
            "zerolinecolor": "white"
           },
           "yaxis": {
            "backgroundcolor": "#E5ECF6",
            "gridcolor": "white",
            "gridwidth": 2,
            "linecolor": "white",
            "showbackground": true,
            "ticks": "",
            "zerolinecolor": "white"
           },
           "zaxis": {
            "backgroundcolor": "#E5ECF6",
            "gridcolor": "white",
            "gridwidth": 2,
            "linecolor": "white",
            "showbackground": true,
            "ticks": "",
            "zerolinecolor": "white"
           }
          },
          "shapedefaults": {
           "line": {
            "color": "#2a3f5f"
           }
          },
          "ternary": {
           "aaxis": {
            "gridcolor": "white",
            "linecolor": "white",
            "ticks": ""
           },
           "baxis": {
            "gridcolor": "white",
            "linecolor": "white",
            "ticks": ""
           },
           "bgcolor": "#E5ECF6",
           "caxis": {
            "gridcolor": "white",
            "linecolor": "white",
            "ticks": ""
           }
          },
          "title": {
           "x": 0.05
          },
          "xaxis": {
           "automargin": true,
           "gridcolor": "white",
           "linecolor": "white",
           "ticks": "",
           "title": {
            "standoff": 15
           },
           "zerolinecolor": "white",
           "zerolinewidth": 2
          },
          "yaxis": {
           "automargin": true,
           "gridcolor": "white",
           "linecolor": "white",
           "ticks": "",
           "title": {
            "standoff": 15
           },
           "zerolinecolor": "white",
           "zerolinewidth": 2
          }
         }
        },
        "xaxis": {
         "anchor": "y",
         "domain": [
          0,
          1
         ]
        },
        "yaxis": {
         "anchor": "x",
         "domain": [
          0,
          1
         ]
        }
       }
      },
      "text/html": [
       "<div>                            <div id=\"737dba4a-2c30-499a-94a5-8b000571d752\" class=\"plotly-graph-div\" style=\"height:525px; width:100%;\"></div>            <script type=\"text/javascript\">                require([\"plotly\"], function(Plotly) {                    window.PLOTLYENV=window.PLOTLYENV || {};                                    if (document.getElementById(\"737dba4a-2c30-499a-94a5-8b000571d752\")) {                    Plotly.newPlot(                        \"737dba4a-2c30-499a-94a5-8b000571d752\",                        [{\"name\":\"Mean of Betti curve H_1\",\"type\":\"scatter\",\"y\":[1,3,6,0,0,0,7,2,3,4,0,1,0,0,2,5,0,1,0,0,7,1,0,2,4,3,3,1,0,3,0,1,0,1,1,0,0,0,0,0,0,0,0,0,0,0,0,0,0,0,0,0,0,0,1,0,0,0,0,0,0,0,0,0,0,0,1,1,0,0,1,0,0,0,0,0,0,0,0,0,0,0,0,0,4,5,0,0,2,1,3,4,0,0,2,5,8,4,2,3,0,5,3,2,2,0]},{\"name\":\"Median of Betti curve H_1\",\"type\":\"scatter\",\"y\":[1.0,0.0,1.0,0.5,0.0,0.0,0.0,0.0,0.0,0.0,0.0,1.0,1.0,0.0,1.0,0.0,0.0,1.0,0.0,0.0,0.0,1.0,0.0,0.0,0.0,0.0,0.0,1.0,0.0,0.0,1.0,0.0,0.0,0.0,1.0,0.0,0.0,0.0,0.0,1.0,0.5,0.0,0.0,0.0,0.0,0.0,0.0,0.0,0.0,0.0,0.0,0.0,0.0,0.0,0.0,0.0,0.0,0.0,0.0,0.0,0.0,0.0,0.0,0.0,0.0,0.0,1.0,1.0,0.0,0.0,1.0,1.0,0.0,0.0,0.0,0.0,0.0,0.0,0.0,1.0,0.0,0.0,0.0,1.0,1.0,0.0,0.0,1.0,0.0,0.0,0.0,0.0,0.0,0.0,0.0,0.0,0.0,3.0,1.0,2.0,1.0,0.0,0.0,0.0,0.0,0.0]},{\"name\":\"Mode of Betti curve H_1\",\"type\":\"scatter\",\"y\":[1,0,0,0,0,0,0,0,0,0,0,1,0,0,0,0,0,1,0,0,0,1,0,0,0,0,0,1,0,0,1,0,0,0,0,0,0,0,0,1,0,0,0,0,0,0,0,0,0,0,0,0,0,0,0,0,0,0,0,0,0,0,0,0,0,0,1,1,0,0,0,1,0,0,0,0,0,0,0,1,0,0,0,1,0,0,0,1,0,0,0,0,0,0,0,0,0,0,0,0,0,0,0,0,0,0]}],                        {\"legend\":{\"tracegroupgap\":0},\"margin\":{\"t\":60},\"template\":{\"data\":{\"bar\":[{\"error_x\":{\"color\":\"#2a3f5f\"},\"error_y\":{\"color\":\"#2a3f5f\"},\"marker\":{\"line\":{\"color\":\"#E5ECF6\",\"width\":0.5},\"pattern\":{\"fillmode\":\"overlay\",\"size\":10,\"solidity\":0.2}},\"type\":\"bar\"}],\"barpolar\":[{\"marker\":{\"line\":{\"color\":\"#E5ECF6\",\"width\":0.5},\"pattern\":{\"fillmode\":\"overlay\",\"size\":10,\"solidity\":0.2}},\"type\":\"barpolar\"}],\"carpet\":[{\"aaxis\":{\"endlinecolor\":\"#2a3f5f\",\"gridcolor\":\"white\",\"linecolor\":\"white\",\"minorgridcolor\":\"white\",\"startlinecolor\":\"#2a3f5f\"},\"baxis\":{\"endlinecolor\":\"#2a3f5f\",\"gridcolor\":\"white\",\"linecolor\":\"white\",\"minorgridcolor\":\"white\",\"startlinecolor\":\"#2a3f5f\"},\"type\":\"carpet\"}],\"choropleth\":[{\"colorbar\":{\"outlinewidth\":0,\"ticks\":\"\"},\"type\":\"choropleth\"}],\"contour\":[{\"colorbar\":{\"outlinewidth\":0,\"ticks\":\"\"},\"colorscale\":[[0.0,\"#0d0887\"],[0.1111111111111111,\"#46039f\"],[0.2222222222222222,\"#7201a8\"],[0.3333333333333333,\"#9c179e\"],[0.4444444444444444,\"#bd3786\"],[0.5555555555555556,\"#d8576b\"],[0.6666666666666666,\"#ed7953\"],[0.7777777777777778,\"#fb9f3a\"],[0.8888888888888888,\"#fdca26\"],[1.0,\"#f0f921\"]],\"type\":\"contour\"}],\"contourcarpet\":[{\"colorbar\":{\"outlinewidth\":0,\"ticks\":\"\"},\"type\":\"contourcarpet\"}],\"heatmap\":[{\"colorbar\":{\"outlinewidth\":0,\"ticks\":\"\"},\"colorscale\":[[0.0,\"#0d0887\"],[0.1111111111111111,\"#46039f\"],[0.2222222222222222,\"#7201a8\"],[0.3333333333333333,\"#9c179e\"],[0.4444444444444444,\"#bd3786\"],[0.5555555555555556,\"#d8576b\"],[0.6666666666666666,\"#ed7953\"],[0.7777777777777778,\"#fb9f3a\"],[0.8888888888888888,\"#fdca26\"],[1.0,\"#f0f921\"]],\"type\":\"heatmap\"}],\"heatmapgl\":[{\"colorbar\":{\"outlinewidth\":0,\"ticks\":\"\"},\"colorscale\":[[0.0,\"#0d0887\"],[0.1111111111111111,\"#46039f\"],[0.2222222222222222,\"#7201a8\"],[0.3333333333333333,\"#9c179e\"],[0.4444444444444444,\"#bd3786\"],[0.5555555555555556,\"#d8576b\"],[0.6666666666666666,\"#ed7953\"],[0.7777777777777778,\"#fb9f3a\"],[0.8888888888888888,\"#fdca26\"],[1.0,\"#f0f921\"]],\"type\":\"heatmapgl\"}],\"histogram\":[{\"marker\":{\"pattern\":{\"fillmode\":\"overlay\",\"size\":10,\"solidity\":0.2}},\"type\":\"histogram\"}],\"histogram2d\":[{\"colorbar\":{\"outlinewidth\":0,\"ticks\":\"\"},\"colorscale\":[[0.0,\"#0d0887\"],[0.1111111111111111,\"#46039f\"],[0.2222222222222222,\"#7201a8\"],[0.3333333333333333,\"#9c179e\"],[0.4444444444444444,\"#bd3786\"],[0.5555555555555556,\"#d8576b\"],[0.6666666666666666,\"#ed7953\"],[0.7777777777777778,\"#fb9f3a\"],[0.8888888888888888,\"#fdca26\"],[1.0,\"#f0f921\"]],\"type\":\"histogram2d\"}],\"histogram2dcontour\":[{\"colorbar\":{\"outlinewidth\":0,\"ticks\":\"\"},\"colorscale\":[[0.0,\"#0d0887\"],[0.1111111111111111,\"#46039f\"],[0.2222222222222222,\"#7201a8\"],[0.3333333333333333,\"#9c179e\"],[0.4444444444444444,\"#bd3786\"],[0.5555555555555556,\"#d8576b\"],[0.6666666666666666,\"#ed7953\"],[0.7777777777777778,\"#fb9f3a\"],[0.8888888888888888,\"#fdca26\"],[1.0,\"#f0f921\"]],\"type\":\"histogram2dcontour\"}],\"mesh3d\":[{\"colorbar\":{\"outlinewidth\":0,\"ticks\":\"\"},\"type\":\"mesh3d\"}],\"parcoords\":[{\"line\":{\"colorbar\":{\"outlinewidth\":0,\"ticks\":\"\"}},\"type\":\"parcoords\"}],\"pie\":[{\"automargin\":true,\"type\":\"pie\"}],\"scatter\":[{\"marker\":{\"colorbar\":{\"outlinewidth\":0,\"ticks\":\"\"}},\"type\":\"scatter\"}],\"scatter3d\":[{\"line\":{\"colorbar\":{\"outlinewidth\":0,\"ticks\":\"\"}},\"marker\":{\"colorbar\":{\"outlinewidth\":0,\"ticks\":\"\"}},\"type\":\"scatter3d\"}],\"scattercarpet\":[{\"marker\":{\"colorbar\":{\"outlinewidth\":0,\"ticks\":\"\"}},\"type\":\"scattercarpet\"}],\"scattergeo\":[{\"marker\":{\"colorbar\":{\"outlinewidth\":0,\"ticks\":\"\"}},\"type\":\"scattergeo\"}],\"scattergl\":[{\"marker\":{\"colorbar\":{\"outlinewidth\":0,\"ticks\":\"\"}},\"type\":\"scattergl\"}],\"scattermapbox\":[{\"marker\":{\"colorbar\":{\"outlinewidth\":0,\"ticks\":\"\"}},\"type\":\"scattermapbox\"}],\"scatterpolar\":[{\"marker\":{\"colorbar\":{\"outlinewidth\":0,\"ticks\":\"\"}},\"type\":\"scatterpolar\"}],\"scatterpolargl\":[{\"marker\":{\"colorbar\":{\"outlinewidth\":0,\"ticks\":\"\"}},\"type\":\"scatterpolargl\"}],\"scatterternary\":[{\"marker\":{\"colorbar\":{\"outlinewidth\":0,\"ticks\":\"\"}},\"type\":\"scatterternary\"}],\"surface\":[{\"colorbar\":{\"outlinewidth\":0,\"ticks\":\"\"},\"colorscale\":[[0.0,\"#0d0887\"],[0.1111111111111111,\"#46039f\"],[0.2222222222222222,\"#7201a8\"],[0.3333333333333333,\"#9c179e\"],[0.4444444444444444,\"#bd3786\"],[0.5555555555555556,\"#d8576b\"],[0.6666666666666666,\"#ed7953\"],[0.7777777777777778,\"#fb9f3a\"],[0.8888888888888888,\"#fdca26\"],[1.0,\"#f0f921\"]],\"type\":\"surface\"}],\"table\":[{\"cells\":{\"fill\":{\"color\":\"#EBF0F8\"},\"line\":{\"color\":\"white\"}},\"header\":{\"fill\":{\"color\":\"#C8D4E3\"},\"line\":{\"color\":\"white\"}},\"type\":\"table\"}]},\"layout\":{\"annotationdefaults\":{\"arrowcolor\":\"#2a3f5f\",\"arrowhead\":0,\"arrowwidth\":1},\"autotypenumbers\":\"strict\",\"coloraxis\":{\"colorbar\":{\"outlinewidth\":0,\"ticks\":\"\"}},\"colorscale\":{\"diverging\":[[0,\"#8e0152\"],[0.1,\"#c51b7d\"],[0.2,\"#de77ae\"],[0.3,\"#f1b6da\"],[0.4,\"#fde0ef\"],[0.5,\"#f7f7f7\"],[0.6,\"#e6f5d0\"],[0.7,\"#b8e186\"],[0.8,\"#7fbc41\"],[0.9,\"#4d9221\"],[1,\"#276419\"]],\"sequential\":[[0.0,\"#0d0887\"],[0.1111111111111111,\"#46039f\"],[0.2222222222222222,\"#7201a8\"],[0.3333333333333333,\"#9c179e\"],[0.4444444444444444,\"#bd3786\"],[0.5555555555555556,\"#d8576b\"],[0.6666666666666666,\"#ed7953\"],[0.7777777777777778,\"#fb9f3a\"],[0.8888888888888888,\"#fdca26\"],[1.0,\"#f0f921\"]],\"sequentialminus\":[[0.0,\"#0d0887\"],[0.1111111111111111,\"#46039f\"],[0.2222222222222222,\"#7201a8\"],[0.3333333333333333,\"#9c179e\"],[0.4444444444444444,\"#bd3786\"],[0.5555555555555556,\"#d8576b\"],[0.6666666666666666,\"#ed7953\"],[0.7777777777777778,\"#fb9f3a\"],[0.8888888888888888,\"#fdca26\"],[1.0,\"#f0f921\"]]},\"colorway\":[\"#636efa\",\"#EF553B\",\"#00cc96\",\"#ab63fa\",\"#FFA15A\",\"#19d3f3\",\"#FF6692\",\"#B6E880\",\"#FF97FF\",\"#FECB52\"],\"font\":{\"color\":\"#2a3f5f\"},\"geo\":{\"bgcolor\":\"white\",\"lakecolor\":\"white\",\"landcolor\":\"#E5ECF6\",\"showlakes\":true,\"showland\":true,\"subunitcolor\":\"white\"},\"hoverlabel\":{\"align\":\"left\"},\"hovermode\":\"closest\",\"mapbox\":{\"style\":\"light\"},\"paper_bgcolor\":\"white\",\"plot_bgcolor\":\"#E5ECF6\",\"polar\":{\"angularaxis\":{\"gridcolor\":\"white\",\"linecolor\":\"white\",\"ticks\":\"\"},\"bgcolor\":\"#E5ECF6\",\"radialaxis\":{\"gridcolor\":\"white\",\"linecolor\":\"white\",\"ticks\":\"\"}},\"scene\":{\"xaxis\":{\"backgroundcolor\":\"#E5ECF6\",\"gridcolor\":\"white\",\"gridwidth\":2,\"linecolor\":\"white\",\"showbackground\":true,\"ticks\":\"\",\"zerolinecolor\":\"white\"},\"yaxis\":{\"backgroundcolor\":\"#E5ECF6\",\"gridcolor\":\"white\",\"gridwidth\":2,\"linecolor\":\"white\",\"showbackground\":true,\"ticks\":\"\",\"zerolinecolor\":\"white\"},\"zaxis\":{\"backgroundcolor\":\"#E5ECF6\",\"gridcolor\":\"white\",\"gridwidth\":2,\"linecolor\":\"white\",\"showbackground\":true,\"ticks\":\"\",\"zerolinecolor\":\"white\"}},\"shapedefaults\":{\"line\":{\"color\":\"#2a3f5f\"}},\"ternary\":{\"aaxis\":{\"gridcolor\":\"white\",\"linecolor\":\"white\",\"ticks\":\"\"},\"baxis\":{\"gridcolor\":\"white\",\"linecolor\":\"white\",\"ticks\":\"\"},\"bgcolor\":\"#E5ECF6\",\"caxis\":{\"gridcolor\":\"white\",\"linecolor\":\"white\",\"ticks\":\"\"}},\"title\":{\"x\":0.05},\"xaxis\":{\"automargin\":true,\"gridcolor\":\"white\",\"linecolor\":\"white\",\"ticks\":\"\",\"title\":{\"standoff\":15},\"zerolinecolor\":\"white\",\"zerolinewidth\":2},\"yaxis\":{\"automargin\":true,\"gridcolor\":\"white\",\"linecolor\":\"white\",\"ticks\":\"\",\"title\":{\"standoff\":15},\"zerolinecolor\":\"white\",\"zerolinewidth\":2}}},\"xaxis\":{\"anchor\":\"y\",\"domain\":[0.0,1.0]},\"yaxis\":{\"anchor\":\"x\",\"domain\":[0.0,1.0]}},                        {\"responsive\": true}                    ).then(function(){\n",
       "                            \n",
       "var gd = document.getElementById('737dba4a-2c30-499a-94a5-8b000571d752');\n",
       "var x = new MutationObserver(function (mutations, observer) {{\n",
       "        var display = window.getComputedStyle(gd).display;\n",
       "        if (!display || display === 'none') {{\n",
       "            console.log([gd, 'removed!']);\n",
       "            Plotly.purge(gd);\n",
       "            observer.disconnect();\n",
       "        }}\n",
       "}});\n",
       "\n",
       "// Listen for the removal of the full notebook cells\n",
       "var notebookContainer = gd.closest('#notebook-container');\n",
       "if (notebookContainer) {{\n",
       "    x.observe(notebookContainer, {childList: true});\n",
       "}}\n",
       "\n",
       "// Listen for the clearing of the current output cell\n",
       "var outputEl = gd.closest('.output');\n",
       "if (outputEl) {{\n",
       "    x.observe(outputEl, {childList: true});\n",
       "}}\n",
       "\n",
       "                        })                };                });            </script>        </div>"
      ]
     },
     "metadata": {},
     "output_type": "display_data"
    }
   ],
   "source": [
    "meanBettiH1 = []\n",
    "medianBettiH1 = []\n",
    "modeBettiH1 = []\n",
    "\n",
    "for i in range(len(slugging_Betti[:,1,0])):\n",
    "    meanBettiH1.append(stats.mean(slugging_Betti[i,1,:]))\n",
    "    medianBettiH1.append(stats.median(slugging_Betti[i,1,:]))\n",
    "    modeBettiH1.append(stats.mode(slugging_Betti[i,1,:]))\n",
    "    \n",
    "    \n",
    "figBetti = px.line()\n",
    "figBetti.add_scatter(y=(meanBettiH1), name=\"Mean of Betti curve H_1\")\n",
    "figBetti.add_scatter(y=(medianBettiH1), name=\"Median of Betti curve H_1\")\n",
    "figBetti.add_scatter(y=(modeBettiH1),name=\"Mode of Betti curve H_1\")\n",
    "figBetti.show()"
   ]
  },
  {
   "cell_type": "code",
   "execution_count": 47,
   "metadata": {},
   "outputs": [
    {
     "data": {
      "image/png": "[encoded data removed]",
      "text/plain": [
       "<Figure size 720x288 with 2 Axes>"
      ]
     },
     "metadata": {
      "needs_background": "light"
     },
     "output_type": "display_data"
    }
   ],
   "source": [
    "stats_entropy, data = plt.subplots(1, 2,figsize=(10,4))\n",
    "stats_entropy.suptitle('Normal operations dataset - Means of Betti curves')\n",
    "\n",
    "data[0].set_xlabel('Mean of Betti Curve for H$_0$')\n",
    "data[0].set_ylabel('count')\n",
    "data[1].set_xlabel(\"Mean of Betti Curve for H$_1$\")\n",
    "data[1].set_ylabel('count')\n",
    "\n",
    "data[0].hist(meanBettiH0, bins=20)\n",
    "data[1].hist(meanBettiH1)\n",
    "\n",
    "plt.tight_layout()"
   ]
  },
  {
   "cell_type": "code",
   "execution_count": 26,
   "metadata": {},
   "outputs": [
    {
     "data": {
      "application/vnd.plotly.v1+json": {
       "config": {
        "plotlyServerURL": "https://plot.ly"
       },
       "data": [
        {
         "name": "Max Pers in homology dimension H_1",
         "type": "scatter",
         "y": [
          59.44355845451355,
          16.158808708190918,
          33.46996593475342,
          36.60427749156952,
          26.946992874145508,
          9.742815136909485,
          29.184724807739258,
          11.989141941070557,
          17.001078605651855,
          13.442307472229004,
          32.790228724479675,
          68.6665346622467,
          38.31631672382355,
          30.043616235256195,
          38.48445510864258,
          9.508842468261719,
          32.38536834716797,
          45.19999313354492,
          4.982803583145142,
          35.44662070274353,
          25.706575393676758,
          39.42871642112732,
          20.43103827536106,
          31.215216398239136,
          10.955453872680664,
          19.37728261947632,
          18.086583137512207,
          38.74102598428726,
          5.787893563508987,
          13.1680269241333,
          40.24832344055176,
          16.18674111366272,
          16.765778064727783,
          24.023993492126465,
          37.391329526901245,
          3.331627145409584,
          28.613157629966736,
          25.967590153217316,
          15.890733242034912,
          37.55464148521423,
          36.47652864456177,
          27.514358401298523,
          10.652552723884583,
          20.68429470062256,
          13.746718406677246,
          32.841620206832886,
          26.68002223968506,
          13.416533589363098,
          29.909584045410156,
          24.190279871225357,
          31.165613889694214,
          29.53368192911148,
          29.753730058670044,
          8.38323925435543,
          23.477290630340576,
          29.20500212907791,
          35.331386148929596,
          12.443504333496094,
          27.298716068267822,
          32.47184693813324,
          6.015867531299591,
          28.27562043070793,
          26.634111762046814,
          19.056894540786743,
          7.065701961517334,
          33.4563364982605,
          39.067259192466736,
          38.70274841785431,
          33.973978996276855,
          21.959686517715454,
          37.638520658016205,
          36.93289828300476,
          11.779672026634216,
          17.581899166107178,
          21.63396193087101,
          26.999273419380188,
          14.879243016242981,
          25.78173729777336,
          32.91340798139572,
          51.117504596710205,
          21.287963062524796,
          28.14026165008545,
          35.67040741443634,
          43.643704771995544,
          33.04339933395386,
          16.394315719604492,
          11.742728233337402,
          47.95924758911133,
          18.271336555480957,
          14.755087852478027,
          24.931939125061035,
          11.201624870300293,
          29.827410340309143,
          3.7579115629196167,
          13.61048173904419,
          31.62868595123291,
          23.252501487731934,
          52.288957595825195,
          40.547118186950684,
          29.11519432067871,
          40.108656883239746,
          21.47836685180664,
          32.43583011627197,
          10.680387496948242,
          23.273327827453613,
          6.8197150602936745
         ]
        },
        {
         "name": "Max Pers in homology dimension H_0",
         "type": "scatter",
         "y": [
          5.219127178192139,
          7.862435340881348,
          11.411547660827637,
          1.017738699913025,
          19.088098526000977,
          0.4849213659763336,
          11.52508544921875,
          7.122753143310547,
          7.450085163116455,
          8.146343231201172,
          0.8078544735908508,
          4.090520858764648,
          0.9575684666633606,
          0.7987702488899231,
          21.622142791748047,
          10.232603073120117,
          0.9298744201660156,
          6.028512001037598,
          0.29675018787384033,
          8.65691089630127,
          14.863295555114746,
          0.9312129616737366,
          0.2015237808227539,
          11.672636032104492,
          10.542963981628418,
          4.737783432006836,
          5.308247089385986,
          0.923408031463623,
          0.17422069609165192,
          9.741646766662598,
          5.184152126312256,
          5.310818672180176,
          5.013021945953369,
          6.172712326049805,
          0.9326387047767639,
          0.11247573047876358,
          1.666435718536377,
          0.6525405049324036,
          7.450289726257324,
          2.43034291267395,
          1.0578023195266724,
          0.68812495470047,
          0.25122955441474915,
          1.9111140966415405,
          5.130300045013428,
          0.6609483361244202,
          4.7022247314453125,
          0.8126506805419922,
          3.964343309402466,
          0.5989437699317932,
          1.5063252449035645,
          2.6402924060821533,
          0.8617512583732605,
          0.20109440386295319,
          3.0333473682403564,
          0.484856516122818,
          0.5003675818443298,
          0.43510866165161133,
          9.351593017578125,
          0.7342625260353088,
          0.4952475428581238,
          0.2251463532447815,
          0.5514848232269287,
          6.427065372467041,
          0.43430572748184204,
          1.0596028566360474,
          0.8967229723930359,
          0.9491274952888489,
          5.0623955726623535,
          6.914050102233887,
          1.0163527727127075,
          2.548920154571533,
          1.4958806037902832,
          0.5978901982307434,
          0.1496022343635559,
          0.8509638905525208,
          0.9961789846420288,
          0.23086008429527283,
          0.6966449618339539,
          7.709611892700195,
          0.30666667222976685,
          0.8168642520904541,
          1.6738375425338745,
          3.098003625869751,
          6.5771355628967285,
          15.475680351257324,
          17.51357078552246,
          8.099180221557617,
          4.403557777404785,
          5.329907417297363,
          6.990564346313477,
          10.14557933807373,
          12.73651123046875,
          0.1494017392396927,
          5.996678352355957,
          6.98253059387207,
          9.756348609924316,
          13.61237621307373,
          10.561299324035645,
          11.625685691833496,
          7.816450119018555,
          12.669854164123535,
          9.926872253417969,
          9.648398399353027,
          9.91915225982666,
          0.1102571114897728
         ]
        }
       ],
       "layout": {
        "legend": {
         "tracegroupgap": 0
        },
        "template": {
         "data": {
          "bar": [
           {
            "error_x": {
             "color": "#2a3f5f"
            },
            "error_y": {
             "color": "#2a3f5f"
            },
            "marker": {
             "line": {
              "color": "#E5ECF6",
              "width": 0.5
             },
             "pattern": {
              "fillmode": "overlay",
              "size": 10,
              "solidity": 0.2
             }
            },
            "type": "bar"
           }
          ],
          "barpolar": [
           {
            "marker": {
             "line": {
              "color": "#E5ECF6",
              "width": 0.5
             },
             "pattern": {
              "fillmode": "overlay",
              "size": 10,
              "solidity": 0.2
             }
            },
            "type": "barpolar"
           }
          ],
          "carpet": [
           {
            "aaxis": {
             "endlinecolor": "#2a3f5f",
             "gridcolor": "white",
             "linecolor": "white",
             "minorgridcolor": "white",
             "startlinecolor": "#2a3f5f"
            },
            "baxis": {
             "endlinecolor": "#2a3f5f",
             "gridcolor": "white",
             "linecolor": "white",
             "minorgridcolor": "white",
             "startlinecolor": "#2a3f5f"
            },
            "type": "carpet"
           }
          ],
          "choropleth": [
           {
            "colorbar": {
             "outlinewidth": 0,
             "ticks": ""
            },
            "type": "choropleth"
           }
          ],
          "contour": [
           {
            "colorbar": {
             "outlinewidth": 0,
             "ticks": ""
            },
            "colorscale": [
             [
              0,
              "#0d0887"
             ],
             [
              0.1111111111111111,
              "#46039f"
             ],
             [
              0.2222222222222222,
              "#7201a8"
             ],
             [
              0.3333333333333333,
              "#9c179e"
             ],
             [
              0.4444444444444444,
              "#bd3786"
             ],
             [
              0.5555555555555556,
              "#d8576b"
             ],
             [
              0.6666666666666666,
              "#ed7953"
             ],
             [
              0.7777777777777778,
              "#fb9f3a"
             ],
             [
              0.8888888888888888,
              "#fdca26"
             ],
             [
              1,
              "#f0f921"
             ]
            ],
            "type": "contour"
           }
          ],
          "contourcarpet": [
           {
            "colorbar": {
             "outlinewidth": 0,
             "ticks": ""
            },
            "type": "contourcarpet"
           }
          ],
          "heatmap": [
           {
            "colorbar": {
             "outlinewidth": 0,
             "ticks": ""
            },
            "colorscale": [
             [
              0,
              "#0d0887"
             ],
             [
              0.1111111111111111,
              "#46039f"
             ],
             [
              0.2222222222222222,
              "#7201a8"
             ],
             [
              0.3333333333333333,
              "#9c179e"
             ],
             [
              0.4444444444444444,
              "#bd3786"
             ],
             [
              0.5555555555555556,
              "#d8576b"
             ],
             [
              0.6666666666666666,
              "#ed7953"
             ],
             [
              0.7777777777777778,
              "#fb9f3a"
             ],
             [
              0.8888888888888888,
              "#fdca26"
             ],
             [
              1,
              "#f0f921"
             ]
            ],
            "type": "heatmap"
           }
          ],
          "heatmapgl": [
           {
            "colorbar": {
             "outlinewidth": 0,
             "ticks": ""
            },
            "colorscale": [
             [
              0,
              "#0d0887"
             ],
             [
              0.1111111111111111,
              "#46039f"
             ],
             [
              0.2222222222222222,
              "#7201a8"
             ],
             [
              0.3333333333333333,
              "#9c179e"
             ],
             [
              0.4444444444444444,
              "#bd3786"
             ],
             [
              0.5555555555555556,
              "#d8576b"
             ],
             [
              0.6666666666666666,
              "#ed7953"
             ],
             [
              0.7777777777777778,
              "#fb9f3a"
             ],
             [
              0.8888888888888888,
              "#fdca26"
             ],
             [
              1,
              "#f0f921"
             ]
            ],
            "type": "heatmapgl"
           }
          ],
          "histogram": [
           {
            "marker": {
             "pattern": {
              "fillmode": "overlay",
              "size": 10,
              "solidity": 0.2
             }
            },
            "type": "histogram"
           }
          ],
          "histogram2d": [
           {
            "colorbar": {
             "outlinewidth": 0,
             "ticks": ""
            },
            "colorscale": [
             [
              0,
              "#0d0887"
             ],
             [
              0.1111111111111111,
              "#46039f"
             ],
             [
              0.2222222222222222,
              "#7201a8"
             ],
             [
              0.3333333333333333,
              "#9c179e"
             ],
             [
              0.4444444444444444,
              "#bd3786"
             ],
             [
              0.5555555555555556,
              "#d8576b"
             ],
             [
              0.6666666666666666,
              "#ed7953"
             ],
             [
              0.7777777777777778,
              "#fb9f3a"
             ],
             [
              0.8888888888888888,
              "#fdca26"
             ],
             [
              1,
              "#f0f921"
             ]
            ],
            "type": "histogram2d"
           }
          ],
          "histogram2dcontour": [
           {
            "colorbar": {
             "outlinewidth": 0,
             "ticks": ""
            },
            "colorscale": [
             [
              0,
              "#0d0887"
             ],
             [
              0.1111111111111111,
              "#46039f"
             ],
             [
              0.2222222222222222,
              "#7201a8"
             ],
             [
              0.3333333333333333,
              "#9c179e"
             ],
             [
              0.4444444444444444,
              "#bd3786"
             ],
             [
              0.5555555555555556,
              "#d8576b"
             ],
             [
              0.6666666666666666,
              "#ed7953"
             ],
             [
              0.7777777777777778,
              "#fb9f3a"
             ],
             [
              0.8888888888888888,
              "#fdca26"
             ],
             [
              1,
              "#f0f921"
             ]
            ],
            "type": "histogram2dcontour"
           }
          ],
          "mesh3d": [
           {
            "colorbar": {
             "outlinewidth": 0,
             "ticks": ""
            },
            "type": "mesh3d"
           }
          ],
          "parcoords": [
           {
            "line": {
             "colorbar": {
              "outlinewidth": 0,
              "ticks": ""
             }
            },
            "type": "parcoords"
           }
          ],
          "pie": [
           {
            "automargin": true,
            "type": "pie"
           }
          ],
          "scatter": [
           {
            "marker": {
             "colorbar": {
              "outlinewidth": 0,
              "ticks": ""
             }
            },
            "type": "scatter"
           }
          ],
          "scatter3d": [
           {
            "line": {
             "colorbar": {
              "outlinewidth": 0,
              "ticks": ""
             }
            },
            "marker": {
             "colorbar": {
              "outlinewidth": 0,
              "ticks": ""
             }
            },
            "type": "scatter3d"
           }
          ],
          "scattercarpet": [
           {
            "marker": {
             "colorbar": {
              "outlinewidth": 0,
              "ticks": ""
             }
            },
            "type": "scattercarpet"
           }
          ],
          "scattergeo": [
           {
            "marker": {
             "colorbar": {
              "outlinewidth": 0,
              "ticks": ""
             }
            },
            "type": "scattergeo"
           }
          ],
          "scattergl": [
           {
            "marker": {
             "colorbar": {
              "outlinewidth": 0,
              "ticks": ""
             }
            },
            "type": "scattergl"
           }
          ],
          "scattermapbox": [
           {
            "marker": {
             "colorbar": {
              "outlinewidth": 0,
              "ticks": ""
             }
            },
            "type": "scattermapbox"
           }
          ],
          "scatterpolar": [
           {
            "marker": {
             "colorbar": {
              "outlinewidth": 0,
              "ticks": ""
             }
            },
            "type": "scatterpolar"
           }
          ],
          "scatterpolargl": [
           {
            "marker": {
             "colorbar": {
              "outlinewidth": 0,
              "ticks": ""
             }
            },
            "type": "scatterpolargl"
           }
          ],
          "scatterternary": [
           {
            "marker": {
             "colorbar": {
              "outlinewidth": 0,
              "ticks": ""
             }
            },
            "type": "scatterternary"
           }
          ],
          "surface": [
           {
            "colorbar": {
             "outlinewidth": 0,
             "ticks": ""
            },
            "colorscale": [
             [
              0,
              "#0d0887"
             ],
             [
              0.1111111111111111,
              "#46039f"
             ],
             [
              0.2222222222222222,
              "#7201a8"
             ],
             [
              0.3333333333333333,
              "#9c179e"
             ],
             [
              0.4444444444444444,
              "#bd3786"
             ],
             [
              0.5555555555555556,
              "#d8576b"
             ],
             [
              0.6666666666666666,
              "#ed7953"
             ],
             [
              0.7777777777777778,
              "#fb9f3a"
             ],
             [
              0.8888888888888888,
              "#fdca26"
             ],
             [
              1,
              "#f0f921"
             ]
            ],
            "type": "surface"
           }
          ],
          "table": [
           {
            "cells": {
             "fill": {
              "color": "#EBF0F8"
             },
             "line": {
              "color": "white"
             }
            },
            "header": {
             "fill": {
              "color": "#C8D4E3"
             },
             "line": {
              "color": "white"
             }
            },
            "type": "table"
           }
          ]
         },
         "layout": {
          "annotationdefaults": {
           "arrowcolor": "#2a3f5f",
           "arrowhead": 0,
           "arrowwidth": 1
          },
          "autotypenumbers": "strict",
          "coloraxis": {
           "colorbar": {
            "outlinewidth": 0,
            "ticks": ""
           }
          },
          "colorscale": {
           "diverging": [
            [
             0,
             "#8e0152"
            ],
            [
             0.1,
             "#c51b7d"
            ],
            [
             0.2,
             "#de77ae"
            ],
            [
             0.3,
             "#f1b6da"
            ],
            [
             0.4,
             "#fde0ef"
            ],
            [
             0.5,
             "#f7f7f7"
            ],
            [
             0.6,
             "#e6f5d0"
            ],
            [
             0.7,
             "#b8e186"
            ],
            [
             0.8,
             "#7fbc41"
            ],
            [
             0.9,
             "#4d9221"
            ],
            [
             1,
             "#276419"
            ]
           ],
           "sequential": [
            [
             0,
             "#0d0887"
            ],
            [
             0.1111111111111111,
             "#46039f"
            ],
            [
             0.2222222222222222,
             "#7201a8"
            ],
            [
             0.3333333333333333,
             "#9c179e"
            ],
            [
             0.4444444444444444,
             "#bd3786"
            ],
            [
             0.5555555555555556,
             "#d8576b"
            ],
            [
             0.6666666666666666,
             "#ed7953"
            ],
            [
             0.7777777777777778,
             "#fb9f3a"
            ],
            [
             0.8888888888888888,
             "#fdca26"
            ],
            [
             1,
             "#f0f921"
            ]
           ],
           "sequentialminus": [
            [
             0,
             "#0d0887"
            ],
            [
             0.1111111111111111,
             "#46039f"
            ],
            [
             0.2222222222222222,
             "#7201a8"
            ],
            [
             0.3333333333333333,
             "#9c179e"
            ],
            [
             0.4444444444444444,
             "#bd3786"
            ],
            [
             0.5555555555555556,
             "#d8576b"
            ],
            [
             0.6666666666666666,
             "#ed7953"
            ],
            [
             0.7777777777777778,
             "#fb9f3a"
            ],
            [
             0.8888888888888888,
             "#fdca26"
            ],
            [
             1,
             "#f0f921"
            ]
           ]
          },
          "colorway": [
           "#636efa",
           "#EF553B",
           "#00cc96",
           "#ab63fa",
           "#FFA15A",
           "#19d3f3",
           "#FF6692",
           "#B6E880",
           "#FF97FF",
           "#FECB52"
          ],
          "font": {
           "color": "#2a3f5f"
          },
          "geo": {
           "bgcolor": "white",
           "lakecolor": "white",
           "landcolor": "#E5ECF6",
           "showlakes": true,
           "showland": true,
           "subunitcolor": "white"
          },
          "hoverlabel": {
           "align": "left"
          },
          "hovermode": "closest",
          "mapbox": {
           "style": "light"
          },
          "paper_bgcolor": "white",
          "plot_bgcolor": "#E5ECF6",
          "polar": {
           "angularaxis": {
            "gridcolor": "white",
            "linecolor": "white",
            "ticks": ""
           },
           "bgcolor": "#E5ECF6",
           "radialaxis": {
            "gridcolor": "white",
            "linecolor": "white",
            "ticks": ""
           }
          },
          "scene": {
           "xaxis": {
            "backgroundcolor": "#E5ECF6",
            "gridcolor": "white",
            "gridwidth": 2,
            "linecolor": "white",
            "showbackground": true,
            "ticks": "",
            "zerolinecolor": "white"
           },
           "yaxis": {
            "backgroundcolor": "#E5ECF6",
            "gridcolor": "white",
            "gridwidth": 2,
            "linecolor": "white",
            "showbackground": true,
            "ticks": "",
            "zerolinecolor": "white"
           },
           "zaxis": {
            "backgroundcolor": "#E5ECF6",
            "gridcolor": "white",
            "gridwidth": 2,
            "linecolor": "white",
            "showbackground": true,
            "ticks": "",
            "zerolinecolor": "white"
           }
          },
          "shapedefaults": {
           "line": {
            "color": "#2a3f5f"
           }
          },
          "ternary": {
           "aaxis": {
            "gridcolor": "white",
            "linecolor": "white",
            "ticks": ""
           },
           "baxis": {
            "gridcolor": "white",
            "linecolor": "white",
            "ticks": ""
           },
           "bgcolor": "#E5ECF6",
           "caxis": {
            "gridcolor": "white",
            "linecolor": "white",
            "ticks": ""
           }
          },
          "title": {
           "x": 0.05
          },
          "xaxis": {
           "automargin": true,
           "gridcolor": "white",
           "linecolor": "white",
           "ticks": "",
           "title": {
            "standoff": 15
           },
           "zerolinecolor": "white",
           "zerolinewidth": 2
          },
          "yaxis": {
           "automargin": true,
           "gridcolor": "white",
           "linecolor": "white",
           "ticks": "",
           "title": {
            "standoff": 15
           },
           "zerolinecolor": "white",
           "zerolinewidth": 2
          }
         }
        },
        "title": {
         "text": "Maximum Persistence for slugging BHP"
        },
        "xaxis": {
         "anchor": "y",
         "domain": [
          0,
          1
         ]
        },
        "yaxis": {
         "anchor": "x",
         "domain": [
          0,
          1
         ]
        }
       }
      },
      "text/html": [
       "<div>                            <div id=\"4bce8130-3dfb-4fca-b36b-36b7a3aa568b\" class=\"plotly-graph-div\" style=\"height:525px; width:100%;\"></div>            <script type=\"text/javascript\">                require([\"plotly\"], function(Plotly) {                    window.PLOTLYENV=window.PLOTLYENV || {};                                    if (document.getElementById(\"4bce8130-3dfb-4fca-b36b-36b7a3aa568b\")) {                    Plotly.newPlot(                        \"4bce8130-3dfb-4fca-b36b-36b7a3aa568b\",                        [{\"name\":\"Max Pers in homology dimension H_1\",\"type\":\"scatter\",\"y\":[59.44355845451355,16.158808708190918,33.46996593475342,36.60427749156952,26.946992874145508,9.742815136909485,29.184724807739258,11.989141941070557,17.001078605651855,13.442307472229004,32.790228724479675,68.6665346622467,38.31631672382355,30.043616235256195,38.48445510864258,9.508842468261719,32.38536834716797,45.19999313354492,4.982803583145142,35.44662070274353,25.706575393676758,39.42871642112732,20.43103827536106,31.215216398239136,10.955453872680664,19.37728261947632,18.086583137512207,38.74102598428726,5.787893563508987,13.1680269241333,40.24832344055176,16.18674111366272,16.765778064727783,24.023993492126465,37.391329526901245,3.331627145409584,28.613157629966736,25.967590153217316,15.890733242034912,37.55464148521423,36.47652864456177,27.514358401298523,10.652552723884583,20.68429470062256,13.746718406677246,32.841620206832886,26.68002223968506,13.416533589363098,29.909584045410156,24.190279871225357,31.165613889694214,29.53368192911148,29.753730058670044,8.38323925435543,23.477290630340576,29.20500212907791,35.331386148929596,12.443504333496094,27.298716068267822,32.47184693813324,6.015867531299591,28.27562043070793,26.634111762046814,19.056894540786743,7.065701961517334,33.4563364982605,39.067259192466736,38.70274841785431,33.973978996276855,21.959686517715454,37.638520658016205,36.93289828300476,11.779672026634216,17.581899166107178,21.63396193087101,26.999273419380188,14.879243016242981,25.78173729777336,32.91340798139572,51.117504596710205,21.287963062524796,28.14026165008545,35.67040741443634,43.643704771995544,33.04339933395386,16.394315719604492,11.742728233337402,47.95924758911133,18.271336555480957,14.755087852478027,24.931939125061035,11.201624870300293,29.827410340309143,3.7579115629196167,13.61048173904419,31.62868595123291,23.252501487731934,52.288957595825195,40.547118186950684,29.11519432067871,40.108656883239746,21.47836685180664,32.43583011627197,10.680387496948242,23.273327827453613,6.8197150602936745]},{\"name\":\"Max Pers in homology dimension H_0\",\"type\":\"scatter\",\"y\":[5.219127178192139,7.862435340881348,11.411547660827637,1.017738699913025,19.088098526000977,0.4849213659763336,11.52508544921875,7.122753143310547,7.450085163116455,8.146343231201172,0.8078544735908508,4.090520858764648,0.9575684666633606,0.7987702488899231,21.622142791748047,10.232603073120117,0.9298744201660156,6.028512001037598,0.29675018787384033,8.65691089630127,14.863295555114746,0.9312129616737366,0.2015237808227539,11.672636032104492,10.542963981628418,4.737783432006836,5.308247089385986,0.923408031463623,0.17422069609165192,9.741646766662598,5.184152126312256,5.310818672180176,5.013021945953369,6.172712326049805,0.9326387047767639,0.11247573047876358,1.666435718536377,0.6525405049324036,7.450289726257324,2.43034291267395,1.0578023195266724,0.68812495470047,0.25122955441474915,1.9111140966415405,5.130300045013428,0.6609483361244202,4.7022247314453125,0.8126506805419922,3.964343309402466,0.5989437699317932,1.5063252449035645,2.6402924060821533,0.8617512583732605,0.20109440386295319,3.0333473682403564,0.484856516122818,0.5003675818443298,0.43510866165161133,9.351593017578125,0.7342625260353088,0.4952475428581238,0.2251463532447815,0.5514848232269287,6.427065372467041,0.43430572748184204,1.0596028566360474,0.8967229723930359,0.9491274952888489,5.0623955726623535,6.914050102233887,1.0163527727127075,2.548920154571533,1.4958806037902832,0.5978901982307434,0.1496022343635559,0.8509638905525208,0.9961789846420288,0.23086008429527283,0.6966449618339539,7.709611892700195,0.30666667222976685,0.8168642520904541,1.6738375425338745,3.098003625869751,6.5771355628967285,15.475680351257324,17.51357078552246,8.099180221557617,4.403557777404785,5.329907417297363,6.990564346313477,10.14557933807373,12.73651123046875,0.1494017392396927,5.996678352355957,6.98253059387207,9.756348609924316,13.61237621307373,10.561299324035645,11.625685691833496,7.816450119018555,12.669854164123535,9.926872253417969,9.648398399353027,9.91915225982666,0.1102571114897728]}],                        {\"legend\":{\"tracegroupgap\":0},\"template\":{\"data\":{\"bar\":[{\"error_x\":{\"color\":\"#2a3f5f\"},\"error_y\":{\"color\":\"#2a3f5f\"},\"marker\":{\"line\":{\"color\":\"#E5ECF6\",\"width\":0.5},\"pattern\":{\"fillmode\":\"overlay\",\"size\":10,\"solidity\":0.2}},\"type\":\"bar\"}],\"barpolar\":[{\"marker\":{\"line\":{\"color\":\"#E5ECF6\",\"width\":0.5},\"pattern\":{\"fillmode\":\"overlay\",\"size\":10,\"solidity\":0.2}},\"type\":\"barpolar\"}],\"carpet\":[{\"aaxis\":{\"endlinecolor\":\"#2a3f5f\",\"gridcolor\":\"white\",\"linecolor\":\"white\",\"minorgridcolor\":\"white\",\"startlinecolor\":\"#2a3f5f\"},\"baxis\":{\"endlinecolor\":\"#2a3f5f\",\"gridcolor\":\"white\",\"linecolor\":\"white\",\"minorgridcolor\":\"white\",\"startlinecolor\":\"#2a3f5f\"},\"type\":\"carpet\"}],\"choropleth\":[{\"colorbar\":{\"outlinewidth\":0,\"ticks\":\"\"},\"type\":\"choropleth\"}],\"contour\":[{\"colorbar\":{\"outlinewidth\":0,\"ticks\":\"\"},\"colorscale\":[[0.0,\"#0d0887\"],[0.1111111111111111,\"#46039f\"],[0.2222222222222222,\"#7201a8\"],[0.3333333333333333,\"#9c179e\"],[0.4444444444444444,\"#bd3786\"],[0.5555555555555556,\"#d8576b\"],[0.6666666666666666,\"#ed7953\"],[0.7777777777777778,\"#fb9f3a\"],[0.8888888888888888,\"#fdca26\"],[1.0,\"#f0f921\"]],\"type\":\"contour\"}],\"contourcarpet\":[{\"colorbar\":{\"outlinewidth\":0,\"ticks\":\"\"},\"type\":\"contourcarpet\"}],\"heatmap\":[{\"colorbar\":{\"outlinewidth\":0,\"ticks\":\"\"},\"colorscale\":[[0.0,\"#0d0887\"],[0.1111111111111111,\"#46039f\"],[0.2222222222222222,\"#7201a8\"],[0.3333333333333333,\"#9c179e\"],[0.4444444444444444,\"#bd3786\"],[0.5555555555555556,\"#d8576b\"],[0.6666666666666666,\"#ed7953\"],[0.7777777777777778,\"#fb9f3a\"],[0.8888888888888888,\"#fdca26\"],[1.0,\"#f0f921\"]],\"type\":\"heatmap\"}],\"heatmapgl\":[{\"colorbar\":{\"outlinewidth\":0,\"ticks\":\"\"},\"colorscale\":[[0.0,\"#0d0887\"],[0.1111111111111111,\"#46039f\"],[0.2222222222222222,\"#7201a8\"],[0.3333333333333333,\"#9c179e\"],[0.4444444444444444,\"#bd3786\"],[0.5555555555555556,\"#d8576b\"],[0.6666666666666666,\"#ed7953\"],[0.7777777777777778,\"#fb9f3a\"],[0.8888888888888888,\"#fdca26\"],[1.0,\"#f0f921\"]],\"type\":\"heatmapgl\"}],\"histogram\":[{\"marker\":{\"pattern\":{\"fillmode\":\"overlay\",\"size\":10,\"solidity\":0.2}},\"type\":\"histogram\"}],\"histogram2d\":[{\"colorbar\":{\"outlinewidth\":0,\"ticks\":\"\"},\"colorscale\":[[0.0,\"#0d0887\"],[0.1111111111111111,\"#46039f\"],[0.2222222222222222,\"#7201a8\"],[0.3333333333333333,\"#9c179e\"],[0.4444444444444444,\"#bd3786\"],[0.5555555555555556,\"#d8576b\"],[0.6666666666666666,\"#ed7953\"],[0.7777777777777778,\"#fb9f3a\"],[0.8888888888888888,\"#fdca26\"],[1.0,\"#f0f921\"]],\"type\":\"histogram2d\"}],\"histogram2dcontour\":[{\"colorbar\":{\"outlinewidth\":0,\"ticks\":\"\"},\"colorscale\":[[0.0,\"#0d0887\"],[0.1111111111111111,\"#46039f\"],[0.2222222222222222,\"#7201a8\"],[0.3333333333333333,\"#9c179e\"],[0.4444444444444444,\"#bd3786\"],[0.5555555555555556,\"#d8576b\"],[0.6666666666666666,\"#ed7953\"],[0.7777777777777778,\"#fb9f3a\"],[0.8888888888888888,\"#fdca26\"],[1.0,\"#f0f921\"]],\"type\":\"histogram2dcontour\"}],\"mesh3d\":[{\"colorbar\":{\"outlinewidth\":0,\"ticks\":\"\"},\"type\":\"mesh3d\"}],\"parcoords\":[{\"line\":{\"colorbar\":{\"outlinewidth\":0,\"ticks\":\"\"}},\"type\":\"parcoords\"}],\"pie\":[{\"automargin\":true,\"type\":\"pie\"}],\"scatter\":[{\"marker\":{\"colorbar\":{\"outlinewidth\":0,\"ticks\":\"\"}},\"type\":\"scatter\"}],\"scatter3d\":[{\"line\":{\"colorbar\":{\"outlinewidth\":0,\"ticks\":\"\"}},\"marker\":{\"colorbar\":{\"outlinewidth\":0,\"ticks\":\"\"}},\"type\":\"scatter3d\"}],\"scattercarpet\":[{\"marker\":{\"colorbar\":{\"outlinewidth\":0,\"ticks\":\"\"}},\"type\":\"scattercarpet\"}],\"scattergeo\":[{\"marker\":{\"colorbar\":{\"outlinewidth\":0,\"ticks\":\"\"}},\"type\":\"scattergeo\"}],\"scattergl\":[{\"marker\":{\"colorbar\":{\"outlinewidth\":0,\"ticks\":\"\"}},\"type\":\"scattergl\"}],\"scattermapbox\":[{\"marker\":{\"colorbar\":{\"outlinewidth\":0,\"ticks\":\"\"}},\"type\":\"scattermapbox\"}],\"scatterpolar\":[{\"marker\":{\"colorbar\":{\"outlinewidth\":0,\"ticks\":\"\"}},\"type\":\"scatterpolar\"}],\"scatterpolargl\":[{\"marker\":{\"colorbar\":{\"outlinewidth\":0,\"ticks\":\"\"}},\"type\":\"scatterpolargl\"}],\"scatterternary\":[{\"marker\":{\"colorbar\":{\"outlinewidth\":0,\"ticks\":\"\"}},\"type\":\"scatterternary\"}],\"surface\":[{\"colorbar\":{\"outlinewidth\":0,\"ticks\":\"\"},\"colorscale\":[[0.0,\"#0d0887\"],[0.1111111111111111,\"#46039f\"],[0.2222222222222222,\"#7201a8\"],[0.3333333333333333,\"#9c179e\"],[0.4444444444444444,\"#bd3786\"],[0.5555555555555556,\"#d8576b\"],[0.6666666666666666,\"#ed7953\"],[0.7777777777777778,\"#fb9f3a\"],[0.8888888888888888,\"#fdca26\"],[1.0,\"#f0f921\"]],\"type\":\"surface\"}],\"table\":[{\"cells\":{\"fill\":{\"color\":\"#EBF0F8\"},\"line\":{\"color\":\"white\"}},\"header\":{\"fill\":{\"color\":\"#C8D4E3\"},\"line\":{\"color\":\"white\"}},\"type\":\"table\"}]},\"layout\":{\"annotationdefaults\":{\"arrowcolor\":\"#2a3f5f\",\"arrowhead\":0,\"arrowwidth\":1},\"autotypenumbers\":\"strict\",\"coloraxis\":{\"colorbar\":{\"outlinewidth\":0,\"ticks\":\"\"}},\"colorscale\":{\"diverging\":[[0,\"#8e0152\"],[0.1,\"#c51b7d\"],[0.2,\"#de77ae\"],[0.3,\"#f1b6da\"],[0.4,\"#fde0ef\"],[0.5,\"#f7f7f7\"],[0.6,\"#e6f5d0\"],[0.7,\"#b8e186\"],[0.8,\"#7fbc41\"],[0.9,\"#4d9221\"],[1,\"#276419\"]],\"sequential\":[[0.0,\"#0d0887\"],[0.1111111111111111,\"#46039f\"],[0.2222222222222222,\"#7201a8\"],[0.3333333333333333,\"#9c179e\"],[0.4444444444444444,\"#bd3786\"],[0.5555555555555556,\"#d8576b\"],[0.6666666666666666,\"#ed7953\"],[0.7777777777777778,\"#fb9f3a\"],[0.8888888888888888,\"#fdca26\"],[1.0,\"#f0f921\"]],\"sequentialminus\":[[0.0,\"#0d0887\"],[0.1111111111111111,\"#46039f\"],[0.2222222222222222,\"#7201a8\"],[0.3333333333333333,\"#9c179e\"],[0.4444444444444444,\"#bd3786\"],[0.5555555555555556,\"#d8576b\"],[0.6666666666666666,\"#ed7953\"],[0.7777777777777778,\"#fb9f3a\"],[0.8888888888888888,\"#fdca26\"],[1.0,\"#f0f921\"]]},\"colorway\":[\"#636efa\",\"#EF553B\",\"#00cc96\",\"#ab63fa\",\"#FFA15A\",\"#19d3f3\",\"#FF6692\",\"#B6E880\",\"#FF97FF\",\"#FECB52\"],\"font\":{\"color\":\"#2a3f5f\"},\"geo\":{\"bgcolor\":\"white\",\"lakecolor\":\"white\",\"landcolor\":\"#E5ECF6\",\"showlakes\":true,\"showland\":true,\"subunitcolor\":\"white\"},\"hoverlabel\":{\"align\":\"left\"},\"hovermode\":\"closest\",\"mapbox\":{\"style\":\"light\"},\"paper_bgcolor\":\"white\",\"plot_bgcolor\":\"#E5ECF6\",\"polar\":{\"angularaxis\":{\"gridcolor\":\"white\",\"linecolor\":\"white\",\"ticks\":\"\"},\"bgcolor\":\"#E5ECF6\",\"radialaxis\":{\"gridcolor\":\"white\",\"linecolor\":\"white\",\"ticks\":\"\"}},\"scene\":{\"xaxis\":{\"backgroundcolor\":\"#E5ECF6\",\"gridcolor\":\"white\",\"gridwidth\":2,\"linecolor\":\"white\",\"showbackground\":true,\"ticks\":\"\",\"zerolinecolor\":\"white\"},\"yaxis\":{\"backgroundcolor\":\"#E5ECF6\",\"gridcolor\":\"white\",\"gridwidth\":2,\"linecolor\":\"white\",\"showbackground\":true,\"ticks\":\"\",\"zerolinecolor\":\"white\"},\"zaxis\":{\"backgroundcolor\":\"#E5ECF6\",\"gridcolor\":\"white\",\"gridwidth\":2,\"linecolor\":\"white\",\"showbackground\":true,\"ticks\":\"\",\"zerolinecolor\":\"white\"}},\"shapedefaults\":{\"line\":{\"color\":\"#2a3f5f\"}},\"ternary\":{\"aaxis\":{\"gridcolor\":\"white\",\"linecolor\":\"white\",\"ticks\":\"\"},\"baxis\":{\"gridcolor\":\"white\",\"linecolor\":\"white\",\"ticks\":\"\"},\"bgcolor\":\"#E5ECF6\",\"caxis\":{\"gridcolor\":\"white\",\"linecolor\":\"white\",\"ticks\":\"\"}},\"title\":{\"x\":0.05},\"xaxis\":{\"automargin\":true,\"gridcolor\":\"white\",\"linecolor\":\"white\",\"ticks\":\"\",\"title\":{\"standoff\":15},\"zerolinecolor\":\"white\",\"zerolinewidth\":2},\"yaxis\":{\"automargin\":true,\"gridcolor\":\"white\",\"linecolor\":\"white\",\"ticks\":\"\",\"title\":{\"standoff\":15},\"zerolinecolor\":\"white\",\"zerolinewidth\":2}}},\"title\":{\"text\":\"Maximum Persistence for slugging BHP\"},\"xaxis\":{\"anchor\":\"y\",\"domain\":[0.0,1.0]},\"yaxis\":{\"anchor\":\"x\",\"domain\":[0.0,1.0]}},                        {\"responsive\": true}                    ).then(function(){\n",
       "                            \n",
       "var gd = document.getElementById('4bce8130-3dfb-4fca-b36b-36b7a3aa568b');\n",
       "var x = new MutationObserver(function (mutations, observer) {{\n",
       "        var display = window.getComputedStyle(gd).display;\n",
       "        if (!display || display === 'none') {{\n",
       "            console.log([gd, 'removed!']);\n",
       "            Plotly.purge(gd);\n",
       "            observer.disconnect();\n",
       "        }}\n",
       "}});\n",
       "\n",
       "// Listen for the removal of the full notebook cells\n",
       "var notebookContainer = gd.closest('#notebook-container');\n",
       "if (notebookContainer) {{\n",
       "    x.observe(notebookContainer, {childList: true});\n",
       "}}\n",
       "\n",
       "// Listen for the clearing of the current output cell\n",
       "var outputEl = gd.closest('.output');\n",
       "if (outputEl) {{\n",
       "    x.observe(outputEl, {childList: true});\n",
       "}}\n",
       "\n",
       "                        })                };                });            </script>        </div>"
      ]
     },
     "metadata": {},
     "output_type": "display_data"
    }
   ],
   "source": [
    "pers_H1 = []\n",
    "pers_H0 = []\n",
    "max_pers_H0 = []\n",
    "max_pers_H1 = []\n",
    "\n",
    "for PersDiag in slugging_diagrams: \n",
    "    for point in PersDiag:\n",
    "        birth = point[0]\n",
    "        death = point[1]\n",
    "        dimension = point[2]\n",
    "        persistence = abs(death - birth)\n",
    "        pers_H0.extend([persistence] if dimension == 0 else [])\n",
    "        pers_H1.extend([persistence] if dimension == 1 else [])\n",
    "    max_pers_H0.append(np.amax(pers_H0))\n",
    "    max_pers_H1.append(np.amax(pers_H1))\n",
    "    pers_H0 = []\n",
    "    pers_H1 = []\n",
    "           \n",
    "fig = px.line(title='Maximum Persistence for slugging BHP')\n",
    "fig.add_scatter(y=max_pers_H1, name=\"Max Pers in homology dimension H_1\")\n",
    "fig.add_scatter(y=max_pers_H0, name=\"Max Pers in homology dimension H_0\")\n",
    "\n",
    "fig.show() "
   ]
  },
  {
   "cell_type": "code",
   "execution_count": 51,
   "metadata": {},
   "outputs": [
    {
     "data": {
      "image/png": "[encoded data removed]",
      "text/plain": [
       "<Figure size 720x288 with 2 Axes>"
      ]
     },
     "metadata": {
      "needs_background": "light"
     },
     "output_type": "display_data"
    }
   ],
   "source": [
    "stats_entropy, data = plt.subplots(1, 2,figsize=(10,4))\n",
    "stats_entropy.suptitle('Normal operations dataset - Max Persistence')\n",
    "\n",
    "data[0].set_xlabel('Mean of Betti Curve for H$_0$')\n",
    "data[0].set_ylabel('count')\n",
    "data[1].set_xlabel(\"Mean of Betti Curve for H$_1$\")\n",
    "data[1].set_ylabel('count')\n",
    "\n",
    "data[0].hist(max_pers_H0, bins = 25)\n",
    "data[1].hist(max_pers_H1, bins = 25)\n",
    "\n",
    "plt.tight_layout()"
   ]
  },
  {
   "cell_type": "code",
   "execution_count": null,
   "metadata": {},
   "outputs": [],
   "source": []
  }
 ],
 "metadata": {
  "kernelspec": {
   "display_name": "tda",
   "language": "python",
   "name": "tda"
  },
  "language_info": {
   "codemirror_mode": {
    "name": "ipython",
    "version": 3
   },
   "file_extension": ".py",
   "mimetype": "text/x-python",
   "name": "python",
   "nbconvert_exporter": "python",
   "pygments_lexer": "ipython3",
   "version": "3.8.2"
  }
 },
 "nbformat": 4,
 "nbformat_minor": 4
}
