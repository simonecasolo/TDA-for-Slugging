{
 "cells": [
  {
   "cell_type": "code",
   "execution_count": 78,
   "metadata": {},
   "outputs": [],
   "source": [
    "import os\n",
    "import pandas as pd\n",
    "import matplotlib.pyplot as plt\n",
    "from gtda.pipeline import Pipeline\n",
    "from gtda.time_series import Resampler\n",
    "from gtda.diagrams import PersistenceEntropy, Scaler, HeatKernel, BettiCurve\n",
    "import numpy as np\n",
    "from gtda.time_series import SingleTakensEmbedding, takens_embedding_optimal_parameters, TakensEmbedding\n",
    "from sklearn.decomposition import PCA\n",
    "from gtda.plotting import plot_point_cloud\n",
    "from gtda.homology import VietorisRipsPersistence\n",
    "from gtda.metaestimators import CollectionTransformer\n",
    "import plotly.express as px\n"
   ]
  },
  {
   "cell_type": "code",
   "execution_count": 2,
   "metadata": {},
   "outputs": [],
   "source": [
    "def find_shortest_file(path, label):\n",
    "    tmp = []\n",
    "    os.chdir(path)\n",
    "    for file in os.listdir():\n",
    "        data_df = pd.read_csv(file)\n",
    "        tmp.append(len(data_df[label]))\n",
    "    return min(tmp)"
   ]
  },
  {
   "cell_type": "code",
   "execution_count": 3,
   "metadata": {},
   "outputs": [],
   "source": [
    "def read_files(path, label, limit):\n",
    "    data = []\n",
    "    os.chdir(path)\n",
    "    i = 0\n",
    "    for file in os.listdir():\n",
    "        data_df = pd.read_csv(file)\n",
    "        # fill NaN with an interpolated value\n",
    "        data_df = data_df.interpolate()\n",
    "        period = int(len(data_df)/limit)\n",
    "        periodicSampler = Resampler(period=period)\n",
    "        print(i,file)\n",
    "        # resample the files to that all of them are the same length (in entries)\n",
    "        # NOTE: timestamps are omitted and timesteps are going to be different for each resampled time series!\n",
    "        index_sampled, signal_sampled = periodicSampler.fit_transform_resample(data_df.index, data_df[label])\n",
    "        data.append(signal_sampled)\n",
    "        i += 1\n",
    "    data_T = list(map(list, zip(*data)))\n",
    "    data = np.array(data_T)\n",
    "    df = pd.DataFrame.from_records(data_T)\n",
    "    return data.T, df"
   ]
  },
  {
   "cell_type": "code",
   "execution_count": 4,
   "metadata": {},
   "outputs": [
    {
     "data": {
      "text/plain": [
       "12999"
      ]
     },
     "execution_count": 4,
     "metadata": {},
     "output_type": "execute_result"
    }
   ],
   "source": [
    "find_shortest_file(\"/Users/simo/repos/RareEventsDataset/3w_dataset-master/data/data/3/ALL/\", \"P-TPT\")"
   ]
  },
  {
   "cell_type": "code",
   "execution_count": 5,
   "metadata": {},
   "outputs": [
    {
     "name": "stdout",
     "output_type": "stream",
     "text": [
      "0 SIMULATED_00035.csv\n",
      "1 SIMULATED_00021.csv\n",
      "2 SIMULATED_00009.csv\n",
      "3 WELL-00014_20170921200114.csv\n",
      "4 WELL-00014_20170925160218.csv\n",
      "5 WELL-00014_20170926170228.csv\n",
      "6 SIMULATED_00008.csv\n",
      "7 SIMULATED_00020.csv\n",
      "8 SIMULATED_00034.csv\n",
      "9 SIMULATED_00022.csv\n",
      "10 WELL-00014_20170920010042.csv\n",
      "11 SIMULATED_00036.csv\n",
      "12 WELL-00014_20170920060228.csv\n",
      "13 WELL-00014_20170921050404.csv\n",
      "14 SIMULATED_00037.csv\n",
      "15 SIMULATED_00023.csv\n",
      "16 WELL-00014_20170921100155.csv\n",
      "17 SIMULATED_00027.csv\n",
      "18 WELL-00001_20170320130025.csv\n",
      "19 WELL-00014_20170920110053.csv\n",
      "20 SIMULATED_00033.csv\n",
      "21 WELL-00014_20170922060124.csv\n",
      "22 SIMULATED_00032.csv\n",
      "23 SIMULATED_00026.csv\n",
      "24 SIMULATED_00018.csv\n",
      "25 SIMULATED_00030.csv\n",
      "26 SIMULATED_00024.csv\n",
      "27 WELL-00014_20170926020340.csv\n",
      "28 WELL-00014_20171028130000.csv\n",
      "29 SIMULATED_00025.csv\n",
      "30 SIMULATED_00031.csv\n",
      "31 SIMULATED_00019.csv\n",
      "32 SIMULATED_00056.csv\n",
      "33 SIMULATED_00042.csv\n",
      "34 WELL-00014_20170925210042.csv\n",
      "35 WELL-00014_20171028080000.csv\n",
      "36 SIMULATED_00043.csv\n",
      "37 SIMULATED_00057.csv\n",
      "38 SIMULATED_00041.csv\n",
      "39 SIMULATED_00055.csv\n",
      "40 SIMULATED_00069.csv\n",
      "41 WELL-00014_20170921000053.csv\n",
      "42 SIMULATED_00068.csv\n",
      "43 SIMULATED_00054.csv\n",
      "44 SIMULATED_00040.csv\n",
      "45 WELL-00014_20170919210016.csv\n",
      "46 SIMULATED_00044.csv\n",
      "47 SIMULATED_00050.csv\n",
      "48 WELL-00014_20170925060042.csv\n",
      "49 SIMULATED_00051.csv\n",
      "50 SIMULATED_00045.csv\n",
      "51 SIMULATED_00053.csv\n",
      "52 SIMULATED_00047.csv\n",
      "53 WELL-00014_20171028180038.csv\n",
      "54 SIMULATED_00046.csv\n",
      "55 SIMULATED_00052.csv\n",
      "56 SIMULATED_00063.csv\n",
      "57 WELL-00014_20170920190207.csv\n",
      "58 WELL-00014_20170925010031.csv\n",
      "59 WELL-00014_20170918020114.csv\n",
      "60 SIMULATED_00062.csv\n",
      "61 SIMULATED_00060.csv\n",
      "62 SIMULATED_00074.csv\n",
      "63 SIMULATED_00048.csv\n",
      "64 WELL-00014_20170917200000.csv\n",
      "65 WELL-00014_20170926070042.csv\n",
      "66 WELL-00014_20170922010042.csv\n",
      "67 WELL-00014_20170922110042.csv\n",
      "68 WELL-00014_20170918120103.csv\n",
      "69 SIMULATED_00049.csv\n",
      "70 WELL-00014_20170921150042.csv\n",
      "71 SIMULATED_00061.csv\n",
      "72 SIMULATED_00059.csv\n",
      "73 SIMULATED_00065.csv\n",
      "74 SIMULATED_00071.csv\n",
      "75 WELL-00014_20170926120103.csv\n",
      "76 SIMULATED_00070.csv\n",
      "77 SIMULATED_00064.csv\n",
      "78 SIMULATED_00058.csv\n",
      "79 SIMULATED_00072.csv\n",
      "80 SIMULATED_00066.csv\n",
      "81 WELL-00014_20170918070135.csv\n",
      "82 SIMULATED_00067.csv\n",
      "83 SIMULATED_00073.csv\n",
      "84 SIMULATED_00014.csv\n",
      "85 SIMULATED_00028.csv\n",
      "86 WELL-00014_20170922160249.csv\n",
      "87 SIMULATED_00029.csv\n",
      "88 SIMULATED_00001.csv\n",
      "89 SIMULATED_00015.csv\n",
      "90 SIMULATED_00003.csv\n",
      "91 SIMULATED_00017.csv\n",
      "92 WELL-00014_20170925110124.csv\n",
      "93 WELL-00014_20170917150000.csv\n",
      "94 SIMULATED_00016.csv\n",
      "95 SIMULATED_00002.csv\n",
      "96 SIMULATED_00006.csv\n",
      "97 SIMULATED_00012.csv\n",
      "98 SIMULATED_00013.csv\n",
      "99 SIMULATED_00007.csv\n",
      "100 SIMULATED_00039.csv\n",
      "101 SIMULATED_00011.csv\n",
      "102 SIMULATED_00005.csv\n",
      "103 SIMULATED_00004.csv\n",
      "104 SIMULATED_00010.csv\n",
      "105 SIMULATED_00038.csv\n"
     ]
    }
   ],
   "source": [
    "slugging_signals, slugging_df = read_files(\"/Users/simo/repos/RareEventsDataset/3w_dataset-master/data/data/3/ALL/\", \"P-TPT\",3000)"
   ]
  },
  {
   "cell_type": "code",
   "execution_count": 6,
   "metadata": {},
   "outputs": [],
   "source": [
    "PatoBar = 1/100000\n",
    "slugging_df = slugging_df.apply(lambda x: x*PatoBar) \n",
    "slugging_signals = slugging_signals * PatoBar"
   ]
  },
  {
   "cell_type": "code",
   "execution_count": 7,
   "metadata": {},
   "outputs": [
    {
     "data": {
      "text/html": [
       "<div>\n",
       "<style scoped>\n",
       "    .dataframe tbody tr th:only-of-type {\n",
       "        vertical-align: middle;\n",
       "    }\n",
       "\n",
       "    .dataframe tbody tr th {\n",
       "        vertical-align: top;\n",
       "    }\n",
       "\n",
       "    .dataframe thead th {\n",
       "        text-align: right;\n",
       "    }\n",
       "</style>\n",
       "<table border=\"1\" class=\"dataframe\">\n",
       "  <thead>\n",
       "    <tr style=\"text-align: right;\">\n",
       "      <th></th>\n",
       "      <th>0</th>\n",
       "      <th>1</th>\n",
       "      <th>2</th>\n",
       "      <th>3</th>\n",
       "      <th>4</th>\n",
       "      <th>5</th>\n",
       "      <th>6</th>\n",
       "      <th>7</th>\n",
       "      <th>8</th>\n",
       "      <th>9</th>\n",
       "      <th>...</th>\n",
       "      <th>96</th>\n",
       "      <th>97</th>\n",
       "      <th>98</th>\n",
       "      <th>99</th>\n",
       "      <th>100</th>\n",
       "      <th>101</th>\n",
       "      <th>102</th>\n",
       "      <th>103</th>\n",
       "      <th>104</th>\n",
       "      <th>105</th>\n",
       "    </tr>\n",
       "  </thead>\n",
       "  <tbody>\n",
       "    <tr>\n",
       "      <th>0</th>\n",
       "      <td>96.17383</td>\n",
       "      <td>108.2988</td>\n",
       "      <td>174.7420</td>\n",
       "      <td>159.2380</td>\n",
       "      <td>163.6436</td>\n",
       "      <td>145.4572</td>\n",
       "      <td>177.5400</td>\n",
       "      <td>105.3062</td>\n",
       "      <td>167.5515</td>\n",
       "      <td>88.11328</td>\n",
       "      <td>...</td>\n",
       "      <td>180.6620</td>\n",
       "      <td>185.6920</td>\n",
       "      <td>126.3246</td>\n",
       "      <td>177.2877</td>\n",
       "      <td>113.0322</td>\n",
       "      <td>199.9919</td>\n",
       "      <td>168.0768</td>\n",
       "      <td>178.6139</td>\n",
       "      <td>201.1752</td>\n",
       "      <td>153.7390</td>\n",
       "    </tr>\n",
       "    <tr>\n",
       "      <th>1</th>\n",
       "      <td>96.76311</td>\n",
       "      <td>108.3681</td>\n",
       "      <td>174.5841</td>\n",
       "      <td>159.1861</td>\n",
       "      <td>163.6372</td>\n",
       "      <td>145.4879</td>\n",
       "      <td>177.7650</td>\n",
       "      <td>105.3761</td>\n",
       "      <td>167.6486</td>\n",
       "      <td>86.81970</td>\n",
       "      <td>...</td>\n",
       "      <td>180.8188</td>\n",
       "      <td>185.7704</td>\n",
       "      <td>125.9113</td>\n",
       "      <td>177.3547</td>\n",
       "      <td>112.5648</td>\n",
       "      <td>199.9090</td>\n",
       "      <td>168.0295</td>\n",
       "      <td>178.4102</td>\n",
       "      <td>201.3706</td>\n",
       "      <td>153.7529</td>\n",
       "    </tr>\n",
       "    <tr>\n",
       "      <th>2</th>\n",
       "      <td>97.34932</td>\n",
       "      <td>108.4361</td>\n",
       "      <td>174.4556</td>\n",
       "      <td>159.1272</td>\n",
       "      <td>163.6238</td>\n",
       "      <td>145.5183</td>\n",
       "      <td>177.9906</td>\n",
       "      <td>105.4452</td>\n",
       "      <td>167.7342</td>\n",
       "      <td>85.65844</td>\n",
       "      <td>...</td>\n",
       "      <td>180.9651</td>\n",
       "      <td>185.8555</td>\n",
       "      <td>125.5987</td>\n",
       "      <td>177.4126</td>\n",
       "      <td>111.3727</td>\n",
       "      <td>199.8285</td>\n",
       "      <td>167.9745</td>\n",
       "      <td>178.2195</td>\n",
       "      <td>201.5635</td>\n",
       "      <td>153.7604</td>\n",
       "    </tr>\n",
       "    <tr>\n",
       "      <th>3</th>\n",
       "      <td>97.93384</td>\n",
       "      <td>108.5042</td>\n",
       "      <td>174.3357</td>\n",
       "      <td>159.0721</td>\n",
       "      <td>163.6229</td>\n",
       "      <td>145.5528</td>\n",
       "      <td>178.2196</td>\n",
       "      <td>105.5107</td>\n",
       "      <td>167.8100</td>\n",
       "      <td>84.64813</td>\n",
       "      <td>...</td>\n",
       "      <td>181.1152</td>\n",
       "      <td>185.9351</td>\n",
       "      <td>125.3948</td>\n",
       "      <td>177.4723</td>\n",
       "      <td>108.4301</td>\n",
       "      <td>199.7467</td>\n",
       "      <td>167.9240</td>\n",
       "      <td>178.0705</td>\n",
       "      <td>201.7437</td>\n",
       "      <td>153.7613</td>\n",
       "    </tr>\n",
       "    <tr>\n",
       "      <th>4</th>\n",
       "      <td>98.51336</td>\n",
       "      <td>108.5681</td>\n",
       "      <td>174.2306</td>\n",
       "      <td>158.9737</td>\n",
       "      <td>163.6395</td>\n",
       "      <td>145.5905</td>\n",
       "      <td>178.4324</td>\n",
       "      <td>105.5737</td>\n",
       "      <td>167.8849</td>\n",
       "      <td>83.80443</td>\n",
       "      <td>...</td>\n",
       "      <td>181.2598</td>\n",
       "      <td>185.9948</td>\n",
       "      <td>125.2949</td>\n",
       "      <td>177.5293</td>\n",
       "      <td>105.1093</td>\n",
       "      <td>199.6501</td>\n",
       "      <td>167.8513</td>\n",
       "      <td>177.9159</td>\n",
       "      <td>201.9234</td>\n",
       "      <td>153.7554</td>\n",
       "    </tr>\n",
       "    <tr>\n",
       "      <th>...</th>\n",
       "      <td>...</td>\n",
       "      <td>...</td>\n",
       "      <td>...</td>\n",
       "      <td>...</td>\n",
       "      <td>...</td>\n",
       "      <td>...</td>\n",
       "      <td>...</td>\n",
       "      <td>...</td>\n",
       "      <td>...</td>\n",
       "      <td>...</td>\n",
       "      <td>...</td>\n",
       "      <td>...</td>\n",
       "      <td>...</td>\n",
       "      <td>...</td>\n",
       "      <td>...</td>\n",
       "      <td>...</td>\n",
       "      <td>...</td>\n",
       "      <td>...</td>\n",
       "      <td>...</td>\n",
       "      <td>...</td>\n",
       "      <td>...</td>\n",
       "    </tr>\n",
       "    <tr>\n",
       "      <th>3039</th>\n",
       "      <td>94.53171</td>\n",
       "      <td>102.3036</td>\n",
       "      <td>182.5136</td>\n",
       "      <td>148.4925</td>\n",
       "      <td>143.0031</td>\n",
       "      <td>139.0851</td>\n",
       "      <td>183.3203</td>\n",
       "      <td>107.2557</td>\n",
       "      <td>163.5842</td>\n",
       "      <td>100.70980</td>\n",
       "      <td>...</td>\n",
       "      <td>180.4913</td>\n",
       "      <td>198.2009</td>\n",
       "      <td>192.6270</td>\n",
       "      <td>174.9625</td>\n",
       "      <td>118.9467</td>\n",
       "      <td>201.1888</td>\n",
       "      <td>180.3041</td>\n",
       "      <td>184.2655</td>\n",
       "      <td>203.7540</td>\n",
       "      <td>152.3167</td>\n",
       "    </tr>\n",
       "    <tr>\n",
       "      <th>3040</th>\n",
       "      <td>95.12980</td>\n",
       "      <td>102.2921</td>\n",
       "      <td>182.7436</td>\n",
       "      <td>148.2848</td>\n",
       "      <td>143.0901</td>\n",
       "      <td>139.0980</td>\n",
       "      <td>183.1843</td>\n",
       "      <td>107.2109</td>\n",
       "      <td>164.0312</td>\n",
       "      <td>100.93280</td>\n",
       "      <td>...</td>\n",
       "      <td>180.5391</td>\n",
       "      <td>198.0693</td>\n",
       "      <td>192.1176</td>\n",
       "      <td>175.2638</td>\n",
       "      <td>119.1532</td>\n",
       "      <td>201.3474</td>\n",
       "      <td>180.3362</td>\n",
       "      <td>184.3042</td>\n",
       "      <td>203.9058</td>\n",
       "      <td>152.4458</td>\n",
       "    </tr>\n",
       "    <tr>\n",
       "      <th>3041</th>\n",
       "      <td>95.72232</td>\n",
       "      <td>102.2805</td>\n",
       "      <td>182.9678</td>\n",
       "      <td>148.1548</td>\n",
       "      <td>143.1250</td>\n",
       "      <td>139.1262</td>\n",
       "      <td>182.9915</td>\n",
       "      <td>107.1630</td>\n",
       "      <td>164.3872</td>\n",
       "      <td>101.14470</td>\n",
       "      <td>...</td>\n",
       "      <td>180.5942</td>\n",
       "      <td>197.9429</td>\n",
       "      <td>191.5884</td>\n",
       "      <td>175.5548</td>\n",
       "      <td>119.3467</td>\n",
       "      <td>201.4928</td>\n",
       "      <td>180.3737</td>\n",
       "      <td>184.3433</td>\n",
       "      <td>204.0186</td>\n",
       "      <td>152.5718</td>\n",
       "    </tr>\n",
       "    <tr>\n",
       "      <th>3042</th>\n",
       "      <td>96.31479</td>\n",
       "      <td>102.2690</td>\n",
       "      <td>183.1760</td>\n",
       "      <td>147.8562</td>\n",
       "      <td>143.2103</td>\n",
       "      <td>139.1439</td>\n",
       "      <td>182.8281</td>\n",
       "      <td>107.1125</td>\n",
       "      <td>164.6092</td>\n",
       "      <td>101.34700</td>\n",
       "      <td>...</td>\n",
       "      <td>180.6801</td>\n",
       "      <td>197.8125</td>\n",
       "      <td>191.0758</td>\n",
       "      <td>175.8483</td>\n",
       "      <td>119.5316</td>\n",
       "      <td>201.6354</td>\n",
       "      <td>180.4196</td>\n",
       "      <td>184.3867</td>\n",
       "      <td>204.1487</td>\n",
       "      <td>152.6944</td>\n",
       "    </tr>\n",
       "    <tr>\n",
       "      <th>3043</th>\n",
       "      <td>96.90836</td>\n",
       "      <td>102.2576</td>\n",
       "      <td>183.3807</td>\n",
       "      <td>147.5953</td>\n",
       "      <td>143.2905</td>\n",
       "      <td>139.1743</td>\n",
       "      <td>182.6505</td>\n",
       "      <td>107.0587</td>\n",
       "      <td>164.9642</td>\n",
       "      <td>101.54000</td>\n",
       "      <td>...</td>\n",
       "      <td>180.7428</td>\n",
       "      <td>197.6823</td>\n",
       "      <td>190.5902</td>\n",
       "      <td>176.1458</td>\n",
       "      <td>119.7079</td>\n",
       "      <td>201.7746</td>\n",
       "      <td>180.4779</td>\n",
       "      <td>184.4392</td>\n",
       "      <td>204.2937</td>\n",
       "      <td>152.8132</td>\n",
       "    </tr>\n",
       "  </tbody>\n",
       "</table>\n",
       "<p>3044 rows × 106 columns</p>\n",
       "</div>"
      ],
      "text/plain": [
       "           0         1         2         3         4         5         6    \\\n",
       "0     96.17383  108.2988  174.7420  159.2380  163.6436  145.4572  177.5400   \n",
       "1     96.76311  108.3681  174.5841  159.1861  163.6372  145.4879  177.7650   \n",
       "2     97.34932  108.4361  174.4556  159.1272  163.6238  145.5183  177.9906   \n",
       "3     97.93384  108.5042  174.3357  159.0721  163.6229  145.5528  178.2196   \n",
       "4     98.51336  108.5681  174.2306  158.9737  163.6395  145.5905  178.4324   \n",
       "...        ...       ...       ...       ...       ...       ...       ...   \n",
       "3039  94.53171  102.3036  182.5136  148.4925  143.0031  139.0851  183.3203   \n",
       "3040  95.12980  102.2921  182.7436  148.2848  143.0901  139.0980  183.1843   \n",
       "3041  95.72232  102.2805  182.9678  148.1548  143.1250  139.1262  182.9915   \n",
       "3042  96.31479  102.2690  183.1760  147.8562  143.2103  139.1439  182.8281   \n",
       "3043  96.90836  102.2576  183.3807  147.5953  143.2905  139.1743  182.6505   \n",
       "\n",
       "           7         8          9    ...       96        97        98   \\\n",
       "0     105.3062  167.5515   88.11328  ...  180.6620  185.6920  126.3246   \n",
       "1     105.3761  167.6486   86.81970  ...  180.8188  185.7704  125.9113   \n",
       "2     105.4452  167.7342   85.65844  ...  180.9651  185.8555  125.5987   \n",
       "3     105.5107  167.8100   84.64813  ...  181.1152  185.9351  125.3948   \n",
       "4     105.5737  167.8849   83.80443  ...  181.2598  185.9948  125.2949   \n",
       "...        ...       ...        ...  ...       ...       ...       ...   \n",
       "3039  107.2557  163.5842  100.70980  ...  180.4913  198.2009  192.6270   \n",
       "3040  107.2109  164.0312  100.93280  ...  180.5391  198.0693  192.1176   \n",
       "3041  107.1630  164.3872  101.14470  ...  180.5942  197.9429  191.5884   \n",
       "3042  107.1125  164.6092  101.34700  ...  180.6801  197.8125  191.0758   \n",
       "3043  107.0587  164.9642  101.54000  ...  180.7428  197.6823  190.5902   \n",
       "\n",
       "           99        100       101       102       103       104       105  \n",
       "0     177.2877  113.0322  199.9919  168.0768  178.6139  201.1752  153.7390  \n",
       "1     177.3547  112.5648  199.9090  168.0295  178.4102  201.3706  153.7529  \n",
       "2     177.4126  111.3727  199.8285  167.9745  178.2195  201.5635  153.7604  \n",
       "3     177.4723  108.4301  199.7467  167.9240  178.0705  201.7437  153.7613  \n",
       "4     177.5293  105.1093  199.6501  167.8513  177.9159  201.9234  153.7554  \n",
       "...        ...       ...       ...       ...       ...       ...       ...  \n",
       "3039  174.9625  118.9467  201.1888  180.3041  184.2655  203.7540  152.3167  \n",
       "3040  175.2638  119.1532  201.3474  180.3362  184.3042  203.9058  152.4458  \n",
       "3041  175.5548  119.3467  201.4928  180.3737  184.3433  204.0186  152.5718  \n",
       "3042  175.8483  119.5316  201.6354  180.4196  184.3867  204.1487  152.6944  \n",
       "3043  176.1458  119.7079  201.7746  180.4779  184.4392  204.2937  152.8132  \n",
       "\n",
       "[3044 rows x 106 columns]"
      ]
     },
     "execution_count": 7,
     "metadata": {},
     "output_type": "execute_result"
    }
   ],
   "source": [
    "slugging_df"
   ]
  },
  {
   "cell_type": "code",
   "execution_count": 14,
   "metadata": {},
   "outputs": [
    {
     "name": "stdout",
     "output_type": "stream",
     "text": [
      "freq units: 3.285151E-05 Hz\n"
     ]
    },
    {
     "data": {
      "text/plain": [
       "<AxesSubplot:xlabel='BHP (Bar)', ylabel='count'>"
      ]
     },
     "execution_count": 14,
     "metadata": {},
     "output_type": "execute_result"
    },
    {
     "data": {
      "image/png": "[encoded data removed]",
      "text/plain": [
       "<Figure size 1224x216 with 3 Axes>"
      ]
     },
     "metadata": {
      "needs_background": "light"
     },
     "output_type": "display_data"
    }
   ],
   "source": [
    "from random import gauss\n",
    "from random import seed\n",
    "from pandas.plotting import autocorrelation_plot\n",
    "from statsmodels.graphics.gofplots import qqplot\n",
    "\n",
    "fig_ss_analysis, data = plt.subplots(1, 3, figsize=(17, 3))\n",
    "freq_units = 0.1/len(slugging_df[21])\n",
    "print('freq units: %(units)4E Hz' %{\"units\":(freq_units)})\n",
    "\n",
    "fig_ss_analysis.suptitle('slugging BHP stats')\n",
    "data[0].set_xlabel('time')\n",
    "data[0].set_ylabel('BHP (Bar)')\n",
    "data[1].set_xlabel('freq (%(units).2E Hz)' %{\"units\":(freq_units)})\n",
    "data[1].set_ylabel('power spectrum')\n",
    "data[2].set_xlabel('BHP (Bar)')\n",
    "data[2].set_ylabel('count')\n",
    "\n",
    "data[1].set_xlim(2,1000)\n",
    "data[1].set_yscale('log')\n",
    "data[1].set_xscale('log')\n",
    "\n",
    "ss_BHP = slugging_df[18]\n",
    "\n",
    "fft_ss = np.fft.rfft(ss_BHP)\n",
    "fft_ss_abs = np.abs(fft_ss)\n",
    "power_spectrum_ss = np.square(fft_ss_abs)\n",
    "\n",
    "\n",
    "data[0].plot(ss_BHP)\n",
    "data[1].plot(power_spectrum_ss)\n",
    "ss_BHP.hist()"
   ]
  },
  {
   "cell_type": "code",
   "execution_count": 15,
   "metadata": {},
   "outputs": [],
   "source": [
    "def batch_analyzer(input_df, stride, max_embedding_dimension, max_time_delay):\n",
    "    max_time_delay = int(max_time_delay)\n",
    "    max_embedding_dimension = int(max_embedding_dimension)\n",
    "    homology_dimensions = (0, 1)\n",
    "    VRP = VietorisRipsPersistence(homology_dimensions=homology_dimensions)\n",
    "    pca = PCA(n_components=3)\n",
    "    PE_signal = PersistenceEntropy()\n",
    "    PE_norm = PersistenceEntropy(normalize=True)\n",
    "\n",
    "    entropies = []\n",
    "    norm_entropies = []\n",
    "    diagrams = []\n",
    "    point_clouds_pca = []\n",
    "    i = 0\n",
    "    \n",
    "    print('max time delay:',max_time_delay, 'max dim:',max_embedding_dimension)\n",
    "    \n",
    "    for timeserie in input_df:\n",
    "        \n",
    "        i += 1\n",
    "        optimal_time_delay, optimal_embedding_dimension = takens_embedding_optimal_parameters(\n",
    "            input_df[timeserie], max_time_delay, max_embedding_dimension, stride=stride\n",
    "            )\n",
    "        if optimal_embedding_dimension < 3:\n",
    "            optimal_embedding_dimension = 3\n",
    "            \n",
    "        print('analyzing nr.',i, 'progress:',int(100*i/len(input_df.columns)),'%', 'dim',optimal_embedding_dimension,'delay', optimal_time_delay)\n",
    "    return"
   ]
  },
  {
   "cell_type": "code",
   "execution_count": 17,
   "metadata": {},
   "outputs": [
    {
     "name": "stdout",
     "output_type": "stream",
     "text": [
      "max time delay: 130 max dim: 20\n",
      "analyzing nr. 1 progress: 0 % dim 7 delay 111\n",
      "analyzing nr. 2 progress: 1 % dim 6 delay 130\n",
      "analyzing nr. 3 progress: 2 % dim 6 delay 129\n",
      "analyzing nr. 4 progress: 3 % dim 7 delay 124\n",
      "analyzing nr. 5 progress: 4 % dim 7 delay 126\n",
      "analyzing nr. 6 progress: 5 % dim 7 delay 129\n",
      "analyzing nr. 7 progress: 6 % dim 6 delay 127\n",
      "analyzing nr. 8 progress: 7 % dim 7 delay 124\n",
      "analyzing nr. 9 progress: 8 % dim 7 delay 123\n",
      "analyzing nr. 10 progress: 9 % dim 6 delay 130\n",
      "analyzing nr. 11 progress: 10 % dim 7 delay 130\n",
      "analyzing nr. 12 progress: 11 % dim 8 delay 109\n",
      "analyzing nr. 13 progress: 12 % dim 7 delay 129\n",
      "analyzing nr. 14 progress: 13 % dim 7 delay 125\n",
      "analyzing nr. 15 progress: 14 % dim 6 delay 128\n",
      "analyzing nr. 16 progress: 15 % dim 6 delay 130\n",
      "analyzing nr. 17 progress: 16 % dim 7 delay 122\n",
      "analyzing nr. 18 progress: 16 % dim 9 delay 87\n",
      "analyzing nr. 19 progress: 17 % dim 7 delay 128\n",
      "analyzing nr. 20 progress: 18 % dim 7 delay 127\n",
      "analyzing nr. 21 progress: 19 % dim 7 delay 112\n",
      "analyzing nr. 22 progress: 20 % dim 7 delay 128\n",
      "analyzing nr. 23 progress: 21 % dim 13 delay 63\n",
      "analyzing nr. 24 progress: 22 % dim 8 delay 96\n",
      "analyzing nr. 25 progress: 23 % dim 7 delay 130\n",
      "analyzing nr. 26 progress: 24 % dim 6 delay 130\n",
      "analyzing nr. 27 progress: 25 % dim 6 delay 128\n",
      "analyzing nr. 28 progress: 26 % dim 7 delay 129\n",
      "analyzing nr. 29 progress: 27 % dim 7 delay 127\n",
      "analyzing nr. 30 progress: 28 % dim 8 delay 79\n",
      "analyzing nr. 31 progress: 29 % dim 9 delay 85\n",
      "analyzing nr. 32 progress: 30 % dim 6 delay 129\n",
      "analyzing nr. 33 progress: 31 % dim 10 delay 74\n",
      "analyzing nr. 34 progress: 32 % dim 6 delay 130\n",
      "analyzing nr. 35 progress: 33 % dim 7 delay 130\n",
      "analyzing nr. 36 progress: 33 % dim 7 delay 126\n",
      "analyzing nr. 37 progress: 34 % dim 7 delay 126\n",
      "analyzing nr. 38 progress: 35 % dim 8 delay 106\n",
      "analyzing nr. 39 progress: 36 % dim 11 delay 70\n",
      "analyzing nr. 40 progress: 37 % dim 6 delay 130\n",
      "analyzing nr. 41 progress: 38 % dim 7 delay 130\n",
      "analyzing nr. 42 progress: 39 % dim 7 delay 130\n",
      "analyzing nr. 43 progress: 40 % dim 15 delay 53\n",
      "analyzing nr. 44 progress: 41 % dim 8 delay 111\n",
      "analyzing nr. 45 progress: 42 % dim 9 delay 90\n",
      "analyzing nr. 46 progress: 43 % dim 7 delay 129\n",
      "analyzing nr. 47 progress: 44 % dim 7 delay 125\n",
      "analyzing nr. 48 progress: 45 % dim 7 delay 128\n",
      "analyzing nr. 49 progress: 46 % dim 7 delay 129\n",
      "analyzing nr. 50 progress: 47 % dim 7 delay 130\n",
      "analyzing nr. 51 progress: 48 % dim 6 delay 130\n",
      "analyzing nr. 52 progress: 49 % dim 7 delay 124\n",
      "analyzing nr. 53 progress: 50 % dim 7 delay 124\n",
      "analyzing nr. 54 progress: 50 % dim 7 delay 130\n",
      "analyzing nr. 55 progress: 51 % dim 7 delay 130\n",
      "analyzing nr. 56 progress: 52 % dim 8 delay 105\n",
      "analyzing nr. 57 progress: 53 % dim 7 delay 116\n",
      "analyzing nr. 58 progress: 54 % dim 7 delay 128\n",
      "analyzing nr. 59 progress: 55 % dim 7 delay 114\n",
      "analyzing nr. 60 progress: 56 % dim 7 delay 127\n",
      "analyzing nr. 61 progress: 57 % dim 8 delay 107\n",
      "analyzing nr. 62 progress: 58 % dim 14 delay 59\n",
      "analyzing nr. 63 progress: 59 % dim 9 delay 88\n",
      "analyzing nr. 64 progress: 60 % dim 7 delay 119\n",
      "analyzing nr. 65 progress: 61 % dim 7 delay 125\n",
      "analyzing nr. 66 progress: 62 % dim 7 delay 127\n",
      "analyzing nr. 67 progress: 63 % dim 7 delay 130\n",
      "analyzing nr. 68 progress: 64 % dim 6 delay 129\n",
      "analyzing nr. 69 progress: 65 % dim 7 delay 129\n",
      "analyzing nr. 70 progress: 66 % dim 8 delay 105\n",
      "analyzing nr. 71 progress: 66 % dim 7 delay 129\n",
      "analyzing nr. 72 progress: 67 % dim 6 delay 130\n",
      "analyzing nr. 73 progress: 68 % dim 7 delay 125\n",
      "analyzing nr. 74 progress: 69 % dim 13 delay 48\n",
      "analyzing nr. 75 progress: 70 % dim 13 delay 14\n",
      "analyzing nr. 76 progress: 71 % dim 5 delay 127\n",
      "analyzing nr. 77 progress: 72 % dim 3 delay 12\n",
      "analyzing nr. 78 progress: 73 % dim 8 delay 106\n",
      "analyzing nr. 79 progress: 74 % dim 15 delay 52\n",
      "analyzing nr. 80 progress: 75 % dim 7 delay 130\n",
      "analyzing nr. 81 progress: 76 % dim 8 delay 110\n",
      "analyzing nr. 82 progress: 77 % dim 7 delay 130\n",
      "analyzing nr. 83 progress: 78 % dim 13 delay 63\n",
      "analyzing nr. 84 progress: 79 % dim 7 delay 114\n",
      "analyzing nr. 85 progress: 80 % dim 7 delay 122\n",
      "analyzing nr. 86 progress: 81 % dim 7 delay 125\n",
      "analyzing nr. 87 progress: 82 % dim 6 delay 130\n",
      "analyzing nr. 88 progress: 83 % dim 14 delay 58\n",
      "analyzing nr. 89 progress: 83 % dim 7 delay 110\n",
      "analyzing nr. 90 progress: 84 % dim 6 delay 130\n",
      "analyzing nr. 91 progress: 85 % dim 6 delay 129\n",
      "analyzing nr. 92 progress: 86 % dim 6 delay 130\n",
      "analyzing nr. 93 progress: 87 % dim 7 delay 130\n",
      "analyzing nr. 94 progress: 88 % dim 7 delay 113\n",
      "analyzing nr. 95 progress: 89 % dim 6 delay 128\n",
      "analyzing nr. 96 progress: 90 % dim 7 delay 120\n",
      "analyzing nr. 97 progress: 91 % dim 9 delay 87\n",
      "analyzing nr. 98 progress: 92 % dim 6 delay 123\n",
      "analyzing nr. 99 progress: 93 % dim 7 delay 111\n",
      "analyzing nr. 100 progress: 94 % dim 7 delay 126\n",
      "analyzing nr. 101 progress: 95 % dim 6 delay 128\n",
      "analyzing nr. 102 progress: 96 % dim 7 delay 128\n",
      "analyzing nr. 103 progress: 97 % dim 6 delay 130\n",
      "analyzing nr. 104 progress: 98 % dim 8 delay 100\n",
      "analyzing nr. 105 progress: 99 % dim 8 delay 102\n",
      "analyzing nr. 106 progress: 100 % dim 18 delay 24\n"
     ]
    }
   ],
   "source": [
    "batch_analyzer(slugging_df, 3, 20, 130)"
   ]
  },
  {
   "cell_type": "code",
   "execution_count": 18,
   "metadata": {},
   "outputs": [],
   "source": [
    "TE = TakensEmbedding(time_delay=125, dimension=7, stride=3)\n",
    "homology_dimensions = (0, 1)\n",
    "VRP = VietorisRipsPersistence(homology_dimensions=homology_dimensions)\n",
    "PE = PersistenceEntropy()\n",
    "PE_norm = PersistenceEntropy(normalize=True)\n",
    "Betti = BettiCurve()\n",
    "\n",
    "slugging_point_cloud  = TE.fit_transform(slugging_signals)\n",
    "slugging_diagrams = VRP.fit_transform(slugging_point_cloud)\n",
    "slugging_entropy = PE.fit_transform(slugging_diagrams)\n",
    "slugging_entropynorm = PE_norm.fit_transform(slugging_diagrams)\n",
    "slugging_Betti = Betti.fit_transform(slugging_diagrams)"
   ]
  },
  {
   "cell_type": "code",
   "execution_count": 37,
   "metadata": {},
   "outputs": [
    {
     "data": {
      "text/plain": [
       "[<matplotlib.lines.Line2D at 0x138ab17f0>]"
      ]
     },
     "execution_count": 37,
     "metadata": {},
     "output_type": "execute_result"
    },
    {
     "data": {
      "image/png": "[encoded data removed]",
      "text/plain": [
       "<Figure size 720x576 with 2 Axes>"
      ]
     },
     "metadata": {
      "needs_background": "light"
     },
     "output_type": "display_data"
    }
   ],
   "source": [
    "tmp_entropies = slugging_entropy\n",
    "Entropy_H0 = []\n",
    "Entropy_H1 = []\n",
    "tmp_normalized = slugging_entropynorm\n",
    "Entropy_H0_norm = []\n",
    "Entropy_H1_norm = []\n",
    "\n",
    "for item in tmp_entropies:\n",
    "    Entropy_H0.append(item[0])\n",
    "    Entropy_H1.append(item[1])\n",
    "\n",
    "for item in tmp_normalized:\n",
    "    Entropy_H0_norm.append(item[0])\n",
    "    Entropy_H1_norm.append(item[1])\n",
    "    \n",
    "Entropy_H1_series = pd.Series(Entropy_H1)\n",
    "Entropy_H1_norm_series = pd.Series(Entropy_H1_norm)\n",
    "\n",
    "entropies, ts = plt.subplots(2,figsize=(10,8),sharex = True)\n",
    "\n",
    "entropies.suptitle('Slugging flow dataset persistent entropies')\n",
    "ts[1].set_xlabel(\"# timeseries\")\n",
    "ts[0].set_ylabel('Entropy')\n",
    "ts[1].set_ylabel('normalized  Entropy')\n",
    "\n",
    "degrees = 70\n",
    "plt.xticks(rotation=degrees)\n",
    "\n",
    "ts[0].plot(Entropy_H1,'r-')\n",
    "ts[0].plot(Entropy_H1_series.rolling(20).mean(), 'g-')\n",
    "ts[0].plot(Entropy_H0,'b-')\n",
    "\n",
    "ts[1].plot(Entropy_H1_norm,'r-')\n",
    "ts[1].plot(Entropy_H1_norm_series.rolling(20).mean(), 'g-')\n",
    "ts[1].plot(Entropy_H0_norm,'b-')"
   ]
  },
  {
   "cell_type": "code",
   "execution_count": 55,
   "metadata": {},
   "outputs": [
    {
     "data": {
      "image/png": "[encoded data removed]",
      "text/plain": [
       "<Figure size 720x288 with 2 Axes>"
      ]
     },
     "metadata": {
      "needs_background": "light"
     },
     "output_type": "display_data"
    }
   ],
   "source": [
    "stats_entropy, data = plt.subplots(1, 2,figsize=(10,4))\n",
    "stats_entropy.suptitle('Normal operations dataset persistent entropies')\n",
    "\n",
    "data[0].set_xlabel('Entropy H$_0$')\n",
    "data[0].set_ylabel('count')\n",
    "data[1].set_xlabel(\"Entropy H$_1$\")\n",
    "data[1].set_ylabel('count')\n",
    "\n",
    "#data[0].set_xlim(8,10)\n",
    "#data[1].set_xlim(0,8)\n",
    "data[0].hist(Entropy_H0, bins=25)\n",
    "data[1].hist(Entropy_H1, bins=25)\n",
    "\n",
    "plt.tight_layout()"
   ]
  },
  {
   "cell_type": "code",
   "execution_count": 56,
   "metadata": {},
   "outputs": [
    {
     "data": {
      "image/png": "[encoded data removed]",
      "text/plain": [
       "<Figure size 720x288 with 2 Axes>"
      ]
     },
     "metadata": {
      "needs_background": "light"
     },
     "output_type": "display_data"
    }
   ],
   "source": [
    "stats_entropy, data = plt.subplots(1, 2,figsize=(10,4))\n",
    "stats_entropy.suptitle('Normal operations dataset normalized persistent entropies')\n",
    "\n",
    "data[0].set_xlabel('Normalized Entropy H$_0$')\n",
    "data[0].set_ylabel('count')\n",
    "data[1].set_xlabel(\"Normalized Entropy H$_1$\")\n",
    "data[1].set_ylabel('count')\n",
    "\n",
    "data[0].hist(Entropy_H0_norm, bins=20)\n",
    "data[1].hist(Entropy_H1_norm, bins=20)\n",
    "\n",
    "plt.tight_layout()"
   ]
  },
  {
   "cell_type": "code",
   "execution_count": 34,
   "metadata": {},
   "outputs": [
    {
     "data": {
      "text/plain": [
       "(106, 2)"
      ]
     },
     "execution_count": 34,
     "metadata": {},
     "output_type": "execute_result"
    }
   ],
   "source": [
    "slugging_entropy.shape"
   ]
  },
  {
   "cell_type": "code",
   "execution_count": 28,
   "metadata": {},
   "outputs": [
    {
     "data": {
      "application/vnd.plotly.v1+json": {
       "config": {
        "plotlyServerURL": "https://plot.ly"
       },
       "data": [
        {
         "name": "Mean of Betti curve H_0",
         "type": "scatter",
         "y": [
          46,
          98,
          174,
          24,
          33,
          14,
          172,
          77,
          97,
          110,
          23,
          61,
          25,
          19,
          104,
          151,
          25,
          47,
          9,
          31,
          186,
          25,
          7,
          86,
          115,
          82,
          75,
          24,
          7,
          123,
          45,
          50,
          24,
          52,
          26,
          7,
          27,
          12,
          36,
          25,
          16,
          19,
          8,
          21,
          25,
          18,
          17,
          14,
          29,
          11,
          29,
          19,
          14,
          7,
          43,
          10,
          11,
          14,
          27,
          17,
          9,
          7,
          11,
          23,
          10,
          25,
          23,
          24,
          35,
          33,
          25,
          19,
          19,
          12,
          7,
          22,
          9,
          7,
          12,
          36,
          8,
          20,
          15,
          22,
          111,
          163,
          31,
          22,
          62,
          51,
          94,
          125,
          31,
          7,
          70,
          121,
          169,
          133,
          120,
          120,
          48,
          148,
          103,
          114,
          101,
          7
         ]
        },
        {
         "name": "Median of Betti curve H_0",
         "type": "scatter",
         "y": [
          0,
          0,
          1,
          0,
          8,
          0,
          1.5,
          0,
          0,
          0,
          0,
          0,
          0,
          0,
          26.5,
          0,
          0,
          0,
          0,
          0,
          43,
          0,
          0,
          3,
          0,
          0,
          0,
          0,
          0,
          0,
          0,
          0,
          0,
          0,
          0,
          0,
          0,
          0,
          0,
          0,
          0,
          0,
          0,
          0,
          0,
          0,
          0,
          0,
          0,
          0,
          0,
          0,
          0,
          0,
          0,
          0,
          0,
          0,
          0,
          0,
          0,
          0,
          0,
          0,
          0,
          0,
          0,
          0,
          0,
          0,
          0,
          0,
          0,
          0,
          0,
          0,
          0,
          0,
          0,
          0,
          0,
          0,
          0,
          0,
          0,
          45.5,
          5,
          0,
          0,
          0,
          0,
          0,
          3,
          0,
          0,
          0,
          0,
          13.5,
          0,
          1.5,
          0,
          6,
          0,
          0,
          0,
          0
         ]
        },
        {
         "name": "Mode of Betti curve H_0",
         "type": "scatter",
         "y": [
          0,
          0,
          0,
          0,
          2,
          0,
          0,
          0,
          0,
          0,
          0,
          0,
          0,
          0,
          1,
          0,
          0,
          0,
          0,
          0,
          0,
          0,
          0,
          0,
          0,
          0,
          0,
          0,
          0,
          0,
          0,
          0,
          0,
          0,
          0,
          0,
          0,
          0,
          0,
          0,
          0,
          0,
          0,
          0,
          0,
          0,
          0,
          0,
          0,
          0,
          0,
          0,
          0,
          0,
          0,
          0,
          0,
          0,
          0,
          0,
          0,
          0,
          0,
          0,
          0,
          0,
          0,
          0,
          0,
          0,
          0,
          0,
          0,
          0,
          0,
          0,
          0,
          0,
          0,
          0,
          0,
          0,
          0,
          0,
          0,
          0,
          5,
          0,
          0,
          0,
          0,
          0,
          0,
          0,
          0,
          0,
          0,
          0,
          0,
          0,
          0,
          0,
          0,
          0,
          0,
          0
         ]
        }
       ],
       "layout": {
        "legend": {
         "tracegroupgap": 0
        },
        "margin": {
         "t": 60
        },
        "template": {
         "data": {
          "bar": [
           {
            "error_x": {
             "color": "#2a3f5f"
            },
            "error_y": {
             "color": "#2a3f5f"
            },
            "marker": {
             "line": {
              "color": "#E5ECF6",
              "width": 0.5
             },
             "pattern": {
              "fillmode": "overlay",
              "size": 10,
              "solidity": 0.2
             }
            },
            "type": "bar"
           }
          ],
          "barpolar": [
           {
            "marker": {
             "line": {
              "color": "#E5ECF6",
              "width": 0.5
             },
             "pattern": {
              "fillmode": "overlay",
              "size": 10,
              "solidity": 0.2
             }
            },
            "type": "barpolar"
           }
          ],
          "carpet": [
           {
            "aaxis": {
             "endlinecolor": "#2a3f5f",
             "gridcolor": "white",
             "linecolor": "white",
             "minorgridcolor": "white",
             "startlinecolor": "#2a3f5f"
            },
            "baxis": {
             "endlinecolor": "#2a3f5f",
             "gridcolor": "white",
             "linecolor": "white",
             "minorgridcolor": "white",
             "startlinecolor": "#2a3f5f"
            },
            "type": "carpet"
           }
          ],
          "choropleth": [
           {
            "colorbar": {
             "outlinewidth": 0,
             "ticks": ""
            },
            "type": "choropleth"
           }
          ],
          "contour": [
           {
            "colorbar": {
             "outlinewidth": 0,
             "ticks": ""
            },
            "colorscale": [
             [
              0,
              "#0d0887"
             ],
             [
              0.1111111111111111,
              "#46039f"
             ],
             [
              0.2222222222222222,
              "#7201a8"
             ],
             [
              0.3333333333333333,
              "#9c179e"
             ],
             [
              0.4444444444444444,
              "#bd3786"
             ],
             [
              0.5555555555555556,
              "#d8576b"
             ],
             [
              0.6666666666666666,
              "#ed7953"
             ],
             [
              0.7777777777777778,
              "#fb9f3a"
             ],
             [
              0.8888888888888888,
              "#fdca26"
             ],
             [
              1,
              "#f0f921"
             ]
            ],
            "type": "contour"
           }
          ],
          "contourcarpet": [
           {
            "colorbar": {
             "outlinewidth": 0,
             "ticks": ""
            },
            "type": "contourcarpet"
           }
          ],
          "heatmap": [
           {
            "colorbar": {
             "outlinewidth": 0,
             "ticks": ""
            },
            "colorscale": [
             [
              0,
              "#0d0887"
             ],
             [
              0.1111111111111111,
              "#46039f"
             ],
             [
              0.2222222222222222,
              "#7201a8"
             ],
             [
              0.3333333333333333,
              "#9c179e"
             ],
             [
              0.4444444444444444,
              "#bd3786"
             ],
             [
              0.5555555555555556,
              "#d8576b"
             ],
             [
              0.6666666666666666,
              "#ed7953"
             ],
             [
              0.7777777777777778,
              "#fb9f3a"
             ],
             [
              0.8888888888888888,
              "#fdca26"
             ],
             [
              1,
              "#f0f921"
             ]
            ],
            "type": "heatmap"
           }
          ],
          "heatmapgl": [
           {
            "colorbar": {
             "outlinewidth": 0,
             "ticks": ""
            },
            "colorscale": [
             [
              0,
              "#0d0887"
             ],
             [
              0.1111111111111111,
              "#46039f"
             ],
             [
              0.2222222222222222,
              "#7201a8"
             ],
             [
              0.3333333333333333,
              "#9c179e"
             ],
             [
              0.4444444444444444,
              "#bd3786"
             ],
             [
              0.5555555555555556,
              "#d8576b"
             ],
             [
              0.6666666666666666,
              "#ed7953"
             ],
             [
              0.7777777777777778,
              "#fb9f3a"
             ],
             [
              0.8888888888888888,
              "#fdca26"
             ],
             [
              1,
              "#f0f921"
             ]
            ],
            "type": "heatmapgl"
           }
          ],
          "histogram": [
           {
            "marker": {
             "pattern": {
              "fillmode": "overlay",
              "size": 10,
              "solidity": 0.2
             }
            },
            "type": "histogram"
           }
          ],
          "histogram2d": [
           {
            "colorbar": {
             "outlinewidth": 0,
             "ticks": ""
            },
            "colorscale": [
             [
              0,
              "#0d0887"
             ],
             [
              0.1111111111111111,
              "#46039f"
             ],
             [
              0.2222222222222222,
              "#7201a8"
             ],
             [
              0.3333333333333333,
              "#9c179e"
             ],
             [
              0.4444444444444444,
              "#bd3786"
             ],
             [
              0.5555555555555556,
              "#d8576b"
             ],
             [
              0.6666666666666666,
              "#ed7953"
             ],
             [
              0.7777777777777778,
              "#fb9f3a"
             ],
             [
              0.8888888888888888,
              "#fdca26"
             ],
             [
              1,
              "#f0f921"
             ]
            ],
            "type": "histogram2d"
           }
          ],
          "histogram2dcontour": [
           {
            "colorbar": {
             "outlinewidth": 0,
             "ticks": ""
            },
            "colorscale": [
             [
              0,
              "#0d0887"
             ],
             [
              0.1111111111111111,
              "#46039f"
             ],
             [
              0.2222222222222222,
              "#7201a8"
             ],
             [
              0.3333333333333333,
              "#9c179e"
             ],
             [
              0.4444444444444444,
              "#bd3786"
             ],
             [
              0.5555555555555556,
              "#d8576b"
             ],
             [
              0.6666666666666666,
              "#ed7953"
             ],
             [
              0.7777777777777778,
              "#fb9f3a"
             ],
             [
              0.8888888888888888,
              "#fdca26"
             ],
             [
              1,
              "#f0f921"
             ]
            ],
            "type": "histogram2dcontour"
           }
          ],
          "mesh3d": [
           {
            "colorbar": {
             "outlinewidth": 0,
             "ticks": ""
            },
            "type": "mesh3d"
           }
          ],
          "parcoords": [
           {
            "line": {
             "colorbar": {
              "outlinewidth": 0,
              "ticks": ""
             }
            },
            "type": "parcoords"
           }
          ],
          "pie": [
           {
            "automargin": true,
            "type": "pie"
           }
          ],
          "scatter": [
           {
            "marker": {
             "colorbar": {
              "outlinewidth": 0,
              "ticks": ""
             }
            },
            "type": "scatter"
           }
          ],
          "scatter3d": [
           {
            "line": {
             "colorbar": {
              "outlinewidth": 0,
              "ticks": ""
             }
            },
            "marker": {
             "colorbar": {
              "outlinewidth": 0,
              "ticks": ""
             }
            },
            "type": "scatter3d"
           }
          ],
          "scattercarpet": [
           {
            "marker": {
             "colorbar": {
              "outlinewidth": 0,
              "ticks": ""
             }
            },
            "type": "scattercarpet"
           }
          ],
          "scattergeo": [
           {
            "marker": {
             "colorbar": {
              "outlinewidth": 0,
              "ticks": ""
             }
            },
            "type": "scattergeo"
           }
          ],
          "scattergl": [
           {
            "marker": {
             "colorbar": {
              "outlinewidth": 0,
              "ticks": ""
             }
            },
            "type": "scattergl"
           }
          ],
          "scattermapbox": [
           {
            "marker": {
             "colorbar": {
              "outlinewidth": 0,
              "ticks": ""
             }
            },
            "type": "scattermapbox"
           }
          ],
          "scatterpolar": [
           {
            "marker": {
             "colorbar": {
              "outlinewidth": 0,
              "ticks": ""
             }
            },
            "type": "scatterpolar"
           }
          ],
          "scatterpolargl": [
           {
            "marker": {
             "colorbar": {
              "outlinewidth": 0,
              "ticks": ""
             }
            },
            "type": "scatterpolargl"
           }
          ],
          "scatterternary": [
           {
            "marker": {
             "colorbar": {
              "outlinewidth": 0,
              "ticks": ""
             }
            },
            "type": "scatterternary"
           }
          ],
          "surface": [
           {
            "colorbar": {
             "outlinewidth": 0,
             "ticks": ""
            },
            "colorscale": [
             [
              0,
              "#0d0887"
             ],
             [
              0.1111111111111111,
              "#46039f"
             ],
             [
              0.2222222222222222,
              "#7201a8"
             ],
             [
              0.3333333333333333,
              "#9c179e"
             ],
             [
              0.4444444444444444,
              "#bd3786"
             ],
             [
              0.5555555555555556,
              "#d8576b"
             ],
             [
              0.6666666666666666,
              "#ed7953"
             ],
             [
              0.7777777777777778,
              "#fb9f3a"
             ],
             [
              0.8888888888888888,
              "#fdca26"
             ],
             [
              1,
              "#f0f921"
             ]
            ],
            "type": "surface"
           }
          ],
          "table": [
           {
            "cells": {
             "fill": {
              "color": "#EBF0F8"
             },
             "line": {
              "color": "white"
             }
            },
            "header": {
             "fill": {
              "color": "#C8D4E3"
             },
             "line": {
              "color": "white"
             }
            },
            "type": "table"
           }
          ]
         },
         "layout": {
          "annotationdefaults": {
           "arrowcolor": "#2a3f5f",
           "arrowhead": 0,
           "arrowwidth": 1
          },
          "autotypenumbers": "strict",
          "coloraxis": {
           "colorbar": {
            "outlinewidth": 0,
            "ticks": ""
           }
          },
          "colorscale": {
           "diverging": [
            [
             0,
             "#8e0152"
            ],
            [
             0.1,
             "#c51b7d"
            ],
            [
             0.2,
             "#de77ae"
            ],
            [
             0.3,
             "#f1b6da"
            ],
            [
             0.4,
             "#fde0ef"
            ],
            [
             0.5,
             "#f7f7f7"
            ],
            [
             0.6,
             "#e6f5d0"
            ],
            [
             0.7,
             "#b8e186"
            ],
            [
             0.8,
             "#7fbc41"
            ],
            [
             0.9,
             "#4d9221"
            ],
            [
             1,
             "#276419"
            ]
           ],
           "sequential": [
            [
             0,
             "#0d0887"
            ],
            [
             0.1111111111111111,
             "#46039f"
            ],
            [
             0.2222222222222222,
             "#7201a8"
            ],
            [
             0.3333333333333333,
             "#9c179e"
            ],
            [
             0.4444444444444444,
             "#bd3786"
            ],
            [
             0.5555555555555556,
             "#d8576b"
            ],
            [
             0.6666666666666666,
             "#ed7953"
            ],
            [
             0.7777777777777778,
             "#fb9f3a"
            ],
            [
             0.8888888888888888,
             "#fdca26"
            ],
            [
             1,
             "#f0f921"
            ]
           ],
           "sequentialminus": [
            [
             0,
             "#0d0887"
            ],
            [
             0.1111111111111111,
             "#46039f"
            ],
            [
             0.2222222222222222,
             "#7201a8"
            ],
            [
             0.3333333333333333,
             "#9c179e"
            ],
            [
             0.4444444444444444,
             "#bd3786"
            ],
            [
             0.5555555555555556,
             "#d8576b"
            ],
            [
             0.6666666666666666,
             "#ed7953"
            ],
            [
             0.7777777777777778,
             "#fb9f3a"
            ],
            [
             0.8888888888888888,
             "#fdca26"
            ],
            [
             1,
             "#f0f921"
            ]
           ]
          },
          "colorway": [
           "#636efa",
           "#EF553B",
           "#00cc96",
           "#ab63fa",
           "#FFA15A",
           "#19d3f3",
           "#FF6692",
           "#B6E880",
           "#FF97FF",
           "#FECB52"
          ],
          "font": {
           "color": "#2a3f5f"
          },
          "geo": {
           "bgcolor": "white",
           "lakecolor": "white",
           "landcolor": "#E5ECF6",
           "showlakes": true,
           "showland": true,
           "subunitcolor": "white"
          },
          "hoverlabel": {
           "align": "left"
          },
          "hovermode": "closest",
          "mapbox": {
           "style": "light"
          },
          "paper_bgcolor": "white",
          "plot_bgcolor": "#E5ECF6",
          "polar": {
           "angularaxis": {
            "gridcolor": "white",
            "linecolor": "white",
            "ticks": ""
           },
           "bgcolor": "#E5ECF6",
           "radialaxis": {
            "gridcolor": "white",
            "linecolor": "white",
            "ticks": ""
           }
          },
          "scene": {
           "xaxis": {
            "backgroundcolor": "#E5ECF6",
            "gridcolor": "white",
            "gridwidth": 2,
            "linecolor": "white",
            "showbackground": true,
            "ticks": "",
            "zerolinecolor": "white"
           },
           "yaxis": {
            "backgroundcolor": "#E5ECF6",
            "gridcolor": "white",
            "gridwidth": 2,
            "linecolor": "white",
            "showbackground": true,
            "ticks": "",
            "zerolinecolor": "white"
           },
           "zaxis": {
            "backgroundcolor": "#E5ECF6",
            "gridcolor": "white",
            "gridwidth": 2,
            "linecolor": "white",
            "showbackground": true,
            "ticks": "",
            "zerolinecolor": "white"
           }
          },
          "shapedefaults": {
           "line": {
            "color": "#2a3f5f"
           }
          },
          "ternary": {
           "aaxis": {
            "gridcolor": "white",
            "linecolor": "white",
            "ticks": ""
           },
           "baxis": {
            "gridcolor": "white",
            "linecolor": "white",
            "ticks": ""
           },
           "bgcolor": "#E5ECF6",
           "caxis": {
            "gridcolor": "white",
            "linecolor": "white",
            "ticks": ""
           }
          },
          "title": {
           "x": 0.05
          },
          "xaxis": {
           "automargin": true,
           "gridcolor": "white",
           "linecolor": "white",
           "ticks": "",
           "title": {
            "standoff": 15
           },
           "zerolinecolor": "white",
           "zerolinewidth": 2
          },
          "yaxis": {
           "automargin": true,
           "gridcolor": "white",
           "linecolor": "white",
           "ticks": "",
           "title": {
            "standoff": 15
           },
           "zerolinecolor": "white",
           "zerolinewidth": 2
          }
         }
        },
        "xaxis": {
         "anchor": "y",
         "domain": [
          0,
          1
         ]
        },
        "yaxis": {
         "anchor": "x",
         "domain": [
          0,
          1
         ]
        }
       }
      },
      "text/html": [
       "<div>                            <div id=\"a431602f-0b27-490c-9f34-3eb09de6abbc\" class=\"plotly-graph-div\" style=\"height:525px; width:100%;\"></div>            <script type=\"text/javascript\">                require([\"plotly\"], function(Plotly) {                    window.PLOTLYENV=window.PLOTLYENV || {};                                    if (document.getElementById(\"a431602f-0b27-490c-9f34-3eb09de6abbc\")) {                    Plotly.newPlot(                        \"a431602f-0b27-490c-9f34-3eb09de6abbc\",                        [{\"name\":\"Mean of Betti curve H_0\",\"type\":\"scatter\",\"y\":[46,98,174,24,33,14,172,77,97,110,23,61,25,19,104,151,25,47,9,31,186,25,7,86,115,82,75,24,7,123,45,50,24,52,26,7,27,12,36,25,16,19,8,21,25,18,17,14,29,11,29,19,14,7,43,10,11,14,27,17,9,7,11,23,10,25,23,24,35,33,25,19,19,12,7,22,9,7,12,36,8,20,15,22,111,163,31,22,62,51,94,125,31,7,70,121,169,133,120,120,48,148,103,114,101,7]},{\"name\":\"Median of Betti curve H_0\",\"type\":\"scatter\",\"y\":[0.0,0.0,1.0,0.0,8.0,0.0,1.5,0.0,0.0,0.0,0.0,0.0,0.0,0.0,26.5,0.0,0.0,0.0,0.0,0.0,43.0,0.0,0.0,3.0,0.0,0.0,0.0,0.0,0.0,0.0,0.0,0.0,0.0,0.0,0.0,0.0,0.0,0.0,0.0,0.0,0.0,0.0,0.0,0.0,0.0,0.0,0.0,0.0,0.0,0.0,0.0,0.0,0.0,0.0,0.0,0.0,0.0,0.0,0.0,0.0,0.0,0.0,0.0,0.0,0.0,0.0,0.0,0.0,0.0,0.0,0.0,0.0,0.0,0.0,0.0,0.0,0.0,0.0,0.0,0.0,0.0,0.0,0.0,0.0,0.0,45.5,5.0,0.0,0.0,0.0,0.0,0.0,3.0,0.0,0.0,0.0,0.0,13.5,0.0,1.5,0.0,6.0,0.0,0.0,0.0,0.0]},{\"name\":\"Mode of Betti curve H_0\",\"type\":\"scatter\",\"y\":[0,0,0,0,2,0,0,0,0,0,0,0,0,0,1,0,0,0,0,0,0,0,0,0,0,0,0,0,0,0,0,0,0,0,0,0,0,0,0,0,0,0,0,0,0,0,0,0,0,0,0,0,0,0,0,0,0,0,0,0,0,0,0,0,0,0,0,0,0,0,0,0,0,0,0,0,0,0,0,0,0,0,0,0,0,0,5,0,0,0,0,0,0,0,0,0,0,0,0,0,0,0,0,0,0,0]}],                        {\"legend\":{\"tracegroupgap\":0},\"margin\":{\"t\":60},\"template\":{\"data\":{\"bar\":[{\"error_x\":{\"color\":\"#2a3f5f\"},\"error_y\":{\"color\":\"#2a3f5f\"},\"marker\":{\"line\":{\"color\":\"#E5ECF6\",\"width\":0.5},\"pattern\":{\"fillmode\":\"overlay\",\"size\":10,\"solidity\":0.2}},\"type\":\"bar\"}],\"barpolar\":[{\"marker\":{\"line\":{\"color\":\"#E5ECF6\",\"width\":0.5},\"pattern\":{\"fillmode\":\"overlay\",\"size\":10,\"solidity\":0.2}},\"type\":\"barpolar\"}],\"carpet\":[{\"aaxis\":{\"endlinecolor\":\"#2a3f5f\",\"gridcolor\":\"white\",\"linecolor\":\"white\",\"minorgridcolor\":\"white\",\"startlinecolor\":\"#2a3f5f\"},\"baxis\":{\"endlinecolor\":\"#2a3f5f\",\"gridcolor\":\"white\",\"linecolor\":\"white\",\"minorgridcolor\":\"white\",\"startlinecolor\":\"#2a3f5f\"},\"type\":\"carpet\"}],\"choropleth\":[{\"colorbar\":{\"outlinewidth\":0,\"ticks\":\"\"},\"type\":\"choropleth\"}],\"contour\":[{\"colorbar\":{\"outlinewidth\":0,\"ticks\":\"\"},\"colorscale\":[[0.0,\"#0d0887\"],[0.1111111111111111,\"#46039f\"],[0.2222222222222222,\"#7201a8\"],[0.3333333333333333,\"#9c179e\"],[0.4444444444444444,\"#bd3786\"],[0.5555555555555556,\"#d8576b\"],[0.6666666666666666,\"#ed7953\"],[0.7777777777777778,\"#fb9f3a\"],[0.8888888888888888,\"#fdca26\"],[1.0,\"#f0f921\"]],\"type\":\"contour\"}],\"contourcarpet\":[{\"colorbar\":{\"outlinewidth\":0,\"ticks\":\"\"},\"type\":\"contourcarpet\"}],\"heatmap\":[{\"colorbar\":{\"outlinewidth\":0,\"ticks\":\"\"},\"colorscale\":[[0.0,\"#0d0887\"],[0.1111111111111111,\"#46039f\"],[0.2222222222222222,\"#7201a8\"],[0.3333333333333333,\"#9c179e\"],[0.4444444444444444,\"#bd3786\"],[0.5555555555555556,\"#d8576b\"],[0.6666666666666666,\"#ed7953\"],[0.7777777777777778,\"#fb9f3a\"],[0.8888888888888888,\"#fdca26\"],[1.0,\"#f0f921\"]],\"type\":\"heatmap\"}],\"heatmapgl\":[{\"colorbar\":{\"outlinewidth\":0,\"ticks\":\"\"},\"colorscale\":[[0.0,\"#0d0887\"],[0.1111111111111111,\"#46039f\"],[0.2222222222222222,\"#7201a8\"],[0.3333333333333333,\"#9c179e\"],[0.4444444444444444,\"#bd3786\"],[0.5555555555555556,\"#d8576b\"],[0.6666666666666666,\"#ed7953\"],[0.7777777777777778,\"#fb9f3a\"],[0.8888888888888888,\"#fdca26\"],[1.0,\"#f0f921\"]],\"type\":\"heatmapgl\"}],\"histogram\":[{\"marker\":{\"pattern\":{\"fillmode\":\"overlay\",\"size\":10,\"solidity\":0.2}},\"type\":\"histogram\"}],\"histogram2d\":[{\"colorbar\":{\"outlinewidth\":0,\"ticks\":\"\"},\"colorscale\":[[0.0,\"#0d0887\"],[0.1111111111111111,\"#46039f\"],[0.2222222222222222,\"#7201a8\"],[0.3333333333333333,\"#9c179e\"],[0.4444444444444444,\"#bd3786\"],[0.5555555555555556,\"#d8576b\"],[0.6666666666666666,\"#ed7953\"],[0.7777777777777778,\"#fb9f3a\"],[0.8888888888888888,\"#fdca26\"],[1.0,\"#f0f921\"]],\"type\":\"histogram2d\"}],\"histogram2dcontour\":[{\"colorbar\":{\"outlinewidth\":0,\"ticks\":\"\"},\"colorscale\":[[0.0,\"#0d0887\"],[0.1111111111111111,\"#46039f\"],[0.2222222222222222,\"#7201a8\"],[0.3333333333333333,\"#9c179e\"],[0.4444444444444444,\"#bd3786\"],[0.5555555555555556,\"#d8576b\"],[0.6666666666666666,\"#ed7953\"],[0.7777777777777778,\"#fb9f3a\"],[0.8888888888888888,\"#fdca26\"],[1.0,\"#f0f921\"]],\"type\":\"histogram2dcontour\"}],\"mesh3d\":[{\"colorbar\":{\"outlinewidth\":0,\"ticks\":\"\"},\"type\":\"mesh3d\"}],\"parcoords\":[{\"line\":{\"colorbar\":{\"outlinewidth\":0,\"ticks\":\"\"}},\"type\":\"parcoords\"}],\"pie\":[{\"automargin\":true,\"type\":\"pie\"}],\"scatter\":[{\"marker\":{\"colorbar\":{\"outlinewidth\":0,\"ticks\":\"\"}},\"type\":\"scatter\"}],\"scatter3d\":[{\"line\":{\"colorbar\":{\"outlinewidth\":0,\"ticks\":\"\"}},\"marker\":{\"colorbar\":{\"outlinewidth\":0,\"ticks\":\"\"}},\"type\":\"scatter3d\"}],\"scattercarpet\":[{\"marker\":{\"colorbar\":{\"outlinewidth\":0,\"ticks\":\"\"}},\"type\":\"scattercarpet\"}],\"scattergeo\":[{\"marker\":{\"colorbar\":{\"outlinewidth\":0,\"ticks\":\"\"}},\"type\":\"scattergeo\"}],\"scattergl\":[{\"marker\":{\"colorbar\":{\"outlinewidth\":0,\"ticks\":\"\"}},\"type\":\"scattergl\"}],\"scattermapbox\":[{\"marker\":{\"colorbar\":{\"outlinewidth\":0,\"ticks\":\"\"}},\"type\":\"scattermapbox\"}],\"scatterpolar\":[{\"marker\":{\"colorbar\":{\"outlinewidth\":0,\"ticks\":\"\"}},\"type\":\"scatterpolar\"}],\"scatterpolargl\":[{\"marker\":{\"colorbar\":{\"outlinewidth\":0,\"ticks\":\"\"}},\"type\":\"scatterpolargl\"}],\"scatterternary\":[{\"marker\":{\"colorbar\":{\"outlinewidth\":0,\"ticks\":\"\"}},\"type\":\"scatterternary\"}],\"surface\":[{\"colorbar\":{\"outlinewidth\":0,\"ticks\":\"\"},\"colorscale\":[[0.0,\"#0d0887\"],[0.1111111111111111,\"#46039f\"],[0.2222222222222222,\"#7201a8\"],[0.3333333333333333,\"#9c179e\"],[0.4444444444444444,\"#bd3786\"],[0.5555555555555556,\"#d8576b\"],[0.6666666666666666,\"#ed7953\"],[0.7777777777777778,\"#fb9f3a\"],[0.8888888888888888,\"#fdca26\"],[1.0,\"#f0f921\"]],\"type\":\"surface\"}],\"table\":[{\"cells\":{\"fill\":{\"color\":\"#EBF0F8\"},\"line\":{\"color\":\"white\"}},\"header\":{\"fill\":{\"color\":\"#C8D4E3\"},\"line\":{\"color\":\"white\"}},\"type\":\"table\"}]},\"layout\":{\"annotationdefaults\":{\"arrowcolor\":\"#2a3f5f\",\"arrowhead\":0,\"arrowwidth\":1},\"autotypenumbers\":\"strict\",\"coloraxis\":{\"colorbar\":{\"outlinewidth\":0,\"ticks\":\"\"}},\"colorscale\":{\"diverging\":[[0,\"#8e0152\"],[0.1,\"#c51b7d\"],[0.2,\"#de77ae\"],[0.3,\"#f1b6da\"],[0.4,\"#fde0ef\"],[0.5,\"#f7f7f7\"],[0.6,\"#e6f5d0\"],[0.7,\"#b8e186\"],[0.8,\"#7fbc41\"],[0.9,\"#4d9221\"],[1,\"#276419\"]],\"sequential\":[[0.0,\"#0d0887\"],[0.1111111111111111,\"#46039f\"],[0.2222222222222222,\"#7201a8\"],[0.3333333333333333,\"#9c179e\"],[0.4444444444444444,\"#bd3786\"],[0.5555555555555556,\"#d8576b\"],[0.6666666666666666,\"#ed7953\"],[0.7777777777777778,\"#fb9f3a\"],[0.8888888888888888,\"#fdca26\"],[1.0,\"#f0f921\"]],\"sequentialminus\":[[0.0,\"#0d0887\"],[0.1111111111111111,\"#46039f\"],[0.2222222222222222,\"#7201a8\"],[0.3333333333333333,\"#9c179e\"],[0.4444444444444444,\"#bd3786\"],[0.5555555555555556,\"#d8576b\"],[0.6666666666666666,\"#ed7953\"],[0.7777777777777778,\"#fb9f3a\"],[0.8888888888888888,\"#fdca26\"],[1.0,\"#f0f921\"]]},\"colorway\":[\"#636efa\",\"#EF553B\",\"#00cc96\",\"#ab63fa\",\"#FFA15A\",\"#19d3f3\",\"#FF6692\",\"#B6E880\",\"#FF97FF\",\"#FECB52\"],\"font\":{\"color\":\"#2a3f5f\"},\"geo\":{\"bgcolor\":\"white\",\"lakecolor\":\"white\",\"landcolor\":\"#E5ECF6\",\"showlakes\":true,\"showland\":true,\"subunitcolor\":\"white\"},\"hoverlabel\":{\"align\":\"left\"},\"hovermode\":\"closest\",\"mapbox\":{\"style\":\"light\"},\"paper_bgcolor\":\"white\",\"plot_bgcolor\":\"#E5ECF6\",\"polar\":{\"angularaxis\":{\"gridcolor\":\"white\",\"linecolor\":\"white\",\"ticks\":\"\"},\"bgcolor\":\"#E5ECF6\",\"radialaxis\":{\"gridcolor\":\"white\",\"linecolor\":\"white\",\"ticks\":\"\"}},\"scene\":{\"xaxis\":{\"backgroundcolor\":\"#E5ECF6\",\"gridcolor\":\"white\",\"gridwidth\":2,\"linecolor\":\"white\",\"showbackground\":true,\"ticks\":\"\",\"zerolinecolor\":\"white\"},\"yaxis\":{\"backgroundcolor\":\"#E5ECF6\",\"gridcolor\":\"white\",\"gridwidth\":2,\"linecolor\":\"white\",\"showbackground\":true,\"ticks\":\"\",\"zerolinecolor\":\"white\"},\"zaxis\":{\"backgroundcolor\":\"#E5ECF6\",\"gridcolor\":\"white\",\"gridwidth\":2,\"linecolor\":\"white\",\"showbackground\":true,\"ticks\":\"\",\"zerolinecolor\":\"white\"}},\"shapedefaults\":{\"line\":{\"color\":\"#2a3f5f\"}},\"ternary\":{\"aaxis\":{\"gridcolor\":\"white\",\"linecolor\":\"white\",\"ticks\":\"\"},\"baxis\":{\"gridcolor\":\"white\",\"linecolor\":\"white\",\"ticks\":\"\"},\"bgcolor\":\"#E5ECF6\",\"caxis\":{\"gridcolor\":\"white\",\"linecolor\":\"white\",\"ticks\":\"\"}},\"title\":{\"x\":0.05},\"xaxis\":{\"automargin\":true,\"gridcolor\":\"white\",\"linecolor\":\"white\",\"ticks\":\"\",\"title\":{\"standoff\":15},\"zerolinecolor\":\"white\",\"zerolinewidth\":2},\"yaxis\":{\"automargin\":true,\"gridcolor\":\"white\",\"linecolor\":\"white\",\"ticks\":\"\",\"title\":{\"standoff\":15},\"zerolinecolor\":\"white\",\"zerolinewidth\":2}}},\"xaxis\":{\"anchor\":\"y\",\"domain\":[0.0,1.0]},\"yaxis\":{\"anchor\":\"x\",\"domain\":[0.0,1.0]}},                        {\"responsive\": true}                    ).then(function(){\n",
       "                            \n",
       "var gd = document.getElementById('a431602f-0b27-490c-9f34-3eb09de6abbc');\n",
       "var x = new MutationObserver(function (mutations, observer) {{\n",
       "        var display = window.getComputedStyle(gd).display;\n",
       "        if (!display || display === 'none') {{\n",
       "            console.log([gd, 'removed!']);\n",
       "            Plotly.purge(gd);\n",
       "            observer.disconnect();\n",
       "        }}\n",
       "}});\n",
       "\n",
       "// Listen for the removal of the full notebook cells\n",
       "var notebookContainer = gd.closest('#notebook-container');\n",
       "if (notebookContainer) {{\n",
       "    x.observe(notebookContainer, {childList: true});\n",
       "}}\n",
       "\n",
       "// Listen for the clearing of the current output cell\n",
       "var outputEl = gd.closest('.output');\n",
       "if (outputEl) {{\n",
       "    x.observe(outputEl, {childList: true});\n",
       "}}\n",
       "\n",
       "                        })                };                });            </script>        </div>"
      ]
     },
     "metadata": {},
     "output_type": "display_data"
    }
   ],
   "source": [
    "import statistics as stats\n",
    "meanBettiH0 = []\n",
    "medianBettiH0 = []\n",
    "modeBettiH0 = []\n",
    "\n",
    "for i in range(len(slugging_Betti[:,0,0])):\n",
    "    meanBettiH0.append(stats.mean(slugging_Betti[i,0,:]))\n",
    "    medianBettiH0.append(stats.median(slugging_Betti[i,0,:]))\n",
    "    modeBettiH0.append(stats.mode(slugging_Betti[i,0,:]))\n",
    "    \n",
    "    \n",
    "figBetti = px.line()\n",
    "figBetti.add_scatter(y=(meanBettiH0), name=\"Mean of Betti curve H_0\")\n",
    "figBetti.add_scatter(y=(medianBettiH0), name=\"Median of Betti curve H_0\")\n",
    "figBetti.add_scatter(y=(modeBettiH0),name=\"Mode of Betti curve H_0\")\n",
    "figBetti.show()"
   ]
  },
  {
   "cell_type": "code",
   "execution_count": 27,
   "metadata": {},
   "outputs": [
    {
     "data": {
      "application/vnd.plotly.v1+json": {
       "config": {
        "plotlyServerURL": "https://plot.ly"
       },
       "data": [
        {
         "name": "Mean of Betti curve H_1",
         "type": "scatter",
         "y": [
          1,
          3,
          6,
          0,
          0,
          0,
          7,
          2,
          3,
          4,
          0,
          1,
          0,
          0,
          2,
          5,
          0,
          1,
          0,
          0,
          7,
          1,
          0,
          2,
          4,
          3,
          3,
          1,
          0,
          3,
          0,
          1,
          0,
          1,
          1,
          0,
          0,
          0,
          0,
          0,
          0,
          0,
          0,
          0,
          0,
          0,
          0,
          0,
          0,
          0,
          0,
          0,
          0,
          0,
          1,
          0,
          0,
          0,
          0,
          0,
          0,
          0,
          0,
          0,
          0,
          0,
          1,
          1,
          0,
          0,
          1,
          0,
          0,
          0,
          0,
          0,
          0,
          0,
          0,
          0,
          0,
          0,
          0,
          0,
          4,
          5,
          0,
          0,
          2,
          1,
          3,
          4,
          0,
          0,
          2,
          5,
          8,
          4,
          2,
          3,
          0,
          5,
          3,
          2,
          2,
          0
         ]
        },
        {
         "name": "Median of Betti curve H_1",
         "type": "scatter",
         "y": [
          1,
          0,
          1,
          0.5,
          0,
          0,
          0,
          0,
          0,
          0,
          0,
          1,
          1,
          0,
          1,
          0,
          0,
          1,
          0,
          0,
          0,
          1,
          0,
          0,
          0,
          0,
          0,
          1,
          0,
          0,
          1,
          0,
          0,
          0,
          1,
          0,
          0,
          0,
          0,
          1,
          0.5,
          0,
          0,
          0,
          0,
          0,
          0,
          0,
          0,
          0,
          0,
          0,
          0,
          0,
          0,
          0,
          0,
          0,
          0,
          0,
          0,
          0,
          0,
          0,
          0,
          0,
          1,
          1,
          0,
          0,
          1,
          1,
          0,
          0,
          0,
          0,
          0,
          0,
          0,
          1,
          0,
          0,
          0,
          1,
          1,
          0,
          0,
          1,
          0,
          0,
          0,
          0,
          0,
          0,
          0,
          0,
          0,
          3,
          1,
          2,
          1,
          0,
          0,
          0,
          0,
          0
         ]
        },
        {
         "name": "Mode of Betti curve H_1",
         "type": "scatter",
         "y": [
          1,
          0,
          0,
          0,
          0,
          0,
          0,
          0,
          0,
          0,
          0,
          1,
          0,
          0,
          0,
          0,
          0,
          1,
          0,
          0,
          0,
          1,
          0,
          0,
          0,
          0,
          0,
          1,
          0,
          0,
          1,
          0,
          0,
          0,
          0,
          0,
          0,
          0,
          0,
          1,
          0,
          0,
          0,
          0,
          0,
          0,
          0,
          0,
          0,
          0,
          0,
          0,
          0,
          0,
          0,
          0,
          0,
          0,
          0,
          0,
          0,
          0,
          0,
          0,
          0,
          0,
          1,
          1,
          0,
          0,
          0,
          1,
          0,
          0,
          0,
          0,
          0,
          0,
          0,
          1,
          0,
          0,
          0,
          1,
          0,
          0,
          0,
          1,
          0,
          0,
          0,
          0,
          0,
          0,
          0,
          0,
          0,
          0,
          0,
          0,
          0,
          0,
          0,
          0,
          0,
          0
         ]
        }
       ],
       "layout": {
        "legend": {
         "tracegroupgap": 0
        },
        "margin": {
         "t": 60
        },
        "template": {
         "data": {
          "bar": [
           {
            "error_x": {
             "color": "#2a3f5f"
            },
            "error_y": {
             "color": "#2a3f5f"
            },
            "marker": {
             "line": {
              "color": "#E5ECF6",
              "width": 0.5
             },
             "pattern": {
              "fillmode": "overlay",
              "size": 10,
              "solidity": 0.2
             }
            },
            "type": "bar"
           }
          ],
          "barpolar": [
           {
            "marker": {
             "line": {
              "color": "#E5ECF6",
              "width": 0.5
             },
             "pattern": {
              "fillmode": "overlay",
              "size": 10,
              "solidity": 0.2
             }
            },
            "type": "barpolar"
           }
          ],
          "carpet": [
           {
            "aaxis": {
             "endlinecolor": "#2a3f5f",
             "gridcolor": "white",
             "linecolor": "white",
             "minorgridcolor": "white",
             "startlinecolor": "#2a3f5f"
            },
            "baxis": {
             "endlinecolor": "#2a3f5f",
             "gridcolor": "white",
             "linecolor": "white",
             "minorgridcolor": "white",
             "startlinecolor": "#2a3f5f"
            },
            "type": "carpet"
           }
          ],
          "choropleth": [
           {
            "colorbar": {
             "outlinewidth": 0,
             "ticks": ""
            },
            "type": "choropleth"
           }
          ],
          "contour": [
           {
            "colorbar": {
             "outlinewidth": 0,
             "ticks": ""
            },
            "colorscale": [
             [
              0,
              "#0d0887"
             ],
             [
              0.1111111111111111,
              "#46039f"
             ],
             [
              0.2222222222222222,
              "#7201a8"
             ],
             [
              0.3333333333333333,
              "#9c179e"
             ],
             [
              0.4444444444444444,
              "#bd3786"
             ],
             [
              0.5555555555555556,
              "#d8576b"
             ],
             [
              0.6666666666666666,
              "#ed7953"
             ],
             [
              0.7777777777777778,
              "#fb9f3a"
             ],
             [
              0.8888888888888888,
              "#fdca26"
             ],
             [
              1,
              "#f0f921"
             ]
            ],
            "type": "contour"
           }
          ],
          "contourcarpet": [
           {
            "colorbar": {
             "outlinewidth": 0,
             "ticks": ""
            },
            "type": "contourcarpet"
           }
          ],
          "heatmap": [
           {
            "colorbar": {
             "outlinewidth": 0,
             "ticks": ""
            },
            "colorscale": [
             [
              0,
              "#0d0887"
             ],
             [
              0.1111111111111111,
              "#46039f"
             ],
             [
              0.2222222222222222,
              "#7201a8"
             ],
             [
              0.3333333333333333,
              "#9c179e"
             ],
             [
              0.4444444444444444,
              "#bd3786"
             ],
             [
              0.5555555555555556,
              "#d8576b"
             ],
             [
              0.6666666666666666,
              "#ed7953"
             ],
             [
              0.7777777777777778,
              "#fb9f3a"
             ],
             [
              0.8888888888888888,
              "#fdca26"
             ],
             [
              1,
              "#f0f921"
             ]
            ],
            "type": "heatmap"
           }
          ],
          "heatmapgl": [
           {
            "colorbar": {
             "outlinewidth": 0,
             "ticks": ""
            },
            "colorscale": [
             [
              0,
              "#0d0887"
             ],
             [
              0.1111111111111111,
              "#46039f"
             ],
             [
              0.2222222222222222,
              "#7201a8"
             ],
             [
              0.3333333333333333,
              "#9c179e"
             ],
             [
              0.4444444444444444,
              "#bd3786"
             ],
             [
              0.5555555555555556,
              "#d8576b"
             ],
             [
              0.6666666666666666,
              "#ed7953"
             ],
             [
              0.7777777777777778,
              "#fb9f3a"
             ],
             [
              0.8888888888888888,
              "#fdca26"
             ],
             [
              1,
              "#f0f921"
             ]
            ],
            "type": "heatmapgl"
           }
          ],
          "histogram": [
           {
            "marker": {
             "pattern": {
              "fillmode": "overlay",
              "size": 10,
              "solidity": 0.2
             }
            },
            "type": "histogram"
           }
          ],
          "histogram2d": [
           {
            "colorbar": {
             "outlinewidth": 0,
             "ticks": ""
            },
            "colorscale": [
             [
              0,
              "#0d0887"
             ],
             [
              0.1111111111111111,
              "#46039f"
             ],
             [
              0.2222222222222222,
              "#7201a8"
             ],
             [
              0.3333333333333333,
              "#9c179e"
             ],
             [
              0.4444444444444444,
              "#bd3786"
             ],
             [
              0.5555555555555556,
              "#d8576b"
             ],
             [
              0.6666666666666666,
              "#ed7953"
             ],
             [
              0.7777777777777778,
              "#fb9f3a"
             ],
             [
              0.8888888888888888,
              "#fdca26"
             ],
             [
              1,
              "#f0f921"
             ]
            ],
            "type": "histogram2d"
           }
          ],
          "histogram2dcontour": [
           {
            "colorbar": {
             "outlinewidth": 0,
             "ticks": ""
            },
            "colorscale": [
             [
              0,
              "#0d0887"
             ],
             [
              0.1111111111111111,
              "#46039f"
             ],
             [
              0.2222222222222222,
              "#7201a8"
             ],
             [
              0.3333333333333333,
              "#9c179e"
             ],
             [
              0.4444444444444444,
              "#bd3786"
             ],
             [
              0.5555555555555556,
              "#d8576b"
             ],
             [
              0.6666666666666666,
              "#ed7953"
             ],
             [
              0.7777777777777778,
              "#fb9f3a"
             ],
             [
              0.8888888888888888,
              "#fdca26"
             ],
             [
              1,
              "#f0f921"
             ]
            ],
            "type": "histogram2dcontour"
           }
          ],
          "mesh3d": [
           {
            "colorbar": {
             "outlinewidth": 0,
             "ticks": ""
            },
            "type": "mesh3d"
           }
          ],
          "parcoords": [
           {
            "line": {
             "colorbar": {
              "outlinewidth": 0,
              "ticks": ""
             }
            },
            "type": "parcoords"
           }
          ],
          "pie": [
           {
            "automargin": true,
            "type": "pie"
           }
          ],
          "scatter": [
           {
            "marker": {
             "colorbar": {
              "outlinewidth": 0,
              "ticks": ""
             }
            },
            "type": "scatter"
           }
          ],
          "scatter3d": [
           {
            "line": {
             "colorbar": {
              "outlinewidth": 0,
              "ticks": ""
             }
            },
            "marker": {
             "colorbar": {
              "outlinewidth": 0,
              "ticks": ""
             }
            },
            "type": "scatter3d"
           }
          ],
          "scattercarpet": [
           {
            "marker": {
             "colorbar": {
              "outlinewidth": 0,
              "ticks": ""
             }
            },
            "type": "scattercarpet"
           }
          ],
          "scattergeo": [
           {
            "marker": {
             "colorbar": {
              "outlinewidth": 0,
              "ticks": ""
             }
            },
            "type": "scattergeo"
           }
          ],
          "scattergl": [
           {
            "marker": {
             "colorbar": {
              "outlinewidth": 0,
              "ticks": ""
             }
            },
            "type": "scattergl"
           }
          ],
          "scattermapbox": [
           {
            "marker": {
             "colorbar": {
              "outlinewidth": 0,
              "ticks": ""
             }
            },
            "type": "scattermapbox"
           }
          ],
          "scatterpolar": [
           {
            "marker": {
             "colorbar": {
              "outlinewidth": 0,
              "ticks": ""
             }
            },
            "type": "scatterpolar"
           }
          ],
          "scatterpolargl": [
           {
            "marker": {
             "colorbar": {
              "outlinewidth": 0,
              "ticks": ""
             }
            },
            "type": "scatterpolargl"
           }
          ],
          "scatterternary": [
           {
            "marker": {
             "colorbar": {
              "outlinewidth": 0,
              "ticks": ""
             }
            },
            "type": "scatterternary"
           }
          ],
          "surface": [
           {
            "colorbar": {
             "outlinewidth": 0,
             "ticks": ""
            },
            "colorscale": [
             [
              0,
              "#0d0887"
             ],
             [
              0.1111111111111111,
              "#46039f"
             ],
             [
              0.2222222222222222,
              "#7201a8"
             ],
             [
              0.3333333333333333,
              "#9c179e"
             ],
             [
              0.4444444444444444,
              "#bd3786"
             ],
             [
              0.5555555555555556,
              "#d8576b"
             ],
             [
              0.6666666666666666,
              "#ed7953"
             ],
             [
              0.7777777777777778,
              "#fb9f3a"
             ],
             [
              0.8888888888888888,
              "#fdca26"
             ],
             [
              1,
              "#f0f921"
             ]
            ],
            "type": "surface"
           }
          ],
          "table": [
           {
            "cells": {
             "fill": {
              "color": "#EBF0F8"
             },
             "line": {
              "color": "white"
             }
            },
            "header": {
             "fill": {
              "color": "#C8D4E3"
             },
             "line": {
              "color": "white"
             }
            },
            "type": "table"
           }
          ]
         },
         "layout": {
          "annotationdefaults": {
           "arrowcolor": "#2a3f5f",
           "arrowhead": 0,
           "arrowwidth": 1
          },
          "autotypenumbers": "strict",
          "coloraxis": {
           "colorbar": {
            "outlinewidth": 0,
            "ticks": ""
           }
          },
          "colorscale": {
           "diverging": [
            [
             0,
             "#8e0152"
            ],
            [
             0.1,
             "#c51b7d"
            ],
            [
             0.2,
             "#de77ae"
            ],
            [
             0.3,
             "#f1b6da"
            ],
            [
             0.4,
             "#fde0ef"
            ],
            [
             0.5,
             "#f7f7f7"
            ],
            [
             0.6,
             "#e6f5d0"
            ],
            [
             0.7,
             "#b8e186"
            ],
            [
             0.8,
             "#7fbc41"
            ],
            [
             0.9,
             "#4d9221"
            ],
            [
             1,
             "#276419"
            ]
           ],
           "sequential": [
            [
             0,
             "#0d0887"
            ],
            [
             0.1111111111111111,
             "#46039f"
            ],
            [
             0.2222222222222222,
             "#7201a8"
            ],
            [
             0.3333333333333333,
             "#9c179e"
            ],
            [
             0.4444444444444444,
             "#bd3786"
            ],
            [
             0.5555555555555556,
             "#d8576b"
            ],
            [
             0.6666666666666666,
             "#ed7953"
            ],
            [
             0.7777777777777778,
             "#fb9f3a"
            ],
            [
             0.8888888888888888,
             "#fdca26"
            ],
            [
             1,
             "#f0f921"
            ]
           ],
           "sequentialminus": [
            [
             0,
             "#0d0887"
            ],
            [
             0.1111111111111111,
             "#46039f"
            ],
            [
             0.2222222222222222,
             "#7201a8"
            ],
            [
             0.3333333333333333,
             "#9c179e"
            ],
            [
             0.4444444444444444,
             "#bd3786"
            ],
            [
             0.5555555555555556,
             "#d8576b"
            ],
            [
             0.6666666666666666,
             "#ed7953"
            ],
            [
             0.7777777777777778,
             "#fb9f3a"
            ],
            [
             0.8888888888888888,
             "#fdca26"
            ],
            [
             1,
             "#f0f921"
            ]
           ]
          },
          "colorway": [
           "#636efa",
           "#EF553B",
           "#00cc96",
           "#ab63fa",
           "#FFA15A",
           "#19d3f3",
           "#FF6692",
           "#B6E880",
           "#FF97FF",
           "#FECB52"
          ],
          "font": {
           "color": "#2a3f5f"
          },
          "geo": {
           "bgcolor": "white",
           "lakecolor": "white",
           "landcolor": "#E5ECF6",
           "showlakes": true,
           "showland": true,
           "subunitcolor": "white"
          },
          "hoverlabel": {
           "align": "left"
          },
          "hovermode": "closest",
          "mapbox": {
           "style": "light"
          },
          "paper_bgcolor": "white",
          "plot_bgcolor": "#E5ECF6",
          "polar": {
           "angularaxis": {
            "gridcolor": "white",
            "linecolor": "white",
            "ticks": ""
           },
           "bgcolor": "#E5ECF6",
           "radialaxis": {
            "gridcolor": "white",
            "linecolor": "white",
            "ticks": ""
           }
          },
          "scene": {
           "xaxis": {
            "backgroundcolor": "#E5ECF6",
            "gridcolor": "white",
            "gridwidth": 2,
            "linecolor": "white",
            "showbackground": true,
            "ticks": "",
            "zerolinecolor": "white"
           },
           "yaxis": {
            "backgroundcolor": "#E5ECF6",
            "gridcolor": "white",
            "gridwidth": 2,
            "linecolor": "white",
            "showbackground": true,
            "ticks": "",
            "zerolinecolor": "white"
           },
           "zaxis": {
            "backgroundcolor": "#E5ECF6",
            "gridcolor": "white",
            "gridwidth": 2,
            "linecolor": "white",
            "showbackground": true,
            "ticks": "",
            "zerolinecolor": "white"
           }
          },
          "shapedefaults": {
           "line": {
            "color": "#2a3f5f"
           }
          },
          "ternary": {
           "aaxis": {
            "gridcolor": "white",
            "linecolor": "white",
            "ticks": ""
           },
           "baxis": {
            "gridcolor": "white",
            "linecolor": "white",
            "ticks": ""
           },
           "bgcolor": "#E5ECF6",
           "caxis": {
            "gridcolor": "white",
            "linecolor": "white",
            "ticks": ""
           }
          },
          "title": {
           "x": 0.05
          },
          "xaxis": {
           "automargin": true,
           "gridcolor": "white",
           "linecolor": "white",
           "ticks": "",
           "title": {
            "standoff": 15
           },
           "zerolinecolor": "white",
           "zerolinewidth": 2
          },
          "yaxis": {
           "automargin": true,
           "gridcolor": "white",
           "linecolor": "white",
           "ticks": "",
           "title": {
            "standoff": 15
           },
           "zerolinecolor": "white",
           "zerolinewidth": 2
          }
         }
        },
        "xaxis": {
         "anchor": "y",
         "domain": [
          0,
          1
         ]
        },
        "yaxis": {
         "anchor": "x",
         "domain": [
          0,
          1
         ]
        }
       }
      },
      "text/html": [
       "<div>                            <div id=\"737dba4a-2c30-499a-94a5-8b000571d752\" class=\"plotly-graph-div\" style=\"height:525px; width:100%;\"></div>            <script type=\"text/javascript\">                require([\"plotly\"], function(Plotly) {                    window.PLOTLYENV=window.PLOTLYENV || {};                                    if (document.getElementById(\"737dba4a-2c30-499a-94a5-8b000571d752\")) {                    Plotly.newPlot(                        \"737dba4a-2c30-499a-94a5-8b000571d752\",                        [{\"name\":\"Mean of Betti curve H_1\",\"type\":\"scatter\",\"y\":[1,3,6,0,0,0,7,2,3,4,0,1,0,0,2,5,0,1,0,0,7,1,0,2,4,3,3,1,0,3,0,1,0,1,1,0,0,0,0,0,0,0,0,0,0,0,0,0,0,0,0,0,0,0,1,0,0,0,0,0,0,0,0,0,0,0,1,1,0,0,1,0,0,0,0,0,0,0,0,0,0,0,0,0,4,5,0,0,2,1,3,4,0,0,2,5,8,4,2,3,0,5,3,2,2,0]},{\"name\":\"Median of Betti curve H_1\",\"type\":\"scatter\",\"y\":[1.0,0.0,1.0,0.5,0.0,0.0,0.0,0.0,0.0,0.0,0.0,1.0,1.0,0.0,1.0,0.0,0.0,1.0,0.0,0.0,0.0,1.0,0.0,0.0,0.0,0.0,0.0,1.0,0.0,0.0,1.0,0.0,0.0,0.0,1.0,0.0,0.0,0.0,0.0,1.0,0.5,0.0,0.0,0.0,0.0,0.0,0.0,0.0,0.0,0.0,0.0,0.0,0.0,0.0,0.0,0.0,0.0,0.0,0.0,0.0,0.0,0.0,0.0,0.0,0.0,0.0,1.0,1.0,0.0,0.0,1.0,1.0,0.0,0.0,0.0,0.0,0.0,0.0,0.0,1.0,0.0,0.0,0.0,1.0,1.0,0.0,0.0,1.0,0.0,0.0,0.0,0.0,0.0,0.0,0.0,0.0,0.0,3.0,1.0,2.0,1.0,0.0,0.0,0.0,0.0,0.0]},{\"name\":\"Mode of Betti curve H_1\",\"type\":\"scatter\",\"y\":[1,0,0,0,0,0,0,0,0,0,0,1,0,0,0,0,0,1,0,0,0,1,0,0,0,0,0,1,0,0,1,0,0,0,0,0,0,0,0,1,0,0,0,0,0,0,0,0,0,0,0,0,0,0,0,0,0,0,0,0,0,0,0,0,0,0,1,1,0,0,0,1,0,0,0,0,0,0,0,1,0,0,0,1,0,0,0,1,0,0,0,0,0,0,0,0,0,0,0,0,0,0,0,0,0,0]}],                        {\"legend\":{\"tracegroupgap\":0},\"margin\":{\"t\":60},\"template\":{\"data\":{\"bar\":[{\"error_x\":{\"color\":\"#2a3f5f\"},\"error_y\":{\"color\":\"#2a3f5f\"},\"marker\":{\"line\":{\"color\":\"#E5ECF6\",\"width\":0.5},\"pattern\":{\"fillmode\":\"overlay\",\"size\":10,\"solidity\":0.2}},\"type\":\"bar\"}],\"barpolar\":[{\"marker\":{\"line\":{\"color\":\"#E5ECF6\",\"width\":0.5},\"pattern\":{\"fillmode\":\"overlay\",\"size\":10,\"solidity\":0.2}},\"type\":\"barpolar\"}],\"carpet\":[{\"aaxis\":{\"endlinecolor\":\"#2a3f5f\",\"gridcolor\":\"white\",\"linecolor\":\"white\",\"minorgridcolor\":\"white\",\"startlinecolor\":\"#2a3f5f\"},\"baxis\":{\"endlinecolor\":\"#2a3f5f\",\"gridcolor\":\"white\",\"linecolor\":\"white\",\"minorgridcolor\":\"white\",\"startlinecolor\":\"#2a3f5f\"},\"type\":\"carpet\"}],\"choropleth\":[{\"colorbar\":{\"outlinewidth\":0,\"ticks\":\"\"},\"type\":\"choropleth\"}],\"contour\":[{\"colorbar\":{\"outlinewidth\":0,\"ticks\":\"\"},\"colorscale\":[[0.0,\"#0d0887\"],[0.1111111111111111,\"#46039f\"],[0.2222222222222222,\"#7201a8\"],[0.3333333333333333,\"#9c179e\"],[0.4444444444444444,\"#bd3786\"],[0.5555555555555556,\"#d8576b\"],[0.6666666666666666,\"#ed7953\"],[0.7777777777777778,\"#fb9f3a\"],[0.8888888888888888,\"#fdca26\"],[1.0,\"#f0f921\"]],\"type\":\"contour\"}],\"contourcarpet\":[{\"colorbar\":{\"outlinewidth\":0,\"ticks\":\"\"},\"type\":\"contourcarpet\"}],\"heatmap\":[{\"colorbar\":{\"outlinewidth\":0,\"ticks\":\"\"},\"colorscale\":[[0.0,\"#0d0887\"],[0.1111111111111111,\"#46039f\"],[0.2222222222222222,\"#7201a8\"],[0.3333333333333333,\"#9c179e\"],[0.4444444444444444,\"#bd3786\"],[0.5555555555555556,\"#d8576b\"],[0.6666666666666666,\"#ed7953\"],[0.7777777777777778,\"#fb9f3a\"],[0.8888888888888888,\"#fdca26\"],[1.0,\"#f0f921\"]],\"type\":\"heatmap\"}],\"heatmapgl\":[{\"colorbar\":{\"outlinewidth\":0,\"ticks\":\"\"},\"colorscale\":[[0.0,\"#0d0887\"],[0.1111111111111111,\"#46039f\"],[0.2222222222222222,\"#7201a8\"],[0.3333333333333333,\"#9c179e\"],[0.4444444444444444,\"#bd3786\"],[0.5555555555555556,\"#d8576b\"],[0.6666666666666666,\"#ed7953\"],[0.7777777777777778,\"#fb9f3a\"],[0.8888888888888888,\"#fdca26\"],[1.0,\"#f0f921\"]],\"type\":\"heatmapgl\"}],\"histogram\":[{\"marker\":{\"pattern\":{\"fillmode\":\"overlay\",\"size\":10,\"solidity\":0.2}},\"type\":\"histogram\"}],\"histogram2d\":[{\"colorbar\":{\"outlinewidth\":0,\"ticks\":\"\"},\"colorscale\":[[0.0,\"#0d0887\"],[0.1111111111111111,\"#46039f\"],[0.2222222222222222,\"#7201a8\"],[0.3333333333333333,\"#9c179e\"],[0.4444444444444444,\"#bd3786\"],[0.5555555555555556,\"#d8576b\"],[0.6666666666666666,\"#ed7953\"],[0.7777777777777778,\"#fb9f3a\"],[0.8888888888888888,\"#fdca26\"],[1.0,\"#f0f921\"]],\"type\":\"histogram2d\"}],\"histogram2dcontour\":[{\"colorbar\":{\"outlinewidth\":0,\"ticks\":\"\"},\"colorscale\":[[0.0,\"#0d0887\"],[0.1111111111111111,\"#46039f\"],[0.2222222222222222,\"#7201a8\"],[0.3333333333333333,\"#9c179e\"],[0.4444444444444444,\"#bd3786\"],[0.5555555555555556,\"#d8576b\"],[0.6666666666666666,\"#ed7953\"],[0.7777777777777778,\"#fb9f3a\"],[0.8888888888888888,\"#fdca26\"],[1.0,\"#f0f921\"]],\"type\":\"histogram2dcontour\"}],\"mesh3d\":[{\"colorbar\":{\"outlinewidth\":0,\"ticks\":\"\"},\"type\":\"mesh3d\"}],\"parcoords\":[{\"line\":{\"colorbar\":{\"outlinewidth\":0,\"ticks\":\"\"}},\"type\":\"parcoords\"}],\"pie\":[{\"automargin\":true,\"type\":\"pie\"}],\"scatter\":[{\"marker\":{\"colorbar\":{\"outlinewidth\":0,\"ticks\":\"\"}},\"type\":\"scatter\"}],\"scatter3d\":[{\"line\":{\"colorbar\":{\"outlinewidth\":0,\"ticks\":\"\"}},\"marker\":{\"colorbar\":{\"outlinewidth\":0,\"ticks\":\"\"}},\"type\":\"scatter3d\"}],\"scattercarpet\":[{\"marker\":{\"colorbar\":{\"outlinewidth\":0,\"ticks\":\"\"}},\"type\":\"scattercarpet\"}],\"scattergeo\":[{\"marker\":{\"colorbar\":{\"outlinewidth\":0,\"ticks\":\"\"}},\"type\":\"scattergeo\"}],\"scattergl\":[{\"marker\":{\"colorbar\":{\"outlinewidth\":0,\"ticks\":\"\"}},\"type\":\"scattergl\"}],\"scattermapbox\":[{\"marker\":{\"colorbar\":{\"outlinewidth\":0,\"ticks\":\"\"}},\"type\":\"scattermapbox\"}],\"scatterpolar\":[{\"marker\":{\"colorbar\":{\"outlinewidth\":0,\"ticks\":\"\"}},\"type\":\"scatterpolar\"}],\"scatterpolargl\":[{\"marker\":{\"colorbar\":{\"outlinewidth\":0,\"ticks\":\"\"}},\"type\":\"scatterpolargl\"}],\"scatterternary\":[{\"marker\":{\"colorbar\":{\"outlinewidth\":0,\"ticks\":\"\"}},\"type\":\"scatterternary\"}],\"surface\":[{\"colorbar\":{\"outlinewidth\":0,\"ticks\":\"\"},\"colorscale\":[[0.0,\"#0d0887\"],[0.1111111111111111,\"#46039f\"],[0.2222222222222222,\"#7201a8\"],[0.3333333333333333,\"#9c179e\"],[0.4444444444444444,\"#bd3786\"],[0.5555555555555556,\"#d8576b\"],[0.6666666666666666,\"#ed7953\"],[0.7777777777777778,\"#fb9f3a\"],[0.8888888888888888,\"#fdca26\"],[1.0,\"#f0f921\"]],\"type\":\"surface\"}],\"table\":[{\"cells\":{\"fill\":{\"color\":\"#EBF0F8\"},\"line\":{\"color\":\"white\"}},\"header\":{\"fill\":{\"color\":\"#C8D4E3\"},\"line\":{\"color\":\"white\"}},\"type\":\"table\"}]},\"layout\":{\"annotationdefaults\":{\"arrowcolor\":\"#2a3f5f\",\"arrowhead\":0,\"arrowwidth\":1},\"autotypenumbers\":\"strict\",\"coloraxis\":{\"colorbar\":{\"outlinewidth\":0,\"ticks\":\"\"}},\"colorscale\":{\"diverging\":[[0,\"#8e0152\"],[0.1,\"#c51b7d\"],[0.2,\"#de77ae\"],[0.3,\"#f1b6da\"],[0.4,\"#fde0ef\"],[0.5,\"#f7f7f7\"],[0.6,\"#e6f5d0\"],[0.7,\"#b8e186\"],[0.8,\"#7fbc41\"],[0.9,\"#4d9221\"],[1,\"#276419\"]],\"sequential\":[[0.0,\"#0d0887\"],[0.1111111111111111,\"#46039f\"],[0.2222222222222222,\"#7201a8\"],[0.3333333333333333,\"#9c179e\"],[0.4444444444444444,\"#bd3786\"],[0.5555555555555556,\"#d8576b\"],[0.6666666666666666,\"#ed7953\"],[0.7777777777777778,\"#fb9f3a\"],[0.8888888888888888,\"#fdca26\"],[1.0,\"#f0f921\"]],\"sequentialminus\":[[0.0,\"#0d0887\"],[0.1111111111111111,\"#46039f\"],[0.2222222222222222,\"#7201a8\"],[0.3333333333333333,\"#9c179e\"],[0.4444444444444444,\"#bd3786\"],[0.5555555555555556,\"#d8576b\"],[0.6666666666666666,\"#ed7953\"],[0.7777777777777778,\"#fb9f3a\"],[0.8888888888888888,\"#fdca26\"],[1.0,\"#f0f921\"]]},\"colorway\":[\"#636efa\",\"#EF553B\",\"#00cc96\",\"#ab63fa\",\"#FFA15A\",\"#19d3f3\",\"#FF6692\",\"#B6E880\",\"#FF97FF\",\"#FECB52\"],\"font\":{\"color\":\"#2a3f5f\"},\"geo\":{\"bgcolor\":\"white\",\"lakecolor\":\"white\",\"landcolor\":\"#E5ECF6\",\"showlakes\":true,\"showland\":true,\"subunitcolor\":\"white\"},\"hoverlabel\":{\"align\":\"left\"},\"hovermode\":\"closest\",\"mapbox\":{\"style\":\"light\"},\"paper_bgcolor\":\"white\",\"plot_bgcolor\":\"#E5ECF6\",\"polar\":{\"angularaxis\":{\"gridcolor\":\"white\",\"linecolor\":\"white\",\"ticks\":\"\"},\"bgcolor\":\"#E5ECF6\",\"radialaxis\":{\"gridcolor\":\"white\",\"linecolor\":\"white\",\"ticks\":\"\"}},\"scene\":{\"xaxis\":{\"backgroundcolor\":\"#E5ECF6\",\"gridcolor\":\"white\",\"gridwidth\":2,\"linecolor\":\"white\",\"showbackground\":true,\"ticks\":\"\",\"zerolinecolor\":\"white\"},\"yaxis\":{\"backgroundcolor\":\"#E5ECF6\",\"gridcolor\":\"white\",\"gridwidth\":2,\"linecolor\":\"white\",\"showbackground\":true,\"ticks\":\"\",\"zerolinecolor\":\"white\"},\"zaxis\":{\"backgroundcolor\":\"#E5ECF6\",\"gridcolor\":\"white\",\"gridwidth\":2,\"linecolor\":\"white\",\"showbackground\":true,\"ticks\":\"\",\"zerolinecolor\":\"white\"}},\"shapedefaults\":{\"line\":{\"color\":\"#2a3f5f\"}},\"ternary\":{\"aaxis\":{\"gridcolor\":\"white\",\"linecolor\":\"white\",\"ticks\":\"\"},\"baxis\":{\"gridcolor\":\"white\",\"linecolor\":\"white\",\"ticks\":\"\"},\"bgcolor\":\"#E5ECF6\",\"caxis\":{\"gridcolor\":\"white\",\"linecolor\":\"white\",\"ticks\":\"\"}},\"title\":{\"x\":0.05},\"xaxis\":{\"automargin\":true,\"gridcolor\":\"white\",\"linecolor\":\"white\",\"ticks\":\"\",\"title\":{\"standoff\":15},\"zerolinecolor\":\"white\",\"zerolinewidth\":2},\"yaxis\":{\"automargin\":true,\"gridcolor\":\"white\",\"linecolor\":\"white\",\"ticks\":\"\",\"title\":{\"standoff\":15},\"zerolinecolor\":\"white\",\"zerolinewidth\":2}}},\"xaxis\":{\"anchor\":\"y\",\"domain\":[0.0,1.0]},\"yaxis\":{\"anchor\":\"x\",\"domain\":[0.0,1.0]}},                        {\"responsive\": true}                    ).then(function(){\n",
       "                            \n",
       "var gd = document.getElementById('737dba4a-2c30-499a-94a5-8b000571d752');\n",
       "var x = new MutationObserver(function (mutations, observer) {{\n",
       "        var display = window.getComputedStyle(gd).display;\n",
       "        if (!display || display === 'none') {{\n",
       "            console.log([gd, 'removed!']);\n",
       "            Plotly.purge(gd);\n",
       "            observer.disconnect();\n",
       "        }}\n",
       "}});\n",
       "\n",
       "// Listen for the removal of the full notebook cells\n",
       "var notebookContainer = gd.closest('#notebook-container');\n",
       "if (notebookContainer) {{\n",
       "    x.observe(notebookContainer, {childList: true});\n",
       "}}\n",
       "\n",
       "// Listen for the clearing of the current output cell\n",
       "var outputEl = gd.closest('.output');\n",
       "if (outputEl) {{\n",
       "    x.observe(outputEl, {childList: true});\n",
       "}}\n",
       "\n",
       "                        })                };                });            </script>        </div>"
      ]
     },
     "metadata": {},
     "output_type": "display_data"
    }
   ],
   "source": [
    "meanBettiH1 = []\n",
    "medianBettiH1 = []\n",
    "modeBettiH1 = []\n",
    "\n",
    "for i in range(len(slugging_Betti[:,1,0])):\n",
    "    meanBettiH1.append(stats.mean(slugging_Betti[i,1,:]))\n",
    "    medianBettiH1.append(stats.median(slugging_Betti[i,1,:]))\n",
    "    modeBettiH1.append(stats.mode(slugging_Betti[i,1,:]))\n",
    "    \n",
    "    \n",
    "figBetti = px.line()\n",
    "figBetti.add_scatter(y=(meanBettiH1), name=\"Mean of Betti curve H_1\")\n",
    "figBetti.add_scatter(y=(medianBettiH1), name=\"Median of Betti curve H_1\")\n",
    "figBetti.add_scatter(y=(modeBettiH1),name=\"Mode of Betti curve H_1\")\n",
    "figBetti.show()"
   ]
  },
  {
   "cell_type": "code",
   "execution_count": 47,
   "metadata": {},
   "outputs": [
    {
     "data": {
      "image/png": "[encoded data removed]",
      "text/plain": [
       "<Figure size 720x288 with 2 Axes>"
      ]
     },
     "metadata": {
      "needs_background": "light"
     },
     "output_type": "display_data"
    }
   ],
   "source": [
    "stats_entropy, data = plt.subplots(1, 2,figsize=(10,4))\n",
    "stats_entropy.suptitle('Normal operations dataset - Means of Betti curves')\n",
    "\n",
    "data[0].set_xlabel('Mean of Betti Curve for H$_0$')\n",
    "data[0].set_ylabel('count')\n",
    "data[1].set_xlabel(\"Mean of Betti Curve for H$_1$\")\n",
    "data[1].set_ylabel('count')\n",
    "\n",
    "data[0].hist(meanBettiH0, bins=20)\n",
    "data[1].hist(meanBettiH1)\n",
    "\n",
    "plt.tight_layout()"
   ]
  },
  {
   "cell_type": "code",
   "execution_count": 26,
   "metadata": {},
   "outputs": [
    {
     "data": {
      "application/vnd.plotly.v1+json": {
       "config": {
        "plotlyServerURL": "https://plot.ly"
       },
       "data": [
        {
         "name": "Max Pers in homology dimension H_1",
         "type": "scatter",
         "y": [
          59.44355845451355,
          16.158808708190918,
          33.46996593475342,
          36.60427749156952,
          26.946992874145508,
          9.742815136909485,
          29.184724807739258,
          11.989141941070557,
          17.001078605651855,
          13.442307472229004,
          32.790228724479675,
          68.6665346622467,
          38.31631672382355,
          30.043616235256195,
          38.48445510864258,
          9.508842468261719,
          32.38536834716797,
          45.19999313354492,
          4.982803583145142,
          35.44662070274353,
          25.706575393676758,
          39.42871642112732,
          20.43103827536106,
          31.215216398239136,
          10.955453872680664,
          19.37728261947632,
          18.086583137512207,
          38.74102598428726,
          5.787893563508987,
          13.1680269241333,
          40.24832344055176,
          16.18674111366272,
          16.765778064727783,
          24.023993492126465,
          37.391329526901245,
          3.331627145409584,
          28.613157629966736,
          25.967590153217316,
          15.890733242034912,
          37.55464148521423,
          36.47652864456177,
          27.514358401298523,
          10.652552723884583,
          20.68429470062256,
          13.746718406677246,
          32.841620206832886,
          26.68002223968506,
          13.416533589363098,
          29.909584045410156,
          24.190279871225357,
          31.165613889694214,
          29.53368192911148,
          29.753730058670044,
          8.38323925435543,
          23.477290630340576,
          29.20500212907791,
          35.331386148929596,
          12.443504333496094,
          27.298716068267822,
          32.47184693813324,
          6.015867531299591,
          28.27562043070793,
          26.634111762046814,
          19.056894540786743,
          7.065701961517334,
          33.4563364982605,
          39.067259192466736,
          38.70274841785431,
          33.973978996276855,
          21.959686517715454,
          37.638520658016205,
          36.93289828300476,
          11.779672026634216,
          17.581899166107178,
          21.63396193087101,
          26.999273419380188,
          14.879243016242981,
          25.78173729777336,
          32.91340798139572,
          51.117504596710205,
          21.287963062524796,
          28.14026165008545,
          35.67040741443634,
          43.643704771995544,
          33.04339933395386,
          16.394315719604492,
          11.742728233337402,
          47.95924758911133,
          18.271336555480957,
          14.755087852478027,
          24.931939125061035,
          11.201624870300293,
          29.827410340309143,
          3.7579115629196167,
          13.61048173904419,
          31.62868595123291,
          23.252501487731934,
          52.288957595825195,
          40.547118186950684,
          29.11519432067871,
          40.108656883239746,
          21.47836685180664,
          32.43583011627197,
          10.680387496948242,
          23.273327827453613,
          6.8197150602936745
         ]
        },
        {
         "name": "Max Pers in homology dimension H_0",
         "type": "scatter",
         "y": [
          5.219127178192139,
          7.862435340881348,
          11.411547660827637,
          1.017738699913025,
          19.088098526000977,
          0.4849213659763336,
          11.52508544921875,
          7.122753143310547,
          7.450085163116455,
          8.146343231201172,
          0.8078544735908508,
          4.090520858764648,
          0.9575684666633606,
          0.7987702488899231,
          21.622142791748047,
          10.232603073120117,
          0.9298744201660156,
          6.028512001037598,
          0.29675018787384033,
          8.65691089630127,
          14.863295555114746,
          0.9312129616737366,
          0.2015237808227539,
          11.672636032104492,
          10.542963981628418,
          4.737783432006836,
          5.308247089385986,
          0.923408031463623,
          0.17422069609165192,
          9.741646766662598,
          5.184152126312256,
          5.310818672180176,
          5.013021945953369,
          6.172712326049805,
          0.9326387047767639,
          0.11247573047876358,
          1.666435718536377,
          0.6525405049324036,
          7.450289726257324,
          2.43034291267395,
          1.0578023195266724,
          0.68812495470047,
          0.25122955441474915,
          1.9111140966415405,
          5.130300045013428,
          0.6609483361244202,
          4.7022247314453125,
          0.8126506805419922,
          3.964343309402466,
          0.5989437699317932,
          1.5063252449035645,
          2.6402924060821533,
          0.8617512583732605,
          0.20109440386295319,
          3.0333473682403564,
          0.484856516122818,
          0.5003675818443298,
          0.43510866165161133,
          9.351593017578125,
          0.7342625260353088,
          0.4952475428581238,
          0.2251463532447815,
          0.5514848232269287,
          6.427065372467041,
          0.43430572748184204,
          1.0596028566360474,
          0.8967229723930359,
          0.9491274952888489,
          5.0623955726623535,
          6.914050102233887,
          1.0163527727127075,
          2.548920154571533,
          1.4958806037902832,
          0.5978901982307434,
          0.1496022343635559,
          0.8509638905525208,
          0.9961789846420288,
          0.23086008429527283,
          0.6966449618339539,
          7.709611892700195,
          0.30666667222976685,
          0.8168642520904541,
          1.6738375425338745,
          3.098003625869751,
          6.5771355628967285,
          15.475680351257324,
          17.51357078552246,
          8.099180221557617,
          4.403557777404785,
          5.329907417297363,
          6.990564346313477,
          10.14557933807373,
          12.73651123046875,
          0.1494017392396927,
          5.996678352355957,
          6.98253059387207,
          9.756348609924316,
          13.61237621307373,
          10.561299324035645,
          11.625685691833496,
          7.816450119018555,
          12.669854164123535,
          9.926872253417969,
          9.648398399353027,
          9.91915225982666,
          0.1102571114897728
         ]
        }
       ],
       "layout": {
        "legend": {
         "tracegroupgap": 0
        },
        "template": {
         "data": {
          "bar": [
           {
            "error_x": {
             "color": "#2a3f5f"
            },
            "error_y": {
             "color": "#2a3f5f"
            },
            "marker": {
             "line": {
              "color": "#E5ECF6",
              "width": 0.5
             },
             "pattern": {
              "fillmode": "overlay",
              "size": 10,
              "solidity": 0.2
             }
            },
            "type": "bar"
           }
          ],
          "barpolar": [
           {
            "marker": {
             "line": {
              "color": "#E5ECF6",
              "width": 0.5
             },
             "pattern": {
              "fillmode": "overlay",
              "size": 10,
              "solidity": 0.2
             }
            },
            "type": "barpolar"
           }
          ],
          "carpet": [
           {
            "aaxis": {
             "endlinecolor": "#2a3f5f",
             "gridcolor": "white",
             "linecolor": "white",
             "minorgridcolor": "white",
             "startlinecolor": "#2a3f5f"
            },
            "baxis": {
             "endlinecolor": "#2a3f5f",
             "gridcolor": "white",
             "linecolor": "white",
             "minorgridcolor": "white",
             "startlinecolor": "#2a3f5f"
            },
            "type": "carpet"
           }
          ],
          "choropleth": [
           {
            "colorbar": {
             "outlinewidth": 0,
             "ticks": ""
            },
            "type": "choropleth"
           }
          ],
          "contour": [
           {
            "colorbar": {
             "outlinewidth": 0,
             "ticks": ""
            },
            "colorscale": [
             [
              0,
              "#0d0887"
             ],
             [
              0.1111111111111111,
              "#46039f"
             ],
             [
              0.2222222222222222,
              "#7201a8"
             ],
             [
              0.3333333333333333,
              "#9c179e"
             ],
             [
              0.4444444444444444,
              "#bd3786"
             ],
             [
              0.5555555555555556,
              "#d8576b"
             ],
             [
              0.6666666666666666,
              "#ed7953"
             ],
             [
              0.7777777777777778,
              "#fb9f3a"
             ],
             [
              0.8888888888888888,
              "#fdca26"
             ],
             [
              1,
              "#f0f921"
             ]
            ],
            "type": "contour"
           }
          ],
          "contourcarpet": [
           {
            "colorbar": {
             "outlinewidth": 0,
             "ticks": ""
            },
            "type": "contourcarpet"
           }
          ],
          "heatmap": [
           {
            "colorbar": {
             "outlinewidth": 0,
             "ticks": ""
            },
            "colorscale": [
             [
              0,
              "#0d0887"
             ],
             [
              0.1111111111111111,
              "#46039f"
             ],
             [
              0.2222222222222222,
              "#7201a8"
             ],
             [
              0.3333333333333333,
              "#9c179e"
             ],
             [
              0.4444444444444444,
              "#bd3786"
             ],
             [
              0.5555555555555556,
              "#d8576b"
             ],
             [
              0.6666666666666666,
              "#ed7953"
             ],
             [
              0.7777777777777778,
              "#fb9f3a"
             ],
             [
              0.8888888888888888,
              "#fdca26"
             ],
             [
              1,
              "#f0f921"
             ]
            ],
            "type": "heatmap"
           }
          ],
          "heatmapgl": [
           {
            "colorbar": {
             "outlinewidth": 0,
             "ticks": ""
            },
            "colorscale": [
             [
              0,
              "#0d0887"
             ],
             [
              0.1111111111111111,
              "#46039f"
             ],
             [
              0.2222222222222222,
              "#7201a8"
             ],
             [
              0.3333333333333333,
              "#9c179e"
             ],
             [
              0.4444444444444444,
              "#bd3786"
             ],
             [
              0.5555555555555556,
              "#d8576b"
             ],
             [
              0.6666666666666666,
              "#ed7953"
             ],
             [
              0.7777777777777778,
              "#fb9f3a"
             ],
             [
              0.8888888888888888,
              "#fdca26"
             ],
             [
              1,
              "#f0f921"
             ]
            ],
            "type": "heatmapgl"
           }
          ],
          "histogram": [
           {
            "marker": {
             "pattern": {
              "fillmode": "overlay",
              "size": 10,
              "solidity": 0.2
             }
            },
            "type": "histogram"
           }
          ],
          "histogram2d": [
           {
            "colorbar": {
             "outlinewidth": 0,
             "ticks": ""
            },
            "colorscale": [
             [
              0,
              "#0d0887"
             ],
             [
              0.1111111111111111,
              "#46039f"
             ],
             [
              0.2222222222222222,
              "#7201a8"
             ],
             [
              0.3333333333333333,
              "#9c179e"
             ],
             [
              0.4444444444444444,
              "#bd3786"
             ],
             [
              0.5555555555555556,
              "#d8576b"
             ],
             [
              0.6666666666666666,
              "#ed7953"
             ],
             [
              0.7777777777777778,
              "#fb9f3a"
             ],
             [
              0.8888888888888888,
              "#fdca26"
             ],
             [
              1,
              "#f0f921"
             ]
            ],
            "type": "histogram2d"
           }
          ],
          "histogram2dcontour": [
           {
            "colorbar": {
             "outlinewidth": 0,
             "ticks": ""
            },
            "colorscale": [
             [
              0,
              "#0d0887"
             ],
             [
              0.1111111111111111,
              "#46039f"
             ],
             [
              0.2222222222222222,
              "#7201a8"
             ],
             [
              0.3333333333333333,
              "#9c179e"
             ],
             [
              0.4444444444444444,
              "#bd3786"
             ],
             [
              0.5555555555555556,
              "#d8576b"
             ],
             [
              0.6666666666666666,
              "#ed7953"
             ],
             [
              0.7777777777777778,
              "#fb9f3a"
             ],
             [
              0.8888888888888888,
              "#fdca26"
             ],
             [
              1,
              "#f0f921"
             ]
            ],
            "type": "histogram2dcontour"
           }
          ],
          "mesh3d": [
           {
            "colorbar": {
             "outlinewidth": 0,
             "ticks": ""
            },
            "type": "mesh3d"
           }
          ],
          "parcoords": [
           {
            "line": {
             "colorbar": {
              "outlinewidth": 0,
              "ticks": ""
             }
            },
            "type": "parcoords"
           }
          ],
          "pie": [
           {
            "automargin": true,
            "type": "pie"
           }
          ],
          "scatter": [
           {
            "marker": {
             "colorbar": {
              "outlinewidth": 0,
              "ticks": ""
             }
            },
            "type": "scatter"
           }
          ],
          "scatter3d": [
           {
            "line": {
             "colorbar": {
              "outlinewidth": 0,
              "ticks": ""
             }
            },
            "marker": {
             "colorbar": {
              "outlinewidth": 0,
              "ticks": ""
             }
            },
            "type": "scatter3d"
           }
          ],
          "scattercarpet": [
           {
            "marker": {
             "colorbar": {
              "outlinewidth": 0,
              "ticks": ""
             }
            },
            "type": "scattercarpet"
           }
          ],
          "scattergeo": [
           {
            "marker": {
             "colorbar": {
              "outlinewidth": 0,
              "ticks": ""
             }
            },
            "type": "scattergeo"
           }
          ],
          "scattergl": [
           {
            "marker": {
             "colorbar": {
              "outlinewidth": 0,
              "ticks": ""
             }
            },
            "type": "scattergl"
           }
          ],
          "scattermapbox": [
           {
            "marker": {
             "colorbar": {
              "outlinewidth": 0,
              "ticks": ""
             }
            },
            "type": "scattermapbox"
           }
          ],
          "scatterpolar": [
           {
            "marker": {
             "colorbar": {
              "outlinewidth": 0,
              "ticks": ""
             }
            },
            "type": "scatterpolar"
           }
          ],
          "scatterpolargl": [
           {
            "marker": {
             "colorbar": {
              "outlinewidth": 0,
              "ticks": ""
             }
            },
            "type": "scatterpolargl"
           }
          ],
          "scatterternary": [
           {
            "marker": {
             "colorbar": {
              "outlinewidth": 0,
              "ticks": ""
             }
            },
            "type": "scatterternary"
           }
          ],
          "surface": [
           {
            "colorbar": {
             "outlinewidth": 0,
             "ticks": ""
            },
            "colorscale": [
             [
              0,
              "#0d0887"
             ],
             [
              0.1111111111111111,
              "#46039f"
             ],
             [
              0.2222222222222222,
              "#7201a8"
             ],
             [
              0.3333333333333333,
              "#9c179e"
             ],
             [
              0.4444444444444444,
              "#bd3786"
             ],
             [
              0.5555555555555556,
              "#d8576b"
             ],
             [
              0.6666666666666666,
              "#ed7953"
             ],
             [
              0.7777777777777778,
              "#fb9f3a"
             ],
             [
              0.8888888888888888,
              "#fdca26"
             ],
             [
              1,
              "#f0f921"
             ]
            ],
            "type": "surface"
           }
          ],
          "table": [
           {
            "cells": {
             "fill": {
              "color": "#EBF0F8"
             },
             "line": {
              "color": "white"
             }
            },
            "header": {
             "fill": {
              "color": "#C8D4E3"
             },
             "line": {
              "color": "white"
             }
            },
            "type": "table"
           }
          ]
         },
         "layout": {
          "annotationdefaults": {
           "arrowcolor": "#2a3f5f",
           "arrowhead": 0,
           "arrowwidth": 1
          },
          "autotypenumbers": "strict",
          "coloraxis": {
           "colorbar": {
            "outlinewidth": 0,
            "ticks": ""
           }
          },
          "colorscale": {
           "diverging": [
            [
             0,
             "#8e0152"
            ],
            [
             0.1,
             "#c51b7d"
            ],
            [
             0.2,
             "#de77ae"
            ],
            [
             0.3,
             "#f1b6da"
            ],
            [
             0.4,
             "#fde0ef"
            ],
            [
             0.5,
             "#f7f7f7"
            ],
            [
             0.6,
             "#e6f5d0"
            ],
            [
             0.7,
             "#b8e186"
            ],
            [
             0.8,
             "#7fbc41"
            ],
            [
             0.9,
             "#4d9221"
            ],
            [
             1,
             "#276419"
            ]
           ],
           "sequential": [
            [
             0,
             "#0d0887"
            ],
            [
             0.1111111111111111,
             "#46039f"
            ],
            [
             0.2222222222222222,
             "#7201a8"
            ],
            [
             0.3333333333333333,
             "#9c179e"
            ],
            [
             0.4444444444444444,
             "#bd3786"
            ],
            [
             0.5555555555555556,
             "#d8576b"
            ],
            [
             0.6666666666666666,
             "#ed7953"
            ],
            [
             0.7777777777777778,
             "#fb9f3a"
            ],
            [
             0.8888888888888888,
             "#fdca26"
            ],
            [
             1,
             "#f0f921"
            ]
           ],
           "sequentialminus": [
            [
             0,
             "#0d0887"
            ],
            [
             0.1111111111111111,
             "#46039f"
            ],
            [
             0.2222222222222222,
             "#7201a8"
            ],
            [
             0.3333333333333333,
             "#9c179e"
            ],
            [
             0.4444444444444444,
             "#bd3786"
            ],
            [
             0.5555555555555556,
             "#d8576b"
            ],
            [
             0.6666666666666666,
             "#ed7953"
            ],
            [
             0.7777777777777778,
             "#fb9f3a"
            ],
            [
             0.8888888888888888,
             "#fdca26"
            ],
            [
             1,
             "#f0f921"
            ]
           ]
          },
          "colorway": [
           "#636efa",
           "#EF553B",
           "#00cc96",
           "#ab63fa",
           "#FFA15A",
           "#19d3f3",
           "#FF6692",
           "#B6E880",
           "#FF97FF",
           "#FECB52"
          ],
          "font": {
           "color": "#2a3f5f"
          },
          "geo": {
           "bgcolor": "white",
           "lakecolor": "white",
           "landcolor": "#E5ECF6",
           "showlakes": true,
           "showland": true,
           "subunitcolor": "white"
          },
          "hoverlabel": {
           "align": "left"
          },
          "hovermode": "closest",
          "mapbox": {
           "style": "light"
          },
          "paper_bgcolor": "white",
          "plot_bgcolor": "#E5ECF6",
          "polar": {
           "angularaxis": {
            "gridcolor": "white",
            "linecolor": "white",
            "ticks": ""
           },
           "bgcolor": "#E5ECF6",
           "radialaxis": {
            "gridcolor": "white",
            "linecolor": "white",
            "ticks": ""
           }
          },
          "scene": {
           "xaxis": {
            "backgroundcolor": "#E5ECF6",
            "gridcolor": "white",
            "gridwidth": 2,
            "linecolor": "white",
            "showbackground": true,
            "ticks": "",
            "zerolinecolor": "white"
           },
           "yaxis": {
            "backgroundcolor": "#E5ECF6",
            "gridcolor": "white",
            "gridwidth": 2,
            "linecolor": "white",
            "showbackground": true,
            "ticks": "",
            "zerolinecolor": "white"
           },
           "zaxis": {
            "backgroundcolor": "#E5ECF6",
            "gridcolor": "white",
            "gridwidth": 2,
            "linecolor": "white",
            "showbackground": true,
            "ticks": "",
            "zerolinecolor": "white"
           }
          },
          "shapedefaults": {
           "line": {
            "color": "#2a3f5f"
           }
          },
          "ternary": {
           "aaxis": {
            "gridcolor": "white",
            "linecolor": "white",
            "ticks": ""
           },
           "baxis": {
            "gridcolor": "white",
            "linecolor": "white",
            "ticks": ""
           },
           "bgcolor": "#E5ECF6",
           "caxis": {
            "gridcolor": "white",
            "linecolor": "white",
            "ticks": ""
           }
          },
          "title": {
           "x": 0.05
          },
          "xaxis": {
           "automargin": true,
           "gridcolor": "white",
           "linecolor": "white",
           "ticks": "",
           "title": {
            "standoff": 15
           },
           "zerolinecolor": "white",
           "zerolinewidth": 2
          },
          "yaxis": {
           "automargin": true,
           "gridcolor": "white",
           "linecolor": "white",
           "ticks": "",
           "title": {
            "standoff": 15
           },
           "zerolinecolor": "white",
           "zerolinewidth": 2
          }
         }
        },
        "title": {
         "text": "Maximum Persistence for slugging BHP"
        },
        "xaxis": {
         "anchor": "y",
         "domain": [
          0,
          1
         ]
        },
        "yaxis": {
         "anchor": "x",
         "domain": [
          0,
          1
         ]
        }
       }
      },
      "text/html": [
       "<div>                            <div id=\"4bce8130-3dfb-4fca-b36b-36b7a3aa568b\" class=\"plotly-graph-div\" style=\"height:525px; width:100%;\"></div>            <script type=\"text/javascript\">                require([\"plotly\"], function(Plotly) {                    window.PLOTLYENV=window.PLOTLYENV || {};                                    if (document.getElementById(\"4bce8130-3dfb-4fca-b36b-36b7a3aa568b\")) {                    Plotly.newPlot(                        \"4bce8130-3dfb-4fca-b36b-36b7a3aa568b\",                        [{\"name\":\"Max Pers in homology dimension H_1\",\"type\":\"scatter\",\"y\":[59.44355845451355,16.158808708190918,33.46996593475342,36.60427749156952,26.946992874145508,9.742815136909485,29.184724807739258,11.989141941070557,17.001078605651855,13.442307472229004,32.790228724479675,68.6665346622467,38.31631672382355,30.043616235256195,38.48445510864258,9.508842468261719,32.38536834716797,45.19999313354492,4.982803583145142,35.44662070274353,25.706575393676758,39.42871642112732,20.43103827536106,31.215216398239136,10.955453872680664,19.37728261947632,18.086583137512207,38.74102598428726,5.787893563508987,13.1680269241333,40.24832344055176,16.18674111366272,16.765778064727783,24.023993492126465,37.391329526901245,3.331627145409584,28.613157629966736,25.967590153217316,15.890733242034912,37.55464148521423,36.47652864456177,27.514358401298523,10.652552723884583,20.68429470062256,13.746718406677246,32.841620206832886,26.68002223968506,13.416533589363098,29.909584045410156,24.190279871225357,31.165613889694214,29.53368192911148,29.753730058670044,8.38323925435543,23.477290630340576,29.20500212907791,35.331386148929596,12.443504333496094,27.298716068267822,32.47184693813324,6.015867531299591,28.27562043070793,26.634111762046814,19.056894540786743,7.065701961517334,33.4563364982605,39.067259192466736,38.70274841785431,33.973978996276855,21.959686517715454,37.638520658016205,36.93289828300476,11.779672026634216,17.581899166107178,21.63396193087101,26.999273419380188,14.879243016242981,25.78173729777336,32.91340798139572,51.117504596710205,21.287963062524796,28.14026165008545,35.67040741443634,43.643704771995544,33.04339933395386,16.394315719604492,11.742728233337402,47.95924758911133,18.271336555480957,14.755087852478027,24.931939125061035,11.201624870300293,29.827410340309143,3.7579115629196167,13.61048173904419,31.62868595123291,23.252501487731934,52.288957595825195,40.547118186950684,29.11519432067871,40.108656883239746,21.47836685180664,32.43583011627197,10.680387496948242,23.273327827453613,6.8197150602936745]},{\"name\":\"Max Pers in homology dimension H_0\",\"type\":\"scatter\",\"y\":[5.219127178192139,7.862435340881348,11.411547660827637,1.017738699913025,19.088098526000977,0.4849213659763336,11.52508544921875,7.122753143310547,7.450085163116455,8.146343231201172,0.8078544735908508,4.090520858764648,0.9575684666633606,0.7987702488899231,21.622142791748047,10.232603073120117,0.9298744201660156,6.028512001037598,0.29675018787384033,8.65691089630127,14.863295555114746,0.9312129616737366,0.2015237808227539,11.672636032104492,10.542963981628418,4.737783432006836,5.308247089385986,0.923408031463623,0.17422069609165192,9.741646766662598,5.184152126312256,5.310818672180176,5.013021945953369,6.172712326049805,0.9326387047767639,0.11247573047876358,1.666435718536377,0.6525405049324036,7.450289726257324,2.43034291267395,1.0578023195266724,0.68812495470047,0.25122955441474915,1.9111140966415405,5.130300045013428,0.6609483361244202,4.7022247314453125,0.8126506805419922,3.964343309402466,0.5989437699317932,1.5063252449035645,2.6402924060821533,0.8617512583732605,0.20109440386295319,3.0333473682403564,0.484856516122818,0.5003675818443298,0.43510866165161133,9.351593017578125,0.7342625260353088,0.4952475428581238,0.2251463532447815,0.5514848232269287,6.427065372467041,0.43430572748184204,1.0596028566360474,0.8967229723930359,0.9491274952888489,5.0623955726623535,6.914050102233887,1.0163527727127075,2.548920154571533,1.4958806037902832,0.5978901982307434,0.1496022343635559,0.8509638905525208,0.9961789846420288,0.23086008429527283,0.6966449618339539,7.709611892700195,0.30666667222976685,0.8168642520904541,1.6738375425338745,3.098003625869751,6.5771355628967285,15.475680351257324,17.51357078552246,8.099180221557617,4.403557777404785,5.329907417297363,6.990564346313477,10.14557933807373,12.73651123046875,0.1494017392396927,5.996678352355957,6.98253059387207,9.756348609924316,13.61237621307373,10.561299324035645,11.625685691833496,7.816450119018555,12.669854164123535,9.926872253417969,9.648398399353027,9.91915225982666,0.1102571114897728]}],                        {\"legend\":{\"tracegroupgap\":0},\"template\":{\"data\":{\"bar\":[{\"error_x\":{\"color\":\"#2a3f5f\"},\"error_y\":{\"color\":\"#2a3f5f\"},\"marker\":{\"line\":{\"color\":\"#E5ECF6\",\"width\":0.5},\"pattern\":{\"fillmode\":\"overlay\",\"size\":10,\"solidity\":0.2}},\"type\":\"bar\"}],\"barpolar\":[{\"marker\":{\"line\":{\"color\":\"#E5ECF6\",\"width\":0.5},\"pattern\":{\"fillmode\":\"overlay\",\"size\":10,\"solidity\":0.2}},\"type\":\"barpolar\"}],\"carpet\":[{\"aaxis\":{\"endlinecolor\":\"#2a3f5f\",\"gridcolor\":\"white\",\"linecolor\":\"white\",\"minorgridcolor\":\"white\",\"startlinecolor\":\"#2a3f5f\"},\"baxis\":{\"endlinecolor\":\"#2a3f5f\",\"gridcolor\":\"white\",\"linecolor\":\"white\",\"minorgridcolor\":\"white\",\"startlinecolor\":\"#2a3f5f\"},\"type\":\"carpet\"}],\"choropleth\":[{\"colorbar\":{\"outlinewidth\":0,\"ticks\":\"\"},\"type\":\"choropleth\"}],\"contour\":[{\"colorbar\":{\"outlinewidth\":0,\"ticks\":\"\"},\"colorscale\":[[0.0,\"#0d0887\"],[0.1111111111111111,\"#46039f\"],[0.2222222222222222,\"#7201a8\"],[0.3333333333333333,\"#9c179e\"],[0.4444444444444444,\"#bd3786\"],[0.5555555555555556,\"#d8576b\"],[0.6666666666666666,\"#ed7953\"],[0.7777777777777778,\"#fb9f3a\"],[0.8888888888888888,\"#fdca26\"],[1.0,\"#f0f921\"]],\"type\":\"contour\"}],\"contourcarpet\":[{\"colorbar\":{\"outlinewidth\":0,\"ticks\":\"\"},\"type\":\"contourcarpet\"}],\"heatmap\":[{\"colorbar\":{\"outlinewidth\":0,\"ticks\":\"\"},\"colorscale\":[[0.0,\"#0d0887\"],[0.1111111111111111,\"#46039f\"],[0.2222222222222222,\"#7201a8\"],[0.3333333333333333,\"#9c179e\"],[0.4444444444444444,\"#bd3786\"],[0.5555555555555556,\"#d8576b\"],[0.6666666666666666,\"#ed7953\"],[0.7777777777777778,\"#fb9f3a\"],[0.8888888888888888,\"#fdca26\"],[1.0,\"#f0f921\"]],\"type\":\"heatmap\"}],\"heatmapgl\":[{\"colorbar\":{\"outlinewidth\":0,\"ticks\":\"\"},\"colorscale\":[[0.0,\"#0d0887\"],[0.1111111111111111,\"#46039f\"],[0.2222222222222222,\"#7201a8\"],[0.3333333333333333,\"#9c179e\"],[0.4444444444444444,\"#bd3786\"],[0.5555555555555556,\"#d8576b\"],[0.6666666666666666,\"#ed7953\"],[0.7777777777777778,\"#fb9f3a\"],[0.8888888888888888,\"#fdca26\"],[1.0,\"#f0f921\"]],\"type\":\"heatmapgl\"}],\"histogram\":[{\"marker\":{\"pattern\":{\"fillmode\":\"overlay\",\"size\":10,\"solidity\":0.2}},\"type\":\"histogram\"}],\"histogram2d\":[{\"colorbar\":{\"outlinewidth\":0,\"ticks\":\"\"},\"colorscale\":[[0.0,\"#0d0887\"],[0.1111111111111111,\"#46039f\"],[0.2222222222222222,\"#7201a8\"],[0.3333333333333333,\"#9c179e\"],[0.4444444444444444,\"#bd3786\"],[0.5555555555555556,\"#d8576b\"],[0.6666666666666666,\"#ed7953\"],[0.7777777777777778,\"#fb9f3a\"],[0.8888888888888888,\"#fdca26\"],[1.0,\"#f0f921\"]],\"type\":\"histogram2d\"}],\"histogram2dcontour\":[{\"colorbar\":{\"outlinewidth\":0,\"ticks\":\"\"},\"colorscale\":[[0.0,\"#0d0887\"],[0.1111111111111111,\"#46039f\"],[0.2222222222222222,\"#7201a8\"],[0.3333333333333333,\"#9c179e\"],[0.4444444444444444,\"#bd3786\"],[0.5555555555555556,\"#d8576b\"],[0.6666666666666666,\"#ed7953\"],[0.7777777777777778,\"#fb9f3a\"],[0.8888888888888888,\"#fdca26\"],[1.0,\"#f0f921\"]],\"type\":\"histogram2dcontour\"}],\"mesh3d\":[{\"colorbar\":{\"outlinewidth\":0,\"ticks\":\"\"},\"type\":\"mesh3d\"}],\"parcoords\":[{\"line\":{\"colorbar\":{\"outlinewidth\":0,\"ticks\":\"\"}},\"type\":\"parcoords\"}],\"pie\":[{\"automargin\":true,\"type\":\"pie\"}],\"scatter\":[{\"marker\":{\"colorbar\":{\"outlinewidth\":0,\"ticks\":\"\"}},\"type\":\"scatter\"}],\"scatter3d\":[{\"line\":{\"colorbar\":{\"outlinewidth\":0,\"ticks\":\"\"}},\"marker\":{\"colorbar\":{\"outlinewidth\":0,\"ticks\":\"\"}},\"type\":\"scatter3d\"}],\"scattercarpet\":[{\"marker\":{\"colorbar\":{\"outlinewidth\":0,\"ticks\":\"\"}},\"type\":\"scattercarpet\"}],\"scattergeo\":[{\"marker\":{\"colorbar\":{\"outlinewidth\":0,\"ticks\":\"\"}},\"type\":\"scattergeo\"}],\"scattergl\":[{\"marker\":{\"colorbar\":{\"outlinewidth\":0,\"ticks\":\"\"}},\"type\":\"scattergl\"}],\"scattermapbox\":[{\"marker\":{\"colorbar\":{\"outlinewidth\":0,\"ticks\":\"\"}},\"type\":\"scattermapbox\"}],\"scatterpolar\":[{\"marker\":{\"colorbar\":{\"outlinewidth\":0,\"ticks\":\"\"}},\"type\":\"scatterpolar\"}],\"scatterpolargl\":[{\"marker\":{\"colorbar\":{\"outlinewidth\":0,\"ticks\":\"\"}},\"type\":\"scatterpolargl\"}],\"scatterternary\":[{\"marker\":{\"colorbar\":{\"outlinewidth\":0,\"ticks\":\"\"}},\"type\":\"scatterternary\"}],\"surface\":[{\"colorbar\":{\"outlinewidth\":0,\"ticks\":\"\"},\"colorscale\":[[0.0,\"#0d0887\"],[0.1111111111111111,\"#46039f\"],[0.2222222222222222,\"#7201a8\"],[0.3333333333333333,\"#9c179e\"],[0.4444444444444444,\"#bd3786\"],[0.5555555555555556,\"#d8576b\"],[0.6666666666666666,\"#ed7953\"],[0.7777777777777778,\"#fb9f3a\"],[0.8888888888888888,\"#fdca26\"],[1.0,\"#f0f921\"]],\"type\":\"surface\"}],\"table\":[{\"cells\":{\"fill\":{\"color\":\"#EBF0F8\"},\"line\":{\"color\":\"white\"}},\"header\":{\"fill\":{\"color\":\"#C8D4E3\"},\"line\":{\"color\":\"white\"}},\"type\":\"table\"}]},\"layout\":{\"annotationdefaults\":{\"arrowcolor\":\"#2a3f5f\",\"arrowhead\":0,\"arrowwidth\":1},\"autotypenumbers\":\"strict\",\"coloraxis\":{\"colorbar\":{\"outlinewidth\":0,\"ticks\":\"\"}},\"colorscale\":{\"diverging\":[[0,\"#8e0152\"],[0.1,\"#c51b7d\"],[0.2,\"#de77ae\"],[0.3,\"#f1b6da\"],[0.4,\"#fde0ef\"],[0.5,\"#f7f7f7\"],[0.6,\"#e6f5d0\"],[0.7,\"#b8e186\"],[0.8,\"#7fbc41\"],[0.9,\"#4d9221\"],[1,\"#276419\"]],\"sequential\":[[0.0,\"#0d0887\"],[0.1111111111111111,\"#46039f\"],[0.2222222222222222,\"#7201a8\"],[0.3333333333333333,\"#9c179e\"],[0.4444444444444444,\"#bd3786\"],[0.5555555555555556,\"#d8576b\"],[0.6666666666666666,\"#ed7953\"],[0.7777777777777778,\"#fb9f3a\"],[0.8888888888888888,\"#fdca26\"],[1.0,\"#f0f921\"]],\"sequentialminus\":[[0.0,\"#0d0887\"],[0.1111111111111111,\"#46039f\"],[0.2222222222222222,\"#7201a8\"],[0.3333333333333333,\"#9c179e\"],[0.4444444444444444,\"#bd3786\"],[0.5555555555555556,\"#d8576b\"],[0.6666666666666666,\"#ed7953\"],[0.7777777777777778,\"#fb9f3a\"],[0.8888888888888888,\"#fdca26\"],[1.0,\"#f0f921\"]]},\"colorway\":[\"#636efa\",\"#EF553B\",\"#00cc96\",\"#ab63fa\",\"#FFA15A\",\"#19d3f3\",\"#FF6692\",\"#B6E880\",\"#FF97FF\",\"#FECB52\"],\"font\":{\"color\":\"#2a3f5f\"},\"geo\":{\"bgcolor\":\"white\",\"lakecolor\":\"white\",\"landcolor\":\"#E5ECF6\",\"showlakes\":true,\"showland\":true,\"subunitcolor\":\"white\"},\"hoverlabel\":{\"align\":\"left\"},\"hovermode\":\"closest\",\"mapbox\":{\"style\":\"light\"},\"paper_bgcolor\":\"white\",\"plot_bgcolor\":\"#E5ECF6\",\"polar\":{\"angularaxis\":{\"gridcolor\":\"white\",\"linecolor\":\"white\",\"ticks\":\"\"},\"bgcolor\":\"#E5ECF6\",\"radialaxis\":{\"gridcolor\":\"white\",\"linecolor\":\"white\",\"ticks\":\"\"}},\"scene\":{\"xaxis\":{\"backgroundcolor\":\"#E5ECF6\",\"gridcolor\":\"white\",\"gridwidth\":2,\"linecolor\":\"white\",\"showbackground\":true,\"ticks\":\"\",\"zerolinecolor\":\"white\"},\"yaxis\":{\"backgroundcolor\":\"#E5ECF6\",\"gridcolor\":\"white\",\"gridwidth\":2,\"linecolor\":\"white\",\"showbackground\":true,\"ticks\":\"\",\"zerolinecolor\":\"white\"},\"zaxis\":{\"backgroundcolor\":\"#E5ECF6\",\"gridcolor\":\"white\",\"gridwidth\":2,\"linecolor\":\"white\",\"showbackground\":true,\"ticks\":\"\",\"zerolinecolor\":\"white\"}},\"shapedefaults\":{\"line\":{\"color\":\"#2a3f5f\"}},\"ternary\":{\"aaxis\":{\"gridcolor\":\"white\",\"linecolor\":\"white\",\"ticks\":\"\"},\"baxis\":{\"gridcolor\":\"white\",\"linecolor\":\"white\",\"ticks\":\"\"},\"bgcolor\":\"#E5ECF6\",\"caxis\":{\"gridcolor\":\"white\",\"linecolor\":\"white\",\"ticks\":\"\"}},\"title\":{\"x\":0.05},\"xaxis\":{\"automargin\":true,\"gridcolor\":\"white\",\"linecolor\":\"white\",\"ticks\":\"\",\"title\":{\"standoff\":15},\"zerolinecolor\":\"white\",\"zerolinewidth\":2},\"yaxis\":{\"automargin\":true,\"gridcolor\":\"white\",\"linecolor\":\"white\",\"ticks\":\"\",\"title\":{\"standoff\":15},\"zerolinecolor\":\"white\",\"zerolinewidth\":2}}},\"title\":{\"text\":\"Maximum Persistence for slugging BHP\"},\"xaxis\":{\"anchor\":\"y\",\"domain\":[0.0,1.0]},\"yaxis\":{\"anchor\":\"x\",\"domain\":[0.0,1.0]}},                        {\"responsive\": true}                    ).then(function(){\n",
       "                            \n",
       "var gd = document.getElementById('4bce8130-3dfb-4fca-b36b-36b7a3aa568b');\n",
       "var x = new MutationObserver(function (mutations, observer) {{\n",
       "        var display = window.getComputedStyle(gd).display;\n",
       "        if (!display || display === 'none') {{\n",
       "            console.log([gd, 'removed!']);\n",
       "            Plotly.purge(gd);\n",
       "            observer.disconnect();\n",
       "        }}\n",
       "}});\n",
       "\n",
       "// Listen for the removal of the full notebook cells\n",
       "var notebookContainer = gd.closest('#notebook-container');\n",
       "if (notebookContainer) {{\n",
       "    x.observe(notebookContainer, {childList: true});\n",
       "}}\n",
       "\n",
       "// Listen for the clearing of the current output cell\n",
       "var outputEl = gd.closest('.output');\n",
       "if (outputEl) {{\n",
       "    x.observe(outputEl, {childList: true});\n",
       "}}\n",
       "\n",
       "                        })                };                });            </script>        </div>"
      ]
     },
     "metadata": {},
     "output_type": "display_data"
    }
   ],
   "source": [
    "pers_H1 = []\n",
    "pers_H0 = []\n",
    "max_pers_H0 = []\n",
    "max_pers_H1 = []\n",
    "\n",
    "for PersDiag in slugging_diagrams: \n",
    "    for point in PersDiag:\n",
    "        birth = point[0]\n",
    "        death = point[1]\n",
    "        dimension = point[2]\n",
    "        persistence = abs(death - birth)\n",
    "        pers_H0.extend([persistence] if dimension == 0 else [])\n",
    "        pers_H1.extend([persistence] if dimension == 1 else [])\n",
    "    max_pers_H0.append(np.amax(pers_H0))\n",
    "    max_pers_H1.append(np.amax(pers_H1))\n",
    "    pers_H0 = []\n",
    "    pers_H1 = []\n",
    "           \n",
    "fig = px.line(title='Maximum Persistence for slugging BHP')\n",
    "fig.add_scatter(y=max_pers_H1, name=\"Max Pers in homology dimension H_1\")\n",
    "fig.add_scatter(y=max_pers_H0, name=\"Max Pers in homology dimension H_0\")\n",
    "\n",
    "fig.show() "
   ]
  },
  {
   "cell_type": "code",
   "execution_count": 51,
   "metadata": {},
   "outputs": [
    {
     "data": {
      "image/png": "[encoded data removed]",
      "text/plain": [
       "<Figure size 720x288 with 2 Axes>"
      ]
     },
     "metadata": {
      "needs_background": "light"
     },
     "output_type": "display_data"
    }
   ],
   "source": [
    "stats_entropy, data = plt.subplots(1, 2,figsize=(10,4))\n",
    "stats_entropy.suptitle('Normal operations dataset - Max Persistence')\n",
    "\n",
    "data[0].set_xlabel('Mean of Betti Curve for H$_0$')\n",
    "data[0].set_ylabel('count')\n",
    "data[1].set_xlabel(\"Mean of Betti Curve for H$_1$\")\n",
    "data[1].set_ylabel('count')\n",
    "\n",
    "data[0].hist(max_pers_H0, bins = 25)\n",
    "data[1].hist(max_pers_H1, bins = 25)\n",
    "\n",
    "plt.tight_layout()"
   ]
  },
  {
   "cell_type": "code",
   "execution_count": 91,
   "metadata": {},
   "outputs": [
    {
     "data": {
      "application/vnd.plotly.v1+json": {
       "config": {
        "plotlyServerURL": "https://plot.ly"
       },
       "data": [
        {
         "hoverinfo": "none",
         "line": {
          "color": "black",
          "dash": "dash",
          "width": 1
         },
         "mode": "lines",
         "showlegend": false,
         "type": "scatter",
         "x": [
          -0.3869390106201172,
          19.733889541625977
         ],
         "y": [
          -0.3869390106201172,
          19.733889541625977
         ]
        },
        {
         "hoverinfo": "text",
         "hovertext": [
          "(0.0, 0.06525371968746185)",
          "(0.0, 0.0701761543750763)",
          "(0.0, 0.08911149948835373)",
          "(0.0, 0.10010605305433273)",
          "(0.0, 0.11137765645980835)",
          "(0.0, 0.12095217406749725)",
          "(0.0, 0.12401561439037323)",
          "(0.0, 0.13036441802978516)",
          "(0.0, 0.1328699141740799)",
          "(0.0, 0.13390995562076569)",
          "(0.0, 0.13421298563480377)",
          "(0.0, 0.13531984388828278)",
          "(0.0, 0.13627710938453674)",
          "(0.0, 0.13831166923046112)",
          "(0.0, 0.1388119012117386)",
          "(0.0, 0.1414712369441986)",
          "(0.0, 0.14275208115577698)",
          "(0.0, 0.1435222327709198)",
          "(0.0, 0.14354930818080902)",
          "(0.0, 0.14387834072113037)",
          "(0.0, 0.14496134221553802)",
          "(0.0, 0.14642812311649323)",
          "(0.0, 0.1468811333179474)",
          "(0.0, 0.14743053913116455)",
          "(0.0, 0.14919675886631012)",
          "(0.0, 0.1504782736301422)",
          "(0.0, 0.15089474618434906)",
          "(0.0, 0.15178264677524567)",
          "(0.0, 0.1517912596464157)",
          "(0.0, 0.15254753828048706)",
          "(0.0, 0.1529044359922409)",
          "(0.0, 0.15594887733459473)",
          "(0.0, 0.1581684947013855)",
          "(0.0, 0.15962478518486023)",
          "(0.0, 0.16059517860412598)",
          "(0.0, 0.16937637329101562)",
          "(0.0, 0.17007391154766083)",
          "(0.0, 0.1708497852087021)",
          "(0.0, 0.17689409852027893)",
          "(0.0, 0.18124806880950928)",
          "(0.0, 0.1828019917011261)",
          "(0.0, 0.18377703428268433)",
          "(0.0, 0.1892957240343094)",
          "(0.0, 0.19164040684700012)",
          "(0.0, 0.1919259876012802)",
          "(0.0, 0.1973777711391449)",
          "(0.0, 0.2006986290216446)",
          "(0.0, 0.20374813675880432)",
          "(0.0, 0.20918728411197662)",
          "(0.0, 0.21154829859733582)",
          "(0.0, 0.21163755655288696)",
          "(0.0, 0.21219198405742645)",
          "(0.0, 0.22150777280330658)",
          "(0.0, 0.22678892314434052)",
          "(0.0, 0.23172786831855774)",
          "(0.0, 0.23380644619464874)",
          "(0.0, 0.2347979098558426)",
          "(0.0, 0.2361142635345459)",
          "(0.0, 0.23621830344200134)",
          "(0.0, 0.24029065668582916)",
          "(0.0, 0.244261234998703)",
          "(0.0, 0.24463704228401184)",
          "(0.0, 0.24546881020069122)",
          "(0.0, 0.24805843830108643)",
          "(0.0, 0.24852073192596436)",
          "(0.0, 0.2510181665420532)",
          "(0.0, 0.25592470169067383)",
          "(0.0, 0.25663885474205017)",
          "(0.0, 0.2625206708908081)",
          "(0.0, 0.26299941539764404)",
          "(0.0, 0.2698915898799896)",
          "(0.0, 0.27029353380203247)",
          "(0.0, 0.2766246497631073)",
          "(0.0, 0.2795757055282593)",
          "(0.0, 0.2809402346611023)",
          "(0.0, 0.28252509236335754)",
          "(0.0, 0.28332704305648804)",
          "(0.0, 0.28382134437561035)",
          "(0.0, 0.2840363383293152)",
          "(0.0, 0.2871004641056061)",
          "(0.0, 0.2913857400417328)",
          "(0.0, 0.2914779782295227)",
          "(0.0, 0.2934268116950989)",
          "(0.0, 0.2935350835323334)",
          "(0.0, 0.2954502999782562)",
          "(0.0, 0.3006218373775482)",
          "(0.0, 0.30482348799705505)",
          "(0.0, 0.30501383543014526)",
          "(0.0, 0.3246285617351532)",
          "(0.0, 0.32515379786491394)",
          "(0.0, 0.3266901969909668)",
          "(0.0, 0.32682690024375916)",
          "(0.0, 0.3274437189102173)",
          "(0.0, 0.33342334628105164)",
          "(0.0, 0.3344869017601013)",
          "(0.0, 0.3430095613002777)",
          "(0.0, 0.3431590497493744)",
          "(0.0, 0.3455291986465454)",
          "(0.0, 0.3494642674922943)",
          "(0.0, 0.35056135058403015)",
          "(0.0, 0.35075879096984863)",
          "(0.0, 0.35358864068984985)",
          "(0.0, 0.3542083501815796)",
          "(0.0, 0.357307106256485)",
          "(0.0, 0.3573760688304901)",
          "(0.0, 0.3578180968761444)",
          "(0.0, 0.36107829213142395)",
          "(0.0, 0.3618348240852356)",
          "(0.0, 0.36305397748947144)",
          "(0.0, 0.3655436336994171)",
          "(0.0, 0.369288831949234)",
          "(0.0, 0.3693639636039734)",
          "(0.0, 0.37166669964790344)",
          "(0.0, 0.3737862706184387)",
          "(0.0, 0.3740895986557007)",
          "(0.0, 0.3787727952003479)",
          "(0.0, 0.37897348403930664)",
          "(0.0, 0.3792978823184967)",
          "(0.0, 0.3828105926513672)",
          "(0.0, 0.3841535449028015)",
          "(0.0, 0.385311096906662)",
          "(0.0, 0.3856564164161682)",
          "(0.0, 0.3862379789352417)",
          "(0.0, 0.38639989495277405)",
          "(0.0, 0.3876464366912842)",
          "(0.0, 0.38840290904045105)",
          "(0.0, 0.38856151700019836)",
          "(0.0, 0.3894204795360565)",
          "(0.0, 0.39003393054008484)",
          "(0.0, 0.39100661873817444)",
          "(0.0, 0.3930157721042633)",
          "(0.0, 0.39317604899406433)",
          "(0.0, 0.3931994140148163)",
          "(0.0, 0.39328375458717346)",
          "(0.0, 0.3936714828014374)",
          "(0.0, 0.3943684697151184)",
          "(0.0, 0.3947925269603729)",
          "(0.0, 0.39747053384780884)",
          "(0.0, 0.4058927595615387)",
          "(0.0, 0.4062761068344116)",
          "(0.0, 0.4081679582595825)",
          "(0.0, 0.4110187888145447)",
          "(0.0, 0.41579896211624146)",
          "(0.0, 0.4207187294960022)",
          "(0.0, 0.42155221104621887)",
          "(0.0, 0.42174121737480164)",
          "(0.0, 0.4260125458240509)",
          "(0.0, 0.42900848388671875)",
          "(0.0, 0.4291965365409851)",
          "(0.0, 0.42995771765708923)",
          "(0.0, 0.4306528568267822)",
          "(0.0, 0.4344964921474457)",
          "(0.0, 0.4350571930408478)",
          "(0.0, 0.4381270706653595)",
          "(0.0, 0.43935877084732056)",
          "(0.0, 0.43982183933258057)",
          "(0.0, 0.4411891996860504)",
          "(0.0, 0.44238221645355225)",
          "(0.0, 0.4429168999195099)",
          "(0.0, 0.4456518590450287)",
          "(0.0, 0.4469958543777466)",
          "(0.0, 0.448597252368927)",
          "(0.0, 0.4496389627456665)",
          "(0.0, 0.45330557227134705)",
          "(0.0, 0.45572248101234436)",
          "(0.0, 0.4568359851837158)",
          "(0.0, 0.45838573575019836)",
          "(0.0, 0.45880642533302307)",
          "(0.0, 0.45895588397979736)",
          "(0.0, 0.4634849429130554)",
          "(0.0, 0.46434205770492554)",
          "(0.0, 0.46503856778144836)",
          "(0.0, 0.46540483832359314)",
          "(0.0, 0.46581143140792847)",
          "(0.0, 0.46603643894195557)",
          "(0.0, 0.46638378500938416)",
          "(0.0, 0.470268577337265)",
          "(0.0, 0.4715196490287781)",
          "(0.0, 0.4717121720314026)",
          "(0.0, 0.47199633717536926)",
          "(0.0, 0.47213059663772583)",
          "(0.0, 0.47400709986686707)",
          "(0.0, 0.4751056432723999)",
          "(0.0, 0.47531211376190186)",
          "(0.0, 0.4763677716255188)",
          "(0.0, 0.47686877846717834)",
          "(0.0, 0.47791433334350586)",
          "(0.0, 0.4791869819164276)",
          "(0.0, 0.48040062189102173)",
          "(0.0, 0.4828149378299713)",
          "(0.0, 0.4835657775402069)",
          "(0.0, 0.48377862572669983)",
          "(0.0, 0.4839514493942261)",
          "(0.0, 0.4873589873313904)",
          "(0.0, 0.48873910307884216)",
          "(0.0, 0.4892771542072296)",
          "(0.0, 0.4896748960018158)",
          "(0.0, 0.48990997672080994)",
          "(0.0, 0.4900008738040924)",
          "(0.0, 0.4901154339313507)",
          "(0.0, 0.4908335506916046)",
          "(0.0, 0.4917062222957611)",
          "(0.0, 0.4917861521244049)",
          "(0.0, 0.4925185441970825)",
          "(0.0, 0.4934362769126892)",
          "(0.0, 0.4997490346431732)",
          "(0.0, 0.500883162021637)",
          "(0.0, 0.5061694979667664)",
          "(0.0, 0.5090698599815369)",
          "(0.0, 0.5093685984611511)",
          "(0.0, 0.5093705058097839)",
          "(0.0, 0.5153948664665222)",
          "(0.0, 0.518385112285614)",
          "(0.0, 0.521202802658081)",
          "(0.0, 0.5220865607261658)",
          "(0.0, 0.5225552320480347)",
          "(0.0, 0.5258457064628601)",
          "(0.0, 0.5261601805686951)",
          "(0.0, 0.5262894630432129)",
          "(0.0, 0.526399552822113)",
          "(0.0, 0.5284069776535034)",
          "(0.0, 0.528624951839447)",
          "(0.0, 0.5302557945251465)",
          "(0.0, 0.5302822589874268)",
          "(0.0, 0.5308524370193481)",
          "(0.0, 0.5314450263977051)",
          "(0.0, 0.5324330925941467)",
          "(0.0, 0.5337071418762207)",
          "(0.0, 0.5346077680587769)",
          "(0.0, 0.5371395349502563)",
          "(0.0, 0.5431543588638306)",
          "(0.0, 0.5442134737968445)",
          "(0.0, 0.5444766879081726)",
          "(0.0, 0.5452355742454529)",
          "(0.0, 0.5452859401702881)",
          "(0.0, 0.5461646318435669)",
          "(0.0, 0.5478804111480713)",
          "(0.0, 0.5480132102966309)",
          "(0.0, 0.5487191677093506)",
          "(0.0, 0.5493609309196472)",
          "(0.0, 0.550778329372406)",
          "(0.0, 0.5525683164596558)",
          "(0.0, 0.5526057481765747)",
          "(0.0, 0.5543128252029419)",
          "(0.0, 0.5549322962760925)",
          "(0.0, 0.5576025247573853)",
          "(0.0, 0.5577527284622192)",
          "(0.0, 0.5594663619995117)",
          "(0.0, 0.5595685839653015)",
          "(0.0, 0.5597776174545288)",
          "(0.0, 0.5605728626251221)",
          "(0.0, 0.5611538887023926)",
          "(0.0, 0.5623670220375061)",
          "(0.0, 0.5632985234260559)",
          "(0.0, 0.5658394694328308)",
          "(0.0, 0.566514253616333)",
          "(0.0, 0.568535566329956)",
          "(0.0, 0.56876540184021)",
          "(0.0, 0.5711202025413513)",
          "(0.0, 0.5718052983283997)",
          "(0.0, 0.5730562210083008)",
          "(0.0, 0.573944628238678)",
          "(0.0, 0.574539065361023)",
          "(0.0, 0.576055109500885)",
          "(0.0, 0.576934278011322)",
          "(0.0, 0.5770933628082275)",
          "(0.0, 0.5783217549324036)",
          "(0.0, 0.5800237059593201)",
          "(0.0, 0.5801786780357361)",
          "(0.0, 0.5809048414230347)",
          "(0.0, 0.5809895992279053)",
          "(0.0, 0.5814379453659058)",
          "(0.0, 0.583268940448761)",
          "(0.0, 0.5857368111610413)",
          "(0.0, 0.5920443534851074)",
          "(0.0, 0.5922611355781555)",
          "(0.0, 0.5925315022468567)",
          "(0.0, 0.593002438545227)",
          "(0.0, 0.5932402610778809)",
          "(0.0, 0.5951600670814514)",
          "(0.0, 0.5968844294548035)",
          "(0.0, 0.5984775424003601)",
          "(0.0, 0.59874027967453)",
          "(0.0, 0.5989441275596619)",
          "(0.0, 0.6002490520477295)",
          "(0.0, 0.6025358438491821)",
          "(0.0, 0.6029956936836243)",
          "(0.0, 0.6036489605903625)",
          "(0.0, 0.6037086844444275)",
          "(0.0, 0.605224072933197)",
          "(0.0, 0.6055086255073547)",
          "(0.0, 0.6100366711616516)",
          "(0.0, 0.6101221442222595)",
          "(0.0, 0.611897349357605)",
          "(0.0, 0.6119757890701294)",
          "(0.0, 0.6123239398002625)",
          "(0.0, 0.6124557256698608)",
          "(0.0, 0.6129992008209229)",
          "(0.0, 0.6130346059799194)",
          "(0.0, 0.6162472367286682)",
          "(0.0, 0.6186560988426208)",
          "(0.0, 0.6197468042373657)",
          "(0.0, 0.6212236285209656)",
          "(0.0, 0.623374879360199)",
          "(0.0, 0.62565678358078)",
          "(0.0, 0.6260694265365601)",
          "(0.0, 0.6263338327407837)",
          "(0.0, 0.6263958215713501)",
          "(0.0, 0.628952145576477)",
          "(0.0, 0.6289865970611572)",
          "(0.0, 0.6326263546943665)",
          "(0.0, 0.6327000856399536)",
          "(0.0, 0.6334772109985352)",
          "(0.0, 0.6343643665313721)",
          "(0.0, 0.6355013251304626)",
          "(0.0, 0.6356017589569092)",
          "(0.0, 0.6365182995796204)",
          "(0.0, 0.637360692024231)",
          "(0.0, 0.6376438736915588)",
          "(0.0, 0.6389639377593994)",
          "(0.0, 0.6399619579315186)",
          "(0.0, 0.6401891708374023)",
          "(0.0, 0.6416740417480469)",
          "(0.0, 0.6417315602302551)",
          "(0.0, 0.6452377438545227)",
          "(0.0, 0.6505448222160339)",
          "(0.0, 0.6520205736160278)",
          "(0.0, 0.652342677116394)",
          "(0.0, 0.6542959809303284)",
          "(0.0, 0.6566284894943237)",
          "(0.0, 0.6566952466964722)",
          "(0.0, 0.6567440629005432)",
          "(0.0, 0.6600688099861145)",
          "(0.0, 0.6621840000152588)",
          "(0.0, 0.6636221408843994)",
          "(0.0, 0.6684445738792419)",
          "(0.0, 0.6685064435005188)",
          "(0.0, 0.6686083078384399)",
          "(0.0, 0.6690811514854431)",
          "(0.0, 0.66910719871521)",
          "(0.0, 0.6695162057876587)",
          "(0.0, 0.6721099615097046)",
          "(0.0, 0.6738250851631165)",
          "(0.0, 0.6743865013122559)",
          "(0.0, 0.6749345660209656)",
          "(0.0, 0.6751598715782166)",
          "(0.0, 0.6754540205001831)",
          "(0.0, 0.6811378002166748)",
          "(0.0, 0.6835419535636902)",
          "(0.0, 0.6856483221054077)",
          "(0.0, 0.6884863972663879)",
          "(0.0, 0.6887803673744202)",
          "(0.0, 0.6900723576545715)",
          "(0.0, 0.6904785633087158)",
          "(0.0, 0.6913632154464722)",
          "(0.0, 0.6918216347694397)",
          "(0.0, 0.6934211254119873)",
          "(0.0, 0.6951844096183777)",
          "(0.0, 0.6961162686347961)",
          "(0.0, 0.7001391649246216)",
          "(0.0, 0.702427864074707)",
          "(0.0, 0.702488899230957)",
          "(0.0, 0.7026816010475159)",
          "(0.0, 0.7028994560241699)",
          "(0.0, 0.7031465768814087)",
          "(0.0, 0.7045553922653198)",
          "(0.0, 0.7051960825920105)",
          "(0.0, 0.7059360146522522)",
          "(0.0, 0.7072587013244629)",
          "(0.0, 0.7085888385772705)",
          "(0.0, 0.7094229459762573)",
          "(0.0, 0.709430456161499)",
          "(0.0, 0.71022629737854)",
          "(0.0, 0.711097002029419)",
          "(0.0, 0.7177610993385315)",
          "(0.0, 0.7180101275444031)",
          "(0.0, 0.7223063707351685)",
          "(0.0, 0.7237237691879272)",
          "(0.0, 0.7256675362586975)",
          "(0.0, 0.7268742918968201)",
          "(0.0, 0.7281019687652588)",
          "(0.0, 0.7294142842292786)",
          "(0.0, 0.7296489477157593)",
          "(0.0, 0.7297614812850952)",
          "(0.0, 0.7336221933364868)",
          "(0.0, 0.7339411377906799)",
          "(0.0, 0.7366937398910522)",
          "(0.0, 0.7370843887329102)",
          "(0.0, 0.7372512221336365)",
          "(0.0, 0.7376633286476135)",
          "(0.0, 0.7378456592559814)",
          "(0.0, 0.7381938695907593)",
          "(0.0, 0.7398563027381897)",
          "(0.0, 0.7428618669509888)",
          "(0.0, 0.745898425579071)",
          "(0.0, 0.7474589347839355)",
          "(0.0, 0.7513238787651062)",
          "(0.0, 0.7557702660560608)",
          "(0.0, 0.7573238611221313)",
          "(0.0, 0.7612403035163879)",
          "(0.0, 0.7623149156570435)",
          "(0.0, 0.7641842365264893)",
          "(0.0, 0.7644503116607666)",
          "(0.0, 0.7665283679962158)",
          "(0.0, 0.7680538296699524)",
          "(0.0, 0.7717787623405457)",
          "(0.0, 0.7733291387557983)",
          "(0.0, 0.777025580406189)",
          "(0.0, 0.7785593867301941)",
          "(0.0, 0.7819412350654602)",
          "(0.0, 0.785037100315094)",
          "(0.0, 0.785367488861084)",
          "(0.0, 0.7856820225715637)",
          "(0.0, 0.7860796451568604)",
          "(0.0, 0.7912453413009644)",
          "(0.0, 0.7922184467315674)",
          "(0.0, 0.79324871301651)",
          "(0.0, 0.794102132320404)",
          "(0.0, 0.7970584630966187)",
          "(0.0, 0.7982115149497986)",
          "(0.0, 0.7995337247848511)",
          "(0.0, 0.8016266226768494)",
          "(0.0, 0.8033609986305237)",
          "(0.0, 0.8044266104698181)",
          "(0.0, 0.8071200847625732)",
          "(0.0, 0.8111715912818909)",
          "(0.0, 0.8122223615646362)",
          "(0.0, 0.8171509504318237)",
          "(0.0, 0.820168673992157)",
          "(0.0, 0.822871208190918)",
          "(0.0, 0.8235732913017273)",
          "(0.0, 0.8262092471122742)",
          "(0.0, 0.8276509642601013)",
          "(0.0, 0.8289068341255188)",
          "(0.0, 0.8332857489585876)",
          "(0.0, 0.8355700969696045)",
          "(0.0, 0.8364243507385254)",
          "(0.0, 0.8367733955383301)",
          "(0.0, 0.8388939499855042)",
          "(0.0, 0.8394321203231812)",
          "(0.0, 0.8403027653694153)",
          "(0.0, 0.8451107740402222)",
          "(0.0, 0.8465552926063538)",
          "(0.0, 0.8482060432434082)",
          "(0.0, 0.8482510447502136)",
          "(0.0, 0.8523276448249817)",
          "(0.0, 0.8567119836807251)",
          "(0.0, 0.8614439368247986)",
          "(0.0, 0.8620134592056274)",
          "(0.0, 0.8632494211196899)",
          "(0.0, 0.8651658892631531)",
          "(0.0, 0.8659828901290894)",
          "(0.0, 0.866786777973175)",
          "(0.0, 0.8669079542160034)",
          "(0.0, 0.8693958520889282)",
          "(0.0, 0.8713235855102539)",
          "(0.0, 0.873201310634613)",
          "(0.0, 0.8733078837394714)",
          "(0.0, 0.8750428557395935)",
          "(0.0, 0.8753421306610107)",
          "(0.0, 0.875733494758606)",
          "(0.0, 0.8837946653366089)",
          "(0.0, 0.8874867558479309)",
          "(0.0, 0.8882772326469421)",
          "(0.0, 0.88934326171875)",
          "(0.0, 0.8909415602684021)",
          "(0.0, 0.8923934102058411)",
          "(0.0, 0.8949741125106812)",
          "(0.0, 0.8958496451377869)",
          "(0.0, 0.9002845287322998)",
          "(0.0, 0.9053623080253601)",
          "(0.0, 0.9084506034851074)",
          "(0.0, 0.9091418385505676)",
          "(0.0, 0.9121926426887512)",
          "(0.0, 0.9140341281890869)",
          "(0.0, 0.9145389795303345)",
          "(0.0, 0.9165694117546082)",
          "(0.0, 0.9169246554374695)",
          "(0.0, 0.9231275916099548)",
          "(0.0, 0.9265073537826538)",
          "(0.0, 0.9286195635795593)",
          "(0.0, 0.9290097951889038)",
          "(0.0, 0.9296303391456604)",
          "(0.0, 0.9356130361557007)",
          "(0.0, 0.9360125660896301)",
          "(0.0, 0.9432842135429382)",
          "(0.0, 0.9440553784370422)",
          "(0.0, 0.9449968934059143)",
          "(0.0, 0.9451804161071777)",
          "(0.0, 0.9457048773765564)",
          "(0.0, 0.9501240849494934)",
          "(0.0, 0.9518130421638489)",
          "(0.0, 0.9534570574760437)",
          "(0.0, 0.9546946287155151)",
          "(0.0, 0.9549658298492432)",
          "(0.0, 0.9562920928001404)",
          "(0.0, 0.9597879648208618)",
          "(0.0, 0.9610799551010132)",
          "(0.0, 0.9641715288162231)",
          "(0.0, 0.9685018062591553)",
          "(0.0, 0.9864380955696106)",
          "(0.0, 0.9893208146095276)",
          "(0.0, 0.9907349944114685)",
          "(0.0, 0.9918762445449829)",
          "(0.0, 0.9943944215774536)",
          "(0.0, 0.9961052536964417)",
          "(0.0, 0.9964509010314941)",
          "(0.0, 0.9975388646125793)",
          "(0.0, 0.9989635348320007)",
          "(0.0, 0.9989673495292664)",
          "(0.0, 1.0010452270507812)",
          "(0.0, 1.0028103590011597)",
          "(0.0, 1.0051579475402832)",
          "(0.0, 1.0098217725753784)",
          "(0.0, 1.0110901594161987)",
          "(0.0, 1.0117524862289429)",
          "(0.0, 1.0118579864501953)",
          "(0.0, 1.0128977298736572)",
          "(0.0, 1.0136632919311523)",
          "(0.0, 1.0144898891448975)",
          "(0.0, 1.0167676210403442)",
          "(0.0, 1.019108533859253)",
          "(0.0, 1.0192550420761108)",
          "(0.0, 1.0228840112686157)",
          "(0.0, 1.026063323020935)",
          "(0.0, 1.0276141166687012)",
          "(0.0, 1.0354490280151367)",
          "(0.0, 1.0422905683517456)",
          "(0.0, 1.0425246953964233)",
          "(0.0, 1.0434530973434448)",
          "(0.0, 1.0468249320983887)",
          "(0.0, 1.0487781763076782)",
          "(0.0, 1.0511829853057861)",
          "(0.0, 1.0513585805892944)",
          "(0.0, 1.051844835281372)",
          "(0.0, 1.0519782304763794)",
          "(0.0, 1.0680164098739624)",
          "(0.0, 1.0685293674468994)",
          "(0.0, 1.0698878765106201)",
          "(0.0, 1.0709564685821533)",
          "(0.0, 1.0717600584030151)",
          "(0.0, 1.0724914073944092)",
          "(0.0, 1.080220103263855)",
          "(0.0, 1.08053719997406)",
          "(0.0, 1.0807576179504395)",
          "(0.0, 1.0812007188796997)",
          "(0.0, 1.089867115020752)",
          "(0.0, 1.0924403667449951)",
          "(0.0, 1.0946390628814697)",
          "(0.0, 1.0963982343673706)",
          "(0.0, 1.0992553234100342)",
          "(0.0, 1.0994313955307007)",
          "(0.0, 1.105012059211731)",
          "(0.0, 1.1050447225570679)",
          "(0.0, 1.1052743196487427)",
          "(0.0, 1.105376958847046)",
          "(0.0, 1.106685996055603)",
          "(0.0, 1.106963872909546)",
          "(0.0, 1.1069756746292114)",
          "(0.0, 1.1074546575546265)",
          "(0.0, 1.1094856262207031)",
          "(0.0, 1.109513521194458)",
          "(0.0, 1.111413836479187)",
          "(0.0, 1.1120941638946533)",
          "(0.0, 1.1157803535461426)",
          "(0.0, 1.118632197380066)",
          "(0.0, 1.1233091354370117)",
          "(0.0, 1.1244728565216064)",
          "(0.0, 1.1247553825378418)",
          "(0.0, 1.1277363300323486)",
          "(0.0, 1.1283241510391235)",
          "(0.0, 1.1284183263778687)",
          "(0.0, 1.1292492151260376)",
          "(0.0, 1.132203459739685)",
          "(0.0, 1.1330251693725586)",
          "(0.0, 1.134081244468689)",
          "(0.0, 1.136927604675293)",
          "(0.0, 1.1398696899414062)",
          "(0.0, 1.141522765159607)",
          "(0.0, 1.1431611776351929)",
          "(0.0, 1.1448986530303955)",
          "(0.0, 1.1499483585357666)",
          "(0.0, 1.1531906127929688)",
          "(0.0, 1.158213496208191)",
          "(0.0, 1.1583954095840454)",
          "(0.0, 1.1633937358856201)",
          "(0.0, 1.1647192239761353)",
          "(0.0, 1.1648573875427246)",
          "(0.0, 1.1649762392044067)",
          "(0.0, 1.1650129556655884)",
          "(0.0, 1.1670631170272827)",
          "(0.0, 1.167182207107544)",
          "(0.0, 1.1696308851242065)",
          "(0.0, 1.1713396310806274)",
          "(0.0, 1.173714280128479)",
          "(0.0, 1.1826814413070679)",
          "(0.0, 1.1834197044372559)",
          "(0.0, 1.1858296394348145)",
          "(0.0, 1.1913032531738281)",
          "(0.0, 1.197522759437561)",
          "(0.0, 1.1994514465332031)",
          "(0.0, 1.2043007612228394)",
          "(0.0, 1.2054212093353271)",
          "(0.0, 1.208583950996399)",
          "(0.0, 1.2128853797912598)",
          "(0.0, 1.2137351036071777)",
          "(0.0, 1.2173175811767578)",
          "(0.0, 1.2177557945251465)",
          "(0.0, 1.2191487550735474)",
          "(0.0, 1.2210384607315063)",
          "(0.0, 1.2299294471740723)",
          "(0.0, 1.2300400733947754)",
          "(0.0, 1.2349812984466553)",
          "(0.0, 1.23514986038208)",
          "(0.0, 1.2358585596084595)",
          "(0.0, 1.2438197135925293)",
          "(0.0, 1.244984745979309)",
          "(0.0, 1.2483035326004028)",
          "(0.0, 1.2516416311264038)",
          "(0.0, 1.2558854818344116)",
          "(0.0, 1.257611870765686)",
          "(0.0, 1.2625752687454224)",
          "(0.0, 1.263807773590088)",
          "(0.0, 1.2661919593811035)",
          "(0.0, 1.266603946685791)",
          "(0.0, 1.2685599327087402)",
          "(0.0, 1.2699493169784546)",
          "(0.0, 1.2726269960403442)",
          "(0.0, 1.2772971391677856)",
          "(0.0, 1.278002142906189)",
          "(0.0, 1.2822357416152954)",
          "(0.0, 1.315201759338379)",
          "(0.0, 1.3176716566085815)",
          "(0.0, 1.3225120306015015)",
          "(0.0, 1.3236339092254639)",
          "(0.0, 1.329542875289917)",
          "(0.0, 1.3326658010482788)",
          "(0.0, 1.3388597965240479)",
          "(0.0, 1.3519443273544312)",
          "(0.0, 1.3723894357681274)",
          "(0.0, 1.3821625709533691)",
          "(0.0, 1.3938987255096436)",
          "(0.0, 1.3969972133636475)",
          "(0.0, 1.4048715829849243)",
          "(0.0, 1.4103082418441772)",
          "(0.0, 1.410796880722046)",
          "(0.0, 1.4153400659561157)",
          "(0.0, 1.4164557456970215)",
          "(0.0, 1.4205571413040161)",
          "(0.0, 1.4276325702667236)",
          "(0.0, 1.447238564491272)",
          "(0.0, 1.4598519802093506)",
          "(0.0, 1.46099853515625)",
          "(0.0, 1.4624354839324951)",
          "(0.0, 1.465884804725647)",
          "(0.0, 1.466971755027771)",
          "(0.0, 1.4742029905319214)",
          "(0.0, 1.4767179489135742)",
          "(0.0, 1.4922930002212524)",
          "(0.0, 1.4926011562347412)",
          "(0.0, 1.4982638359069824)",
          "(0.0, 1.4990206956863403)",
          "(0.0, 1.5021309852600098)",
          "(0.0, 1.5107145309448242)",
          "(0.0, 1.5163114070892334)",
          "(0.0, 1.523260235786438)",
          "(0.0, 1.5236215591430664)",
          "(0.0, 1.5344070196151733)",
          "(0.0, 1.5351351499557495)",
          "(0.0, 1.5391095876693726)",
          "(0.0, 1.5406090021133423)",
          "(0.0, 1.5573174953460693)",
          "(0.0, 1.5804370641708374)",
          "(0.0, 1.590640902519226)",
          "(0.0, 1.5921826362609863)",
          "(0.0, 1.5954760313034058)",
          "(0.0, 1.5970630645751953)",
          "(0.0, 1.6044586896896362)",
          "(0.0, 1.6066843271255493)",
          "(0.0, 1.609548568725586)",
          "(0.0, 1.6234385967254639)",
          "(0.0, 1.627395749092102)",
          "(0.0, 1.6365169286727905)",
          "(0.0, 1.6574121713638306)",
          "(0.0, 1.6602940559387207)",
          "(0.0, 1.6625968217849731)",
          "(0.0, 1.681133508682251)",
          "(0.0, 1.6830432415008545)",
          "(0.0, 1.6839582920074463)",
          "(0.0, 1.6873624324798584)",
          "(0.0, 1.6953198909759521)",
          "(0.0, 1.7042251825332642)",
          "(0.0, 1.7073217630386353)",
          "(0.0, 1.7093522548675537)",
          "(0.0, 1.7190399169921875)",
          "(0.0, 1.7302125692367554)",
          "(0.0, 1.731736183166504)",
          "(0.0, 1.7652865648269653)",
          "(0.0, 1.7660048007965088)",
          "(0.0, 1.7676165103912354)",
          "(0.0, 1.7862833738327026)",
          "(0.0, 1.789172887802124)",
          "(0.0, 1.8003357648849487)",
          "(0.0, 1.813759207725525)",
          "(0.0, 1.827559232711792)",
          "(0.0, 1.829221248626709)",
          "(0.0, 1.8648890256881714)",
          "(0.0, 1.874489188194275)",
          "(0.0, 1.874623417854309)",
          "(0.0, 1.8864153623580933)",
          "(0.0, 1.8895937204360962)",
          "(0.0, 1.893466591835022)",
          "(0.0, 1.9038289785385132)",
          "(0.0, 1.9204829931259155)",
          "(0.0, 1.9380104541778564)",
          "(0.0, 1.9437049627304077)",
          "(0.0, 1.9438326358795166)",
          "(0.0, 1.9562993049621582)",
          "(0.0, 2.00180983543396)",
          "(0.0, 2.0036604404449463)",
          "(0.0, 2.0070652961730957)",
          "(0.0, 2.0915260314941406)",
          "(0.0, 2.092076063156128)",
          "(0.0, 2.353989601135254)",
          "(0.0, 2.4303441047668457)",
          "(0.0, 2.444542169570923)",
          "(0.0, 2.4954819679260254)",
          "(0.0, 2.4979207515716553)",
          "(0.0, 2.4981651306152344)",
          "(0.0, 2.546149969100952)",
          "(0.0, 2.584749221801758)",
          "(0.0, 2.6465373039245605)",
          "(0.0, 2.667299509048462)",
          "(0.0, 2.764761209487915)",
          "(0.0, 2.8072662353515625)",
          "(0.0, 2.810525894165039)",
          "(0.0, 2.894068956375122)",
          "(0.0, 2.9194931983947754)",
          "(0.0, 2.944347620010376)",
          "(0.0, 2.999891757965088)",
          "(0.0, 3.1154885292053223)",
          "(0.0, 3.1408145427703857)",
          "(0.0, 3.162306785583496)",
          "(0.0, 3.220140218734741)",
          "(0.0, 3.2591440677642822)",
          "(0.0, 3.2908594608306885)",
          "(0.0, 3.3405160903930664)",
          "(0.0, 3.34138560295105)",
          "(0.0, 3.3513343334198)",
          "(0.0, 3.430393934249878)",
          "(0.0, 3.6694540977478027)",
          "(0.0, 3.812859296798706)",
          "(0.0, 3.869136333465576)",
          "(0.0, 4.402153491973877)",
          "(0.0, 4.460788249969482)",
          "(0.0, 4.490245342254639)",
          "(0.0, 4.60666036605835)",
          "(0.0, 4.670716762542725)",
          "(0.0, 4.878796577453613)",
          "(0.0, 5.121922969818115)",
          "(0.0, 5.514312744140625)",
          "(0.0, 6.493372917175293)",
          "(0.0, 6.872958183288574)",
          "(0.0, 7.450289726257324)"
         ],
         "mode": "markers",
         "name": "H0",
         "type": "scatter",
         "x": [
          0,
          0,
          0,
          0,
          0,
          0,
          0,
          0,
          0,
          0,
          0,
          0,
          0,
          0,
          0,
          0,
          0,
          0,
          0,
          0,
          0,
          0,
          0,
          0,
          0,
          0,
          0,
          0,
          0,
          0,
          0,
          0,
          0,
          0,
          0,
          0,
          0,
          0,
          0,
          0,
          0,
          0,
          0,
          0,
          0,
          0,
          0,
          0,
          0,
          0,
          0,
          0,
          0,
          0,
          0,
          0,
          0,
          0,
          0,
          0,
          0,
          0,
          0,
          0,
          0,
          0,
          0,
          0,
          0,
          0,
          0,
          0,
          0,
          0,
          0,
          0,
          0,
          0,
          0,
          0,
          0,
          0,
          0,
          0,
          0,
          0,
          0,
          0,
          0,
          0,
          0,
          0,
          0,
          0,
          0,
          0,
          0,
          0,
          0,
          0,
          0,
          0,
          0,
          0,
          0,
          0,
          0,
          0,
          0,
          0,
          0,
          0,
          0,
          0,
          0,
          0,
          0,
          0,
          0,
          0,
          0,
          0,
          0,
          0,
          0,
          0,
          0,
          0,
          0,
          0,
          0,
          0,
          0,
          0,
          0,
          0,
          0,
          0,
          0,
          0,
          0,
          0,
          0,
          0,
          0,
          0,
          0,
          0,
          0,
          0,
          0,
          0,
          0,
          0,
          0,
          0,
          0,
          0,
          0,
          0,
          0,
          0,
          0,
          0,
          0,
          0,
          0,
          0,
          0,
          0,
          0,
          0,
          0,
          0,
          0,
          0,
          0,
          0,
          0,
          0,
          0,
          0,
          0,
          0,
          0,
          0,
          0,
          0,
          0,
          0,
          0,
          0,
          0,
          0,
          0,
          0,
          0,
          0,
          0,
          0,
          0,
          0,
          0,
          0,
          0,
          0,
          0,
          0,
          0,
          0,
          0,
          0,
          0,
          0,
          0,
          0,
          0,
          0,
          0,
          0,
          0,
          0,
          0,
          0,
          0,
          0,
          0,
          0,
          0,
          0,
          0,
          0,
          0,
          0,
          0,
          0,
          0,
          0,
          0,
          0,
          0,
          0,
          0,
          0,
          0,
          0,
          0,
          0,
          0,
          0,
          0,
          0,
          0,
          0,
          0,
          0,
          0,
          0,
          0,
          0,
          0,
          0,
          0,
          0,
          0,
          0,
          0,
          0,
          0,
          0,
          0,
          0,
          0,
          0,
          0,
          0,
          0,
          0,
          0,
          0,
          0,
          0,
          0,
          0,
          0,
          0,
          0,
          0,
          0,
          0,
          0,
          0,
          0,
          0,
          0,
          0,
          0,
          0,
          0,
          0,
          0,
          0,
          0,
          0,
          0,
          0,
          0,
          0,
          0,
          0,
          0,
          0,
          0,
          0,
          0,
          0,
          0,
          0,
          0,
          0,
          0,
          0,
          0,
          0,
          0,
          0,
          0,
          0,
          0,
          0,
          0,
          0,
          0,
          0,
          0,
          0,
          0,
          0,
          0,
          0,
          0,
          0,
          0,
          0,
          0,
          0,
          0,
          0,
          0,
          0,
          0,
          0,
          0,
          0,
          0,
          0,
          0,
          0,
          0,
          0,
          0,
          0,
          0,
          0,
          0,
          0,
          0,
          0,
          0,
          0,
          0,
          0,
          0,
          0,
          0,
          0,
          0,
          0,
          0,
          0,
          0,
          0,
          0,
          0,
          0,
          0,
          0,
          0,
          0,
          0,
          0,
          0,
          0,
          0,
          0,
          0,
          0,
          0,
          0,
          0,
          0,
          0,
          0,
          0,
          0,
          0,
          0,
          0,
          0,
          0,
          0,
          0,
          0,
          0,
          0,
          0,
          0,
          0,
          0,
          0,
          0,
          0,
          0,
          0,
          0,
          0,
          0,
          0,
          0,
          0,
          0,
          0,
          0,
          0,
          0,
          0,
          0,
          0,
          0,
          0,
          0,
          0,
          0,
          0,
          0,
          0,
          0,
          0,
          0,
          0,
          0,
          0,
          0,
          0,
          0,
          0,
          0,
          0,
          0,
          0,
          0,
          0,
          0,
          0,
          0,
          0,
          0,
          0,
          0,
          0,
          0,
          0,
          0,
          0,
          0,
          0,
          0,
          0,
          0,
          0,
          0,
          0,
          0,
          0,
          0,
          0,
          0,
          0,
          0,
          0,
          0,
          0,
          0,
          0,
          0,
          0,
          0,
          0,
          0,
          0,
          0,
          0,
          0,
          0,
          0,
          0,
          0,
          0,
          0,
          0,
          0,
          0,
          0,
          0,
          0,
          0,
          0,
          0,
          0,
          0,
          0,
          0,
          0,
          0,
          0,
          0,
          0,
          0,
          0,
          0,
          0,
          0,
          0,
          0,
          0,
          0,
          0,
          0,
          0,
          0,
          0,
          0,
          0,
          0,
          0,
          0,
          0,
          0,
          0,
          0,
          0,
          0,
          0,
          0,
          0,
          0,
          0,
          0,
          0,
          0,
          0,
          0,
          0,
          0,
          0,
          0,
          0,
          0,
          0,
          0,
          0,
          0,
          0,
          0,
          0,
          0,
          0,
          0,
          0,
          0,
          0,
          0,
          0,
          0,
          0,
          0,
          0,
          0,
          0,
          0,
          0,
          0,
          0,
          0,
          0,
          0,
          0,
          0,
          0,
          0,
          0,
          0,
          0,
          0,
          0,
          0,
          0,
          0,
          0,
          0,
          0,
          0,
          0,
          0,
          0,
          0,
          0,
          0,
          0,
          0,
          0,
          0,
          0,
          0,
          0,
          0,
          0,
          0,
          0,
          0,
          0,
          0,
          0,
          0,
          0,
          0,
          0,
          0,
          0,
          0,
          0,
          0,
          0,
          0,
          0,
          0,
          0,
          0,
          0,
          0,
          0,
          0,
          0,
          0,
          0,
          0,
          0,
          0,
          0,
          0,
          0,
          0,
          0,
          0,
          0,
          0,
          0,
          0,
          0,
          0,
          0,
          0,
          0,
          0,
          0,
          0,
          0,
          0,
          0,
          0,
          0,
          0,
          0,
          0,
          0,
          0,
          0,
          0,
          0,
          0,
          0,
          0,
          0,
          0,
          0,
          0,
          0,
          0,
          0,
          0,
          0,
          0,
          0,
          0,
          0,
          0,
          0,
          0,
          0,
          0,
          0,
          0,
          0,
          0,
          0,
          0,
          0,
          0,
          0,
          0,
          0,
          0,
          0,
          0,
          0,
          0,
          0,
          0,
          0,
          0,
          0,
          0,
          0,
          0,
          0,
          0,
          0,
          0,
          0,
          0,
          0,
          0,
          0,
          0,
          0,
          0,
          0,
          0,
          0,
          0,
          0,
          0,
          0,
          0,
          0,
          0,
          0,
          0,
          0,
          0,
          0,
          0,
          0,
          0
         ],
         "y": [
          0.06525371968746185,
          0.0701761543750763,
          0.08911149948835373,
          0.10010605305433273,
          0.11137765645980835,
          0.12095217406749725,
          0.12401561439037323,
          0.13036441802978516,
          0.1328699141740799,
          0.13390995562076569,
          0.13421298563480377,
          0.13531984388828278,
          0.13627710938453674,
          0.13831166923046112,
          0.1388119012117386,
          0.1414712369441986,
          0.14275208115577698,
          0.1435222327709198,
          0.14354930818080902,
          0.14387834072113037,
          0.14496134221553802,
          0.14642812311649323,
          0.1468811333179474,
          0.14743053913116455,
          0.14919675886631012,
          0.1504782736301422,
          0.15089474618434906,
          0.15178264677524567,
          0.1517912596464157,
          0.15254753828048706,
          0.1529044359922409,
          0.15594887733459473,
          0.1581684947013855,
          0.15962478518486023,
          0.16059517860412598,
          0.16937637329101562,
          0.17007391154766083,
          0.1708497852087021,
          0.17689409852027893,
          0.18124806880950928,
          0.1828019917011261,
          0.18377703428268433,
          0.1892957240343094,
          0.19164040684700012,
          0.1919259876012802,
          0.1973777711391449,
          0.2006986290216446,
          0.20374813675880432,
          0.20918728411197662,
          0.21154829859733582,
          0.21163755655288696,
          0.21219198405742645,
          0.22150777280330658,
          0.22678892314434052,
          0.23172786831855774,
          0.23380644619464874,
          0.2347979098558426,
          0.2361142635345459,
          0.23621830344200134,
          0.24029065668582916,
          0.244261234998703,
          0.24463704228401184,
          0.24546881020069122,
          0.24805843830108643,
          0.24852073192596436,
          0.2510181665420532,
          0.25592470169067383,
          0.25663885474205017,
          0.2625206708908081,
          0.26299941539764404,
          0.2698915898799896,
          0.27029353380203247,
          0.2766246497631073,
          0.2795757055282593,
          0.2809402346611023,
          0.28252509236335754,
          0.28332704305648804,
          0.28382134437561035,
          0.2840363383293152,
          0.2871004641056061,
          0.2913857400417328,
          0.2914779782295227,
          0.2934268116950989,
          0.2935350835323334,
          0.2954502999782562,
          0.3006218373775482,
          0.30482348799705505,
          0.30501383543014526,
          0.3246285617351532,
          0.32515379786491394,
          0.3266901969909668,
          0.32682690024375916,
          0.3274437189102173,
          0.33342334628105164,
          0.3344869017601013,
          0.3430095613002777,
          0.3431590497493744,
          0.3455291986465454,
          0.3494642674922943,
          0.35056135058403015,
          0.35075879096984863,
          0.35358864068984985,
          0.3542083501815796,
          0.357307106256485,
          0.3573760688304901,
          0.3578180968761444,
          0.36107829213142395,
          0.3618348240852356,
          0.36305397748947144,
          0.3655436336994171,
          0.369288831949234,
          0.3693639636039734,
          0.37166669964790344,
          0.3737862706184387,
          0.3740895986557007,
          0.3787727952003479,
          0.37897348403930664,
          0.3792978823184967,
          0.3828105926513672,
          0.3841535449028015,
          0.385311096906662,
          0.3856564164161682,
          0.3862379789352417,
          0.38639989495277405,
          0.3876464366912842,
          0.38840290904045105,
          0.38856151700019836,
          0.3894204795360565,
          0.39003393054008484,
          0.39100661873817444,
          0.3930157721042633,
          0.39317604899406433,
          0.3931994140148163,
          0.39328375458717346,
          0.3936714828014374,
          0.3943684697151184,
          0.3947925269603729,
          0.39747053384780884,
          0.4058927595615387,
          0.4062761068344116,
          0.4081679582595825,
          0.4110187888145447,
          0.41579896211624146,
          0.4207187294960022,
          0.42155221104621887,
          0.42174121737480164,
          0.4260125458240509,
          0.42900848388671875,
          0.4291965365409851,
          0.42995771765708923,
          0.4306528568267822,
          0.4344964921474457,
          0.4350571930408478,
          0.4381270706653595,
          0.43935877084732056,
          0.43982183933258057,
          0.4411891996860504,
          0.44238221645355225,
          0.4429168999195099,
          0.4456518590450287,
          0.4469958543777466,
          0.448597252368927,
          0.4496389627456665,
          0.45330557227134705,
          0.45572248101234436,
          0.4568359851837158,
          0.45838573575019836,
          0.45880642533302307,
          0.45895588397979736,
          0.4634849429130554,
          0.46434205770492554,
          0.46503856778144836,
          0.46540483832359314,
          0.46581143140792847,
          0.46603643894195557,
          0.46638378500938416,
          0.470268577337265,
          0.4715196490287781,
          0.4717121720314026,
          0.47199633717536926,
          0.47213059663772583,
          0.47400709986686707,
          0.4751056432723999,
          0.47531211376190186,
          0.4763677716255188,
          0.47686877846717834,
          0.47791433334350586,
          0.4791869819164276,
          0.48040062189102173,
          0.4828149378299713,
          0.4835657775402069,
          0.48377862572669983,
          0.4839514493942261,
          0.4873589873313904,
          0.48873910307884216,
          0.4892771542072296,
          0.4896748960018158,
          0.48990997672080994,
          0.4900008738040924,
          0.4901154339313507,
          0.4908335506916046,
          0.4917062222957611,
          0.4917861521244049,
          0.4925185441970825,
          0.4934362769126892,
          0.4997490346431732,
          0.500883162021637,
          0.5061694979667664,
          0.5090698599815369,
          0.5093685984611511,
          0.5093705058097839,
          0.5153948664665222,
          0.518385112285614,
          0.521202802658081,
          0.5220865607261658,
          0.5225552320480347,
          0.5258457064628601,
          0.5261601805686951,
          0.5262894630432129,
          0.526399552822113,
          0.5284069776535034,
          0.528624951839447,
          0.5302557945251465,
          0.5302822589874268,
          0.5308524370193481,
          0.5314450263977051,
          0.5324330925941467,
          0.5337071418762207,
          0.5346077680587769,
          0.5371395349502563,
          0.5431543588638306,
          0.5442134737968445,
          0.5444766879081726,
          0.5452355742454529,
          0.5452859401702881,
          0.5461646318435669,
          0.5478804111480713,
          0.5480132102966309,
          0.5487191677093506,
          0.5493609309196472,
          0.550778329372406,
          0.5525683164596558,
          0.5526057481765747,
          0.5543128252029419,
          0.5549322962760925,
          0.5576025247573853,
          0.5577527284622192,
          0.5594663619995117,
          0.5595685839653015,
          0.5597776174545288,
          0.5605728626251221,
          0.5611538887023926,
          0.5623670220375061,
          0.5632985234260559,
          0.5658394694328308,
          0.566514253616333,
          0.568535566329956,
          0.56876540184021,
          0.5711202025413513,
          0.5718052983283997,
          0.5730562210083008,
          0.573944628238678,
          0.574539065361023,
          0.576055109500885,
          0.576934278011322,
          0.5770933628082275,
          0.5783217549324036,
          0.5800237059593201,
          0.5801786780357361,
          0.5809048414230347,
          0.5809895992279053,
          0.5814379453659058,
          0.583268940448761,
          0.5857368111610413,
          0.5920443534851074,
          0.5922611355781555,
          0.5925315022468567,
          0.593002438545227,
          0.5932402610778809,
          0.5951600670814514,
          0.5968844294548035,
          0.5984775424003601,
          0.59874027967453,
          0.5989441275596619,
          0.6002490520477295,
          0.6025358438491821,
          0.6029956936836243,
          0.6036489605903625,
          0.6037086844444275,
          0.605224072933197,
          0.6055086255073547,
          0.6100366711616516,
          0.6101221442222595,
          0.611897349357605,
          0.6119757890701294,
          0.6123239398002625,
          0.6124557256698608,
          0.6129992008209229,
          0.6130346059799194,
          0.6162472367286682,
          0.6186560988426208,
          0.6197468042373657,
          0.6212236285209656,
          0.623374879360199,
          0.62565678358078,
          0.6260694265365601,
          0.6263338327407837,
          0.6263958215713501,
          0.628952145576477,
          0.6289865970611572,
          0.6326263546943665,
          0.6327000856399536,
          0.6334772109985352,
          0.6343643665313721,
          0.6355013251304626,
          0.6356017589569092,
          0.6365182995796204,
          0.637360692024231,
          0.6376438736915588,
          0.6389639377593994,
          0.6399619579315186,
          0.6401891708374023,
          0.6416740417480469,
          0.6417315602302551,
          0.6452377438545227,
          0.6505448222160339,
          0.6520205736160278,
          0.652342677116394,
          0.6542959809303284,
          0.6566284894943237,
          0.6566952466964722,
          0.6567440629005432,
          0.6600688099861145,
          0.6621840000152588,
          0.6636221408843994,
          0.6684445738792419,
          0.6685064435005188,
          0.6686083078384399,
          0.6690811514854431,
          0.66910719871521,
          0.6695162057876587,
          0.6721099615097046,
          0.6738250851631165,
          0.6743865013122559,
          0.6749345660209656,
          0.6751598715782166,
          0.6754540205001831,
          0.6811378002166748,
          0.6835419535636902,
          0.6856483221054077,
          0.6884863972663879,
          0.6887803673744202,
          0.6900723576545715,
          0.6904785633087158,
          0.6913632154464722,
          0.6918216347694397,
          0.6934211254119873,
          0.6951844096183777,
          0.6961162686347961,
          0.7001391649246216,
          0.702427864074707,
          0.702488899230957,
          0.7026816010475159,
          0.7028994560241699,
          0.7031465768814087,
          0.7045553922653198,
          0.7051960825920105,
          0.7059360146522522,
          0.7072587013244629,
          0.7085888385772705,
          0.7094229459762573,
          0.709430456161499,
          0.71022629737854,
          0.711097002029419,
          0.7177610993385315,
          0.7180101275444031,
          0.7223063707351685,
          0.7237237691879272,
          0.7256675362586975,
          0.7268742918968201,
          0.7281019687652588,
          0.7294142842292786,
          0.7296489477157593,
          0.7297614812850952,
          0.7336221933364868,
          0.7339411377906799,
          0.7366937398910522,
          0.7370843887329102,
          0.7372512221336365,
          0.7376633286476135,
          0.7378456592559814,
          0.7381938695907593,
          0.7398563027381897,
          0.7428618669509888,
          0.745898425579071,
          0.7474589347839355,
          0.7513238787651062,
          0.7557702660560608,
          0.7573238611221313,
          0.7612403035163879,
          0.7623149156570435,
          0.7641842365264893,
          0.7644503116607666,
          0.7665283679962158,
          0.7680538296699524,
          0.7717787623405457,
          0.7733291387557983,
          0.777025580406189,
          0.7785593867301941,
          0.7819412350654602,
          0.785037100315094,
          0.785367488861084,
          0.7856820225715637,
          0.7860796451568604,
          0.7912453413009644,
          0.7922184467315674,
          0.79324871301651,
          0.794102132320404,
          0.7970584630966187,
          0.7982115149497986,
          0.7995337247848511,
          0.8016266226768494,
          0.8033609986305237,
          0.8044266104698181,
          0.8071200847625732,
          0.8111715912818909,
          0.8122223615646362,
          0.8171509504318237,
          0.820168673992157,
          0.822871208190918,
          0.8235732913017273,
          0.8262092471122742,
          0.8276509642601013,
          0.8289068341255188,
          0.8332857489585876,
          0.8355700969696045,
          0.8364243507385254,
          0.8367733955383301,
          0.8388939499855042,
          0.8394321203231812,
          0.8403027653694153,
          0.8451107740402222,
          0.8465552926063538,
          0.8482060432434082,
          0.8482510447502136,
          0.8523276448249817,
          0.8567119836807251,
          0.8614439368247986,
          0.8620134592056274,
          0.8632494211196899,
          0.8651658892631531,
          0.8659828901290894,
          0.866786777973175,
          0.8669079542160034,
          0.8693958520889282,
          0.8713235855102539,
          0.873201310634613,
          0.8733078837394714,
          0.8750428557395935,
          0.8753421306610107,
          0.875733494758606,
          0.8837946653366089,
          0.8874867558479309,
          0.8882772326469421,
          0.88934326171875,
          0.8909415602684021,
          0.8923934102058411,
          0.8949741125106812,
          0.8958496451377869,
          0.9002845287322998,
          0.9053623080253601,
          0.9084506034851074,
          0.9091418385505676,
          0.9121926426887512,
          0.9140341281890869,
          0.9145389795303345,
          0.9165694117546082,
          0.9169246554374695,
          0.9231275916099548,
          0.9265073537826538,
          0.9286195635795593,
          0.9290097951889038,
          0.9296303391456604,
          0.9356130361557007,
          0.9360125660896301,
          0.9432842135429382,
          0.9440553784370422,
          0.9449968934059143,
          0.9451804161071777,
          0.9457048773765564,
          0.9501240849494934,
          0.9518130421638489,
          0.9534570574760437,
          0.9546946287155151,
          0.9549658298492432,
          0.9562920928001404,
          0.9597879648208618,
          0.9610799551010132,
          0.9641715288162231,
          0.9685018062591553,
          0.9864380955696106,
          0.9893208146095276,
          0.9907349944114685,
          0.9918762445449829,
          0.9943944215774536,
          0.9961052536964417,
          0.9964509010314941,
          0.9975388646125793,
          0.9989635348320007,
          0.9989673495292664,
          1.0010452270507812,
          1.0028103590011597,
          1.0051579475402832,
          1.0098217725753784,
          1.0110901594161987,
          1.0117524862289429,
          1.0118579864501953,
          1.0128977298736572,
          1.0136632919311523,
          1.0144898891448975,
          1.0167676210403442,
          1.019108533859253,
          1.0192550420761108,
          1.0228840112686157,
          1.026063323020935,
          1.0276141166687012,
          1.0354490280151367,
          1.0422905683517456,
          1.0425246953964233,
          1.0434530973434448,
          1.0468249320983887,
          1.0487781763076782,
          1.0511829853057861,
          1.0513585805892944,
          1.051844835281372,
          1.0519782304763794,
          1.0680164098739624,
          1.0685293674468994,
          1.0698878765106201,
          1.0709564685821533,
          1.0717600584030151,
          1.0724914073944092,
          1.080220103263855,
          1.08053719997406,
          1.0807576179504395,
          1.0812007188796997,
          1.089867115020752,
          1.0924403667449951,
          1.0946390628814697,
          1.0963982343673706,
          1.0992553234100342,
          1.0994313955307007,
          1.105012059211731,
          1.1050447225570679,
          1.1052743196487427,
          1.105376958847046,
          1.106685996055603,
          1.106963872909546,
          1.1069756746292114,
          1.1074546575546265,
          1.1094856262207031,
          1.109513521194458,
          1.111413836479187,
          1.1120941638946533,
          1.1157803535461426,
          1.118632197380066,
          1.1233091354370117,
          1.1244728565216064,
          1.1247553825378418,
          1.1277363300323486,
          1.1283241510391235,
          1.1284183263778687,
          1.1292492151260376,
          1.132203459739685,
          1.1330251693725586,
          1.134081244468689,
          1.136927604675293,
          1.1398696899414062,
          1.141522765159607,
          1.1431611776351929,
          1.1448986530303955,
          1.1499483585357666,
          1.1531906127929688,
          1.158213496208191,
          1.1583954095840454,
          1.1633937358856201,
          1.1647192239761353,
          1.1648573875427246,
          1.1649762392044067,
          1.1650129556655884,
          1.1670631170272827,
          1.167182207107544,
          1.1696308851242065,
          1.1713396310806274,
          1.173714280128479,
          1.1826814413070679,
          1.1834197044372559,
          1.1858296394348145,
          1.1913032531738281,
          1.197522759437561,
          1.1994514465332031,
          1.2043007612228394,
          1.2054212093353271,
          1.208583950996399,
          1.2128853797912598,
          1.2137351036071777,
          1.2173175811767578,
          1.2177557945251465,
          1.2191487550735474,
          1.2210384607315063,
          1.2299294471740723,
          1.2300400733947754,
          1.2349812984466553,
          1.23514986038208,
          1.2358585596084595,
          1.2438197135925293,
          1.244984745979309,
          1.2483035326004028,
          1.2516416311264038,
          1.2558854818344116,
          1.257611870765686,
          1.2625752687454224,
          1.263807773590088,
          1.2661919593811035,
          1.266603946685791,
          1.2685599327087402,
          1.2699493169784546,
          1.2726269960403442,
          1.2772971391677856,
          1.278002142906189,
          1.2822357416152954,
          1.315201759338379,
          1.3176716566085815,
          1.3225120306015015,
          1.3236339092254639,
          1.329542875289917,
          1.3326658010482788,
          1.3388597965240479,
          1.3519443273544312,
          1.3723894357681274,
          1.3821625709533691,
          1.3938987255096436,
          1.3969972133636475,
          1.4048715829849243,
          1.4103082418441772,
          1.410796880722046,
          1.4153400659561157,
          1.4164557456970215,
          1.4205571413040161,
          1.4276325702667236,
          1.447238564491272,
          1.4598519802093506,
          1.46099853515625,
          1.4624354839324951,
          1.465884804725647,
          1.466971755027771,
          1.4742029905319214,
          1.4767179489135742,
          1.4922930002212524,
          1.4926011562347412,
          1.4982638359069824,
          1.4990206956863403,
          1.5021309852600098,
          1.5107145309448242,
          1.5163114070892334,
          1.523260235786438,
          1.5236215591430664,
          1.5344070196151733,
          1.5351351499557495,
          1.5391095876693726,
          1.5406090021133423,
          1.5573174953460693,
          1.5804370641708374,
          1.590640902519226,
          1.5921826362609863,
          1.5954760313034058,
          1.5970630645751953,
          1.6044586896896362,
          1.6066843271255493,
          1.609548568725586,
          1.6234385967254639,
          1.627395749092102,
          1.6365169286727905,
          1.6574121713638306,
          1.6602940559387207,
          1.6625968217849731,
          1.681133508682251,
          1.6830432415008545,
          1.6839582920074463,
          1.6873624324798584,
          1.6953198909759521,
          1.7042251825332642,
          1.7073217630386353,
          1.7093522548675537,
          1.7190399169921875,
          1.7302125692367554,
          1.731736183166504,
          1.7652865648269653,
          1.7660048007965088,
          1.7676165103912354,
          1.7862833738327026,
          1.789172887802124,
          1.8003357648849487,
          1.813759207725525,
          1.827559232711792,
          1.829221248626709,
          1.8648890256881714,
          1.874489188194275,
          1.874623417854309,
          1.8864153623580933,
          1.8895937204360962,
          1.893466591835022,
          1.9038289785385132,
          1.9204829931259155,
          1.9380104541778564,
          1.9437049627304077,
          1.9438326358795166,
          1.9562993049621582,
          2.00180983543396,
          2.0036604404449463,
          2.0070652961730957,
          2.0915260314941406,
          2.092076063156128,
          2.353989601135254,
          2.4303441047668457,
          2.444542169570923,
          2.4954819679260254,
          2.4979207515716553,
          2.4981651306152344,
          2.546149969100952,
          2.584749221801758,
          2.6465373039245605,
          2.667299509048462,
          2.764761209487915,
          2.8072662353515625,
          2.810525894165039,
          2.894068956375122,
          2.9194931983947754,
          2.944347620010376,
          2.999891757965088,
          3.1154885292053223,
          3.1408145427703857,
          3.162306785583496,
          3.220140218734741,
          3.2591440677642822,
          3.2908594608306885,
          3.3405160903930664,
          3.34138560295105,
          3.3513343334198,
          3.430393934249878,
          3.6694540977478027,
          3.812859296798706,
          3.869136333465576,
          4.402153491973877,
          4.460788249969482,
          4.490245342254639,
          4.60666036605835,
          4.670716762542725,
          4.878796577453613,
          5.121922969818115,
          5.514312744140625,
          6.493372917175293,
          6.872958183288574,
          7.450289726257324
         ]
        },
        {
         "hoverinfo": "text",
         "hovertext": [
          "(12.58758544921875, 12.786767959594727)",
          "(12.050625801086426, 12.294276237487793)",
          "(11.317633628845215, 11.513944625854492)",
          "(10.76112174987793, 11.162293434143066)",
          "(10.163688659667969, 10.366556167602539)",
          "(9.73302936553955, 9.75251293182373)",
          "(8.303385734558105, 8.36134147644043)",
          "(7.584744453430176, 12.564922332763672)",
          "(6.352504253387451, 6.389129161834717)",
          "(6.250852108001709, 6.266969680786133)",
          "(6.180760383605957, 6.3491950035095215)",
          "(6.177400588989258, 6.21115779876709)",
          "(6.172555923461914, 6.239119529724121)",
          "(6.149716854095459, 6.227344989776611)",
          "(6.105771541595459, 6.203861236572266)",
          "(6.004494667053223, 6.134675025939941)",
          "(5.874108791351318, 5.982785224914551)",
          "(5.797628402709961, 5.943393230438232)",
          "(5.788232326507568, 5.841522216796875)",
          "(5.7537431716918945, 5.861649990081787)",
          "(5.730684757232666, 5.856300354003906)",
          "(5.724754810333252, 5.843367099761963)",
          "(5.706180572509766, 5.867359638214111)",
          "(5.676387310028076, 5.80654239654541)",
          "(5.673514366149902, 5.6773271560668945)",
          "(5.672776699066162, 5.820645809173584)",
          "(5.667044162750244, 5.7350544929504395)",
          "(5.6430206298828125, 5.670841693878174)",
          "(5.640926837921143, 5.897479057312012)",
          "(5.5360188484191895, 5.7035369873046875)",
          "(5.497009754180908, 5.527657985687256)",
          "(5.297433376312256, 5.384901523590088)",
          "(5.281393527984619, 5.522302150726318)",
          "(5.226562023162842, 5.443731784820557)",
          "(5.134481906890869, 5.629875659942627)",
          "(5.047548294067383, 5.1054182052612305)",
          "(4.971551895141602, 5.370439052581787)",
          "(4.926719665527344, 4.944703102111816)",
          "(4.84185791015625, 5.01116943359375)",
          "(4.837593078613281, 4.843964576721191)",
          "(4.827954292297363, 4.9934587478637695)",
          "(4.738368034362793, 5.073832988739014)",
          "(4.738160133361816, 4.976586818695068)",
          "(4.66294527053833, 6.615411758422852)",
          "(4.578887939453125, 4.655435085296631)",
          "(4.445200443267822, 4.916679382324219)",
          "(4.439556121826172, 4.451756954193115)",
          "(4.37403678894043, 4.389288425445557)",
          "(4.353667736053467, 5.624207019805908)",
          "(4.348410606384277, 4.407393455505371)",
          "(4.230343341827393, 5.952494144439697)",
          "(4.1484174728393555, 6.418600082397461)",
          "(4.09940767288208, 4.123813152313232)",
          "(4.026607990264893, 4.2341628074646)",
          "(3.8941452503204346, 3.905269145965576)",
          "(3.7585649490356445, 8.645575523376465)",
          "(3.5556323528289795, 3.6065587997436523)",
          "(3.4562172889709473, 19.34695053100586)",
          "(3.413922071456909, 3.5204737186431885)",
          "(3.3246405124664307, 12.967334747314453)",
          "(3.1894593238830566, 3.197979211807251)",
          "(2.9679436683654785, 2.9989142417907715)",
          "(2.11612606048584, 10.78094482421875)",
          "(2.085052967071533, 2.090790033340454)",
          "(1.6759288311004639, 1.910135269165039)",
          "(1.6691062450408936, 1.689395785331726)",
          "(1.419216275215149, 1.4289079904556274)",
          "(1.3556007146835327, 1.394256591796875)",
          "(1.2278821468353271, 1.2414002418518066)",
          "(1.1869145631790161, 1.190061330795288)",
          "(0.5338907837867737, 0.5586981177330017)"
         ],
         "mode": "markers",
         "name": "H1",
         "type": "scatter",
         "x": [
          12.58758544921875,
          12.050625801086426,
          11.317633628845215,
          10.76112174987793,
          10.163688659667969,
          9.73302936553955,
          8.303385734558105,
          7.584744453430176,
          6.352504253387451,
          6.250852108001709,
          6.180760383605957,
          6.177400588989258,
          6.172555923461914,
          6.149716854095459,
          6.105771541595459,
          6.004494667053223,
          5.874108791351318,
          5.797628402709961,
          5.788232326507568,
          5.7537431716918945,
          5.730684757232666,
          5.724754810333252,
          5.706180572509766,
          5.676387310028076,
          5.673514366149902,
          5.672776699066162,
          5.667044162750244,
          5.6430206298828125,
          5.640926837921143,
          5.5360188484191895,
          5.497009754180908,
          5.297433376312256,
          5.281393527984619,
          5.226562023162842,
          5.134481906890869,
          5.047548294067383,
          4.971551895141602,
          4.926719665527344,
          4.84185791015625,
          4.837593078613281,
          4.827954292297363,
          4.738368034362793,
          4.738160133361816,
          4.66294527053833,
          4.578887939453125,
          4.445200443267822,
          4.439556121826172,
          4.37403678894043,
          4.353667736053467,
          4.348410606384277,
          4.230343341827393,
          4.1484174728393555,
          4.09940767288208,
          4.026607990264893,
          3.8941452503204346,
          3.7585649490356445,
          3.5556323528289795,
          3.4562172889709473,
          3.413922071456909,
          3.3246405124664307,
          3.1894593238830566,
          2.9679436683654785,
          2.11612606048584,
          2.085052967071533,
          1.6759288311004639,
          1.6691062450408936,
          1.419216275215149,
          1.3556007146835327,
          1.2278821468353271,
          1.1869145631790161,
          0.5338907837867737
         ],
         "y": [
          12.786767959594727,
          12.294276237487793,
          11.513944625854492,
          11.162293434143066,
          10.366556167602539,
          9.75251293182373,
          8.36134147644043,
          12.564922332763672,
          6.389129161834717,
          6.266969680786133,
          6.3491950035095215,
          6.21115779876709,
          6.239119529724121,
          6.227344989776611,
          6.203861236572266,
          6.134675025939941,
          5.982785224914551,
          5.943393230438232,
          5.841522216796875,
          5.861649990081787,
          5.856300354003906,
          5.843367099761963,
          5.867359638214111,
          5.80654239654541,
          5.6773271560668945,
          5.820645809173584,
          5.7350544929504395,
          5.670841693878174,
          5.897479057312012,
          5.7035369873046875,
          5.527657985687256,
          5.384901523590088,
          5.522302150726318,
          5.443731784820557,
          5.629875659942627,
          5.1054182052612305,
          5.370439052581787,
          4.944703102111816,
          5.01116943359375,
          4.843964576721191,
          4.9934587478637695,
          5.073832988739014,
          4.976586818695068,
          6.615411758422852,
          4.655435085296631,
          4.916679382324219,
          4.451756954193115,
          4.389288425445557,
          5.624207019805908,
          4.407393455505371,
          5.952494144439697,
          6.418600082397461,
          4.123813152313232,
          4.2341628074646,
          3.905269145965576,
          8.645575523376465,
          3.6065587997436523,
          19.34695053100586,
          3.5204737186431885,
          12.967334747314453,
          3.197979211807251,
          2.9989142417907715,
          10.78094482421875,
          2.090790033340454,
          1.910135269165039,
          1.689395785331726,
          1.4289079904556274,
          1.394256591796875,
          1.2414002418518066,
          1.190061330795288,
          0.5586981177330017
         ]
        }
       ],
       "layout": {
        "height": 500,
        "plot_bgcolor": "white",
        "template": {
         "data": {
          "bar": [
           {
            "error_x": {
             "color": "#2a3f5f"
            },
            "error_y": {
             "color": "#2a3f5f"
            },
            "marker": {
             "line": {
              "color": "#E5ECF6",
              "width": 0.5
             },
             "pattern": {
              "fillmode": "overlay",
              "size": 10,
              "solidity": 0.2
             }
            },
            "type": "bar"
           }
          ],
          "barpolar": [
           {
            "marker": {
             "line": {
              "color": "#E5ECF6",
              "width": 0.5
             },
             "pattern": {
              "fillmode": "overlay",
              "size": 10,
              "solidity": 0.2
             }
            },
            "type": "barpolar"
           }
          ],
          "carpet": [
           {
            "aaxis": {
             "endlinecolor": "#2a3f5f",
             "gridcolor": "white",
             "linecolor": "white",
             "minorgridcolor": "white",
             "startlinecolor": "#2a3f5f"
            },
            "baxis": {
             "endlinecolor": "#2a3f5f",
             "gridcolor": "white",
             "linecolor": "white",
             "minorgridcolor": "white",
             "startlinecolor": "#2a3f5f"
            },
            "type": "carpet"
           }
          ],
          "choropleth": [
           {
            "colorbar": {
             "outlinewidth": 0,
             "ticks": ""
            },
            "type": "choropleth"
           }
          ],
          "contour": [
           {
            "colorbar": {
             "outlinewidth": 0,
             "ticks": ""
            },
            "colorscale": [
             [
              0,
              "#0d0887"
             ],
             [
              0.1111111111111111,
              "#46039f"
             ],
             [
              0.2222222222222222,
              "#7201a8"
             ],
             [
              0.3333333333333333,
              "#9c179e"
             ],
             [
              0.4444444444444444,
              "#bd3786"
             ],
             [
              0.5555555555555556,
              "#d8576b"
             ],
             [
              0.6666666666666666,
              "#ed7953"
             ],
             [
              0.7777777777777778,
              "#fb9f3a"
             ],
             [
              0.8888888888888888,
              "#fdca26"
             ],
             [
              1,
              "#f0f921"
             ]
            ],
            "type": "contour"
           }
          ],
          "contourcarpet": [
           {
            "colorbar": {
             "outlinewidth": 0,
             "ticks": ""
            },
            "type": "contourcarpet"
           }
          ],
          "heatmap": [
           {
            "colorbar": {
             "outlinewidth": 0,
             "ticks": ""
            },
            "colorscale": [
             [
              0,
              "#0d0887"
             ],
             [
              0.1111111111111111,
              "#46039f"
             ],
             [
              0.2222222222222222,
              "#7201a8"
             ],
             [
              0.3333333333333333,
              "#9c179e"
             ],
             [
              0.4444444444444444,
              "#bd3786"
             ],
             [
              0.5555555555555556,
              "#d8576b"
             ],
             [
              0.6666666666666666,
              "#ed7953"
             ],
             [
              0.7777777777777778,
              "#fb9f3a"
             ],
             [
              0.8888888888888888,
              "#fdca26"
             ],
             [
              1,
              "#f0f921"
             ]
            ],
            "type": "heatmap"
           }
          ],
          "heatmapgl": [
           {
            "colorbar": {
             "outlinewidth": 0,
             "ticks": ""
            },
            "colorscale": [
             [
              0,
              "#0d0887"
             ],
             [
              0.1111111111111111,
              "#46039f"
             ],
             [
              0.2222222222222222,
              "#7201a8"
             ],
             [
              0.3333333333333333,
              "#9c179e"
             ],
             [
              0.4444444444444444,
              "#bd3786"
             ],
             [
              0.5555555555555556,
              "#d8576b"
             ],
             [
              0.6666666666666666,
              "#ed7953"
             ],
             [
              0.7777777777777778,
              "#fb9f3a"
             ],
             [
              0.8888888888888888,
              "#fdca26"
             ],
             [
              1,
              "#f0f921"
             ]
            ],
            "type": "heatmapgl"
           }
          ],
          "histogram": [
           {
            "marker": {
             "pattern": {
              "fillmode": "overlay",
              "size": 10,
              "solidity": 0.2
             }
            },
            "type": "histogram"
           }
          ],
          "histogram2d": [
           {
            "colorbar": {
             "outlinewidth": 0,
             "ticks": ""
            },
            "colorscale": [
             [
              0,
              "#0d0887"
             ],
             [
              0.1111111111111111,
              "#46039f"
             ],
             [
              0.2222222222222222,
              "#7201a8"
             ],
             [
              0.3333333333333333,
              "#9c179e"
             ],
             [
              0.4444444444444444,
              "#bd3786"
             ],
             [
              0.5555555555555556,
              "#d8576b"
             ],
             [
              0.6666666666666666,
              "#ed7953"
             ],
             [
              0.7777777777777778,
              "#fb9f3a"
             ],
             [
              0.8888888888888888,
              "#fdca26"
             ],
             [
              1,
              "#f0f921"
             ]
            ],
            "type": "histogram2d"
           }
          ],
          "histogram2dcontour": [
           {
            "colorbar": {
             "outlinewidth": 0,
             "ticks": ""
            },
            "colorscale": [
             [
              0,
              "#0d0887"
             ],
             [
              0.1111111111111111,
              "#46039f"
             ],
             [
              0.2222222222222222,
              "#7201a8"
             ],
             [
              0.3333333333333333,
              "#9c179e"
             ],
             [
              0.4444444444444444,
              "#bd3786"
             ],
             [
              0.5555555555555556,
              "#d8576b"
             ],
             [
              0.6666666666666666,
              "#ed7953"
             ],
             [
              0.7777777777777778,
              "#fb9f3a"
             ],
             [
              0.8888888888888888,
              "#fdca26"
             ],
             [
              1,
              "#f0f921"
             ]
            ],
            "type": "histogram2dcontour"
           }
          ],
          "mesh3d": [
           {
            "colorbar": {
             "outlinewidth": 0,
             "ticks": ""
            },
            "type": "mesh3d"
           }
          ],
          "parcoords": [
           {
            "line": {
             "colorbar": {
              "outlinewidth": 0,
              "ticks": ""
             }
            },
            "type": "parcoords"
           }
          ],
          "pie": [
           {
            "automargin": true,
            "type": "pie"
           }
          ],
          "scatter": [
           {
            "marker": {
             "colorbar": {
              "outlinewidth": 0,
              "ticks": ""
             }
            },
            "type": "scatter"
           }
          ],
          "scatter3d": [
           {
            "line": {
             "colorbar": {
              "outlinewidth": 0,
              "ticks": ""
             }
            },
            "marker": {
             "colorbar": {
              "outlinewidth": 0,
              "ticks": ""
             }
            },
            "type": "scatter3d"
           }
          ],
          "scattercarpet": [
           {
            "marker": {
             "colorbar": {
              "outlinewidth": 0,
              "ticks": ""
             }
            },
            "type": "scattercarpet"
           }
          ],
          "scattergeo": [
           {
            "marker": {
             "colorbar": {
              "outlinewidth": 0,
              "ticks": ""
             }
            },
            "type": "scattergeo"
           }
          ],
          "scattergl": [
           {
            "marker": {
             "colorbar": {
              "outlinewidth": 0,
              "ticks": ""
             }
            },
            "type": "scattergl"
           }
          ],
          "scattermapbox": [
           {
            "marker": {
             "colorbar": {
              "outlinewidth": 0,
              "ticks": ""
             }
            },
            "type": "scattermapbox"
           }
          ],
          "scatterpolar": [
           {
            "marker": {
             "colorbar": {
              "outlinewidth": 0,
              "ticks": ""
             }
            },
            "type": "scatterpolar"
           }
          ],
          "scatterpolargl": [
           {
            "marker": {
             "colorbar": {
              "outlinewidth": 0,
              "ticks": ""
             }
            },
            "type": "scatterpolargl"
           }
          ],
          "scatterternary": [
           {
            "marker": {
             "colorbar": {
              "outlinewidth": 0,
              "ticks": ""
             }
            },
            "type": "scatterternary"
           }
          ],
          "surface": [
           {
            "colorbar": {
             "outlinewidth": 0,
             "ticks": ""
            },
            "colorscale": [
             [
              0,
              "#0d0887"
             ],
             [
              0.1111111111111111,
              "#46039f"
             ],
             [
              0.2222222222222222,
              "#7201a8"
             ],
             [
              0.3333333333333333,
              "#9c179e"
             ],
             [
              0.4444444444444444,
              "#bd3786"
             ],
             [
              0.5555555555555556,
              "#d8576b"
             ],
             [
              0.6666666666666666,
              "#ed7953"
             ],
             [
              0.7777777777777778,
              "#fb9f3a"
             ],
             [
              0.8888888888888888,
              "#fdca26"
             ],
             [
              1,
              "#f0f921"
             ]
            ],
            "type": "surface"
           }
          ],
          "table": [
           {
            "cells": {
             "fill": {
              "color": "#EBF0F8"
             },
             "line": {
              "color": "white"
             }
            },
            "header": {
             "fill": {
              "color": "#C8D4E3"
             },
             "line": {
              "color": "white"
             }
            },
            "type": "table"
           }
          ]
         },
         "layout": {
          "annotationdefaults": {
           "arrowcolor": "#2a3f5f",
           "arrowhead": 0,
           "arrowwidth": 1
          },
          "autotypenumbers": "strict",
          "coloraxis": {
           "colorbar": {
            "outlinewidth": 0,
            "ticks": ""
           }
          },
          "colorscale": {
           "diverging": [
            [
             0,
             "#8e0152"
            ],
            [
             0.1,
             "#c51b7d"
            ],
            [
             0.2,
             "#de77ae"
            ],
            [
             0.3,
             "#f1b6da"
            ],
            [
             0.4,
             "#fde0ef"
            ],
            [
             0.5,
             "#f7f7f7"
            ],
            [
             0.6,
             "#e6f5d0"
            ],
            [
             0.7,
             "#b8e186"
            ],
            [
             0.8,
             "#7fbc41"
            ],
            [
             0.9,
             "#4d9221"
            ],
            [
             1,
             "#276419"
            ]
           ],
           "sequential": [
            [
             0,
             "#0d0887"
            ],
            [
             0.1111111111111111,
             "#46039f"
            ],
            [
             0.2222222222222222,
             "#7201a8"
            ],
            [
             0.3333333333333333,
             "#9c179e"
            ],
            [
             0.4444444444444444,
             "#bd3786"
            ],
            [
             0.5555555555555556,
             "#d8576b"
            ],
            [
             0.6666666666666666,
             "#ed7953"
            ],
            [
             0.7777777777777778,
             "#fb9f3a"
            ],
            [
             0.8888888888888888,
             "#fdca26"
            ],
            [
             1,
             "#f0f921"
            ]
           ],
           "sequentialminus": [
            [
             0,
             "#0d0887"
            ],
            [
             0.1111111111111111,
             "#46039f"
            ],
            [
             0.2222222222222222,
             "#7201a8"
            ],
            [
             0.3333333333333333,
             "#9c179e"
            ],
            [
             0.4444444444444444,
             "#bd3786"
            ],
            [
             0.5555555555555556,
             "#d8576b"
            ],
            [
             0.6666666666666666,
             "#ed7953"
            ],
            [
             0.7777777777777778,
             "#fb9f3a"
            ],
            [
             0.8888888888888888,
             "#fdca26"
            ],
            [
             1,
             "#f0f921"
            ]
           ]
          },
          "colorway": [
           "#636efa",
           "#EF553B",
           "#00cc96",
           "#ab63fa",
           "#FFA15A",
           "#19d3f3",
           "#FF6692",
           "#B6E880",
           "#FF97FF",
           "#FECB52"
          ],
          "font": {
           "color": "#2a3f5f"
          },
          "geo": {
           "bgcolor": "white",
           "lakecolor": "white",
           "landcolor": "#E5ECF6",
           "showlakes": true,
           "showland": true,
           "subunitcolor": "white"
          },
          "hoverlabel": {
           "align": "left"
          },
          "hovermode": "closest",
          "mapbox": {
           "style": "light"
          },
          "paper_bgcolor": "white",
          "plot_bgcolor": "#E5ECF6",
          "polar": {
           "angularaxis": {
            "gridcolor": "white",
            "linecolor": "white",
            "ticks": ""
           },
           "bgcolor": "#E5ECF6",
           "radialaxis": {
            "gridcolor": "white",
            "linecolor": "white",
            "ticks": ""
           }
          },
          "scene": {
           "xaxis": {
            "backgroundcolor": "#E5ECF6",
            "gridcolor": "white",
            "gridwidth": 2,
            "linecolor": "white",
            "showbackground": true,
            "ticks": "",
            "zerolinecolor": "white"
           },
           "yaxis": {
            "backgroundcolor": "#E5ECF6",
            "gridcolor": "white",
            "gridwidth": 2,
            "linecolor": "white",
            "showbackground": true,
            "ticks": "",
            "zerolinecolor": "white"
           },
           "zaxis": {
            "backgroundcolor": "#E5ECF6",
            "gridcolor": "white",
            "gridwidth": 2,
            "linecolor": "white",
            "showbackground": true,
            "ticks": "",
            "zerolinecolor": "white"
           }
          },
          "shapedefaults": {
           "line": {
            "color": "#2a3f5f"
           }
          },
          "ternary": {
           "aaxis": {
            "gridcolor": "white",
            "linecolor": "white",
            "ticks": ""
           },
           "baxis": {
            "gridcolor": "white",
            "linecolor": "white",
            "ticks": ""
           },
           "bgcolor": "#E5ECF6",
           "caxis": {
            "gridcolor": "white",
            "linecolor": "white",
            "ticks": ""
           }
          },
          "title": {
           "x": 0.05
          },
          "xaxis": {
           "automargin": true,
           "gridcolor": "white",
           "linecolor": "white",
           "ticks": "",
           "title": {
            "standoff": 15
           },
           "zerolinecolor": "white",
           "zerolinewidth": 2
          },
          "yaxis": {
           "automargin": true,
           "gridcolor": "white",
           "linecolor": "white",
           "ticks": "",
           "title": {
            "standoff": 15
           },
           "zerolinecolor": "white",
           "zerolinewidth": 2
          }
         }
        },
        "width": 500,
        "xaxis": {
         "autorange": false,
         "exponentformat": "e",
         "linecolor": "black",
         "linewidth": 1,
         "mirror": false,
         "range": [
          -0.3869390106201172,
          19.733889541625977
         ],
         "showexponent": "all",
         "showline": true,
         "side": "bottom",
         "ticks": "outside",
         "title": {
          "text": "Birth"
         },
         "type": "linear",
         "zeroline": true
        },
        "yaxis": {
         "autorange": false,
         "exponentformat": "e",
         "linecolor": "black",
         "linewidth": 1,
         "mirror": false,
         "range": [
          -0.3869390106201172,
          19.733889541625977
         ],
         "scaleanchor": "x",
         "scaleratio": 1,
         "showexponent": "all",
         "showline": true,
         "side": "left",
         "ticks": "outside",
         "title": {
          "text": "Death"
         },
         "type": "linear",
         "zeroline": true
        }
       }
      },
      "text/html": [
       "<div>                            <div id=\"9257b52f-0618-4fac-b2f4-b498558ff86e\" class=\"plotly-graph-div\" style=\"height:500px; width:500px;\"></div>            <script type=\"text/javascript\">                require([\"plotly\"], function(Plotly) {                    window.PLOTLYENV=window.PLOTLYENV || {};                                    if (document.getElementById(\"9257b52f-0618-4fac-b2f4-b498558ff86e\")) {                    Plotly.newPlot(                        \"9257b52f-0618-4fac-b2f4-b498558ff86e\",                        [{\"hoverinfo\":\"none\",\"line\":{\"color\":\"black\",\"dash\":\"dash\",\"width\":1},\"mode\":\"lines\",\"showlegend\":false,\"type\":\"scatter\",\"x\":[-0.3869390106201172,19.733889541625977],\"y\":[-0.3869390106201172,19.733889541625977]},{\"hoverinfo\":\"text\",\"hovertext\":[\"(0.0, 0.06525371968746185)\",\"(0.0, 0.0701761543750763)\",\"(0.0, 0.08911149948835373)\",\"(0.0, 0.10010605305433273)\",\"(0.0, 0.11137765645980835)\",\"(0.0, 0.12095217406749725)\",\"(0.0, 0.12401561439037323)\",\"(0.0, 0.13036441802978516)\",\"(0.0, 0.1328699141740799)\",\"(0.0, 0.13390995562076569)\",\"(0.0, 0.13421298563480377)\",\"(0.0, 0.13531984388828278)\",\"(0.0, 0.13627710938453674)\",\"(0.0, 0.13831166923046112)\",\"(0.0, 0.1388119012117386)\",\"(0.0, 0.1414712369441986)\",\"(0.0, 0.14275208115577698)\",\"(0.0, 0.1435222327709198)\",\"(0.0, 0.14354930818080902)\",\"(0.0, 0.14387834072113037)\",\"(0.0, 0.14496134221553802)\",\"(0.0, 0.14642812311649323)\",\"(0.0, 0.1468811333179474)\",\"(0.0, 0.14743053913116455)\",\"(0.0, 0.14919675886631012)\",\"(0.0, 0.1504782736301422)\",\"(0.0, 0.15089474618434906)\",\"(0.0, 0.15178264677524567)\",\"(0.0, 0.1517912596464157)\",\"(0.0, 0.15254753828048706)\",\"(0.0, 0.1529044359922409)\",\"(0.0, 0.15594887733459473)\",\"(0.0, 0.1581684947013855)\",\"(0.0, 0.15962478518486023)\",\"(0.0, 0.16059517860412598)\",\"(0.0, 0.16937637329101562)\",\"(0.0, 0.17007391154766083)\",\"(0.0, 0.1708497852087021)\",\"(0.0, 0.17689409852027893)\",\"(0.0, 0.18124806880950928)\",\"(0.0, 0.1828019917011261)\",\"(0.0, 0.18377703428268433)\",\"(0.0, 0.1892957240343094)\",\"(0.0, 0.19164040684700012)\",\"(0.0, 0.1919259876012802)\",\"(0.0, 0.1973777711391449)\",\"(0.0, 0.2006986290216446)\",\"(0.0, 0.20374813675880432)\",\"(0.0, 0.20918728411197662)\",\"(0.0, 0.21154829859733582)\",\"(0.0, 0.21163755655288696)\",\"(0.0, 0.21219198405742645)\",\"(0.0, 0.22150777280330658)\",\"(0.0, 0.22678892314434052)\",\"(0.0, 0.23172786831855774)\",\"(0.0, 0.23380644619464874)\",\"(0.0, 0.2347979098558426)\",\"(0.0, 0.2361142635345459)\",\"(0.0, 0.23621830344200134)\",\"(0.0, 0.24029065668582916)\",\"(0.0, 0.244261234998703)\",\"(0.0, 0.24463704228401184)\",\"(0.0, 0.24546881020069122)\",\"(0.0, 0.24805843830108643)\",\"(0.0, 0.24852073192596436)\",\"(0.0, 0.2510181665420532)\",\"(0.0, 0.25592470169067383)\",\"(0.0, 0.25663885474205017)\",\"(0.0, 0.2625206708908081)\",\"(0.0, 0.26299941539764404)\",\"(0.0, 0.2698915898799896)\",\"(0.0, 0.27029353380203247)\",\"(0.0, 0.2766246497631073)\",\"(0.0, 0.2795757055282593)\",\"(0.0, 0.2809402346611023)\",\"(0.0, 0.28252509236335754)\",\"(0.0, 0.28332704305648804)\",\"(0.0, 0.28382134437561035)\",\"(0.0, 0.2840363383293152)\",\"(0.0, 0.2871004641056061)\",\"(0.0, 0.2913857400417328)\",\"(0.0, 0.2914779782295227)\",\"(0.0, 0.2934268116950989)\",\"(0.0, 0.2935350835323334)\",\"(0.0, 0.2954502999782562)\",\"(0.0, 0.3006218373775482)\",\"(0.0, 0.30482348799705505)\",\"(0.0, 0.30501383543014526)\",\"(0.0, 0.3246285617351532)\",\"(0.0, 0.32515379786491394)\",\"(0.0, 0.3266901969909668)\",\"(0.0, 0.32682690024375916)\",\"(0.0, 0.3274437189102173)\",\"(0.0, 0.33342334628105164)\",\"(0.0, 0.3344869017601013)\",\"(0.0, 0.3430095613002777)\",\"(0.0, 0.3431590497493744)\",\"(0.0, 0.3455291986465454)\",\"(0.0, 0.3494642674922943)\",\"(0.0, 0.35056135058403015)\",\"(0.0, 0.35075879096984863)\",\"(0.0, 0.35358864068984985)\",\"(0.0, 0.3542083501815796)\",\"(0.0, 0.357307106256485)\",\"(0.0, 0.3573760688304901)\",\"(0.0, 0.3578180968761444)\",\"(0.0, 0.36107829213142395)\",\"(0.0, 0.3618348240852356)\",\"(0.0, 0.36305397748947144)\",\"(0.0, 0.3655436336994171)\",\"(0.0, 0.369288831949234)\",\"(0.0, 0.3693639636039734)\",\"(0.0, 0.37166669964790344)\",\"(0.0, 0.3737862706184387)\",\"(0.0, 0.3740895986557007)\",\"(0.0, 0.3787727952003479)\",\"(0.0, 0.37897348403930664)\",\"(0.0, 0.3792978823184967)\",\"(0.0, 0.3828105926513672)\",\"(0.0, 0.3841535449028015)\",\"(0.0, 0.385311096906662)\",\"(0.0, 0.3856564164161682)\",\"(0.0, 0.3862379789352417)\",\"(0.0, 0.38639989495277405)\",\"(0.0, 0.3876464366912842)\",\"(0.0, 0.38840290904045105)\",\"(0.0, 0.38856151700019836)\",\"(0.0, 0.3894204795360565)\",\"(0.0, 0.39003393054008484)\",\"(0.0, 0.39100661873817444)\",\"(0.0, 0.3930157721042633)\",\"(0.0, 0.39317604899406433)\",\"(0.0, 0.3931994140148163)\",\"(0.0, 0.39328375458717346)\",\"(0.0, 0.3936714828014374)\",\"(0.0, 0.3943684697151184)\",\"(0.0, 0.3947925269603729)\",\"(0.0, 0.39747053384780884)\",\"(0.0, 0.4058927595615387)\",\"(0.0, 0.4062761068344116)\",\"(0.0, 0.4081679582595825)\",\"(0.0, 0.4110187888145447)\",\"(0.0, 0.41579896211624146)\",\"(0.0, 0.4207187294960022)\",\"(0.0, 0.42155221104621887)\",\"(0.0, 0.42174121737480164)\",\"(0.0, 0.4260125458240509)\",\"(0.0, 0.42900848388671875)\",\"(0.0, 0.4291965365409851)\",\"(0.0, 0.42995771765708923)\",\"(0.0, 0.4306528568267822)\",\"(0.0, 0.4344964921474457)\",\"(0.0, 0.4350571930408478)\",\"(0.0, 0.4381270706653595)\",\"(0.0, 0.43935877084732056)\",\"(0.0, 0.43982183933258057)\",\"(0.0, 0.4411891996860504)\",\"(0.0, 0.44238221645355225)\",\"(0.0, 0.4429168999195099)\",\"(0.0, 0.4456518590450287)\",\"(0.0, 0.4469958543777466)\",\"(0.0, 0.448597252368927)\",\"(0.0, 0.4496389627456665)\",\"(0.0, 0.45330557227134705)\",\"(0.0, 0.45572248101234436)\",\"(0.0, 0.4568359851837158)\",\"(0.0, 0.45838573575019836)\",\"(0.0, 0.45880642533302307)\",\"(0.0, 0.45895588397979736)\",\"(0.0, 0.4634849429130554)\",\"(0.0, 0.46434205770492554)\",\"(0.0, 0.46503856778144836)\",\"(0.0, 0.46540483832359314)\",\"(0.0, 0.46581143140792847)\",\"(0.0, 0.46603643894195557)\",\"(0.0, 0.46638378500938416)\",\"(0.0, 0.470268577337265)\",\"(0.0, 0.4715196490287781)\",\"(0.0, 0.4717121720314026)\",\"(0.0, 0.47199633717536926)\",\"(0.0, 0.47213059663772583)\",\"(0.0, 0.47400709986686707)\",\"(0.0, 0.4751056432723999)\",\"(0.0, 0.47531211376190186)\",\"(0.0, 0.4763677716255188)\",\"(0.0, 0.47686877846717834)\",\"(0.0, 0.47791433334350586)\",\"(0.0, 0.4791869819164276)\",\"(0.0, 0.48040062189102173)\",\"(0.0, 0.4828149378299713)\",\"(0.0, 0.4835657775402069)\",\"(0.0, 0.48377862572669983)\",\"(0.0, 0.4839514493942261)\",\"(0.0, 0.4873589873313904)\",\"(0.0, 0.48873910307884216)\",\"(0.0, 0.4892771542072296)\",\"(0.0, 0.4896748960018158)\",\"(0.0, 0.48990997672080994)\",\"(0.0, 0.4900008738040924)\",\"(0.0, 0.4901154339313507)\",\"(0.0, 0.4908335506916046)\",\"(0.0, 0.4917062222957611)\",\"(0.0, 0.4917861521244049)\",\"(0.0, 0.4925185441970825)\",\"(0.0, 0.4934362769126892)\",\"(0.0, 0.4997490346431732)\",\"(0.0, 0.500883162021637)\",\"(0.0, 0.5061694979667664)\",\"(0.0, 0.5090698599815369)\",\"(0.0, 0.5093685984611511)\",\"(0.0, 0.5093705058097839)\",\"(0.0, 0.5153948664665222)\",\"(0.0, 0.518385112285614)\",\"(0.0, 0.521202802658081)\",\"(0.0, 0.5220865607261658)\",\"(0.0, 0.5225552320480347)\",\"(0.0, 0.5258457064628601)\",\"(0.0, 0.5261601805686951)\",\"(0.0, 0.5262894630432129)\",\"(0.0, 0.526399552822113)\",\"(0.0, 0.5284069776535034)\",\"(0.0, 0.528624951839447)\",\"(0.0, 0.5302557945251465)\",\"(0.0, 0.5302822589874268)\",\"(0.0, 0.5308524370193481)\",\"(0.0, 0.5314450263977051)\",\"(0.0, 0.5324330925941467)\",\"(0.0, 0.5337071418762207)\",\"(0.0, 0.5346077680587769)\",\"(0.0, 0.5371395349502563)\",\"(0.0, 0.5431543588638306)\",\"(0.0, 0.5442134737968445)\",\"(0.0, 0.5444766879081726)\",\"(0.0, 0.5452355742454529)\",\"(0.0, 0.5452859401702881)\",\"(0.0, 0.5461646318435669)\",\"(0.0, 0.5478804111480713)\",\"(0.0, 0.5480132102966309)\",\"(0.0, 0.5487191677093506)\",\"(0.0, 0.5493609309196472)\",\"(0.0, 0.550778329372406)\",\"(0.0, 0.5525683164596558)\",\"(0.0, 0.5526057481765747)\",\"(0.0, 0.5543128252029419)\",\"(0.0, 0.5549322962760925)\",\"(0.0, 0.5576025247573853)\",\"(0.0, 0.5577527284622192)\",\"(0.0, 0.5594663619995117)\",\"(0.0, 0.5595685839653015)\",\"(0.0, 0.5597776174545288)\",\"(0.0, 0.5605728626251221)\",\"(0.0, 0.5611538887023926)\",\"(0.0, 0.5623670220375061)\",\"(0.0, 0.5632985234260559)\",\"(0.0, 0.5658394694328308)\",\"(0.0, 0.566514253616333)\",\"(0.0, 0.568535566329956)\",\"(0.0, 0.56876540184021)\",\"(0.0, 0.5711202025413513)\",\"(0.0, 0.5718052983283997)\",\"(0.0, 0.5730562210083008)\",\"(0.0, 0.573944628238678)\",\"(0.0, 0.574539065361023)\",\"(0.0, 0.576055109500885)\",\"(0.0, 0.576934278011322)\",\"(0.0, 0.5770933628082275)\",\"(0.0, 0.5783217549324036)\",\"(0.0, 0.5800237059593201)\",\"(0.0, 0.5801786780357361)\",\"(0.0, 0.5809048414230347)\",\"(0.0, 0.5809895992279053)\",\"(0.0, 0.5814379453659058)\",\"(0.0, 0.583268940448761)\",\"(0.0, 0.5857368111610413)\",\"(0.0, 0.5920443534851074)\",\"(0.0, 0.5922611355781555)\",\"(0.0, 0.5925315022468567)\",\"(0.0, 0.593002438545227)\",\"(0.0, 0.5932402610778809)\",\"(0.0, 0.5951600670814514)\",\"(0.0, 0.5968844294548035)\",\"(0.0, 0.5984775424003601)\",\"(0.0, 0.59874027967453)\",\"(0.0, 0.5989441275596619)\",\"(0.0, 0.6002490520477295)\",\"(0.0, 0.6025358438491821)\",\"(0.0, 0.6029956936836243)\",\"(0.0, 0.6036489605903625)\",\"(0.0, 0.6037086844444275)\",\"(0.0, 0.605224072933197)\",\"(0.0, 0.6055086255073547)\",\"(0.0, 0.6100366711616516)\",\"(0.0, 0.6101221442222595)\",\"(0.0, 0.611897349357605)\",\"(0.0, 0.6119757890701294)\",\"(0.0, 0.6123239398002625)\",\"(0.0, 0.6124557256698608)\",\"(0.0, 0.6129992008209229)\",\"(0.0, 0.6130346059799194)\",\"(0.0, 0.6162472367286682)\",\"(0.0, 0.6186560988426208)\",\"(0.0, 0.6197468042373657)\",\"(0.0, 0.6212236285209656)\",\"(0.0, 0.623374879360199)\",\"(0.0, 0.62565678358078)\",\"(0.0, 0.6260694265365601)\",\"(0.0, 0.6263338327407837)\",\"(0.0, 0.6263958215713501)\",\"(0.0, 0.628952145576477)\",\"(0.0, 0.6289865970611572)\",\"(0.0, 0.6326263546943665)\",\"(0.0, 0.6327000856399536)\",\"(0.0, 0.6334772109985352)\",\"(0.0, 0.6343643665313721)\",\"(0.0, 0.6355013251304626)\",\"(0.0, 0.6356017589569092)\",\"(0.0, 0.6365182995796204)\",\"(0.0, 0.637360692024231)\",\"(0.0, 0.6376438736915588)\",\"(0.0, 0.6389639377593994)\",\"(0.0, 0.6399619579315186)\",\"(0.0, 0.6401891708374023)\",\"(0.0, 0.6416740417480469)\",\"(0.0, 0.6417315602302551)\",\"(0.0, 0.6452377438545227)\",\"(0.0, 0.6505448222160339)\",\"(0.0, 0.6520205736160278)\",\"(0.0, 0.652342677116394)\",\"(0.0, 0.6542959809303284)\",\"(0.0, 0.6566284894943237)\",\"(0.0, 0.6566952466964722)\",\"(0.0, 0.6567440629005432)\",\"(0.0, 0.6600688099861145)\",\"(0.0, 0.6621840000152588)\",\"(0.0, 0.6636221408843994)\",\"(0.0, 0.6684445738792419)\",\"(0.0, 0.6685064435005188)\",\"(0.0, 0.6686083078384399)\",\"(0.0, 0.6690811514854431)\",\"(0.0, 0.66910719871521)\",\"(0.0, 0.6695162057876587)\",\"(0.0, 0.6721099615097046)\",\"(0.0, 0.6738250851631165)\",\"(0.0, 0.6743865013122559)\",\"(0.0, 0.6749345660209656)\",\"(0.0, 0.6751598715782166)\",\"(0.0, 0.6754540205001831)\",\"(0.0, 0.6811378002166748)\",\"(0.0, 0.6835419535636902)\",\"(0.0, 0.6856483221054077)\",\"(0.0, 0.6884863972663879)\",\"(0.0, 0.6887803673744202)\",\"(0.0, 0.6900723576545715)\",\"(0.0, 0.6904785633087158)\",\"(0.0, 0.6913632154464722)\",\"(0.0, 0.6918216347694397)\",\"(0.0, 0.6934211254119873)\",\"(0.0, 0.6951844096183777)\",\"(0.0, 0.6961162686347961)\",\"(0.0, 0.7001391649246216)\",\"(0.0, 0.702427864074707)\",\"(0.0, 0.702488899230957)\",\"(0.0, 0.7026816010475159)\",\"(0.0, 0.7028994560241699)\",\"(0.0, 0.7031465768814087)\",\"(0.0, 0.7045553922653198)\",\"(0.0, 0.7051960825920105)\",\"(0.0, 0.7059360146522522)\",\"(0.0, 0.7072587013244629)\",\"(0.0, 0.7085888385772705)\",\"(0.0, 0.7094229459762573)\",\"(0.0, 0.709430456161499)\",\"(0.0, 0.71022629737854)\",\"(0.0, 0.711097002029419)\",\"(0.0, 0.7177610993385315)\",\"(0.0, 0.7180101275444031)\",\"(0.0, 0.7223063707351685)\",\"(0.0, 0.7237237691879272)\",\"(0.0, 0.7256675362586975)\",\"(0.0, 0.7268742918968201)\",\"(0.0, 0.7281019687652588)\",\"(0.0, 0.7294142842292786)\",\"(0.0, 0.7296489477157593)\",\"(0.0, 0.7297614812850952)\",\"(0.0, 0.7336221933364868)\",\"(0.0, 0.7339411377906799)\",\"(0.0, 0.7366937398910522)\",\"(0.0, 0.7370843887329102)\",\"(0.0, 0.7372512221336365)\",\"(0.0, 0.7376633286476135)\",\"(0.0, 0.7378456592559814)\",\"(0.0, 0.7381938695907593)\",\"(0.0, 0.7398563027381897)\",\"(0.0, 0.7428618669509888)\",\"(0.0, 0.745898425579071)\",\"(0.0, 0.7474589347839355)\",\"(0.0, 0.7513238787651062)\",\"(0.0, 0.7557702660560608)\",\"(0.0, 0.7573238611221313)\",\"(0.0, 0.7612403035163879)\",\"(0.0, 0.7623149156570435)\",\"(0.0, 0.7641842365264893)\",\"(0.0, 0.7644503116607666)\",\"(0.0, 0.7665283679962158)\",\"(0.0, 0.7680538296699524)\",\"(0.0, 0.7717787623405457)\",\"(0.0, 0.7733291387557983)\",\"(0.0, 0.777025580406189)\",\"(0.0, 0.7785593867301941)\",\"(0.0, 0.7819412350654602)\",\"(0.0, 0.785037100315094)\",\"(0.0, 0.785367488861084)\",\"(0.0, 0.7856820225715637)\",\"(0.0, 0.7860796451568604)\",\"(0.0, 0.7912453413009644)\",\"(0.0, 0.7922184467315674)\",\"(0.0, 0.79324871301651)\",\"(0.0, 0.794102132320404)\",\"(0.0, 0.7970584630966187)\",\"(0.0, 0.7982115149497986)\",\"(0.0, 0.7995337247848511)\",\"(0.0, 0.8016266226768494)\",\"(0.0, 0.8033609986305237)\",\"(0.0, 0.8044266104698181)\",\"(0.0, 0.8071200847625732)\",\"(0.0, 0.8111715912818909)\",\"(0.0, 0.8122223615646362)\",\"(0.0, 0.8171509504318237)\",\"(0.0, 0.820168673992157)\",\"(0.0, 0.822871208190918)\",\"(0.0, 0.8235732913017273)\",\"(0.0, 0.8262092471122742)\",\"(0.0, 0.8276509642601013)\",\"(0.0, 0.8289068341255188)\",\"(0.0, 0.8332857489585876)\",\"(0.0, 0.8355700969696045)\",\"(0.0, 0.8364243507385254)\",\"(0.0, 0.8367733955383301)\",\"(0.0, 0.8388939499855042)\",\"(0.0, 0.8394321203231812)\",\"(0.0, 0.8403027653694153)\",\"(0.0, 0.8451107740402222)\",\"(0.0, 0.8465552926063538)\",\"(0.0, 0.8482060432434082)\",\"(0.0, 0.8482510447502136)\",\"(0.0, 0.8523276448249817)\",\"(0.0, 0.8567119836807251)\",\"(0.0, 0.8614439368247986)\",\"(0.0, 0.8620134592056274)\",\"(0.0, 0.8632494211196899)\",\"(0.0, 0.8651658892631531)\",\"(0.0, 0.8659828901290894)\",\"(0.0, 0.866786777973175)\",\"(0.0, 0.8669079542160034)\",\"(0.0, 0.8693958520889282)\",\"(0.0, 0.8713235855102539)\",\"(0.0, 0.873201310634613)\",\"(0.0, 0.8733078837394714)\",\"(0.0, 0.8750428557395935)\",\"(0.0, 0.8753421306610107)\",\"(0.0, 0.875733494758606)\",\"(0.0, 0.8837946653366089)\",\"(0.0, 0.8874867558479309)\",\"(0.0, 0.8882772326469421)\",\"(0.0, 0.88934326171875)\",\"(0.0, 0.8909415602684021)\",\"(0.0, 0.8923934102058411)\",\"(0.0, 0.8949741125106812)\",\"(0.0, 0.8958496451377869)\",\"(0.0, 0.9002845287322998)\",\"(0.0, 0.9053623080253601)\",\"(0.0, 0.9084506034851074)\",\"(0.0, 0.9091418385505676)\",\"(0.0, 0.9121926426887512)\",\"(0.0, 0.9140341281890869)\",\"(0.0, 0.9145389795303345)\",\"(0.0, 0.9165694117546082)\",\"(0.0, 0.9169246554374695)\",\"(0.0, 0.9231275916099548)\",\"(0.0, 0.9265073537826538)\",\"(0.0, 0.9286195635795593)\",\"(0.0, 0.9290097951889038)\",\"(0.0, 0.9296303391456604)\",\"(0.0, 0.9356130361557007)\",\"(0.0, 0.9360125660896301)\",\"(0.0, 0.9432842135429382)\",\"(0.0, 0.9440553784370422)\",\"(0.0, 0.9449968934059143)\",\"(0.0, 0.9451804161071777)\",\"(0.0, 0.9457048773765564)\",\"(0.0, 0.9501240849494934)\",\"(0.0, 0.9518130421638489)\",\"(0.0, 0.9534570574760437)\",\"(0.0, 0.9546946287155151)\",\"(0.0, 0.9549658298492432)\",\"(0.0, 0.9562920928001404)\",\"(0.0, 0.9597879648208618)\",\"(0.0, 0.9610799551010132)\",\"(0.0, 0.9641715288162231)\",\"(0.0, 0.9685018062591553)\",\"(0.0, 0.9864380955696106)\",\"(0.0, 0.9893208146095276)\",\"(0.0, 0.9907349944114685)\",\"(0.0, 0.9918762445449829)\",\"(0.0, 0.9943944215774536)\",\"(0.0, 0.9961052536964417)\",\"(0.0, 0.9964509010314941)\",\"(0.0, 0.9975388646125793)\",\"(0.0, 0.9989635348320007)\",\"(0.0, 0.9989673495292664)\",\"(0.0, 1.0010452270507812)\",\"(0.0, 1.0028103590011597)\",\"(0.0, 1.0051579475402832)\",\"(0.0, 1.0098217725753784)\",\"(0.0, 1.0110901594161987)\",\"(0.0, 1.0117524862289429)\",\"(0.0, 1.0118579864501953)\",\"(0.0, 1.0128977298736572)\",\"(0.0, 1.0136632919311523)\",\"(0.0, 1.0144898891448975)\",\"(0.0, 1.0167676210403442)\",\"(0.0, 1.019108533859253)\",\"(0.0, 1.0192550420761108)\",\"(0.0, 1.0228840112686157)\",\"(0.0, 1.026063323020935)\",\"(0.0, 1.0276141166687012)\",\"(0.0, 1.0354490280151367)\",\"(0.0, 1.0422905683517456)\",\"(0.0, 1.0425246953964233)\",\"(0.0, 1.0434530973434448)\",\"(0.0, 1.0468249320983887)\",\"(0.0, 1.0487781763076782)\",\"(0.0, 1.0511829853057861)\",\"(0.0, 1.0513585805892944)\",\"(0.0, 1.051844835281372)\",\"(0.0, 1.0519782304763794)\",\"(0.0, 1.0680164098739624)\",\"(0.0, 1.0685293674468994)\",\"(0.0, 1.0698878765106201)\",\"(0.0, 1.0709564685821533)\",\"(0.0, 1.0717600584030151)\",\"(0.0, 1.0724914073944092)\",\"(0.0, 1.080220103263855)\",\"(0.0, 1.08053719997406)\",\"(0.0, 1.0807576179504395)\",\"(0.0, 1.0812007188796997)\",\"(0.0, 1.089867115020752)\",\"(0.0, 1.0924403667449951)\",\"(0.0, 1.0946390628814697)\",\"(0.0, 1.0963982343673706)\",\"(0.0, 1.0992553234100342)\",\"(0.0, 1.0994313955307007)\",\"(0.0, 1.105012059211731)\",\"(0.0, 1.1050447225570679)\",\"(0.0, 1.1052743196487427)\",\"(0.0, 1.105376958847046)\",\"(0.0, 1.106685996055603)\",\"(0.0, 1.106963872909546)\",\"(0.0, 1.1069756746292114)\",\"(0.0, 1.1074546575546265)\",\"(0.0, 1.1094856262207031)\",\"(0.0, 1.109513521194458)\",\"(0.0, 1.111413836479187)\",\"(0.0, 1.1120941638946533)\",\"(0.0, 1.1157803535461426)\",\"(0.0, 1.118632197380066)\",\"(0.0, 1.1233091354370117)\",\"(0.0, 1.1244728565216064)\",\"(0.0, 1.1247553825378418)\",\"(0.0, 1.1277363300323486)\",\"(0.0, 1.1283241510391235)\",\"(0.0, 1.1284183263778687)\",\"(0.0, 1.1292492151260376)\",\"(0.0, 1.132203459739685)\",\"(0.0, 1.1330251693725586)\",\"(0.0, 1.134081244468689)\",\"(0.0, 1.136927604675293)\",\"(0.0, 1.1398696899414062)\",\"(0.0, 1.141522765159607)\",\"(0.0, 1.1431611776351929)\",\"(0.0, 1.1448986530303955)\",\"(0.0, 1.1499483585357666)\",\"(0.0, 1.1531906127929688)\",\"(0.0, 1.158213496208191)\",\"(0.0, 1.1583954095840454)\",\"(0.0, 1.1633937358856201)\",\"(0.0, 1.1647192239761353)\",\"(0.0, 1.1648573875427246)\",\"(0.0, 1.1649762392044067)\",\"(0.0, 1.1650129556655884)\",\"(0.0, 1.1670631170272827)\",\"(0.0, 1.167182207107544)\",\"(0.0, 1.1696308851242065)\",\"(0.0, 1.1713396310806274)\",\"(0.0, 1.173714280128479)\",\"(0.0, 1.1826814413070679)\",\"(0.0, 1.1834197044372559)\",\"(0.0, 1.1858296394348145)\",\"(0.0, 1.1913032531738281)\",\"(0.0, 1.197522759437561)\",\"(0.0, 1.1994514465332031)\",\"(0.0, 1.2043007612228394)\",\"(0.0, 1.2054212093353271)\",\"(0.0, 1.208583950996399)\",\"(0.0, 1.2128853797912598)\",\"(0.0, 1.2137351036071777)\",\"(0.0, 1.2173175811767578)\",\"(0.0, 1.2177557945251465)\",\"(0.0, 1.2191487550735474)\",\"(0.0, 1.2210384607315063)\",\"(0.0, 1.2299294471740723)\",\"(0.0, 1.2300400733947754)\",\"(0.0, 1.2349812984466553)\",\"(0.0, 1.23514986038208)\",\"(0.0, 1.2358585596084595)\",\"(0.0, 1.2438197135925293)\",\"(0.0, 1.244984745979309)\",\"(0.0, 1.2483035326004028)\",\"(0.0, 1.2516416311264038)\",\"(0.0, 1.2558854818344116)\",\"(0.0, 1.257611870765686)\",\"(0.0, 1.2625752687454224)\",\"(0.0, 1.263807773590088)\",\"(0.0, 1.2661919593811035)\",\"(0.0, 1.266603946685791)\",\"(0.0, 1.2685599327087402)\",\"(0.0, 1.2699493169784546)\",\"(0.0, 1.2726269960403442)\",\"(0.0, 1.2772971391677856)\",\"(0.0, 1.278002142906189)\",\"(0.0, 1.2822357416152954)\",\"(0.0, 1.315201759338379)\",\"(0.0, 1.3176716566085815)\",\"(0.0, 1.3225120306015015)\",\"(0.0, 1.3236339092254639)\",\"(0.0, 1.329542875289917)\",\"(0.0, 1.3326658010482788)\",\"(0.0, 1.3388597965240479)\",\"(0.0, 1.3519443273544312)\",\"(0.0, 1.3723894357681274)\",\"(0.0, 1.3821625709533691)\",\"(0.0, 1.3938987255096436)\",\"(0.0, 1.3969972133636475)\",\"(0.0, 1.4048715829849243)\",\"(0.0, 1.4103082418441772)\",\"(0.0, 1.410796880722046)\",\"(0.0, 1.4153400659561157)\",\"(0.0, 1.4164557456970215)\",\"(0.0, 1.4205571413040161)\",\"(0.0, 1.4276325702667236)\",\"(0.0, 1.447238564491272)\",\"(0.0, 1.4598519802093506)\",\"(0.0, 1.46099853515625)\",\"(0.0, 1.4624354839324951)\",\"(0.0, 1.465884804725647)\",\"(0.0, 1.466971755027771)\",\"(0.0, 1.4742029905319214)\",\"(0.0, 1.4767179489135742)\",\"(0.0, 1.4922930002212524)\",\"(0.0, 1.4926011562347412)\",\"(0.0, 1.4982638359069824)\",\"(0.0, 1.4990206956863403)\",\"(0.0, 1.5021309852600098)\",\"(0.0, 1.5107145309448242)\",\"(0.0, 1.5163114070892334)\",\"(0.0, 1.523260235786438)\",\"(0.0, 1.5236215591430664)\",\"(0.0, 1.5344070196151733)\",\"(0.0, 1.5351351499557495)\",\"(0.0, 1.5391095876693726)\",\"(0.0, 1.5406090021133423)\",\"(0.0, 1.5573174953460693)\",\"(0.0, 1.5804370641708374)\",\"(0.0, 1.590640902519226)\",\"(0.0, 1.5921826362609863)\",\"(0.0, 1.5954760313034058)\",\"(0.0, 1.5970630645751953)\",\"(0.0, 1.6044586896896362)\",\"(0.0, 1.6066843271255493)\",\"(0.0, 1.609548568725586)\",\"(0.0, 1.6234385967254639)\",\"(0.0, 1.627395749092102)\",\"(0.0, 1.6365169286727905)\",\"(0.0, 1.6574121713638306)\",\"(0.0, 1.6602940559387207)\",\"(0.0, 1.6625968217849731)\",\"(0.0, 1.681133508682251)\",\"(0.0, 1.6830432415008545)\",\"(0.0, 1.6839582920074463)\",\"(0.0, 1.6873624324798584)\",\"(0.0, 1.6953198909759521)\",\"(0.0, 1.7042251825332642)\",\"(0.0, 1.7073217630386353)\",\"(0.0, 1.7093522548675537)\",\"(0.0, 1.7190399169921875)\",\"(0.0, 1.7302125692367554)\",\"(0.0, 1.731736183166504)\",\"(0.0, 1.7652865648269653)\",\"(0.0, 1.7660048007965088)\",\"(0.0, 1.7676165103912354)\",\"(0.0, 1.7862833738327026)\",\"(0.0, 1.789172887802124)\",\"(0.0, 1.8003357648849487)\",\"(0.0, 1.813759207725525)\",\"(0.0, 1.827559232711792)\",\"(0.0, 1.829221248626709)\",\"(0.0, 1.8648890256881714)\",\"(0.0, 1.874489188194275)\",\"(0.0, 1.874623417854309)\",\"(0.0, 1.8864153623580933)\",\"(0.0, 1.8895937204360962)\",\"(0.0, 1.893466591835022)\",\"(0.0, 1.9038289785385132)\",\"(0.0, 1.9204829931259155)\",\"(0.0, 1.9380104541778564)\",\"(0.0, 1.9437049627304077)\",\"(0.0, 1.9438326358795166)\",\"(0.0, 1.9562993049621582)\",\"(0.0, 2.00180983543396)\",\"(0.0, 2.0036604404449463)\",\"(0.0, 2.0070652961730957)\",\"(0.0, 2.0915260314941406)\",\"(0.0, 2.092076063156128)\",\"(0.0, 2.353989601135254)\",\"(0.0, 2.4303441047668457)\",\"(0.0, 2.444542169570923)\",\"(0.0, 2.4954819679260254)\",\"(0.0, 2.4979207515716553)\",\"(0.0, 2.4981651306152344)\",\"(0.0, 2.546149969100952)\",\"(0.0, 2.584749221801758)\",\"(0.0, 2.6465373039245605)\",\"(0.0, 2.667299509048462)\",\"(0.0, 2.764761209487915)\",\"(0.0, 2.8072662353515625)\",\"(0.0, 2.810525894165039)\",\"(0.0, 2.894068956375122)\",\"(0.0, 2.9194931983947754)\",\"(0.0, 2.944347620010376)\",\"(0.0, 2.999891757965088)\",\"(0.0, 3.1154885292053223)\",\"(0.0, 3.1408145427703857)\",\"(0.0, 3.162306785583496)\",\"(0.0, 3.220140218734741)\",\"(0.0, 3.2591440677642822)\",\"(0.0, 3.2908594608306885)\",\"(0.0, 3.3405160903930664)\",\"(0.0, 3.34138560295105)\",\"(0.0, 3.3513343334198)\",\"(0.0, 3.430393934249878)\",\"(0.0, 3.6694540977478027)\",\"(0.0, 3.812859296798706)\",\"(0.0, 3.869136333465576)\",\"(0.0, 4.402153491973877)\",\"(0.0, 4.460788249969482)\",\"(0.0, 4.490245342254639)\",\"(0.0, 4.60666036605835)\",\"(0.0, 4.670716762542725)\",\"(0.0, 4.878796577453613)\",\"(0.0, 5.121922969818115)\",\"(0.0, 5.514312744140625)\",\"(0.0, 6.493372917175293)\",\"(0.0, 6.872958183288574)\",\"(0.0, 7.450289726257324)\"],\"mode\":\"markers\",\"name\":\"H0\",\"type\":\"scatter\",\"x\":[0.0,0.0,0.0,0.0,0.0,0.0,0.0,0.0,0.0,0.0,0.0,0.0,0.0,0.0,0.0,0.0,0.0,0.0,0.0,0.0,0.0,0.0,0.0,0.0,0.0,0.0,0.0,0.0,0.0,0.0,0.0,0.0,0.0,0.0,0.0,0.0,0.0,0.0,0.0,0.0,0.0,0.0,0.0,0.0,0.0,0.0,0.0,0.0,0.0,0.0,0.0,0.0,0.0,0.0,0.0,0.0,0.0,0.0,0.0,0.0,0.0,0.0,0.0,0.0,0.0,0.0,0.0,0.0,0.0,0.0,0.0,0.0,0.0,0.0,0.0,0.0,0.0,0.0,0.0,0.0,0.0,0.0,0.0,0.0,0.0,0.0,0.0,0.0,0.0,0.0,0.0,0.0,0.0,0.0,0.0,0.0,0.0,0.0,0.0,0.0,0.0,0.0,0.0,0.0,0.0,0.0,0.0,0.0,0.0,0.0,0.0,0.0,0.0,0.0,0.0,0.0,0.0,0.0,0.0,0.0,0.0,0.0,0.0,0.0,0.0,0.0,0.0,0.0,0.0,0.0,0.0,0.0,0.0,0.0,0.0,0.0,0.0,0.0,0.0,0.0,0.0,0.0,0.0,0.0,0.0,0.0,0.0,0.0,0.0,0.0,0.0,0.0,0.0,0.0,0.0,0.0,0.0,0.0,0.0,0.0,0.0,0.0,0.0,0.0,0.0,0.0,0.0,0.0,0.0,0.0,0.0,0.0,0.0,0.0,0.0,0.0,0.0,0.0,0.0,0.0,0.0,0.0,0.0,0.0,0.0,0.0,0.0,0.0,0.0,0.0,0.0,0.0,0.0,0.0,0.0,0.0,0.0,0.0,0.0,0.0,0.0,0.0,0.0,0.0,0.0,0.0,0.0,0.0,0.0,0.0,0.0,0.0,0.0,0.0,0.0,0.0,0.0,0.0,0.0,0.0,0.0,0.0,0.0,0.0,0.0,0.0,0.0,0.0,0.0,0.0,0.0,0.0,0.0,0.0,0.0,0.0,0.0,0.0,0.0,0.0,0.0,0.0,0.0,0.0,0.0,0.0,0.0,0.0,0.0,0.0,0.0,0.0,0.0,0.0,0.0,0.0,0.0,0.0,0.0,0.0,0.0,0.0,0.0,0.0,0.0,0.0,0.0,0.0,0.0,0.0,0.0,0.0,0.0,0.0,0.0,0.0,0.0,0.0,0.0,0.0,0.0,0.0,0.0,0.0,0.0,0.0,0.0,0.0,0.0,0.0,0.0,0.0,0.0,0.0,0.0,0.0,0.0,0.0,0.0,0.0,0.0,0.0,0.0,0.0,0.0,0.0,0.0,0.0,0.0,0.0,0.0,0.0,0.0,0.0,0.0,0.0,0.0,0.0,0.0,0.0,0.0,0.0,0.0,0.0,0.0,0.0,0.0,0.0,0.0,0.0,0.0,0.0,0.0,0.0,0.0,0.0,0.0,0.0,0.0,0.0,0.0,0.0,0.0,0.0,0.0,0.0,0.0,0.0,0.0,0.0,0.0,0.0,0.0,0.0,0.0,0.0,0.0,0.0,0.0,0.0,0.0,0.0,0.0,0.0,0.0,0.0,0.0,0.0,0.0,0.0,0.0,0.0,0.0,0.0,0.0,0.0,0.0,0.0,0.0,0.0,0.0,0.0,0.0,0.0,0.0,0.0,0.0,0.0,0.0,0.0,0.0,0.0,0.0,0.0,0.0,0.0,0.0,0.0,0.0,0.0,0.0,0.0,0.0,0.0,0.0,0.0,0.0,0.0,0.0,0.0,0.0,0.0,0.0,0.0,0.0,0.0,0.0,0.0,0.0,0.0,0.0,0.0,0.0,0.0,0.0,0.0,0.0,0.0,0.0,0.0,0.0,0.0,0.0,0.0,0.0,0.0,0.0,0.0,0.0,0.0,0.0,0.0,0.0,0.0,0.0,0.0,0.0,0.0,0.0,0.0,0.0,0.0,0.0,0.0,0.0,0.0,0.0,0.0,0.0,0.0,0.0,0.0,0.0,0.0,0.0,0.0,0.0,0.0,0.0,0.0,0.0,0.0,0.0,0.0,0.0,0.0,0.0,0.0,0.0,0.0,0.0,0.0,0.0,0.0,0.0,0.0,0.0,0.0,0.0,0.0,0.0,0.0,0.0,0.0,0.0,0.0,0.0,0.0,0.0,0.0,0.0,0.0,0.0,0.0,0.0,0.0,0.0,0.0,0.0,0.0,0.0,0.0,0.0,0.0,0.0,0.0,0.0,0.0,0.0,0.0,0.0,0.0,0.0,0.0,0.0,0.0,0.0,0.0,0.0,0.0,0.0,0.0,0.0,0.0,0.0,0.0,0.0,0.0,0.0,0.0,0.0,0.0,0.0,0.0,0.0,0.0,0.0,0.0,0.0,0.0,0.0,0.0,0.0,0.0,0.0,0.0,0.0,0.0,0.0,0.0,0.0,0.0,0.0,0.0,0.0,0.0,0.0,0.0,0.0,0.0,0.0,0.0,0.0,0.0,0.0,0.0,0.0,0.0,0.0,0.0,0.0,0.0,0.0,0.0,0.0,0.0,0.0,0.0,0.0,0.0,0.0,0.0,0.0,0.0,0.0,0.0,0.0,0.0,0.0,0.0,0.0,0.0,0.0,0.0,0.0,0.0,0.0,0.0,0.0,0.0,0.0,0.0,0.0,0.0,0.0,0.0,0.0,0.0,0.0,0.0,0.0,0.0,0.0,0.0,0.0,0.0,0.0,0.0,0.0,0.0,0.0,0.0,0.0,0.0,0.0,0.0,0.0,0.0,0.0,0.0,0.0,0.0,0.0,0.0,0.0,0.0,0.0,0.0,0.0,0.0,0.0,0.0,0.0,0.0,0.0,0.0,0.0,0.0,0.0,0.0,0.0,0.0,0.0,0.0,0.0,0.0,0.0,0.0,0.0,0.0,0.0,0.0,0.0,0.0,0.0,0.0,0.0,0.0,0.0,0.0,0.0,0.0,0.0,0.0,0.0,0.0,0.0,0.0,0.0,0.0,0.0,0.0,0.0,0.0,0.0,0.0,0.0,0.0,0.0,0.0,0.0,0.0,0.0,0.0,0.0,0.0,0.0,0.0,0.0,0.0,0.0,0.0,0.0,0.0,0.0,0.0,0.0,0.0,0.0,0.0,0.0,0.0,0.0,0.0,0.0,0.0,0.0,0.0,0.0,0.0,0.0,0.0,0.0,0.0,0.0,0.0,0.0,0.0,0.0,0.0,0.0,0.0,0.0,0.0,0.0,0.0,0.0,0.0,0.0,0.0,0.0,0.0,0.0,0.0,0.0,0.0,0.0,0.0,0.0,0.0,0.0,0.0,0.0,0.0],\"y\":[0.06525371968746185,0.0701761543750763,0.08911149948835373,0.10010605305433273,0.11137765645980835,0.12095217406749725,0.12401561439037323,0.13036441802978516,0.1328699141740799,0.13390995562076569,0.13421298563480377,0.13531984388828278,0.13627710938453674,0.13831166923046112,0.1388119012117386,0.1414712369441986,0.14275208115577698,0.1435222327709198,0.14354930818080902,0.14387834072113037,0.14496134221553802,0.14642812311649323,0.1468811333179474,0.14743053913116455,0.14919675886631012,0.1504782736301422,0.15089474618434906,0.15178264677524567,0.1517912596464157,0.15254753828048706,0.1529044359922409,0.15594887733459473,0.1581684947013855,0.15962478518486023,0.16059517860412598,0.16937637329101562,0.17007391154766083,0.1708497852087021,0.17689409852027893,0.18124806880950928,0.1828019917011261,0.18377703428268433,0.1892957240343094,0.19164040684700012,0.1919259876012802,0.1973777711391449,0.2006986290216446,0.20374813675880432,0.20918728411197662,0.21154829859733582,0.21163755655288696,0.21219198405742645,0.22150777280330658,0.22678892314434052,0.23172786831855774,0.23380644619464874,0.2347979098558426,0.2361142635345459,0.23621830344200134,0.24029065668582916,0.244261234998703,0.24463704228401184,0.24546881020069122,0.24805843830108643,0.24852073192596436,0.2510181665420532,0.25592470169067383,0.25663885474205017,0.2625206708908081,0.26299941539764404,0.2698915898799896,0.27029353380203247,0.2766246497631073,0.2795757055282593,0.2809402346611023,0.28252509236335754,0.28332704305648804,0.28382134437561035,0.2840363383293152,0.2871004641056061,0.2913857400417328,0.2914779782295227,0.2934268116950989,0.2935350835323334,0.2954502999782562,0.3006218373775482,0.30482348799705505,0.30501383543014526,0.3246285617351532,0.32515379786491394,0.3266901969909668,0.32682690024375916,0.3274437189102173,0.33342334628105164,0.3344869017601013,0.3430095613002777,0.3431590497493744,0.3455291986465454,0.3494642674922943,0.35056135058403015,0.35075879096984863,0.35358864068984985,0.3542083501815796,0.357307106256485,0.3573760688304901,0.3578180968761444,0.36107829213142395,0.3618348240852356,0.36305397748947144,0.3655436336994171,0.369288831949234,0.3693639636039734,0.37166669964790344,0.3737862706184387,0.3740895986557007,0.3787727952003479,0.37897348403930664,0.3792978823184967,0.3828105926513672,0.3841535449028015,0.385311096906662,0.3856564164161682,0.3862379789352417,0.38639989495277405,0.3876464366912842,0.38840290904045105,0.38856151700019836,0.3894204795360565,0.39003393054008484,0.39100661873817444,0.3930157721042633,0.39317604899406433,0.3931994140148163,0.39328375458717346,0.3936714828014374,0.3943684697151184,0.3947925269603729,0.39747053384780884,0.4058927595615387,0.4062761068344116,0.4081679582595825,0.4110187888145447,0.41579896211624146,0.4207187294960022,0.42155221104621887,0.42174121737480164,0.4260125458240509,0.42900848388671875,0.4291965365409851,0.42995771765708923,0.4306528568267822,0.4344964921474457,0.4350571930408478,0.4381270706653595,0.43935877084732056,0.43982183933258057,0.4411891996860504,0.44238221645355225,0.4429168999195099,0.4456518590450287,0.4469958543777466,0.448597252368927,0.4496389627456665,0.45330557227134705,0.45572248101234436,0.4568359851837158,0.45838573575019836,0.45880642533302307,0.45895588397979736,0.4634849429130554,0.46434205770492554,0.46503856778144836,0.46540483832359314,0.46581143140792847,0.46603643894195557,0.46638378500938416,0.470268577337265,0.4715196490287781,0.4717121720314026,0.47199633717536926,0.47213059663772583,0.47400709986686707,0.4751056432723999,0.47531211376190186,0.4763677716255188,0.47686877846717834,0.47791433334350586,0.4791869819164276,0.48040062189102173,0.4828149378299713,0.4835657775402069,0.48377862572669983,0.4839514493942261,0.4873589873313904,0.48873910307884216,0.4892771542072296,0.4896748960018158,0.48990997672080994,0.4900008738040924,0.4901154339313507,0.4908335506916046,0.4917062222957611,0.4917861521244049,0.4925185441970825,0.4934362769126892,0.4997490346431732,0.500883162021637,0.5061694979667664,0.5090698599815369,0.5093685984611511,0.5093705058097839,0.5153948664665222,0.518385112285614,0.521202802658081,0.5220865607261658,0.5225552320480347,0.5258457064628601,0.5261601805686951,0.5262894630432129,0.526399552822113,0.5284069776535034,0.528624951839447,0.5302557945251465,0.5302822589874268,0.5308524370193481,0.5314450263977051,0.5324330925941467,0.5337071418762207,0.5346077680587769,0.5371395349502563,0.5431543588638306,0.5442134737968445,0.5444766879081726,0.5452355742454529,0.5452859401702881,0.5461646318435669,0.5478804111480713,0.5480132102966309,0.5487191677093506,0.5493609309196472,0.550778329372406,0.5525683164596558,0.5526057481765747,0.5543128252029419,0.5549322962760925,0.5576025247573853,0.5577527284622192,0.5594663619995117,0.5595685839653015,0.5597776174545288,0.5605728626251221,0.5611538887023926,0.5623670220375061,0.5632985234260559,0.5658394694328308,0.566514253616333,0.568535566329956,0.56876540184021,0.5711202025413513,0.5718052983283997,0.5730562210083008,0.573944628238678,0.574539065361023,0.576055109500885,0.576934278011322,0.5770933628082275,0.5783217549324036,0.5800237059593201,0.5801786780357361,0.5809048414230347,0.5809895992279053,0.5814379453659058,0.583268940448761,0.5857368111610413,0.5920443534851074,0.5922611355781555,0.5925315022468567,0.593002438545227,0.5932402610778809,0.5951600670814514,0.5968844294548035,0.5984775424003601,0.59874027967453,0.5989441275596619,0.6002490520477295,0.6025358438491821,0.6029956936836243,0.6036489605903625,0.6037086844444275,0.605224072933197,0.6055086255073547,0.6100366711616516,0.6101221442222595,0.611897349357605,0.6119757890701294,0.6123239398002625,0.6124557256698608,0.6129992008209229,0.6130346059799194,0.6162472367286682,0.6186560988426208,0.6197468042373657,0.6212236285209656,0.623374879360199,0.62565678358078,0.6260694265365601,0.6263338327407837,0.6263958215713501,0.628952145576477,0.6289865970611572,0.6326263546943665,0.6327000856399536,0.6334772109985352,0.6343643665313721,0.6355013251304626,0.6356017589569092,0.6365182995796204,0.637360692024231,0.6376438736915588,0.6389639377593994,0.6399619579315186,0.6401891708374023,0.6416740417480469,0.6417315602302551,0.6452377438545227,0.6505448222160339,0.6520205736160278,0.652342677116394,0.6542959809303284,0.6566284894943237,0.6566952466964722,0.6567440629005432,0.6600688099861145,0.6621840000152588,0.6636221408843994,0.6684445738792419,0.6685064435005188,0.6686083078384399,0.6690811514854431,0.66910719871521,0.6695162057876587,0.6721099615097046,0.6738250851631165,0.6743865013122559,0.6749345660209656,0.6751598715782166,0.6754540205001831,0.6811378002166748,0.6835419535636902,0.6856483221054077,0.6884863972663879,0.6887803673744202,0.6900723576545715,0.6904785633087158,0.6913632154464722,0.6918216347694397,0.6934211254119873,0.6951844096183777,0.6961162686347961,0.7001391649246216,0.702427864074707,0.702488899230957,0.7026816010475159,0.7028994560241699,0.7031465768814087,0.7045553922653198,0.7051960825920105,0.7059360146522522,0.7072587013244629,0.7085888385772705,0.7094229459762573,0.709430456161499,0.71022629737854,0.711097002029419,0.7177610993385315,0.7180101275444031,0.7223063707351685,0.7237237691879272,0.7256675362586975,0.7268742918968201,0.7281019687652588,0.7294142842292786,0.7296489477157593,0.7297614812850952,0.7336221933364868,0.7339411377906799,0.7366937398910522,0.7370843887329102,0.7372512221336365,0.7376633286476135,0.7378456592559814,0.7381938695907593,0.7398563027381897,0.7428618669509888,0.745898425579071,0.7474589347839355,0.7513238787651062,0.7557702660560608,0.7573238611221313,0.7612403035163879,0.7623149156570435,0.7641842365264893,0.7644503116607666,0.7665283679962158,0.7680538296699524,0.7717787623405457,0.7733291387557983,0.777025580406189,0.7785593867301941,0.7819412350654602,0.785037100315094,0.785367488861084,0.7856820225715637,0.7860796451568604,0.7912453413009644,0.7922184467315674,0.79324871301651,0.794102132320404,0.7970584630966187,0.7982115149497986,0.7995337247848511,0.8016266226768494,0.8033609986305237,0.8044266104698181,0.8071200847625732,0.8111715912818909,0.8122223615646362,0.8171509504318237,0.820168673992157,0.822871208190918,0.8235732913017273,0.8262092471122742,0.8276509642601013,0.8289068341255188,0.8332857489585876,0.8355700969696045,0.8364243507385254,0.8367733955383301,0.8388939499855042,0.8394321203231812,0.8403027653694153,0.8451107740402222,0.8465552926063538,0.8482060432434082,0.8482510447502136,0.8523276448249817,0.8567119836807251,0.8614439368247986,0.8620134592056274,0.8632494211196899,0.8651658892631531,0.8659828901290894,0.866786777973175,0.8669079542160034,0.8693958520889282,0.8713235855102539,0.873201310634613,0.8733078837394714,0.8750428557395935,0.8753421306610107,0.875733494758606,0.8837946653366089,0.8874867558479309,0.8882772326469421,0.88934326171875,0.8909415602684021,0.8923934102058411,0.8949741125106812,0.8958496451377869,0.9002845287322998,0.9053623080253601,0.9084506034851074,0.9091418385505676,0.9121926426887512,0.9140341281890869,0.9145389795303345,0.9165694117546082,0.9169246554374695,0.9231275916099548,0.9265073537826538,0.9286195635795593,0.9290097951889038,0.9296303391456604,0.9356130361557007,0.9360125660896301,0.9432842135429382,0.9440553784370422,0.9449968934059143,0.9451804161071777,0.9457048773765564,0.9501240849494934,0.9518130421638489,0.9534570574760437,0.9546946287155151,0.9549658298492432,0.9562920928001404,0.9597879648208618,0.9610799551010132,0.9641715288162231,0.9685018062591553,0.9864380955696106,0.9893208146095276,0.9907349944114685,0.9918762445449829,0.9943944215774536,0.9961052536964417,0.9964509010314941,0.9975388646125793,0.9989635348320007,0.9989673495292664,1.0010452270507812,1.0028103590011597,1.0051579475402832,1.0098217725753784,1.0110901594161987,1.0117524862289429,1.0118579864501953,1.0128977298736572,1.0136632919311523,1.0144898891448975,1.0167676210403442,1.019108533859253,1.0192550420761108,1.0228840112686157,1.026063323020935,1.0276141166687012,1.0354490280151367,1.0422905683517456,1.0425246953964233,1.0434530973434448,1.0468249320983887,1.0487781763076782,1.0511829853057861,1.0513585805892944,1.051844835281372,1.0519782304763794,1.0680164098739624,1.0685293674468994,1.0698878765106201,1.0709564685821533,1.0717600584030151,1.0724914073944092,1.080220103263855,1.08053719997406,1.0807576179504395,1.0812007188796997,1.089867115020752,1.0924403667449951,1.0946390628814697,1.0963982343673706,1.0992553234100342,1.0994313955307007,1.105012059211731,1.1050447225570679,1.1052743196487427,1.105376958847046,1.106685996055603,1.106963872909546,1.1069756746292114,1.1074546575546265,1.1094856262207031,1.109513521194458,1.111413836479187,1.1120941638946533,1.1157803535461426,1.118632197380066,1.1233091354370117,1.1244728565216064,1.1247553825378418,1.1277363300323486,1.1283241510391235,1.1284183263778687,1.1292492151260376,1.132203459739685,1.1330251693725586,1.134081244468689,1.136927604675293,1.1398696899414062,1.141522765159607,1.1431611776351929,1.1448986530303955,1.1499483585357666,1.1531906127929688,1.158213496208191,1.1583954095840454,1.1633937358856201,1.1647192239761353,1.1648573875427246,1.1649762392044067,1.1650129556655884,1.1670631170272827,1.167182207107544,1.1696308851242065,1.1713396310806274,1.173714280128479,1.1826814413070679,1.1834197044372559,1.1858296394348145,1.1913032531738281,1.197522759437561,1.1994514465332031,1.2043007612228394,1.2054212093353271,1.208583950996399,1.2128853797912598,1.2137351036071777,1.2173175811767578,1.2177557945251465,1.2191487550735474,1.2210384607315063,1.2299294471740723,1.2300400733947754,1.2349812984466553,1.23514986038208,1.2358585596084595,1.2438197135925293,1.244984745979309,1.2483035326004028,1.2516416311264038,1.2558854818344116,1.257611870765686,1.2625752687454224,1.263807773590088,1.2661919593811035,1.266603946685791,1.2685599327087402,1.2699493169784546,1.2726269960403442,1.2772971391677856,1.278002142906189,1.2822357416152954,1.315201759338379,1.3176716566085815,1.3225120306015015,1.3236339092254639,1.329542875289917,1.3326658010482788,1.3388597965240479,1.3519443273544312,1.3723894357681274,1.3821625709533691,1.3938987255096436,1.3969972133636475,1.4048715829849243,1.4103082418441772,1.410796880722046,1.4153400659561157,1.4164557456970215,1.4205571413040161,1.4276325702667236,1.447238564491272,1.4598519802093506,1.46099853515625,1.4624354839324951,1.465884804725647,1.466971755027771,1.4742029905319214,1.4767179489135742,1.4922930002212524,1.4926011562347412,1.4982638359069824,1.4990206956863403,1.5021309852600098,1.5107145309448242,1.5163114070892334,1.523260235786438,1.5236215591430664,1.5344070196151733,1.5351351499557495,1.5391095876693726,1.5406090021133423,1.5573174953460693,1.5804370641708374,1.590640902519226,1.5921826362609863,1.5954760313034058,1.5970630645751953,1.6044586896896362,1.6066843271255493,1.609548568725586,1.6234385967254639,1.627395749092102,1.6365169286727905,1.6574121713638306,1.6602940559387207,1.6625968217849731,1.681133508682251,1.6830432415008545,1.6839582920074463,1.6873624324798584,1.6953198909759521,1.7042251825332642,1.7073217630386353,1.7093522548675537,1.7190399169921875,1.7302125692367554,1.731736183166504,1.7652865648269653,1.7660048007965088,1.7676165103912354,1.7862833738327026,1.789172887802124,1.8003357648849487,1.813759207725525,1.827559232711792,1.829221248626709,1.8648890256881714,1.874489188194275,1.874623417854309,1.8864153623580933,1.8895937204360962,1.893466591835022,1.9038289785385132,1.9204829931259155,1.9380104541778564,1.9437049627304077,1.9438326358795166,1.9562993049621582,2.00180983543396,2.0036604404449463,2.0070652961730957,2.0915260314941406,2.092076063156128,2.353989601135254,2.4303441047668457,2.444542169570923,2.4954819679260254,2.4979207515716553,2.4981651306152344,2.546149969100952,2.584749221801758,2.6465373039245605,2.667299509048462,2.764761209487915,2.8072662353515625,2.810525894165039,2.894068956375122,2.9194931983947754,2.944347620010376,2.999891757965088,3.1154885292053223,3.1408145427703857,3.162306785583496,3.220140218734741,3.2591440677642822,3.2908594608306885,3.3405160903930664,3.34138560295105,3.3513343334198,3.430393934249878,3.6694540977478027,3.812859296798706,3.869136333465576,4.402153491973877,4.460788249969482,4.490245342254639,4.60666036605835,4.670716762542725,4.878796577453613,5.121922969818115,5.514312744140625,6.493372917175293,6.872958183288574,7.450289726257324]},{\"hoverinfo\":\"text\",\"hovertext\":[\"(12.58758544921875, 12.786767959594727)\",\"(12.050625801086426, 12.294276237487793)\",\"(11.317633628845215, 11.513944625854492)\",\"(10.76112174987793, 11.162293434143066)\",\"(10.163688659667969, 10.366556167602539)\",\"(9.73302936553955, 9.75251293182373)\",\"(8.303385734558105, 8.36134147644043)\",\"(7.584744453430176, 12.564922332763672)\",\"(6.352504253387451, 6.389129161834717)\",\"(6.250852108001709, 6.266969680786133)\",\"(6.180760383605957, 6.3491950035095215)\",\"(6.177400588989258, 6.21115779876709)\",\"(6.172555923461914, 6.239119529724121)\",\"(6.149716854095459, 6.227344989776611)\",\"(6.105771541595459, 6.203861236572266)\",\"(6.004494667053223, 6.134675025939941)\",\"(5.874108791351318, 5.982785224914551)\",\"(5.797628402709961, 5.943393230438232)\",\"(5.788232326507568, 5.841522216796875)\",\"(5.7537431716918945, 5.861649990081787)\",\"(5.730684757232666, 5.856300354003906)\",\"(5.724754810333252, 5.843367099761963)\",\"(5.706180572509766, 5.867359638214111)\",\"(5.676387310028076, 5.80654239654541)\",\"(5.673514366149902, 5.6773271560668945)\",\"(5.672776699066162, 5.820645809173584)\",\"(5.667044162750244, 5.7350544929504395)\",\"(5.6430206298828125, 5.670841693878174)\",\"(5.640926837921143, 5.897479057312012)\",\"(5.5360188484191895, 5.7035369873046875)\",\"(5.497009754180908, 5.527657985687256)\",\"(5.297433376312256, 5.384901523590088)\",\"(5.281393527984619, 5.522302150726318)\",\"(5.226562023162842, 5.443731784820557)\",\"(5.134481906890869, 5.629875659942627)\",\"(5.047548294067383, 5.1054182052612305)\",\"(4.971551895141602, 5.370439052581787)\",\"(4.926719665527344, 4.944703102111816)\",\"(4.84185791015625, 5.01116943359375)\",\"(4.837593078613281, 4.843964576721191)\",\"(4.827954292297363, 4.9934587478637695)\",\"(4.738368034362793, 5.073832988739014)\",\"(4.738160133361816, 4.976586818695068)\",\"(4.66294527053833, 6.615411758422852)\",\"(4.578887939453125, 4.655435085296631)\",\"(4.445200443267822, 4.916679382324219)\",\"(4.439556121826172, 4.451756954193115)\",\"(4.37403678894043, 4.389288425445557)\",\"(4.353667736053467, 5.624207019805908)\",\"(4.348410606384277, 4.407393455505371)\",\"(4.230343341827393, 5.952494144439697)\",\"(4.1484174728393555, 6.418600082397461)\",\"(4.09940767288208, 4.123813152313232)\",\"(4.026607990264893, 4.2341628074646)\",\"(3.8941452503204346, 3.905269145965576)\",\"(3.7585649490356445, 8.645575523376465)\",\"(3.5556323528289795, 3.6065587997436523)\",\"(3.4562172889709473, 19.34695053100586)\",\"(3.413922071456909, 3.5204737186431885)\",\"(3.3246405124664307, 12.967334747314453)\",\"(3.1894593238830566, 3.197979211807251)\",\"(2.9679436683654785, 2.9989142417907715)\",\"(2.11612606048584, 10.78094482421875)\",\"(2.085052967071533, 2.090790033340454)\",\"(1.6759288311004639, 1.910135269165039)\",\"(1.6691062450408936, 1.689395785331726)\",\"(1.419216275215149, 1.4289079904556274)\",\"(1.3556007146835327, 1.394256591796875)\",\"(1.2278821468353271, 1.2414002418518066)\",\"(1.1869145631790161, 1.190061330795288)\",\"(0.5338907837867737, 0.5586981177330017)\"],\"mode\":\"markers\",\"name\":\"H1\",\"type\":\"scatter\",\"x\":[12.58758544921875,12.050625801086426,11.317633628845215,10.76112174987793,10.163688659667969,9.73302936553955,8.303385734558105,7.584744453430176,6.352504253387451,6.250852108001709,6.180760383605957,6.177400588989258,6.172555923461914,6.149716854095459,6.105771541595459,6.004494667053223,5.874108791351318,5.797628402709961,5.788232326507568,5.7537431716918945,5.730684757232666,5.724754810333252,5.706180572509766,5.676387310028076,5.673514366149902,5.672776699066162,5.667044162750244,5.6430206298828125,5.640926837921143,5.5360188484191895,5.497009754180908,5.297433376312256,5.281393527984619,5.226562023162842,5.134481906890869,5.047548294067383,4.971551895141602,4.926719665527344,4.84185791015625,4.837593078613281,4.827954292297363,4.738368034362793,4.738160133361816,4.66294527053833,4.578887939453125,4.445200443267822,4.439556121826172,4.37403678894043,4.353667736053467,4.348410606384277,4.230343341827393,4.1484174728393555,4.09940767288208,4.026607990264893,3.8941452503204346,3.7585649490356445,3.5556323528289795,3.4562172889709473,3.413922071456909,3.3246405124664307,3.1894593238830566,2.9679436683654785,2.11612606048584,2.085052967071533,1.6759288311004639,1.6691062450408936,1.419216275215149,1.3556007146835327,1.2278821468353271,1.1869145631790161,0.5338907837867737],\"y\":[12.786767959594727,12.294276237487793,11.513944625854492,11.162293434143066,10.366556167602539,9.75251293182373,8.36134147644043,12.564922332763672,6.389129161834717,6.266969680786133,6.3491950035095215,6.21115779876709,6.239119529724121,6.227344989776611,6.203861236572266,6.134675025939941,5.982785224914551,5.943393230438232,5.841522216796875,5.861649990081787,5.856300354003906,5.843367099761963,5.867359638214111,5.80654239654541,5.6773271560668945,5.820645809173584,5.7350544929504395,5.670841693878174,5.897479057312012,5.7035369873046875,5.527657985687256,5.384901523590088,5.522302150726318,5.443731784820557,5.629875659942627,5.1054182052612305,5.370439052581787,4.944703102111816,5.01116943359375,4.843964576721191,4.9934587478637695,5.073832988739014,4.976586818695068,6.615411758422852,4.655435085296631,4.916679382324219,4.451756954193115,4.389288425445557,5.624207019805908,4.407393455505371,5.952494144439697,6.418600082397461,4.123813152313232,4.2341628074646,3.905269145965576,8.645575523376465,3.6065587997436523,19.34695053100586,3.5204737186431885,12.967334747314453,3.197979211807251,2.9989142417907715,10.78094482421875,2.090790033340454,1.910135269165039,1.689395785331726,1.4289079904556274,1.394256591796875,1.2414002418518066,1.190061330795288,0.5586981177330017]}],                        {\"height\":500,\"plot_bgcolor\":\"white\",\"template\":{\"data\":{\"bar\":[{\"error_x\":{\"color\":\"#2a3f5f\"},\"error_y\":{\"color\":\"#2a3f5f\"},\"marker\":{\"line\":{\"color\":\"#E5ECF6\",\"width\":0.5},\"pattern\":{\"fillmode\":\"overlay\",\"size\":10,\"solidity\":0.2}},\"type\":\"bar\"}],\"barpolar\":[{\"marker\":{\"line\":{\"color\":\"#E5ECF6\",\"width\":0.5},\"pattern\":{\"fillmode\":\"overlay\",\"size\":10,\"solidity\":0.2}},\"type\":\"barpolar\"}],\"carpet\":[{\"aaxis\":{\"endlinecolor\":\"#2a3f5f\",\"gridcolor\":\"white\",\"linecolor\":\"white\",\"minorgridcolor\":\"white\",\"startlinecolor\":\"#2a3f5f\"},\"baxis\":{\"endlinecolor\":\"#2a3f5f\",\"gridcolor\":\"white\",\"linecolor\":\"white\",\"minorgridcolor\":\"white\",\"startlinecolor\":\"#2a3f5f\"},\"type\":\"carpet\"}],\"choropleth\":[{\"colorbar\":{\"outlinewidth\":0,\"ticks\":\"\"},\"type\":\"choropleth\"}],\"contour\":[{\"colorbar\":{\"outlinewidth\":0,\"ticks\":\"\"},\"colorscale\":[[0.0,\"#0d0887\"],[0.1111111111111111,\"#46039f\"],[0.2222222222222222,\"#7201a8\"],[0.3333333333333333,\"#9c179e\"],[0.4444444444444444,\"#bd3786\"],[0.5555555555555556,\"#d8576b\"],[0.6666666666666666,\"#ed7953\"],[0.7777777777777778,\"#fb9f3a\"],[0.8888888888888888,\"#fdca26\"],[1.0,\"#f0f921\"]],\"type\":\"contour\"}],\"contourcarpet\":[{\"colorbar\":{\"outlinewidth\":0,\"ticks\":\"\"},\"type\":\"contourcarpet\"}],\"heatmap\":[{\"colorbar\":{\"outlinewidth\":0,\"ticks\":\"\"},\"colorscale\":[[0.0,\"#0d0887\"],[0.1111111111111111,\"#46039f\"],[0.2222222222222222,\"#7201a8\"],[0.3333333333333333,\"#9c179e\"],[0.4444444444444444,\"#bd3786\"],[0.5555555555555556,\"#d8576b\"],[0.6666666666666666,\"#ed7953\"],[0.7777777777777778,\"#fb9f3a\"],[0.8888888888888888,\"#fdca26\"],[1.0,\"#f0f921\"]],\"type\":\"heatmap\"}],\"heatmapgl\":[{\"colorbar\":{\"outlinewidth\":0,\"ticks\":\"\"},\"colorscale\":[[0.0,\"#0d0887\"],[0.1111111111111111,\"#46039f\"],[0.2222222222222222,\"#7201a8\"],[0.3333333333333333,\"#9c179e\"],[0.4444444444444444,\"#bd3786\"],[0.5555555555555556,\"#d8576b\"],[0.6666666666666666,\"#ed7953\"],[0.7777777777777778,\"#fb9f3a\"],[0.8888888888888888,\"#fdca26\"],[1.0,\"#f0f921\"]],\"type\":\"heatmapgl\"}],\"histogram\":[{\"marker\":{\"pattern\":{\"fillmode\":\"overlay\",\"size\":10,\"solidity\":0.2}},\"type\":\"histogram\"}],\"histogram2d\":[{\"colorbar\":{\"outlinewidth\":0,\"ticks\":\"\"},\"colorscale\":[[0.0,\"#0d0887\"],[0.1111111111111111,\"#46039f\"],[0.2222222222222222,\"#7201a8\"],[0.3333333333333333,\"#9c179e\"],[0.4444444444444444,\"#bd3786\"],[0.5555555555555556,\"#d8576b\"],[0.6666666666666666,\"#ed7953\"],[0.7777777777777778,\"#fb9f3a\"],[0.8888888888888888,\"#fdca26\"],[1.0,\"#f0f921\"]],\"type\":\"histogram2d\"}],\"histogram2dcontour\":[{\"colorbar\":{\"outlinewidth\":0,\"ticks\":\"\"},\"colorscale\":[[0.0,\"#0d0887\"],[0.1111111111111111,\"#46039f\"],[0.2222222222222222,\"#7201a8\"],[0.3333333333333333,\"#9c179e\"],[0.4444444444444444,\"#bd3786\"],[0.5555555555555556,\"#d8576b\"],[0.6666666666666666,\"#ed7953\"],[0.7777777777777778,\"#fb9f3a\"],[0.8888888888888888,\"#fdca26\"],[1.0,\"#f0f921\"]],\"type\":\"histogram2dcontour\"}],\"mesh3d\":[{\"colorbar\":{\"outlinewidth\":0,\"ticks\":\"\"},\"type\":\"mesh3d\"}],\"parcoords\":[{\"line\":{\"colorbar\":{\"outlinewidth\":0,\"ticks\":\"\"}},\"type\":\"parcoords\"}],\"pie\":[{\"automargin\":true,\"type\":\"pie\"}],\"scatter\":[{\"marker\":{\"colorbar\":{\"outlinewidth\":0,\"ticks\":\"\"}},\"type\":\"scatter\"}],\"scatter3d\":[{\"line\":{\"colorbar\":{\"outlinewidth\":0,\"ticks\":\"\"}},\"marker\":{\"colorbar\":{\"outlinewidth\":0,\"ticks\":\"\"}},\"type\":\"scatter3d\"}],\"scattercarpet\":[{\"marker\":{\"colorbar\":{\"outlinewidth\":0,\"ticks\":\"\"}},\"type\":\"scattercarpet\"}],\"scattergeo\":[{\"marker\":{\"colorbar\":{\"outlinewidth\":0,\"ticks\":\"\"}},\"type\":\"scattergeo\"}],\"scattergl\":[{\"marker\":{\"colorbar\":{\"outlinewidth\":0,\"ticks\":\"\"}},\"type\":\"scattergl\"}],\"scattermapbox\":[{\"marker\":{\"colorbar\":{\"outlinewidth\":0,\"ticks\":\"\"}},\"type\":\"scattermapbox\"}],\"scatterpolar\":[{\"marker\":{\"colorbar\":{\"outlinewidth\":0,\"ticks\":\"\"}},\"type\":\"scatterpolar\"}],\"scatterpolargl\":[{\"marker\":{\"colorbar\":{\"outlinewidth\":0,\"ticks\":\"\"}},\"type\":\"scatterpolargl\"}],\"scatterternary\":[{\"marker\":{\"colorbar\":{\"outlinewidth\":0,\"ticks\":\"\"}},\"type\":\"scatterternary\"}],\"surface\":[{\"colorbar\":{\"outlinewidth\":0,\"ticks\":\"\"},\"colorscale\":[[0.0,\"#0d0887\"],[0.1111111111111111,\"#46039f\"],[0.2222222222222222,\"#7201a8\"],[0.3333333333333333,\"#9c179e\"],[0.4444444444444444,\"#bd3786\"],[0.5555555555555556,\"#d8576b\"],[0.6666666666666666,\"#ed7953\"],[0.7777777777777778,\"#fb9f3a\"],[0.8888888888888888,\"#fdca26\"],[1.0,\"#f0f921\"]],\"type\":\"surface\"}],\"table\":[{\"cells\":{\"fill\":{\"color\":\"#EBF0F8\"},\"line\":{\"color\":\"white\"}},\"header\":{\"fill\":{\"color\":\"#C8D4E3\"},\"line\":{\"color\":\"white\"}},\"type\":\"table\"}]},\"layout\":{\"annotationdefaults\":{\"arrowcolor\":\"#2a3f5f\",\"arrowhead\":0,\"arrowwidth\":1},\"autotypenumbers\":\"strict\",\"coloraxis\":{\"colorbar\":{\"outlinewidth\":0,\"ticks\":\"\"}},\"colorscale\":{\"diverging\":[[0,\"#8e0152\"],[0.1,\"#c51b7d\"],[0.2,\"#de77ae\"],[0.3,\"#f1b6da\"],[0.4,\"#fde0ef\"],[0.5,\"#f7f7f7\"],[0.6,\"#e6f5d0\"],[0.7,\"#b8e186\"],[0.8,\"#7fbc41\"],[0.9,\"#4d9221\"],[1,\"#276419\"]],\"sequential\":[[0.0,\"#0d0887\"],[0.1111111111111111,\"#46039f\"],[0.2222222222222222,\"#7201a8\"],[0.3333333333333333,\"#9c179e\"],[0.4444444444444444,\"#bd3786\"],[0.5555555555555556,\"#d8576b\"],[0.6666666666666666,\"#ed7953\"],[0.7777777777777778,\"#fb9f3a\"],[0.8888888888888888,\"#fdca26\"],[1.0,\"#f0f921\"]],\"sequentialminus\":[[0.0,\"#0d0887\"],[0.1111111111111111,\"#46039f\"],[0.2222222222222222,\"#7201a8\"],[0.3333333333333333,\"#9c179e\"],[0.4444444444444444,\"#bd3786\"],[0.5555555555555556,\"#d8576b\"],[0.6666666666666666,\"#ed7953\"],[0.7777777777777778,\"#fb9f3a\"],[0.8888888888888888,\"#fdca26\"],[1.0,\"#f0f921\"]]},\"colorway\":[\"#636efa\",\"#EF553B\",\"#00cc96\",\"#ab63fa\",\"#FFA15A\",\"#19d3f3\",\"#FF6692\",\"#B6E880\",\"#FF97FF\",\"#FECB52\"],\"font\":{\"color\":\"#2a3f5f\"},\"geo\":{\"bgcolor\":\"white\",\"lakecolor\":\"white\",\"landcolor\":\"#E5ECF6\",\"showlakes\":true,\"showland\":true,\"subunitcolor\":\"white\"},\"hoverlabel\":{\"align\":\"left\"},\"hovermode\":\"closest\",\"mapbox\":{\"style\":\"light\"},\"paper_bgcolor\":\"white\",\"plot_bgcolor\":\"#E5ECF6\",\"polar\":{\"angularaxis\":{\"gridcolor\":\"white\",\"linecolor\":\"white\",\"ticks\":\"\"},\"bgcolor\":\"#E5ECF6\",\"radialaxis\":{\"gridcolor\":\"white\",\"linecolor\":\"white\",\"ticks\":\"\"}},\"scene\":{\"xaxis\":{\"backgroundcolor\":\"#E5ECF6\",\"gridcolor\":\"white\",\"gridwidth\":2,\"linecolor\":\"white\",\"showbackground\":true,\"ticks\":\"\",\"zerolinecolor\":\"white\"},\"yaxis\":{\"backgroundcolor\":\"#E5ECF6\",\"gridcolor\":\"white\",\"gridwidth\":2,\"linecolor\":\"white\",\"showbackground\":true,\"ticks\":\"\",\"zerolinecolor\":\"white\"},\"zaxis\":{\"backgroundcolor\":\"#E5ECF6\",\"gridcolor\":\"white\",\"gridwidth\":2,\"linecolor\":\"white\",\"showbackground\":true,\"ticks\":\"\",\"zerolinecolor\":\"white\"}},\"shapedefaults\":{\"line\":{\"color\":\"#2a3f5f\"}},\"ternary\":{\"aaxis\":{\"gridcolor\":\"white\",\"linecolor\":\"white\",\"ticks\":\"\"},\"baxis\":{\"gridcolor\":\"white\",\"linecolor\":\"white\",\"ticks\":\"\"},\"bgcolor\":\"#E5ECF6\",\"caxis\":{\"gridcolor\":\"white\",\"linecolor\":\"white\",\"ticks\":\"\"}},\"title\":{\"x\":0.05},\"xaxis\":{\"automargin\":true,\"gridcolor\":\"white\",\"linecolor\":\"white\",\"ticks\":\"\",\"title\":{\"standoff\":15},\"zerolinecolor\":\"white\",\"zerolinewidth\":2},\"yaxis\":{\"automargin\":true,\"gridcolor\":\"white\",\"linecolor\":\"white\",\"ticks\":\"\",\"title\":{\"standoff\":15},\"zerolinecolor\":\"white\",\"zerolinewidth\":2}}},\"width\":500,\"xaxis\":{\"autorange\":false,\"exponentformat\":\"e\",\"linecolor\":\"black\",\"linewidth\":1,\"mirror\":false,\"range\":[-0.3869390106201172,19.733889541625977],\"showexponent\":\"all\",\"showline\":true,\"side\":\"bottom\",\"ticks\":\"outside\",\"title\":{\"text\":\"Birth\"},\"type\":\"linear\",\"zeroline\":true},\"yaxis\":{\"autorange\":false,\"exponentformat\":\"e\",\"linecolor\":\"black\",\"linewidth\":1,\"mirror\":false,\"range\":[-0.3869390106201172,19.733889541625977],\"scaleanchor\":\"x\",\"scaleratio\":1,\"showexponent\":\"all\",\"showline\":true,\"side\":\"left\",\"ticks\":\"outside\",\"title\":{\"text\":\"Death\"},\"type\":\"linear\",\"zeroline\":true}},                        {\"responsive\": true}                    ).then(function(){\n",
       "                            \n",
       "var gd = document.getElementById('9257b52f-0618-4fac-b2f4-b498558ff86e');\n",
       "var x = new MutationObserver(function (mutations, observer) {{\n",
       "        var display = window.getComputedStyle(gd).display;\n",
       "        if (!display || display === 'none') {{\n",
       "            console.log([gd, 'removed!']);\n",
       "            Plotly.purge(gd);\n",
       "            observer.disconnect();\n",
       "        }}\n",
       "}});\n",
       "\n",
       "// Listen for the removal of the full notebook cells\n",
       "var notebookContainer = gd.closest('#notebook-container');\n",
       "if (notebookContainer) {{\n",
       "    x.observe(notebookContainer, {childList: true});\n",
       "}}\n",
       "\n",
       "// Listen for the clearing of the current output cell\n",
       "var outputEl = gd.closest('.output');\n",
       "if (outputEl) {{\n",
       "    x.observe(outputEl, {childList: true});\n",
       "}}\n",
       "\n",
       "                        })                };                });            </script>        </div>"
      ]
     },
     "metadata": {},
     "output_type": "display_data"
    }
   ],
   "source": [
    "VRP.plot(Xt=slugging_diagrams, sample=38)"
   ]
  },
  {
   "cell_type": "code",
   "execution_count": 88,
   "metadata": {},
   "outputs": [
    {
     "data": {
      "application/vnd.plotly.v1+json": {
       "config": {
        "plotlyServerURL": "https://plot.ly"
       },
       "data": [
        {
         "marker": {
          "color": [
           0,
           1,
           2,
           3,
           4,
           5,
           6,
           7,
           8,
           9,
           10,
           11,
           12,
           13,
           14,
           15,
           16,
           17,
           18,
           19,
           20,
           21,
           22,
           23,
           24,
           25,
           26,
           27,
           28,
           29,
           30,
           31,
           32,
           33,
           34,
           35,
           36,
           37,
           38,
           39,
           40,
           41,
           42,
           43,
           44,
           45,
           46,
           47,
           48,
           49,
           50,
           51,
           52,
           53,
           54,
           55,
           56,
           57,
           58,
           59,
           60,
           61,
           62,
           63,
           64,
           65,
           66,
           67,
           68,
           69,
           70,
           71,
           72,
           73,
           74,
           75,
           76,
           77,
           78,
           79,
           80,
           81,
           82,
           83,
           84,
           85,
           86,
           87,
           88,
           89,
           90,
           91,
           92,
           93,
           94,
           95,
           96,
           97,
           98,
           99,
           100,
           101,
           102,
           103,
           104,
           105,
           106,
           107,
           108,
           109,
           110,
           111,
           112,
           113,
           114,
           115,
           116,
           117,
           118,
           119,
           120,
           121,
           122,
           123,
           124,
           125,
           126,
           127,
           128,
           129,
           130,
           131,
           132,
           133,
           134,
           135,
           136,
           137,
           138,
           139,
           140,
           141,
           142,
           143,
           144,
           145,
           146,
           147,
           148,
           149,
           150,
           151,
           152,
           153,
           154,
           155,
           156,
           157,
           158,
           159,
           160,
           161,
           162,
           163,
           164,
           165,
           166,
           167,
           168,
           169,
           170,
           171,
           172,
           173,
           174,
           175,
           176,
           177,
           178,
           179,
           180,
           181,
           182,
           183,
           184,
           185,
           186,
           187,
           188,
           189,
           190,
           191,
           192,
           193,
           194,
           195,
           196,
           197,
           198,
           199,
           200,
           201,
           202,
           203,
           204,
           205,
           206,
           207,
           208,
           209,
           210,
           211,
           212,
           213,
           214,
           215,
           216,
           217,
           218,
           219,
           220,
           221,
           222,
           223,
           224,
           225,
           226,
           227,
           228,
           229,
           230,
           231,
           232,
           233,
           234,
           235,
           236,
           237,
           238,
           239,
           240,
           241,
           242,
           243,
           244,
           245,
           246,
           247,
           248,
           249,
           250,
           251,
           252,
           253,
           254,
           255,
           256,
           257,
           258,
           259,
           260,
           261,
           262,
           263,
           264,
           265,
           266,
           267,
           268,
           269,
           270,
           271,
           272,
           273,
           274,
           275,
           276,
           277,
           278,
           279,
           280,
           281,
           282,
           283,
           284,
           285,
           286,
           287,
           288,
           289,
           290,
           291,
           292,
           293,
           294,
           295,
           296,
           297,
           298,
           299,
           300,
           301,
           302,
           303,
           304,
           305,
           306,
           307,
           308,
           309,
           310,
           311,
           312,
           313,
           314,
           315,
           316,
           317,
           318,
           319,
           320,
           321,
           322,
           323,
           324,
           325,
           326,
           327,
           328,
           329,
           330,
           331,
           332,
           333,
           334,
           335,
           336,
           337,
           338,
           339,
           340,
           341,
           342,
           343,
           344,
           345,
           346,
           347,
           348,
           349,
           350,
           351,
           352,
           353,
           354,
           355,
           356,
           357,
           358,
           359,
           360,
           361,
           362,
           363,
           364,
           365,
           366,
           367,
           368,
           369,
           370,
           371,
           372,
           373,
           374,
           375,
           376,
           377,
           378,
           379,
           380,
           381,
           382,
           383,
           384,
           385,
           386,
           387,
           388,
           389,
           390,
           391,
           392,
           393,
           394,
           395,
           396,
           397,
           398,
           399,
           400,
           401,
           402,
           403,
           404,
           405,
           406,
           407,
           408,
           409,
           410,
           411,
           412,
           413,
           414,
           415,
           416,
           417,
           418,
           419,
           420,
           421,
           422,
           423,
           424,
           425,
           426,
           427,
           428,
           429,
           430,
           431,
           432,
           433,
           434,
           435,
           436,
           437,
           438,
           439,
           440,
           441,
           442,
           443,
           444,
           445,
           446,
           447,
           448,
           449,
           450,
           451,
           452,
           453,
           454,
           455,
           456,
           457,
           458,
           459,
           460,
           461,
           462,
           463,
           464,
           465,
           466,
           467,
           468,
           469,
           470,
           471,
           472,
           473,
           474,
           475,
           476,
           477,
           478,
           479,
           480,
           481,
           482,
           483,
           484,
           485,
           486,
           487,
           488,
           489,
           490,
           491,
           492,
           493,
           494,
           495,
           496,
           497,
           498,
           499,
           500,
           501,
           502,
           503,
           504,
           505,
           506,
           507,
           508,
           509,
           510,
           511,
           512,
           513,
           514,
           515,
           516,
           517,
           518,
           519,
           520,
           521,
           522,
           523,
           524,
           525,
           526,
           527,
           528,
           529,
           530,
           531,
           532,
           533,
           534,
           535,
           536,
           537,
           538,
           539,
           540,
           541,
           542,
           543,
           544,
           545,
           546,
           547,
           548,
           549,
           550,
           551,
           552,
           553,
           554,
           555,
           556,
           557,
           558,
           559,
           560,
           561,
           562,
           563,
           564,
           565,
           566,
           567,
           568,
           569,
           570,
           571,
           572,
           573,
           574,
           575,
           576,
           577,
           578,
           579,
           580,
           581,
           582,
           583,
           584,
           585,
           586,
           587,
           588,
           589,
           590,
           591,
           592,
           593,
           594,
           595,
           596,
           597,
           598,
           599,
           600,
           601,
           602,
           603,
           604,
           605,
           606,
           607,
           608,
           609,
           610,
           611,
           612,
           613,
           614,
           615,
           616,
           617,
           618,
           619,
           620,
           621,
           622,
           623,
           624,
           625,
           626,
           627,
           628,
           629,
           630,
           631,
           632,
           633,
           634,
           635,
           636,
           637,
           638,
           639,
           640,
           641,
           642,
           643,
           644,
           645,
           646,
           647,
           648,
           649,
           650,
           651,
           652,
           653,
           654,
           655,
           656,
           657,
           658,
           659,
           660,
           661,
           662,
           663,
           664,
           665,
           666,
           667,
           668,
           669,
           670,
           671,
           672,
           673,
           674,
           675,
           676,
           677,
           678,
           679,
           680,
           681,
           682,
           683,
           684,
           685,
           686,
           687,
           688,
           689,
           690,
           691,
           692,
           693,
           694,
           695,
           696,
           697,
           698,
           699,
           700,
           701,
           702,
           703,
           704,
           705,
           706,
           707,
           708,
           709,
           710,
           711,
           712,
           713,
           714,
           715,
           716,
           717,
           718,
           719,
           720,
           721,
           722,
           723,
           724,
           725,
           726,
           727,
           728,
           729,
           730,
           731,
           732,
           733,
           734,
           735,
           736,
           737,
           738,
           739,
           740,
           741,
           742,
           743,
           744,
           745,
           746,
           747,
           748,
           749,
           750,
           751,
           752,
           753,
           754,
           755,
           756,
           757,
           758,
           759,
           760,
           761,
           762,
           763,
           764
          ],
          "colorscale": [
           [
            0,
            "#440154"
           ],
           [
            0.1111111111111111,
            "#482878"
           ],
           [
            0.2222222222222222,
            "#3e4989"
           ],
           [
            0.3333333333333333,
            "#31688e"
           ],
           [
            0.4444444444444444,
            "#26828e"
           ],
           [
            0.5555555555555556,
            "#1f9e89"
           ],
           [
            0.6666666666666666,
            "#35b779"
           ],
           [
            0.7777777777777778,
            "#6ece58"
           ],
           [
            0.8888888888888888,
            "#b5de2b"
           ],
           [
            1,
            "#fde725"
           ]
          ],
          "opacity": 0.8,
          "size": 4
         },
         "mode": "markers",
         "type": "scatter3d",
         "x": [
          20.109150612545456,
          20.312326449520224,
          20.511894079647856,
          20.67608071264137,
          20.85459144529212,
          21.055860658092033,
          21.098049665625865,
          21.20271782224524,
          21.27550593321192,
          21.375943001418594,
          21.422832087165247,
          21.443285705913954,
          21.35320915693876,
          21.381417255874187,
          21.419043653322206,
          21.42274728625385,
          21.359958652419554,
          21.358380293698545,
          21.326336880168167,
          21.30965620123108,
          21.334624263531335,
          21.317667245713228,
          21.2983056199769,
          21.32422302873248,
          21.29806250308673,
          21.28619836542404,
          21.278839738056153,
          21.33390175591346,
          21.336312290610774,
          21.366855959891055,
          21.34249401433667,
          21.286314687970773,
          21.23268238736956,
          21.177892023813083,
          21.074774493988937,
          20.98648226517975,
          20.845816356007575,
          20.660598659360502,
          20.517160061332508,
          20.344435252265352,
          20.16521640571434,
          19.9438752174185,
          19.687368834710984,
          19.451701715206433,
          19.23342572965553,
          19.003604091492065,
          18.812444205540185,
          18.61132379491952,
          18.282771834402727,
          18.059509294352704,
          17.840306628434703,
          17.571637087890075,
          17.253937010816628,
          16.89023556918975,
          16.54024089363335,
          16.089824437494393,
          15.704081428595284,
          15.325081338614892,
          14.959295792322608,
          14.528356961360434,
          14.178624200774602,
          13.816104557828668,
          13.472124114867032,
          13.069261723529294,
          12.678240332358843,
          12.32170487636945,
          11.906684260566808,
          11.484097781692926,
          11.01020823795582,
          10.566691221201042,
          10.09693906394737,
          9.63916599876961,
          9.234718175769522,
          8.768621723471055,
          8.326804177231487,
          7.952312536233481,
          7.534767442263706,
          7.132416227930615,
          6.669625873387328,
          6.150980037952872,
          5.741479080008906,
          5.35079555213889,
          4.927084716931846,
          4.520338474360506,
          4.028727096472884,
          3.56680054076961,
          3.070357708445693,
          2.5876617583790127,
          2.137827784346142,
          1.6419512714240307,
          1.1615593816462866,
          0.7448583903399708,
          0.2757682197792597,
          -0.20174626724403014,
          -0.6790293086644866,
          -1.0703056415591423,
          -1.5873880171443961,
          -2.2090477021918233,
          -2.722849730163715,
          -3.176998167873691,
          -3.681057841664708,
          -4.169512408283096,
          -4.586953120127736,
          -5.11519228463165,
          -5.610112618284629,
          -6.077975213376335,
          -6.5137726394584075,
          -6.977604251766865,
          -7.466745633215141,
          -8.020081827637602,
          -8.618858554272023,
          -9.163755064226178,
          -9.656671037185586,
          -10.167019879860693,
          -10.623131831364338,
          -11.003825240722403,
          -11.491471351266817,
          -11.882689998875144,
          -12.290509062884523,
          -12.641164279618806,
          -13.024919899820384,
          -13.407129036439821,
          -13.723571112190118,
          -14.045445926817198,
          -14.304174522498966,
          -14.610499124076615,
          -14.91895660273107,
          -15.253976306351207,
          -15.571037992079596,
          -15.94873770273032,
          -16.354242311570808,
          -16.634398216551666,
          -16.935024056920902,
          -17.180419176889096,
          -17.511806330959505,
          -17.75897218710797,
          -18.019242406158785,
          -18.129285697383132,
          -18.385130626953472,
          -18.70616985121924,
          -18.909603968718745,
          -19.074605744128483,
          -19.257693746179733,
          -19.47373123556423,
          -19.67248321106976,
          -19.89004917052657,
          -20.129713984955277,
          -20.312121523443565,
          -20.55844945582279,
          -20.75214361376685,
          -20.947095302359912,
          -21.110561876441917,
          -21.375997414996363,
          -21.578274750205576,
          -21.818676580360634,
          -21.91086420590253,
          -22.01239751341772,
          -22.127154111244284,
          -22.226151556105794,
          -22.290600809045493,
          -22.360792490608166,
          -22.38498570207237,
          -22.355333860411612,
          -22.355516932267754,
          -22.32468331494145,
          -22.284259106858883,
          -22.202814479314814,
          -22.106524802197857,
          -22.05012901523519,
          -21.996514045172553,
          -21.94439613523317,
          -21.912600107566792,
          -21.87109792176699,
          -21.726234963108283,
          -21.66063271898209,
          -21.57609965375919,
          -21.474102783860836,
          -21.32990798286836,
          -21.127165395704605,
          -20.94940862393547,
          -20.71416172331557,
          -20.513901371954354,
          -20.298947567635864,
          -20.131919701597504,
          -19.88213270092123,
          -19.657745998899376,
          -19.469880817926786,
          -19.282846308187526,
          -19.067449836178234,
          -18.893560352665567,
          -18.7284900495295,
          -18.478706835263733,
          -18.24344223017497,
          -17.951777725064456,
          -17.70210553193145,
          -17.363282607404564,
          -17.103749703979975,
          -16.806219980625105,
          -16.497118032651052,
          -16.169314247459173,
          -15.910479129611574,
          -15.607817470719414,
          -15.312824414544611,
          -14.980021184138316,
          -14.607755860658825,
          -14.29018768505675,
          -13.981612869345373,
          -13.646369222383106,
          -13.285750562741969,
          -12.8435409708243,
          -12.493297433881182,
          -12.078825107271,
          -11.691287459743945,
          -11.302115554673817,
          -10.883616893198042,
          -10.464258848321593,
          -10.108678541661494,
          -9.723643242830835,
          -9.30495733359215,
          -8.8935619265735,
          -8.51241970875585,
          -8.052349231891503,
          -7.51234036643713,
          -7.026086768693747,
          -6.5697755584775726,
          -6.132340773757583,
          -5.704192176797223,
          -5.343732681950461,
          -4.871028131795326,
          -4.42800058664755,
          -4.0003797727623205,
          -3.5820554440446735,
          -3.1564642117558974,
          -2.717163849300091,
          -2.2197112070457248,
          -1.6634710023691213,
          -1.1154635485469984,
          -0.5732954598757324,
          -0.04980431908144539,
          0.4993494015398894,
          0.9213529097978316,
          1.4057459321519559,
          1.8275086023762233,
          2.280256658853579,
          2.6973436934700796,
          3.1388887409835173,
          3.604308604839883,
          4.006677947552246,
          4.435419275216187,
          4.800886002657929,
          5.19594715887261,
          5.608556364901348,
          6.045348543791947,
          6.459416988188172,
          6.937874438434917,
          7.452156894025349,
          7.841457080152807,
          8.291287595899282,
          8.686956364537547,
          9.142438010413608,
          9.525337712400635,
          9.96521103942697,
          10.209803697187052,
          10.647616049755323,
          11.171355914624868,
          11.595718025750973,
          11.982937280189605,
          12.365962329610854,
          12.690949188000047,
          13.02485024318401,
          13.414360168901656,
          13.828481864703852,
          14.146487429542416,
          14.51122287347544,
          14.928178963442699,
          15.301556799149093,
          15.656593157419815,
          16.105271279663274,
          16.48611707168824,
          16.950975650229566,
          17.270064709903245,
          17.589118690531052,
          17.868952287433835,
          18.101614765128204,
          18.39249343271186,
          18.633903763003993,
          18.85123318830213,
          19.11231577137773,
          19.296543939068933,
          19.496707392907286,
          19.70971999844433,
          19.8699132417685,
          20.060760229821618,
          20.256770258753896,
          20.450282803527458,
          20.667392433360884,
          20.842389981376126,
          21.03694635140475,
          21.230040831821018,
          21.381110649907423,
          21.477314704424092,
          21.596383054552458,
          21.774815102928457,
          21.87433601387059,
          22.022895564751604,
          22.107369169570035,
          22.15489421781493,
          22.184150822326114,
          22.288650030316717,
          22.279422270440225,
          22.318424507344478,
          22.363423906255452,
          22.45900548763748,
          22.494861595378634,
          22.581265817081654,
          22.659966451204557,
          22.71239238311465,
          22.75792640693283,
          22.765662009566608,
          22.760125571289844,
          22.709363528495263,
          22.707428284823546,
          22.608187780034207,
          22.51988297392706,
          22.38953279277435,
          22.259347133815123,
          22.133156544681796,
          22.010129754581676,
          21.890491293610793,
          21.771446047095893,
          21.59073451877848,
          21.451450442796393,
          21.269317804256413,
          21.056993655058744,
          20.814269552502754,
          20.600412228409123,
          20.314940951039684,
          20.02615325063815,
          19.70179009845156,
          19.419081027290595,
          19.104879179682033,
          18.794758081008517,
          18.419530229771993,
          18.070800555570322,
          17.697704183742434,
          17.38318281906506,
          17.053572284028316,
          16.688186913665785,
          16.340084969168693,
          15.948309685757696,
          15.557378777766838,
          15.193540303072378,
          14.853551171904167,
          14.489810317504299,
          14.139485891952935,
          13.774262897676085,
          13.444255472479988,
          13.07106548463462,
          12.67226108095167,
          12.246844869608172,
          11.840748329745939,
          11.329677763448442,
          10.843733250825832,
          10.401817626721687,
          9.885196678168839,
          9.509505726814846,
          9.086750294154486,
          8.668735393535744,
          8.22506743989672,
          7.81874651037903,
          7.419989989051102,
          6.982837125052296,
          6.53847784978263,
          6.072680249248459,
          5.580559454585934,
          5.1184954771104705,
          4.708451473891221,
          4.2470726658959395,
          3.81331842960113,
          3.3244629145115856,
          2.907613862264261,
          2.5439102311980615,
          2.064266825073686,
          1.6645315288672928,
          1.2416502431985132,
          0.7015251922037451,
          0.1732343975516807,
          -0.2938043823819336,
          -0.7895919947496376,
          -1.2941233358154436,
          -1.7828812939977468,
          -2.3398436314449,
          -2.9109278919617934,
          -3.388269772742006,
          -3.9172510774283236,
          -4.445708500449559,
          -4.952014704541697,
          -5.499437806744639,
          -6.023050739157023,
          -6.602269967142895,
          -7.174326342566759,
          -7.708625285380084,
          -8.262575081985194,
          -8.816581383489101,
          -9.473659232613526,
          -9.963763304822423,
          -10.46122761995377,
          -10.840303627495093,
          -11.243322891951353,
          -11.6502658572689,
          -12.068070598707845,
          -12.45096220199098,
          -12.872273308224703,
          -13.258665751054961,
          -13.642382287785672,
          -14.059073667854603,
          -14.396045042462962,
          -14.762451321728355,
          -15.080779743281573,
          -15.365387322780775,
          -15.653362332459668,
          -15.862415899113364,
          -16.073249636668706,
          -16.30368399051692,
          -16.466184152345374,
          -16.673850835033292,
          -16.88250808853208,
          -17.192857092007948,
          -17.43607898159138,
          -17.730858160503317,
          -18.061428571432938,
          -18.239458874463594,
          -18.49507139437036,
          -18.79361634078368,
          -19.015364924265846,
          -19.219432244498716,
          -19.45956012384288,
          -19.72291146080605,
          -19.88857072382292,
          -20.145600187249077,
          -20.346111750931176,
          -20.58254325159862,
          -20.828764339001328,
          -21.026017656224518,
          -21.249702585897953,
          -21.467125807965136,
          -21.66215511327233,
          -21.799504114126403,
          -21.92427290548487,
          -21.986543814881774,
          -22.05830367851592,
          -22.131129478232044,
          -22.190581056192094,
          -22.24303802184258,
          -22.34825131171015,
          -22.369754005269648,
          -22.428103496933158,
          -22.426422103814478,
          -22.413973365117258,
          -22.386630180759646,
          -22.326133804669503,
          -22.216395408940134,
          -22.073462368053445,
          -21.94375931175685,
          -21.79839325359309,
          -21.59476596879305,
          -21.438556793163798,
          -21.19540045723522,
          -20.998689893867745,
          -20.819844452433532,
          -20.670016694221584,
          -20.5172383200606,
          -20.384311041016453,
          -20.175400525306824,
          -19.97587207217487,
          -19.772420568252087,
          -19.543567171143728,
          -19.322067679748645,
          -19.09365394954838,
          -18.883665931362785,
          -18.661644299627113,
          -18.46457484398169,
          -18.23092261042326,
          -18.01604125773072,
          -17.6981532313203,
          -17.4785897142154,
          -17.198436570015538,
          -16.92714524605239,
          -16.662412014245113,
          -16.379774922856402,
          -16.101893659448024,
          -15.822052540356763,
          -15.539945879777468,
          -15.220615476792764,
          -14.933729616575574,
          -14.622231708775741,
          -14.300007332360288,
          -13.96185980265641,
          -13.628344961177348,
          -13.24722091555794,
          -12.869339150975975,
          -12.559129905672526,
          -12.183790186229663,
          -11.827832457416372,
          -11.403118877950941,
          -11.074447692077964,
          -10.76655484427418,
          -10.321725982423011,
          -9.966497322344612,
          -9.574596911874956,
          -9.106027826122533,
          -8.648918986912225,
          -8.252587271015955,
          -7.809650865282767,
          -7.364492306998935,
          -6.916834543590917,
          -6.40653165656877,
          -5.889393827126882,
          -5.430775475520313,
          -4.9457906888212815,
          -4.4622099128937425,
          -3.993912188085158,
          -3.508835891913977,
          -3.0743338508469664,
          -2.55003322735416,
          -1.9987237198100272,
          -1.5377957261307837,
          -1.0310242794732107,
          -0.5287456501516571,
          0.030714346414258836,
          0.5030381297373377,
          0.9687167503037356,
          1.4404584930719952,
          1.9170323384641854,
          2.334035015222546,
          2.7590181068768933,
          3.1321636079490918,
          3.576058736083773,
          4.040730077442605,
          4.460133645826097,
          4.906124253917527,
          5.309013787495467,
          5.727772165914626,
          6.123672156142404,
          6.495993384248701,
          6.898093854059885,
          7.204528991866676,
          7.485611601790039,
          7.775654909845369,
          8.016550763318989,
          8.366801734632862,
          8.702247033461623,
          9.132693977787424,
          9.530288321941663,
          9.96320671833056,
          10.436898197477847,
          10.773459018857789,
          11.244050470962916,
          11.714496823346717,
          12.136279875786485,
          12.567364951445683,
          12.980139377987847,
          13.40798713523099,
          13.797518781789389,
          14.259753399329343,
          14.67245554982484,
          15.09969255969427,
          15.518404103119176,
          15.902881033943604,
          16.330859925201942,
          16.803404046148692,
          17.20341154137513,
          17.59612667080905,
          17.950571016256195,
          18.26476036025781,
          18.544022137391625,
          18.793842662109526,
          19.06801863675865,
          19.28715960633211,
          19.510531872284375,
          19.761388155507827,
          19.993313171684616,
          20.16826424878497,
          20.36929058921241,
          20.519755993296087,
          20.696243237126307,
          20.742717833189843,
          20.77305281575305,
          20.851292727627612,
          20.91744958837661,
          20.933481682630305,
          20.963201476991983,
          20.928489708337096,
          20.885810745007607,
          20.91315338252501,
          21.01619056356923,
          21.10729322870617,
          21.180872606120648,
          21.232130381293242,
          21.261211825949985,
          21.308199196775973,
          21.358504550290128,
          21.357440264589247,
          21.389148901483708,
          21.407640125322978,
          21.436567177180216,
          21.466194529302776,
          21.471225912597017,
          21.474372952626688,
          21.4315351968649,
          21.420084713713077,
          21.372937723704847,
          21.29778166510301,
          21.213198519858565,
          21.160925824665256,
          21.083169167253782,
          20.99472565550214,
          20.83760013447189,
          20.661282657314974,
          20.466983964204566,
          20.265420074655427,
          20.015107183232793,
          19.80318793842662,
          19.55352986688453,
          19.304852553779785,
          19.080423408443416,
          18.8498119102116,
          18.599120077436638,
          18.284413385943633,
          17.997227509642,
          17.76623505030662,
          17.524837080236125,
          17.228989957629814,
          16.936276868290154,
          16.596068994521733,
          16.236856829938407,
          15.827956916286233,
          15.456126945864579,
          15.092079003194446,
          14.72366574799253,
          14.324044210085251,
          14.005490406559543,
          13.621635383487378,
          13.262422623922685,
          12.881022090824342,
          12.51142832465246,
          12.115944942534995,
          11.749554064450738,
          11.340778593211493,
          10.915719739627628,
          10.399149116084718,
          9.976901492647064,
          9.579326606015522,
          9.170426336501762,
          8.650299203026199,
          8.201041105255525,
          7.801625340773618,
          7.362694715757027,
          6.923670284876995,
          6.494398151160466,
          6.022746235796795,
          5.604363825405415,
          5.100468506107935,
          4.636435309418193,
          4.175623218479181,
          3.703827688339996,
          3.2630618481374474,
          2.8067810251196708,
          2.2707751160180036,
          1.8164113702219167,
          1.2678194716836029,
          0.7782136297673566,
          0.3185954268666376,
          -0.15431775866398553,
          -0.5876283316355774,
          -1.0813883475014407,
          -1.4123325008743857,
          -1.9065895740445267,
          -2.509165327014331,
          -3.0130642084623367,
          -3.555292514226767,
          -4.008632830185799,
          -4.487528282273234,
          -4.968790596218071,
          -5.45104507906303,
          -5.9342776190283635,
          -6.373214526546757,
          -6.822548058865879,
          -7.335553358499999,
          -7.80369246749617,
          -8.324776670335813,
          -8.862644436901348,
          -9.386331784120166,
          -9.88867410860857,
          -10.322272043765604,
          -10.833441839412469,
          -11.265859701133717,
          -11.700337301009531,
          -12.156005926745173,
          -12.536537164165392,
          -12.925261963700112,
          -13.28309536277022,
          -13.604820362558346,
          -13.938760685822311,
          -14.249532622717254,
          -14.583128429224747,
          -14.899016484798349,
          -15.188006936100829,
          -15.506354925299117,
          -15.817050561107832,
          -16.201359282396606,
          -16.509855173732248,
          -16.813510634759844,
          -17.107012539814487,
          -17.379922479294173,
          -17.6367416906298,
          -17.838934994656547,
          -18.032655729112292,
          -18.176068023391846,
          -18.382120192927733,
          -18.645990150650555,
          -18.91690982995821,
          -19.13250461386554,
          -19.36636590101678,
          -19.580196845792837,
          -19.848602468264815,
          -20.119362567736477,
          -20.298290216435596,
          -20.512151307641123,
          -20.759477602574226,
          -21.024613864922163,
          -21.25052814913658,
          -21.51060688366416,
          -21.72295504962789,
          -21.897262655892042,
          -22.070710806194917,
          -22.203924017436506,
          -22.30626071316679,
          -22.374489311225496,
          -22.474854585997605,
          -22.573600557809506,
          -22.622121781697107,
          -22.592166133116685,
          -22.554759944356462,
          -22.51851220837704,
          -22.47765538661046,
          -22.398419717213436,
          -22.321298318639105,
          -22.218312743300803,
          -22.13293759462528,
          -22.042502082110225,
          -21.975441489783837,
          -21.877374375850955,
          -21.70824588292419,
          -21.58055217277423,
          -21.50263621007528,
          -21.403460494243806,
          -21.26316811512293,
          -21.128549409249707,
          -20.918878118334984,
          -20.71843392947632,
          -20.48399998035454,
          -20.287499256557624,
          -20.114697000456864,
          -19.904160900694404
         ],
         "y": [
          11.49428236492678,
          11.038816037037297,
          10.635681433346734,
          10.245395880423164,
          9.80054453172328,
          9.384771378014294,
          8.939577215930287,
          8.509215469433132,
          8.18720129056416,
          7.729917672006651,
          7.339113392816137,
          6.821608478519112,
          6.4681954675990605,
          5.935444576857474,
          5.373083864091542,
          4.878475787468759,
          4.4076664806833366,
          3.927050681253574,
          3.4341983649750323,
          3.0099979272076314,
          2.5277685494733237,
          2.0049769271896416,
          1.5631505652966542,
          1.069065112641351,
          0.6000797598662753,
          0.08503351865328242,
          -0.4472866343267244,
          -1.0978309797894426,
          -1.6251010802838546,
          -2.2054098306191845,
          -2.6505313178940657,
          -3.115313319069099,
          -3.5850115720794755,
          -4.034713123561336,
          -4.483734256829402,
          -4.956407187719671,
          -5.382609646808259,
          -5.8159262722003024,
          -6.219511287186511,
          -6.585068129357839,
          -6.932686334784532,
          -7.277274256314459,
          -7.70557352403735,
          -8.091531129180982,
          -8.495926666527199,
          -8.91341321447604,
          -9.328015944090344,
          -9.7509963590247,
          -10.107015223451288,
          -10.530789529426604,
          -10.822867816610772,
          -11.215266749166464,
          -11.5681832882549,
          -11.924752626780922,
          -12.230822411067379,
          -12.63050453749145,
          -13.007515743424634,
          -13.31194568088792,
          -13.590828380633212,
          -13.912121380983104,
          -14.211780250440965,
          -14.541036746317163,
          -14.88180621147054,
          -15.172575563261036,
          -15.51356595678029,
          -15.858422123487532,
          -16.132688857772518,
          -16.484957160908056,
          -16.850442896495416,
          -17.21348595577265,
          -17.50194077232115,
          -17.846207158385855,
          -18.061973447282934,
          -18.274341591940793,
          -18.487548096942998,
          -18.70000886581212,
          -18.881326772949762,
          -19.039115549682126,
          -19.161507684395346,
          -19.292296826635724,
          -19.402180122504017,
          -19.457166140536323,
          -19.50517631462067,
          -19.520625759885736,
          -19.527634605408327,
          -19.59460860021265,
          -19.667888351155547,
          -19.756043712240132,
          -19.8250187898664,
          -19.881341792183086,
          -19.870594896562356,
          -19.910186304274767,
          -19.91193700914107,
          -19.91894318006043,
          -19.87270635867429,
          -19.739239018795747,
          -19.662817359238204,
          -19.569252168696863,
          -19.48752867921422,
          -19.351804497445187,
          -19.249303878061472,
          -19.12671797415771,
          -19.047656608811575,
          -18.961901133365597,
          -18.86496480866851,
          -18.768190811764654,
          -18.693525441765846,
          -18.56362865501956,
          -18.436713481068118,
          -18.328684339968763,
          -18.16195313329405,
          -18.010945915481468,
          -17.818312647413272,
          -17.67338720214991,
          -17.44085269091858,
          -17.238215509884853,
          -17.007646176610095,
          -16.81976602330522,
          -16.593417087640482,
          -16.34421836464936,
          -16.063585168174516,
          -15.742198567826764,
          -15.470460784343558,
          -15.176178918575882,
          -14.864697435923734,
          -14.526819953145223,
          -14.143188262552682,
          -13.839693814468047,
          -13.507237745679603,
          -13.17098802650899,
          -12.79960720198936,
          -12.422775612967106,
          -12.045853855956569,
          -11.752409733541016,
          -11.35866463195401,
          -11.003230013991539,
          -10.543832746847883,
          -10.177717208749325,
          -9.710339922754425,
          -9.192028137748936,
          -8.72824026958276,
          -8.312864600305693,
          -7.864467469205204,
          -7.438107982582766,
          -7.063539698085312,
          -6.60982395464113,
          -6.1710852290951905,
          -5.793029999298662,
          -5.376564506521622,
          -4.919134497746344,
          -4.484551552969638,
          -3.960908756309045,
          -3.4025508107413827,
          -2.899803688399342,
          -2.3271248335518897,
          -1.8663613376361925,
          -1.345300710526529,
          -0.8875974808613474,
          -0.47684946266395656,
          -0.017755015042505203,
          0.48798264754269244,
          0.9017185973477991,
          1.378257088769138,
          1.8057331673922963,
          2.2002269012378926,
          2.6306004597724533,
          3.0447780510513933,
          3.5477212000845557,
          4.003442999675487,
          4.4708964501378015,
          4.959814552701124,
          5.426460076060431,
          5.909144136288828,
          6.36768977092206,
          6.891415451191565,
          7.257767833185447,
          7.724360877081816,
          8.151805859964494,
          8.589281989824867,
          9.04075856012078,
          9.555771408518927,
          10.06314634521508,
          10.538040320375195,
          10.914977205146094,
          11.312441202535362,
          11.671537963475933,
          12.081001045954633,
          12.506806048151791,
          12.905078123619278,
          13.321995228719777,
          13.76517595524268,
          14.160682601571839,
          14.605881261228333,
          15.094928004256914,
          15.585667196742785,
          16.052957704040825,
          16.532991035434623,
          16.94091550547423,
          17.3457339592837,
          17.672149104181905,
          17.962774051700094,
          18.293435284857765,
          18.596956996382993,
          18.888844837702756,
          19.246407357760514,
          19.508115710241906,
          19.75705561562807,
          19.990824418791608,
          20.19088568691372,
          20.441588121013815,
          20.686916495971463,
          20.954713995511675,
          21.24319123880483,
          21.505761664513493,
          21.76084038868185,
          21.990102729280476,
          22.233067630244175,
          22.41015890900064,
          22.625339294475655,
          22.7988980002605,
          22.870147811899795,
          23.063187177912475,
          23.27324955400314,
          23.434035552967785,
          23.5640487301413,
          23.702991371597804,
          23.763850250664916,
          23.83948572002174,
          23.982569471248755,
          24.110351713033666,
          24.244214802545432,
          24.34832737101977,
          24.448250610529076,
          24.569253132438057,
          24.69208353817744,
          24.79583653057948,
          24.853078833665325,
          24.911909871167023,
          24.969351875692325,
          24.95888806049602,
          24.967551659841163,
          24.908014572434883,
          24.884765733112417,
          24.874080265492054,
          24.79751441535893,
          24.761273114972887,
          24.6813696398742,
          24.583099661259133,
          24.501898428218595,
          24.391948967687323,
          24.281576329569635,
          24.160921568818285,
          24.048955702884143,
          23.907442088341245,
          23.77452603195839,
          23.633611742630876,
          23.51665912348868,
          23.360030869571542,
          23.184872836999734,
          22.967526720736863,
          22.79220714784048,
          22.573002825121517,
          22.38834620319362,
          22.147598519119004,
          21.903144148864527,
          21.6100752305805,
          21.356170968008826,
          21.035573330811644,
          20.78452044099507,
          20.544940714195562,
          20.27449382940482,
          20.014445021434216,
          19.776374351601433,
          19.578664847416622,
          19.256376405006694,
          19.015706594232995,
          18.668403415252254,
          18.315056471499968,
          17.928524217545164,
          17.551755183704866,
          17.145236470837737,
          16.761268842403616,
          16.42367844244158,
          16.0749408458971,
          15.704546471610719,
          15.30685395132082,
          14.965370670028564,
          14.599053507351288,
          14.22427359994169,
          13.882343492302434,
          13.44271303898682,
          13.04449641157756,
          12.619898994889756,
          12.20370691263089,
          11.77337955100483,
          11.304411789657397,
          10.865636311226341,
          10.462198643367106,
          10.03622266697291,
          9.596757668169912,
          9.161800922820948,
          8.69608971976557,
          8.15039634777085,
          7.717960213302196,
          7.215819594071013,
          6.706367793766289,
          6.252261705952066,
          5.715258599970507,
          5.186451815676424,
          4.710251689522413,
          4.230929756463988,
          3.7340397538815653,
          3.2696930362482086,
          2.7656090177297616,
          2.2862343381510994,
          1.8285309324191836,
          1.2628537119770247,
          0.7214148515507943,
          0.20637304836271683,
          -0.37723828316208563,
          -0.9977734468098439,
          -1.548348833248892,
          -2.1201290408566527,
          -2.614808689602674,
          -2.995450506977065,
          -3.41332032833159,
          -3.9069067535983155,
          -4.330298839692146,
          -4.693174533020367,
          -5.1805495811376305,
          -5.6459493458784795,
          -6.085374452089365,
          -6.532571157139207,
          -6.952215246886538,
          -7.388763777389293,
          -7.745110046917402,
          -8.080903834142799,
          -8.473280816812816,
          -8.82130583380926,
          -9.069133935844771,
          -9.381113658480178,
          -9.681733801748065,
          -9.93672945861893,
          -10.290435444354253,
          -10.70807985563395,
          -11.07139073280777,
          -11.467839821869266,
          -11.899533887119468,
          -12.133659951086031,
          -12.578315811666998,
          -12.966958589908018,
          -13.274993232438606,
          -13.609654745892554,
          -14.018881844313977,
          -14.347711034062556,
          -14.706662160334185,
          -15.12027083125659,
          -15.486405661596608,
          -15.850252432225616,
          -16.201506330599898,
          -16.564855245362228,
          -16.948716849325564,
          -17.322843959003965,
          -17.631762580346383,
          -17.894042838466724,
          -18.120043184262066,
          -18.28486040491043,
          -18.467484601445356,
          -18.69501939496755,
          -18.860959157047137,
          -19.030781329913772,
          -19.215801042351025,
          -19.38618093235747,
          -19.520201110962713,
          -19.660102639607317,
          -19.766822767667158,
          -19.85316909540448,
          -19.881744244450555,
          -19.888960313926418,
          -19.856723642695503,
          -19.8157248167668,
          -19.784736889115845,
          -19.710052915762333,
          -19.656692202782118,
          -19.520593931521727,
          -19.49888362836034,
          -19.46986892107428,
          -19.440046832892545,
          -19.395291272718428,
          -19.346983532327393,
          -19.262376527793265,
          -19.187423202138483,
          -19.090010508014483,
          -18.974393770214203,
          -18.88418484413588,
          -18.771289344968327,
          -18.6484027403835,
          -18.544132216772006,
          -18.466723589683387,
          -18.31745037559434,
          -18.203173975832527,
          -18.08044236137035,
          -17.94140345935923,
          -17.76421089568215,
          -17.63256487592027,
          -17.429090668601987,
          -17.24507740486536,
          -17.031766530077377,
          -16.80976292862322,
          -16.60129992756672,
          -16.359498690464996,
          -16.147399605434625,
          -15.939343193440608,
          -15.68696577117201,
          -15.458183288546183,
          -15.168830401184842,
          -14.888502994284117,
          -14.59034070725201,
          -14.272982181261975,
          -13.957550667117754,
          -13.585003258560379,
          -13.248839961222615,
          -12.917541516177643,
          -12.579188011953,
          -12.216569315068257,
          -11.81012706776585,
          -11.389809043912628,
          -10.936156822230044,
          -10.53904124029381,
          -10.119619153546568,
          -9.697640431146484,
          -9.29643313504225,
          -8.81054915645565,
          -8.316733698329655,
          -7.840987677527826,
          -7.364567894949678,
          -6.874369200097068,
          -6.465046936816768,
          -5.9500662293370015,
          -5.474615347703614,
          -5.0434935149436955,
          -4.530051642498547,
          -4.017483963365318,
          -3.5603003708337475,
          -3.0658271953563703,
          -2.5363187291387974,
          -2.0505730594779443,
          -1.5367970418964207,
          -1.0426553516201549,
          -0.6091383639656771,
          -0.17956639247160353,
          0.28919001544506745,
          0.7207888002249354,
          1.0625788784064045,
          1.522913536755248,
          2.050876080007577,
          2.4796410799779256,
          2.9228311911069973,
          3.3665213738381174,
          3.8082444355309106,
          4.217079983352469,
          4.564960079570984,
          5.016852399021083,
          5.3868392473446525,
          5.678753380529601,
          6.050346515520514,
          6.381527219214937,
          6.740837303348251,
          7.112215940572011,
          7.607136931365782,
          8.050703920076584,
          8.496660598622563,
          9.012395693792199,
          9.364778883790885,
          9.895296608909774,
          10.391819466289961,
          10.839734190341163,
          11.31028691682611,
          11.811265769909665,
          12.226655404791963,
          12.686089188300695,
          13.185303397261903,
          13.659199349779868,
          14.121220057375178,
          14.553619077712527,
          15.00606478191028,
          15.49707583383389,
          15.994112248481258,
          16.381666110261026,
          16.80501974835061,
          17.213369813074756,
          17.576691586693254,
          17.86656934622209,
          18.218080080486008,
          18.47313215111519,
          18.740920771673515,
          19.031675355007987,
          19.355952996814764,
          19.592520274132042,
          19.869817319228726,
          20.13726865177577,
          20.326376198856266,
          20.506072081142907,
          20.628123637755714,
          20.762047670387595,
          20.851354628783138,
          20.930722864001325,
          21.004915520117237,
          21.091597479652787,
          21.125122338997382,
          21.262192126197945,
          21.419889739131154,
          21.55952061236689,
          21.7297451398898,
          21.87750410758647,
          22.027403201631355,
          22.213946812721314,
          22.358537155182688,
          22.497455076511912,
          22.64665472822013,
          22.752474783385228,
          22.86120764586442,
          23.052349678319743,
          23.20283244207339,
          23.28509187869032,
          23.391931867104923,
          23.478328174616305,
          23.588358021248407,
          23.687409324920658,
          23.801055647430495,
          23.847453883905267,
          23.956414314282714,
          23.973493419833062,
          23.98549423216354,
          23.926075096939552,
          23.87770081151476,
          23.81549487532726,
          23.723608749370996,
          23.65912606122965,
          23.5657578272197,
          23.432043421658605,
          23.31416458979576,
          23.19340860581108,
          23.03423756278928,
          22.840188911810824,
          22.553868208064966,
          22.34064519694887,
          22.155074388448952,
          21.95155094337179,
          21.706401114922123,
          21.42995415865483,
          21.144585408188867,
          20.857307764977026,
          20.565408983750388,
          20.310065601992832,
          20.070579414810613,
          19.822368487574273,
          19.522951889864327,
          19.258127136352222,
          18.962048190905875,
          18.6803336356872,
          18.396758378893338,
          18.094513860976384,
          17.782141667323874,
          17.497416917614885,
          17.17561176274324,
          16.817907572685012,
          16.481715452984695,
          16.15239240096693,
          15.842647824272245,
          15.436574009116097,
          15.066423403389537,
          14.716844049610875,
          14.371706341103955,
          14.027540433286571,
          13.667906339339847,
          13.279700390850447,
          12.856440311485274,
          12.47509809585797,
          12.077034860874907,
          11.613945697326024,
          11.189400223617731,
          10.775679093432537,
          10.353031141997143,
          9.962547009191104,
          9.494477590313723,
          9.024010325024626,
          8.577637581345844,
          8.166132904605217,
          7.762794381363616,
          7.350008536394857,
          6.976737925743796,
          6.538507027750713,
          6.168498579432123,
          5.649760978293012,
          5.119390757028257,
          4.611104804435024,
          4.114152567109233,
          3.6452720924415427,
          3.1641908013071496,
          2.690873871975922,
          2.1957223744142307,
          1.7527179485735758,
          1.2390701615776414,
          0.73986506418455,
          0.26011733378599144,
          -0.25875993281082843,
          -0.8190861444786091,
          -1.348561801436928,
          -1.9053680883430064,
          -2.388853510907874,
          -2.869517455932417,
          -3.403054712414174,
          -3.8661136390879656,
          -4.342679095738143,
          -4.837064024139304,
          -5.2435592958309325,
          -5.638511471305893,
          -6.068518764507254,
          -6.4848059094426445,
          -6.858649148521791,
          -7.284365389185778,
          -7.6840575944660365,
          -8.040923325987176,
          -8.42171592218645,
          -8.827479060866175,
          -9.23846091358182,
          -9.648337714105075,
          -10.035799816145694,
          -10.452011110677994,
          -10.83149735737755,
          -11.177717230933396,
          -11.50113007254792,
          -11.857132835379161,
          -12.063959903961482,
          -12.322340427806793,
          -12.725420010348374,
          -13.12129247694144,
          -13.513656222629587,
          -13.857149834222131,
          -14.21729036884938,
          -14.581095886631651,
          -14.875875875013143,
          -15.193504818919065,
          -15.546736347915525,
          -15.801161394876857,
          -16.164078553327588,
          -16.52740339765284,
          -16.886891044592897,
          -17.186119525911057,
          -17.58231922315175,
          -17.867589211555188,
          -18.149109344583366,
          -18.381037973380398,
          -18.621112567974265,
          -18.832113434106677,
          -19.056567567109983,
          -19.256977049553758,
          -19.424305140014333,
          -19.493014726688585,
          -19.57134652278816,
          -19.62814706523223,
          -19.697758565903104,
          -19.765199449864042,
          -19.791907556693683,
          -19.79293927803039,
          -19.83212817151031,
          -19.881561042410468,
          -19.946123534235696,
          -19.954153527317523,
          -19.913795364343457,
          -19.934235649074388,
          -19.944185336637535,
          -19.945521449586202,
          -19.908061759842415,
          -19.809612588045916,
          -19.671842013840852,
          -19.559106861399265,
          -19.475042839802427,
          -19.39796375303702,
          -19.31385885758179,
          -19.213945754591364,
          -19.142197756510676,
          -19.085901331006706,
          -19.03473889073577,
          -18.98776985419182,
          -18.902895518680495,
          -18.788584689972044,
          -18.76533985798359,
          -18.706248258908687,
          -18.59632247088847,
          -18.467922299942913,
          -18.316293333630405,
          -18.172056260781737,
          -18.00563903163088,
          -17.75363363971076,
          -17.519541657964638,
          -17.31704315759905,
          -17.105729374616722,
          -16.914976721495364,
          -16.61713312562027,
          -16.301151145794446,
          -15.993224759238307,
          -15.654460895300575,
          -15.337295063571585,
          -14.992545108597394,
          -14.631983254384505,
          -14.243345969173511,
          -13.914767670741943,
          -13.553476804611387,
          -13.210050059103434,
          -12.738493137768193,
          -12.348142827034959,
          -11.975871432776488,
          -11.6015386851497,
          -11.26273187252189,
          -10.869843431125718,
          -10.457266920005809,
          -10.081061743327735,
          -9.61004287713425,
          -9.135494838240891,
          -8.645396845465822,
          -8.187362201164845,
          -7.780114197863057,
          -7.373308660145055,
          -6.941917203454845,
          -6.5494937930712,
          -6.170036627687468,
          -5.760208785052061,
          -5.330929507993452,
          -4.9230106851790065,
          -4.489777636526713,
          -3.9994354087410513,
          -3.4781231733962166,
          -2.9792233180750043,
          -2.5106712688026187,
          -2.049004798766209,
          -1.543520016282417,
          -1.0612575561942976,
          -0.5883471613111836,
          -0.1377840498458554,
          0.2520608591486285,
          0.7256424945460336,
          1.1902569715334979,
          1.6541125390245095,
          2.079529693381417,
          2.5513970666775614,
          3.009112089608171,
          3.436623215196816,
          3.878229586240886,
          4.338202621506786,
          4.815710866015634,
          5.322579280759746,
          5.816381262939064,
          6.31824521489918,
          6.765067087052226,
          7.196332202869685,
          7.618017502582009,
          8.070629848994605,
          8.417892264888367,
          8.81415836321816,
          9.33935695527493,
          9.865581313505457,
          10.361716364612768,
          10.798432054870325
         ],
         "z": [
          -3.184009451032797,
          -3.4373625561009735,
          -3.682055843126616,
          -3.8829676359391523,
          -4.134282922856069,
          -4.356606689015291,
          -4.498869732197909,
          -4.719058561403782,
          -4.9353855381692116,
          -5.179309543752255,
          -5.3186370094290885,
          -5.5151524526024005,
          -5.539408935138702,
          -5.726065056858024,
          -5.91301823618489,
          -6.121859239879723,
          -6.260656486355233,
          -6.374604768650058,
          -6.398659492090558,
          -6.403699718437097,
          -6.433348111901609,
          -6.4443014156491705,
          -6.497734992176141,
          -6.514443088297994,
          -6.560342909670317,
          -6.5754376741725995,
          -6.588965392430052,
          -6.636537454348853,
          -6.658996288079174,
          -6.680698514271892,
          -6.712768684746415,
          -6.679994845318151,
          -6.6464256532237,
          -6.546570738236562,
          -6.450526399342387,
          -6.279064123168225,
          -6.141268356332327,
          -5.973562042196471,
          -5.772570077422227,
          -5.619496242756778,
          -5.413646065642638,
          -5.272853612822262,
          -5.052031311007687,
          -4.875997116191633,
          -4.659059558347852,
          -4.4173127869363515,
          -4.22885184967877,
          -3.9756981781560623,
          -3.770097272204751,
          -3.4435630821649656,
          -3.124999125249196,
          -2.782657802402064,
          -2.454193407459252,
          -2.104343333524078,
          -1.7299442221488603,
          -1.246911911690938,
          -0.8176355327129434,
          -0.337650188325102,
          0.025012922933339194,
          0.4042724633053369,
          0.6370993365698435,
          0.9547087443447781,
          1.2208691983309146,
          1.4914438429194412,
          1.7868869877620197,
          2.1008808040696647,
          2.340465979963914,
          2.6292637976108106,
          2.9142057524101483,
          3.261809427668405,
          3.5392392882776194,
          3.8304593610665396,
          4.116572362256187,
          4.362792425495213,
          4.622301966311318,
          4.790701601141099,
          4.956140640025346,
          5.118031612743718,
          5.25061443397738,
          5.3874389495079535,
          5.521601950304229,
          5.637000419043317,
          5.72561335218519,
          5.798081079074612,
          5.878681414093368,
          5.98766227642485,
          6.09633418251541,
          6.1969858854220625,
          6.342771340906746,
          6.413051688383261,
          6.456773553229666,
          6.565746701773924,
          6.682381053689849,
          6.731814000131106,
          6.738231087838855,
          6.697723652172719,
          6.641019981628331,
          6.603943493728656,
          6.560316566549379,
          6.488762131836304,
          6.422200864103681,
          6.303364885834506,
          6.195431650281872,
          6.07650970937336,
          5.948904747584599,
          5.869731971194917,
          5.695414265267479,
          5.60365812776711,
          5.484775098101502,
          5.361784020931994,
          5.1700322788134345,
          5.003180870693487,
          4.885661008351298,
          4.675637978567668,
          4.5036125980765345,
          4.3163277531698325,
          4.052460903212154,
          3.8754600540474438,
          3.6241354098708345,
          3.404503714172743,
          3.1593108166043913,
          2.843907077947323,
          2.5838588827067124,
          2.348323367242051,
          2.144386875956533,
          1.9120000999314077,
          1.6418134280939183,
          1.3785872553238785,
          1.139707920892482,
          0.8098633863300432,
          0.48161259403848444,
          0.25152290686557155,
          -0.11149867151395856,
          -0.4505085615269068,
          -0.8744052966067558,
          -1.199915948071198,
          -1.6382133374959662,
          -1.8186310637426704,
          -2.2596348149697683,
          -2.7165760070663443,
          -3.155264714216687,
          -3.5209081035137273,
          -3.8526425517693634,
          -4.089662651890621,
          -4.299272609499256,
          -4.555198998747516,
          -4.758706306991551,
          -4.965730015318832,
          -5.158075942916746,
          -5.367011504937606,
          -5.547775159544331,
          -5.769189782280702,
          -6.0459334844850625,
          -6.245624582837625,
          -6.438058711266208,
          -6.636064014676547,
          -6.761674811405176,
          -6.893859903134485,
          -6.966013131433743,
          -7.0439963407448625,
          -7.067698453452083,
          -7.0611564667014255,
          -7.071199327361692,
          -7.0511417610511335,
          -7.019925282596764,
          -6.981964676266035,
          -6.9366512494600086,
          -6.846757567136067,
          -6.810226916562543,
          -6.755069825857169,
          -6.698088927802909,
          -6.690080644911413,
          -6.630316200828053,
          -6.516147418133081,
          -6.4082469100668416,
          -6.282535748012989,
          -6.137676903312457,
          -5.954925956136142,
          -5.701398157948345,
          -5.469896424652414,
          -5.120635793710894,
          -4.865567821247573,
          -4.550932918940948,
          -4.271273064035855,
          -3.9509023377175145,
          -3.767690030828623,
          -3.466234440570496,
          -3.232504367741827,
          -2.9796512821420387,
          -2.700875616443337,
          -2.4484491221639195,
          -2.229368690287394,
          -1.9395379564550892,
          -1.6429289250556924,
          -1.3594186103536003,
          -1.0987545365346216,
          -0.7847346431468559,
          -0.5315849066654592,
          -0.22833165544378498,
          0.03138332039254735,
          0.26717128778005134,
          0.512637090327419,
          0.7836815541516365,
          1.0939152842306705,
          1.4516711892366034,
          1.7230851878047606,
          1.9610364228788624,
          2.1922084565515774,
          2.402705164145924,
          2.657939781420836,
          2.8882258788781274,
          3.1804871542746946,
          3.465235139015515,
          3.7474784755751207,
          4.040340329333126,
          4.2955104658807475,
          4.590164525234517,
          4.945066195300128,
          5.247407182231691,
          5.516800868326848,
          5.692716100125033,
          5.937229233187973,
          6.285683831801226,
          6.572765539377019,
          6.783493185616585,
          7.019159377330605,
          7.20199761199963,
          7.3528087676579155,
          7.496310552132919,
          7.606936136848354,
          7.745091012014394,
          7.814339391868072,
          7.946676680199734,
          8.052202220552193,
          8.246780064476269,
          8.35494470563539,
          8.468969544570237,
          8.610205380872705,
          8.639105594509857,
          8.726315540268878,
          8.714494399992954,
          8.760821289693968,
          8.773230832078882,
          8.71362448998237,
          8.641856940904868,
          8.541680040021644,
          8.372480263604626,
          8.232477333780995,
          8.131291912668274,
          8.03370366724624,
          7.888624028279896,
          7.750724299142078,
          7.613300268815252,
          7.5124233752881535,
          7.35086764793238,
          7.194744583199303,
          7.065034759523368,
          6.818738158063849,
          6.594106914912799,
          6.33783755313475,
          6.079433126092205,
          5.721959425060334,
          5.537197014405947,
          5.139228754740462,
          4.7296735060526105,
          4.342625466876737,
          3.970310504331329,
          3.5894523681025103,
          3.284403824663941,
          3.018467889994244,
          2.705277863375392,
          2.398181403586147,
          2.151234716597181,
          1.9146387444251407,
          1.6190695595314915,
          1.2982941188358998,
          0.9817644728044832,
          0.5967591677353677,
          0.31872783568633445,
          0.028315166655870628,
          -0.2615706916317733,
          -0.48079618578234795,
          -0.7693085063589136,
          -1.0454687688021143,
          -1.3284878532226785,
          -1.5624033584712707,
          -1.7847286585038022,
          -2.0495599716955835,
          -2.2717731315627585,
          -2.4787124887775023,
          -2.7219738311557853,
          -2.9363265527897395,
          -3.1762592270803043,
          -3.4241657661062708,
          -3.6503430574906344,
          -3.9092676452741393,
          -4.147223301111482,
          -4.386488461118874,
          -4.64097727804582,
          -4.833374213401776,
          -5.011958503559941,
          -5.240783103646029,
          -5.482763323574848,
          -5.697570483165695,
          -5.908910183776693,
          -6.079759760123288,
          -6.219344576975266,
          -6.331230693069873,
          -6.422087641696965,
          -6.516701025255271,
          -6.644018749774018,
          -6.668044087442357,
          -6.806814871780362,
          -6.811464400536401,
          -6.883143000379015,
          -6.96194313445465,
          -6.9890884805559645,
          -7.046950004069828,
          -7.117948948400277,
          -7.145130420036949,
          -7.202917140871252,
          -7.218319599775813,
          -7.190958356927864,
          -7.093776325281876,
          -7.101019994725572,
          -6.999942982733771,
          -6.832085675500032,
          -6.733552456511555,
          -6.595229763794107,
          -6.37075687259832,
          -6.189720562723372,
          -6.005342116689696,
          -5.773687594412836,
          -5.578707502598417,
          -5.311380696542671,
          -5.098105877394427,
          -4.8592917551003145,
          -4.525668732157953,
          -4.2442407033399725,
          -3.96043076344256,
          -3.5867767101227757,
          -3.2879637856573343,
          -2.88367719572056,
          -2.4867712593479863,
          -1.9853737550650374,
          -1.5684422915338276,
          -1.119228651046406,
          -0.6373804725007429,
          -0.34498460051910224,
          0.09499803065510153,
          0.5316044156443476,
          0.8950755836388024,
          1.2415249513665654,
          1.582117505299542,
          1.8861442804131052,
          2.2003029082594443,
          2.5288162313411604,
          2.8720559452392047,
          3.199593827155055,
          3.519208268023236,
          3.87616000910923,
          4.192769032354754,
          4.498249603732155,
          4.709868363295068,
          4.926052477360281,
          5.112845003760326,
          5.35645740535529,
          5.508998979333329,
          5.661989697130509,
          5.806475517790323,
          5.960877974329857,
          6.102381981926378,
          6.234556538365254,
          6.357303007454899,
          6.478225262217605,
          6.577477004997166,
          6.6852639142061046,
          6.707782008634518,
          6.7206524066635,
          6.697980350184014,
          6.707934902784261,
          6.6706875923525315,
          6.579102581261484,
          6.489211617033296,
          6.465497000278481,
          6.39634098311402,
          6.317487538410089,
          6.28139825183529,
          6.212814218837821,
          6.125581083737858,
          6.044763882182288,
          5.892968151548586,
          5.806604427334885,
          5.74741025336013,
          5.659700237351416,
          5.564334465375109,
          5.436320552410283,
          5.381215600558925,
          5.334167086406097,
          5.217125970883142,
          5.078666994271824,
          4.983914721225412,
          4.834626402252476,
          4.71350747052769,
          4.587696783489094,
          4.415246621719883,
          4.309100424975151,
          4.161425648115696,
          3.9963198097359434,
          3.764111966987626,
          3.610105105729324,
          3.4148058844925138,
          3.1124102595937515,
          2.8829561881789703,
          2.6332307021203567,
          2.351156384102495,
          2.1002220623824517,
          1.8129764043443533,
          1.5371380884404306,
          1.2787179828060502,
          0.9435562088504488,
          0.7110623815411096,
          0.42800768222896884,
          0.10620158148752426,
          -0.15266276177168983,
          -0.45018300074416373,
          -0.7755631856501991,
          -1.234518546098366,
          -1.6357206203631955,
          -2.071563491375647,
          -2.4583963347663675,
          -2.7628290418139936,
          -3.1373539997295032,
          -3.516180774394243,
          -3.860473793377401,
          -4.2259413586043095,
          -4.533719923547097,
          -4.874729209035324,
          -5.18147852602686,
          -5.532085751067574,
          -5.863212499667983,
          -6.172105124240116,
          -6.502824820371659,
          -6.796370323365323,
          -7.048803449995432,
          -7.285990687154762,
          -7.512191241620675,
          -7.679814805756343,
          -7.783056722509369,
          -7.93003909113171,
          -7.971387422249916,
          -8.010508108418218,
          -8.106971583676957,
          -8.13779856129846,
          -8.122747319320068,
          -8.132351559828512,
          -8.13240996702781,
          -8.086963717778586,
          -8.05917703946064,
          -7.972961253884197,
          -7.903401426898635,
          -7.761123626979455,
          -7.569052157311351,
          -7.391014051073035,
          -7.201688716803692,
          -6.989456986735875,
          -6.764488767482102,
          -6.525040298801433,
          -6.261178267734901,
          -5.943750237444,
          -5.713138514954204,
          -5.403637973299834,
          -5.10415974412644,
          -4.867945533183769,
          -4.540160999391618,
          -4.1915125022778295,
          -3.923842450919297,
          -3.6507121179507545,
          -3.396630811356459,
          -3.103616220474733,
          -2.792358129291177,
          -2.5128462211495037,
          -2.207972216932678,
          -1.862053838648649,
          -1.5843318421575874,
          -1.2626780798717703,
          -0.9405337973734214,
          -0.6715702099547978,
          -0.3924763474629112,
          -0.10823721591654428,
          0.10759875571156656,
          0.3689093845045641,
          0.5892421602374129,
          0.8688663056851945,
          1.095655276143243,
          1.3287082219403938,
          1.6187962146675,
          1.855819627679759,
          2.1375241670538765,
          2.426901029435566,
          2.68961635371603,
          2.9546109022257316,
          3.192103978802597,
          3.3875591854970133,
          3.6375332972297687,
          3.839419696332458,
          4.04345296545817,
          4.311389444155818,
          4.484982899137254,
          4.759174726582788,
          5.091841277678229,
          5.397766245554551,
          5.655922574091907,
          5.938663677882475,
          6.17156319441083,
          6.388145512985193,
          6.64412446746098,
          6.88776187432212,
          7.118150871670273,
          7.338091983003545,
          7.561212536564218,
          7.705576496540504,
          7.956234594677872,
          8.202788299262116,
          8.370980967219836,
          8.576725967702801,
          8.799566063375245,
          8.94885133051685,
          9.078892007542597,
          9.255254730738688,
          9.294473875645103,
          9.344095120886994,
          9.367285405089811,
          9.389355618369454,
          9.356785929690163,
          9.364518649076857,
          9.345245494982601,
          9.303899319763353,
          9.239087550906211,
          9.172546007650174,
          9.067469280412844,
          8.953710093571049,
          8.826891336583966,
          8.693946285211277,
          8.486226964438417,
          8.238952650126294,
          8.025857070386555,
          7.805859555312986,
          7.534344586155352,
          7.263626065730677,
          6.971209900522543,
          6.646952955971074,
          6.243044025283979,
          5.894253305661405,
          5.50352439187993,
          5.153265366361868,
          4.832481943681559,
          4.410924020205828,
          4.023137510514395,
          3.6703700628651785,
          3.317245013552042,
          2.9491004090813173,
          2.6212047677401635,
          2.2242219535264804,
          1.837069198924141,
          1.4377166647559407,
          1.08115777905579,
          0.6956273721462937,
          0.3021229713088477,
          -0.05566821545518809,
          -0.43099963483311293,
          -0.8050587384389816,
          -1.144019700605735,
          -1.4345989171408124,
          -1.6496846811697463,
          -1.8636084162551254,
          -2.1277998130510385,
          -2.4310660556729022,
          -2.6939495192655967,
          -2.9320430787847203,
          -3.165270388171644,
          -3.4245507394416888,
          -3.660879831237178,
          -3.9018685921664695,
          -4.119137897370755,
          -4.353151890378617,
          -4.480923946291806,
          -4.612581993680139,
          -4.793445243891875,
          -4.954169597996179,
          -5.184537418595496,
          -5.30106557673356,
          -5.4200856162553634,
          -5.544189666405894,
          -5.6609490487661045,
          -5.876966836560298,
          -6.030748167094758,
          -6.122709751499951,
          -6.221942266298869,
          -6.293742746375484,
          -6.366056918801391,
          -6.4858498428406595,
          -6.538747865000453,
          -6.646902922824945,
          -6.701757408815412,
          -6.731147288628621,
          -6.776860625440167,
          -6.815268612176447,
          -6.849051442483821,
          -6.949571505326398,
          -6.930545328626202,
          -6.893132912403374,
          -6.845417160301347,
          -6.739165828290748,
          -6.605560505059549,
          -6.527711755403342,
          -6.43869087019781,
          -6.312510397920205,
          -6.1597597178178205,
          -5.955388698429813,
          -5.813067158708124,
          -5.565526619774543,
          -5.384877339577932,
          -5.146692420304956,
          -4.960581869293379,
          -4.74525560465763,
          -4.4956067037818706,
          -4.243945496593389,
          -4.037114542903568,
          -3.7649047414397723,
          -3.463248081577211,
          -3.1450866296114204,
          -2.8253568102572486,
          -2.51237023148308,
          -2.2039252216805423,
          -1.863112587007143,
          -1.403360512564782,
          -0.9484173134506233,
          -0.49286507381619526,
          -0.12119423144357143,
          0.2470625392907884,
          0.6314626243520978,
          0.958679964509792,
          1.2900190120400332,
          1.6362114748441512,
          1.9325158342127846,
          2.275733986311071,
          2.6361281039994875,
          2.986704660909013,
          3.3224098645264353,
          3.718090130407367,
          4.095632590191651,
          4.374918327675384,
          4.619831440747816,
          4.86122888632064,
          5.0819627605019,
          5.254410673144221,
          5.406459989842666,
          5.554878979038503,
          5.687392539605206,
          5.840672824657465,
          5.983009357679532,
          6.082233442238947,
          6.12301190603705,
          6.1945316194401885,
          6.291362539819828,
          6.35713201743663,
          6.471153516080229,
          6.603664667342819,
          6.651908255497935,
          6.727511113416658,
          6.791003572535676,
          6.887742883561816,
          6.954096135853884,
          6.986925424823412,
          6.9620566759472995,
          6.953527697554753,
          6.887863312631149,
          6.79687262486387,
          6.724193911855486,
          6.641571101775407,
          6.552719757563406,
          6.380537278591905,
          6.262709902916047,
          6.151374367670826,
          6.046347498632122,
          5.9106836287868765,
          5.792637450453007,
          5.641481667466174,
          5.477361398606018,
          5.287692420327306,
          5.146482894392764,
          5.011070965323694,
          4.82692083084723,
          4.650261556572769,
          4.424526722043535,
          4.2037949926692,
          3.9666293100875243,
          3.7490434168659057,
          3.5794700334263148,
          3.370493774272242,
          3.1414182196637253,
          2.8348274851578545,
          2.5688419883853255,
          2.344804827873778,
          2.1054866676296364,
          1.8312954009939058,
          1.5504235587392268,
          1.2598100487185488,
          0.9788070264932852,
          0.6534830537865258,
          0.37247227946917383,
          0.12323474683541667,
          -0.23367448762553306,
          -0.6250346914856466,
          -1.006587671616682,
          -1.3195470551593909,
          -1.662648930847163,
          -1.9615830809667243,
          -2.314500188490618,
          -2.769606061195287,
          -3.208440717870627,
          -3.5177708596519697,
          -3.85220846088686,
          -4.1080842418497046,
          -4.373607923119925,
          -4.659439228679989,
          -4.866839265357051,
          -5.13453930673598,
          -5.387170881150491,
          -5.5987785756183,
          -5.820794192231681,
          -6.066158993928842,
          -6.317629847523402,
          -6.6339332821456845,
          -6.846558473052166,
          -7.032182823219702,
          -7.154903154908607,
          -7.254383103294051,
          -7.3294454073952195,
          -7.39639242158611,
          -7.466822657126875,
          -7.508915830001617,
          -7.491685657269105,
          -7.451920036079365,
          -7.42157898275919,
          -7.326373386224506,
          -7.275616997872176,
          -7.191776865746746,
          -7.128431807202679,
          -7.077826968767361,
          -7.033037695955263,
          -6.961584322802236,
          -6.849589422652997,
          -6.762134351735269,
          -6.649142664765425,
          -6.477611469492423,
          -6.320829869317982,
          -6.116734632947173,
          -5.906103237822552,
          -5.644190960368363,
          -5.303725759763713,
          -4.9869029106452585,
          -4.6462743907101665,
          -4.332431643231821
         ]
        }
       ],
       "layout": {
        "scene": {
         "xaxis": {
          "exponentformat": "e",
          "showexponent": "all",
          "title": {
           "text": "0th"
          },
          "type": "linear"
         },
         "yaxis": {
          "exponentformat": "e",
          "showexponent": "all",
          "title": {
           "text": "1st"
          },
          "type": "linear"
         },
         "zaxis": {
          "exponentformat": "e",
          "showexponent": "all",
          "title": {
           "text": "2nd"
          },
          "type": "linear"
         }
        },
        "template": {
         "data": {
          "bar": [
           {
            "error_x": {
             "color": "#2a3f5f"
            },
            "error_y": {
             "color": "#2a3f5f"
            },
            "marker": {
             "line": {
              "color": "#E5ECF6",
              "width": 0.5
             },
             "pattern": {
              "fillmode": "overlay",
              "size": 10,
              "solidity": 0.2
             }
            },
            "type": "bar"
           }
          ],
          "barpolar": [
           {
            "marker": {
             "line": {
              "color": "#E5ECF6",
              "width": 0.5
             },
             "pattern": {
              "fillmode": "overlay",
              "size": 10,
              "solidity": 0.2
             }
            },
            "type": "barpolar"
           }
          ],
          "carpet": [
           {
            "aaxis": {
             "endlinecolor": "#2a3f5f",
             "gridcolor": "white",
             "linecolor": "white",
             "minorgridcolor": "white",
             "startlinecolor": "#2a3f5f"
            },
            "baxis": {
             "endlinecolor": "#2a3f5f",
             "gridcolor": "white",
             "linecolor": "white",
             "minorgridcolor": "white",
             "startlinecolor": "#2a3f5f"
            },
            "type": "carpet"
           }
          ],
          "choropleth": [
           {
            "colorbar": {
             "outlinewidth": 0,
             "ticks": ""
            },
            "type": "choropleth"
           }
          ],
          "contour": [
           {
            "colorbar": {
             "outlinewidth": 0,
             "ticks": ""
            },
            "colorscale": [
             [
              0,
              "#0d0887"
             ],
             [
              0.1111111111111111,
              "#46039f"
             ],
             [
              0.2222222222222222,
              "#7201a8"
             ],
             [
              0.3333333333333333,
              "#9c179e"
             ],
             [
              0.4444444444444444,
              "#bd3786"
             ],
             [
              0.5555555555555556,
              "#d8576b"
             ],
             [
              0.6666666666666666,
              "#ed7953"
             ],
             [
              0.7777777777777778,
              "#fb9f3a"
             ],
             [
              0.8888888888888888,
              "#fdca26"
             ],
             [
              1,
              "#f0f921"
             ]
            ],
            "type": "contour"
           }
          ],
          "contourcarpet": [
           {
            "colorbar": {
             "outlinewidth": 0,
             "ticks": ""
            },
            "type": "contourcarpet"
           }
          ],
          "heatmap": [
           {
            "colorbar": {
             "outlinewidth": 0,
             "ticks": ""
            },
            "colorscale": [
             [
              0,
              "#0d0887"
             ],
             [
              0.1111111111111111,
              "#46039f"
             ],
             [
              0.2222222222222222,
              "#7201a8"
             ],
             [
              0.3333333333333333,
              "#9c179e"
             ],
             [
              0.4444444444444444,
              "#bd3786"
             ],
             [
              0.5555555555555556,
              "#d8576b"
             ],
             [
              0.6666666666666666,
              "#ed7953"
             ],
             [
              0.7777777777777778,
              "#fb9f3a"
             ],
             [
              0.8888888888888888,
              "#fdca26"
             ],
             [
              1,
              "#f0f921"
             ]
            ],
            "type": "heatmap"
           }
          ],
          "heatmapgl": [
           {
            "colorbar": {
             "outlinewidth": 0,
             "ticks": ""
            },
            "colorscale": [
             [
              0,
              "#0d0887"
             ],
             [
              0.1111111111111111,
              "#46039f"
             ],
             [
              0.2222222222222222,
              "#7201a8"
             ],
             [
              0.3333333333333333,
              "#9c179e"
             ],
             [
              0.4444444444444444,
              "#bd3786"
             ],
             [
              0.5555555555555556,
              "#d8576b"
             ],
             [
              0.6666666666666666,
              "#ed7953"
             ],
             [
              0.7777777777777778,
              "#fb9f3a"
             ],
             [
              0.8888888888888888,
              "#fdca26"
             ],
             [
              1,
              "#f0f921"
             ]
            ],
            "type": "heatmapgl"
           }
          ],
          "histogram": [
           {
            "marker": {
             "pattern": {
              "fillmode": "overlay",
              "size": 10,
              "solidity": 0.2
             }
            },
            "type": "histogram"
           }
          ],
          "histogram2d": [
           {
            "colorbar": {
             "outlinewidth": 0,
             "ticks": ""
            },
            "colorscale": [
             [
              0,
              "#0d0887"
             ],
             [
              0.1111111111111111,
              "#46039f"
             ],
             [
              0.2222222222222222,
              "#7201a8"
             ],
             [
              0.3333333333333333,
              "#9c179e"
             ],
             [
              0.4444444444444444,
              "#bd3786"
             ],
             [
              0.5555555555555556,
              "#d8576b"
             ],
             [
              0.6666666666666666,
              "#ed7953"
             ],
             [
              0.7777777777777778,
              "#fb9f3a"
             ],
             [
              0.8888888888888888,
              "#fdca26"
             ],
             [
              1,
              "#f0f921"
             ]
            ],
            "type": "histogram2d"
           }
          ],
          "histogram2dcontour": [
           {
            "colorbar": {
             "outlinewidth": 0,
             "ticks": ""
            },
            "colorscale": [
             [
              0,
              "#0d0887"
             ],
             [
              0.1111111111111111,
              "#46039f"
             ],
             [
              0.2222222222222222,
              "#7201a8"
             ],
             [
              0.3333333333333333,
              "#9c179e"
             ],
             [
              0.4444444444444444,
              "#bd3786"
             ],
             [
              0.5555555555555556,
              "#d8576b"
             ],
             [
              0.6666666666666666,
              "#ed7953"
             ],
             [
              0.7777777777777778,
              "#fb9f3a"
             ],
             [
              0.8888888888888888,
              "#fdca26"
             ],
             [
              1,
              "#f0f921"
             ]
            ],
            "type": "histogram2dcontour"
           }
          ],
          "mesh3d": [
           {
            "colorbar": {
             "outlinewidth": 0,
             "ticks": ""
            },
            "type": "mesh3d"
           }
          ],
          "parcoords": [
           {
            "line": {
             "colorbar": {
              "outlinewidth": 0,
              "ticks": ""
             }
            },
            "type": "parcoords"
           }
          ],
          "pie": [
           {
            "automargin": true,
            "type": "pie"
           }
          ],
          "scatter": [
           {
            "marker": {
             "colorbar": {
              "outlinewidth": 0,
              "ticks": ""
             }
            },
            "type": "scatter"
           }
          ],
          "scatter3d": [
           {
            "line": {
             "colorbar": {
              "outlinewidth": 0,
              "ticks": ""
             }
            },
            "marker": {
             "colorbar": {
              "outlinewidth": 0,
              "ticks": ""
             }
            },
            "type": "scatter3d"
           }
          ],
          "scattercarpet": [
           {
            "marker": {
             "colorbar": {
              "outlinewidth": 0,
              "ticks": ""
             }
            },
            "type": "scattercarpet"
           }
          ],
          "scattergeo": [
           {
            "marker": {
             "colorbar": {
              "outlinewidth": 0,
              "ticks": ""
             }
            },
            "type": "scattergeo"
           }
          ],
          "scattergl": [
           {
            "marker": {
             "colorbar": {
              "outlinewidth": 0,
              "ticks": ""
             }
            },
            "type": "scattergl"
           }
          ],
          "scattermapbox": [
           {
            "marker": {
             "colorbar": {
              "outlinewidth": 0,
              "ticks": ""
             }
            },
            "type": "scattermapbox"
           }
          ],
          "scatterpolar": [
           {
            "marker": {
             "colorbar": {
              "outlinewidth": 0,
              "ticks": ""
             }
            },
            "type": "scatterpolar"
           }
          ],
          "scatterpolargl": [
           {
            "marker": {
             "colorbar": {
              "outlinewidth": 0,
              "ticks": ""
             }
            },
            "type": "scatterpolargl"
           }
          ],
          "scatterternary": [
           {
            "marker": {
             "colorbar": {
              "outlinewidth": 0,
              "ticks": ""
             }
            },
            "type": "scatterternary"
           }
          ],
          "surface": [
           {
            "colorbar": {
             "outlinewidth": 0,
             "ticks": ""
            },
            "colorscale": [
             [
              0,
              "#0d0887"
             ],
             [
              0.1111111111111111,
              "#46039f"
             ],
             [
              0.2222222222222222,
              "#7201a8"
             ],
             [
              0.3333333333333333,
              "#9c179e"
             ],
             [
              0.4444444444444444,
              "#bd3786"
             ],
             [
              0.5555555555555556,
              "#d8576b"
             ],
             [
              0.6666666666666666,
              "#ed7953"
             ],
             [
              0.7777777777777778,
              "#fb9f3a"
             ],
             [
              0.8888888888888888,
              "#fdca26"
             ],
             [
              1,
              "#f0f921"
             ]
            ],
            "type": "surface"
           }
          ],
          "table": [
           {
            "cells": {
             "fill": {
              "color": "#EBF0F8"
             },
             "line": {
              "color": "white"
             }
            },
            "header": {
             "fill": {
              "color": "#C8D4E3"
             },
             "line": {
              "color": "white"
             }
            },
            "type": "table"
           }
          ]
         },
         "layout": {
          "annotationdefaults": {
           "arrowcolor": "#2a3f5f",
           "arrowhead": 0,
           "arrowwidth": 1
          },
          "autotypenumbers": "strict",
          "coloraxis": {
           "colorbar": {
            "outlinewidth": 0,
            "ticks": ""
           }
          },
          "colorscale": {
           "diverging": [
            [
             0,
             "#8e0152"
            ],
            [
             0.1,
             "#c51b7d"
            ],
            [
             0.2,
             "#de77ae"
            ],
            [
             0.3,
             "#f1b6da"
            ],
            [
             0.4,
             "#fde0ef"
            ],
            [
             0.5,
             "#f7f7f7"
            ],
            [
             0.6,
             "#e6f5d0"
            ],
            [
             0.7,
             "#b8e186"
            ],
            [
             0.8,
             "#7fbc41"
            ],
            [
             0.9,
             "#4d9221"
            ],
            [
             1,
             "#276419"
            ]
           ],
           "sequential": [
            [
             0,
             "#0d0887"
            ],
            [
             0.1111111111111111,
             "#46039f"
            ],
            [
             0.2222222222222222,
             "#7201a8"
            ],
            [
             0.3333333333333333,
             "#9c179e"
            ],
            [
             0.4444444444444444,
             "#bd3786"
            ],
            [
             0.5555555555555556,
             "#d8576b"
            ],
            [
             0.6666666666666666,
             "#ed7953"
            ],
            [
             0.7777777777777778,
             "#fb9f3a"
            ],
            [
             0.8888888888888888,
             "#fdca26"
            ],
            [
             1,
             "#f0f921"
            ]
           ],
           "sequentialminus": [
            [
             0,
             "#0d0887"
            ],
            [
             0.1111111111111111,
             "#46039f"
            ],
            [
             0.2222222222222222,
             "#7201a8"
            ],
            [
             0.3333333333333333,
             "#9c179e"
            ],
            [
             0.4444444444444444,
             "#bd3786"
            ],
            [
             0.5555555555555556,
             "#d8576b"
            ],
            [
             0.6666666666666666,
             "#ed7953"
            ],
            [
             0.7777777777777778,
             "#fb9f3a"
            ],
            [
             0.8888888888888888,
             "#fdca26"
            ],
            [
             1,
             "#f0f921"
            ]
           ]
          },
          "colorway": [
           "#636efa",
           "#EF553B",
           "#00cc96",
           "#ab63fa",
           "#FFA15A",
           "#19d3f3",
           "#FF6692",
           "#B6E880",
           "#FF97FF",
           "#FECB52"
          ],
          "font": {
           "color": "#2a3f5f"
          },
          "geo": {
           "bgcolor": "white",
           "lakecolor": "white",
           "landcolor": "#E5ECF6",
           "showlakes": true,
           "showland": true,
           "subunitcolor": "white"
          },
          "hoverlabel": {
           "align": "left"
          },
          "hovermode": "closest",
          "mapbox": {
           "style": "light"
          },
          "paper_bgcolor": "white",
          "plot_bgcolor": "#E5ECF6",
          "polar": {
           "angularaxis": {
            "gridcolor": "white",
            "linecolor": "white",
            "ticks": ""
           },
           "bgcolor": "#E5ECF6",
           "radialaxis": {
            "gridcolor": "white",
            "linecolor": "white",
            "ticks": ""
           }
          },
          "scene": {
           "xaxis": {
            "backgroundcolor": "#E5ECF6",
            "gridcolor": "white",
            "gridwidth": 2,
            "linecolor": "white",
            "showbackground": true,
            "ticks": "",
            "zerolinecolor": "white"
           },
           "yaxis": {
            "backgroundcolor": "#E5ECF6",
            "gridcolor": "white",
            "gridwidth": 2,
            "linecolor": "white",
            "showbackground": true,
            "ticks": "",
            "zerolinecolor": "white"
           },
           "zaxis": {
            "backgroundcolor": "#E5ECF6",
            "gridcolor": "white",
            "gridwidth": 2,
            "linecolor": "white",
            "showbackground": true,
            "ticks": "",
            "zerolinecolor": "white"
           }
          },
          "shapedefaults": {
           "line": {
            "color": "#2a3f5f"
           }
          },
          "ternary": {
           "aaxis": {
            "gridcolor": "white",
            "linecolor": "white",
            "ticks": ""
           },
           "baxis": {
            "gridcolor": "white",
            "linecolor": "white",
            "ticks": ""
           },
           "bgcolor": "#E5ECF6",
           "caxis": {
            "gridcolor": "white",
            "linecolor": "white",
            "ticks": ""
           }
          },
          "title": {
           "x": 0.05
          },
          "xaxis": {
           "automargin": true,
           "gridcolor": "white",
           "linecolor": "white",
           "ticks": "",
           "title": {
            "standoff": 15
           },
           "zerolinecolor": "white",
           "zerolinewidth": 2
          },
          "yaxis": {
           "automargin": true,
           "gridcolor": "white",
           "linecolor": "white",
           "ticks": "",
           "title": {
            "standoff": 15
           },
           "zerolinecolor": "white",
           "zerolinewidth": 2
          }
         }
        }
       }
      },
      "text/html": [
       "<div>                            <div id=\"eabeb242-6c34-4157-93b9-60c801d68e7d\" class=\"plotly-graph-div\" style=\"height:525px; width:100%;\"></div>            <script type=\"text/javascript\">                require([\"plotly\"], function(Plotly) {                    window.PLOTLYENV=window.PLOTLYENV || {};                                    if (document.getElementById(\"eabeb242-6c34-4157-93b9-60c801d68e7d\")) {                    Plotly.newPlot(                        \"eabeb242-6c34-4157-93b9-60c801d68e7d\",                        [{\"marker\":{\"color\":[0,1,2,3,4,5,6,7,8,9,10,11,12,13,14,15,16,17,18,19,20,21,22,23,24,25,26,27,28,29,30,31,32,33,34,35,36,37,38,39,40,41,42,43,44,45,46,47,48,49,50,51,52,53,54,55,56,57,58,59,60,61,62,63,64,65,66,67,68,69,70,71,72,73,74,75,76,77,78,79,80,81,82,83,84,85,86,87,88,89,90,91,92,93,94,95,96,97,98,99,100,101,102,103,104,105,106,107,108,109,110,111,112,113,114,115,116,117,118,119,120,121,122,123,124,125,126,127,128,129,130,131,132,133,134,135,136,137,138,139,140,141,142,143,144,145,146,147,148,149,150,151,152,153,154,155,156,157,158,159,160,161,162,163,164,165,166,167,168,169,170,171,172,173,174,175,176,177,178,179,180,181,182,183,184,185,186,187,188,189,190,191,192,193,194,195,196,197,198,199,200,201,202,203,204,205,206,207,208,209,210,211,212,213,214,215,216,217,218,219,220,221,222,223,224,225,226,227,228,229,230,231,232,233,234,235,236,237,238,239,240,241,242,243,244,245,246,247,248,249,250,251,252,253,254,255,256,257,258,259,260,261,262,263,264,265,266,267,268,269,270,271,272,273,274,275,276,277,278,279,280,281,282,283,284,285,286,287,288,289,290,291,292,293,294,295,296,297,298,299,300,301,302,303,304,305,306,307,308,309,310,311,312,313,314,315,316,317,318,319,320,321,322,323,324,325,326,327,328,329,330,331,332,333,334,335,336,337,338,339,340,341,342,343,344,345,346,347,348,349,350,351,352,353,354,355,356,357,358,359,360,361,362,363,364,365,366,367,368,369,370,371,372,373,374,375,376,377,378,379,380,381,382,383,384,385,386,387,388,389,390,391,392,393,394,395,396,397,398,399,400,401,402,403,404,405,406,407,408,409,410,411,412,413,414,415,416,417,418,419,420,421,422,423,424,425,426,427,428,429,430,431,432,433,434,435,436,437,438,439,440,441,442,443,444,445,446,447,448,449,450,451,452,453,454,455,456,457,458,459,460,461,462,463,464,465,466,467,468,469,470,471,472,473,474,475,476,477,478,479,480,481,482,483,484,485,486,487,488,489,490,491,492,493,494,495,496,497,498,499,500,501,502,503,504,505,506,507,508,509,510,511,512,513,514,515,516,517,518,519,520,521,522,523,524,525,526,527,528,529,530,531,532,533,534,535,536,537,538,539,540,541,542,543,544,545,546,547,548,549,550,551,552,553,554,555,556,557,558,559,560,561,562,563,564,565,566,567,568,569,570,571,572,573,574,575,576,577,578,579,580,581,582,583,584,585,586,587,588,589,590,591,592,593,594,595,596,597,598,599,600,601,602,603,604,605,606,607,608,609,610,611,612,613,614,615,616,617,618,619,620,621,622,623,624,625,626,627,628,629,630,631,632,633,634,635,636,637,638,639,640,641,642,643,644,645,646,647,648,649,650,651,652,653,654,655,656,657,658,659,660,661,662,663,664,665,666,667,668,669,670,671,672,673,674,675,676,677,678,679,680,681,682,683,684,685,686,687,688,689,690,691,692,693,694,695,696,697,698,699,700,701,702,703,704,705,706,707,708,709,710,711,712,713,714,715,716,717,718,719,720,721,722,723,724,725,726,727,728,729,730,731,732,733,734,735,736,737,738,739,740,741,742,743,744,745,746,747,748,749,750,751,752,753,754,755,756,757,758,759,760,761,762,763,764],\"colorscale\":[[0.0,\"#440154\"],[0.1111111111111111,\"#482878\"],[0.2222222222222222,\"#3e4989\"],[0.3333333333333333,\"#31688e\"],[0.4444444444444444,\"#26828e\"],[0.5555555555555556,\"#1f9e89\"],[0.6666666666666666,\"#35b779\"],[0.7777777777777778,\"#6ece58\"],[0.8888888888888888,\"#b5de2b\"],[1.0,\"#fde725\"]],\"opacity\":0.8,\"size\":4},\"mode\":\"markers\",\"type\":\"scatter3d\",\"x\":[20.109150612545456,20.312326449520224,20.511894079647856,20.67608071264137,20.85459144529212,21.055860658092033,21.098049665625865,21.20271782224524,21.27550593321192,21.375943001418594,21.422832087165247,21.443285705913954,21.35320915693876,21.381417255874187,21.419043653322206,21.42274728625385,21.359958652419554,21.358380293698545,21.326336880168167,21.30965620123108,21.334624263531335,21.317667245713228,21.2983056199769,21.32422302873248,21.29806250308673,21.28619836542404,21.278839738056153,21.33390175591346,21.336312290610774,21.366855959891055,21.34249401433667,21.286314687970773,21.23268238736956,21.177892023813083,21.074774493988937,20.98648226517975,20.845816356007575,20.660598659360502,20.517160061332508,20.344435252265352,20.16521640571434,19.9438752174185,19.687368834710984,19.451701715206433,19.23342572965553,19.003604091492065,18.812444205540185,18.61132379491952,18.282771834402727,18.059509294352704,17.840306628434703,17.571637087890075,17.253937010816628,16.89023556918975,16.54024089363335,16.089824437494393,15.704081428595284,15.325081338614892,14.959295792322608,14.528356961360434,14.178624200774602,13.816104557828668,13.472124114867032,13.069261723529294,12.678240332358843,12.32170487636945,11.906684260566808,11.484097781692926,11.01020823795582,10.566691221201042,10.09693906394737,9.63916599876961,9.234718175769522,8.768621723471055,8.326804177231487,7.952312536233481,7.534767442263706,7.132416227930615,6.669625873387328,6.150980037952872,5.741479080008906,5.35079555213889,4.927084716931846,4.520338474360506,4.028727096472884,3.56680054076961,3.070357708445693,2.5876617583790127,2.137827784346142,1.6419512714240307,1.1615593816462866,0.7448583903399708,0.2757682197792597,-0.20174626724403014,-0.6790293086644866,-1.0703056415591423,-1.5873880171443961,-2.2090477021918233,-2.722849730163715,-3.176998167873691,-3.681057841664708,-4.169512408283096,-4.586953120127736,-5.11519228463165,-5.610112618284629,-6.077975213376335,-6.5137726394584075,-6.977604251766865,-7.466745633215141,-8.020081827637602,-8.618858554272023,-9.163755064226178,-9.656671037185586,-10.167019879860693,-10.623131831364338,-11.003825240722403,-11.491471351266817,-11.882689998875144,-12.290509062884523,-12.641164279618806,-13.024919899820384,-13.407129036439821,-13.723571112190118,-14.045445926817198,-14.304174522498966,-14.610499124076615,-14.91895660273107,-15.253976306351207,-15.571037992079596,-15.94873770273032,-16.354242311570808,-16.634398216551666,-16.935024056920902,-17.180419176889096,-17.511806330959505,-17.75897218710797,-18.019242406158785,-18.129285697383132,-18.385130626953472,-18.70616985121924,-18.909603968718745,-19.074605744128483,-19.257693746179733,-19.47373123556423,-19.67248321106976,-19.89004917052657,-20.129713984955277,-20.312121523443565,-20.55844945582279,-20.75214361376685,-20.947095302359912,-21.110561876441917,-21.375997414996363,-21.578274750205576,-21.818676580360634,-21.91086420590253,-22.01239751341772,-22.127154111244284,-22.226151556105794,-22.290600809045493,-22.360792490608166,-22.38498570207237,-22.355333860411612,-22.355516932267754,-22.32468331494145,-22.284259106858883,-22.202814479314814,-22.106524802197857,-22.05012901523519,-21.996514045172553,-21.94439613523317,-21.912600107566792,-21.87109792176699,-21.726234963108283,-21.66063271898209,-21.57609965375919,-21.474102783860836,-21.32990798286836,-21.127165395704605,-20.94940862393547,-20.71416172331557,-20.513901371954354,-20.298947567635864,-20.131919701597504,-19.88213270092123,-19.657745998899376,-19.469880817926786,-19.282846308187526,-19.067449836178234,-18.893560352665567,-18.7284900495295,-18.478706835263733,-18.24344223017497,-17.951777725064456,-17.70210553193145,-17.363282607404564,-17.103749703979975,-16.806219980625105,-16.497118032651052,-16.169314247459173,-15.910479129611574,-15.607817470719414,-15.312824414544611,-14.980021184138316,-14.607755860658825,-14.29018768505675,-13.981612869345373,-13.646369222383106,-13.285750562741969,-12.8435409708243,-12.493297433881182,-12.078825107271,-11.691287459743945,-11.302115554673817,-10.883616893198042,-10.464258848321593,-10.108678541661494,-9.723643242830835,-9.30495733359215,-8.8935619265735,-8.51241970875585,-8.052349231891503,-7.51234036643713,-7.026086768693747,-6.5697755584775726,-6.132340773757583,-5.704192176797223,-5.343732681950461,-4.871028131795326,-4.42800058664755,-4.0003797727623205,-3.5820554440446735,-3.1564642117558974,-2.717163849300091,-2.2197112070457248,-1.6634710023691213,-1.1154635485469984,-0.5732954598757324,-0.04980431908144539,0.4993494015398894,0.9213529097978316,1.4057459321519559,1.8275086023762233,2.280256658853579,2.6973436934700796,3.1388887409835173,3.604308604839883,4.006677947552246,4.435419275216187,4.800886002657929,5.19594715887261,5.608556364901348,6.045348543791947,6.459416988188172,6.937874438434917,7.452156894025349,7.841457080152807,8.291287595899282,8.686956364537547,9.142438010413608,9.525337712400635,9.96521103942697,10.209803697187052,10.647616049755323,11.171355914624868,11.595718025750973,11.982937280189605,12.365962329610854,12.690949188000047,13.02485024318401,13.414360168901656,13.828481864703852,14.146487429542416,14.51122287347544,14.928178963442699,15.301556799149093,15.656593157419815,16.105271279663274,16.48611707168824,16.950975650229566,17.270064709903245,17.589118690531052,17.868952287433835,18.101614765128204,18.39249343271186,18.633903763003993,18.85123318830213,19.11231577137773,19.296543939068933,19.496707392907286,19.70971999844433,19.8699132417685,20.060760229821618,20.256770258753896,20.450282803527458,20.667392433360884,20.842389981376126,21.03694635140475,21.230040831821018,21.381110649907423,21.477314704424092,21.596383054552458,21.774815102928457,21.87433601387059,22.022895564751604,22.107369169570035,22.15489421781493,22.184150822326114,22.288650030316717,22.279422270440225,22.318424507344478,22.363423906255452,22.45900548763748,22.494861595378634,22.581265817081654,22.659966451204557,22.71239238311465,22.75792640693283,22.765662009566608,22.760125571289844,22.709363528495263,22.707428284823546,22.608187780034207,22.51988297392706,22.38953279277435,22.259347133815123,22.133156544681796,22.010129754581676,21.890491293610793,21.771446047095893,21.59073451877848,21.451450442796393,21.269317804256413,21.056993655058744,20.814269552502754,20.600412228409123,20.314940951039684,20.02615325063815,19.70179009845156,19.419081027290595,19.104879179682033,18.794758081008517,18.419530229771993,18.070800555570322,17.697704183742434,17.38318281906506,17.053572284028316,16.688186913665785,16.340084969168693,15.948309685757696,15.557378777766838,15.193540303072378,14.853551171904167,14.489810317504299,14.139485891952935,13.774262897676085,13.444255472479988,13.07106548463462,12.67226108095167,12.246844869608172,11.840748329745939,11.329677763448442,10.843733250825832,10.401817626721687,9.885196678168839,9.509505726814846,9.086750294154486,8.668735393535744,8.22506743989672,7.81874651037903,7.419989989051102,6.982837125052296,6.53847784978263,6.072680249248459,5.580559454585934,5.1184954771104705,4.708451473891221,4.2470726658959395,3.81331842960113,3.3244629145115856,2.907613862264261,2.5439102311980615,2.064266825073686,1.6645315288672928,1.2416502431985132,0.7015251922037451,0.1732343975516807,-0.2938043823819336,-0.7895919947496376,-1.2941233358154436,-1.7828812939977468,-2.3398436314449,-2.9109278919617934,-3.388269772742006,-3.9172510774283236,-4.445708500449559,-4.952014704541697,-5.499437806744639,-6.023050739157023,-6.602269967142895,-7.174326342566759,-7.708625285380084,-8.262575081985194,-8.816581383489101,-9.473659232613526,-9.963763304822423,-10.46122761995377,-10.840303627495093,-11.243322891951353,-11.6502658572689,-12.068070598707845,-12.45096220199098,-12.872273308224703,-13.258665751054961,-13.642382287785672,-14.059073667854603,-14.396045042462962,-14.762451321728355,-15.080779743281573,-15.365387322780775,-15.653362332459668,-15.862415899113364,-16.073249636668706,-16.30368399051692,-16.466184152345374,-16.673850835033292,-16.88250808853208,-17.192857092007948,-17.43607898159138,-17.730858160503317,-18.061428571432938,-18.239458874463594,-18.49507139437036,-18.79361634078368,-19.015364924265846,-19.219432244498716,-19.45956012384288,-19.72291146080605,-19.88857072382292,-20.145600187249077,-20.346111750931176,-20.58254325159862,-20.828764339001328,-21.026017656224518,-21.249702585897953,-21.467125807965136,-21.66215511327233,-21.799504114126403,-21.92427290548487,-21.986543814881774,-22.05830367851592,-22.131129478232044,-22.190581056192094,-22.24303802184258,-22.34825131171015,-22.369754005269648,-22.428103496933158,-22.426422103814478,-22.413973365117258,-22.386630180759646,-22.326133804669503,-22.216395408940134,-22.073462368053445,-21.94375931175685,-21.79839325359309,-21.59476596879305,-21.438556793163798,-21.19540045723522,-20.998689893867745,-20.819844452433532,-20.670016694221584,-20.5172383200606,-20.384311041016453,-20.175400525306824,-19.97587207217487,-19.772420568252087,-19.543567171143728,-19.322067679748645,-19.09365394954838,-18.883665931362785,-18.661644299627113,-18.46457484398169,-18.23092261042326,-18.01604125773072,-17.6981532313203,-17.4785897142154,-17.198436570015538,-16.92714524605239,-16.662412014245113,-16.379774922856402,-16.101893659448024,-15.822052540356763,-15.539945879777468,-15.220615476792764,-14.933729616575574,-14.622231708775741,-14.300007332360288,-13.96185980265641,-13.628344961177348,-13.24722091555794,-12.869339150975975,-12.559129905672526,-12.183790186229663,-11.827832457416372,-11.403118877950941,-11.074447692077964,-10.76655484427418,-10.321725982423011,-9.966497322344612,-9.574596911874956,-9.106027826122533,-8.648918986912225,-8.252587271015955,-7.809650865282767,-7.364492306998935,-6.916834543590917,-6.40653165656877,-5.889393827126882,-5.430775475520313,-4.9457906888212815,-4.4622099128937425,-3.993912188085158,-3.508835891913977,-3.0743338508469664,-2.55003322735416,-1.9987237198100272,-1.5377957261307837,-1.0310242794732107,-0.5287456501516571,0.030714346414258836,0.5030381297373377,0.9687167503037356,1.4404584930719952,1.9170323384641854,2.334035015222546,2.7590181068768933,3.1321636079490918,3.576058736083773,4.040730077442605,4.460133645826097,4.906124253917527,5.309013787495467,5.727772165914626,6.123672156142404,6.495993384248701,6.898093854059885,7.204528991866676,7.485611601790039,7.775654909845369,8.016550763318989,8.366801734632862,8.702247033461623,9.132693977787424,9.530288321941663,9.96320671833056,10.436898197477847,10.773459018857789,11.244050470962916,11.714496823346717,12.136279875786485,12.567364951445683,12.980139377987847,13.40798713523099,13.797518781789389,14.259753399329343,14.67245554982484,15.09969255969427,15.518404103119176,15.902881033943604,16.330859925201942,16.803404046148692,17.20341154137513,17.59612667080905,17.950571016256195,18.26476036025781,18.544022137391625,18.793842662109526,19.06801863675865,19.28715960633211,19.510531872284375,19.761388155507827,19.993313171684616,20.16826424878497,20.36929058921241,20.519755993296087,20.696243237126307,20.742717833189843,20.77305281575305,20.851292727627612,20.91744958837661,20.933481682630305,20.963201476991983,20.928489708337096,20.885810745007607,20.91315338252501,21.01619056356923,21.10729322870617,21.180872606120648,21.232130381293242,21.261211825949985,21.308199196775973,21.358504550290128,21.357440264589247,21.389148901483708,21.407640125322978,21.436567177180216,21.466194529302776,21.471225912597017,21.474372952626688,21.4315351968649,21.420084713713077,21.372937723704847,21.29778166510301,21.213198519858565,21.160925824665256,21.083169167253782,20.99472565550214,20.83760013447189,20.661282657314974,20.466983964204566,20.265420074655427,20.015107183232793,19.80318793842662,19.55352986688453,19.304852553779785,19.080423408443416,18.8498119102116,18.599120077436638,18.284413385943633,17.997227509642,17.76623505030662,17.524837080236125,17.228989957629814,16.936276868290154,16.596068994521733,16.236856829938407,15.827956916286233,15.456126945864579,15.092079003194446,14.72366574799253,14.324044210085251,14.005490406559543,13.621635383487378,13.262422623922685,12.881022090824342,12.51142832465246,12.115944942534995,11.749554064450738,11.340778593211493,10.915719739627628,10.399149116084718,9.976901492647064,9.579326606015522,9.170426336501762,8.650299203026199,8.201041105255525,7.801625340773618,7.362694715757027,6.923670284876995,6.494398151160466,6.022746235796795,5.604363825405415,5.100468506107935,4.636435309418193,4.175623218479181,3.703827688339996,3.2630618481374474,2.8067810251196708,2.2707751160180036,1.8164113702219167,1.2678194716836029,0.7782136297673566,0.3185954268666376,-0.15431775866398553,-0.5876283316355774,-1.0813883475014407,-1.4123325008743857,-1.9065895740445267,-2.509165327014331,-3.0130642084623367,-3.555292514226767,-4.008632830185799,-4.487528282273234,-4.968790596218071,-5.45104507906303,-5.9342776190283635,-6.373214526546757,-6.822548058865879,-7.335553358499999,-7.80369246749617,-8.324776670335813,-8.862644436901348,-9.386331784120166,-9.88867410860857,-10.322272043765604,-10.833441839412469,-11.265859701133717,-11.700337301009531,-12.156005926745173,-12.536537164165392,-12.925261963700112,-13.28309536277022,-13.604820362558346,-13.938760685822311,-14.249532622717254,-14.583128429224747,-14.899016484798349,-15.188006936100829,-15.506354925299117,-15.817050561107832,-16.201359282396606,-16.509855173732248,-16.813510634759844,-17.107012539814487,-17.379922479294173,-17.6367416906298,-17.838934994656547,-18.032655729112292,-18.176068023391846,-18.382120192927733,-18.645990150650555,-18.91690982995821,-19.13250461386554,-19.36636590101678,-19.580196845792837,-19.848602468264815,-20.119362567736477,-20.298290216435596,-20.512151307641123,-20.759477602574226,-21.024613864922163,-21.25052814913658,-21.51060688366416,-21.72295504962789,-21.897262655892042,-22.070710806194917,-22.203924017436506,-22.30626071316679,-22.374489311225496,-22.474854585997605,-22.573600557809506,-22.622121781697107,-22.592166133116685,-22.554759944356462,-22.51851220837704,-22.47765538661046,-22.398419717213436,-22.321298318639105,-22.218312743300803,-22.13293759462528,-22.042502082110225,-21.975441489783837,-21.877374375850955,-21.70824588292419,-21.58055217277423,-21.50263621007528,-21.403460494243806,-21.26316811512293,-21.128549409249707,-20.918878118334984,-20.71843392947632,-20.48399998035454,-20.287499256557624,-20.114697000456864,-19.904160900694404],\"y\":[11.49428236492678,11.038816037037297,10.635681433346734,10.245395880423164,9.80054453172328,9.384771378014294,8.939577215930287,8.509215469433132,8.18720129056416,7.729917672006651,7.339113392816137,6.821608478519112,6.4681954675990605,5.935444576857474,5.373083864091542,4.878475787468759,4.4076664806833366,3.927050681253574,3.4341983649750323,3.0099979272076314,2.5277685494733237,2.0049769271896416,1.5631505652966542,1.069065112641351,0.6000797598662753,0.08503351865328242,-0.4472866343267244,-1.0978309797894426,-1.6251010802838546,-2.2054098306191845,-2.6505313178940657,-3.115313319069099,-3.5850115720794755,-4.034713123561336,-4.483734256829402,-4.956407187719671,-5.382609646808259,-5.8159262722003024,-6.219511287186511,-6.585068129357839,-6.932686334784532,-7.277274256314459,-7.70557352403735,-8.091531129180982,-8.495926666527199,-8.91341321447604,-9.328015944090344,-9.7509963590247,-10.107015223451288,-10.530789529426604,-10.822867816610772,-11.215266749166464,-11.5681832882549,-11.924752626780922,-12.230822411067379,-12.63050453749145,-13.007515743424634,-13.31194568088792,-13.590828380633212,-13.912121380983104,-14.211780250440965,-14.541036746317163,-14.88180621147054,-15.172575563261036,-15.51356595678029,-15.858422123487532,-16.132688857772518,-16.484957160908056,-16.850442896495416,-17.21348595577265,-17.50194077232115,-17.846207158385855,-18.061973447282934,-18.274341591940793,-18.487548096942998,-18.70000886581212,-18.881326772949762,-19.039115549682126,-19.161507684395346,-19.292296826635724,-19.402180122504017,-19.457166140536323,-19.50517631462067,-19.520625759885736,-19.527634605408327,-19.59460860021265,-19.667888351155547,-19.756043712240132,-19.8250187898664,-19.881341792183086,-19.870594896562356,-19.910186304274767,-19.91193700914107,-19.91894318006043,-19.87270635867429,-19.739239018795747,-19.662817359238204,-19.569252168696863,-19.48752867921422,-19.351804497445187,-19.249303878061472,-19.12671797415771,-19.047656608811575,-18.961901133365597,-18.86496480866851,-18.768190811764654,-18.693525441765846,-18.56362865501956,-18.436713481068118,-18.328684339968763,-18.16195313329405,-18.010945915481468,-17.818312647413272,-17.67338720214991,-17.44085269091858,-17.238215509884853,-17.007646176610095,-16.81976602330522,-16.593417087640482,-16.34421836464936,-16.063585168174516,-15.742198567826764,-15.470460784343558,-15.176178918575882,-14.864697435923734,-14.526819953145223,-14.143188262552682,-13.839693814468047,-13.507237745679603,-13.17098802650899,-12.79960720198936,-12.422775612967106,-12.045853855956569,-11.752409733541016,-11.35866463195401,-11.003230013991539,-10.543832746847883,-10.177717208749325,-9.710339922754425,-9.192028137748936,-8.72824026958276,-8.312864600305693,-7.864467469205204,-7.438107982582766,-7.063539698085312,-6.60982395464113,-6.1710852290951905,-5.793029999298662,-5.376564506521622,-4.919134497746344,-4.484551552969638,-3.960908756309045,-3.4025508107413827,-2.899803688399342,-2.3271248335518897,-1.8663613376361925,-1.345300710526529,-0.8875974808613474,-0.47684946266395656,-0.017755015042505203,0.48798264754269244,0.9017185973477991,1.378257088769138,1.8057331673922963,2.2002269012378926,2.6306004597724533,3.0447780510513933,3.5477212000845557,4.003442999675487,4.4708964501378015,4.959814552701124,5.426460076060431,5.909144136288828,6.36768977092206,6.891415451191565,7.257767833185447,7.724360877081816,8.151805859964494,8.589281989824867,9.04075856012078,9.555771408518927,10.06314634521508,10.538040320375195,10.914977205146094,11.312441202535362,11.671537963475933,12.081001045954633,12.506806048151791,12.905078123619278,13.321995228719777,13.76517595524268,14.160682601571839,14.605881261228333,15.094928004256914,15.585667196742785,16.052957704040825,16.532991035434623,16.94091550547423,17.3457339592837,17.672149104181905,17.962774051700094,18.293435284857765,18.596956996382993,18.888844837702756,19.246407357760514,19.508115710241906,19.75705561562807,19.990824418791608,20.19088568691372,20.441588121013815,20.686916495971463,20.954713995511675,21.24319123880483,21.505761664513493,21.76084038868185,21.990102729280476,22.233067630244175,22.41015890900064,22.625339294475655,22.7988980002605,22.870147811899795,23.063187177912475,23.27324955400314,23.434035552967785,23.5640487301413,23.702991371597804,23.763850250664916,23.83948572002174,23.982569471248755,24.110351713033666,24.244214802545432,24.34832737101977,24.448250610529076,24.569253132438057,24.69208353817744,24.79583653057948,24.853078833665325,24.911909871167023,24.969351875692325,24.95888806049602,24.967551659841163,24.908014572434883,24.884765733112417,24.874080265492054,24.79751441535893,24.761273114972887,24.6813696398742,24.583099661259133,24.501898428218595,24.391948967687323,24.281576329569635,24.160921568818285,24.048955702884143,23.907442088341245,23.77452603195839,23.633611742630876,23.51665912348868,23.360030869571542,23.184872836999734,22.967526720736863,22.79220714784048,22.573002825121517,22.38834620319362,22.147598519119004,21.903144148864527,21.6100752305805,21.356170968008826,21.035573330811644,20.78452044099507,20.544940714195562,20.27449382940482,20.014445021434216,19.776374351601433,19.578664847416622,19.256376405006694,19.015706594232995,18.668403415252254,18.315056471499968,17.928524217545164,17.551755183704866,17.145236470837737,16.761268842403616,16.42367844244158,16.0749408458971,15.704546471610719,15.30685395132082,14.965370670028564,14.599053507351288,14.22427359994169,13.882343492302434,13.44271303898682,13.04449641157756,12.619898994889756,12.20370691263089,11.77337955100483,11.304411789657397,10.865636311226341,10.462198643367106,10.03622266697291,9.596757668169912,9.161800922820948,8.69608971976557,8.15039634777085,7.717960213302196,7.215819594071013,6.706367793766289,6.252261705952066,5.715258599970507,5.186451815676424,4.710251689522413,4.230929756463988,3.7340397538815653,3.2696930362482086,2.7656090177297616,2.2862343381510994,1.8285309324191836,1.2628537119770247,0.7214148515507943,0.20637304836271683,-0.37723828316208563,-0.9977734468098439,-1.548348833248892,-2.1201290408566527,-2.614808689602674,-2.995450506977065,-3.41332032833159,-3.9069067535983155,-4.330298839692146,-4.693174533020367,-5.1805495811376305,-5.6459493458784795,-6.085374452089365,-6.532571157139207,-6.952215246886538,-7.388763777389293,-7.745110046917402,-8.080903834142799,-8.473280816812816,-8.82130583380926,-9.069133935844771,-9.381113658480178,-9.681733801748065,-9.93672945861893,-10.290435444354253,-10.70807985563395,-11.07139073280777,-11.467839821869266,-11.899533887119468,-12.133659951086031,-12.578315811666998,-12.966958589908018,-13.274993232438606,-13.609654745892554,-14.018881844313977,-14.347711034062556,-14.706662160334185,-15.12027083125659,-15.486405661596608,-15.850252432225616,-16.201506330599898,-16.564855245362228,-16.948716849325564,-17.322843959003965,-17.631762580346383,-17.894042838466724,-18.120043184262066,-18.28486040491043,-18.467484601445356,-18.69501939496755,-18.860959157047137,-19.030781329913772,-19.215801042351025,-19.38618093235747,-19.520201110962713,-19.660102639607317,-19.766822767667158,-19.85316909540448,-19.881744244450555,-19.888960313926418,-19.856723642695503,-19.8157248167668,-19.784736889115845,-19.710052915762333,-19.656692202782118,-19.520593931521727,-19.49888362836034,-19.46986892107428,-19.440046832892545,-19.395291272718428,-19.346983532327393,-19.262376527793265,-19.187423202138483,-19.090010508014483,-18.974393770214203,-18.88418484413588,-18.771289344968327,-18.6484027403835,-18.544132216772006,-18.466723589683387,-18.31745037559434,-18.203173975832527,-18.08044236137035,-17.94140345935923,-17.76421089568215,-17.63256487592027,-17.429090668601987,-17.24507740486536,-17.031766530077377,-16.80976292862322,-16.60129992756672,-16.359498690464996,-16.147399605434625,-15.939343193440608,-15.68696577117201,-15.458183288546183,-15.168830401184842,-14.888502994284117,-14.59034070725201,-14.272982181261975,-13.957550667117754,-13.585003258560379,-13.248839961222615,-12.917541516177643,-12.579188011953,-12.216569315068257,-11.81012706776585,-11.389809043912628,-10.936156822230044,-10.53904124029381,-10.119619153546568,-9.697640431146484,-9.29643313504225,-8.81054915645565,-8.316733698329655,-7.840987677527826,-7.364567894949678,-6.874369200097068,-6.465046936816768,-5.9500662293370015,-5.474615347703614,-5.0434935149436955,-4.530051642498547,-4.017483963365318,-3.5603003708337475,-3.0658271953563703,-2.5363187291387974,-2.0505730594779443,-1.5367970418964207,-1.0426553516201549,-0.6091383639656771,-0.17956639247160353,0.28919001544506745,0.7207888002249354,1.0625788784064045,1.522913536755248,2.050876080007577,2.4796410799779256,2.9228311911069973,3.3665213738381174,3.8082444355309106,4.217079983352469,4.564960079570984,5.016852399021083,5.3868392473446525,5.678753380529601,6.050346515520514,6.381527219214937,6.740837303348251,7.112215940572011,7.607136931365782,8.050703920076584,8.496660598622563,9.012395693792199,9.364778883790885,9.895296608909774,10.391819466289961,10.839734190341163,11.31028691682611,11.811265769909665,12.226655404791963,12.686089188300695,13.185303397261903,13.659199349779868,14.121220057375178,14.553619077712527,15.00606478191028,15.49707583383389,15.994112248481258,16.381666110261026,16.80501974835061,17.213369813074756,17.576691586693254,17.86656934622209,18.218080080486008,18.47313215111519,18.740920771673515,19.031675355007987,19.355952996814764,19.592520274132042,19.869817319228726,20.13726865177577,20.326376198856266,20.506072081142907,20.628123637755714,20.762047670387595,20.851354628783138,20.930722864001325,21.004915520117237,21.091597479652787,21.125122338997382,21.262192126197945,21.419889739131154,21.55952061236689,21.7297451398898,21.87750410758647,22.027403201631355,22.213946812721314,22.358537155182688,22.497455076511912,22.64665472822013,22.752474783385228,22.86120764586442,23.052349678319743,23.20283244207339,23.28509187869032,23.391931867104923,23.478328174616305,23.588358021248407,23.687409324920658,23.801055647430495,23.847453883905267,23.956414314282714,23.973493419833062,23.98549423216354,23.926075096939552,23.87770081151476,23.81549487532726,23.723608749370996,23.65912606122965,23.5657578272197,23.432043421658605,23.31416458979576,23.19340860581108,23.03423756278928,22.840188911810824,22.553868208064966,22.34064519694887,22.155074388448952,21.95155094337179,21.706401114922123,21.42995415865483,21.144585408188867,20.857307764977026,20.565408983750388,20.310065601992832,20.070579414810613,19.822368487574273,19.522951889864327,19.258127136352222,18.962048190905875,18.6803336356872,18.396758378893338,18.094513860976384,17.782141667323874,17.497416917614885,17.17561176274324,16.817907572685012,16.481715452984695,16.15239240096693,15.842647824272245,15.436574009116097,15.066423403389537,14.716844049610875,14.371706341103955,14.027540433286571,13.667906339339847,13.279700390850447,12.856440311485274,12.47509809585797,12.077034860874907,11.613945697326024,11.189400223617731,10.775679093432537,10.353031141997143,9.962547009191104,9.494477590313723,9.024010325024626,8.577637581345844,8.166132904605217,7.762794381363616,7.350008536394857,6.976737925743796,6.538507027750713,6.168498579432123,5.649760978293012,5.119390757028257,4.611104804435024,4.114152567109233,3.6452720924415427,3.1641908013071496,2.690873871975922,2.1957223744142307,1.7527179485735758,1.2390701615776414,0.73986506418455,0.26011733378599144,-0.25875993281082843,-0.8190861444786091,-1.348561801436928,-1.9053680883430064,-2.388853510907874,-2.869517455932417,-3.403054712414174,-3.8661136390879656,-4.342679095738143,-4.837064024139304,-5.2435592958309325,-5.638511471305893,-6.068518764507254,-6.4848059094426445,-6.858649148521791,-7.284365389185778,-7.6840575944660365,-8.040923325987176,-8.42171592218645,-8.827479060866175,-9.23846091358182,-9.648337714105075,-10.035799816145694,-10.452011110677994,-10.83149735737755,-11.177717230933396,-11.50113007254792,-11.857132835379161,-12.063959903961482,-12.322340427806793,-12.725420010348374,-13.12129247694144,-13.513656222629587,-13.857149834222131,-14.21729036884938,-14.581095886631651,-14.875875875013143,-15.193504818919065,-15.546736347915525,-15.801161394876857,-16.164078553327588,-16.52740339765284,-16.886891044592897,-17.186119525911057,-17.58231922315175,-17.867589211555188,-18.149109344583366,-18.381037973380398,-18.621112567974265,-18.832113434106677,-19.056567567109983,-19.256977049553758,-19.424305140014333,-19.493014726688585,-19.57134652278816,-19.62814706523223,-19.697758565903104,-19.765199449864042,-19.791907556693683,-19.79293927803039,-19.83212817151031,-19.881561042410468,-19.946123534235696,-19.954153527317523,-19.913795364343457,-19.934235649074388,-19.944185336637535,-19.945521449586202,-19.908061759842415,-19.809612588045916,-19.671842013840852,-19.559106861399265,-19.475042839802427,-19.39796375303702,-19.31385885758179,-19.213945754591364,-19.142197756510676,-19.085901331006706,-19.03473889073577,-18.98776985419182,-18.902895518680495,-18.788584689972044,-18.76533985798359,-18.706248258908687,-18.59632247088847,-18.467922299942913,-18.316293333630405,-18.172056260781737,-18.00563903163088,-17.75363363971076,-17.519541657964638,-17.31704315759905,-17.105729374616722,-16.914976721495364,-16.61713312562027,-16.301151145794446,-15.993224759238307,-15.654460895300575,-15.337295063571585,-14.992545108597394,-14.631983254384505,-14.243345969173511,-13.914767670741943,-13.553476804611387,-13.210050059103434,-12.738493137768193,-12.348142827034959,-11.975871432776488,-11.6015386851497,-11.26273187252189,-10.869843431125718,-10.457266920005809,-10.081061743327735,-9.61004287713425,-9.135494838240891,-8.645396845465822,-8.187362201164845,-7.780114197863057,-7.373308660145055,-6.941917203454845,-6.5494937930712,-6.170036627687468,-5.760208785052061,-5.330929507993452,-4.9230106851790065,-4.489777636526713,-3.9994354087410513,-3.4781231733962166,-2.9792233180750043,-2.5106712688026187,-2.049004798766209,-1.543520016282417,-1.0612575561942976,-0.5883471613111836,-0.1377840498458554,0.2520608591486285,0.7256424945460336,1.1902569715334979,1.6541125390245095,2.079529693381417,2.5513970666775614,3.009112089608171,3.436623215196816,3.878229586240886,4.338202621506786,4.815710866015634,5.322579280759746,5.816381262939064,6.31824521489918,6.765067087052226,7.196332202869685,7.618017502582009,8.070629848994605,8.417892264888367,8.81415836321816,9.33935695527493,9.865581313505457,10.361716364612768,10.798432054870325],\"z\":[-3.184009451032797,-3.4373625561009735,-3.682055843126616,-3.8829676359391523,-4.134282922856069,-4.356606689015291,-4.498869732197909,-4.719058561403782,-4.9353855381692116,-5.179309543752255,-5.3186370094290885,-5.5151524526024005,-5.539408935138702,-5.726065056858024,-5.91301823618489,-6.121859239879723,-6.260656486355233,-6.374604768650058,-6.398659492090558,-6.403699718437097,-6.433348111901609,-6.4443014156491705,-6.497734992176141,-6.514443088297994,-6.560342909670317,-6.5754376741725995,-6.588965392430052,-6.636537454348853,-6.658996288079174,-6.680698514271892,-6.712768684746415,-6.679994845318151,-6.6464256532237,-6.546570738236562,-6.450526399342387,-6.279064123168225,-6.141268356332327,-5.973562042196471,-5.772570077422227,-5.619496242756778,-5.413646065642638,-5.272853612822262,-5.052031311007687,-4.875997116191633,-4.659059558347852,-4.4173127869363515,-4.22885184967877,-3.9756981781560623,-3.770097272204751,-3.4435630821649656,-3.124999125249196,-2.782657802402064,-2.454193407459252,-2.104343333524078,-1.7299442221488603,-1.246911911690938,-0.8176355327129434,-0.337650188325102,0.025012922933339194,0.4042724633053369,0.6370993365698435,0.9547087443447781,1.2208691983309146,1.4914438429194412,1.7868869877620197,2.1008808040696647,2.340465979963914,2.6292637976108106,2.9142057524101483,3.261809427668405,3.5392392882776194,3.8304593610665396,4.116572362256187,4.362792425495213,4.622301966311318,4.790701601141099,4.956140640025346,5.118031612743718,5.25061443397738,5.3874389495079535,5.521601950304229,5.637000419043317,5.72561335218519,5.798081079074612,5.878681414093368,5.98766227642485,6.09633418251541,6.1969858854220625,6.342771340906746,6.413051688383261,6.456773553229666,6.565746701773924,6.682381053689849,6.731814000131106,6.738231087838855,6.697723652172719,6.641019981628331,6.603943493728656,6.560316566549379,6.488762131836304,6.422200864103681,6.303364885834506,6.195431650281872,6.07650970937336,5.948904747584599,5.869731971194917,5.695414265267479,5.60365812776711,5.484775098101502,5.361784020931994,5.1700322788134345,5.003180870693487,4.885661008351298,4.675637978567668,4.5036125980765345,4.3163277531698325,4.052460903212154,3.8754600540474438,3.6241354098708345,3.404503714172743,3.1593108166043913,2.843907077947323,2.5838588827067124,2.348323367242051,2.144386875956533,1.9120000999314077,1.6418134280939183,1.3785872553238785,1.139707920892482,0.8098633863300432,0.48161259403848444,0.25152290686557155,-0.11149867151395856,-0.4505085615269068,-0.8744052966067558,-1.199915948071198,-1.6382133374959662,-1.8186310637426704,-2.2596348149697683,-2.7165760070663443,-3.155264714216687,-3.5209081035137273,-3.8526425517693634,-4.089662651890621,-4.299272609499256,-4.555198998747516,-4.758706306991551,-4.965730015318832,-5.158075942916746,-5.367011504937606,-5.547775159544331,-5.769189782280702,-6.0459334844850625,-6.245624582837625,-6.438058711266208,-6.636064014676547,-6.761674811405176,-6.893859903134485,-6.966013131433743,-7.0439963407448625,-7.067698453452083,-7.0611564667014255,-7.071199327361692,-7.0511417610511335,-7.019925282596764,-6.981964676266035,-6.9366512494600086,-6.846757567136067,-6.810226916562543,-6.755069825857169,-6.698088927802909,-6.690080644911413,-6.630316200828053,-6.516147418133081,-6.4082469100668416,-6.282535748012989,-6.137676903312457,-5.954925956136142,-5.701398157948345,-5.469896424652414,-5.120635793710894,-4.865567821247573,-4.550932918940948,-4.271273064035855,-3.9509023377175145,-3.767690030828623,-3.466234440570496,-3.232504367741827,-2.9796512821420387,-2.700875616443337,-2.4484491221639195,-2.229368690287394,-1.9395379564550892,-1.6429289250556924,-1.3594186103536003,-1.0987545365346216,-0.7847346431468559,-0.5315849066654592,-0.22833165544378498,0.03138332039254735,0.26717128778005134,0.512637090327419,0.7836815541516365,1.0939152842306705,1.4516711892366034,1.7230851878047606,1.9610364228788624,2.1922084565515774,2.402705164145924,2.657939781420836,2.8882258788781274,3.1804871542746946,3.465235139015515,3.7474784755751207,4.040340329333126,4.2955104658807475,4.590164525234517,4.945066195300128,5.247407182231691,5.516800868326848,5.692716100125033,5.937229233187973,6.285683831801226,6.572765539377019,6.783493185616585,7.019159377330605,7.20199761199963,7.3528087676579155,7.496310552132919,7.606936136848354,7.745091012014394,7.814339391868072,7.946676680199734,8.052202220552193,8.246780064476269,8.35494470563539,8.468969544570237,8.610205380872705,8.639105594509857,8.726315540268878,8.714494399992954,8.760821289693968,8.773230832078882,8.71362448998237,8.641856940904868,8.541680040021644,8.372480263604626,8.232477333780995,8.131291912668274,8.03370366724624,7.888624028279896,7.750724299142078,7.613300268815252,7.5124233752881535,7.35086764793238,7.194744583199303,7.065034759523368,6.818738158063849,6.594106914912799,6.33783755313475,6.079433126092205,5.721959425060334,5.537197014405947,5.139228754740462,4.7296735060526105,4.342625466876737,3.970310504331329,3.5894523681025103,3.284403824663941,3.018467889994244,2.705277863375392,2.398181403586147,2.151234716597181,1.9146387444251407,1.6190695595314915,1.2982941188358998,0.9817644728044832,0.5967591677353677,0.31872783568633445,0.028315166655870628,-0.2615706916317733,-0.48079618578234795,-0.7693085063589136,-1.0454687688021143,-1.3284878532226785,-1.5624033584712707,-1.7847286585038022,-2.0495599716955835,-2.2717731315627585,-2.4787124887775023,-2.7219738311557853,-2.9363265527897395,-3.1762592270803043,-3.4241657661062708,-3.6503430574906344,-3.9092676452741393,-4.147223301111482,-4.386488461118874,-4.64097727804582,-4.833374213401776,-5.011958503559941,-5.240783103646029,-5.482763323574848,-5.697570483165695,-5.908910183776693,-6.079759760123288,-6.219344576975266,-6.331230693069873,-6.422087641696965,-6.516701025255271,-6.644018749774018,-6.668044087442357,-6.806814871780362,-6.811464400536401,-6.883143000379015,-6.96194313445465,-6.9890884805559645,-7.046950004069828,-7.117948948400277,-7.145130420036949,-7.202917140871252,-7.218319599775813,-7.190958356927864,-7.093776325281876,-7.101019994725572,-6.999942982733771,-6.832085675500032,-6.733552456511555,-6.595229763794107,-6.37075687259832,-6.189720562723372,-6.005342116689696,-5.773687594412836,-5.578707502598417,-5.311380696542671,-5.098105877394427,-4.8592917551003145,-4.525668732157953,-4.2442407033399725,-3.96043076344256,-3.5867767101227757,-3.2879637856573343,-2.88367719572056,-2.4867712593479863,-1.9853737550650374,-1.5684422915338276,-1.119228651046406,-0.6373804725007429,-0.34498460051910224,0.09499803065510153,0.5316044156443476,0.8950755836388024,1.2415249513665654,1.582117505299542,1.8861442804131052,2.2003029082594443,2.5288162313411604,2.8720559452392047,3.199593827155055,3.519208268023236,3.87616000910923,4.192769032354754,4.498249603732155,4.709868363295068,4.926052477360281,5.112845003760326,5.35645740535529,5.508998979333329,5.661989697130509,5.806475517790323,5.960877974329857,6.102381981926378,6.234556538365254,6.357303007454899,6.478225262217605,6.577477004997166,6.6852639142061046,6.707782008634518,6.7206524066635,6.697980350184014,6.707934902784261,6.6706875923525315,6.579102581261484,6.489211617033296,6.465497000278481,6.39634098311402,6.317487538410089,6.28139825183529,6.212814218837821,6.125581083737858,6.044763882182288,5.892968151548586,5.806604427334885,5.74741025336013,5.659700237351416,5.564334465375109,5.436320552410283,5.381215600558925,5.334167086406097,5.217125970883142,5.078666994271824,4.983914721225412,4.834626402252476,4.71350747052769,4.587696783489094,4.415246621719883,4.309100424975151,4.161425648115696,3.9963198097359434,3.764111966987626,3.610105105729324,3.4148058844925138,3.1124102595937515,2.8829561881789703,2.6332307021203567,2.351156384102495,2.1002220623824517,1.8129764043443533,1.5371380884404306,1.2787179828060502,0.9435562088504488,0.7110623815411096,0.42800768222896884,0.10620158148752426,-0.15266276177168983,-0.45018300074416373,-0.7755631856501991,-1.234518546098366,-1.6357206203631955,-2.071563491375647,-2.4583963347663675,-2.7628290418139936,-3.1373539997295032,-3.516180774394243,-3.860473793377401,-4.2259413586043095,-4.533719923547097,-4.874729209035324,-5.18147852602686,-5.532085751067574,-5.863212499667983,-6.172105124240116,-6.502824820371659,-6.796370323365323,-7.048803449995432,-7.285990687154762,-7.512191241620675,-7.679814805756343,-7.783056722509369,-7.93003909113171,-7.971387422249916,-8.010508108418218,-8.106971583676957,-8.13779856129846,-8.122747319320068,-8.132351559828512,-8.13240996702781,-8.086963717778586,-8.05917703946064,-7.972961253884197,-7.903401426898635,-7.761123626979455,-7.569052157311351,-7.391014051073035,-7.201688716803692,-6.989456986735875,-6.764488767482102,-6.525040298801433,-6.261178267734901,-5.943750237444,-5.713138514954204,-5.403637973299834,-5.10415974412644,-4.867945533183769,-4.540160999391618,-4.1915125022778295,-3.923842450919297,-3.6507121179507545,-3.396630811356459,-3.103616220474733,-2.792358129291177,-2.5128462211495037,-2.207972216932678,-1.862053838648649,-1.5843318421575874,-1.2626780798717703,-0.9405337973734214,-0.6715702099547978,-0.3924763474629112,-0.10823721591654428,0.10759875571156656,0.3689093845045641,0.5892421602374129,0.8688663056851945,1.095655276143243,1.3287082219403938,1.6187962146675,1.855819627679759,2.1375241670538765,2.426901029435566,2.68961635371603,2.9546109022257316,3.192103978802597,3.3875591854970133,3.6375332972297687,3.839419696332458,4.04345296545817,4.311389444155818,4.484982899137254,4.759174726582788,5.091841277678229,5.397766245554551,5.655922574091907,5.938663677882475,6.17156319441083,6.388145512985193,6.64412446746098,6.88776187432212,7.118150871670273,7.338091983003545,7.561212536564218,7.705576496540504,7.956234594677872,8.202788299262116,8.370980967219836,8.576725967702801,8.799566063375245,8.94885133051685,9.078892007542597,9.255254730738688,9.294473875645103,9.344095120886994,9.367285405089811,9.389355618369454,9.356785929690163,9.364518649076857,9.345245494982601,9.303899319763353,9.239087550906211,9.172546007650174,9.067469280412844,8.953710093571049,8.826891336583966,8.693946285211277,8.486226964438417,8.238952650126294,8.025857070386555,7.805859555312986,7.534344586155352,7.263626065730677,6.971209900522543,6.646952955971074,6.243044025283979,5.894253305661405,5.50352439187993,5.153265366361868,4.832481943681559,4.410924020205828,4.023137510514395,3.6703700628651785,3.317245013552042,2.9491004090813173,2.6212047677401635,2.2242219535264804,1.837069198924141,1.4377166647559407,1.08115777905579,0.6956273721462937,0.3021229713088477,-0.05566821545518809,-0.43099963483311293,-0.8050587384389816,-1.144019700605735,-1.4345989171408124,-1.6496846811697463,-1.8636084162551254,-2.1277998130510385,-2.4310660556729022,-2.6939495192655967,-2.9320430787847203,-3.165270388171644,-3.4245507394416888,-3.660879831237178,-3.9018685921664695,-4.119137897370755,-4.353151890378617,-4.480923946291806,-4.612581993680139,-4.793445243891875,-4.954169597996179,-5.184537418595496,-5.30106557673356,-5.4200856162553634,-5.544189666405894,-5.6609490487661045,-5.876966836560298,-6.030748167094758,-6.122709751499951,-6.221942266298869,-6.293742746375484,-6.366056918801391,-6.4858498428406595,-6.538747865000453,-6.646902922824945,-6.701757408815412,-6.731147288628621,-6.776860625440167,-6.815268612176447,-6.849051442483821,-6.949571505326398,-6.930545328626202,-6.893132912403374,-6.845417160301347,-6.739165828290748,-6.605560505059549,-6.527711755403342,-6.43869087019781,-6.312510397920205,-6.1597597178178205,-5.955388698429813,-5.813067158708124,-5.565526619774543,-5.384877339577932,-5.146692420304956,-4.960581869293379,-4.74525560465763,-4.4956067037818706,-4.243945496593389,-4.037114542903568,-3.7649047414397723,-3.463248081577211,-3.1450866296114204,-2.8253568102572486,-2.51237023148308,-2.2039252216805423,-1.863112587007143,-1.403360512564782,-0.9484173134506233,-0.49286507381619526,-0.12119423144357143,0.2470625392907884,0.6314626243520978,0.958679964509792,1.2900190120400332,1.6362114748441512,1.9325158342127846,2.275733986311071,2.6361281039994875,2.986704660909013,3.3224098645264353,3.718090130407367,4.095632590191651,4.374918327675384,4.619831440747816,4.86122888632064,5.0819627605019,5.254410673144221,5.406459989842666,5.554878979038503,5.687392539605206,5.840672824657465,5.983009357679532,6.082233442238947,6.12301190603705,6.1945316194401885,6.291362539819828,6.35713201743663,6.471153516080229,6.603664667342819,6.651908255497935,6.727511113416658,6.791003572535676,6.887742883561816,6.954096135853884,6.986925424823412,6.9620566759472995,6.953527697554753,6.887863312631149,6.79687262486387,6.724193911855486,6.641571101775407,6.552719757563406,6.380537278591905,6.262709902916047,6.151374367670826,6.046347498632122,5.9106836287868765,5.792637450453007,5.641481667466174,5.477361398606018,5.287692420327306,5.146482894392764,5.011070965323694,4.82692083084723,4.650261556572769,4.424526722043535,4.2037949926692,3.9666293100875243,3.7490434168659057,3.5794700334263148,3.370493774272242,3.1414182196637253,2.8348274851578545,2.5688419883853255,2.344804827873778,2.1054866676296364,1.8312954009939058,1.5504235587392268,1.2598100487185488,0.9788070264932852,0.6534830537865258,0.37247227946917383,0.12323474683541667,-0.23367448762553306,-0.6250346914856466,-1.006587671616682,-1.3195470551593909,-1.662648930847163,-1.9615830809667243,-2.314500188490618,-2.769606061195287,-3.208440717870627,-3.5177708596519697,-3.85220846088686,-4.1080842418497046,-4.373607923119925,-4.659439228679989,-4.866839265357051,-5.13453930673598,-5.387170881150491,-5.5987785756183,-5.820794192231681,-6.066158993928842,-6.317629847523402,-6.6339332821456845,-6.846558473052166,-7.032182823219702,-7.154903154908607,-7.254383103294051,-7.3294454073952195,-7.39639242158611,-7.466822657126875,-7.508915830001617,-7.491685657269105,-7.451920036079365,-7.42157898275919,-7.326373386224506,-7.275616997872176,-7.191776865746746,-7.128431807202679,-7.077826968767361,-7.033037695955263,-6.961584322802236,-6.849589422652997,-6.762134351735269,-6.649142664765425,-6.477611469492423,-6.320829869317982,-6.116734632947173,-5.906103237822552,-5.644190960368363,-5.303725759763713,-4.9869029106452585,-4.6462743907101665,-4.332431643231821]}],                        {\"scene\":{\"xaxis\":{\"exponentformat\":\"e\",\"showexponent\":\"all\",\"title\":{\"text\":\"0th\"},\"type\":\"linear\"},\"yaxis\":{\"exponentformat\":\"e\",\"showexponent\":\"all\",\"title\":{\"text\":\"1st\"},\"type\":\"linear\"},\"zaxis\":{\"exponentformat\":\"e\",\"showexponent\":\"all\",\"title\":{\"text\":\"2nd\"},\"type\":\"linear\"}},\"template\":{\"data\":{\"bar\":[{\"error_x\":{\"color\":\"#2a3f5f\"},\"error_y\":{\"color\":\"#2a3f5f\"},\"marker\":{\"line\":{\"color\":\"#E5ECF6\",\"width\":0.5},\"pattern\":{\"fillmode\":\"overlay\",\"size\":10,\"solidity\":0.2}},\"type\":\"bar\"}],\"barpolar\":[{\"marker\":{\"line\":{\"color\":\"#E5ECF6\",\"width\":0.5},\"pattern\":{\"fillmode\":\"overlay\",\"size\":10,\"solidity\":0.2}},\"type\":\"barpolar\"}],\"carpet\":[{\"aaxis\":{\"endlinecolor\":\"#2a3f5f\",\"gridcolor\":\"white\",\"linecolor\":\"white\",\"minorgridcolor\":\"white\",\"startlinecolor\":\"#2a3f5f\"},\"baxis\":{\"endlinecolor\":\"#2a3f5f\",\"gridcolor\":\"white\",\"linecolor\":\"white\",\"minorgridcolor\":\"white\",\"startlinecolor\":\"#2a3f5f\"},\"type\":\"carpet\"}],\"choropleth\":[{\"colorbar\":{\"outlinewidth\":0,\"ticks\":\"\"},\"type\":\"choropleth\"}],\"contour\":[{\"colorbar\":{\"outlinewidth\":0,\"ticks\":\"\"},\"colorscale\":[[0.0,\"#0d0887\"],[0.1111111111111111,\"#46039f\"],[0.2222222222222222,\"#7201a8\"],[0.3333333333333333,\"#9c179e\"],[0.4444444444444444,\"#bd3786\"],[0.5555555555555556,\"#d8576b\"],[0.6666666666666666,\"#ed7953\"],[0.7777777777777778,\"#fb9f3a\"],[0.8888888888888888,\"#fdca26\"],[1.0,\"#f0f921\"]],\"type\":\"contour\"}],\"contourcarpet\":[{\"colorbar\":{\"outlinewidth\":0,\"ticks\":\"\"},\"type\":\"contourcarpet\"}],\"heatmap\":[{\"colorbar\":{\"outlinewidth\":0,\"ticks\":\"\"},\"colorscale\":[[0.0,\"#0d0887\"],[0.1111111111111111,\"#46039f\"],[0.2222222222222222,\"#7201a8\"],[0.3333333333333333,\"#9c179e\"],[0.4444444444444444,\"#bd3786\"],[0.5555555555555556,\"#d8576b\"],[0.6666666666666666,\"#ed7953\"],[0.7777777777777778,\"#fb9f3a\"],[0.8888888888888888,\"#fdca26\"],[1.0,\"#f0f921\"]],\"type\":\"heatmap\"}],\"heatmapgl\":[{\"colorbar\":{\"outlinewidth\":0,\"ticks\":\"\"},\"colorscale\":[[0.0,\"#0d0887\"],[0.1111111111111111,\"#46039f\"],[0.2222222222222222,\"#7201a8\"],[0.3333333333333333,\"#9c179e\"],[0.4444444444444444,\"#bd3786\"],[0.5555555555555556,\"#d8576b\"],[0.6666666666666666,\"#ed7953\"],[0.7777777777777778,\"#fb9f3a\"],[0.8888888888888888,\"#fdca26\"],[1.0,\"#f0f921\"]],\"type\":\"heatmapgl\"}],\"histogram\":[{\"marker\":{\"pattern\":{\"fillmode\":\"overlay\",\"size\":10,\"solidity\":0.2}},\"type\":\"histogram\"}],\"histogram2d\":[{\"colorbar\":{\"outlinewidth\":0,\"ticks\":\"\"},\"colorscale\":[[0.0,\"#0d0887\"],[0.1111111111111111,\"#46039f\"],[0.2222222222222222,\"#7201a8\"],[0.3333333333333333,\"#9c179e\"],[0.4444444444444444,\"#bd3786\"],[0.5555555555555556,\"#d8576b\"],[0.6666666666666666,\"#ed7953\"],[0.7777777777777778,\"#fb9f3a\"],[0.8888888888888888,\"#fdca26\"],[1.0,\"#f0f921\"]],\"type\":\"histogram2d\"}],\"histogram2dcontour\":[{\"colorbar\":{\"outlinewidth\":0,\"ticks\":\"\"},\"colorscale\":[[0.0,\"#0d0887\"],[0.1111111111111111,\"#46039f\"],[0.2222222222222222,\"#7201a8\"],[0.3333333333333333,\"#9c179e\"],[0.4444444444444444,\"#bd3786\"],[0.5555555555555556,\"#d8576b\"],[0.6666666666666666,\"#ed7953\"],[0.7777777777777778,\"#fb9f3a\"],[0.8888888888888888,\"#fdca26\"],[1.0,\"#f0f921\"]],\"type\":\"histogram2dcontour\"}],\"mesh3d\":[{\"colorbar\":{\"outlinewidth\":0,\"ticks\":\"\"},\"type\":\"mesh3d\"}],\"parcoords\":[{\"line\":{\"colorbar\":{\"outlinewidth\":0,\"ticks\":\"\"}},\"type\":\"parcoords\"}],\"pie\":[{\"automargin\":true,\"type\":\"pie\"}],\"scatter\":[{\"marker\":{\"colorbar\":{\"outlinewidth\":0,\"ticks\":\"\"}},\"type\":\"scatter\"}],\"scatter3d\":[{\"line\":{\"colorbar\":{\"outlinewidth\":0,\"ticks\":\"\"}},\"marker\":{\"colorbar\":{\"outlinewidth\":0,\"ticks\":\"\"}},\"type\":\"scatter3d\"}],\"scattercarpet\":[{\"marker\":{\"colorbar\":{\"outlinewidth\":0,\"ticks\":\"\"}},\"type\":\"scattercarpet\"}],\"scattergeo\":[{\"marker\":{\"colorbar\":{\"outlinewidth\":0,\"ticks\":\"\"}},\"type\":\"scattergeo\"}],\"scattergl\":[{\"marker\":{\"colorbar\":{\"outlinewidth\":0,\"ticks\":\"\"}},\"type\":\"scattergl\"}],\"scattermapbox\":[{\"marker\":{\"colorbar\":{\"outlinewidth\":0,\"ticks\":\"\"}},\"type\":\"scattermapbox\"}],\"scatterpolar\":[{\"marker\":{\"colorbar\":{\"outlinewidth\":0,\"ticks\":\"\"}},\"type\":\"scatterpolar\"}],\"scatterpolargl\":[{\"marker\":{\"colorbar\":{\"outlinewidth\":0,\"ticks\":\"\"}},\"type\":\"scatterpolargl\"}],\"scatterternary\":[{\"marker\":{\"colorbar\":{\"outlinewidth\":0,\"ticks\":\"\"}},\"type\":\"scatterternary\"}],\"surface\":[{\"colorbar\":{\"outlinewidth\":0,\"ticks\":\"\"},\"colorscale\":[[0.0,\"#0d0887\"],[0.1111111111111111,\"#46039f\"],[0.2222222222222222,\"#7201a8\"],[0.3333333333333333,\"#9c179e\"],[0.4444444444444444,\"#bd3786\"],[0.5555555555555556,\"#d8576b\"],[0.6666666666666666,\"#ed7953\"],[0.7777777777777778,\"#fb9f3a\"],[0.8888888888888888,\"#fdca26\"],[1.0,\"#f0f921\"]],\"type\":\"surface\"}],\"table\":[{\"cells\":{\"fill\":{\"color\":\"#EBF0F8\"},\"line\":{\"color\":\"white\"}},\"header\":{\"fill\":{\"color\":\"#C8D4E3\"},\"line\":{\"color\":\"white\"}},\"type\":\"table\"}]},\"layout\":{\"annotationdefaults\":{\"arrowcolor\":\"#2a3f5f\",\"arrowhead\":0,\"arrowwidth\":1},\"autotypenumbers\":\"strict\",\"coloraxis\":{\"colorbar\":{\"outlinewidth\":0,\"ticks\":\"\"}},\"colorscale\":{\"diverging\":[[0,\"#8e0152\"],[0.1,\"#c51b7d\"],[0.2,\"#de77ae\"],[0.3,\"#f1b6da\"],[0.4,\"#fde0ef\"],[0.5,\"#f7f7f7\"],[0.6,\"#e6f5d0\"],[0.7,\"#b8e186\"],[0.8,\"#7fbc41\"],[0.9,\"#4d9221\"],[1,\"#276419\"]],\"sequential\":[[0.0,\"#0d0887\"],[0.1111111111111111,\"#46039f\"],[0.2222222222222222,\"#7201a8\"],[0.3333333333333333,\"#9c179e\"],[0.4444444444444444,\"#bd3786\"],[0.5555555555555556,\"#d8576b\"],[0.6666666666666666,\"#ed7953\"],[0.7777777777777778,\"#fb9f3a\"],[0.8888888888888888,\"#fdca26\"],[1.0,\"#f0f921\"]],\"sequentialminus\":[[0.0,\"#0d0887\"],[0.1111111111111111,\"#46039f\"],[0.2222222222222222,\"#7201a8\"],[0.3333333333333333,\"#9c179e\"],[0.4444444444444444,\"#bd3786\"],[0.5555555555555556,\"#d8576b\"],[0.6666666666666666,\"#ed7953\"],[0.7777777777777778,\"#fb9f3a\"],[0.8888888888888888,\"#fdca26\"],[1.0,\"#f0f921\"]]},\"colorway\":[\"#636efa\",\"#EF553B\",\"#00cc96\",\"#ab63fa\",\"#FFA15A\",\"#19d3f3\",\"#FF6692\",\"#B6E880\",\"#FF97FF\",\"#FECB52\"],\"font\":{\"color\":\"#2a3f5f\"},\"geo\":{\"bgcolor\":\"white\",\"lakecolor\":\"white\",\"landcolor\":\"#E5ECF6\",\"showlakes\":true,\"showland\":true,\"subunitcolor\":\"white\"},\"hoverlabel\":{\"align\":\"left\"},\"hovermode\":\"closest\",\"mapbox\":{\"style\":\"light\"},\"paper_bgcolor\":\"white\",\"plot_bgcolor\":\"#E5ECF6\",\"polar\":{\"angularaxis\":{\"gridcolor\":\"white\",\"linecolor\":\"white\",\"ticks\":\"\"},\"bgcolor\":\"#E5ECF6\",\"radialaxis\":{\"gridcolor\":\"white\",\"linecolor\":\"white\",\"ticks\":\"\"}},\"scene\":{\"xaxis\":{\"backgroundcolor\":\"#E5ECF6\",\"gridcolor\":\"white\",\"gridwidth\":2,\"linecolor\":\"white\",\"showbackground\":true,\"ticks\":\"\",\"zerolinecolor\":\"white\"},\"yaxis\":{\"backgroundcolor\":\"#E5ECF6\",\"gridcolor\":\"white\",\"gridwidth\":2,\"linecolor\":\"white\",\"showbackground\":true,\"ticks\":\"\",\"zerolinecolor\":\"white\"},\"zaxis\":{\"backgroundcolor\":\"#E5ECF6\",\"gridcolor\":\"white\",\"gridwidth\":2,\"linecolor\":\"white\",\"showbackground\":true,\"ticks\":\"\",\"zerolinecolor\":\"white\"}},\"shapedefaults\":{\"line\":{\"color\":\"#2a3f5f\"}},\"ternary\":{\"aaxis\":{\"gridcolor\":\"white\",\"linecolor\":\"white\",\"ticks\":\"\"},\"baxis\":{\"gridcolor\":\"white\",\"linecolor\":\"white\",\"ticks\":\"\"},\"bgcolor\":\"#E5ECF6\",\"caxis\":{\"gridcolor\":\"white\",\"linecolor\":\"white\",\"ticks\":\"\"}},\"title\":{\"x\":0.05},\"xaxis\":{\"automargin\":true,\"gridcolor\":\"white\",\"linecolor\":\"white\",\"ticks\":\"\",\"title\":{\"standoff\":15},\"zerolinecolor\":\"white\",\"zerolinewidth\":2},\"yaxis\":{\"automargin\":true,\"gridcolor\":\"white\",\"linecolor\":\"white\",\"ticks\":\"\",\"title\":{\"standoff\":15},\"zerolinecolor\":\"white\",\"zerolinewidth\":2}}}},                        {\"responsive\": true}                    ).then(function(){\n",
       "                            \n",
       "var gd = document.getElementById('eabeb242-6c34-4157-93b9-60c801d68e7d');\n",
       "var x = new MutationObserver(function (mutations, observer) {{\n",
       "        var display = window.getComputedStyle(gd).display;\n",
       "        if (!display || display === 'none') {{\n",
       "            console.log([gd, 'removed!']);\n",
       "            Plotly.purge(gd);\n",
       "            observer.disconnect();\n",
       "        }}\n",
       "}});\n",
       "\n",
       "// Listen for the removal of the full notebook cells\n",
       "var notebookContainer = gd.closest('#notebook-container');\n",
       "if (notebookContainer) {{\n",
       "    x.observe(notebookContainer, {childList: true});\n",
       "}}\n",
       "\n",
       "// Listen for the clearing of the current output cell\n",
       "var outputEl = gd.closest('.output');\n",
       "if (outputEl) {{\n",
       "    x.observe(outputEl, {childList: true});\n",
       "}}\n",
       "\n",
       "                        })                };                });            </script>        </div>"
      ]
     },
     "metadata": {},
     "output_type": "display_data"
    }
   ],
   "source": [
    "pca = PCA(n_components=3)\n",
    "pca_slugging = pca.fit_transform(slugging_point_cloud[27])\n",
    "plot_point_cloud(pca_slugging)"
   ]
  },
  {
   "cell_type": "code",
   "execution_count": null,
   "metadata": {},
   "outputs": [],
   "source": []
  }
 ],
 "metadata": {
  "kernelspec": {
   "display_name": "tda",
   "language": "python",
   "name": "tda"
  },
  "language_info": {
   "codemirror_mode": {
    "name": "ipython",
    "version": 3
   },
   "file_extension": ".py",
   "mimetype": "text/x-python",
   "name": "python",
   "nbconvert_exporter": "python",
   "pygments_lexer": "ipython3",
   "version": "3.8.2"
  }
 },
 "nbformat": 4,
 "nbformat_minor": 4
}
